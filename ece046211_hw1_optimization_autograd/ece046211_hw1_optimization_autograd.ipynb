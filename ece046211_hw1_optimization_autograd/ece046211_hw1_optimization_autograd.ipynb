{
 "cells": [
  {
   "cell_type": "markdown",
   "metadata": {
    "id": "dzV9wsJ5pGhf"
   },
   "source": [
    "# <img src=\"https://img.icons8.com/bubbles/50/000000/mind-map.png\" style=\"height:50px;display:inline\"> ECE 046211 - Technion - Deep Learning\n",
    "---\n",
    "\n",
    "## HW1 - Optimization and Automatic Differentiation\n",
    "---"
   ]
  },
  {
   "cell_type": "markdown",
   "metadata": {
    "id": "bq2c8X93pGhh"
   },
   "source": [
    "### <img src=\"https://img.icons8.com/clouds/96/000000/keyboard.png\" style=\"height:50px;display:inline\"> Keyboard Shortcuts\n",
    "---\n",
    "* Run current cell: **Ctrl + Enter**\n",
    "* Run current cell and move to the next: **Shift + Enter**\n",
    "* Show lines in a code cell: **Esc + L**\n",
    "* View function documentation: **Shift + Tab** inside the parenthesis or `help(name_of_module)`\n",
    "* New cell below: **Esc + B**\n",
    "* Delete cell: **Esc + D, D** (two D's)"
   ]
  },
  {
   "cell_type": "markdown",
   "metadata": {
    "id": "vZZybn3NpGhh"
   },
   "source": [
    "### <img src=\"https://img.icons8.com/bubbles/50/000000/information.png\" style=\"height:50px;display:inline\"> Students Information\n",
    "---\n",
    "* Fill in\n",
    "\n",
    "|Name     |Campus Email| ID  |\n",
    "|---------|--------------------------------|----------|\n",
    "|Student 1| student_1@campus.technion.ac.il| 123456789|\n",
    "|Student 2| student_2@campus.technion.ac.il| 987654321|\n"
   ]
  },
  {
   "cell_type": "markdown",
   "metadata": {
    "id": "dDK5zqhdpGhi"
   },
   "source": [
    "### <img src=\"https://img.icons8.com/bubbles/50/000000/upload-to-cloud.png\" style=\"height:50px;display:inline\"> Submission Guidelines\n",
    "---\n",
    "* Maximal garde: 100.\n",
    "* Submission only in **pairs**.\n",
    "    * Please make sure you have registered your group in Moodle (there is a group creation component on the Moodle where you need to create your group and assign members).\n",
    "* **No handwritten submissions.** You can choose whether to answer in a Markdown cell in this notebook or attach a PDF with your answers.\n",
    "* <a style='color:red'> SAVE THE NOTEBOOKS WITH THE OUTPUT, CODE CELLS THAT WERE NOT RUN WILL NOT GET ANY POINTS! </a>\n",
    "* What you have to submit:\n",
    "    * If you have answered the questions in the notebook, you should submit this file only, with the name: `ece046211_hw1_id1_id2.ipynb`.\n",
    "    * If you answered the questionss in a different file you should submit a `.zip` file with the name `ece046211_hw1_id1_id2.zip` with content:\n",
    "        * `ece046211_hw1_id1_id2.ipynb` - the code tasks\n",
    "        * `ece046211_hw1_id1_id2.pdf` - answers to questions.\n",
    "    * No other file-types (`.py`, `.docx`...) will be accepted.\n",
    "* Submission on the course website (Moodle).\n",
    "* **Latex in Colab** - in some cases, Latex equations may no be rendered. To avoid this, make sure to not use *bullets* in your answers (\"* some text here with Latex equations\" -> \"some text here with Latex equations\")."
   ]
  },
  {
   "cell_type": "markdown",
   "metadata": {
    "id": "pmSj_UufpGhi"
   },
   "source": [
    "### <img src=\"https://img.icons8.com/dusk/64/000000/online.png\" style=\"height:50px;display:inline\"> Working Online and Locally\n",
    "---\n",
    "* You can choose your working environment:\n",
    "    1. `Jupyter Notebook`, **locally** with <a href=\"https://www.anaconda.com/download\">Anaconda</a> or **online** on <a href=\"https://colab.research.google.com/\">Google Colab</a>\n",
    "        * Colab also supports running code on GPU, so if you don't have one, Colab is the way to go. To enable GPU on Colab, in the menu: `Runtime`$\\rightarrow$ `Change Runtime Type` $\\rightarrow$`GPU`.\n",
    "    2. Python IDE such as <a href=\"https://www.jetbrains.com/pycharm/\">PyCharm</a> or <a href=\"https://code.visualstudio.com/\">Visual Studio Code</a>.\n",
    "        * Both allow editing and running Jupyter Notebooks.\n",
    "\n",
    "* Please refer to `Setting Up the Working Environment.pdf` on the Moodle or our GitHub (https://github.com/taldatech/ee046211-deep-learning) to help you get everything installed.\n",
    "* If you need any technical assistance, please go to our Piazza forum (`hw1` folder) and describe your problem (preferably with images)."
   ]
  },
  {
   "cell_type": "markdown",
   "metadata": {
    "id": "nlp1Fp4ppGhj"
   },
   "source": [
    "### <img src=\"https://img.icons8.com/bubbles/50/000000/checklist.png\" style=\"height:50px;display:inline\"> Agenda\n",
    "---\n",
    "\n",
    "* [Part 1 - Theory](#-Part-1---Theory)\n",
    "    * [Q1 - Convergence of Gradient Descent](#-Question-1---Convergence-of-Gradient-Descent)\n",
    "    * [Q2 - Optimization and Gradient Descent](#-Question-2---Optimization-and-Gradient-Descent)\n",
    "    * [Q3 - Efficient Differentiation](#-Question-3---Efficient-Differentiation)\n",
    "    * [Q4 - Autodiff](#-Question-4----Automatic-Differentiation)\n",
    "    * [Q5 - Autodiff 2](#-Question-5----Automatic-Differentiation-2)\n",
    "* [Part 2 - Code Assignments](#-Part-2---Code-Assignments)\n",
    "    * [Task 1 - The Beale Function](#-Task-1---The-Beale-Function)\n",
    "    * [Task 2 - Building an Optimizer - Adam](#-Task-2---Building-an-Optimizer---Adam)\n",
    "    * [Task 3 - PyTorch Autograd](#-Task-3---PyTorch-Autograd)\n",
    "    * [Task 4 - Low Rank Matrix Factorization](#-Task-4---Low-Rank-Matrix-Factorization)\n",
    "* [Credits](#-Credits)"
   ]
  },
  {
   "cell_type": "markdown",
   "metadata": {
    "id": "XKtSiQX_pGhj"
   },
   "source": [
    "### <img src=\"https://img.icons8.com/cute-clipart/64/000000/ball-point-pen.png\" style=\"height:50px;display:inline\"> Part 1 - Theory\n",
    "---\n",
    "* You can choose whether to answser these straight in the notebook (Markdown + Latex) or use another editor (Word, LyX, Latex, Overleaf...) and submit an additional PDF file, **but no handwritten submissions**.\n",
    "* You can attach additional figures (drawings, graphs,...) in a separate PDF file, just make sure to refer to them in your answers.\n",
    "\n",
    "* $\\large\\LaTeX$ <a href=\"https://kapeli.com/cheat_sheets/LaTeX_Math_Symbols.docset/Contents/Resources/Documents/index\">Cheat-Sheet</a> (to write equations)\n",
    "    * <a href=\"http://tug.ctan.org/info/latex-refsheet/LaTeX_RefSheet.pdf\">Another Cheat-Sheet</a>"
   ]
  },
  {
   "cell_type": "markdown",
   "metadata": {
    "id": "RsqSFZG1pGhj"
   },
   "source": [
    "## <img src=\"https://img.icons8.com/clouds/100/000000/question-mark.png\" style=\"height:50px;display:inline\"> Question 1 - Convergence of Gradient Descent\n",
    "---\n",
    "Recall from the lecture notes:\n",
    "\n",
    "* **Definition**: A function $f$ is $\\beta$-smooth if: $$ \\forall w_1, w_2 \\in \\mathbb{R}^d: ||\\nabla f(w_1) - \\nabla f(w_2)|| \\leq \\beta ||w_1 -w_2|| $$\n",
    "* **Lemma**: If $f$ is $\\beta$-smooth then $$ f(w_1) -f(w_2) -\\nabla f(w_2)^T (w_1-w_2) \\leq \\frac{\\beta}{2} ||w_1-w_2||^2 $$\n",
    "\n",
    "Prove the lemma.\n",
    "\n",
    "Hints:\n",
    "* Represent $f$ as an integral: $f(x) − f(y) = \\int_0^1 \\nabla f(y + t(x-y))^T(x-y) dt $\n",
    "* Make use of Cauchy-Schwarz.\n",
    "\n",
    "---\n",
    "\n"
   ]
  },
  {
   "cell_type": "markdown",
   "metadata": {
    "id": "kou9c0FiYvV0"
   },
   "source": [
    "##Answer\n",
    "Starting from the RHS of the lemma:\n",
    "\n",
    "$$|f(w_1)-f(w_2)-\\nabla f(w_2)^T (w_1-w_2)| \\underset{\\text{Hint}}{=}$$\n",
    "\n",
    "$$|\\int_0^1 \\nabla f(w_2 + t(w_1-w_2))^T(w_1-w_2) dt - \\nabla f(w_2)^T (w_1-w_2)| =$$\n",
    "\n",
    "$$|(\\int_0^1\\nabla f(w_2 + t(w_1-w_2))^T - \\nabla f(w_2)^T) (w_1-w_2)dt| = $$\n",
    "\n",
    "$$|\\int_0^1(\\nabla f(w_2 + t(w_1-w_2)) - \\nabla f(w_2))^T (w_1-w_2)dt| \\underset{\\text{Cauchy-Schwarz}}{\\le} $$\n",
    "\n",
    "$$\\int_0^1(||\\nabla f(w_2+t(w_1-w_2)) - \\nabla f(w_2)|| \\cdot ||w_1-w_2||)dt \\underset{\\text{β-smooth}}{\\le}$$\n",
    "\n",
    "$$\\beta \\int_0^1(||(w_2+t(w_1-w_2)) - w_2|| \\cdot ||w_1-w_2||)dt =$$\n",
    "\n",
    "$$\\beta \\int_0^1(t||(w_1-w_2)||^2)dt =$$\n",
    "\n",
    "$$\\beta \\cdot ||(w_1-w_2)||^2 \\cdot \\int_0^1(t)dt =$$\n",
    "\n",
    "$$\\frac{\\beta}{2} \\cdot ||(w_1-w_2)||^2$$\n",
    "\n",
    "\n",
    "---\n",
    "\n"
   ]
  },
  {
   "cell_type": "markdown",
   "metadata": {
    "id": "PCb_MNJepGhk"
   },
   "source": [
    "## <img src=\"https://img.icons8.com/clouds/100/000000/question-mark.png\" style=\"height:50px;display:inline\"> Question 2 - Optimization and Gradient Descent\n",
    "---\n",
    "The function $f: \\mathbb{R}^d \\to \\mathbb{R}$ is infinitely continuously differentiable, and satisfies $\\min_{w \\in \\mathbb{R}^d} f(w)=f_{*}> -\\infty$.\n",
    "\n",
    "We wish to minimize this function using a version of Gradient Descent (GD) with step-size $\\eta$, where in each iteration the gradients are multiplied by matrix $A$ $$ (*)\\: w(t+1) = w(t) -\\eta A\\nabla f\\left(w(t) \\right).$$\n",
    "\n",
    "Matrix $A$ is symmetric and strictly positive (positive definite with strictly positive eigenvalues), i.e., $\\lambda_{min} \\triangleq \\lambda_{min}(A) >0$, and denote $\\lambda_{max} \\triangleq \\lambda_{max}(A)$.\n",
    "\n",
    "1. In section only assume that $f(w)=\\frac{1}{2}w^THw$, where $H$ is symmetric and strictly positive (positive definite with strictly positive eigenvalues). Find/choose $A$ and $\\eta$ such that the algorithm $(*)$ converges in minimal number of steps. Why is that choice is infeasible when $d$ is large? What is a common applicable approximation?\n",
    "2. Prove that Gradient Flow (i.e., GD in the limit $\\eta \\to 0$): $$ \\dot{w}(t)=-A\\nabla f \\left(w(t ) \\right) $$ converges to a critical point for all $f$ and $A$ that satisfy the conditions in the given question.\n",
    "    * **Hint**: from the properties of eigenvalues it satifies that $\\forall v\\in\\mathbb{R}^d: \\lambda_{min}||v||^2\\leq v^TAv\\leq \\lambda_{max}||v||^2$.\n",
    "3. Given that the function $f$ is $\\beta \\text{-smooth}$, find a condition on the step-size $\\eta$ such that we get convergence to a critical point in algorithm $(*)$. Prove convergence under this condition.\n",
    "    * **Hint**: for a $\\beta \\text{-smooth}$ function, one can write: $$ f\\left(w(t+1)\\right) -  f\\left(w(t)\\right) \\leq \\left(w(t+1) -w(t) \\right)^T\\nabla f\\left(w(t)\\right) + \\frac{\\beta}{2} ||w(t+1) -w(t) ||^2$$\n",
    "\n",
    "---\n",
    "\n"
   ]
  },
  {
   "cell_type": "markdown",
   "metadata": {
    "id": "vQyUo_CCXqKe"
   },
   "source": [
    "##Answers\n",
    "\n",
    "1.\n",
    "\n",
    "$f(w)=\\frac{1}{2}w^THw$, where $H$ is symmetric and strictly positive.\n",
    "$$\\underset{w∈\\mathbb{R}^d}{min}f(w)=f_*>-∞$$\n",
    "$$\\nabla{f(w)} = \\frac{1}{2}⋅2Hw = Hw $$\n",
    "\n",
    "$$w(t+1) = w(t) - ηA∇f(w(t)) \\underset{\\nabla{f(w)}=Hw}{⇒}$$\n",
    "$$ w(t+1) = w(t) - ηAHw(t) ⇒ w(t+1) = (I-ηAH)w(t)$$\n",
    "\n",
    "Choosing $A = H^{-1}$ and $η = 1$ will cause the algorithm to converge to $w(t) = 0$ after one step.\n",
    "\n",
    "This problem for larger $d$ is that the calculation of $A = H^{-1}$ becomes infeasible.\n",
    "\n",
    "Searching online, the Cholesky decomposition is a common approximation for inverting a symmetric strictly-positive matrix. This method decomposes the matrix $H$ into a lower triangular matrix $L$ such that $H = LL^T$, which can be efficiently used to solve linear systems and compute the matrix inverse.\n",
    "\n",
    "---\n",
    "\n"
   ]
  },
  {
   "cell_type": "markdown",
   "metadata": {
    "id": "9x2aA0TGvO7L"
   },
   "source": [
    "2.\n",
    "$$\\dot{f}(w(t)) = \\nabla{f(w(t))}^T \\dot{w}(t) = -\\nabla{f(w(t))}^T A\\nabla{f(w(t))} \\leq -\\lambda_{min(A)}||\\nabla f(w(t))||^2$$\n",
    "Since $\\lambda_{min(A)} > 0$:\n",
    "\n",
    "* $f(w(t))$ is bounded below by $f_*$\n",
    "$\\dot{f}(w(t)) \\leq 0$\n",
    "\n",
    "As $t \\to +\\infty$:\n",
    "\n",
    "* $\\lim_{t \\to +\\infty} f(w(t)) = f_*$\n",
    "* $\\lim_{t \\to +\\infty} \\dot{f}(w(t)) = 0$\n",
    "* $\\lim_{t \\to +\\infty} -\\lambda_{min(A)}||\\nabla f(w(t))||^2 = 0$\n",
    "\n",
    "Consequently, $\\lim_{t \\to +\\infty} ||\\nabla f(w(t))||^2 = 0$\n",
    "\n",
    "This implies that, $\\lim_{t \\to +\\infty} \\nabla f(w(t)) = 0$, proving convergence to a critical point.\n",
    "\n",
    "---\n",
    "\n",
    "\n"
   ]
  },
  {
   "cell_type": "markdown",
   "metadata": {
    "id": "QRSxSvhjbZg3"
   },
   "source": [
    "3.\n",
    "\n",
    "$f$ is a $\\beta$-smoothness function, then by the $\\beta$-smoothness property, for any iteration $t$:\n",
    "$$f(w(t+1)) - f(w(t)) \\leq -\\nabla f(w(t))^T A\\nabla f(w(t)) + \\frac{\\beta\\eta^2}{2} |\\nabla f(w(t))|^2$$\n",
    "\n",
    "Using the eigenvalue bounds of $A$, we know:\n",
    "$$\\lambda_{min}(A)|\\nabla f(w(t))|^2 \\leq \\nabla f(w(t))^T A\\nabla f(w(t)) \\leq \\lambda_{max}(A)|\\nabla f(w(t))|^2$$\n",
    "\n",
    "Rearranging the inequality from step 1:\n",
    "$$f(w(t+1)) - f(w(t)) \\leq -\\lambda_{min}(A)|\\nabla f(w(t))|^2 + \\frac{\\beta\\eta^2}{2}\\lambda_{max}(A^TA)|\\nabla f(w(t))|^2$$\n",
    "\n",
    "The convergence condition requires:\n",
    "$$\\frac{\\beta\\eta^2\\lambda_{max}(A^TA)}{2} - \\eta\\lambda_{min}(A) \\leq 0$$\n",
    "\n",
    "This leads to the step-size constraint:\n",
    "$$0 < \\eta \\leq \\frac{2\\lambda_{min}(A)}{\\beta\\lambda_{max}(A^TA)}$$\n",
    "\n",
    "\n",
    "Define a function $\\Phi(t) = f(w(t)) - f_*$, where $f_*$ is the minimum value of $f$.\n",
    "\n",
    "From the inequality in step 3, we can derive:\n",
    "$$\\Phi(t+1) - \\Phi(t) \\leq -C|\\nabla f(w(t))|^2, C>0$$\n",
    "\n",
    "Summing this inequality from $0$ to $T-1$:\n",
    "$$\\Phi(T) - \\Phi(0) \\leq -C\\sum_{t=0}^{T-1}|\\nabla f(w(t))|^2$$\n",
    "\n",
    "Since $\\Phi(t)$ is bounded below by zero and $\\Phi(0)$ is finite:\n",
    "$$\\sum_{t=0}^{T-1}|\\nabla f(w(t))|^2 \\leq \\frac{\\Phi(0)}{C}$$\n",
    "\n",
    "This implies:\n",
    "$$\\lim_{t \\to \\infty} |\\nabla f(w(t))|^2 = 0$$\n",
    "\n",
    "Therefore, the algorithm converges to a critical point."
   ]
  },
  {
   "cell_type": "markdown",
   "metadata": {
    "id": "zrwtFlVypDnd"
   },
   "source": [
    "## <img src=\"https://img.icons8.com/clouds/100/000000/question-mark.png\" style=\"height:50px;display:inline\"> Question 3 - Efficient Differentiation\n",
    "---\n",
    "We wish to optimize a loss function $\\mathcal{L}\\left(\\mathbf{w}\\right)$ for  $\\mathbf{w}\\in\\mathbb{R}^{d}$ using Gradient Descent (GD) with some step size schedule $\\eta_{t}$\n",
    "\\begin{equation}\n",
    "(1)\\:\\: \\forall t=1,2,..:\\mathbf{w}\\left(t\\right)=\\mathbf{w}\\left(t-1\\right)-\\eta_{t}\\nabla\\mathcal{L}\\left(\\mathbf{w}\\left(t-1\\right)\\right)\n",
    "\\end{equation}\n",
    "initialized from some $\\mathbf{w}\\left(0\\right)$.\n",
    "We would like to learn the best step size schedule using GD. **Hint**: throughout this question, you should use the *chain rule*.\n",
    "\n",
    "1. Suppose we can consider each $\\eta_{t}$ as a separate parameter for each $t$. We initialize this parameter with $\\eta_{0}$ and update $\\eta_{t-1}$ with a GD step on $\\mathcal{L}\\left(\\mathbf{w}\\left(t-1\\right)\\right)$\n",
    "\\begin{equation}\n",
    "(2)\\:\\:\\eta_{t}=\\eta_{t-1}-\\alpha_{t}\\frac{\\partial\\mathcal{L}\\left(\\mathbf{w}\\left(t-1\\right)\\right)}{\\partial\\eta_{t-1}}\n",
    "\\end{equation} for every step of eq. $(1)$, where $\\alpha_{t}$ is the another step size. Calculate $\\partial\\mathcal{L}\\left(\\mathbf{w}\\left(t-1\\right)\\right)/\\partial\\eta_{t-1}$ as a function of the loss gradients $\\nabla\\mathcal{L}\\left(\\mathbf{w}\\left(t-1\\right)\\right)$ and $\\nabla\\mathcal{L}\\left(\\mathbf{w}\\left(t-2\\right)\\right)$.\n",
    "2. Now suppose we want to similarly update $\\alpha_{t-1}$ using GD step on $\\mathcal{L}\\left(\\mathbf{w}\\left(t-1\\right)\\right)$ every step of eq. $(2)$ with update step $\\kappa_{t}$\n",
    "\\begin{equation}\n",
    "\\alpha_{t}=\\alpha_{t-1}-\\kappa_{t}\\frac{\\partial\\mathcal{L}\\left(\\mathbf{w}\\left(t-1\\right)\\right)}{\\partial\\alpha_{t-1}}\\,.\n",
    "\\end{equation} Calculate $\\partial\\mathcal{L}\\left(\\mathbf{w}\\left(t-1\\right)\\right)/\\partial\\alpha_{t-1}$ as a function of $\\left\\{ \\nabla\\mathcal{L}\\left(\\mathbf{w}\\left(t-k\\right)\\right)\\right\\} _{k=1}^{3}$.\n",
    "3. Now we wish to update $\\left(\\eta_{t-1},\\eta_{t-2}\\right)$ by doing a GD step on $\\mathcal{L}\\left(\\mathbf{w}\\left(t-1\\right)\\right)$\n",
    "\\begin{equation}\n",
    "(3)\\:\\:\\left(\\eta_{t+1},\\eta_{t}\\right)=\\left(\\eta_{t-1},\\eta_{t-2}\\right)-\\alpha_{t}\\left(\\frac{\\partial\\mathcal{L}\\left(\\mathbf{w}\\left(t-1\\right)\\right)}{\\partial\\eta_{t-1}},\\frac{\\partial\\mathcal{L}\\left(\\mathbf{w}\\left(t-1\\right)\\right)}{\\partial\\eta_{t-2}}\\right)\n",
    "\\end{equation} every two steps of eq. $(1)$. Calculate the derivative $\\frac{\\partial\\mathcal{L}\\left(\\mathbf{w}\\left(t-1\\right)\\right)}{\\partial\\eta_{t-2}}$  as a function of $\\eta_{t-1}$, $\\left\\{ \\nabla\\mathcal{L}\\left(\\mathbf{w}\\left(t-k\\right)\\right)\\right\\} _{k=1}^{3}$, and $\\nabla^{2}\\mathcal{L}\\left(\\mathbf{w}\\left(t-2\\right)\\right)$.\n",
    "4. Now we wish again to update $\\left(\\eta_{t},\\eta_{t+1},...,\\eta_{t+T}\\right)$ by doing a GD step on $\\mathcal{L}\\left(\\mathbf{w}\\left(t-1\\right)\\right)$ every $T$ steps of eq. $(1)$\n",
    "\\begin{equation}\n",
    "(4)\\:\\:\\left(\\eta_{t+T},...,\\eta_{t}\\right)=\\left(\\eta_{t-1},...,\\eta_{t-1-T}\\right)-\\alpha_{t}\\left(\\frac{\\partial\\mathcal{L}\\left(\\mathbf{w}\\left(t-1\\right)\\right)}{\\partial\\eta_{t-1}},...,\\frac{\\partial\\mathcal{L}\\left(\\mathbf{w}\\left(t-1\\right)\\right)}{\\partial\\eta_{t-1-T}}\\right)\n",
    "\\end{equation} Calculate the derivative $\\frac{\\partial\\mathcal{L}\\left(\\mathbf{w}\\left(t-1\\right)\\right)}{\\partial\\eta_{t-\\tau}}$ as a function of $\\left\\{ \\eta_{t-k},\\nabla^{2}\\mathcal{L}\\left(\\mathbf{w}\\left(t-k-1\\right)\\right)\\right\\} _{k=1}^{\\tau-1}$, $\\nabla\\mathcal{L}\\left(\\mathbf{w}\\left(t-1\\right)\\right)$ and $\\nabla\\mathcal{L}\\left(\\mathbf{w}\\left(t-\\tau-1\\right)\\right)$.\n",
    "5. Compare this approach (eq. $(4)$ with $T>1$) to the first one (eq. $(2)$). Name one advantage for each approach.\n",
    " Hints: Think of computional complexity, ease of optimization, suitability\n",
    " of the objective.\n",
    "\n",
    "---\n",
    "\n"
   ]
  },
  {
   "cell_type": "markdown",
   "metadata": {
    "id": "JMp_Y2u4f1Nb"
   },
   "source": [
    "##Asnwers\n",
    "\n",
    "1.\n",
    "\n",
    "$$\\frac{∂\\mathcal{L}(w(t-1))}{∂η_{t-1}} \\underset{\\text{chain-rule}}{=} \\frac{∂\\mathcal{L}(w(t-1))}{∂w(t-1)}\\cdot \\frac{∂w(t-1)}{∂η_{t-1}} = ∇\\mathcal{L}(w(t-1))\\cdot \\frac{∂w(t-1)}{∂η_{t-1}}$$\n",
    "\n",
    "deriving the GD update rule by $η_{t-1}$ to find $\\frac{∂w(t-1)}{∂η_{t-1}}$:\n",
    "$$w(t-1) = w(t-2) - η_{t-1}∇\\mathcal{L}(w(t-2)) ⇒$$\n",
    "$$\\frac{∂w(t-1)}{∂η_{t-1}} = -∇\\mathcal{L}(w(t-2))$$\n",
    "\n",
    "then:\n",
    "$$\\frac{∂\\mathcal{L}(w(t-1))}{∂η_{t-1}} = -∇\\mathcal{L}(w(t-1))∇\\mathcal{L}(w(t-2))$$"
   ]
  },
  {
   "cell_type": "markdown",
   "metadata": {
    "id": "xsj2M0_DkMSB"
   },
   "source": [
    "2.\n",
    "$$\\frac{\\partial \\mathcal{L}(w(t-1))}{\\partial \\alpha_{t-1}} \\underset{\\text{chain-rule}}{=} \\frac{\\partial \\mathcal{L}(w(t-1))}{\\partial w(t-1)} \\cdot \\frac{\\partial w(t-1)}{\\partial \\eta_{t-1}}\\cdot \\frac{\\partial \\eta_{t-1}}{\\partial \\alpha_{t-1}}$$\n",
    "\n",
    "driving the GD update rule by $\\alpha_{t-1}$ to find $\\frac{\\partial \\eta_{t-1}}{\\partial \\alpha_{t-1}}$:\n",
    "\n",
    "$$\\eta_{t-1}=\\eta_{t-2}-\\alpha_{t-1}\\frac{\\partial\\mathcal{L}\\left(\\mathbf{w}\\left(t-2\\right)\\right)}{\\partial\\eta_{t-2}}$$\n",
    "\n",
    "$$\\frac{\\partial \\eta_{t-1}}{\\partial \\alpha_{t-1}} = -\\frac{\\partial\\mathcal{L}\\left(\\mathbf{w}\\left(t-2\\right)\\right)}{\\partial\\eta_{t-2}} \\underset{\\text{section-1}}{=} -∇\\mathcal{L}(w(t-2))\\cdot ∇\\mathcal{L}(w(t-3))$$\n",
    "\n",
    "then:\n",
    "$$\\frac{\\partial \\mathcal{L}(w(t-1))}{\\partial \\alpha_{t-1}} = ∇\\mathcal{L}(w(t-1)) \\cdot (-∇\\mathcal{L}(w(t-1))\\cdot∇\\mathcal{L}(w(t-2)))\\cdot(-∇\\mathcal{L}(w(t-2))\\cdot∇\\mathcal{L}(w(t-3))) ⇒ $$\n",
    "\n",
    "$$\\frac{\\partial \\mathcal{L}(w(t-1))}{\\partial \\alpha_{t-1}} = ∇\\mathcal{L}(w(t-1))^2\\cdot ∇\\mathcal{L}(w(t-2))^2\\cdot ∇\\mathcal{L}(w(t-3))^2$$"
   ]
  },
  {
   "cell_type": "markdown",
   "metadata": {
    "id": "heNcdNDMpJGc"
   },
   "source": []
  },
  {
   "cell_type": "markdown",
   "metadata": {
    "id": "2S8N7eZnoD0M"
   },
   "source": [
    "3.\n",
    "$$\\frac{\\partial \\mathcal{L}(w(t-1))}{\\partial \\eta_{t-2}} \\underset{\\text{chain-rule}}{=} \\frac{\\partial \\mathcal{L}(w(t-1))}{\\partial w(t-1)}\\cdot \\frac{\\partial w(t-1)}{\\partial w(t-2)}\\cdot \\frac{\\partial w(t-2)}{\\partial \\eta_{t-2}} $$\n",
    "\n",
    "deriving the GD update rule by $w(t-2)$ to find $\\frac{\\partial w(t-1)}{\\partial w(t-2)}$:\n",
    "\n",
    "$$w(t-1) = w(t-2) - η_{t-1}∇L(w(t−2))$$\n",
    "\n",
    "$$\\frac{\\partial w(t-1)}{\\partial w(t-2)} = 1 - η_{t-1}∇^2L(w(t−2))$$\n",
    "\n",
    "according to section-1:\n",
    "$$\\frac{∂\\mathcal{L}(w(t−1))}{∂w(t−1)} = ∇\\mathcal{L}(w(t−1))$$\n",
    "$$\\frac{∂w(t−2)}{∂η_{t−2}}=−∇L(w(t−3))$$\n",
    "\n",
    "then:\n",
    "$$\\frac{\\partial \\mathcal{L}(w(t-1))}{\\partial \\eta_{t-2}} = (∇\\mathcal{L}(w(t−1))\\cdot (1 - η_{t-1}∇^2L(w(t−2))) \\cdot (−∇L(w(t−3))))$$\n"
   ]
  },
  {
   "cell_type": "markdown",
   "metadata": {
    "id": "Up8IIBwkr3h5"
   },
   "source": [
    "4.\n",
    "\n",
    "similarly to section-3:\n",
    "$$\\frac{\\partial \\mathcal{L}(w(t-1))}{\\partial \\eta_{t-τ}} \\underset{\\text{chain-rule}}{=} \\frac{\\partial \\mathcal{L}(w(t-1))}{\\partial w(t-1)}\\cdot \\frac{\\partial w(t-1)}{\\partial w(t-2)}\\cdots \\frac{\\partial w(t-(\\tau-1))}{\\partial w(t-\\tau)}\\cdot\\frac{\\partial w(t-τ)}{\\partial \\eta_{t-τ}}$$\n",
    "\n",
    "relying on sections 1 and 3:\n",
    "$$\\frac{∂\\mathcal{L}(w(t−1))}{∂w(t−1)} = ∇\\mathcal{L}(w(t−1))$$\n",
    "$$\\frac{∂w(t−\\tau)}{∂η_{t−\\tau}}=−∇L(w(t−(\\tau+1))$$\n",
    "$$\\frac{\\partial w(t-k)}{\\partial w(t-(k+1))} = 1 - η_{t-k}∇L(w(t−(k+1))), ∀k∈[1, \\tau-1]$$\n",
    "\n",
    "then:\n",
    "\n",
    "$$\\frac{\\partial \\mathcal{L}(w(t-1))}{\\partial \\eta_{t-τ}} = ∇\\mathcal{L}(w(t−1))\\cdot ∏_{k=1}^{\\tau-1}(1 - η_{t-k}∇L(w(t−(k+1)))) \\cdot (−∇L(w(t−(\\tau+1)))) $$"
   ]
  },
  {
   "cell_type": "markdown",
   "metadata": {
    "id": "op5KIObuwwDq"
   },
   "source": [
    "5.\n",
    "\n",
    "The approach from section-2 ($\\alpha$ update) is a simplier approach which has low computational complexity ($O(1)$) because only the current and two previous gradients are involved. In contrat, the approach from section-4 ($\\eta$ update) has higher computational complexity of $O(\\tau)$, where $\\tau$ is the look-back window, due to the product of terms over multiple previous iterations.\n",
    "\n",
    "The increased computational complexity of the η update approach allows it to be more adaptive and capture more significant optimization trajectories. This is achieved by performing a dynamic product of past gradients and learning rates, which provides more flexibility in tracking the optimization landscape."
   ]
  },
  {
   "cell_type": "markdown",
   "metadata": {
    "id": "TVF9OJWWpGhl"
   },
   "source": [
    "## <img src=\"https://img.icons8.com/clouds/100/000000/question-mark.png\" style=\"height:50px;display:inline\"> Question 4 -  Automatic Differentiation\n",
    "---\n",
    "\n",
    "Consider the following function: $$ y = \\exp(x_1 + x_2^3)x_3 +\\sqrt{x_3\\sin\\left(\\frac{\\pi}{2}(x_1 - x_2)\\right)} $$\n",
    "\n",
    "1. Write this function as a computational graph with *at least* 2 internal variables (you can draw the graph by hand and attach the drawing as an image file).\n",
    "2. Use **forward mode autodiff** to calculate $\\frac{\\partial y}{\\partial x_1}$ at $(x_1, x_2, x_3) = (2, 1, 1)$.\n",
    "3. Use **backward mode autodiff** to calculate $\\frac{\\partial y}{\\partial x_2}$ at $(x_1, x_2, x_3) = (2, 1, 1)$.\n",
    "4. Use **numerical differentiation** to calculate $\\frac{\\partial y}{\\partial x_3}$ at $(x_1, x_2, x_3) = (1, 1, 1)$. Which method for differentiation will you use? What will be the step size (assume the numerical precision $\\epsilon = 0.0001$)?\n",
    "5. Describe the advantages and disadvantages for each method (forward, backward and numerical) for a general function.\n",
    "\n",
    "---\n"
   ]
  },
  {
   "cell_type": "markdown",
   "metadata": {
    "id": "oiKncvtAZSXU"
   },
   "source": [
    "## Answers:\n",
    "###1.\n",
    "The following is a computational graph of the function described above:\n",
    "\n",
    "![046211_hw1_q4_1.jpg](data:image/jpeg;base64,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)\n",
    "\n",
    "\n",
    "---\n",
    "\n"
   ]
  },
  {
   "cell_type": "markdown",
   "metadata": {
    "id": "ZHbWHmyG6euq"
   },
   "source": [
    "\n",
    "###2.\n",
    "  Using **forward mode autodiff** to calculate $\\frac{\\partial y}{\\partial x_1}$ at $(x_1, x_2, x_3) = (2, 1, 1)$:\n",
    "\n",
    "  $$v_{-2} = x_1 = 2, v_{-1} = x_2 = 1, v_{0} = x_3 = 1$$\n",
    "\n",
    "  $$\\dot{v}_{-2} = \\dot{x}_1 = 1, \\dot{v}_{-1} = \\dot{x}_2 = 0, \\dot{v}_{0} = \\dot{x}_3 = 0 $$\n",
    "\n",
    "  $$v_1 = v_{-2} + v_{-1}^3 ⇒ \\frac{\\partial v_1}{\\partial x_1} = \\frac{\\partial(v_{-2} + v_{-1}^3)}{dx_1} = \\frac{\\partial(x_1 + x_2^3)}{\\partial x_1} = 1$$\n",
    "\n",
    "  $$v_2 = \\frac{\\pi}{2}(v_{-2} - v_{-1}) = \\frac{\\pi}{2}(x_1 - x_2) ⇒ \\frac{\\partial v_2}{\\partial x_1} = \\frac{\\partial \\frac{\\pi}{2}(x_1-x_2)}{\\partial x_1} = \\frac{\\pi}{2}$$\n",
    "\n",
    "  $$v_3 = \\exp(v_1) = \\exp(x_1+x_2^3) ⇒ \\frac{\\partial v_3}{\\partial x_1} = \\frac{\\partial v_3}{\\partial v_1}\\cdot \\frac{\\partial v_1}{\\partial x_1} = \\frac{\\partial \\exp(v_1)}{v_1} \\cdot 1 = \\exp(v_1) = \\exp(x_1 + x_2^3) = \\exp(3)$$\n",
    "\n",
    "  $$v_4 = \\sin(v_2) = \\sin(\\frac{\\pi}{2}(x_1 - x_2)) ⇒ \\frac{\\partial v_4}{\\partial x_1} = \\frac{\\partial \\sin(v_2)}{\\partial x_1} = \\frac{\\partial \\sin(v_2)}{\\partial v_2} \\cdot \\frac{v_2}{x_1} = cos(v_2)\\cdot \\frac{\\pi}{2} = \\cos(\\frac{\\pi}{2}(x_1-x_2))\\frac{\\pi}{2} = 0$$\n",
    "\n",
    "  $$v_5 = v_3 \\cdot v_0 = \\exp(x_1+x_2^3) \\cdot x_3 ⇒ \\frac{\\partial v_5}{\\partial x_1} = \\frac{\\partial (v_3 \\cdot v_0)}{\\partial x_1} = \\frac{\\partial v_3}{\\partial x_1}\\cdot v_0 + \\frac{\\partial v_0}{\\partial x_1} \\cdot v_3 = \\exp(x_1 + x_2^3)\\cdot x_3 = \\exp(3)$$\n",
    "\n",
    "  $$ v_6 = v_4 \\cdot v_0 ⇒ \\frac{\\partial v_6}{\\partial x_1} = \\frac{\\partial v_4 \\cdot v_0}{\\partial x_1} = \\frac{\\partial v_4}{\\partial x_1} \\cdot v_0 + \\frac{\\partial v_0}{\\partial x_1} \\cdot v_4 = 0$$\n",
    "\n",
    "  $$ v_7 = \\sqrt{v_6} ⇒ \\frac{\\partial v_7}{\\partial x_1} = \\frac{\\partial v_7}{\\partial v_6} \\cdot \\frac{\\partial v_6}{\\partial x_1} = \\frac{1}{2\\sqrt{v_6}} \\cdot 0 = 0$$\n",
    "\n",
    "  $$ y = v_5 + v_7 ⇒ \\frac{\\partial y}{\\partial x_1} = \\frac{\\partial v_5 + v_7}{\\partial x_1} = \\exp(3)$$\n",
    "\n",
    "  Therefore:\n",
    "\n",
    "  $$ \\frac{\\partial y}{\\partial x_1} |_{(x_1,x_2,x_3) = (2,1,1)} = \\exp(3)$$\n",
    "\n",
    "---\n",
    "\n",
    "\n"
   ]
  },
  {
   "cell_type": "markdown",
   "metadata": {
    "id": "uA0JcNyhB0Iw"
   },
   "source": [
    "###3.\n",
    "Using **backward mode autodiff** to calculate $\\frac{\\partial y}{\\partial x_2}$ at $(x_1, x_2, x_3) = (2, 1, 1)$:\n",
    "\n",
    "According to the computentional graph from (1):\n",
    "\n",
    "Forward Primal Trace:\n",
    "$$v_{-2} = x_1 = 2, v_{-1} = x_2 = 1, v_{0} = x_3 = 1$$\n",
    "\n",
    "$$v_1 = v_{-2} + v_{-1}^3 = x_1 + x_2^3 = 3, v_2 = \\frac{\\pi}{2}(v_{-2}-v_{-1}) = \\frac{\\pi}{2}(x_1-x_2) = \\frac{\\pi}{2} $$\n",
    "\n",
    "$$ v_3 = \\exp(v_1) = \\exp(3), v_4 = \\sin(v_2) = \\sin(\\frac{\\pi}{2}) = 1$$\n",
    "\n",
    "$$ v_5 = v_4 \\cdot v_0 = 1, v_6 = v_3 \\cdot v_0 = \\exp(3) \\cdot 1 = \\exp(3), v_7 = \\sqrt{v_5} = 1$$\n",
    "\n",
    "$$ y = v_8 = v_6 + v_7 = \\exp(3) + 1 $$\n",
    "\n",
    "Reverse Adjoint (Derivative) Trace:\n",
    "\n",
    "Define: $ \\bar{v}_i = \\frac{\\partial y}{\\partial v_i} = \\frac{\\partial v_{m+1}}{\\partial v_i} $\n",
    "$$ \\bar{v}_8 = \\bar{y} = 1 $$\n",
    "\n",
    "$$ \\bar{v}_7 = \\bar{v}_8\\frac{\\partial v_8}{\\partial v_7} = \\bar{v}_8\\cdot 1 = 1$$\n",
    "\n",
    "$$ \\bar{v}_6 = \\bar{v}_8\\frac{\\partial v_8}{\\partial v_6} = \\bar{v}_8\\cdot 1 = 1$$\n",
    "\n",
    "$$ \\bar{v}_5 = \\bar{v}_7\\frac{\\partial v_7}{\\partial v_5} = \\bar{v}_7\\cdot \\frac{1}{2\\sqrt{v_5}} = \\frac{1}{2}$$\n",
    "\n",
    "$$ \\bar{v}_4 = \\bar{v}_5\\frac{\\partial v_5}{\\partial v_4} = \\bar{v}_5\\cdot 1 = \\frac{1}{2} $$\n",
    "\n",
    "$$ \\bar{v}_3 = \\bar{v}_6\\frac{\\partial v_6}{\\partial v_3} = \\bar{v}_6\\cdot 1 = 1 $$\n",
    "\n",
    "$$ \\bar{v}_2 = \\bar{v}_4\\frac{\\partial v_4}{\\partial v_2} = \\bar{v}_4\\cdot \\cos{v_2} = \\frac{1}{2}\\cdot \\cos({\\frac{\\pi}{2}}) = 0$$\n",
    "\n",
    "$$ \\bar{v}_1 = \\bar{v}_3\\frac{\\partial v_3}{\\partial v_1} = \\bar{v_3}\\cdot \\exp({v_1}) = \\exp({3})$$\n",
    "\n",
    "$$ \\bar{v}_0 = \\bar{v}_5\\frac{\\partial v_5}{\\partial v_0} + \\bar{v_6}\\frac{\\partial v_6}{\\partial v_0} = \\frac{1}{2}\\cdot1+ 1\\cdot1 = \\frac{3}{2}  $$\n",
    "\n",
    "$$ \\bar{v}_{-1} = \\bar{v}_2\\frac{\\partial v_2}{\\partial v_{-1}} + \\bar{v}_1\\frac{\\partial v_1}{\\partial v_{-1}} = 0 + \\bar{v}_1\\cdot3 = 3\\exp({3})$$\n",
    "\n",
    "$$ \\bar{v}_{-2} =  \\bar{v}_2\\frac{\\partial v_2}{\\partial v_{-2}} + \\bar{v_1}\\frac{\\partial v_1}{\\partial v_{-2}} = 0 + \\bar{v}_1\\cdot{1} = \\exp(3)$$\n",
    "\n",
    "Therefore:\n",
    "\n",
    "$$ \\frac{\\partial y}{\\partial x_2} \\underset{\\bar{v}_i}{=} \\frac{\\partial y}{\\partial v_{-1}} = 3\\exp(3)$$\n",
    "\n",
    "\n",
    "---\n",
    "\n"
   ]
  },
  {
   "cell_type": "markdown",
   "metadata": {
    "id": "83jtgEqQB6uT"
   },
   "source": [
    "###4.\n",
    "Using **numerical differentiation** to calculate $\\frac{\\partial y}{\\partial x_3}$ at $(x_1, x_2, x_3) = (1, 1, 1)$:\n",
    "\n",
    "We will use the central difference method due to its small truncation error ($O(h^2)$, second order accurate) and it has more accurate approximation.\n",
    "\n",
    "The step size we chose is $h = ϵ = 0.0001$ due to the assumption of the numerical approximation.\n",
    "\n",
    "Therefore, by center difference definition:\n",
    "$$\\frac{\\partial y}{\\partial x_3} \\approx \\frac{f(x_1, x_2, x_3 + h) - f(x_1, x_2, x_3 - h)}{2h}$$\n",
    "\n",
    "$$ f(x1,x2,x3) = \\exp(x_1 + x_2^3)x_3 +\\sqrt{x_3\\sin\\left(\\frac{\\pi}{2}(x_1 - x_2)\\right)} $$\n",
    "\n",
    "$$\\frac{\\partial y}{\\partial x_3} \\approx \\frac{f(1,1,1+0.0001) - f(1,1,1-0.0001)}{2(0.0001)}$$\n",
    "\n",
    "* $f(1,1,1+0.0001)$:\n",
    "$\\exp(1+1^3)(1+0.0001) + \\sqrt{(1+0.0001)\\sin\\left(\\frac{\\pi}{2}(1-1)\\right)}$\n",
    "= $\\exp(2)(1.0001) + \\sqrt{(1.0001)\\sin(0)}$\n",
    "= $7.389 \\times 1.0001 + 0$\n",
    "≈ 7.389\n",
    "\n",
    "* $f(1,1,1-0.0001)$:\n",
    "$\\exp(1+1^3)(1-0.0001) + \\sqrt{(1-0.0001)\\sin\\left(\\frac{\\pi}{2}(1-1)\\right)}$\n",
    "= $\\exp(2)(0.9999) + \\sqrt{(0.9999)\\sin(0)}$\n",
    "= $7.389 \\times 0.9999 + 0$\n",
    "≈ 7.388\n",
    "\n",
    "\n",
    "Therefore:\n",
    "$$\\frac{\\partial y}{\\partial x_3} \\approx \\frac{7.389 - 7.388}{2(0.0001)} = 5$$\n",
    "\n",
    "---\n",
    "\n",
    "\n"
   ]
  },
  {
   "cell_type": "markdown",
   "metadata": {
    "id": "iCdYBuF4Dddx"
   },
   "source": [
    "###5.\n",
    "The following table summarize the comparations between Forward-Mode, Backward-Mode and Central Differentiations:\n",
    "\n",
    "|Method   | Advantages | Disadvantages |\n",
    "|---------|----------|-----------|\n",
    "|Forward Mode Difference|Simple to implement, for any additional output the additional required number of steps is just 1 in complexity terms.|Less accurate, prone to floating-point errors for small $h$. For any additional input, we need to perform the whole computation again, may be expensive computationally as the input dimension grows.|\n",
    "|Backward Mode Difference|Simple to compute, works well at dataset boundaries. For any additional input the additional required number of steps is just 1 in complexity terms.|Less accurate, depends on prior values. For any additional output, we need to perform the whole computation again.|\n",
    "|Central Difference|Higher accuracy due to second-order error; uses values on both sides of $x$ for better balance.|Requires more computations, not directly usable at boundries.|\n",
    "\n",
    "---\n",
    "\n",
    "\n"
   ]
  },
  {
   "cell_type": "markdown",
   "metadata": {
    "id": "v0Jy61COpDne"
   },
   "source": [
    "## <img src=\"https://img.icons8.com/clouds/100/000000/question-mark.png\" style=\"height:50px;display:inline\"> Question 5 -  Automatic Differentiation 2\n",
    "---\n",
    "Write down the chain rule in the dual numbers representation for the following: $$ f(g(h(x + \\epsilon x'))) $$ What is $ \\frac{df(x)}{dx} $?\n",
    "\n",
    "\n",
    "\n",
    "\n"
   ]
  },
  {
   "cell_type": "markdown",
   "metadata": {
    "id": "mhQjBZX_sSvY"
   },
   "source": [
    "##Answer\n",
    "Recalling from the lecture:\n",
    "> ϵ is nilpotent number iff $\\epsilon^2 = 0$.\n",
    "\n",
    "The definition of dual number is:\n",
    "> $v + \\dot{v}\\epsilon $ where $v, \\dot{v} \\in \\Re$\n",
    "\n",
    "From Taylor expansion, for any smooth function:\n",
    "> $f(v + \\dot{v}\\epsilon)=f(v)+f'(v)\\dot{v}\\epsilon$\n",
    "That due to the fact that ϵ is a nilpotent number then $\\epsilon^k = 0 $ where $2 < k \\in ℕ$\n",
    "\n",
    "Working from the inside out:\n",
    "$$h(x+\\epsilon x) = h(x) + h'(x)x'\\epsilon$$\n",
    "$$g(h(x+\\epsilon x)) = g(h(x) + h'(x)x'\\epsilon) = g(h(x)) + g'(h(x))h'(x)x'\\epsilon$$\n",
    "$$f(g(h(x+\\epsilon x))) = f(g(h(x)) + g'(h(x))h'(x)) = f(g(h(x))) + f'(g(h(x)))g'(h(x))h'(x)x'\\epsilon$$\n",
    "\n",
    "Therefore:\n",
    "\n",
    "$$\n",
    "\\frac{df(x)}{dx} = f'(g(h(x)))g'(h(x))h'(x)\n",
    "$$\n",
    "\n",
    "$\\frac{df(x)}{dx}$ is the epsilon-coeffient of the dual-version(f)(v+1ϵ).\n",
    "\n",
    "---"
   ]
  },
  {
   "cell_type": "markdown",
   "metadata": {
    "id": "7D-14iM7pGhm"
   },
   "source": [
    "### <img src=\"https://img.icons8.com/officel/80/000000/code.png\" style=\"height:50px;display:inline\"> Part 2 - Code Assignments\n",
    "---\n",
    "* You must write your code in this notebook and save it with the output of aall of the code cells.\n",
    "* Additional text can be added in Markdown cells.\n",
    "* You can use any other IDE you like (PyCharm, VSCode...) to write/debug your code, but for the submission you must copy it to this notebook, run the code and save the notebook with the output."
   ]
  },
  {
   "cell_type": "code",
   "execution_count": null,
   "metadata": {
    "id": "bya0qUGYpGhm"
   },
   "outputs": [],
   "source": [
    "# imports for the practice (you can add more if you need)\n",
    "import os\n",
    "import numpy as np\n",
    "import pandas as pd\n",
    "import torch\n",
    "import matplotlib.pyplot as plt\n",
    "from mpl_toolkits.mplot3d import Axes3D\n",
    "from matplotlib.colors import LogNorm\n",
    "from sklearn.datasets import load_iris\n",
    "seed = 211\n",
    "np.random.seed(seed)\n",
    "torch.manual_seed(seed)\n",
    "# %matplotlib notebook\n",
    "%matplotlib inline"
   ]
  },
  {
   "cell_type": "markdown",
   "metadata": {
    "id": "HC-UE1cNpGhn"
   },
   "source": [
    "### <img src=\"https://img.icons8.com/color/48/000000/code.png\" style=\"height:50px;display:inline\"> Task 1 - The Beale Function\n",
    "---\n",
    "The Beale function is defined as follows: $$ f(x, y) = (1.5 - x + xy)^{2} + (2.25 - x + xy^{2})^{2} + (2.625 - x +xy^{3})^{2}$$\n",
    "\n",
    "1. What is the global minima of this function?\n",
    "2. Implement the Beale function: `beale_f(x,y)`.\n",
    "3. Implement a function, `beale_grads(x,y)` that returns the gradients of the Beale function.\n",
    "4. 3D plot the Beale function wit the global minima you found. Use Matplotlib's `ax.plot_surface(x_mesh, y_mesh, z, norm=LogNorm(), rstride=1, cstride=1, edgecolor='none', alpha=.8, cmap=plt.cm.jet)` for the function, and `ax.plot(x, y, f(x, y), 'r*', markersize=20)` for the minima.\n",
    "4. 2D plot the contours with `ax.contour(x_mesh, y_mesh, z, levels=np.logspace(-.5, 5, 35), norm=LogNorm(), cmap=plt.cm.jet)` and the minima with `ax.plot(x, y, 'r*', markersize=20)`."
   ]
  },
  {
   "cell_type": "markdown",
   "metadata": {
    "id": "dsHtDWllpGhn"
   },
   "source": [
    "Your Answers Here"
   ]
  },
  {
   "cell_type": "code",
   "execution_count": null,
   "metadata": {
    "id": "ukJi9-rapGhn"
   },
   "outputs": [],
   "source": [
    "# Set the manually calculated minima\n",
    "min_x = None\n",
    "min_y = None\n",
    "\n",
    "def beale_f(x, y):\n",
    "    value = None\n",
    "    \"\"\"\n",
    "    Your Code Here\n",
    "    \"\"\"\n",
    "    return value\n",
    "\n",
    "def beale_grads(x, y):\n",
    "    dx, dy = None, None\n",
    "    \"\"\"\n",
    "    Your Code Here\n",
    "    \"\"\"\n",
    "\n",
    "    grads = np.array([dx, dy])\n",
    "    return grads"
   ]
  },
  {
   "cell_type": "code",
   "execution_count": null,
   "metadata": {
    "id": "IepBb4_9pGho"
   },
   "outputs": [],
   "source": [
    "minima = np.array([min_x, min_y])\n",
    "beale_res = beale_f(*minima)\n",
    "grads_res = beale_grads(*minima)\n",
    "print(f\"minima (1x2 row vector shape): {minima}\")\n",
    "print(f\"beale_f output: {beale_res}\")\n",
    "print(f\"beale_grad output: {grads_res}\")"
   ]
  },
  {
   "cell_type": "markdown",
   "metadata": {
    "id": "beVVTCunpDng"
   },
   "source": [
    "### <img src=\"https://img.icons8.com/color/48/000000/code.png\" style=\"height:50px;display:inline\"> Task 2 - Building an Optimizer - Adam\n",
    "---\n",
    "In this task, you are going to implement the Adam optimizer. We are giving the skeleton of the code and the description of the methods, and you need to implement the optimizer.\n",
    "\n",
    "Recall the Adam update rule:\n",
    "$$ m_{k+1} = \\beta_1 m_k + (1-\\beta_1)\\nabla f(w^k) = \\beta_1 m_k + (1-\\beta_1)g_k $$  $$ v_{k+1} = \\beta_2 v_k + (1-\\beta_2)(\\nabla f(w^k))^2 = \\beta_2 v_k + (1-\\beta_2)g^2_k $$ Then, they use an **unbiased** estimation: $$ \\hat{m}_{k+1} = \\frac{m_{k+1}}{1 -\\beta_1^{k+1}} $$ $$ \\hat{v}_{k+1} = \\frac{v_{k+1}}{1 -\\beta_2^{k+1}} $$ (the $\\beta$'s are taken with the power of the current iteration) $$ w_{k+1} = w_k -\\frac{\\alpha}{\\sqrt{\\hat{v}_{k+1}} +\\epsilon}\\hat{m}_{k+1} $$\n",
    "\n",
    "* $\\epsilon$ deafult's is $10^{-8}$\n",
    "\n",
    "\n",
    "1. Implement `class AdamOptimizer()`.\n",
    "    * `function` is the Python function you want to optimize.\n",
    "    * `gradients` is the Python function that returns the gradients of `function`.\n",
    "    * `x_init` and `y_init` are the initialization points for the optimizer.\n",
    "    * Save the `path` of the optimizer (the minima points the optimizer visits during the optimization).\n",
    "    * Stopping criterion: change in minima `<1e-7`.\n",
    "    * **You can change the class however you wish, you can remove/add variables and methods as you wish**\n",
    "2. For ` x_init=0.7, y_init=1.4, learning_rate=0.1, beta1=0.9, beta2=0.999`, optimize the Beale function. Plot the results **with the path taken** (better do it on the 2D contour plot).\n",
    "3. Choose different initialization and learning rate and show the results as in 2."
   ]
  },
  {
   "cell_type": "code",
   "execution_count": null,
   "metadata": {
    "id": "agLXkCNHpDng"
   },
   "outputs": [],
   "source": [
    "class AdamOptimizer():\n",
    "    def __init__(self, function, gradients, x_init=None, y_init=None,\n",
    "                 learning_rate=0.001, beta1=0.9, beta2=0.999, epsilon=1e-8):\n",
    "        self.f = function\n",
    "        self.g = gradients\n",
    "        scale = 3.0\n",
    "        self.current_val = np.zeros([2])\n",
    "        if x_init is not None:\n",
    "            self.current_val[0] = x_init\n",
    "        else:\n",
    "            self.current_val[0] = np.random.uniform(low=-scale, high=scale)\n",
    "        if y_init is not None:\n",
    "            self.current_val[1] = y_init\n",
    "        else:\n",
    "            self.current_val[1] = np.random.uniform(low=-scale, high=scale)\n",
    "        print(\"x_init: {:.3f}\".format(self.current_val[0]))\n",
    "        print(\"y_init: {:.3f}\".format(self.current_val[1]))\n",
    "\n",
    "        self.lr = learning_rate\n",
    "        self.grads_first_moment = np.zeros([2])\n",
    "        self.grads_second_moment = np.zeros([2])\n",
    "        self.beta1 = beta1\n",
    "        self.beta2 = beta2\n",
    "        self.epsilon = epsilon\n",
    "\n",
    "        # for accumulation of loss and path (w, b)\n",
    "        self.z_history = []\n",
    "        self.x_history = []\n",
    "        self.y_history = []\n",
    "\n",
    "\n",
    "    def func(self, variables):\n",
    "        \"\"\"Beale function.\n",
    "\n",
    "        Args:\n",
    "          variables: input data, shape: 1-rank Tensor (vector) np.array\n",
    "            x: x-dimension of inputs\n",
    "            y: y-dimension of inputs\n",
    "\n",
    "        Returns:\n",
    "          z: Beale function value at (x, y)\n",
    "        \"\"\"\n",
    "\n",
    "    def gradients(self, variables):\n",
    "        \"\"\"Gradient of Beale function.\n",
    "\n",
    "        Args:\n",
    "          variables: input data, shape: 1-rank Tensor (vector) np.array\n",
    "            x: x-dimension of inputs\n",
    "            y: y-dimension of inputs\n",
    "\n",
    "        Returns:\n",
    "          grads: [dx, dy], shape: 1-rank Tensor (vector) np.array\n",
    "            dx: gradient of Beale function with respect to x-dimension of inputs\n",
    "            dy: gradient of Beale function with respect to y-dimension of inputs\n",
    "        \"\"\"\n",
    "\n",
    "\n",
    "    def weights_update(self, grads, time):\n",
    "        \"\"\"Weights update using Adam.\n",
    "\n",
    "          g1 = beta1 * g1 + (1 - beta1) * grads\n",
    "          g2 = beta2 * g2 + (1 - beta2) * grads ** 2\n",
    "          g1_unbiased = g1 / (1 - beta1**time)\n",
    "          g2_unbiased = g2 / (1 - beta2**time)\n",
    "          w = w - lr * g1_unbiased / (sqrt(g2_unbiased) + epsilon)\n",
    "        \"\"\"\n",
    "\n",
    "    def history_update(self, z, x, y):\n",
    "        \"\"\"Accumulate all interesting variables\n",
    "        \"\"\"\n",
    "\n",
    "\n",
    "    def train(self, max_steps):\n"
   ]
  },
  {
   "cell_type": "code",
   "execution_count": null,
   "metadata": {
    "id": "mKouk-J0pGhq"
   },
   "outputs": [],
   "source": [
    "\"\"\"\n",
    "Your Code Here\n",
    "\"\"\""
   ]
  },
  {
   "cell_type": "code",
   "execution_count": null,
   "metadata": {
    "id": "X5KX2zHwpDnh"
   },
   "outputs": [],
   "source": [
    "opt = AdamOptimizer(beale_f, beale_grads, x_init=0.7, y_init=1.4, learning_rate=0.1, beta1=0.9, beta2=0.999, epsilon=1e-8)"
   ]
  },
  {
   "cell_type": "code",
   "execution_count": null,
   "metadata": {
    "id": "MtWWphqzpDnh",
    "scrolled": true
   },
   "outputs": [],
   "source": [
    "%time\n",
    "opt.train(1000)\n",
    "print(\"Global minima\")\n",
    "print(\"x*: {:.2f}  y*: {:.2f}\".format(minima[0], minima[1]))\n",
    "print(\"Solution using the gradient descent\")\n",
    "print(\"x: {:.4f}  y: {:.4f}\".format(opt.x, opt.y))"
   ]
  },
  {
   "cell_type": "code",
   "execution_count": null,
   "metadata": {
    "id": "rXNruLWbpDnh"
   },
   "outputs": [],
   "source": [
    "# plot the Beale function values during the optimization"
   ]
  },
  {
   "cell_type": "code",
   "execution_count": null,
   "metadata": {
    "id": "LnCgsNbEpDnh"
   },
   "outputs": [],
   "source": [
    "# plot the optimization path\n",
    "path = opt.path"
   ]
  },
  {
   "cell_type": "markdown",
   "metadata": {
    "id": "BGSxoUKppGhs"
   },
   "source": [
    "### <img src=\"https://img.icons8.com/color/48/000000/code.png\" style=\"height:50px;display:inline\"> Task 3 - PyTorch Autograd\n",
    "---\n",
    "For the function from the theory practice: $$ f = \\exp(\\exp(x) + \\exp(x)^2) +\\sin(\\exp(x) + \\exp(x)^2)  $$\n",
    "\n",
    "1. Implement it and its dervative (explicitly) using `torch`.\n",
    "2. Define a scalar tensor `x` and use `autograd` to calculate the derivative w.r.t $x$. Does the result correspond to the output of the function the calculates the derivative explicitly?"
   ]
  },
  {
   "cell_type": "code",
   "execution_count": null,
   "metadata": {
    "id": "qopWh-QupGhs"
   },
   "outputs": [],
   "source": [
    "def f(x):\n",
    "    f_val = None\n",
    "    \"\"\"\n",
    "    Your Code Here\n",
    "    \"\"\"\n",
    "    return f_val\n",
    "\n",
    "def derv_f(x):\n",
    "    derv_val = None\n",
    "    \"\"\"\n",
    "    Your Code Here\n",
    "    \"\"\"\n",
    "    return derv_val"
   ]
  },
  {
   "cell_type": "code",
   "execution_count": null,
   "metadata": {
    "id": "oNO19wRspGhs"
   },
   "outputs": [],
   "source": [
    "x = torch.tensor(0.5, requires_grad=True)\n",
    "print(x)\n",
    "f_res = f(x)\n",
    "f_manual_grad = derv_f(x.detach())\n",
    "\n",
    "\"\"\"\n",
    "Your Code Here\n",
    "\"\"\"\n",
    "# Calculate with torch autograd\n",
    "f_autograd = None\n",
    "\n",
    "\n",
    "print(f_manual_grad)\n",
    "print(f_autograd)"
   ]
  },
  {
   "cell_type": "markdown",
   "metadata": {
    "id": "Jrof_SsJpGht"
   },
   "source": [
    "### <img src=\"https://img.icons8.com/color/48/000000/code.png\" style=\"height:50px;display:inline\"> Task 4 - Low Rank Matrix Factorization\n",
    "---\n",
    "Consider the following optimization problem: $$ \\min_{\\hat{U}, \\hat{V}}||A - \\hat{U}\\hat{V}||_F^{2} $$ Where $A \\in \\mathcal{R}^{m \\times n},\\hat{U} \\in \\mathcal{R}^{m \\times r}, \\hat{V} \\in \\mathcal{R}^{r \\times n} $ and $r < min(m,n)$ ($r$ is the rank of the matrix). $||\\cdot||_F^2$ denotes the Frobenius norm.\n",
    "\n",
    "1. Implement a function, `gd_factorize_ad(A, rank, num_epochs=1000, lr=0.01)`, that given a 2D tensor `A` and a `rank`, will calculate the low-rank factorization of `A` using **gradient decsent**. Compute and apply all the gradients of $\\hat{U}$ and of $\\hat{V}$ once per epoch. $\\hat{U}$ and $\\hat{V}$ should be initially created with uniform random values. Use PyTorch's `autograd` for the gradients.\n",
    "    * To compute the squared Frobenius norm loss (reconstruction loss), use `torch.nn.functional.mse loss with reduction=’sum’`.\n",
    "\n",
    "2. Use the provided `data` of the Iris dataset of 150 instances and 4 features. Apply `gd_factorize_ad` to compute the 2-rank matrix factorization of `data`. What is the reconstruction loss?"
   ]
  },
  {
   "cell_type": "code",
   "execution_count": null,
   "metadata": {
    "id": "HCFYO3QBpGht"
   },
   "outputs": [],
   "source": [
    "df = load_iris(as_frame=True).data # option 1\n",
    "# df = pd.read_csv('./iris.data', header=None) # option 2\n",
    "data = torch.tensor(df.iloc[:, [0, 1, 2, 3]].values)\n",
    "data = data - data.mean(dim=0)"
   ]
  },
  {
   "cell_type": "code",
   "execution_count": null,
   "metadata": {
    "id": "sLIgji02pGht"
   },
   "outputs": [],
   "source": [
    "def gd_factorize_ad(A, rank, num_epochs=1000, lr=0.01):\n",
    "    # initialize\n",
    "    U = None\n",
    "    V = None\n",
    "\n",
    "    \"\"\"\n",
    "    Your Code Here\n",
    "    \"\"\"\n",
    "\n",
    "    # implement gradient descent\n",
    "    for epoch in range(num_epochs):\n",
    "\n",
    "        \"\"\"\n",
    "        Your Code Here\n",
    "        \"\"\"\n",
    "        loss = None\n",
    "        if epoch % 5 == 0:\n",
    "            print(f'epoch: {epoch}, loss: {loss}')\n",
    "    return U, V"
   ]
  },
  {
   "cell_type": "code",
   "execution_count": null,
   "metadata": {
    "id": "ZmImbLvIpGht"
   },
   "outputs": [],
   "source": [
    "U, V = gd_factorize_ad(data.float(), rank=2, num_epochs=1000, lr=0.01)"
   ]
  },
  {
   "cell_type": "markdown",
   "metadata": {
    "id": "ZgZUKV2NpGhu"
   },
   "source": [
    "## <img src=\"https://img.icons8.com/dusk/64/000000/prize.png\" style=\"height:50px;display:inline\"> Credits\n",
    "---\n",
    "* Icons made by <a href=\"https://www.flaticon.com/authors/becris\" title=\"Becris\">Becris</a> from <a href=\"https://www.flaticon.com/\" title=\"Flaticon\">www.flaticon.com</a>\n",
    "* Icons from <a href=\"https://icons8.com/\">Icons8.com</a> - https://icons8.com\n",
    "* Datasets from <a href=\"https://www.kaggle.com/\">Kaggle</a> - https://www.kaggle.com/"
   ]
  }
 ],
 "metadata": {
  "colab": {
   "provenance": []
  },
  "kernelspec": {
   "display_name": "Python 3 (ipykernel)",
   "language": "python",
   "name": "python3"
  },
  "language_info": {
   "codemirror_mode": {
    "name": "ipython",
    "version": 3
   },
   "file_extension": ".py",
   "mimetype": "text/x-python",
   "name": "python",
   "nbconvert_exporter": "python",
   "pygments_lexer": "ipython3",
   "version": "3.8.19"
  }
 },
 "nbformat": 4,
 "nbformat_minor": 0
}
