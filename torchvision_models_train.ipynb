{
 "cells": [
  {
   "cell_type": "code",
   "execution_count": 1,
   "metadata": {},
   "outputs": [
    {
     "data": {
      "text/plain": [
       "<torch._C.Generator at 0x71a337590fd0>"
      ]
     },
     "execution_count": 1,
     "metadata": {},
     "output_type": "execute_result"
    }
   ],
   "source": [
    "import os\n",
    "import torch\n",
    "from torch.utils.data import DataLoader\n",
    "import torchvision\n",
    "import torchvision.models as models\n",
    "import numpy as np\n",
    "import cv2\n",
    "import utils\n",
    "import trainer\n",
    "import evaluator\n",
    "import data_process\n",
    "\n",
    "# Set random seed for reproducibility\n",
    "seed = 211\n",
    "np.random.seed(seed)\n",
    "torch.manual_seed(seed)"
   ]
  },
  {
   "cell_type": "markdown",
   "metadata": {},
   "source": [
    "## ssd300_vgg16"
   ]
  },
  {
   "cell_type": "code",
   "execution_count": 2,
   "metadata": {},
   "outputs": [
    {
     "name": "stdout",
     "output_type": "stream",
     "text": [
      "Number of valid images: 664\n",
      "Train set size: 464 - 69.88%\n",
      "Validation set size: 67 - 10.09%\n",
      "Test set size: 133 - 20.03%\n",
      "\n"
     ]
    }
   ],
   "source": [
    "input_size = 300\n",
    "\n",
    "transform = torchvision.transforms.Compose([\n",
    "    torchvision.transforms.Resize((input_size, input_size)),\n",
    "    torchvision.transforms.ToTensor(), # uint8 values in [0, 255] -> float tensor with values [0, 1]\n",
    "    torchvision.transforms.Normalize(mean=data_process.train_mean.tolist(), std=data_process.train_std.tolist())\n",
    "])\n",
    "\n",
    "train_set, val_set, test_set = data_process.load_data(transform=transform, input_size=input_size)"
   ]
  },
  {
   "cell_type": "code",
   "execution_count": 3,
   "metadata": {},
   "outputs": [
    {
     "name": "stderr",
     "output_type": "stream",
     "text": [
      "[I 2025-01-26 19:29:33,867] A new study created in RDB with name: ssd300_vgg16\n"
     ]
    },
    {
     "name": "stdout",
     "output_type": "stream",
     "text": [
      "Checking Model: SSD\n",
      "Starting Trial #0\n",
      "{'batch_size': 7, 'epochs': 17, 'preweight_mode': 'fine_tuning', 'optimizer': 'Adam', 'lr': 0.0009472961959721175, 'beta1': 0.9658118084445251, 'beta2': 0.9318563294010559, 'scheduler': 'CosineAnnealingLR', 'T_max': 8, 'eta_min': 8.307341815284441e-06}\n",
      "Epoch 1/17, Train Loss: 418.7332, Val mAP@50: 0.0000, FPS: 226.37, Epoch Time: 5.78 seconds\n",
      "Epoch 2/17, Train Loss: 334.6016, Val mAP@50: 0.0000, FPS: 263.43, Epoch Time: 5.24 seconds\n",
      "Epoch 3/17, Train Loss: 326.6977, Val mAP@50: 0.0000, FPS: 263.60, Epoch Time: 5.30 seconds\n",
      "Epoch 4/17, Train Loss: 320.8832, Val mAP@50: 0.0000, FPS: 264.67, Epoch Time: 5.31 seconds\n"
     ]
    },
    {
     "name": "stderr",
     "output_type": "stream",
     "text": [
      "[I 2025-01-26 19:30:02,713] Trial 0 pruned. \n"
     ]
    },
    {
     "name": "stdout",
     "output_type": "stream",
     "text": [
      "Trial pruned by Optuna at epoch 4.\n",
      "Checking Model: SSD\n",
      "Starting Trial #1\n",
      "{'batch_size': 6, 'epochs': 13, 'preweight_mode': 'random', 'optimizer': 'Adam', 'lr': 0.0004904539339172869, 'beta1': 0.9169765854389738, 'beta2': 0.9282853454922604, 'scheduler': 'StepLR', 'step_size': 5, 'gamma': 0.16714116943161034}\n",
      "Epoch 1/13, Train Loss: 698.3636, Val mAP@50: 0.0000, FPS: 242.76, Epoch Time: 5.52 seconds\n",
      "Epoch 2/13, Train Loss: 421.3263, Val mAP@50: 0.0000, FPS: 265.06, Epoch Time: 5.42 seconds\n",
      "Epoch 3/13, Train Loss: 392.0319, Val mAP@50: 0.0000, FPS: 265.36, Epoch Time: 5.42 seconds\n",
      "Epoch 4/13, Train Loss: 386.6206, Val mAP@50: 0.0000, FPS: 266.22, Epoch Time: 5.42 seconds\n"
     ]
    },
    {
     "name": "stderr",
     "output_type": "stream",
     "text": [
      "[I 2025-01-26 19:30:31,606] Trial 1 pruned. \n"
     ]
    },
    {
     "name": "stdout",
     "output_type": "stream",
     "text": [
      "Trial pruned by Optuna at epoch 4.\n",
      "Checking Model: SSD\n",
      "Starting Trial #2\n",
      "{'batch_size': 8, 'epochs': 17, 'preweight_mode': 'freezing', 'optimizer': 'RMSprop', 'lr': 0.004241247429282568, 'weight_decay': 0.1260926568334326, 'momentum': 0.9492067843282642, 'scheduler': 'StepLR', 'step_size': 5, 'gamma': 0.17734318931932058}\n",
      "Epoch 1/17, Train Loss: 32561.5546, Val mAP@50: 0.0001, FPS: 256.57, Epoch Time: 5.05 seconds\n",
      "Epoch 2/17, Train Loss: 19864.0149, Val mAP@50: 0.0002, FPS: 268.81, Epoch Time: 4.98 seconds\n",
      "Epoch 3/17, Train Loss: 16786.7150, Val mAP@50: 0.0002, FPS: 267.18, Epoch Time: 5.07 seconds\n",
      "Epoch 4/17, Train Loss: 15998.9231, Val mAP@50: 0.0005, FPS: 269.96, Epoch Time: 5.02 seconds\n"
     ]
    },
    {
     "name": "stderr",
     "output_type": "stream",
     "text": [
      "/home/user_138/anaconda3/envs/ultralytics-env/lib/python3.11/site-packages/torchmetrics/utilities/prints.py:43: UserWarning: Encountered more than 100 detections in a single image. This means that certain detections with the lowest scores will be ignored, that may have an undesirable impact on performance. Please consider adjusting the `max_detection_threshold` to suit your use case. To disable this warning, set attribute class `warn_on_many_detections=False`, after initializing the metric.\n",
      "  warnings.warn(*args, **kwargs)  # noqa: B028\n"
     ]
    },
    {
     "name": "stdout",
     "output_type": "stream",
     "text": [
      "Epoch 5/17, Train Loss: 15149.1609, Val mAP@50: 0.0000, FPS: 263.48, Epoch Time: 5.24 seconds\n",
      "Epoch 6/17, Train Loss: 6782.8274, Val mAP@50: 0.0002, FPS: 264.52, Epoch Time: 5.02 seconds\n",
      "Epoch 7/17, Train Loss: 3584.8482, Val mAP@50: 0.0000, FPS: 267.70, Epoch Time: 5.00 seconds\n",
      "Epoch 8/17, Train Loss: 3336.1029, Val mAP@50: 0.0012, FPS: 269.03, Epoch Time: 4.97 seconds\n",
      "Epoch 9/17, Train Loss: 3170.9441, Val mAP@50: 0.0010, FPS: 268.13, Epoch Time: 5.01 seconds\n",
      "Epoch 10/17, Train Loss: 3529.0655, Val mAP@50: 0.0001, FPS: 269.15, Epoch Time: 5.00 seconds\n",
      "Epoch 11/17, Train Loss: 1843.1180, Val mAP@50: 0.0077, FPS: 267.58, Epoch Time: 5.01 seconds\n",
      "Epoch 12/17, Train Loss: 882.1501, Val mAP@50: 0.0167, FPS: 267.77, Epoch Time: 4.98 seconds\n",
      "Epoch 13/17, Train Loss: 692.5390, Val mAP@50: 0.0161, FPS: 266.93, Epoch Time: 4.98 seconds\n",
      "Epoch 14/17, Train Loss: 630.1451, Val mAP@50: 0.0188, FPS: 272.10, Epoch Time: 4.98 seconds\n",
      "Epoch 15/17, Train Loss: 636.0122, Val mAP@50: 0.0145, FPS: 269.49, Epoch Time: 4.97 seconds\n",
      "Epoch 16/17, Train Loss: 487.7994, Val mAP@50: 0.0784, FPS: 268.75, Epoch Time: 4.99 seconds\n"
     ]
    },
    {
     "name": "stderr",
     "output_type": "stream",
     "text": [
      "[I 2025-01-26 19:31:58,728] Trial 2 finished with value: 0.11681748181581497 and parameters: {'batch_size': 8, 'epochs': 17, 'preweight_mode': 'freezing', 'optimizer': 'RMSprop', 'lr': 0.004241247429282568, 'weight_decay': 0.1260926568334326, 'momentum': 0.9492067843282642, 'scheduler': 'StepLR', 'step_size': 5, 'gamma': 0.17734318931932058}. Best is trial 2 with value: 0.11681748181581497.\n"
     ]
    },
    {
     "name": "stdout",
     "output_type": "stream",
     "text": [
      "Epoch 17/17, Train Loss: 306.3511, Val mAP@50: 0.1168, FPS: 270.06, Epoch Time: 4.99 seconds\n",
      "Best Epoch: 16, Best Val mAP@50: 0.1168, Training Time: 85.24 seconds\n",
      "Model training complete.\n",
      "Checking Model: SSD\n",
      "Starting Trial #3\n",
      "{'batch_size': 8, 'epochs': 13, 'preweight_mode': 'freezing', 'optimizer': 'SGD', 'lr': 0.04948808716982222, 'momentum': 0.9468789822431335, 'weight_decay': 5.129973236412686e-05, 'scheduler': 'StepLR', 'step_size': 5, 'gamma': 0.056083539958035666}\n",
      "Epoch 1/13, Train Loss: 49762.4257, Val mAP@50: 0.0041, FPS: 267.54, Epoch Time: 5.02 seconds\n",
      "Epoch 2/13, Train Loss: 32081.5442, Val mAP@50: 0.0032, FPS: 268.75, Epoch Time: 4.99 seconds\n",
      "Epoch 3/13, Train Loss: 24518.2912, Val mAP@50: 0.0009, FPS: 270.28, Epoch Time: 5.00 seconds\n",
      "Epoch 4/13, Train Loss: 25148.7469, Val mAP@50: 0.0013, FPS: 271.00, Epoch Time: 4.99 seconds\n",
      "Epoch 5/13, Train Loss: 22108.5788, Val mAP@50: 0.0031, FPS: 275.45, Epoch Time: 4.98 seconds\n",
      "Epoch 6/13, Train Loss: 17803.9494, Val mAP@50: 0.0004, FPS: 272.98, Epoch Time: 4.94 seconds\n",
      "Epoch 7/13, Train Loss: 11541.9402, Val mAP@50: 0.0032, FPS: 276.32, Epoch Time: 4.92 seconds\n",
      "Epoch 8/13, Train Loss: 9448.5833, Val mAP@50: 0.0005, FPS: 272.85, Epoch Time: 4.94 seconds\n",
      "Epoch 9/13, Train Loss: 8329.7500, Val mAP@50: 0.0006, FPS: 270.29, Epoch Time: 4.93 seconds\n",
      "Epoch 10/13, Train Loss: 7630.3141, Val mAP@50: 0.0004, FPS: 270.88, Epoch Time: 4.96 seconds\n",
      "Epoch 11/13, Train Loss: 6939.1713, Val mAP@50: 0.0004, FPS: 265.88, Epoch Time: 5.06 seconds\n",
      "Epoch 12/13, Train Loss: 6728.9190, Val mAP@50: 0.0006, FPS: 267.84, Epoch Time: 5.00 seconds\n"
     ]
    },
    {
     "name": "stderr",
     "output_type": "stream",
     "text": [
      "[I 2025-01-26 19:33:05,441] Trial 3 finished with value: 0.004073549993336201 and parameters: {'batch_size': 8, 'epochs': 13, 'preweight_mode': 'freezing', 'optimizer': 'SGD', 'lr': 0.04948808716982222, 'momentum': 0.9468789822431335, 'weight_decay': 5.129973236412686e-05, 'scheduler': 'StepLR', 'step_size': 5, 'gamma': 0.056083539958035666}. Best is trial 2 with value: 0.11681748181581497.\n"
     ]
    },
    {
     "name": "stdout",
     "output_type": "stream",
     "text": [
      "Epoch 13/13, Train Loss: 6678.8287, Val mAP@50: 0.0006, FPS: 268.07, Epoch Time: 5.00 seconds\n",
      "Best Epoch: 0, Best Val mAP@50: 0.0041, Training Time: 64.73 seconds\n",
      "Model training complete.\n",
      "Checking Model: SSD\n",
      "Starting Trial #4\n",
      "{'batch_size': 6, 'epochs': 17, 'preweight_mode': 'fine_tuning', 'optimizer': 'SGD', 'lr': 0.02344308086614435, 'momentum': 0.9727457317944981, 'weight_decay': 4.760099310748672e-05, 'scheduler': 'OneCycleLR', 'max_lr': 0.004548729885792942}\n",
      "Epoch 1/17, Train Loss: 445.8376, Val mAP@50: 0.0000, FPS: 263.53, Epoch Time: 5.39 seconds\n",
      "Epoch 2/17, Train Loss: 340.2573, Val mAP@50: 0.0297, FPS: 260.20, Epoch Time: 5.35 seconds\n",
      "Epoch 3/17, Train Loss: 270.3834, Val mAP@50: 0.2790, FPS: 259.54, Epoch Time: 5.37 seconds\n",
      "Epoch 4/17, Train Loss: 232.8696, Val mAP@50: 0.3653, FPS: 265.48, Epoch Time: 5.39 seconds\n",
      "Epoch 5/17, Train Loss: 201.2158, Val mAP@50: 0.4056, FPS: 260.34, Epoch Time: 5.40 seconds\n",
      "Epoch 6/17, Train Loss: 177.6701, Val mAP@50: 0.4527, FPS: 259.40, Epoch Time: 5.45 seconds\n",
      "Epoch 7/17, Train Loss: 159.8643, Val mAP@50: 0.4667, FPS: 266.07, Epoch Time: 5.45 seconds\n",
      "Epoch 8/17, Train Loss: 145.1663, Val mAP@50: 0.4590, FPS: 266.98, Epoch Time: 5.39 seconds\n",
      "Epoch 9/17, Train Loss: 129.6386, Val mAP@50: 0.4802, FPS: 259.16, Epoch Time: 5.38 seconds\n",
      "Epoch 10/17, Train Loss: 122.9705, Val mAP@50: 0.4779, FPS: 268.39, Epoch Time: 5.39 seconds\n",
      "Epoch 11/17, Train Loss: 110.9944, Val mAP@50: 0.4721, FPS: 264.93, Epoch Time: 5.35 seconds\n",
      "Epoch 12/17, Train Loss: 102.8576, Val mAP@50: 0.5064, FPS: 260.21, Epoch Time: 5.37 seconds\n",
      "Epoch 13/17, Train Loss: 94.4989, Val mAP@50: 0.4986, FPS: 267.83, Epoch Time: 5.40 seconds\n",
      "Epoch 14/17, Train Loss: 87.2551, Val mAP@50: 0.5120, FPS: 267.27, Epoch Time: 5.35 seconds\n",
      "Epoch 15/17, Train Loss: 80.8900, Val mAP@50: 0.5100, FPS: 266.46, Epoch Time: 5.39 seconds\n",
      "Epoch 16/17, Train Loss: 74.5635, Val mAP@50: 0.5320, FPS: 269.84, Epoch Time: 5.34 seconds\n"
     ]
    },
    {
     "name": "stderr",
     "output_type": "stream",
     "text": [
      "[I 2025-01-26 19:34:38,757] Trial 4 finished with value: 0.5362070202827454 and parameters: {'batch_size': 6, 'epochs': 17, 'preweight_mode': 'fine_tuning', 'optimizer': 'SGD', 'lr': 0.02344308086614435, 'momentum': 0.9727457317944981, 'weight_decay': 4.760099310748672e-05, 'scheduler': 'OneCycleLR', 'max_lr': 0.004548729885792942}. Best is trial 4 with value: 0.5362070202827454.\n"
     ]
    },
    {
     "name": "stdout",
     "output_type": "stream",
     "text": [
      "Epoch 17/17, Train Loss: 71.4378, Val mAP@50: 0.5362, FPS: 265.85, Epoch Time: 5.32 seconds\n",
      "Best Epoch: 16, Best Val mAP@50: 0.5362, Training Time: 91.48 seconds\n",
      "Model training complete.\n",
      "Checking Model: SSD\n",
      "Starting Trial #5\n",
      "{'batch_size': 7, 'epochs': 17, 'preweight_mode': 'fine_tuning', 'optimizer': 'RMSprop', 'lr': 0.0012548593198908888, 'weight_decay': 0.5380377852807633, 'momentum': 0.9780810792026231, 'scheduler': 'ReduceLROnPlateau', 'factor': 0.2973243346544745, 'patience': 3}\n",
      "Epoch 1/17, Train Loss: 37353363178620393754386961006592.0000, Val mAP@50: 0.0000, FPS: 269.09, Epoch Time: 5.95 seconds\n",
      "Epoch 2/17, Train Loss: 3803457919642442623194479264847101952.0000, Val mAP@50: 0.0000, FPS: 269.52, Epoch Time: 5.90 seconds\n",
      "Epoch 3/17, Train Loss: 55175720114347046368885440969430794240.0000, Val mAP@50: 0.0000, FPS: 265.59, Epoch Time: 6.10 seconds\n",
      "Epoch 4/17, Train Loss: 115828033760781486745421913441074937856.0000, Val mAP@50: 0.0000, FPS: 265.52, Epoch Time: 6.08 seconds\n"
     ]
    },
    {
     "name": "stderr",
     "output_type": "stream",
     "text": [
      "[I 2025-01-26 19:35:10,693] Trial 5 pruned. \n"
     ]
    },
    {
     "name": "stdout",
     "output_type": "stream",
     "text": [
      "Trial pruned by Optuna at epoch 4.\n",
      "Checking Model: SSD\n",
      "Starting Trial #6\n",
      "{'batch_size': 7, 'epochs': 16, 'preweight_mode': 'fine_tuning', 'optimizer': 'SGD', 'lr': 0.016998759580392438, 'momentum': 0.9201578015051693, 'weight_decay': 1.0003658748852571e-05, 'scheduler': 'CosineAnnealingLR', 'T_max': 5, 'eta_min': 4.0935047202991817e-07}\n",
      "Epoch 1/16, Train Loss: nan, Val mAP@50: 0.0000, FPS: 273.34, Epoch Time: 5.18 seconds\n",
      "Epoch 2/16, Train Loss: nan, Val mAP@50: 0.0000, FPS: 273.20, Epoch Time: 5.15 seconds\n",
      "Epoch 3/16, Train Loss: nan, Val mAP@50: 0.0000, FPS: 276.47, Epoch Time: 5.17 seconds\n",
      "Epoch 4/16, Train Loss: nan, Val mAP@50: 0.0000, FPS: 270.61, Epoch Time: 5.20 seconds\n"
     ]
    },
    {
     "name": "stderr",
     "output_type": "stream",
     "text": [
      "[I 2025-01-26 19:35:38,383] Trial 6 pruned. \n"
     ]
    },
    {
     "name": "stdout",
     "output_type": "stream",
     "text": [
      "Trial pruned by Optuna at epoch 4.\n",
      "Checking Model: SSD\n",
      "Starting Trial #7\n",
      "{'batch_size': 6, 'epochs': 17, 'preweight_mode': 'freezing', 'optimizer': 'RMSprop', 'lr': 0.0035675054331891385, 'weight_decay': 0.10566344366433493, 'momentum': 0.9775188644231251, 'scheduler': 'ReduceLROnPlateau', 'factor': 0.29754314502094625, 'patience': 2}\n",
      "Epoch 1/17, Train Loss: 49295.8787, Val mAP@50: 0.0000, FPS: 269.36, Epoch Time: 5.22 seconds\n",
      "Epoch 2/17, Train Loss: 43995.7612, Val mAP@50: 0.0000, FPS: 264.41, Epoch Time: 5.04 seconds\n",
      "Epoch 3/17, Train Loss: 35937.6117, Val mAP@50: 0.0001, FPS: 262.17, Epoch Time: 5.14 seconds\n",
      "Epoch 4/17, Train Loss: 38062.7160, Val mAP@50: 0.0009, FPS: 267.42, Epoch Time: 5.27 seconds\n",
      "Epoch 5/17, Train Loss: 37933.9012, Val mAP@50: 0.0002, FPS: 269.59, Epoch Time: 5.02 seconds\n",
      "Epoch 6/17, Train Loss: 42862.9572, Val mAP@50: 0.0001, FPS: 266.90, Epoch Time: 5.04 seconds\n",
      "Epoch 7/17, Train Loss: 37204.2394, Val mAP@50: 0.0006, FPS: 268.64, Epoch Time: 5.13 seconds\n",
      "Epoch 8/17, Train Loss: 21419.3915, Val mAP@50: 0.0001, FPS: 264.84, Epoch Time: 5.07 seconds\n",
      "Epoch 9/17, Train Loss: 15382.5546, Val mAP@50: 0.0000, FPS: 265.80, Epoch Time: 5.00 seconds\n",
      "Epoch 10/17, Train Loss: 15842.0561, Val mAP@50: 0.0000, FPS: 267.31, Epoch Time: 5.07 seconds\n",
      "Epoch 11/17, Train Loss: 10041.0298, Val mAP@50: 0.0002, FPS: 263.32, Epoch Time: 5.09 seconds\n",
      "Epoch 12/17, Train Loss: 5423.2092, Val mAP@50: 0.0009, FPS: 263.40, Epoch Time: 5.04 seconds\n",
      "Epoch 13/17, Train Loss: 4970.5924, Val mAP@50: 0.0003, FPS: 287.34, Epoch Time: 4.91 seconds\n",
      "Epoch 14/17, Train Loss: 4635.4792, Val mAP@50: 0.0001, FPS: 281.33, Epoch Time: 4.86 seconds\n",
      "Epoch 15/17, Train Loss: 4606.9579, Val mAP@50: 0.0001, FPS: 280.54, Epoch Time: 4.87 seconds\n",
      "Epoch 16/17, Train Loss: 2933.6635, Val mAP@50: 0.0038, FPS: 279.87, Epoch Time: 4.88 seconds\n"
     ]
    },
    {
     "name": "stderr",
     "output_type": "stream",
     "text": [
      "[I 2025-01-26 19:37:05,800] Trial 7 finished with value: 0.003799260826781392 and parameters: {'batch_size': 6, 'epochs': 17, 'preweight_mode': 'freezing', 'optimizer': 'RMSprop', 'lr': 0.0035675054331891385, 'weight_decay': 0.10566344366433493, 'momentum': 0.9775188644231251, 'scheduler': 'ReduceLROnPlateau', 'factor': 0.29754314502094625, 'patience': 2}. Best is trial 4 with value: 0.5362070202827454.\n"
     ]
    },
    {
     "name": "stdout",
     "output_type": "stream",
     "text": [
      "Epoch 17/17, Train Loss: 1975.0988, Val mAP@50: 0.0011, FPS: 279.80, Epoch Time: 4.91 seconds\n",
      "Best Epoch: 15, Best Val mAP@50: 0.0038, Training Time: 85.54 seconds\n",
      "Model training complete.\n",
      "Checking Model: SSD\n",
      "Starting Trial #8\n",
      "{'batch_size': 7, 'epochs': 14, 'preweight_mode': 'random', 'optimizer': 'RMSprop', 'lr': 0.0010523472087119428, 'weight_decay': 0.11239553251294436, 'momentum': 0.902710004059513, 'scheduler': 'ReduceLROnPlateau', 'factor': 0.13439332022060319, 'patience': 4}\n",
      "Epoch 1/14, Train Loss: 243037331512192000.0000, Val mAP@50: 0.0000, FPS: 291.42, Epoch Time: 5.29 seconds\n",
      "Epoch 2/14, Train Loss: 2176243155153539039232.0000, Val mAP@50: 0.0001, FPS: 291.74, Epoch Time: 5.09 seconds\n",
      "Epoch 3/14, Train Loss: 1631056027100874496.0000, Val mAP@50: 0.0000, FPS: 291.63, Epoch Time: 5.01 seconds\n",
      "Epoch 4/14, Train Loss: 1645882399.9756, Val mAP@50: 0.0005, FPS: 291.34, Epoch Time: 5.13 seconds\n",
      "Epoch 5/14, Train Loss: 17397510577894.8848, Val mAP@50: 0.0003, FPS: 287.70, Epoch Time: 5.34 seconds\n",
      "Epoch 6/14, Train Loss: 60523256880457359360.0000, Val mAP@50: 0.0001, FPS: 289.36, Epoch Time: 5.01 seconds\n",
      "Epoch 7/14, Train Loss: 5981976492.9943, Val mAP@50: 0.0000, FPS: 289.61, Epoch Time: 4.96 seconds\n",
      "Epoch 8/14, Train Loss: 1095.6930, Val mAP@50: 0.0000, FPS: 289.51, Epoch Time: 4.96 seconds\n",
      "Epoch 9/14, Train Loss: 844.9458, Val mAP@50: 0.0000, FPS: 289.70, Epoch Time: 4.98 seconds\n"
     ]
    },
    {
     "name": "stderr",
     "output_type": "stream",
     "text": [
      "[I 2025-01-26 19:37:58,098] Trial 8 pruned. \n"
     ]
    },
    {
     "name": "stdout",
     "output_type": "stream",
     "text": [
      "Trial pruned by Optuna at epoch 9.\n",
      "Checking Model: SSD\n",
      "Starting Trial #9\n",
      "{'batch_size': 7, 'epochs': 18, 'preweight_mode': 'freezing', 'optimizer': 'SGD', 'lr': 0.04198573470793485, 'momentum': 0.9163819443057865, 'weight_decay': 3.626824917046231e-05, 'scheduler': 'CosineAnnealingLR', 'T_max': 12, 'eta_min': 8.368075421103245e-07}\n",
      "Epoch 1/18, Train Loss: 35897.9287, Val mAP@50: 0.0002, FPS: 289.59, Epoch Time: 4.80 seconds\n",
      "Epoch 2/18, Train Loss: 19455.2537, Val mAP@50: 0.0004, FPS: 281.69, Epoch Time: 4.79 seconds\n",
      "Epoch 3/18, Train Loss: 15819.4492, Val mAP@50: 0.0001, FPS: 289.20, Epoch Time: 4.92 seconds\n",
      "Epoch 4/18, Train Loss: 14771.8038, Val mAP@50: 0.0015, FPS: 289.85, Epoch Time: 4.82 seconds\n",
      "Epoch 5/18, Train Loss: 10840.0171, Val mAP@50: 0.0007, FPS: 281.29, Epoch Time: 4.86 seconds\n",
      "Epoch 6/18, Train Loss: 9641.6373, Val mAP@50: 0.0006, FPS: 276.53, Epoch Time: 4.84 seconds\n",
      "Epoch 7/18, Train Loss: 7704.4072, Val mAP@50: 0.0004, FPS: 289.01, Epoch Time: 4.85 seconds\n",
      "Epoch 8/18, Train Loss: 6405.3348, Val mAP@50: 0.0013, FPS: 291.41, Epoch Time: 4.75 seconds\n",
      "Epoch 9/18, Train Loss: 4309.0925, Val mAP@50: 0.0010, FPS: 287.34, Epoch Time: 4.78 seconds\n",
      "Epoch 10/18, Train Loss: 3185.9188, Val mAP@50: 0.0014, FPS: 292.44, Epoch Time: 4.76 seconds\n",
      "Epoch 11/18, Train Loss: 2264.4397, Val mAP@50: 0.0023, FPS: 277.03, Epoch Time: 4.79 seconds\n",
      "Epoch 12/18, Train Loss: 1923.4588, Val mAP@50: 0.0032, FPS: 288.90, Epoch Time: 4.75 seconds\n",
      "Epoch 13/18, Train Loss: 1803.9546, Val mAP@50: 0.0032, FPS: 291.06, Epoch Time: 4.84 seconds\n",
      "Epoch 14/18, Train Loss: 1828.7629, Val mAP@50: 0.0071, FPS: 291.56, Epoch Time: 4.80 seconds\n",
      "Epoch 15/18, Train Loss: 1882.8818, Val mAP@50: 0.0034, FPS: 271.54, Epoch Time: 4.76 seconds\n",
      "Epoch 16/18, Train Loss: 2103.7395, Val mAP@50: 0.0024, FPS: 279.03, Epoch Time: 4.89 seconds\n",
      "Epoch 17/18, Train Loss: 2675.8636, Val mAP@50: 0.0016, FPS: 277.65, Epoch Time: 5.00 seconds\n"
     ]
    },
    {
     "name": "stderr",
     "output_type": "stream",
     "text": [
      "[I 2025-01-26 19:39:26,916] Trial 9 finished with value: 0.007068547885864973 and parameters: {'batch_size': 7, 'epochs': 18, 'preweight_mode': 'freezing', 'optimizer': 'SGD', 'lr': 0.04198573470793485, 'momentum': 0.9163819443057865, 'weight_decay': 3.626824917046231e-05, 'scheduler': 'CosineAnnealingLR', 'T_max': 12, 'eta_min': 8.368075421103245e-07}. Best is trial 4 with value: 0.5362070202827454.\n"
     ]
    },
    {
     "name": "stdout",
     "output_type": "stream",
     "text": [
      "Epoch 18/18, Train Loss: 3504.3090, Val mAP@50: 0.0003, FPS: 257.06, Epoch Time: 4.94 seconds\n",
      "Best Epoch: 13, Best Val mAP@50: 0.0071, Training Time: 86.93 seconds\n",
      "Model training complete.\n",
      "Checking Model: SSD\n",
      "Starting Trial #10\n",
      "{'batch_size': 4, 'epochs': 20, 'preweight_mode': 'fine_tuning', 'optimizer': 'AdamW', 'lr': 0.00016363071798730853, 'weight_decay': 0.002334540139946281, 'beta1': 0.8384084637388263, 'beta2': 0.9966465871541936, 'scheduler': 'OneCycleLR', 'max_lr': 0.005598622137471745}\n",
      "Epoch 1/20, Train Loss: 608.6611, Val mAP@50: 0.0000, FPS: 241.43, Epoch Time: 5.81 seconds\n",
      "Epoch 2/20, Train Loss: 519.1738, Val mAP@50: 0.0000, FPS: 240.34, Epoch Time: 5.81 seconds\n",
      "Epoch 3/20, Train Loss: 470.3485, Val mAP@50: 0.0000, FPS: 239.06, Epoch Time: 5.83 seconds\n",
      "Epoch 4/20, Train Loss: 416.9439, Val mAP@50: 0.1524, FPS: 235.24, Epoch Time: 5.86 seconds\n",
      "Epoch 5/20, Train Loss: 373.9883, Val mAP@50: 0.2598, FPS: 239.10, Epoch Time: 5.86 seconds\n",
      "Epoch 6/20, Train Loss: 333.4991, Val mAP@50: 0.3201, FPS: 239.01, Epoch Time: 5.83 seconds\n",
      "Epoch 7/20, Train Loss: 302.0490, Val mAP@50: 0.3759, FPS: 241.78, Epoch Time: 5.88 seconds\n",
      "Epoch 8/20, Train Loss: 272.5861, Val mAP@50: 0.3489, FPS: 240.55, Epoch Time: 5.79 seconds\n",
      "Epoch 9/20, Train Loss: 247.6013, Val mAP@50: 0.4653, FPS: 239.46, Epoch Time: 5.81 seconds\n",
      "Epoch 10/20, Train Loss: 218.3605, Val mAP@50: 0.4590, FPS: 240.01, Epoch Time: 5.86 seconds\n",
      "Epoch 11/20, Train Loss: 197.0114, Val mAP@50: 0.4317, FPS: 241.84, Epoch Time: 5.75 seconds\n",
      "Epoch 12/20, Train Loss: 171.4651, Val mAP@50: 0.4482, FPS: 242.78, Epoch Time: 5.81 seconds\n",
      "Epoch 13/20, Train Loss: 143.6532, Val mAP@50: 0.4924, FPS: 243.48, Epoch Time: 5.79 seconds\n",
      "Epoch 14/20, Train Loss: 127.5169, Val mAP@50: 0.5773, FPS: 239.79, Epoch Time: 5.88 seconds\n",
      "Epoch 15/20, Train Loss: 115.2268, Val mAP@50: 0.5261, FPS: 243.90, Epoch Time: 5.81 seconds\n",
      "Epoch 16/20, Train Loss: 101.9470, Val mAP@50: 0.4813, FPS: 245.16, Epoch Time: 5.76 seconds\n",
      "Epoch 17/20, Train Loss: 101.6336, Val mAP@50: 0.4891, FPS: 244.87, Epoch Time: 5.74 seconds\n",
      "Epoch 18/20, Train Loss: 92.5082, Val mAP@50: 0.5166, FPS: 243.14, Epoch Time: 5.79 seconds\n",
      "Epoch 19/20, Train Loss: 93.5322, Val mAP@50: 0.4956, FPS: 243.38, Epoch Time: 5.70 seconds\n"
     ]
    },
    {
     "name": "stderr",
     "output_type": "stream",
     "text": [
      "[I 2025-01-26 19:41:25,061] Trial 10 finished with value: 0.57729172706604 and parameters: {'batch_size': 4, 'epochs': 20, 'preweight_mode': 'fine_tuning', 'optimizer': 'AdamW', 'lr': 0.00016363071798730853, 'weight_decay': 0.002334540139946281, 'beta1': 0.8384084637388263, 'beta2': 0.9966465871541936, 'scheduler': 'OneCycleLR', 'max_lr': 0.005598622137471745}. Best is trial 10 with value: 0.57729172706604.\n"
     ]
    },
    {
     "name": "stdout",
     "output_type": "stream",
     "text": [
      "Epoch 20/20, Train Loss: 68.4693, Val mAP@50: 0.5256, FPS: 244.75, Epoch Time: 5.78 seconds\n",
      "Best Epoch: 13, Best Val mAP@50: 0.5773, Training Time: 116.16 seconds\n",
      "Model training complete.\n",
      "Checking Model: SSD\n",
      "Starting Trial #11\n",
      "{'batch_size': 4, 'epochs': 20, 'preweight_mode': 'fine_tuning', 'optimizer': 'AdamW', 'lr': 0.00010718292567854523, 'weight_decay': 0.002655109109652821, 'beta1': 0.8073762627164024, 'beta2': 0.9982384196518811, 'scheduler': 'OneCycleLR', 'max_lr': 0.0061326515808014966}\n",
      "Epoch 1/20, Train Loss: 612.3467, Val mAP@50: 0.0000, FPS: 246.33, Epoch Time: 5.79 seconds\n",
      "Epoch 2/20, Train Loss: 535.9135, Val mAP@50: 0.0000, FPS: 240.73, Epoch Time: 5.73 seconds\n",
      "Epoch 3/20, Train Loss: 499.1462, Val mAP@50: 0.0000, FPS: 242.47, Epoch Time: 5.76 seconds\n",
      "Epoch 4/20, Train Loss: 455.8496, Val mAP@50: 0.0198, FPS: 242.17, Epoch Time: 5.81 seconds\n",
      "Epoch 5/20, Train Loss: 411.9576, Val mAP@50: 0.2153, FPS: 241.32, Epoch Time: 5.73 seconds\n",
      "Epoch 6/20, Train Loss: 377.2803, Val mAP@50: 0.2913, FPS: 242.57, Epoch Time: 5.77 seconds\n",
      "Epoch 7/20, Train Loss: 347.1871, Val mAP@50: 0.3256, FPS: 241.02, Epoch Time: 5.77 seconds\n",
      "Epoch 8/20, Train Loss: 327.3495, Val mAP@50: 0.3207, FPS: 240.51, Epoch Time: 5.77 seconds\n",
      "Epoch 9/20, Train Loss: 280.9269, Val mAP@50: 0.3749, FPS: 238.45, Epoch Time: 5.79 seconds\n",
      "Epoch 10/20, Train Loss: 253.9179, Val mAP@50: 0.4255, FPS: 239.32, Epoch Time: 5.83 seconds\n",
      "Epoch 11/20, Train Loss: 237.1728, Val mAP@50: 0.4563, FPS: 240.79, Epoch Time: 5.77 seconds\n",
      "Epoch 12/20, Train Loss: 199.9755, Val mAP@50: 0.4659, FPS: 241.53, Epoch Time: 5.72 seconds\n",
      "Epoch 13/20, Train Loss: 182.5662, Val mAP@50: 0.4675, FPS: 240.65, Epoch Time: 5.72 seconds\n",
      "Epoch 14/20, Train Loss: 176.9566, Val mAP@50: 0.4795, FPS: 241.20, Epoch Time: 5.74 seconds\n",
      "Epoch 15/20, Train Loss: 156.0852, Val mAP@50: 0.4584, FPS: 239.90, Epoch Time: 5.73 seconds\n",
      "Epoch 16/20, Train Loss: 132.0859, Val mAP@50: 0.5201, FPS: 241.25, Epoch Time: 5.75 seconds\n",
      "Epoch 17/20, Train Loss: 111.9839, Val mAP@50: 0.5028, FPS: 242.25, Epoch Time: 5.74 seconds\n",
      "Epoch 18/20, Train Loss: 98.9892, Val mAP@50: 0.4973, FPS: 242.38, Epoch Time: 5.78 seconds\n",
      "Epoch 19/20, Train Loss: 82.8632, Val mAP@50: 0.4913, FPS: 243.63, Epoch Time: 5.79 seconds\n"
     ]
    },
    {
     "name": "stderr",
     "output_type": "stream",
     "text": [
      "[I 2025-01-26 19:43:22,064] Trial 11 pruned. \n"
     ]
    },
    {
     "name": "stdout",
     "output_type": "stream",
     "text": [
      "Trial pruned by Optuna at epoch 19.\n",
      "Checking Model: SSD\n",
      "Starting Trial #12\n",
      "{'batch_size': 4, 'epochs': 20, 'preweight_mode': 'fine_tuning', 'optimizer': 'AdamW', 'lr': 0.00011305690440034182, 'weight_decay': 0.002993592026470708, 'beta1': 0.8208343757368655, 'beta2': 0.9971972742795927, 'scheduler': 'OneCycleLR', 'max_lr': 0.004816011775762198}\n",
      "Epoch 1/20, Train Loss: 585.3384, Val mAP@50: 0.0000, FPS: 241.94, Epoch Time: 5.75 seconds\n",
      "Epoch 2/20, Train Loss: 453.2243, Val mAP@50: 0.1977, FPS: 241.02, Epoch Time: 5.80 seconds\n",
      "Epoch 3/20, Train Loss: 375.7069, Val mAP@50: 0.2888, FPS: 241.22, Epoch Time: 5.83 seconds\n",
      "Epoch 4/20, Train Loss: 320.8853, Val mAP@50: 0.3529, FPS: 239.48, Epoch Time: 5.80 seconds\n",
      "Epoch 5/20, Train Loss: 276.1028, Val mAP@50: 0.4085, FPS: 240.48, Epoch Time: 5.73 seconds\n",
      "Epoch 6/20, Train Loss: 232.3293, Val mAP@50: 0.3948, FPS: 239.08, Epoch Time: 5.69 seconds\n",
      "Epoch 7/20, Train Loss: 207.6133, Val mAP@50: 0.4715, FPS: 240.53, Epoch Time: 5.76 seconds\n",
      "Epoch 8/20, Train Loss: 184.0562, Val mAP@50: 0.5025, FPS: 240.47, Epoch Time: 5.77 seconds\n",
      "Epoch 9/20, Train Loss: 154.9824, Val mAP@50: 0.4954, FPS: 239.80, Epoch Time: 5.79 seconds\n",
      "Epoch 10/20, Train Loss: 127.3056, Val mAP@50: 0.5344, FPS: 238.76, Epoch Time: 5.90 seconds\n",
      "Epoch 11/20, Train Loss: 114.9512, Val mAP@50: 0.5533, FPS: 239.41, Epoch Time: 5.80 seconds\n",
      "Epoch 12/20, Train Loss: 111.2889, Val mAP@50: 0.5597, FPS: 241.71, Epoch Time: 5.79 seconds\n",
      "Epoch 13/20, Train Loss: 90.1471, Val mAP@50: 0.5238, FPS: 242.51, Epoch Time: 5.77 seconds\n",
      "Epoch 14/20, Train Loss: 73.1051, Val mAP@50: 0.5422, FPS: 241.03, Epoch Time: 5.89 seconds\n",
      "Epoch 15/20, Train Loss: 63.1968, Val mAP@50: 0.5313, FPS: 243.61, Epoch Time: 5.74 seconds\n",
      "Epoch 16/20, Train Loss: 67.6956, Val mAP@50: 0.5582, FPS: 242.38, Epoch Time: 5.79 seconds\n",
      "Epoch 17/20, Train Loss: 82.4623, Val mAP@50: 0.5731, FPS: 244.16, Epoch Time: 5.76 seconds\n",
      "Epoch 18/20, Train Loss: 65.2202, Val mAP@50: 0.5878, FPS: 241.54, Epoch Time: 5.80 seconds\n",
      "Epoch 19/20, Train Loss: 60.7886, Val mAP@50: 0.5917, FPS: 240.63, Epoch Time: 5.83 seconds\n"
     ]
    },
    {
     "name": "stderr",
     "output_type": "stream",
     "text": [
      "[I 2025-01-26 19:45:19,796] Trial 12 finished with value: 0.5917251706123352 and parameters: {'batch_size': 4, 'epochs': 20, 'preweight_mode': 'fine_tuning', 'optimizer': 'AdamW', 'lr': 0.00011305690440034182, 'weight_decay': 0.002993592026470708, 'beta1': 0.8208343757368655, 'beta2': 0.9971972742795927, 'scheduler': 'OneCycleLR', 'max_lr': 0.004816011775762198}. Best is trial 12 with value: 0.5917251706123352.\n"
     ]
    },
    {
     "name": "stdout",
     "output_type": "stream",
     "text": [
      "Epoch 20/20, Train Loss: 48.5872, Val mAP@50: 0.5843, FPS: 244.86, Epoch Time: 5.82 seconds\n",
      "Best Epoch: 18, Best Val mAP@50: 0.5917, Training Time: 115.82 seconds\n",
      "Model training complete.\n",
      "Checking Model: SSD\n",
      "Starting Trial #13\n",
      "{'batch_size': 4, 'epochs': 20, 'preweight_mode': 'fine_tuning', 'optimizer': 'AdamW', 'lr': 0.00012287007194869702, 'weight_decay': 0.0027533502069439476, 'beta1': 0.8112220802572861, 'beta2': 0.9964953329460849, 'scheduler': 'OneCycleLR', 'max_lr': 0.00045222212584773236}\n",
      "Epoch 1/20, Train Loss: 608.6075, Val mAP@50: 0.2127, FPS: 240.71, Epoch Time: 5.81 seconds\n",
      "Epoch 2/20, Train Loss: 406.4752, Val mAP@50: 0.3719, FPS: 241.68, Epoch Time: 5.72 seconds\n",
      "Epoch 3/20, Train Loss: 333.3737, Val mAP@50: 0.3776, FPS: 243.32, Epoch Time: 5.77 seconds\n",
      "Epoch 4/20, Train Loss: 281.8760, Val mAP@50: 0.4210, FPS: 244.70, Epoch Time: 5.80 seconds\n",
      "Epoch 5/20, Train Loss: 241.6434, Val mAP@50: 0.4210, FPS: 245.12, Epoch Time: 5.80 seconds\n",
      "Epoch 6/20, Train Loss: 211.5568, Val mAP@50: 0.4495, FPS: 241.45, Epoch Time: 5.86 seconds\n",
      "Epoch 7/20, Train Loss: 186.2638, Val mAP@50: 0.4467, FPS: 240.84, Epoch Time: 5.84 seconds\n",
      "Epoch 8/20, Train Loss: 165.1490, Val mAP@50: 0.4718, FPS: 262.43, Epoch Time: 5.50 seconds\n",
      "Epoch 9/20, Train Loss: 147.6094, Val mAP@50: 0.4427, FPS: 264.46, Epoch Time: 5.45 seconds\n",
      "Epoch 10/20, Train Loss: 143.1663, Val mAP@50: 0.4426, FPS: 264.04, Epoch Time: 5.45 seconds\n",
      "Epoch 11/20, Train Loss: 136.3315, Val mAP@50: 0.4517, FPS: 264.23, Epoch Time: 5.42 seconds\n",
      "Epoch 12/20, Train Loss: 125.2709, Val mAP@50: 0.4555, FPS: 263.41, Epoch Time: 5.44 seconds\n",
      "Epoch 13/20, Train Loss: 113.6972, Val mAP@50: 0.4669, FPS: 263.04, Epoch Time: 5.47 seconds\n",
      "Epoch 14/20, Train Loss: 106.6694, Val mAP@50: 0.4749, FPS: 262.89, Epoch Time: 5.47 seconds\n",
      "Epoch 15/20, Train Loss: 99.9247, Val mAP@50: 0.4524, FPS: 262.90, Epoch Time: 5.46 seconds\n",
      "Epoch 16/20, Train Loss: 94.6048, Val mAP@50: 0.4671, FPS: 262.44, Epoch Time: 5.51 seconds\n",
      "Epoch 17/20, Train Loss: 88.1702, Val mAP@50: 0.4787, FPS: 263.65, Epoch Time: 5.45 seconds\n"
     ]
    },
    {
     "name": "stderr",
     "output_type": "stream",
     "text": [
      "[I 2025-01-26 19:47:02,233] Trial 13 pruned. \n"
     ]
    },
    {
     "name": "stdout",
     "output_type": "stream",
     "text": [
      "Trial pruned by Optuna at epoch 17.\n",
      "Checking Model: SSD\n",
      "Starting Trial #14\n",
      "{'batch_size': 5, 'epochs': 11, 'preweight_mode': 'fine_tuning', 'optimizer': 'AdamW', 'lr': 0.0002661431541917317, 'weight_decay': 0.004169930146528703, 'beta1': 0.859230871640529, 'beta2': 0.9703976490501206, 'scheduler': 'OneCycleLR', 'max_lr': 0.00258103124759098}\n",
      "Epoch 1/11, Train Loss: 487.5491, Val mAP@50: 0.0000, FPS: 274.65, Epoch Time: 5.29 seconds\n",
      "Epoch 2/11, Train Loss: 369.6551, Val mAP@50: 0.2184, FPS: 275.18, Epoch Time: 5.25 seconds\n",
      "Epoch 3/11, Train Loss: 286.2251, Val mAP@50: 0.4286, FPS: 275.23, Epoch Time: 5.26 seconds\n",
      "Epoch 4/11, Train Loss: 233.5014, Val mAP@50: 0.4157, FPS: 275.25, Epoch Time: 5.28 seconds\n",
      "Epoch 5/11, Train Loss: 201.4551, Val mAP@50: 0.4383, FPS: 274.32, Epoch Time: 5.30 seconds\n",
      "Epoch 6/11, Train Loss: 172.7110, Val mAP@50: 0.4240, FPS: 274.92, Epoch Time: 5.27 seconds\n",
      "Epoch 7/11, Train Loss: 147.8755, Val mAP@50: 0.4575, FPS: 275.31, Epoch Time: 5.26 seconds\n",
      "Epoch 8/11, Train Loss: 128.7808, Val mAP@50: 0.4734, FPS: 275.26, Epoch Time: 5.26 seconds\n",
      "Epoch 9/11, Train Loss: 113.3101, Val mAP@50: 0.5168, FPS: 274.58, Epoch Time: 5.30 seconds\n",
      "Epoch 10/11, Train Loss: 99.2191, Val mAP@50: 0.5696, FPS: 275.34, Epoch Time: 5.27 seconds\n"
     ]
    },
    {
     "name": "stderr",
     "output_type": "stream",
     "text": [
      "[I 2025-01-26 19:48:02,131] Trial 14 finished with value: 0.5695704817771912 and parameters: {'batch_size': 5, 'epochs': 11, 'preweight_mode': 'fine_tuning', 'optimizer': 'AdamW', 'lr': 0.0002661431541917317, 'weight_decay': 0.004169930146528703, 'beta1': 0.859230871640529, 'beta2': 0.9703976490501206, 'scheduler': 'OneCycleLR', 'max_lr': 0.00258103124759098}. Best is trial 12 with value: 0.5917251706123352.\n"
     ]
    },
    {
     "name": "stdout",
     "output_type": "stream",
     "text": [
      "Epoch 11/11, Train Loss: 86.9917, Val mAP@50: 0.4971, FPS: 274.54, Epoch Time: 5.28 seconds\n",
      "Best Epoch: 9, Best Val mAP@50: 0.5696, Training Time: 58.02 seconds\n",
      "Model training complete.\n",
      "Checking Model: SSD\n",
      "Starting Trial #15\n",
      "{'batch_size': 5, 'epochs': 19, 'preweight_mode': 'fine_tuning', 'optimizer': 'AdamW', 'lr': 0.00021556249416680457, 'weight_decay': 0.003844372011518403, 'beta1': 0.8619012533569386, 'beta2': 0.9672973162257021, 'scheduler': 'OneCycleLR', 'max_lr': 0.001391502865560132}\n",
      "Epoch 1/19, Train Loss: 453.7072, Val mAP@50: 0.2977, FPS: 274.40, Epoch Time: 5.27 seconds\n",
      "Epoch 2/19, Train Loss: 295.2824, Val mAP@50: 0.3780, FPS: 273.00, Epoch Time: 5.30 seconds\n",
      "Epoch 3/19, Train Loss: 228.4480, Val mAP@50: 0.3933, FPS: 274.21, Epoch Time: 5.31 seconds\n",
      "Epoch 4/19, Train Loss: 188.3942, Val mAP@50: 0.4775, FPS: 274.12, Epoch Time: 5.30 seconds\n",
      "Epoch 5/19, Train Loss: 158.3137, Val mAP@50: 0.4531, FPS: 274.10, Epoch Time: 5.28 seconds\n",
      "Epoch 6/19, Train Loss: 139.5383, Val mAP@50: 0.4619, FPS: 274.23, Epoch Time: 5.25 seconds\n",
      "Epoch 7/19, Train Loss: 119.4634, Val mAP@50: 0.4750, FPS: 274.46, Epoch Time: 5.25 seconds\n",
      "Epoch 8/19, Train Loss: 106.4984, Val mAP@50: 0.4903, FPS: 273.42, Epoch Time: 5.25 seconds\n",
      "Epoch 9/19, Train Loss: 95.4386, Val mAP@50: 0.5168, FPS: 274.43, Epoch Time: 5.27 seconds\n",
      "Epoch 10/19, Train Loss: 83.9265, Val mAP@50: 0.5235, FPS: 273.41, Epoch Time: 5.24 seconds\n",
      "Epoch 11/19, Train Loss: 74.5434, Val mAP@50: 0.5329, FPS: 274.33, Epoch Time: 5.29 seconds\n",
      "Epoch 12/19, Train Loss: 62.9938, Val mAP@50: 0.5244, FPS: 274.48, Epoch Time: 5.27 seconds\n",
      "Epoch 13/19, Train Loss: 56.9470, Val mAP@50: 0.5431, FPS: 274.51, Epoch Time: 5.35 seconds\n",
      "Epoch 14/19, Train Loss: 50.6778, Val mAP@50: 0.5475, FPS: 275.63, Epoch Time: 5.37 seconds\n",
      "Epoch 15/19, Train Loss: 45.7163, Val mAP@50: 0.5474, FPS: 276.26, Epoch Time: 5.36 seconds\n",
      "Epoch 16/19, Train Loss: 42.1612, Val mAP@50: 0.5593, FPS: 276.27, Epoch Time: 5.27 seconds\n",
      "Epoch 17/19, Train Loss: 38.3835, Val mAP@50: 0.5889, FPS: 276.07, Epoch Time: 5.28 seconds\n",
      "Epoch 18/19, Train Loss: 33.4711, Val mAP@50: 0.5619, FPS: 275.92, Epoch Time: 5.30 seconds\n"
     ]
    },
    {
     "name": "stderr",
     "output_type": "stream",
     "text": [
      "[I 2025-01-26 19:49:44,571] Trial 15 finished with value: 0.5889268517494202 and parameters: {'batch_size': 5, 'epochs': 19, 'preweight_mode': 'fine_tuning', 'optimizer': 'AdamW', 'lr': 0.00021556249416680457, 'weight_decay': 0.003844372011518403, 'beta1': 0.8619012533569386, 'beta2': 0.9672973162257021, 'scheduler': 'OneCycleLR', 'max_lr': 0.001391502865560132}. Best is trial 12 with value: 0.5917251706123352.\n"
     ]
    },
    {
     "name": "stdout",
     "output_type": "stream",
     "text": [
      "Epoch 19/19, Train Loss: 32.5516, Val mAP@50: 0.5468, FPS: 275.81, Epoch Time: 5.32 seconds\n",
      "Best Epoch: 16, Best Val mAP@50: 0.5889, Training Time: 100.53 seconds\n",
      "Model training complete.\n",
      "Checking Model: SSD\n",
      "Starting Trial #16\n",
      "{'batch_size': 5, 'epochs': 19, 'preweight_mode': 'random', 'optimizer': 'AdamW', 'lr': 0.00024156467688515607, 'weight_decay': 0.004426143368203563, 'beta1': 0.8818612032765758, 'beta2': 0.9633024104493736, 'scheduler': 'OneCycleLR', 'max_lr': 0.001185053968898113}\n",
      "Epoch 1/19, Train Loss: 889.7571, Val mAP@50: 0.0000, FPS: 272.53, Epoch Time: 5.29 seconds\n",
      "Epoch 2/19, Train Loss: 521.8906, Val mAP@50: 0.0012, FPS: 273.30, Epoch Time: 5.29 seconds\n",
      "Epoch 3/19, Train Loss: 513.0508, Val mAP@50: 0.0014, FPS: 273.17, Epoch Time: 5.27 seconds\n",
      "Epoch 4/19, Train Loss: 492.7112, Val mAP@50: 0.0000, FPS: 272.70, Epoch Time: 5.27 seconds\n",
      "Epoch 5/19, Train Loss: 466.5391, Val mAP@50: 0.0000, FPS: 272.60, Epoch Time: 5.33 seconds\n"
     ]
    },
    {
     "name": "stderr",
     "output_type": "stream",
     "text": [
      "[I 2025-01-26 19:50:17,930] Trial 16 pruned. \n"
     ]
    },
    {
     "name": "stdout",
     "output_type": "stream",
     "text": [
      "Trial pruned by Optuna at epoch 5.\n",
      "Checking Model: SSD\n",
      "Starting Trial #17\n",
      "{'batch_size': 5, 'epochs': 19, 'preweight_mode': 'fine_tuning', 'optimizer': 'AdamW', 'lr': 0.0004706314800308159, 'weight_decay': 0.003796611782365859, 'beta1': 0.9219853008518671, 'beta2': 0.9008994860793419, 'scheduler': 'OneCycleLR', 'max_lr': 0.00011206340683480459}\n",
      "Epoch 1/19, Train Loss: 700.5425, Val mAP@50: 0.0060, FPS: 273.98, Epoch Time: 5.96 seconds\n",
      "Epoch 2/19, Train Loss: 445.7917, Val mAP@50: 0.1159, FPS: 275.04, Epoch Time: 5.91 seconds\n",
      "Epoch 3/19, Train Loss: 386.6730, Val mAP@50: 0.2805, FPS: 274.61, Epoch Time: 5.71 seconds\n",
      "Epoch 4/19, Train Loss: 348.4759, Val mAP@50: 0.3156, FPS: 273.42, Epoch Time: 5.31 seconds\n",
      "Epoch 5/19, Train Loss: 317.7170, Val mAP@50: 0.3574, FPS: 273.57, Epoch Time: 5.30 seconds\n",
      "Epoch 6/19, Train Loss: 293.6916, Val mAP@50: 0.3759, FPS: 273.01, Epoch Time: 5.25 seconds\n"
     ]
    },
    {
     "name": "stderr",
     "output_type": "stream",
     "text": [
      "[I 2025-01-26 19:50:58,477] Trial 17 pruned. \n"
     ]
    },
    {
     "name": "stdout",
     "output_type": "stream",
     "text": [
      "Trial pruned by Optuna at epoch 6.\n",
      "Checking Model: SSD\n",
      "Starting Trial #18\n",
      "{'batch_size': 5, 'epochs': 15, 'preweight_mode': 'fine_tuning', 'optimizer': 'AdamW', 'lr': 0.0002230213417328582, 'weight_decay': 0.0019047317907887917, 'beta1': 0.8473155585428015, 'beta2': 0.9744479459944759, 'scheduler': 'OneCycleLR', 'max_lr': 0.0014421087857835282}\n",
      "Epoch 1/15, Train Loss: 498.7052, Val mAP@50: 0.0000, FPS: 272.34, Epoch Time: 5.26 seconds\n",
      "Epoch 2/15, Train Loss: 349.8358, Val mAP@50: 0.2629, FPS: 272.60, Epoch Time: 5.30 seconds\n",
      "Epoch 3/15, Train Loss: 264.7229, Val mAP@50: 0.3790, FPS: 272.27, Epoch Time: 5.28 seconds\n",
      "Epoch 4/15, Train Loss: 212.4640, Val mAP@50: 0.3971, FPS: 272.35, Epoch Time: 5.27 seconds\n",
      "Epoch 5/15, Train Loss: 174.5771, Val mAP@50: 0.4591, FPS: 271.66, Epoch Time: 5.32 seconds\n",
      "Epoch 6/15, Train Loss: 150.6556, Val mAP@50: 0.4403, FPS: 272.31, Epoch Time: 5.31 seconds\n",
      "Epoch 7/15, Train Loss: 129.5045, Val mAP@50: 0.4463, FPS: 272.26, Epoch Time: 5.31 seconds\n",
      "Epoch 8/15, Train Loss: 116.0056, Val mAP@50: 0.4885, FPS: 271.43, Epoch Time: 5.35 seconds\n",
      "Epoch 9/15, Train Loss: 102.7196, Val mAP@50: 0.4971, FPS: 271.97, Epoch Time: 5.32 seconds\n",
      "Epoch 10/15, Train Loss: 89.3254, Val mAP@50: 0.4916, FPS: 272.00, Epoch Time: 5.35 seconds\n",
      "Epoch 11/15, Train Loss: 76.6660, Val mAP@50: 0.5539, FPS: 270.69, Epoch Time: 5.37 seconds\n",
      "Epoch 12/15, Train Loss: 72.0648, Val mAP@50: 0.5388, FPS: 272.07, Epoch Time: 5.35 seconds\n",
      "Epoch 13/15, Train Loss: 63.5076, Val mAP@50: 0.5041, FPS: 272.25, Epoch Time: 5.32 seconds\n",
      "Epoch 14/15, Train Loss: 55.4660, Val mAP@50: 0.5372, FPS: 272.40, Epoch Time: 5.30 seconds\n"
     ]
    },
    {
     "name": "stderr",
     "output_type": "stream",
     "text": [
      "[I 2025-01-26 19:52:20,078] Trial 18 finished with value: 0.5538917183876038 and parameters: {'batch_size': 5, 'epochs': 15, 'preweight_mode': 'fine_tuning', 'optimizer': 'AdamW', 'lr': 0.0002230213417328582, 'weight_decay': 0.0019047317907887917, 'beta1': 0.8473155585428015, 'beta2': 0.9744479459944759, 'scheduler': 'OneCycleLR', 'max_lr': 0.0014421087857835282}. Best is trial 12 with value: 0.5917251706123352.\n"
     ]
    },
    {
     "name": "stdout",
     "output_type": "stream",
     "text": [
      "Epoch 15/15, Train Loss: 50.2988, Val mAP@50: 0.5459, FPS: 273.48, Epoch Time: 5.33 seconds\n",
      "Best Epoch: 10, Best Val mAP@50: 0.5539, Training Time: 79.72 seconds\n",
      "Model training complete.\n",
      "Checking Model: SSD\n",
      "Starting Trial #19\n",
      "{'batch_size': 4, 'epochs': 19, 'preweight_mode': 'random', 'optimizer': 'AdamW', 'lr': 0.0004365280894041921, 'weight_decay': 0.005897526898060182, 'beta1': 0.8826800783739855, 'beta2': 0.9500819001592924, 'scheduler': 'OneCycleLR', 'max_lr': 0.0005739991774826008}\n",
      "Epoch 1/19, Train Loss: 1204.4833, Val mAP@50: 0.0002, FPS: 261.35, Epoch Time: 5.54 seconds\n",
      "Epoch 2/19, Train Loss: 656.3592, Val mAP@50: 0.0028, FPS: 260.47, Epoch Time: 5.48 seconds\n",
      "Epoch 3/19, Train Loss: 644.2817, Val mAP@50: 0.0026, FPS: 260.45, Epoch Time: 5.50 seconds\n",
      "Epoch 4/19, Train Loss: 624.1832, Val mAP@50: 0.0000, FPS: 260.25, Epoch Time: 5.54 seconds\n",
      "Epoch 5/19, Train Loss: 596.3596, Val mAP@50: 0.0000, FPS: 259.87, Epoch Time: 5.48 seconds\n"
     ]
    },
    {
     "name": "stderr",
     "output_type": "stream",
     "text": [
      "[I 2025-01-26 19:52:54,783] Trial 19 pruned. \n"
     ]
    },
    {
     "name": "stdout",
     "output_type": "stream",
     "text": [
      "Trial pruned by Optuna at epoch 5.\n",
      "Checking Model: SSD\n",
      "Starting Trial #20\n",
      "{'batch_size': 5, 'epochs': 10, 'preweight_mode': 'fine_tuning', 'optimizer': 'Adam', 'lr': 0.0001711584154358844, 'beta1': 0.8309559104918343, 'beta2': 0.9803306782912151, 'scheduler': 'OneCycleLR', 'max_lr': 0.00930611970012176}\n",
      "Epoch 1/10, Train Loss: 524.6783, Val mAP@50: 0.0000, FPS: 271.44, Epoch Time: 5.34 seconds\n",
      "Epoch 2/10, Train Loss: 446.5975, Val mAP@50: 0.0000, FPS: 270.89, Epoch Time: 5.30 seconds\n",
      "Epoch 3/10, Train Loss: 430.3504, Val mAP@50: 0.0000, FPS: 271.30, Epoch Time: 5.27 seconds\n",
      "Epoch 4/10, Train Loss: 410.9539, Val mAP@50: 0.0000, FPS: 271.70, Epoch Time: 5.28 seconds\n"
     ]
    },
    {
     "name": "stderr",
     "output_type": "stream",
     "text": [
      "[I 2025-01-26 19:53:23,095] Trial 20 pruned. \n"
     ]
    },
    {
     "name": "stdout",
     "output_type": "stream",
     "text": [
      "Trial pruned by Optuna at epoch 4.\n",
      "Checking Model: SSD\n",
      "Starting Trial #21\n",
      "{'batch_size': 4, 'epochs': 20, 'preweight_mode': 'fine_tuning', 'optimizer': 'AdamW', 'lr': 0.00015524002737316134, 'weight_decay': 0.0019392380568428096, 'beta1': 0.8482141099224338, 'beta2': 0.9858843775964753, 'scheduler': 'OneCycleLR', 'max_lr': 0.0033781583025202745}\n",
      "Epoch 1/20, Train Loss: 605.1827, Val mAP@50: 0.0000, FPS: 259.40, Epoch Time: 5.50 seconds\n",
      "Epoch 2/20, Train Loss: 499.4222, Val mAP@50: 0.0792, FPS: 260.07, Epoch Time: 5.53 seconds\n",
      "Epoch 3/20, Train Loss: 405.0234, Val mAP@50: 0.2988, FPS: 259.90, Epoch Time: 5.54 seconds\n",
      "Epoch 4/20, Train Loss: 337.2298, Val mAP@50: 0.2722, FPS: 259.53, Epoch Time: 5.52 seconds\n",
      "Epoch 5/20, Train Loss: 290.0689, Val mAP@50: 0.3961, FPS: 259.31, Epoch Time: 5.52 seconds\n",
      "Epoch 6/20, Train Loss: 247.6228, Val mAP@50: 0.4305, FPS: 259.28, Epoch Time: 5.57 seconds\n",
      "Epoch 7/20, Train Loss: 214.4624, Val mAP@50: 0.4360, FPS: 259.62, Epoch Time: 5.54 seconds\n",
      "Epoch 8/20, Train Loss: 187.0777, Val mAP@50: 0.5462, FPS: 259.20, Epoch Time: 5.57 seconds\n",
      "Epoch 9/20, Train Loss: 155.6308, Val mAP@50: 0.5257, FPS: 260.74, Epoch Time: 5.57 seconds\n",
      "Epoch 10/20, Train Loss: 135.3854, Val mAP@50: 0.5020, FPS: 259.25, Epoch Time: 5.55 seconds\n",
      "Epoch 11/20, Train Loss: 124.2654, Val mAP@50: 0.5058, FPS: 260.23, Epoch Time: 5.51 seconds\n",
      "Epoch 12/20, Train Loss: 113.1753, Val mAP@50: 0.5738, FPS: 260.26, Epoch Time: 5.55 seconds\n",
      "Epoch 13/20, Train Loss: 92.9367, Val mAP@50: 0.5320, FPS: 261.09, Epoch Time: 5.58 seconds\n",
      "Epoch 14/20, Train Loss: 88.0823, Val mAP@50: 0.4830, FPS: 260.40, Epoch Time: 5.62 seconds\n",
      "Epoch 15/20, Train Loss: 83.6852, Val mAP@50: 0.5828, FPS: 261.84, Epoch Time: 5.56 seconds\n",
      "Epoch 16/20, Train Loss: 66.6150, Val mAP@50: 0.5276, FPS: 260.99, Epoch Time: 5.49 seconds\n",
      "Epoch 17/20, Train Loss: 63.2759, Val mAP@50: 0.5882, FPS: 261.55, Epoch Time: 5.54 seconds\n",
      "Epoch 18/20, Train Loss: 54.9033, Val mAP@50: 0.5723, FPS: 260.02, Epoch Time: 5.51 seconds\n",
      "Epoch 19/20, Train Loss: 55.2412, Val mAP@50: 0.5564, FPS: 262.22, Epoch Time: 5.55 seconds\n"
     ]
    },
    {
     "name": "stderr",
     "output_type": "stream",
     "text": [
      "[I 2025-01-26 19:55:15,892] Trial 21 finished with value: 0.5882074236869812 and parameters: {'batch_size': 4, 'epochs': 20, 'preweight_mode': 'fine_tuning', 'optimizer': 'AdamW', 'lr': 0.00015524002737316134, 'weight_decay': 0.0019392380568428096, 'beta1': 0.8482141099224338, 'beta2': 0.9858843775964753, 'scheduler': 'OneCycleLR', 'max_lr': 0.0033781583025202745}. Best is trial 12 with value: 0.5917251706123352.\n"
     ]
    },
    {
     "name": "stdout",
     "output_type": "stream",
     "text": [
      "Epoch 20/20, Train Loss: 45.8629, Val mAP@50: 0.5729, FPS: 262.24, Epoch Time: 5.57 seconds\n",
      "Best Epoch: 16, Best Val mAP@50: 0.5882, Training Time: 110.88 seconds\n",
      "Model training complete.\n",
      "Checking Model: SSD\n",
      "Starting Trial #22\n",
      "{'batch_size': 4, 'epochs': 19, 'preweight_mode': 'fine_tuning', 'optimizer': 'AdamW', 'lr': 0.00010076166327744408, 'weight_decay': 0.0016641902462403476, 'beta1': 0.8688889959610601, 'beta2': 0.9834372088012655, 'scheduler': 'OneCycleLR', 'max_lr': 0.002254080146631045}\n",
      "Epoch 1/19, Train Loss: 595.2182, Val mAP@50: 0.0000, FPS: 260.16, Epoch Time: 5.54 seconds\n",
      "Epoch 2/19, Train Loss: 427.2788, Val mAP@50: 0.2989, FPS: 260.13, Epoch Time: 5.59 seconds\n",
      "Epoch 3/19, Train Loss: 325.2290, Val mAP@50: 0.4069, FPS: 259.88, Epoch Time: 5.53 seconds\n",
      "Epoch 4/19, Train Loss: 274.2800, Val mAP@50: 0.3933, FPS: 259.14, Epoch Time: 5.55 seconds\n",
      "Epoch 5/19, Train Loss: 228.1423, Val mAP@50: 0.4390, FPS: 258.99, Epoch Time: 5.55 seconds\n",
      "Epoch 6/19, Train Loss: 190.7144, Val mAP@50: 0.4687, FPS: 259.34, Epoch Time: 5.55 seconds\n",
      "Epoch 7/19, Train Loss: 167.9803, Val mAP@50: 0.4703, FPS: 259.73, Epoch Time: 5.54 seconds\n",
      "Epoch 8/19, Train Loss: 143.0149, Val mAP@50: 0.4900, FPS: 259.16, Epoch Time: 5.55 seconds\n",
      "Epoch 9/19, Train Loss: 123.3031, Val mAP@50: 0.5466, FPS: 259.83, Epoch Time: 5.53 seconds\n",
      "Epoch 10/19, Train Loss: 109.5192, Val mAP@50: 0.4713, FPS: 258.32, Epoch Time: 5.51 seconds\n",
      "Epoch 11/19, Train Loss: 97.2445, Val mAP@50: 0.5560, FPS: 260.48, Epoch Time: 5.63 seconds\n",
      "Epoch 12/19, Train Loss: 82.9339, Val mAP@50: 0.5269, FPS: 259.67, Epoch Time: 5.54 seconds\n",
      "Epoch 13/19, Train Loss: 72.1677, Val mAP@50: 0.5023, FPS: 261.40, Epoch Time: 5.52 seconds\n",
      "Epoch 14/19, Train Loss: 67.2499, Val mAP@50: 0.5662, FPS: 260.78, Epoch Time: 5.54 seconds\n",
      "Epoch 15/19, Train Loss: 58.4480, Val mAP@50: 0.5279, FPS: 261.70, Epoch Time: 5.52 seconds\n",
      "Epoch 16/19, Train Loss: 55.4752, Val mAP@50: 0.5672, FPS: 261.15, Epoch Time: 5.53 seconds\n",
      "Epoch 17/19, Train Loss: 47.6637, Val mAP@50: 0.5218, FPS: 262.02, Epoch Time: 5.58 seconds\n",
      "Epoch 18/19, Train Loss: 46.0604, Val mAP@50: 0.6090, FPS: 261.08, Epoch Time: 5.64 seconds\n"
     ]
    },
    {
     "name": "stderr",
     "output_type": "stream",
     "text": [
      "[I 2025-01-26 19:57:03,321] Trial 22 finished with value: 0.6089831590652466 and parameters: {'batch_size': 4, 'epochs': 19, 'preweight_mode': 'fine_tuning', 'optimizer': 'AdamW', 'lr': 0.00010076166327744408, 'weight_decay': 0.0016641902462403476, 'beta1': 0.8688889959610601, 'beta2': 0.9834372088012655, 'scheduler': 'OneCycleLR', 'max_lr': 0.002254080146631045}. Best is trial 22 with value: 0.6089831590652466.\n"
     ]
    },
    {
     "name": "stdout",
     "output_type": "stream",
     "text": [
      "Epoch 19/19, Train Loss: 41.8591, Val mAP@50: 0.5521, FPS: 261.90, Epoch Time: 5.55 seconds\n",
      "Best Epoch: 17, Best Val mAP@50: 0.6090, Training Time: 105.49 seconds\n",
      "Model training complete.\n",
      "Checking Model: SSD\n",
      "Starting Trial #23\n",
      "{'batch_size': 4, 'epochs': 18, 'preweight_mode': 'fine_tuning', 'optimizer': 'AdamW', 'lr': 0.0001001330924026854, 'weight_decay': 0.001635889924806104, 'beta1': 0.8852266043747337, 'beta2': 0.9553302655327546, 'scheduler': 'OneCycleLR', 'max_lr': 0.0019251048878075202}\n",
      "Epoch 1/18, Train Loss: 555.6888, Val mAP@50: 0.1901, FPS: 259.68, Epoch Time: 5.49 seconds\n",
      "Epoch 2/18, Train Loss: 376.9773, Val mAP@50: 0.2897, FPS: 259.58, Epoch Time: 5.48 seconds\n",
      "Epoch 3/18, Train Loss: 297.4816, Val mAP@50: 0.4070, FPS: 259.43, Epoch Time: 5.50 seconds\n",
      "Epoch 4/18, Train Loss: 249.7052, Val mAP@50: 0.4379, FPS: 259.62, Epoch Time: 5.55 seconds\n",
      "Epoch 5/18, Train Loss: 214.3962, Val mAP@50: 0.4213, FPS: 259.02, Epoch Time: 5.52 seconds\n",
      "Epoch 6/18, Train Loss: 179.8997, Val mAP@50: 0.4727, FPS: 259.33, Epoch Time: 5.52 seconds\n",
      "Epoch 7/18, Train Loss: 152.1356, Val mAP@50: 0.4616, FPS: 259.47, Epoch Time: 5.55 seconds\n",
      "Epoch 8/18, Train Loss: 132.5291, Val mAP@50: 0.5335, FPS: 258.38, Epoch Time: 5.54 seconds\n",
      "Epoch 9/18, Train Loss: 120.2685, Val mAP@50: 0.5423, FPS: 259.41, Epoch Time: 5.56 seconds\n",
      "Epoch 10/18, Train Loss: 104.7168, Val mAP@50: 0.5479, FPS: 258.15, Epoch Time: 5.58 seconds\n",
      "Epoch 11/18, Train Loss: 92.2746, Val mAP@50: 0.5173, FPS: 260.56, Epoch Time: 5.55 seconds\n",
      "Epoch 12/18, Train Loss: 81.4451, Val mAP@50: 0.5288, FPS: 259.96, Epoch Time: 5.55 seconds\n",
      "Epoch 13/18, Train Loss: 70.2449, Val mAP@50: 0.5549, FPS: 260.97, Epoch Time: 5.53 seconds\n",
      "Epoch 14/18, Train Loss: 63.1145, Val mAP@50: 0.5588, FPS: 260.38, Epoch Time: 5.57 seconds\n",
      "Epoch 15/18, Train Loss: 55.4026, Val mAP@50: 0.5311, FPS: 261.25, Epoch Time: 5.53 seconds\n",
      "Epoch 16/18, Train Loss: 51.6744, Val mAP@50: 0.5528, FPS: 260.55, Epoch Time: 5.59 seconds\n",
      "Epoch 17/18, Train Loss: 47.6155, Val mAP@50: 0.5780, FPS: 260.01, Epoch Time: 5.58 seconds\n"
     ]
    },
    {
     "name": "stderr",
     "output_type": "stream",
     "text": [
      "[I 2025-01-26 19:58:45,014] Trial 23 finished with value: 0.5780254006385803 and parameters: {'batch_size': 4, 'epochs': 18, 'preweight_mode': 'fine_tuning', 'optimizer': 'AdamW', 'lr': 0.0001001330924026854, 'weight_decay': 0.001635889924806104, 'beta1': 0.8852266043747337, 'beta2': 0.9553302655327546, 'scheduler': 'OneCycleLR', 'max_lr': 0.0019251048878075202}. Best is trial 22 with value: 0.6089831590652466.\n"
     ]
    },
    {
     "name": "stdout",
     "output_type": "stream",
     "text": [
      "Epoch 18/18, Train Loss: 40.4102, Val mAP@50: 0.5710, FPS: 261.22, Epoch Time: 5.56 seconds\n",
      "Best Epoch: 16, Best Val mAP@50: 0.5780, Training Time: 99.75 seconds\n",
      "Model training complete.\n",
      "Checking Model: SSD\n",
      "Starting Trial #24\n",
      "{'batch_size': 5, 'epochs': 18, 'preweight_mode': 'fine_tuning', 'optimizer': 'AdamW', 'lr': 0.00032666964721738854, 'weight_decay': 0.005615550866227886, 'beta1': 0.8663930904109637, 'beta2': 0.9842085668553344, 'scheduler': 'OneCycleLR', 'max_lr': 0.0006069416966244679}\n",
      "Epoch 1/18, Train Loss: 496.9045, Val mAP@50: 0.2099, FPS: 270.55, Epoch Time: 5.41 seconds\n",
      "Epoch 2/18, Train Loss: 324.1986, Val mAP@50: 0.3636, FPS: 270.31, Epoch Time: 5.33 seconds\n",
      "Epoch 3/18, Train Loss: 257.4757, Val mAP@50: 0.3869, FPS: 270.63, Epoch Time: 5.34 seconds\n",
      "Epoch 4/18, Train Loss: 210.3273, Val mAP@50: 0.3924, FPS: 270.09, Epoch Time: 5.33 seconds\n",
      "Epoch 5/18, Train Loss: 177.7129, Val mAP@50: 0.4034, FPS: 270.69, Epoch Time: 5.33 seconds\n",
      "Epoch 6/18, Train Loss: 152.8650, Val mAP@50: 0.4465, FPS: 271.20, Epoch Time: 5.38 seconds\n",
      "Epoch 7/18, Train Loss: 133.1092, Val mAP@50: 0.4357, FPS: 271.12, Epoch Time: 5.37 seconds\n"
     ]
    },
    {
     "name": "stderr",
     "output_type": "stream",
     "text": [
      "[I 2025-01-26 19:59:29,743] Trial 24 pruned. \n"
     ]
    },
    {
     "name": "stdout",
     "output_type": "stream",
     "text": [
      "Trial pruned by Optuna at epoch 7.\n",
      "Checking Model: SSD\n",
      "Starting Trial #25\n",
      "{'batch_size': 4, 'epochs': 19, 'preweight_mode': 'fine_tuning', 'optimizer': 'AdamW', 'lr': 0.0001534744511156097, 'weight_decay': 0.0013796155711338857, 'beta1': 0.8256037205045873, 'beta2': 0.9645817730446354, 'scheduler': 'OneCycleLR', 'max_lr': 0.002601386134636743}\n",
      "Epoch 1/19, Train Loss: 611.5897, Val mAP@50: 0.0000, FPS: 260.29, Epoch Time: 5.52 seconds\n",
      "Epoch 2/19, Train Loss: 500.4532, Val mAP@50: 0.0000, FPS: 260.26, Epoch Time: 5.51 seconds\n",
      "Epoch 3/19, Train Loss: 397.4448, Val mAP@50: 0.2670, FPS: 259.62, Epoch Time: 5.54 seconds\n",
      "Epoch 4/19, Train Loss: 333.6539, Val mAP@50: 0.3544, FPS: 259.94, Epoch Time: 5.55 seconds\n",
      "Epoch 5/19, Train Loss: 278.9857, Val mAP@50: 0.4093, FPS: 259.96, Epoch Time: 5.54 seconds\n"
     ]
    },
    {
     "name": "stderr",
     "output_type": "stream",
     "text": [
      "[I 2025-01-26 20:00:04,770] Trial 25 pruned. \n"
     ]
    },
    {
     "name": "stdout",
     "output_type": "stream",
     "text": [
      "Trial pruned by Optuna at epoch 5.\n",
      "Checking Model: SSD\n",
      "Starting Trial #26\n",
      "{'batch_size': 5, 'epochs': 15, 'preweight_mode': 'fine_tuning', 'optimizer': 'AdamW', 'lr': 0.0006902548653020352, 'weight_decay': 0.0034017204605940447, 'beta1': 0.9103313489058888, 'beta2': 0.9863970745016769, 'scheduler': 'StepLR', 'step_size': 2, 'gamma': 0.49173498762183987}\n",
      "Epoch 1/15, Train Loss: 587.8620, Val mAP@50: 0.0000, FPS: 271.46, Epoch Time: 5.31 seconds\n",
      "Epoch 2/15, Train Loss: 457.1917, Val mAP@50: 0.0000, FPS: 271.47, Epoch Time: 5.32 seconds\n",
      "Epoch 3/15, Train Loss: 435.8838, Val mAP@50: 0.0000, FPS: 270.95, Epoch Time: 5.29 seconds\n",
      "Epoch 4/15, Train Loss: 428.9588, Val mAP@50: 0.0000, FPS: 270.52, Epoch Time: 5.33 seconds\n"
     ]
    },
    {
     "name": "stderr",
     "output_type": "stream",
     "text": [
      "[I 2025-01-26 20:00:33,202] Trial 26 pruned. \n"
     ]
    },
    {
     "name": "stdout",
     "output_type": "stream",
     "text": [
      "Trial pruned by Optuna at epoch 4.\n",
      "Checking Model: SSD\n",
      "Starting Trial #27\n",
      "{'batch_size': 4, 'epochs': 18, 'preweight_mode': 'fine_tuning', 'optimizer': 'AdamW', 'lr': 0.0003240821233990362, 'weight_decay': 0.0053213072097357825, 'beta1': 0.9483977572466457, 'beta2': 0.9380056512900864, 'scheduler': 'ReduceLROnPlateau', 'factor': 0.4963130924171012, 'patience': 5}\n",
      "Epoch 1/18, Train Loss: 624.0156, Val mAP@50: 0.0000, FPS: 258.95, Epoch Time: 5.51 seconds\n",
      "Epoch 2/18, Train Loss: 545.6386, Val mAP@50: 0.0000, FPS: 259.11, Epoch Time: 5.56 seconds\n",
      "Epoch 3/18, Train Loss: 516.7730, Val mAP@50: 0.0000, FPS: 259.70, Epoch Time: 5.51 seconds\n",
      "Epoch 4/18, Train Loss: 492.7336, Val mAP@50: 0.0000, FPS: 259.04, Epoch Time: 5.51 seconds\n"
     ]
    },
    {
     "name": "stderr",
     "output_type": "stream",
     "text": [
      "[I 2025-01-26 20:01:02,692] Trial 27 pruned. \n"
     ]
    },
    {
     "name": "stdout",
     "output_type": "stream",
     "text": [
      "Trial pruned by Optuna at epoch 4.\n",
      "Checking Model: SSD\n",
      "Starting Trial #28\n",
      "{'batch_size': 5, 'epochs': 19, 'preweight_mode': 'freezing', 'optimizer': 'Adam', 'lr': 0.0001819436956454777, 'beta1': 0.9982286429776599, 'beta2': 0.9755096019594591, 'scheduler': 'CosineAnnealingLR', 'T_max': 15, 'eta_min': 9.774061413997328e-06}\n",
      "Epoch 1/19, Train Loss: 770.4795, Val mAP@50: 0.0522, FPS: 272.50, Epoch Time: 4.99 seconds\n",
      "Epoch 2/19, Train Loss: 630.8058, Val mAP@50: 0.1202, FPS: 271.07, Epoch Time: 4.97 seconds\n",
      "Epoch 3/19, Train Loss: 599.5379, Val mAP@50: 0.0886, FPS: 269.82, Epoch Time: 4.99 seconds\n",
      "Epoch 4/19, Train Loss: 543.0842, Val mAP@50: 0.1434, FPS: 271.54, Epoch Time: 4.99 seconds\n",
      "Epoch 5/19, Train Loss: 491.8508, Val mAP@50: 0.0857, FPS: 272.71, Epoch Time: 5.01 seconds\n"
     ]
    },
    {
     "name": "stderr",
     "output_type": "stream",
     "text": [
      "[I 2025-01-26 20:01:34,474] Trial 28 pruned. \n"
     ]
    },
    {
     "name": "stdout",
     "output_type": "stream",
     "text": [
      "Trial pruned by Optuna at epoch 5.\n",
      "Checking Model: SSD\n",
      "Starting Trial #29\n",
      "{'batch_size': 4, 'epochs': 16, 'preweight_mode': 'random', 'optimizer': 'Adam', 'lr': 0.001649656347917082, 'beta1': 0.8645994708232524, 'beta2': 0.9892284941467893, 'scheduler': 'CosineAnnealingLR', 'T_max': 10, 'eta_min': 1.0109297539330419e-07}\n",
      "Epoch 1/16, Train Loss: 47065.3845, Val mAP@50: 0.0000, FPS: 261.53, Epoch Time: 5.57 seconds\n",
      "Epoch 2/16, Train Loss: 661.9577, Val mAP@50: 0.0000, FPS: 261.63, Epoch Time: 5.53 seconds\n",
      "Epoch 3/16, Train Loss: 617.5098, Val mAP@50: 0.0000, FPS: 261.64, Epoch Time: 5.47 seconds\n",
      "Epoch 4/16, Train Loss: 593.3716, Val mAP@50: 0.0000, FPS: 261.34, Epoch Time: 5.53 seconds\n"
     ]
    },
    {
     "name": "stderr",
     "output_type": "stream",
     "text": [
      "[I 2025-01-26 20:02:03,666] Trial 29 pruned. \n"
     ]
    },
    {
     "name": "stdout",
     "output_type": "stream",
     "text": [
      "Trial pruned by Optuna at epoch 4.\n",
      "Checking Model: SSD\n",
      "Starting Trial #30\n",
      "{'batch_size': 6, 'epochs': 20, 'preweight_mode': 'fine_tuning', 'optimizer': 'AdamW', 'lr': 0.00012534949332254614, 'weight_decay': 0.0013224448692009342, 'beta1': 0.8007105698146536, 'beta2': 0.9616611071491794, 'scheduler': 'OneCycleLR', 'max_lr': 0.0008736682161181931}\n",
      "Epoch 1/20, Train Loss: 409.9263, Val mAP@50: 0.3161, FPS: 283.06, Epoch Time: 5.19 seconds\n",
      "Epoch 2/20, Train Loss: 265.7496, Val mAP@50: 0.3504, FPS: 284.59, Epoch Time: 5.17 seconds\n",
      "Epoch 3/20, Train Loss: 208.8103, Val mAP@50: 0.3723, FPS: 284.29, Epoch Time: 5.19 seconds\n",
      "Epoch 4/20, Train Loss: 172.7416, Val mAP@50: 0.3853, FPS: 283.37, Epoch Time: 5.21 seconds\n",
      "Epoch 5/20, Train Loss: 144.3980, Val mAP@50: 0.4234, FPS: 283.41, Epoch Time: 5.19 seconds\n",
      "Epoch 6/20, Train Loss: 124.3429, Val mAP@50: 0.4521, FPS: 283.07, Epoch Time: 5.21 seconds\n",
      "Epoch 7/20, Train Loss: 109.2934, Val mAP@50: 0.4546, FPS: 283.22, Epoch Time: 5.19 seconds\n"
     ]
    },
    {
     "name": "stderr",
     "output_type": "stream",
     "text": [
      "[I 2025-01-26 20:02:47,033] Trial 30 pruned. \n"
     ]
    },
    {
     "name": "stdout",
     "output_type": "stream",
     "text": [
      "Trial pruned by Optuna at epoch 7.\n",
      "Checking Model: SSD\n",
      "Starting Trial #31\n",
      "{'batch_size': 4, 'epochs': 20, 'preweight_mode': 'fine_tuning', 'optimizer': 'AdamW', 'lr': 0.00014466316196571903, 'weight_decay': 0.0020544844551418735, 'beta1': 0.8270926672523146, 'beta2': 0.988480763549091, 'scheduler': 'OneCycleLR', 'max_lr': 0.0034415969241909992}\n",
      "Epoch 1/20, Train Loss: 598.7013, Val mAP@50: 0.0000, FPS: 262.97, Epoch Time: 5.47 seconds\n",
      "Epoch 2/20, Train Loss: 447.8959, Val mAP@50: 0.2322, FPS: 261.68, Epoch Time: 5.49 seconds\n",
      "Epoch 3/20, Train Loss: 361.3140, Val mAP@50: 0.3164, FPS: 261.32, Epoch Time: 5.51 seconds\n",
      "Epoch 4/20, Train Loss: 311.6592, Val mAP@50: 0.3913, FPS: 261.27, Epoch Time: 5.53 seconds\n",
      "Epoch 5/20, Train Loss: 259.2535, Val mAP@50: 0.4100, FPS: 262.16, Epoch Time: 5.56 seconds\n",
      "Epoch 6/20, Train Loss: 227.1034, Val mAP@50: 0.4612, FPS: 261.34, Epoch Time: 5.54 seconds\n",
      "Epoch 7/20, Train Loss: 184.5307, Val mAP@50: 0.4635, FPS: 261.81, Epoch Time: 5.51 seconds\n",
      "Epoch 8/20, Train Loss: 167.7756, Val mAP@50: 0.4770, FPS: 261.36, Epoch Time: 5.51 seconds\n"
     ]
    },
    {
     "name": "stderr",
     "output_type": "stream",
     "text": [
      "[I 2025-01-26 20:03:38,436] Trial 31 pruned. \n"
     ]
    },
    {
     "name": "stdout",
     "output_type": "stream",
     "text": [
      "Trial pruned by Optuna at epoch 8.\n",
      "Checking Model: SSD\n",
      "Starting Trial #32\n",
      "{'batch_size': 4, 'epochs': 19, 'preweight_mode': 'fine_tuning', 'optimizer': 'AdamW', 'lr': 0.00020289920640273815, 'weight_decay': 0.003077977001200528, 'beta1': 0.8513018238515586, 'beta2': 0.97905109048843, 'scheduler': 'OneCycleLR', 'max_lr': 0.0020254514551623463}\n",
      "Epoch 1/19, Train Loss: 580.4489, Val mAP@50: 0.1215, FPS: 262.68, Epoch Time: 5.49 seconds\n",
      "Epoch 2/19, Train Loss: 376.8470, Val mAP@50: 0.2329, FPS: 261.74, Epoch Time: 5.49 seconds\n",
      "Epoch 3/19, Train Loss: 303.6255, Val mAP@50: 0.4227, FPS: 261.46, Epoch Time: 5.47 seconds\n",
      "Epoch 4/19, Train Loss: 247.6535, Val mAP@50: 0.4273, FPS: 261.45, Epoch Time: 5.47 seconds\n",
      "Epoch 5/19, Train Loss: 211.6726, Val mAP@50: 0.4452, FPS: 260.78, Epoch Time: 5.53 seconds\n",
      "Epoch 6/19, Train Loss: 177.8237, Val mAP@50: 0.4576, FPS: 259.42, Epoch Time: 5.57 seconds\n",
      "Epoch 7/19, Train Loss: 164.5586, Val mAP@50: 0.4799, FPS: 261.50, Epoch Time: 5.53 seconds\n",
      "Epoch 8/19, Train Loss: 139.2543, Val mAP@50: 0.4676, FPS: 260.11, Epoch Time: 5.52 seconds\n",
      "Epoch 9/19, Train Loss: 122.1364, Val mAP@50: 0.5015, FPS: 261.27, Epoch Time: 5.55 seconds\n",
      "Epoch 10/19, Train Loss: 111.3058, Val mAP@50: 0.5387, FPS: 260.12, Epoch Time: 5.62 seconds\n",
      "Epoch 11/19, Train Loss: 92.6546, Val mAP@50: 0.5002, FPS: 262.31, Epoch Time: 5.52 seconds\n",
      "Epoch 12/19, Train Loss: 84.2655, Val mAP@50: 0.5267, FPS: 261.86, Epoch Time: 5.52 seconds\n",
      "Epoch 13/19, Train Loss: 72.8798, Val mAP@50: 0.5320, FPS: 263.29, Epoch Time: 5.47 seconds\n",
      "Epoch 14/19, Train Loss: 63.6332, Val mAP@50: 0.5600, FPS: 263.08, Epoch Time: 5.52 seconds\n",
      "Epoch 15/19, Train Loss: 59.6867, Val mAP@50: 0.5244, FPS: 264.12, Epoch Time: 5.53 seconds\n",
      "Epoch 16/19, Train Loss: 55.6956, Val mAP@50: 0.5664, FPS: 262.88, Epoch Time: 5.52 seconds\n",
      "Epoch 17/19, Train Loss: 45.3775, Val mAP@50: 0.5195, FPS: 263.16, Epoch Time: 5.57 seconds\n",
      "Epoch 18/19, Train Loss: 42.6019, Val mAP@50: 0.5723, FPS: 263.47, Epoch Time: 5.53 seconds\n"
     ]
    },
    {
     "name": "stderr",
     "output_type": "stream",
     "text": [
      "[I 2025-01-26 20:05:25,308] Trial 32 finished with value: 0.5722687840461731 and parameters: {'batch_size': 4, 'epochs': 19, 'preweight_mode': 'fine_tuning', 'optimizer': 'AdamW', 'lr': 0.00020289920640273815, 'weight_decay': 0.003077977001200528, 'beta1': 0.8513018238515586, 'beta2': 0.97905109048843, 'scheduler': 'OneCycleLR', 'max_lr': 0.0020254514551623463}. Best is trial 22 with value: 0.6089831590652466.\n"
     ]
    },
    {
     "name": "stdout",
     "output_type": "stream",
     "text": [
      "Epoch 19/19, Train Loss: 41.4631, Val mAP@50: 0.5613, FPS: 263.19, Epoch Time: 5.52 seconds\n",
      "Best Epoch: 17, Best Val mAP@50: 0.5723, Training Time: 104.95 seconds\n",
      "Model training complete.\n",
      "Checking Model: SSD\n",
      "Starting Trial #33\n",
      "{'batch_size': 4, 'epochs': 20, 'preweight_mode': 'fine_tuning', 'optimizer': 'AdamW', 'lr': 0.0003019803517718709, 'weight_decay': 0.001655120055776081, 'beta1': 0.8663137057855018, 'beta2': 0.9909922527035862, 'scheduler': 'OneCycleLR', 'max_lr': 0.003036320896262546}\n",
      "Epoch 1/20, Train Loss: 577.8408, Val mAP@50: 0.1089, FPS: 262.16, Epoch Time: 5.49 seconds\n",
      "Epoch 2/20, Train Loss: 399.9732, Val mAP@50: 0.3507, FPS: 261.38, Epoch Time: 5.49 seconds\n",
      "Epoch 3/20, Train Loss: 330.4571, Val mAP@50: 0.3670, FPS: 262.11, Epoch Time: 5.50 seconds\n",
      "Epoch 4/20, Train Loss: 273.0718, Val mAP@50: 0.4409, FPS: 261.45, Epoch Time: 5.50 seconds\n",
      "Epoch 5/20, Train Loss: 237.1558, Val mAP@50: 0.4684, FPS: 262.03, Epoch Time: 5.49 seconds\n",
      "Epoch 6/20, Train Loss: 200.1258, Val mAP@50: 0.4851, FPS: 260.68, Epoch Time: 5.50 seconds\n",
      "Epoch 7/20, Train Loss: 178.3000, Val mAP@50: 0.4818, FPS: 262.10, Epoch Time: 5.59 seconds\n",
      "Epoch 8/20, Train Loss: 150.1674, Val mAP@50: 0.5153, FPS: 260.58, Epoch Time: 5.55 seconds\n",
      "Epoch 9/20, Train Loss: 128.9251, Val mAP@50: 0.5262, FPS: 262.02, Epoch Time: 5.55 seconds\n",
      "Epoch 10/20, Train Loss: 115.2778, Val mAP@50: 0.5455, FPS: 261.21, Epoch Time: 5.62 seconds\n",
      "Epoch 11/20, Train Loss: 103.4117, Val mAP@50: 0.5556, FPS: 263.13, Epoch Time: 5.56 seconds\n",
      "Epoch 12/20, Train Loss: 91.3510, Val mAP@50: 0.5412, FPS: 261.83, Epoch Time: 5.55 seconds\n",
      "Epoch 13/20, Train Loss: 80.2999, Val mAP@50: 0.5083, FPS: 263.27, Epoch Time: 5.51 seconds\n",
      "Epoch 14/20, Train Loss: 70.5031, Val mAP@50: 0.5195, FPS: 263.17, Epoch Time: 5.51 seconds\n",
      "Epoch 15/20, Train Loss: 60.3510, Val mAP@50: 0.5272, FPS: 263.61, Epoch Time: 5.52 seconds\n",
      "Epoch 16/20, Train Loss: 54.7738, Val mAP@50: 0.5186, FPS: 262.29, Epoch Time: 5.53 seconds\n",
      "Epoch 17/20, Train Loss: 49.9388, Val mAP@50: 0.4975, FPS: 263.91, Epoch Time: 5.52 seconds\n"
     ]
    },
    {
     "name": "stderr",
     "output_type": "stream",
     "text": [
      "[I 2025-01-26 20:07:06,655] Trial 33 pruned. \n"
     ]
    },
    {
     "name": "stdout",
     "output_type": "stream",
     "text": [
      "Trial pruned by Optuna at epoch 17.\n",
      "Checking Model: SSD\n",
      "Starting Trial #34\n",
      "{'batch_size': 5, 'epochs': 18, 'preweight_mode': 'fine_tuning', 'optimizer': 'AdamW', 'lr': 0.0001014809663069016, 'weight_decay': 0.002290077952932394, 'beta1': 0.8957008035275923, 'beta2': 0.9703902955995946, 'scheduler': 'StepLR', 'step_size': 2, 'gamma': 0.4431384512901454}\n",
      "Epoch 1/18, Train Loss: 418.7220, Val mAP@50: 0.3107, FPS: 272.56, Epoch Time: 5.35 seconds\n",
      "Epoch 2/18, Train Loss: 285.0526, Val mAP@50: 0.4177, FPS: 272.59, Epoch Time: 5.30 seconds\n",
      "Epoch 3/18, Train Loss: 212.5171, Val mAP@50: 0.3996, FPS: 271.84, Epoch Time: 5.31 seconds\n",
      "Epoch 4/18, Train Loss: 170.8941, Val mAP@50: 0.4809, FPS: 272.70, Epoch Time: 5.40 seconds\n",
      "Epoch 5/18, Train Loss: 137.6351, Val mAP@50: 0.4541, FPS: 272.64, Epoch Time: 5.34 seconds\n",
      "Epoch 6/18, Train Loss: 120.6119, Val mAP@50: 0.4755, FPS: 272.17, Epoch Time: 5.35 seconds\n",
      "Epoch 7/18, Train Loss: 104.8316, Val mAP@50: 0.4832, FPS: 272.86, Epoch Time: 5.32 seconds\n",
      "Epoch 8/18, Train Loss: 98.5772, Val mAP@50: 0.4802, FPS: 272.55, Epoch Time: 5.33 seconds\n"
     ]
    },
    {
     "name": "stderr",
     "output_type": "stream",
     "text": [
      "[I 2025-01-26 20:07:56,532] Trial 34 pruned. \n"
     ]
    },
    {
     "name": "stdout",
     "output_type": "stream",
     "text": [
      "Trial pruned by Optuna at epoch 8.\n",
      "Checking Model: SSD\n",
      "Starting Trial #35\n",
      "{'batch_size': 4, 'epochs': 16, 'preweight_mode': 'fine_tuning', 'optimizer': 'Adam', 'lr': 0.0001423039577428946, 'beta1': 0.842949562437673, 'beta2': 0.981294259087538, 'scheduler': 'OneCycleLR', 'max_lr': 0.0043766459003736664}\n",
      "Epoch 1/16, Train Loss: 612.2678, Val mAP@50: 0.0000, FPS: 261.08, Epoch Time: 5.50 seconds\n",
      "Epoch 2/16, Train Loss: 511.9947, Val mAP@50: 0.0000, FPS: 260.54, Epoch Time: 5.48 seconds\n",
      "Epoch 3/16, Train Loss: 439.3405, Val mAP@50: 0.2006, FPS: 260.86, Epoch Time: 5.53 seconds\n",
      "Epoch 4/16, Train Loss: 375.2540, Val mAP@50: 0.3222, FPS: 260.48, Epoch Time: 5.52 seconds\n",
      "Epoch 5/16, Train Loss: 327.8308, Val mAP@50: 0.3789, FPS: 261.00, Epoch Time: 5.54 seconds\n"
     ]
    },
    {
     "name": "stderr",
     "output_type": "stream",
     "text": [
      "[I 2025-01-26 20:08:31,424] Trial 35 pruned. \n"
     ]
    },
    {
     "name": "stdout",
     "output_type": "stream",
     "text": [
      "Trial pruned by Optuna at epoch 5.\n",
      "Checking Model: SSD\n",
      "Starting Trial #36\n",
      "{'batch_size': 6, 'epochs': 12, 'preweight_mode': 'freezing', 'optimizer': 'SGD', 'lr': 0.0052865162787768035, 'momentum': 0.9588815174666938, 'weight_decay': 0.0007213566726688312, 'scheduler': 'StepLR', 'step_size': 3, 'gamma': 0.3586453883496105}\n",
      "Epoch 1/12, Train Loss: 7311.0661, Val mAP@50: 0.0031, FPS: 276.05, Epoch Time: 4.95 seconds\n",
      "Epoch 2/12, Train Loss: 7039.4864, Val mAP@50: 0.0002, FPS: 281.76, Epoch Time: 4.93 seconds\n",
      "Epoch 3/12, Train Loss: 5693.2069, Val mAP@50: 0.0015, FPS: 284.95, Epoch Time: 4.97 seconds\n",
      "Epoch 4/12, Train Loss: 3589.0807, Val mAP@50: 0.0014, FPS: 279.35, Epoch Time: 4.95 seconds\n",
      "Epoch 5/12, Train Loss: 2376.5534, Val mAP@50: 0.0147, FPS: 280.70, Epoch Time: 4.95 seconds\n"
     ]
    },
    {
     "name": "stderr",
     "output_type": "stream",
     "text": [
      "[I 2025-01-26 20:09:02,919] Trial 36 pruned. \n"
     ]
    },
    {
     "name": "stdout",
     "output_type": "stream",
     "text": [
      "Trial pruned by Optuna at epoch 5.\n",
      "Checking Model: SSD\n",
      "Starting Trial #37\n",
      "{'batch_size': 4, 'epochs': 19, 'preweight_mode': 'fine_tuning', 'optimizer': 'RMSprop', 'lr': 0.001061103319681575, 'weight_decay': 0.10430042932727634, 'momentum': 0.9303396115608304, 'scheduler': 'OneCycleLR', 'max_lr': 0.007312007988040783}\n",
      "Epoch 1/19, Train Loss: 2296816298.4033, Val mAP@50: 0.0000, FPS: 264.56, Epoch Time: 6.16 seconds\n",
      "Epoch 2/19, Train Loss: 86073345477886.1562, Val mAP@50: 0.0000, FPS: 264.65, Epoch Time: 6.15 seconds\n",
      "Epoch 3/19, Train Loss: 166905972707.6733, Val mAP@50: 0.0000, FPS: 264.33, Epoch Time: 5.47 seconds\n",
      "Epoch 4/19, Train Loss: 137764204638.5334, Val mAP@50: 0.0000, FPS: 264.99, Epoch Time: 6.25 seconds\n"
     ]
    },
    {
     "name": "stderr",
     "output_type": "stream",
     "text": [
      "[I 2025-01-26 20:09:34,279] Trial 37 pruned. \n"
     ]
    },
    {
     "name": "stdout",
     "output_type": "stream",
     "text": [
      "Trial pruned by Optuna at epoch 4.\n",
      "Checking Model: SSD\n",
      "Starting Trial #38\n",
      "{'batch_size': 8, 'epochs': 17, 'preweight_mode': 'random', 'optimizer': 'AdamW', 'lr': 0.0006842522074554914, 'weight_decay': 0.003112574624549819, 'beta1': 0.819865790330163, 'beta2': 0.992412809200241, 'scheduler': 'OneCycleLR', 'max_lr': 0.0015583268349514152}\n",
      "Epoch 1/17, Train Loss: 596.2010, Val mAP@50: 0.0000, FPS: 292.08, Epoch Time: 5.07 seconds\n",
      "Epoch 2/17, Train Loss: 330.9340, Val mAP@50: 0.0000, FPS: 292.22, Epoch Time: 5.00 seconds\n",
      "Epoch 3/17, Train Loss: 323.1722, Val mAP@50: 0.0000, FPS: 291.68, Epoch Time: 4.95 seconds\n",
      "Epoch 4/17, Train Loss: 319.0128, Val mAP@50: 0.0000, FPS: 290.92, Epoch Time: 5.00 seconds\n"
     ]
    },
    {
     "name": "stderr",
     "output_type": "stream",
     "text": [
      "[I 2025-01-26 20:10:00,922] Trial 38 pruned. \n"
     ]
    },
    {
     "name": "stdout",
     "output_type": "stream",
     "text": [
      "Trial pruned by Optuna at epoch 4.\n",
      "Checking Model: SSD\n",
      "Starting Trial #39\n",
      "{'batch_size': 5, 'epochs': 20, 'preweight_mode': 'fine_tuning', 'optimizer': 'RMSprop', 'lr': 0.0010568359278624155, 'weight_decay': 0.10401445003338905, 'momentum': 0.9892451355920723, 'scheduler': 'ReduceLROnPlateau', 'factor': 0.4959889231585858, 'patience': 5}\n",
      "Epoch 1/20, Train Loss: nan, Val mAP@50: 0.0348, FPS: 276.37, Epoch Time: 5.80 seconds\n",
      "Epoch 2/20, Train Loss: nan, Val mAP@50: 0.0348, FPS: 277.28, Epoch Time: 5.77 seconds\n",
      "Epoch 3/20, Train Loss: nan, Val mAP@50: 0.0348, FPS: 275.56, Epoch Time: 5.97 seconds\n",
      "Epoch 4/20, Train Loss: nan, Val mAP@50: 0.0348, FPS: 275.41, Epoch Time: 5.86 seconds\n",
      "Epoch 5/20, Train Loss: nan, Val mAP@50: 0.0348, FPS: 275.02, Epoch Time: 5.87 seconds\n"
     ]
    },
    {
     "name": "stderr",
     "output_type": "stream",
     "text": [
      "[I 2025-01-26 20:10:37,917] Trial 39 pruned. \n"
     ]
    },
    {
     "name": "stdout",
     "output_type": "stream",
     "text": [
      "Trial pruned by Optuna at epoch 5.\n",
      "Checking Model: SSD\n",
      "Starting Trial #40\n",
      "{'batch_size': 6, 'epochs': 18, 'preweight_mode': 'freezing', 'optimizer': 'SGD', 'lr': 0.005222434286785507, 'momentum': 0.9328620591859513, 'weight_decay': 0.0007321254844164243, 'scheduler': 'CosineAnnealingLR', 'T_max': 15, 'eta_min': 2.053187079237173e-06}\n",
      "Epoch 1/18, Train Loss: 4497.0001, Val mAP@50: 0.0000, FPS: 283.42, Epoch Time: 4.90 seconds\n",
      "Epoch 2/18, Train Loss: 3912.3902, Val mAP@50: 0.0019, FPS: 275.51, Epoch Time: 4.89 seconds\n",
      "Epoch 3/18, Train Loss: 4535.4312, Val mAP@50: 0.0118, FPS: 284.23, Epoch Time: 4.92 seconds\n",
      "Epoch 4/18, Train Loss: 3656.7940, Val mAP@50: 0.0047, FPS: 279.31, Epoch Time: 4.96 seconds\n",
      "Epoch 5/18, Train Loss: 3155.8924, Val mAP@50: 0.0131, FPS: 277.64, Epoch Time: 4.95 seconds\n"
     ]
    },
    {
     "name": "stderr",
     "output_type": "stream",
     "text": [
      "[I 2025-01-26 20:11:09,302] Trial 40 pruned. \n"
     ]
    },
    {
     "name": "stdout",
     "output_type": "stream",
     "text": [
      "Trial pruned by Optuna at epoch 5.\n",
      "Checking Model: SSD\n",
      "Starting Trial #41\n",
      "{'batch_size': 4, 'epochs': 18, 'preweight_mode': 'fine_tuning', 'optimizer': 'AdamW', 'lr': 0.0001029025601711565, 'weight_decay': 0.0016062115862496196, 'beta1': 0.8810560892680209, 'beta2': 0.9530344538200709, 'scheduler': 'OneCycleLR', 'max_lr': 0.0018609138770531188}\n",
      "Epoch 1/18, Train Loss: 532.6265, Val mAP@50: 0.2802, FPS: 261.94, Epoch Time: 5.55 seconds\n",
      "Epoch 2/18, Train Loss: 355.4963, Val mAP@50: 0.3569, FPS: 261.23, Epoch Time: 5.53 seconds\n",
      "Epoch 3/18, Train Loss: 284.3163, Val mAP@50: 0.4218, FPS: 261.83, Epoch Time: 5.53 seconds\n",
      "Epoch 4/18, Train Loss: 226.9635, Val mAP@50: 0.4205, FPS: 261.58, Epoch Time: 5.53 seconds\n",
      "Epoch 5/18, Train Loss: 189.8441, Val mAP@50: 0.4568, FPS: 262.46, Epoch Time: 5.53 seconds\n",
      "Epoch 6/18, Train Loss: 166.2018, Val mAP@50: 0.4876, FPS: 260.89, Epoch Time: 5.52 seconds\n",
      "Epoch 7/18, Train Loss: 144.2081, Val mAP@50: 0.4965, FPS: 262.46, Epoch Time: 5.52 seconds\n",
      "Epoch 8/18, Train Loss: 128.0110, Val mAP@50: 0.5115, FPS: 261.70, Epoch Time: 5.60 seconds\n",
      "Epoch 9/18, Train Loss: 113.2027, Val mAP@50: 0.5516, FPS: 262.50, Epoch Time: 5.52 seconds\n",
      "Epoch 10/18, Train Loss: 95.2755, Val mAP@50: 0.5380, FPS: 261.56, Epoch Time: 5.51 seconds\n",
      "Epoch 11/18, Train Loss: 85.5465, Val mAP@50: 0.5291, FPS: 263.83, Epoch Time: 5.51 seconds\n",
      "Epoch 12/18, Train Loss: 75.2609, Val mAP@50: 0.5238, FPS: 262.98, Epoch Time: 5.55 seconds\n",
      "Epoch 13/18, Train Loss: 71.4379, Val mAP@50: 0.5265, FPS: 263.95, Epoch Time: 5.51 seconds\n",
      "Epoch 14/18, Train Loss: 62.6587, Val mAP@50: 0.5372, FPS: 264.38, Epoch Time: 5.57 seconds\n",
      "Epoch 15/18, Train Loss: 55.4422, Val mAP@50: 0.5121, FPS: 263.61, Epoch Time: 5.59 seconds\n",
      "Epoch 16/18, Train Loss: 52.2202, Val mAP@50: 0.5877, FPS: 262.80, Epoch Time: 5.51 seconds\n",
      "Epoch 17/18, Train Loss: 47.2083, Val mAP@50: 0.5480, FPS: 264.07, Epoch Time: 5.51 seconds\n"
     ]
    },
    {
     "name": "stderr",
     "output_type": "stream",
     "text": [
      "[I 2025-01-26 20:12:50,796] Trial 41 finished with value: 0.5877141952514648 and parameters: {'batch_size': 4, 'epochs': 18, 'preweight_mode': 'fine_tuning', 'optimizer': 'AdamW', 'lr': 0.0001029025601711565, 'weight_decay': 0.0016062115862496196, 'beta1': 0.8810560892680209, 'beta2': 0.9530344538200709, 'scheduler': 'OneCycleLR', 'max_lr': 0.0018609138770531188}. Best is trial 22 with value: 0.6089831590652466.\n"
     ]
    },
    {
     "name": "stdout",
     "output_type": "stream",
     "text": [
      "Epoch 18/18, Train Loss: 42.2353, Val mAP@50: 0.5729, FPS: 262.86, Epoch Time: 5.47 seconds\n",
      "Best Epoch: 15, Best Val mAP@50: 0.5877, Training Time: 99.56 seconds\n",
      "Model training complete.\n",
      "Checking Model: SSD\n",
      "Starting Trial #42\n",
      "{'batch_size': 4, 'epochs': 19, 'preweight_mode': 'fine_tuning', 'optimizer': 'AdamW', 'lr': 0.00012721470813085528, 'weight_decay': 0.001468377915872327, 'beta1': 0.8760465645365698, 'beta2': 0.9485127450231017, 'scheduler': 'OneCycleLR', 'max_lr': 0.0034193201450994524}\n",
      "Epoch 1/19, Train Loss: 591.3489, Val mAP@50: 0.0000, FPS: 262.38, Epoch Time: 5.44 seconds\n",
      "Epoch 2/19, Train Loss: 425.6568, Val mAP@50: 0.2369, FPS: 261.77, Epoch Time: 5.48 seconds\n",
      "Epoch 3/19, Train Loss: 348.6549, Val mAP@50: 0.2918, FPS: 262.14, Epoch Time: 5.48 seconds\n",
      "Epoch 4/19, Train Loss: 294.5380, Val mAP@50: 0.3606, FPS: 261.46, Epoch Time: 5.51 seconds\n",
      "Epoch 5/19, Train Loss: 252.5599, Val mAP@50: 0.4091, FPS: 262.05, Epoch Time: 5.54 seconds\n"
     ]
    },
    {
     "name": "stderr",
     "output_type": "stream",
     "text": [
      "[I 2025-01-26 20:13:25,529] Trial 42 pruned. \n"
     ]
    },
    {
     "name": "stdout",
     "output_type": "stream",
     "text": [
      "Trial pruned by Optuna at epoch 5.\n",
      "Checking Model: SSD\n",
      "Starting Trial #43\n",
      "{'batch_size': 4, 'epochs': 17, 'preweight_mode': 'fine_tuning', 'optimizer': 'AdamW', 'lr': 0.0001973628950700384, 'weight_decay': 0.001175086341659615, 'beta1': 0.8982230460306432, 'beta2': 0.9368601912338138, 'scheduler': 'OneCycleLR', 'max_lr': 0.0008815708812144597}\n",
      "Epoch 1/17, Train Loss: 559.0486, Val mAP@50: 0.3764, FPS: 262.29, Epoch Time: 5.59 seconds\n",
      "Epoch 2/17, Train Loss: 352.1622, Val mAP@50: 0.3369, FPS: 260.51, Epoch Time: 5.59 seconds\n",
      "Epoch 3/17, Train Loss: 273.5758, Val mAP@50: 0.3959, FPS: 262.12, Epoch Time: 5.46 seconds\n",
      "Epoch 4/17, Train Loss: 222.7547, Val mAP@50: 0.4337, FPS: 261.38, Epoch Time: 5.45 seconds\n",
      "Epoch 5/17, Train Loss: 189.9654, Val mAP@50: 0.4363, FPS: 262.03, Epoch Time: 5.45 seconds\n",
      "Epoch 6/17, Train Loss: 164.3284, Val mAP@50: 0.4364, FPS: 260.65, Epoch Time: 5.46 seconds\n"
     ]
    },
    {
     "name": "stderr",
     "output_type": "stream",
     "text": [
      "[I 2025-01-26 20:14:05,804] Trial 43 pruned. \n"
     ]
    },
    {
     "name": "stdout",
     "output_type": "stream",
     "text": [
      "Trial pruned by Optuna at epoch 6.\n",
      "Checking Model: SSD\n",
      "Starting Trial #44\n",
      "{'batch_size': 4, 'epochs': 20, 'preweight_mode': 'fine_tuning', 'optimizer': 'AdamW', 'lr': 0.0001241720642629135, 'weight_decay': 0.0019097809544456684, 'beta1': 0.8560685003721433, 'beta2': 0.9554137127115037, 'scheduler': 'OneCycleLR', 'max_lr': 0.0019838647120101315}\n",
      "Epoch 1/20, Train Loss: 533.5514, Val mAP@50: 0.2426, FPS: 262.45, Epoch Time: 5.43 seconds\n",
      "Epoch 2/20, Train Loss: 344.1627, Val mAP@50: 0.3901, FPS: 260.84, Epoch Time: 5.47 seconds\n",
      "Epoch 3/20, Train Loss: 269.5022, Val mAP@50: 0.4272, FPS: 262.22, Epoch Time: 5.54 seconds\n",
      "Epoch 4/20, Train Loss: 224.0044, Val mAP@50: 0.4709, FPS: 261.14, Epoch Time: 5.51 seconds\n",
      "Epoch 5/20, Train Loss: 188.6409, Val mAP@50: 0.4766, FPS: 260.72, Epoch Time: 5.56 seconds\n",
      "Epoch 6/20, Train Loss: 166.4072, Val mAP@50: 0.4853, FPS: 260.10, Epoch Time: 5.51 seconds\n",
      "Epoch 7/20, Train Loss: 142.0295, Val mAP@50: 0.5020, FPS: 260.37, Epoch Time: 5.53 seconds\n",
      "Epoch 8/20, Train Loss: 125.1325, Val mAP@50: 0.5147, FPS: 259.06, Epoch Time: 5.54 seconds\n",
      "Epoch 9/20, Train Loss: 111.3175, Val mAP@50: 0.5092, FPS: 259.99, Epoch Time: 5.52 seconds\n",
      "Epoch 10/20, Train Loss: 96.7030, Val mAP@50: 0.5742, FPS: 259.80, Epoch Time: 5.58 seconds\n",
      "Epoch 11/20, Train Loss: 85.8013, Val mAP@50: 0.5353, FPS: 260.56, Epoch Time: 5.56 seconds\n",
      "Epoch 12/20, Train Loss: 71.9797, Val mAP@50: 0.5563, FPS: 260.97, Epoch Time: 5.54 seconds\n",
      "Epoch 13/20, Train Loss: 66.7974, Val mAP@50: 0.5794, FPS: 261.48, Epoch Time: 5.68 seconds\n",
      "Epoch 14/20, Train Loss: 59.1002, Val mAP@50: 0.5261, FPS: 262.39, Epoch Time: 5.62 seconds\n",
      "Epoch 15/20, Train Loss: 54.0790, Val mAP@50: 0.5785, FPS: 262.41, Epoch Time: 5.54 seconds\n",
      "Epoch 16/20, Train Loss: 47.7881, Val mAP@50: 0.5553, FPS: 261.37, Epoch Time: 5.56 seconds\n",
      "Epoch 17/20, Train Loss: 45.5864, Val mAP@50: 0.6123, FPS: 262.37, Epoch Time: 5.53 seconds\n",
      "Epoch 18/20, Train Loss: 39.2557, Val mAP@50: 0.5957, FPS: 260.50, Epoch Time: 5.53 seconds\n",
      "Epoch 19/20, Train Loss: 38.6408, Val mAP@50: 0.5955, FPS: 262.37, Epoch Time: 5.57 seconds\n"
     ]
    },
    {
     "name": "stderr",
     "output_type": "stream",
     "text": [
      "[I 2025-01-26 20:15:58,612] Trial 44 finished with value: 0.6123211979866028 and parameters: {'batch_size': 4, 'epochs': 20, 'preweight_mode': 'fine_tuning', 'optimizer': 'AdamW', 'lr': 0.0001241720642629135, 'weight_decay': 0.0019097809544456684, 'beta1': 0.8560685003721433, 'beta2': 0.9554137127115037, 'scheduler': 'OneCycleLR', 'max_lr': 0.0019838647120101315}. Best is trial 44 with value: 0.6123211979866028.\n"
     ]
    },
    {
     "name": "stdout",
     "output_type": "stream",
     "text": [
      "Epoch 20/20, Train Loss: 34.3650, Val mAP@50: 0.5518, FPS: 262.52, Epoch Time: 5.59 seconds\n",
      "Best Epoch: 16, Best Val mAP@50: 0.6123, Training Time: 110.91 seconds\n",
      "Model training complete.\n",
      "Checking Model: SSD\n",
      "Starting Trial #45\n",
      "{'batch_size': 4, 'epochs': 20, 'preweight_mode': 'fine_tuning', 'optimizer': 'AdamW', 'lr': 0.00039811728065715054, 'weight_decay': 0.0018773312384415862, 'beta1': 0.8504612399296243, 'beta2': 0.970477194689418, 'scheduler': 'OneCycleLR', 'max_lr': 0.0023563737763425026}\n",
      "Epoch 1/20, Train Loss: 549.2243, Val mAP@50: 0.2487, FPS: 260.70, Epoch Time: 5.54 seconds\n",
      "Epoch 2/20, Train Loss: 358.2444, Val mAP@50: 0.2560, FPS: 260.48, Epoch Time: 5.52 seconds\n",
      "Epoch 3/20, Train Loss: 292.3448, Val mAP@50: 0.4013, FPS: 263.48, Epoch Time: 5.49 seconds\n",
      "Epoch 4/20, Train Loss: 246.1579, Val mAP@50: 0.4079, FPS: 261.74, Epoch Time: 5.56 seconds\n",
      "Epoch 5/20, Train Loss: 205.6208, Val mAP@50: 0.4408, FPS: 262.22, Epoch Time: 5.53 seconds\n",
      "Epoch 6/20, Train Loss: 177.3840, Val mAP@50: 0.4509, FPS: 261.57, Epoch Time: 5.54 seconds\n",
      "Epoch 7/20, Train Loss: 153.7198, Val mAP@50: 0.5422, FPS: 262.27, Epoch Time: 5.54 seconds\n",
      "Epoch 8/20, Train Loss: 129.5832, Val mAP@50: 0.5529, FPS: 261.38, Epoch Time: 5.44 seconds\n",
      "Epoch 9/20, Train Loss: 114.3512, Val mAP@50: 0.5583, FPS: 262.17, Epoch Time: 5.50 seconds\n",
      "Epoch 10/20, Train Loss: 105.4515, Val mAP@50: 0.5534, FPS: 261.23, Epoch Time: 5.48 seconds\n",
      "Epoch 11/20, Train Loss: 90.2216, Val mAP@50: 0.5347, FPS: 263.29, Epoch Time: 5.47 seconds\n",
      "Epoch 12/20, Train Loss: 78.5087, Val mAP@50: 0.5386, FPS: 263.42, Epoch Time: 5.45 seconds\n",
      "Epoch 13/20, Train Loss: 68.7423, Val mAP@50: 0.5076, FPS: 264.28, Epoch Time: 5.50 seconds\n",
      "Epoch 14/20, Train Loss: 60.3162, Val mAP@50: 0.5508, FPS: 263.63, Epoch Time: 5.48 seconds\n",
      "Epoch 15/20, Train Loss: 54.7435, Val mAP@50: 0.5763, FPS: 265.38, Epoch Time: 5.46 seconds\n",
      "Epoch 16/20, Train Loss: 53.3447, Val mAP@50: 0.5981, FPS: 264.66, Epoch Time: 5.43 seconds\n",
      "Epoch 17/20, Train Loss: 43.5029, Val mAP@50: 0.5510, FPS: 265.51, Epoch Time: 5.45 seconds\n",
      "Epoch 18/20, Train Loss: 42.8314, Val mAP@50: 0.5441, FPS: 264.58, Epoch Time: 5.46 seconds\n",
      "Epoch 19/20, Train Loss: 36.9497, Val mAP@50: 0.5709, FPS: 265.57, Epoch Time: 5.50 seconds\n"
     ]
    },
    {
     "name": "stderr",
     "output_type": "stream",
     "text": [
      "[I 2025-01-26 20:17:50,346] Trial 45 finished with value: 0.5981408357620239 and parameters: {'batch_size': 4, 'epochs': 20, 'preweight_mode': 'fine_tuning', 'optimizer': 'AdamW', 'lr': 0.00039811728065715054, 'weight_decay': 0.0018773312384415862, 'beta1': 0.8504612399296243, 'beta2': 0.970477194689418, 'scheduler': 'OneCycleLR', 'max_lr': 0.0023563737763425026}. Best is trial 44 with value: 0.6123211979866028.\n"
     ]
    },
    {
     "name": "stdout",
     "output_type": "stream",
     "text": [
      "Epoch 20/20, Train Loss: 35.7956, Val mAP@50: 0.5548, FPS: 265.57, Epoch Time: 5.46 seconds\n",
      "Best Epoch: 15, Best Val mAP@50: 0.5981, Training Time: 109.79 seconds\n",
      "Model training complete.\n",
      "Checking Model: SSD\n",
      "Starting Trial #46\n",
      "{'batch_size': 5, 'epochs': 20, 'preweight_mode': 'fine_tuning', 'optimizer': 'RMSprop', 'lr': 0.0016795981282609642, 'weight_decay': 0.10253011266015577, 'momentum': 0.9021699316999451, 'scheduler': 'ReduceLROnPlateau', 'factor': 0.10974878784756065, 'patience': 2}\n",
      "Epoch 1/20, Train Loss: 173947527305194799104.0000, Val mAP@50: 0.0000, FPS: 271.40, Epoch Time: 5.99 seconds\n",
      "Epoch 2/20, Train Loss: 20873629195365.3789, Val mAP@50: 0.0000, FPS: 272.17, Epoch Time: 5.95 seconds\n",
      "Epoch 3/20, Train Loss: 771457.7216, Val mAP@50: 0.0000, FPS: 272.18, Epoch Time: 5.42 seconds\n",
      "Epoch 4/20, Train Loss: 52950.9994, Val mAP@50: 0.0000, FPS: 272.40, Epoch Time: 5.31 seconds\n"
     ]
    },
    {
     "name": "stderr",
     "output_type": "stream",
     "text": [
      "[I 2025-01-26 20:18:20,148] Trial 46 pruned. \n"
     ]
    },
    {
     "name": "stdout",
     "output_type": "stream",
     "text": [
      "Trial pruned by Optuna at epoch 4.\n",
      "Checking Model: SSD\n",
      "Starting Trial #47\n",
      "{'batch_size': 4, 'epochs': 13, 'preweight_mode': 'fine_tuning', 'optimizer': 'SGD', 'lr': 0.005628958767158925, 'momentum': 0.9616232785386751, 'weight_decay': 0.0007970600965411036, 'scheduler': 'StepLR', 'step_size': 4, 'gamma': 0.30379175314115}\n",
      "Epoch 1/13, Train Loss: nan, Val mAP@50: 0.0343, FPS: 263.58, Epoch Time: 5.97 seconds\n",
      "Epoch 2/13, Train Loss: nan, Val mAP@50: 0.0343, FPS: 262.46, Epoch Time: 5.95 seconds\n",
      "Epoch 3/13, Train Loss: nan, Val mAP@50: 0.0343, FPS: 262.95, Epoch Time: 6.10 seconds\n",
      "Epoch 4/13, Train Loss: nan, Val mAP@50: 0.0343, FPS: 261.64, Epoch Time: 6.03 seconds\n",
      "Epoch 5/13, Train Loss: nan, Val mAP@50: 0.0343, FPS: 260.92, Epoch Time: 6.05 seconds\n"
     ]
    },
    {
     "name": "stderr",
     "output_type": "stream",
     "text": [
      "[I 2025-01-26 20:18:58,226] Trial 47 pruned. \n"
     ]
    },
    {
     "name": "stdout",
     "output_type": "stream",
     "text": [
      "Trial pruned by Optuna at epoch 5.\n",
      "Checking Model: SSD\n",
      "Starting Trial #48\n",
      "{'batch_size': 5, 'epochs': 20, 'preweight_mode': 'freezing', 'optimizer': 'AdamW', 'lr': 0.00027324593061591, 'weight_decay': 0.002364673072364931, 'beta1': 0.838524900343395, 'beta2': 0.9581158232190436, 'scheduler': 'OneCycleLR', 'max_lr': 0.0011415792978617548}\n",
      "Epoch 1/20, Train Loss: 839.5931, Val mAP@50: 0.0334, FPS: 265.49, Epoch Time: 5.69 seconds\n",
      "Epoch 2/20, Train Loss: 524.9502, Val mAP@50: 0.0623, FPS: 258.44, Epoch Time: 5.02 seconds\n",
      "Epoch 3/20, Train Loss: 445.4621, Val mAP@50: 0.0911, FPS: 263.08, Epoch Time: 5.04 seconds\n",
      "Epoch 4/20, Train Loss: 407.5223, Val mAP@50: 0.1001, FPS: 273.40, Epoch Time: 5.09 seconds\n",
      "Epoch 5/20, Train Loss: 383.1264, Val mAP@50: 0.1169, FPS: 266.91, Epoch Time: 5.05 seconds\n"
     ]
    },
    {
     "name": "stderr",
     "output_type": "stream",
     "text": [
      "[I 2025-01-26 20:19:31,032] Trial 48 pruned. \n"
     ]
    },
    {
     "name": "stdout",
     "output_type": "stream",
     "text": [
      "Trial pruned by Optuna at epoch 5.\n",
      "Checking Model: SSD\n",
      "Starting Trial #49\n",
      "{'batch_size': 4, 'epochs': 19, 'preweight_mode': 'random', 'optimizer': 'AdamW', 'lr': 0.0005671543422154655, 'weight_decay': 0.0026922529770564817, 'beta1': 0.85144290918687, 'beta2': 0.9676935535923107, 'scheduler': 'OneCycleLR', 'max_lr': 0.0021343467221605914}\n",
      "Epoch 1/19, Train Loss: 893.1945, Val mAP@50: 0.0000, FPS: 260.82, Epoch Time: 5.56 seconds\n",
      "Epoch 2/19, Train Loss: 637.8192, Val mAP@50: 0.0000, FPS: 260.87, Epoch Time: 5.51 seconds\n",
      "Epoch 3/19, Train Loss: 599.6952, Val mAP@50: 0.0000, FPS: 261.07, Epoch Time: 5.48 seconds\n",
      "Epoch 4/19, Train Loss: 565.6729, Val mAP@50: 0.0000, FPS: 261.01, Epoch Time: 5.51 seconds\n"
     ]
    },
    {
     "name": "stderr",
     "output_type": "stream",
     "text": [
      "[I 2025-01-26 20:20:00,276] Trial 49 pruned. \n"
     ]
    },
    {
     "name": "stdout",
     "output_type": "stream",
     "text": [
      "Trial pruned by Optuna at epoch 4.\n",
      "Checking Model: SSD\n",
      "Starting Trial #50\n",
      "{'batch_size': 4, 'epochs': 14, 'preweight_mode': 'fine_tuning', 'optimizer': 'AdamW', 'lr': 0.00039168193988908107, 'weight_decay': 0.0021459822681416858, 'beta1': 0.8169820573257388, 'beta2': 0.9747537623523922, 'scheduler': 'OneCycleLR', 'max_lr': 0.0046476413258019315}\n",
      "Epoch 1/14, Train Loss: 612.4238, Val mAP@50: 0.0000, FPS: 260.94, Epoch Time: 5.56 seconds\n",
      "Epoch 2/14, Train Loss: 526.9862, Val mAP@50: 0.0000, FPS: 261.66, Epoch Time: 5.54 seconds\n",
      "Epoch 3/14, Train Loss: 478.3407, Val mAP@50: 0.0198, FPS: 260.59, Epoch Time: 5.46 seconds\n",
      "Epoch 4/14, Train Loss: 413.0650, Val mAP@50: 0.1060, FPS: 260.92, Epoch Time: 5.48 seconds\n",
      "Epoch 5/14, Train Loss: 362.8195, Val mAP@50: 0.3271, FPS: 260.62, Epoch Time: 5.51 seconds\n"
     ]
    },
    {
     "name": "stderr",
     "output_type": "stream",
     "text": [
      "[I 2025-01-26 20:20:35,172] Trial 50 pruned. \n"
     ]
    },
    {
     "name": "stdout",
     "output_type": "stream",
     "text": [
      "Trial pruned by Optuna at epoch 5.\n",
      "Checking Model: SSD\n",
      "Starting Trial #51\n",
      "{'batch_size': 4, 'epochs': 20, 'preweight_mode': 'fine_tuning', 'optimizer': 'AdamW', 'lr': 0.00012657990091044584, 'weight_decay': 0.0019195760363364494, 'beta1': 0.856933193741776, 'beta2': 0.9455142712056112, 'scheduler': 'OneCycleLR', 'max_lr': 0.003965246686067719}\n",
      "Epoch 1/20, Train Loss: 610.5569, Val mAP@50: 0.0000, FPS: 259.69, Epoch Time: 5.50 seconds\n",
      "Epoch 2/20, Train Loss: 492.2668, Val mAP@50: 0.0099, FPS: 260.14, Epoch Time: 5.52 seconds\n",
      "Epoch 3/20, Train Loss: 410.8652, Val mAP@50: 0.2660, FPS: 259.07, Epoch Time: 5.55 seconds\n",
      "Epoch 4/20, Train Loss: 350.0922, Val mAP@50: 0.3224, FPS: 259.93, Epoch Time: 5.52 seconds\n",
      "Epoch 5/20, Train Loss: 302.4661, Val mAP@50: 0.3706, FPS: 258.80, Epoch Time: 5.48 seconds\n"
     ]
    },
    {
     "name": "stderr",
     "output_type": "stream",
     "text": [
      "[I 2025-01-26 20:21:10,113] Trial 51 pruned. \n"
     ]
    },
    {
     "name": "stdout",
     "output_type": "stream",
     "text": [
      "Trial pruned by Optuna at epoch 5.\n",
      "Checking Model: SSD\n",
      "Starting Trial #52\n",
      "{'batch_size': 4, 'epochs': 20, 'preweight_mode': 'fine_tuning', 'optimizer': 'AdamW', 'lr': 0.0001739213273662255, 'weight_decay': 0.0018919797141897965, 'beta1': 0.8366155677103355, 'beta2': 0.9948524553700865, 'scheduler': 'OneCycleLR', 'max_lr': 0.002581218975047192}\n",
      "Epoch 1/20, Train Loss: 557.7369, Val mAP@50: 0.2814, FPS: 260.18, Epoch Time: 5.53 seconds\n",
      "Epoch 2/20, Train Loss: 380.2872, Val mAP@50: 0.3014, FPS: 260.87, Epoch Time: 5.49 seconds\n",
      "Epoch 3/20, Train Loss: 308.3356, Val mAP@50: 0.3674, FPS: 260.64, Epoch Time: 5.50 seconds\n",
      "Epoch 4/20, Train Loss: 251.3792, Val mAP@50: 0.4527, FPS: 260.12, Epoch Time: 5.49 seconds\n",
      "Epoch 5/20, Train Loss: 222.0843, Val mAP@50: 0.4362, FPS: 260.08, Epoch Time: 5.59 seconds\n",
      "Epoch 6/20, Train Loss: 189.7243, Val mAP@50: 0.4535, FPS: 259.36, Epoch Time: 5.55 seconds\n",
      "Epoch 7/20, Train Loss: 167.3505, Val mAP@50: 0.4950, FPS: 259.72, Epoch Time: 5.55 seconds\n",
      "Epoch 8/20, Train Loss: 142.6200, Val mAP@50: 0.5905, FPS: 258.84, Epoch Time: 5.56 seconds\n",
      "Epoch 9/20, Train Loss: 121.6725, Val mAP@50: 0.5055, FPS: 260.03, Epoch Time: 5.51 seconds\n",
      "Epoch 10/20, Train Loss: 102.8443, Val mAP@50: 0.5551, FPS: 258.98, Epoch Time: 5.56 seconds\n",
      "Epoch 11/20, Train Loss: 100.4731, Val mAP@50: 0.6074, FPS: 260.61, Epoch Time: 5.54 seconds\n",
      "Epoch 12/20, Train Loss: 96.9376, Val mAP@50: 0.5472, FPS: 261.65, Epoch Time: 5.55 seconds\n",
      "Epoch 13/20, Train Loss: 76.6074, Val mAP@50: 0.5487, FPS: 263.81, Epoch Time: 5.53 seconds\n",
      "Epoch 14/20, Train Loss: 64.2434, Val mAP@50: 0.6043, FPS: 263.26, Epoch Time: 5.52 seconds\n",
      "Epoch 15/20, Train Loss: 58.1002, Val mAP@50: 0.5303, FPS: 263.97, Epoch Time: 5.52 seconds\n",
      "Epoch 16/20, Train Loss: 51.3042, Val mAP@50: 0.5654, FPS: 262.10, Epoch Time: 5.49 seconds\n",
      "Epoch 17/20, Train Loss: 49.3563, Val mAP@50: 0.5843, FPS: 263.99, Epoch Time: 5.50 seconds\n",
      "Epoch 18/20, Train Loss: 51.3181, Val mAP@50: 0.5805, FPS: 263.21, Epoch Time: 5.47 seconds\n",
      "Epoch 19/20, Train Loss: 47.6329, Val mAP@50: 0.5535, FPS: 264.29, Epoch Time: 5.46 seconds\n"
     ]
    },
    {
     "name": "stderr",
     "output_type": "stream",
     "text": [
      "[I 2025-01-26 20:23:02,466] Trial 52 finished with value: 0.6073691844940186 and parameters: {'batch_size': 4, 'epochs': 20, 'preweight_mode': 'fine_tuning', 'optimizer': 'AdamW', 'lr': 0.0001739213273662255, 'weight_decay': 0.0018919797141897965, 'beta1': 0.8366155677103355, 'beta2': 0.9948524553700865, 'scheduler': 'OneCycleLR', 'max_lr': 0.002581218975047192}. Best is trial 44 with value: 0.6123211979866028.\n"
     ]
    },
    {
     "name": "stdout",
     "output_type": "stream",
     "text": [
      "Epoch 20/20, Train Loss: 40.2727, Val mAP@50: 0.5793, FPS: 264.40, Epoch Time: 5.47 seconds\n",
      "Best Epoch: 10, Best Val mAP@50: 0.6074, Training Time: 110.38 seconds\n",
      "Model training complete.\n",
      "Checking Model: SSD\n",
      "Starting Trial #53\n",
      "{'batch_size': 4, 'epochs': 19, 'preweight_mode': 'fine_tuning', 'optimizer': 'AdamW', 'lr': 0.00023455484838991864, 'weight_decay': 0.0017706577679613713, 'beta1': 0.8303028094214162, 'beta2': 0.998515418828338, 'scheduler': 'OneCycleLR', 'max_lr': 0.0014511780484411049}\n",
      "Epoch 1/19, Train Loss: 554.7791, Val mAP@50: 0.2411, FPS: 260.28, Epoch Time: 5.56 seconds\n",
      "Epoch 2/19, Train Loss: 356.2479, Val mAP@50: 0.3624, FPS: 259.47, Epoch Time: 5.55 seconds\n",
      "Epoch 3/19, Train Loss: 287.5456, Val mAP@50: 0.4110, FPS: 259.79, Epoch Time: 5.56 seconds\n",
      "Epoch 4/19, Train Loss: 236.6519, Val mAP@50: 0.4818, FPS: 258.79, Epoch Time: 5.61 seconds\n",
      "Epoch 5/19, Train Loss: 197.1517, Val mAP@50: 0.4509, FPS: 259.57, Epoch Time: 5.53 seconds\n",
      "Epoch 6/19, Train Loss: 169.6316, Val mAP@50: 0.4563, FPS: 258.68, Epoch Time: 5.58 seconds\n",
      "Epoch 7/19, Train Loss: 150.7919, Val mAP@50: 0.4596, FPS: 259.56, Epoch Time: 5.57 seconds\n"
     ]
    },
    {
     "name": "stderr",
     "output_type": "stream",
     "text": [
      "[I 2025-01-26 20:23:48,904] Trial 53 pruned. \n"
     ]
    },
    {
     "name": "stdout",
     "output_type": "stream",
     "text": [
      "Trial pruned by Optuna at epoch 7.\n",
      "Checking Model: SSD\n",
      "Starting Trial #54\n",
      "{'batch_size': 5, 'epochs': 20, 'preweight_mode': 'fine_tuning', 'optimizer': 'AdamW', 'lr': 0.0001851809987133863, 'weight_decay': 0.004552257123403948, 'beta1': 0.8380731743550561, 'beta2': 0.9942649283954569, 'scheduler': 'OneCycleLR', 'max_lr': 0.002475227448506326}\n",
      "Epoch 1/20, Train Loss: 430.9191, Val mAP@50: 0.2211, FPS: 270.60, Epoch Time: 5.41 seconds\n",
      "Epoch 2/20, Train Loss: 285.0875, Val mAP@50: 0.3286, FPS: 268.57, Epoch Time: 5.35 seconds\n",
      "Epoch 3/20, Train Loss: 228.0808, Val mAP@50: 0.3767, FPS: 270.72, Epoch Time: 5.37 seconds\n",
      "Epoch 4/20, Train Loss: 192.9532, Val mAP@50: 0.4322, FPS: 269.50, Epoch Time: 5.45 seconds\n",
      "Epoch 5/20, Train Loss: 161.9762, Val mAP@50: 0.4572, FPS: 270.67, Epoch Time: 5.47 seconds\n",
      "Epoch 6/20, Train Loss: 135.9755, Val mAP@50: 0.4681, FPS: 270.38, Epoch Time: 5.49 seconds\n",
      "Epoch 7/20, Train Loss: 116.7124, Val mAP@50: 0.5114, FPS: 270.80, Epoch Time: 5.49 seconds\n",
      "Epoch 8/20, Train Loss: 99.1152, Val mAP@50: 0.4678, FPS: 269.66, Epoch Time: 5.49 seconds\n",
      "Epoch 9/20, Train Loss: 89.8951, Val mAP@50: 0.5487, FPS: 270.91, Epoch Time: 5.47 seconds\n",
      "Epoch 10/20, Train Loss: 82.1405, Val mAP@50: 0.5451, FPS: 269.76, Epoch Time: 5.41 seconds\n",
      "Epoch 11/20, Train Loss: 69.3709, Val mAP@50: 0.5578, FPS: 271.07, Epoch Time: 5.37 seconds\n",
      "Epoch 12/20, Train Loss: 58.6481, Val mAP@50: 0.5431, FPS: 271.79, Epoch Time: 5.37 seconds\n",
      "Epoch 13/20, Train Loss: 53.7126, Val mAP@50: 0.5473, FPS: 270.31, Epoch Time: 5.38 seconds\n",
      "Epoch 14/20, Train Loss: 53.1354, Val mAP@50: 0.6264, FPS: 271.60, Epoch Time: 5.41 seconds\n",
      "Epoch 15/20, Train Loss: 46.1501, Val mAP@50: 0.5842, FPS: 272.03, Epoch Time: 5.42 seconds\n",
      "Epoch 16/20, Train Loss: 42.3503, Val mAP@50: 0.5629, FPS: 272.54, Epoch Time: 5.43 seconds\n",
      "Epoch 17/20, Train Loss: 38.0538, Val mAP@50: 0.5557, FPS: 272.62, Epoch Time: 5.40 seconds\n",
      "Epoch 18/20, Train Loss: 35.2818, Val mAP@50: 0.5207, FPS: 272.55, Epoch Time: 5.40 seconds\n",
      "Epoch 19/20, Train Loss: 30.9631, Val mAP@50: 0.5356, FPS: 272.63, Epoch Time: 5.38 seconds\n"
     ]
    },
    {
     "name": "stderr",
     "output_type": "stream",
     "text": [
      "[I 2025-01-26 20:25:39,220] Trial 54 finished with value: 0.6264093518257141 and parameters: {'batch_size': 5, 'epochs': 20, 'preweight_mode': 'fine_tuning', 'optimizer': 'AdamW', 'lr': 0.0001851809987133863, 'weight_decay': 0.004552257123403948, 'beta1': 0.8380731743550561, 'beta2': 0.9942649283954569, 'scheduler': 'OneCycleLR', 'max_lr': 0.002475227448506326}. Best is trial 54 with value: 0.6264093518257141.\n"
     ]
    },
    {
     "name": "stdout",
     "output_type": "stream",
     "text": [
      "Epoch 20/20, Train Loss: 25.9889, Val mAP@50: 0.5644, FPS: 272.90, Epoch Time: 5.38 seconds\n",
      "Best Epoch: 13, Best Val mAP@50: 0.6264, Training Time: 108.36 seconds\n",
      "Model training complete.\n",
      "Checking Model: SSD\n",
      "Starting Trial #55\n",
      "{'batch_size': 4, 'epochs': 20, 'preweight_mode': 'fine_tuning', 'optimizer': 'AdamW', 'lr': 0.00017853469842932156, 'weight_decay': 0.004971272106901457, 'beta1': 0.8380338924206904, 'beta2': 0.993302090743402, 'scheduler': 'OneCycleLR', 'max_lr': 0.005807976605378265}\n",
      "Epoch 1/20, Train Loss: 621.3181, Val mAP@50: 0.0000, FPS: 259.50, Epoch Time: 5.54 seconds\n",
      "Epoch 2/20, Train Loss: 538.0498, Val mAP@50: 0.0000, FPS: 259.76, Epoch Time: 5.52 seconds\n",
      "Epoch 3/20, Train Loss: 499.3260, Val mAP@50: 0.0099, FPS: 259.62, Epoch Time: 5.56 seconds\n",
      "Epoch 4/20, Train Loss: 447.2325, Val mAP@50: 0.0894, FPS: 259.74, Epoch Time: 5.54 seconds\n",
      "Epoch 5/20, Train Loss: 403.8829, Val mAP@50: 0.2429, FPS: 259.48, Epoch Time: 5.55 seconds\n"
     ]
    },
    {
     "name": "stderr",
     "output_type": "stream",
     "text": [
      "[I 2025-01-26 20:26:14,367] Trial 55 pruned. \n"
     ]
    },
    {
     "name": "stdout",
     "output_type": "stream",
     "text": [
      "Trial pruned by Optuna at epoch 5.\n",
      "Checking Model: SSD\n",
      "Starting Trial #56\n",
      "{'batch_size': 4, 'epochs': 20, 'preweight_mode': 'fine_tuning', 'optimizer': 'AdamW', 'lr': 0.00011810174195604046, 'weight_decay': 0.00665268493066431, 'beta1': 0.8127073832669816, 'beta2': 0.9955518417947454, 'scheduler': 'OneCycleLR', 'max_lr': 0.002693565553298543}\n",
      "Epoch 1/20, Train Loss: 550.1332, Val mAP@50: 0.1273, FPS: 259.81, Epoch Time: 5.56 seconds\n",
      "Epoch 2/20, Train Loss: 374.7147, Val mAP@50: 0.4021, FPS: 258.67, Epoch Time: 5.64 seconds\n",
      "Epoch 3/20, Train Loss: 303.0105, Val mAP@50: 0.3862, FPS: 259.68, Epoch Time: 5.60 seconds\n",
      "Epoch 4/20, Train Loss: 260.9688, Val mAP@50: 0.4068, FPS: 258.75, Epoch Time: 5.57 seconds\n",
      "Epoch 5/20, Train Loss: 213.4511, Val mAP@50: 0.4409, FPS: 259.55, Epoch Time: 5.56 seconds\n",
      "Epoch 6/20, Train Loss: 181.4945, Val mAP@50: 0.4548, FPS: 258.01, Epoch Time: 5.53 seconds\n",
      "Epoch 7/20, Train Loss: 158.5218, Val mAP@50: 0.4941, FPS: 258.50, Epoch Time: 5.57 seconds\n",
      "Epoch 8/20, Train Loss: 132.5261, Val mAP@50: 0.4591, FPS: 259.04, Epoch Time: 5.55 seconds\n",
      "Epoch 9/20, Train Loss: 117.2772, Val mAP@50: 0.5179, FPS: 259.68, Epoch Time: 5.59 seconds\n"
     ]
    },
    {
     "name": "stderr",
     "output_type": "stream",
     "text": [
      "[I 2025-01-26 20:27:12,020] Trial 56 pruned. \n"
     ]
    },
    {
     "name": "stdout",
     "output_type": "stream",
     "text": [
      "Trial pruned by Optuna at epoch 9.\n",
      "Checking Model: SSD\n",
      "Starting Trial #57\n",
      "{'batch_size': 5, 'epochs': 19, 'preweight_mode': 'fine_tuning', 'optimizer': 'AdamW', 'lr': 0.000377087438944079, 'weight_decay': 0.007503956664936005, 'beta1': 0.8377541759854863, 'beta2': 0.9959537378028637, 'scheduler': 'CosineAnnealingLR', 'T_max': 5, 'eta_min': 1.1941874103963074e-07}\n",
      "Epoch 1/19, Train Loss: 501.7005, Val mAP@50: 0.0000, FPS: 270.25, Epoch Time: 5.35 seconds\n",
      "Epoch 2/19, Train Loss: 416.8234, Val mAP@50: 0.0000, FPS: 271.09, Epoch Time: 5.34 seconds\n",
      "Epoch 3/19, Train Loss: 371.8890, Val mAP@50: 0.0000, FPS: 271.01, Epoch Time: 5.31 seconds\n",
      "Epoch 4/19, Train Loss: 317.2388, Val mAP@50: 0.1278, FPS: 270.82, Epoch Time: 5.33 seconds\n",
      "Epoch 5/19, Train Loss: 261.6934, Val mAP@50: 0.3025, FPS: 270.32, Epoch Time: 5.33 seconds\n"
     ]
    },
    {
     "name": "stderr",
     "output_type": "stream",
     "text": [
      "[I 2025-01-26 20:27:46,012] Trial 57 pruned. \n"
     ]
    },
    {
     "name": "stdout",
     "output_type": "stream",
     "text": [
      "Trial pruned by Optuna at epoch 5.\n",
      "Checking Model: SSD\n",
      "Starting Trial #58\n",
      "{'batch_size': 4, 'epochs': 20, 'preweight_mode': 'fine_tuning', 'optimizer': 'Adam', 'lr': 0.00014713751180494032, 'beta1': 0.8056031715355383, 'beta2': 0.9212032199431606, 'scheduler': 'OneCycleLR', 'max_lr': 0.0023117180027394397}\n",
      "Epoch 1/20, Train Loss: 542.9612, Val mAP@50: 0.2168, FPS: 259.60, Epoch Time: 5.54 seconds\n",
      "Epoch 2/20, Train Loss: 366.4542, Val mAP@50: 0.3385, FPS: 259.49, Epoch Time: 5.53 seconds\n",
      "Epoch 3/20, Train Loss: 290.3017, Val mAP@50: 0.3697, FPS: 259.90, Epoch Time: 5.49 seconds\n",
      "Epoch 4/20, Train Loss: 248.1922, Val mAP@50: 0.4096, FPS: 259.98, Epoch Time: 5.51 seconds\n",
      "Epoch 5/20, Train Loss: 211.8371, Val mAP@50: 0.4497, FPS: 259.99, Epoch Time: 5.45 seconds\n",
      "Epoch 6/20, Train Loss: 180.3078, Val mAP@50: 0.4648, FPS: 260.09, Epoch Time: 5.52 seconds\n",
      "Epoch 7/20, Train Loss: 157.3973, Val mAP@50: 0.4886, FPS: 260.80, Epoch Time: 5.52 seconds\n",
      "Epoch 8/20, Train Loss: 136.2156, Val mAP@50: 0.4833, FPS: 260.17, Epoch Time: 5.53 seconds\n"
     ]
    },
    {
     "name": "stderr",
     "output_type": "stream",
     "text": [
      "[I 2025-01-26 20:28:37,465] Trial 58 pruned. \n"
     ]
    },
    {
     "name": "stdout",
     "output_type": "stream",
     "text": [
      "Trial pruned by Optuna at epoch 8.\n",
      "Checking Model: SSD\n",
      "Starting Trial #59\n",
      "{'batch_size': 5, 'epochs': 20, 'preweight_mode': 'fine_tuning', 'optimizer': 'AdamW', 'lr': 0.0002670438038249707, 'weight_decay': 0.0011870331736299235, 'beta1': 0.8717942104016005, 'beta2': 0.9839326552267209, 'scheduler': 'ReduceLROnPlateau', 'factor': 0.38451535222840205, 'patience': 3}\n",
      "Epoch 1/20, Train Loss: 491.8942, Val mAP@50: 0.0000, FPS: 270.59, Epoch Time: 5.31 seconds\n",
      "Epoch 2/20, Train Loss: 411.7937, Val mAP@50: 0.0132, FPS: 271.04, Epoch Time: 5.36 seconds\n",
      "Epoch 3/20, Train Loss: 360.7818, Val mAP@50: 0.1361, FPS: 270.77, Epoch Time: 5.34 seconds\n",
      "Epoch 4/20, Train Loss: 311.5070, Val mAP@50: 0.2169, FPS: 271.98, Epoch Time: 5.39 seconds\n",
      "Epoch 5/20, Train Loss: 274.1888, Val mAP@50: 0.3869, FPS: 272.07, Epoch Time: 5.28 seconds\n"
     ]
    },
    {
     "name": "stderr",
     "output_type": "stream",
     "text": [
      "[I 2025-01-26 20:29:11,250] Trial 59 pruned. \n"
     ]
    },
    {
     "name": "stdout",
     "output_type": "stream",
     "text": [
      "Trial pruned by Optuna at epoch 5.\n",
      "Checking Model: SSD\n",
      "Starting Trial #60\n",
      "{'batch_size': 4, 'epochs': 19, 'preweight_mode': 'random', 'optimizer': 'RMSprop', 'lr': 0.0010486775725222594, 'weight_decay': 0.10216021063926377, 'momentum': 0.9898420785156703, 'scheduler': 'OneCycleLR', 'max_lr': 0.004985813741862651}\n",
      "Epoch 1/19, Train Loss: 628342018.8372, Val mAP@50: 0.0000, FPS: 262.09, Epoch Time: 6.01 seconds\n",
      "Epoch 2/19, Train Loss: 206451.4838, Val mAP@50: 0.0000, FPS: 262.45, Epoch Time: 5.40 seconds\n",
      "Epoch 3/19, Train Loss: 840.4144, Val mAP@50: 0.0000, FPS: 262.39, Epoch Time: 5.48 seconds\n",
      "Epoch 4/19, Train Loss: 882.4367, Val mAP@50: 0.0000, FPS: 260.39, Epoch Time: 5.44 seconds\n"
     ]
    },
    {
     "name": "stderr",
     "output_type": "stream",
     "text": [
      "[I 2025-01-26 20:29:40,611] Trial 60 pruned. \n"
     ]
    },
    {
     "name": "stdout",
     "output_type": "stream",
     "text": [
      "Trial pruned by Optuna at epoch 4.\n",
      "Checking Model: SSD\n",
      "Starting Trial #61\n",
      "{'batch_size': 6, 'epochs': 19, 'preweight_mode': 'fine_tuning', 'optimizer': 'AdamW', 'lr': 0.00021382518793012438, 'weight_decay': 0.004219703098140952, 'beta1': 0.8572993112916275, 'beta2': 0.9989902422199168, 'scheduler': 'OneCycleLR', 'max_lr': 0.0014131442179298606}\n",
      "Epoch 1/19, Train Loss: 406.8497, Val mAP@50: 0.2843, FPS: 283.19, Epoch Time: 5.20 seconds\n",
      "Epoch 2/19, Train Loss: 261.9698, Val mAP@50: 0.3822, FPS: 283.45, Epoch Time: 5.22 seconds\n",
      "Epoch 3/19, Train Loss: 205.3025, Val mAP@50: 0.3624, FPS: 283.24, Epoch Time: 5.21 seconds\n",
      "Epoch 4/19, Train Loss: 169.7167, Val mAP@50: 0.4186, FPS: 282.35, Epoch Time: 5.18 seconds\n",
      "Epoch 5/19, Train Loss: 143.2100, Val mAP@50: 0.4541, FPS: 283.12, Epoch Time: 5.23 seconds\n",
      "Epoch 6/19, Train Loss: 126.9676, Val mAP@50: 0.4628, FPS: 283.03, Epoch Time: 5.26 seconds\n"
     ]
    },
    {
     "name": "stderr",
     "output_type": "stream",
     "text": [
      "[I 2025-01-26 20:30:18,954] Trial 61 pruned. \n"
     ]
    },
    {
     "name": "stdout",
     "output_type": "stream",
     "text": [
      "Trial pruned by Optuna at epoch 6.\n",
      "Checking Model: SSD\n",
      "Starting Trial #62\n",
      "{'batch_size': 5, 'epochs': 20, 'preweight_mode': 'fine_tuning', 'optimizer': 'AdamW', 'lr': 0.00019076729346979837, 'weight_decay': 0.0038701015701296778, 'beta1': 0.8426722256071735, 'beta2': 0.9694415322632929, 'scheduler': 'OneCycleLR', 'max_lr': 0.0016845680884705273}\n",
      "Epoch 1/20, Train Loss: 450.4687, Val mAP@50: 0.1792, FPS: 271.34, Epoch Time: 5.35 seconds\n",
      "Epoch 2/20, Train Loss: 291.9556, Val mAP@50: 0.3867, FPS: 270.31, Epoch Time: 5.34 seconds\n",
      "Epoch 3/20, Train Loss: 229.5341, Val mAP@50: 0.4187, FPS: 272.39, Epoch Time: 5.37 seconds\n",
      "Epoch 4/20, Train Loss: 185.6686, Val mAP@50: 0.4412, FPS: 272.17, Epoch Time: 5.43 seconds\n",
      "Epoch 5/20, Train Loss: 156.5208, Val mAP@50: 0.4612, FPS: 274.90, Epoch Time: 5.44 seconds\n",
      "Epoch 6/20, Train Loss: 132.1462, Val mAP@50: 0.4923, FPS: 274.59, Epoch Time: 5.40 seconds\n",
      "Epoch 7/20, Train Loss: 117.2865, Val mAP@50: 0.5096, FPS: 274.06, Epoch Time: 5.39 seconds\n",
      "Epoch 8/20, Train Loss: 104.8729, Val mAP@50: 0.5046, FPS: 273.46, Epoch Time: 5.34 seconds\n",
      "Epoch 9/20, Train Loss: 89.6581, Val mAP@50: 0.4887, FPS: 272.67, Epoch Time: 5.32 seconds\n",
      "Epoch 10/20, Train Loss: 79.8051, Val mAP@50: 0.5341, FPS: 272.14, Epoch Time: 5.31 seconds\n",
      "Epoch 11/20, Train Loss: 70.8772, Val mAP@50: 0.5270, FPS: 273.97, Epoch Time: 5.32 seconds\n",
      "Epoch 12/20, Train Loss: 59.4409, Val mAP@50: 0.5189, FPS: 274.21, Epoch Time: 5.33 seconds\n",
      "Epoch 13/20, Train Loss: 54.0652, Val mAP@50: 0.5414, FPS: 275.25, Epoch Time: 5.33 seconds\n",
      "Epoch 14/20, Train Loss: 50.4499, Val mAP@50: 0.5444, FPS: 275.65, Epoch Time: 5.32 seconds\n",
      "Epoch 15/20, Train Loss: 44.9637, Val mAP@50: 0.5732, FPS: 277.07, Epoch Time: 5.33 seconds\n",
      "Epoch 16/20, Train Loss: 38.9729, Val mAP@50: 0.5683, FPS: 277.10, Epoch Time: 5.25 seconds\n",
      "Epoch 17/20, Train Loss: 35.5783, Val mAP@50: 0.5713, FPS: 276.04, Epoch Time: 5.22 seconds\n",
      "Epoch 18/20, Train Loss: 34.6744, Val mAP@50: 0.5576, FPS: 277.13, Epoch Time: 5.24 seconds\n",
      "Epoch 19/20, Train Loss: 29.9798, Val mAP@50: 0.5900, FPS: 276.95, Epoch Time: 5.29 seconds\n"
     ]
    },
    {
     "name": "stderr",
     "output_type": "stream",
     "text": [
      "[I 2025-01-26 20:32:07,506] Trial 62 finished with value: 0.5900301337242126 and parameters: {'batch_size': 5, 'epochs': 20, 'preweight_mode': 'fine_tuning', 'optimizer': 'AdamW', 'lr': 0.00019076729346979837, 'weight_decay': 0.0038701015701296778, 'beta1': 0.8426722256071735, 'beta2': 0.9694415322632929, 'scheduler': 'OneCycleLR', 'max_lr': 0.0016845680884705273}. Best is trial 54 with value: 0.6264093518257141.\n"
     ]
    },
    {
     "name": "stdout",
     "output_type": "stream",
     "text": [
      "Epoch 20/20, Train Loss: 26.7003, Val mAP@50: 0.5690, FPS: 276.86, Epoch Time: 5.30 seconds\n",
      "Best Epoch: 18, Best Val mAP@50: 0.5900, Training Time: 106.63 seconds\n",
      "Model training complete.\n",
      "Checking Model: SSD\n",
      "Starting Trial #63\n",
      "{'batch_size': 6, 'epochs': 20, 'preweight_mode': 'fine_tuning', 'optimizer': 'AdamW', 'lr': 0.0001727644519716025, 'weight_decay': 0.0036742259924734564, 'beta1': 0.8233474106331629, 'beta2': 0.9771921142544234, 'scheduler': 'OneCycleLR', 'max_lr': 0.0017890859634022791}\n",
      "Epoch 1/20, Train Loss: 366.1866, Val mAP@50: 0.2852, FPS: 281.55, Epoch Time: 5.26 seconds\n",
      "Epoch 2/20, Train Loss: 236.5526, Val mAP@50: 0.3004, FPS: 286.49, Epoch Time: 5.20 seconds\n",
      "Epoch 3/20, Train Loss: 188.1906, Val mAP@50: 0.4356, FPS: 286.36, Epoch Time: 5.21 seconds\n",
      "Epoch 4/20, Train Loss: 152.5126, Val mAP@50: 0.4288, FPS: 286.22, Epoch Time: 5.19 seconds\n",
      "Epoch 5/20, Train Loss: 133.6566, Val mAP@50: 0.4345, FPS: 285.49, Epoch Time: 5.20 seconds\n",
      "Epoch 6/20, Train Loss: 113.3075, Val mAP@50: 0.4602, FPS: 284.21, Epoch Time: 5.15 seconds\n",
      "Epoch 7/20, Train Loss: 100.6989, Val mAP@50: 0.4975, FPS: 284.91, Epoch Time: 5.18 seconds\n",
      "Epoch 8/20, Train Loss: 87.3589, Val mAP@50: 0.4985, FPS: 284.82, Epoch Time: 5.16 seconds\n",
      "Epoch 9/20, Train Loss: 79.9119, Val mAP@50: 0.5154, FPS: 284.72, Epoch Time: 5.18 seconds\n"
     ]
    },
    {
     "name": "stderr",
     "output_type": "stream",
     "text": [
      "[I 2025-01-26 20:33:01,242] Trial 63 pruned. \n"
     ]
    },
    {
     "name": "stdout",
     "output_type": "stream",
     "text": [
      "Trial pruned by Optuna at epoch 9.\n",
      "Checking Model: SSD\n",
      "Starting Trial #64\n",
      "{'batch_size': 5, 'epochs': 20, 'preweight_mode': 'fine_tuning', 'optimizer': 'AdamW', 'lr': 0.0001296622323796196, 'weight_decay': 0.004781609747198957, 'beta1': 0.8346719069279395, 'beta2': 0.9711333680891091, 'scheduler': 'OneCycleLR', 'max_lr': 0.0026511814111338347}\n",
      "Epoch 1/20, Train Loss: 473.0810, Val mAP@50: 0.1303, FPS: 275.01, Epoch Time: 5.25 seconds\n",
      "Epoch 2/20, Train Loss: 322.7543, Val mAP@50: 0.2816, FPS: 274.31, Epoch Time: 5.28 seconds\n",
      "Epoch 3/20, Train Loss: 264.1628, Val mAP@50: 0.4221, FPS: 274.41, Epoch Time: 5.28 seconds\n",
      "Epoch 4/20, Train Loss: 221.4671, Val mAP@50: 0.4035, FPS: 274.70, Epoch Time: 5.27 seconds\n",
      "Epoch 5/20, Train Loss: 191.2555, Val mAP@50: 0.4379, FPS: 274.63, Epoch Time: 5.29 seconds\n"
     ]
    },
    {
     "name": "stderr",
     "output_type": "stream",
     "text": [
      "[I 2025-01-26 20:33:34,689] Trial 64 pruned. \n"
     ]
    },
    {
     "name": "stdout",
     "output_type": "stream",
     "text": [
      "Trial pruned by Optuna at epoch 5.\n",
      "Checking Model: SSD\n",
      "Starting Trial #65\n",
      "{'batch_size': 4, 'epochs': 20, 'preweight_mode': 'fine_tuning', 'optimizer': 'AdamW', 'lr': 0.00011300528481939018, 'weight_decay': 0.0025182753286732483, 'beta1': 0.8460881053845375, 'beta2': 0.991012133879926, 'scheduler': 'OneCycleLR', 'max_lr': 0.00014266404513857674}\n",
      "Epoch 1/20, Train Loss: 812.0017, Val mAP@50: 0.0259, FPS: 263.95, Epoch Time: 6.14 seconds\n",
      "Epoch 2/20, Train Loss: 529.3595, Val mAP@50: 0.1181, FPS: 263.50, Epoch Time: 5.68 seconds\n",
      "Epoch 3/20, Train Loss: 451.2934, Val mAP@50: 0.2269, FPS: 263.68, Epoch Time: 5.60 seconds\n",
      "Epoch 4/20, Train Loss: 401.2546, Val mAP@50: 0.3175, FPS: 263.11, Epoch Time: 5.49 seconds\n",
      "Epoch 5/20, Train Loss: 363.2533, Val mAP@50: 0.3683, FPS: 263.62, Epoch Time: 5.47 seconds\n"
     ]
    },
    {
     "name": "stderr",
     "output_type": "stream",
     "text": [
      "[I 2025-01-26 20:34:10,313] Trial 65 pruned. \n"
     ]
    },
    {
     "name": "stdout",
     "output_type": "stream",
     "text": [
      "Trial pruned by Optuna at epoch 5.\n",
      "Checking Model: SSD\n",
      "Starting Trial #66\n",
      "{'batch_size': 5, 'epochs': 19, 'preweight_mode': 'fine_tuning', 'optimizer': 'AdamW', 'lr': 0.00015710800587912814, 'weight_decay': 0.00296974751483627, 'beta1': 0.8550224796622288, 'beta2': 0.9821552334865621, 'scheduler': 'OneCycleLR', 'max_lr': 0.0022506399026807388}\n",
      "Epoch 1/19, Train Loss: 455.8077, Val mAP@50: 0.0396, FPS: 272.29, Epoch Time: 5.39 seconds\n",
      "Epoch 2/19, Train Loss: 294.9863, Val mAP@50: 0.3840, FPS: 271.27, Epoch Time: 5.40 seconds\n",
      "Epoch 3/19, Train Loss: 235.9016, Val mAP@50: 0.4191, FPS: 271.66, Epoch Time: 5.38 seconds\n",
      "Epoch 4/19, Train Loss: 194.3350, Val mAP@50: 0.4370, FPS: 271.73, Epoch Time: 5.33 seconds\n",
      "Epoch 5/19, Train Loss: 170.3250, Val mAP@50: 0.4387, FPS: 271.79, Epoch Time: 5.41 seconds\n"
     ]
    },
    {
     "name": "stderr",
     "output_type": "stream",
     "text": [
      "[I 2025-01-26 20:34:44,312] Trial 66 pruned. \n"
     ]
    },
    {
     "name": "stdout",
     "output_type": "stream",
     "text": [
      "Trial pruned by Optuna at epoch 5.\n",
      "Checking Model: SSD\n",
      "Starting Trial #67\n",
      "{'batch_size': 4, 'epochs': 20, 'preweight_mode': 'fine_tuning', 'optimizer': 'SGD', 'lr': 0.00517065514964097, 'momentum': 0.9307859276593924, 'weight_decay': 0.0008691120689160216, 'scheduler': 'OneCycleLR', 'max_lr': 0.0037177046424225592}\n",
      "Epoch 1/20, Train Loss: 602.1428, Val mAP@50: 0.0473, FPS: 263.16, Epoch Time: 5.38 seconds\n",
      "Epoch 2/20, Train Loss: 414.2910, Val mAP@50: 0.2966, FPS: 261.60, Epoch Time: 5.49 seconds\n",
      "Epoch 3/20, Train Loss: 337.6459, Val mAP@50: 0.3538, FPS: 260.70, Epoch Time: 5.43 seconds\n",
      "Epoch 4/20, Train Loss: 304.7962, Val mAP@50: 0.3948, FPS: 260.31, Epoch Time: 5.39 seconds\n",
      "Epoch 5/20, Train Loss: 261.4048, Val mAP@50: 0.4474, FPS: 260.56, Epoch Time: 5.38 seconds\n",
      "Epoch 6/20, Train Loss: 222.1512, Val mAP@50: 0.4718, FPS: 259.94, Epoch Time: 5.39 seconds\n",
      "Epoch 7/20, Train Loss: 200.4307, Val mAP@50: 0.4664, FPS: 261.39, Epoch Time: 5.39 seconds\n"
     ]
    },
    {
     "name": "stderr",
     "output_type": "stream",
     "text": [
      "[I 2025-01-26 20:35:29,353] Trial 67 pruned. \n"
     ]
    },
    {
     "name": "stdout",
     "output_type": "stream",
     "text": [
      "Trial pruned by Optuna at epoch 7.\n",
      "Checking Model: SSD\n",
      "Starting Trial #68\n",
      "{'batch_size': 7, 'epochs': 18, 'preweight_mode': 'freezing', 'optimizer': 'AdamW', 'lr': 0.00023013876011647552, 'weight_decay': 0.0017437908963751012, 'beta1': 0.8432149668995801, 'beta2': 0.98771289779455, 'scheduler': 'StepLR', 'step_size': 3, 'gamma': 0.06773404426254098}\n",
      "Epoch 1/18, Train Loss: 433.7301, Val mAP@50: 0.0981, FPS: 288.73, Epoch Time: 4.81 seconds\n",
      "Epoch 2/18, Train Loss: 307.0512, Val mAP@50: 0.1247, FPS: 287.92, Epoch Time: 4.73 seconds\n",
      "Epoch 3/18, Train Loss: 279.1826, Val mAP@50: 0.1237, FPS: 280.97, Epoch Time: 4.78 seconds\n",
      "Epoch 4/18, Train Loss: 246.3596, Val mAP@50: 0.1587, FPS: 279.73, Epoch Time: 4.79 seconds\n",
      "Epoch 5/18, Train Loss: 237.2559, Val mAP@50: 0.1691, FPS: 288.04, Epoch Time: 4.74 seconds\n"
     ]
    },
    {
     "name": "stderr",
     "output_type": "stream",
     "text": [
      "[I 2025-01-26 20:35:59,768] Trial 68 pruned. \n"
     ]
    },
    {
     "name": "stdout",
     "output_type": "stream",
     "text": [
      "Trial pruned by Optuna at epoch 5.\n",
      "Checking Model: SSD\n",
      "Starting Trial #69\n",
      "{'batch_size': 4, 'epochs': 19, 'preweight_mode': 'fine_tuning', 'optimizer': 'AdamW', 'lr': 0.00017354448250837113, 'weight_decay': 0.0033546662051268323, 'beta1': 0.8307007609601633, 'beta2': 0.9574603276254235, 'scheduler': 'OneCycleLR', 'max_lr': 0.0011283362084743521}\n",
      "Epoch 1/19, Train Loss: 560.6103, Val mAP@50: 0.3306, FPS: 264.88, Epoch Time: 5.38 seconds\n",
      "Epoch 2/19, Train Loss: 353.6004, Val mAP@50: 0.3518, FPS: 264.49, Epoch Time: 5.42 seconds\n",
      "Epoch 3/19, Train Loss: 279.0918, Val mAP@50: 0.4075, FPS: 264.70, Epoch Time: 5.43 seconds\n",
      "Epoch 4/19, Train Loss: 225.5734, Val mAP@50: 0.4074, FPS: 262.23, Epoch Time: 5.39 seconds\n",
      "Epoch 5/19, Train Loss: 190.1988, Val mAP@50: 0.4377, FPS: 262.83, Epoch Time: 5.43 seconds\n"
     ]
    },
    {
     "name": "stderr",
     "output_type": "stream",
     "text": [
      "[I 2025-01-26 20:36:34,015] Trial 69 pruned. \n"
     ]
    },
    {
     "name": "stdout",
     "output_type": "stream",
     "text": [
      "Trial pruned by Optuna at epoch 5.\n",
      "Checking Model: SSD\n",
      "Starting Trial #70\n",
      "{'batch_size': 4, 'epochs': 20, 'preweight_mode': 'fine_tuning', 'optimizer': 'AdamW', 'lr': 0.0005441143302391899, 'weight_decay': 0.002100477222660978, 'beta1': 0.8139849019425097, 'beta2': 0.995110480482115, 'scheduler': 'CosineAnnealingLR', 'T_max': 8, 'eta_min': 2.575895621477158e-06}\n",
      "Epoch 1/20, Train Loss: 634.3913, Val mAP@50: 0.0000, FPS: 260.25, Epoch Time: 5.47 seconds\n",
      "Epoch 2/20, Train Loss: 558.2141, Val mAP@50: 0.0000, FPS: 261.18, Epoch Time: 5.43 seconds\n",
      "Epoch 3/20, Train Loss: 532.8462, Val mAP@50: 0.0000, FPS: 260.80, Epoch Time: 5.49 seconds\n",
      "Epoch 4/20, Train Loss: 508.7496, Val mAP@50: 0.0000, FPS: 260.84, Epoch Time: 5.46 seconds\n"
     ]
    },
    {
     "name": "stderr",
     "output_type": "stream",
     "text": [
      "[I 2025-01-26 20:37:03,175] Trial 70 pruned. \n"
     ]
    },
    {
     "name": "stdout",
     "output_type": "stream",
     "text": [
      "Trial pruned by Optuna at epoch 4.\n",
      "Checking Model: SSD\n",
      "Starting Trial #71\n",
      "{'batch_size': 5, 'epochs': 19, 'preweight_mode': 'fine_tuning', 'optimizer': 'AdamW', 'lr': 0.0001989809790982108, 'weight_decay': 0.003949854723068197, 'beta1': 0.8617891605614174, 'beta2': 0.9634776587262933, 'scheduler': 'OneCycleLR', 'max_lr': 0.0016256983457254538}\n",
      "Epoch 1/19, Train Loss: 441.6831, Val mAP@50: 0.2415, FPS: 274.56, Epoch Time: 5.26 seconds\n",
      "Epoch 2/19, Train Loss: 287.2379, Val mAP@50: 0.3390, FPS: 273.34, Epoch Time: 5.28 seconds\n",
      "Epoch 3/19, Train Loss: 229.8561, Val mAP@50: 0.4159, FPS: 274.35, Epoch Time: 5.22 seconds\n",
      "Epoch 4/19, Train Loss: 185.0385, Val mAP@50: 0.4665, FPS: 274.31, Epoch Time: 5.27 seconds\n",
      "Epoch 5/19, Train Loss: 154.3714, Val mAP@50: 0.4722, FPS: 274.11, Epoch Time: 5.25 seconds\n",
      "Epoch 6/19, Train Loss: 131.3001, Val mAP@50: 0.4839, FPS: 274.82, Epoch Time: 5.24 seconds\n",
      "Epoch 7/19, Train Loss: 116.2053, Val mAP@50: 0.4982, FPS: 274.79, Epoch Time: 5.22 seconds\n",
      "Epoch 8/19, Train Loss: 99.1514, Val mAP@50: 0.5331, FPS: 274.59, Epoch Time: 5.26 seconds\n",
      "Epoch 9/19, Train Loss: 89.9865, Val mAP@50: 0.5131, FPS: 273.60, Epoch Time: 5.29 seconds\n",
      "Epoch 10/19, Train Loss: 77.7516, Val mAP@50: 0.5548, FPS: 270.78, Epoch Time: 5.31 seconds\n",
      "Epoch 11/19, Train Loss: 69.8906, Val mAP@50: 0.5100, FPS: 272.22, Epoch Time: 5.33 seconds\n",
      "Epoch 12/19, Train Loss: 59.6644, Val mAP@50: 0.5580, FPS: 273.75, Epoch Time: 5.31 seconds\n",
      "Epoch 13/19, Train Loss: 51.8782, Val mAP@50: 0.5777, FPS: 274.34, Epoch Time: 5.31 seconds\n",
      "Epoch 14/19, Train Loss: 47.0389, Val mAP@50: 0.5697, FPS: 274.93, Epoch Time: 5.26 seconds\n",
      "Epoch 15/19, Train Loss: 42.3970, Val mAP@50: 0.5931, FPS: 275.78, Epoch Time: 5.28 seconds\n",
      "Epoch 16/19, Train Loss: 39.0584, Val mAP@50: 0.5825, FPS: 275.29, Epoch Time: 5.32 seconds\n",
      "Epoch 17/19, Train Loss: 35.5155, Val mAP@50: 0.5832, FPS: 275.54, Epoch Time: 5.25 seconds\n",
      "Epoch 18/19, Train Loss: 32.0220, Val mAP@50: 0.5906, FPS: 275.46, Epoch Time: 5.27 seconds\n"
     ]
    },
    {
     "name": "stderr",
     "output_type": "stream",
     "text": [
      "[I 2025-01-26 20:38:45,230] Trial 71 finished with value: 0.5931187868118286 and parameters: {'batch_size': 5, 'epochs': 19, 'preweight_mode': 'fine_tuning', 'optimizer': 'AdamW', 'lr': 0.0001989809790982108, 'weight_decay': 0.003949854723068197, 'beta1': 0.8617891605614174, 'beta2': 0.9634776587262933, 'scheduler': 'OneCycleLR', 'max_lr': 0.0016256983457254538}. Best is trial 54 with value: 0.6264093518257141.\n"
     ]
    },
    {
     "name": "stdout",
     "output_type": "stream",
     "text": [
      "Epoch 19/19, Train Loss: 28.1205, Val mAP@50: 0.5800, FPS: 275.56, Epoch Time: 5.29 seconds\n",
      "Best Epoch: 14, Best Val mAP@50: 0.5931, Training Time: 100.21 seconds\n",
      "Model training complete.\n",
      "Checking Model: SSD\n",
      "Starting Trial #72\n",
      "{'batch_size': 5, 'epochs': 19, 'preweight_mode': 'fine_tuning', 'optimizer': 'AdamW', 'lr': 0.00019267539725418867, 'weight_decay': 0.0038410777335472902, 'beta1': 0.8622818641656477, 'beta2': 0.9611658991658437, 'scheduler': 'OneCycleLR', 'max_lr': 0.0018246738749484708}\n",
      "Epoch 1/19, Train Loss: 470.2680, Val mAP@50: 0.1277, FPS: 275.11, Epoch Time: 5.29 seconds\n",
      "Epoch 2/19, Train Loss: 317.7659, Val mAP@50: 0.3390, FPS: 274.86, Epoch Time: 5.25 seconds\n",
      "Epoch 3/19, Train Loss: 244.7443, Val mAP@50: 0.3829, FPS: 275.06, Epoch Time: 5.22 seconds\n",
      "Epoch 4/19, Train Loss: 200.6887, Val mAP@50: 0.4452, FPS: 275.10, Epoch Time: 5.25 seconds\n",
      "Epoch 5/19, Train Loss: 166.4025, Val mAP@50: 0.4773, FPS: 274.85, Epoch Time: 5.30 seconds\n",
      "Epoch 6/19, Train Loss: 144.3969, Val mAP@50: 0.4772, FPS: 274.85, Epoch Time: 5.26 seconds\n",
      "Epoch 7/19, Train Loss: 124.6960, Val mAP@50: 0.4678, FPS: 275.07, Epoch Time: 5.31 seconds\n",
      "Epoch 8/19, Train Loss: 113.1972, Val mAP@50: 0.4998, FPS: 274.02, Epoch Time: 5.27 seconds\n",
      "Epoch 9/19, Train Loss: 94.9830, Val mAP@50: 0.5543, FPS: 273.28, Epoch Time: 5.28 seconds\n",
      "Epoch 10/19, Train Loss: 84.8376, Val mAP@50: 0.5152, FPS: 272.74, Epoch Time: 5.27 seconds\n",
      "Epoch 11/19, Train Loss: 76.2482, Val mAP@50: 0.5192, FPS: 273.18, Epoch Time: 5.30 seconds\n",
      "Epoch 12/19, Train Loss: 67.5991, Val mAP@50: 0.5693, FPS: 274.32, Epoch Time: 5.29 seconds\n",
      "Epoch 13/19, Train Loss: 60.2758, Val mAP@50: 0.5436, FPS: 275.37, Epoch Time: 5.30 seconds\n",
      "Epoch 14/19, Train Loss: 51.3464, Val mAP@50: 0.5230, FPS: 276.27, Epoch Time: 5.26 seconds\n",
      "Epoch 15/19, Train Loss: 48.9691, Val mAP@50: 0.5386, FPS: 275.90, Epoch Time: 5.26 seconds\n",
      "Epoch 16/19, Train Loss: 43.5959, Val mAP@50: 0.5400, FPS: 275.65, Epoch Time: 5.23 seconds\n",
      "Epoch 17/19, Train Loss: 37.0523, Val mAP@50: 0.5232, FPS: 275.26, Epoch Time: 5.22 seconds\n"
     ]
    },
    {
     "name": "stderr",
     "output_type": "stream",
     "text": [
      "[I 2025-01-26 20:40:21,840] Trial 72 pruned. \n"
     ]
    },
    {
     "name": "stdout",
     "output_type": "stream",
     "text": [
      "Trial pruned by Optuna at epoch 17.\n",
      "Checking Model: SSD\n",
      "Starting Trial #73\n",
      "{'batch_size': 6, 'epochs': 20, 'preweight_mode': 'fine_tuning', 'optimizer': 'AdamW', 'lr': 0.0001383452922160751, 'weight_decay': 0.004473254299233351, 'beta1': 0.8713251078567001, 'beta2': 0.9680678540259507, 'scheduler': 'OneCycleLR', 'max_lr': 0.0027980237368235975}\n",
      "Epoch 1/20, Train Loss: 416.6868, Val mAP@50: 0.0000, FPS: 284.22, Epoch Time: 5.15 seconds\n",
      "Epoch 2/20, Train Loss: 311.2799, Val mAP@50: 0.1573, FPS: 284.55, Epoch Time: 5.12 seconds\n",
      "Epoch 3/20, Train Loss: 247.6641, Val mAP@50: 0.3366, FPS: 284.16, Epoch Time: 5.17 seconds\n",
      "Epoch 4/20, Train Loss: 204.1658, Val mAP@50: 0.4259, FPS: 283.07, Epoch Time: 5.20 seconds\n",
      "Epoch 5/20, Train Loss: 173.0174, Val mAP@50: 0.4507, FPS: 283.68, Epoch Time: 5.22 seconds\n"
     ]
    },
    {
     "name": "stderr",
     "output_type": "stream",
     "text": [
      "[I 2025-01-26 20:40:54,698] Trial 73 pruned. \n"
     ]
    },
    {
     "name": "stdout",
     "output_type": "stream",
     "text": [
      "Trial pruned by Optuna at epoch 5.\n",
      "Checking Model: SSD\n",
      "Starting Trial #74\n",
      "{'batch_size': 5, 'epochs': 18, 'preweight_mode': 'fine_tuning', 'optimizer': 'AdamW', 'lr': 0.00011514753989522954, 'weight_decay': 0.004252273725689369, 'beta1': 0.8458534049704313, 'beta2': 0.9725462932797102, 'scheduler': 'OneCycleLR', 'max_lr': 0.0016158766526423052}\n",
      "Epoch 1/18, Train Loss: 471.2797, Val mAP@50: 0.1264, FPS: 272.81, Epoch Time: 5.25 seconds\n",
      "Epoch 2/18, Train Loss: 297.7815, Val mAP@50: 0.3663, FPS: 271.85, Epoch Time: 5.28 seconds\n",
      "Epoch 3/18, Train Loss: 234.0243, Val mAP@50: 0.4097, FPS: 272.56, Epoch Time: 5.29 seconds\n",
      "Epoch 4/18, Train Loss: 193.3583, Val mAP@50: 0.4611, FPS: 272.29, Epoch Time: 5.31 seconds\n",
      "Epoch 5/18, Train Loss: 163.0864, Val mAP@50: 0.4544, FPS: 272.59, Epoch Time: 5.30 seconds\n",
      "Epoch 6/18, Train Loss: 146.2606, Val mAP@50: 0.4318, FPS: 272.17, Epoch Time: 5.29 seconds\n"
     ]
    },
    {
     "name": "stderr",
     "output_type": "stream",
     "text": [
      "[I 2025-01-26 20:41:33,511] Trial 74 pruned. \n"
     ]
    },
    {
     "name": "stdout",
     "output_type": "stream",
     "text": [
      "Trial pruned by Optuna at epoch 6.\n",
      "Checking Model: SSD\n",
      "Starting Trial #75\n",
      "{'batch_size': 5, 'epochs': 20, 'preweight_mode': 'fine_tuning', 'optimizer': 'Adam', 'lr': 0.0003013278858654, 'beta1': 0.889465602367927, 'beta2': 0.9647690578247308, 'scheduler': 'OneCycleLR', 'max_lr': 0.00217740134478874}\n",
      "Epoch 1/20, Train Loss: 449.0380, Val mAP@50: 0.3049, FPS: 272.13, Epoch Time: 5.30 seconds\n",
      "Epoch 2/20, Train Loss: 294.5610, Val mAP@50: 0.3546, FPS: 275.06, Epoch Time: 5.28 seconds\n",
      "Epoch 3/20, Train Loss: 233.0262, Val mAP@50: 0.4040, FPS: 274.56, Epoch Time: 5.23 seconds\n",
      "Epoch 4/20, Train Loss: 195.6732, Val mAP@50: 0.4555, FPS: 271.22, Epoch Time: 5.27 seconds\n",
      "Epoch 5/20, Train Loss: 167.6408, Val mAP@50: 0.4644, FPS: 272.27, Epoch Time: 5.32 seconds\n",
      "Epoch 6/20, Train Loss: 147.7190, Val mAP@50: 0.4476, FPS: 272.51, Epoch Time: 5.33 seconds\n",
      "Epoch 7/20, Train Loss: 124.2501, Val mAP@50: 0.4711, FPS: 274.54, Epoch Time: 5.27 seconds\n",
      "Epoch 8/20, Train Loss: 109.4464, Val mAP@50: 0.5060, FPS: 274.73, Epoch Time: 5.23 seconds\n",
      "Epoch 9/20, Train Loss: 95.6872, Val mAP@50: 0.5202, FPS: 274.65, Epoch Time: 5.25 seconds\n",
      "Epoch 10/20, Train Loss: 84.8182, Val mAP@50: 0.5808, FPS: 274.82, Epoch Time: 5.29 seconds\n",
      "Epoch 11/20, Train Loss: 71.7108, Val mAP@50: 0.5746, FPS: 275.33, Epoch Time: 5.29 seconds\n",
      "Epoch 12/20, Train Loss: 65.9687, Val mAP@50: 0.5536, FPS: 273.49, Epoch Time: 5.26 seconds\n",
      "Epoch 13/20, Train Loss: 59.2510, Val mAP@50: 0.5375, FPS: 273.97, Epoch Time: 5.27 seconds\n",
      "Epoch 14/20, Train Loss: 53.0751, Val mAP@50: 0.6289, FPS: 273.55, Epoch Time: 5.31 seconds\n",
      "Epoch 15/20, Train Loss: 46.8332, Val mAP@50: 0.5592, FPS: 273.82, Epoch Time: 5.26 seconds\n",
      "Epoch 16/20, Train Loss: 39.9175, Val mAP@50: 0.5520, FPS: 274.68, Epoch Time: 5.29 seconds\n",
      "Epoch 17/20, Train Loss: 36.8048, Val mAP@50: 0.5195, FPS: 274.58, Epoch Time: 5.31 seconds\n",
      "Epoch 18/20, Train Loss: 35.5404, Val mAP@50: 0.5461, FPS: 274.64, Epoch Time: 5.26 seconds\n",
      "Epoch 19/20, Train Loss: 33.0815, Val mAP@50: 0.5763, FPS: 274.39, Epoch Time: 5.29 seconds\n"
     ]
    },
    {
     "name": "stderr",
     "output_type": "stream",
     "text": [
      "[I 2025-01-26 20:43:20,974] Trial 75 finished with value: 0.6289039254188538 and parameters: {'batch_size': 5, 'epochs': 20, 'preweight_mode': 'fine_tuning', 'optimizer': 'Adam', 'lr': 0.0003013278858654, 'beta1': 0.889465602367927, 'beta2': 0.9647690578247308, 'scheduler': 'OneCycleLR', 'max_lr': 0.00217740134478874}. Best is trial 75 with value: 0.6289039254188538.\n"
     ]
    },
    {
     "name": "stdout",
     "output_type": "stream",
     "text": [
      "Epoch 20/20, Train Loss: 28.4060, Val mAP@50: 0.5498, FPS: 275.39, Epoch Time: 5.26 seconds\n",
      "Best Epoch: 13, Best Val mAP@50: 0.6289, Training Time: 105.57 seconds\n",
      "Model training complete.\n",
      "Checking Model: SSD\n",
      "Starting Trial #76\n",
      "{'batch_size': 8, 'epochs': 19, 'preweight_mode': 'fine_tuning', 'optimizer': 'Adam', 'lr': 0.00031530286354976007, 'beta1': 0.890915804717753, 'beta2': 0.9635381496868937, 'scheduler': 'OneCycleLR', 'max_lr': 0.002339592024061085}\n",
      "Epoch 1/19, Train Loss: 296.9631, Val mAP@50: 0.1852, FPS: 290.75, Epoch Time: 5.05 seconds\n",
      "Epoch 2/19, Train Loss: 197.8251, Val mAP@50: 0.3391, FPS: 290.98, Epoch Time: 5.02 seconds\n",
      "Epoch 3/19, Train Loss: 155.3686, Val mAP@50: 0.4010, FPS: 292.03, Epoch Time: 5.05 seconds\n",
      "Epoch 4/19, Train Loss: 125.9740, Val mAP@50: 0.4179, FPS: 291.74, Epoch Time: 5.03 seconds\n",
      "Epoch 5/19, Train Loss: 104.7782, Val mAP@50: 0.4433, FPS: 292.07, Epoch Time: 5.03 seconds\n",
      "Epoch 6/19, Train Loss: 90.4563, Val mAP@50: 0.4800, FPS: 291.84, Epoch Time: 5.01 seconds\n",
      "Epoch 7/19, Train Loss: 79.3235, Val mAP@50: 0.4799, FPS: 292.24, Epoch Time: 5.08 seconds\n"
     ]
    },
    {
     "name": "stderr",
     "output_type": "stream",
     "text": [
      "[I 2025-01-26 20:44:03,148] Trial 76 pruned. \n"
     ]
    },
    {
     "name": "stdout",
     "output_type": "stream",
     "text": [
      "Trial pruned by Optuna at epoch 7.\n",
      "Checking Model: SSD\n",
      "Starting Trial #77\n",
      "{'batch_size': 5, 'epochs': 19, 'preweight_mode': 'random', 'optimizer': 'Adam', 'lr': 0.00038679239778348796, 'beta1': 0.8861600995645258, 'beta2': 0.9651030709452914, 'scheduler': 'OneCycleLR', 'max_lr': 0.0030672410218992702}\n",
      "Epoch 1/19, Train Loss: 717.1730, Val mAP@50: 0.0000, FPS: 273.65, Epoch Time: 5.34 seconds\n",
      "Epoch 2/19, Train Loss: 511.6019, Val mAP@50: 0.0000, FPS: 272.71, Epoch Time: 5.25 seconds\n",
      "Epoch 3/19, Train Loss: 482.3515, Val mAP@50: 0.0000, FPS: 273.79, Epoch Time: 5.27 seconds\n",
      "Epoch 4/19, Train Loss: 457.3304, Val mAP@50: 0.0000, FPS: 273.62, Epoch Time: 5.26 seconds\n"
     ]
    },
    {
     "name": "stderr",
     "output_type": "stream",
     "text": [
      "[I 2025-01-26 20:44:31,167] Trial 77 pruned. \n"
     ]
    },
    {
     "name": "stdout",
     "output_type": "stream",
     "text": [
      "Trial pruned by Optuna at epoch 4.\n",
      "Checking Model: SSD\n",
      "Starting Trial #78\n",
      "{'batch_size': 4, 'epochs': 20, 'preweight_mode': 'fine_tuning', 'optimizer': 'Adam', 'lr': 0.00024510783324760763, 'beta1': 0.9109648805333961, 'beta2': 0.9580682408981771, 'scheduler': 'ReduceLROnPlateau', 'factor': 0.20324407212530343, 'patience': 4}\n",
      "Epoch 1/20, Train Loss: 591.3292, Val mAP@50: 0.0000, FPS: 263.53, Epoch Time: 5.48 seconds\n",
      "Epoch 2/20, Train Loss: 482.4181, Val mAP@50: 0.1094, FPS: 263.61, Epoch Time: 5.49 seconds\n",
      "Epoch 3/20, Train Loss: 397.1958, Val mAP@50: 0.2896, FPS: 263.01, Epoch Time: 5.43 seconds\n",
      "Epoch 4/20, Train Loss: 347.9605, Val mAP@50: 0.3313, FPS: 262.60, Epoch Time: 5.45 seconds\n",
      "Epoch 5/20, Train Loss: 306.7501, Val mAP@50: 0.3700, FPS: 262.55, Epoch Time: 5.48 seconds\n"
     ]
    },
    {
     "name": "stderr",
     "output_type": "stream",
     "text": [
      "[I 2025-01-26 20:45:05,773] Trial 78 pruned. \n"
     ]
    },
    {
     "name": "stdout",
     "output_type": "stream",
     "text": [
      "Trial pruned by Optuna at epoch 5.\n",
      "Checking Model: SSD\n",
      "Starting Trial #79\n",
      "{'batch_size': 4, 'epochs': 18, 'preweight_mode': 'fine_tuning', 'optimizer': 'Adam', 'lr': 0.0002776948012300826, 'beta1': 0.8775300194891076, 'beta2': 0.9857613720611477, 'scheduler': 'OneCycleLR', 'max_lr': 0.00789786845574879}\n",
      "Epoch 1/18, Train Loss: 632.0195, Val mAP@50: 0.0000, FPS: 263.54, Epoch Time: 5.44 seconds\n",
      "Epoch 2/18, Train Loss: 552.9798, Val mAP@50: 0.0000, FPS: 263.08, Epoch Time: 5.47 seconds\n",
      "Epoch 3/18, Train Loss: 527.1087, Val mAP@50: 0.0000, FPS: 263.70, Epoch Time: 5.44 seconds\n",
      "Epoch 4/18, Train Loss: 497.2968, Val mAP@50: 0.0000, FPS: 263.16, Epoch Time: 5.45 seconds\n"
     ]
    },
    {
     "name": "stderr",
     "output_type": "stream",
     "text": [
      "[I 2025-01-26 20:45:34,771] Trial 79 pruned. \n"
     ]
    },
    {
     "name": "stdout",
     "output_type": "stream",
     "text": [
      "Trial pruned by Optuna at epoch 4.\n",
      "Checking Model: SSD\n",
      "Starting Trial #80\n",
      "{'batch_size': 7, 'epochs': 17, 'preweight_mode': 'freezing', 'optimizer': 'Adam', 'lr': 0.00016097773416554406, 'beta1': 0.9270568190498317, 'beta2': 0.9501039028658548, 'scheduler': 'OneCycleLR', 'max_lr': 0.00133335017850272}\n",
      "Epoch 1/17, Train Loss: 639.3167, Val mAP@50: 0.0352, FPS: 290.82, Epoch Time: 5.43 seconds\n",
      "Epoch 2/17, Train Loss: 395.2415, Val mAP@50: 0.0524, FPS: 290.89, Epoch Time: 4.79 seconds\n",
      "Epoch 3/17, Train Loss: 329.8065, Val mAP@50: 0.0698, FPS: 290.69, Epoch Time: 4.75 seconds\n",
      "Epoch 4/17, Train Loss: 296.8594, Val mAP@50: 0.0741, FPS: 281.63, Epoch Time: 4.75 seconds\n",
      "Epoch 5/17, Train Loss: 277.3598, Val mAP@50: 0.1037, FPS: 287.97, Epoch Time: 4.75 seconds\n"
     ]
    },
    {
     "name": "stderr",
     "output_type": "stream",
     "text": [
      "[I 2025-01-26 20:46:05,741] Trial 80 pruned. \n"
     ]
    },
    {
     "name": "stdout",
     "output_type": "stream",
     "text": [
      "Trial pruned by Optuna at epoch 5.\n",
      "Checking Model: SSD\n",
      "Starting Trial #81\n",
      "{'batch_size': 5, 'epochs': 20, 'preweight_mode': 'fine_tuning', 'optimizer': 'AdamW', 'lr': 0.00020044010371515427, 'weight_decay': 0.003471411365695462, 'beta1': 0.8528036223730115, 'beta2': 0.9781685488216508, 'scheduler': 'OneCycleLR', 'max_lr': 0.0021058651462459435}\n",
      "Epoch 1/20, Train Loss: 439.5116, Val mAP@50: 0.2374, FPS: 275.85, Epoch Time: 5.29 seconds\n",
      "Epoch 2/20, Train Loss: 293.6688, Val mAP@50: 0.3778, FPS: 274.28, Epoch Time: 5.36 seconds\n",
      "Epoch 3/20, Train Loss: 230.6195, Val mAP@50: 0.3930, FPS: 274.37, Epoch Time: 5.43 seconds\n",
      "Epoch 4/20, Train Loss: 191.2058, Val mAP@50: 0.4300, FPS: 274.40, Epoch Time: 5.40 seconds\n",
      "Epoch 5/20, Train Loss: 158.5681, Val mAP@50: 0.4460, FPS: 274.64, Epoch Time: 5.36 seconds\n",
      "Epoch 6/20, Train Loss: 134.5980, Val mAP@50: 0.4798, FPS: 273.54, Epoch Time: 5.29 seconds\n",
      "Epoch 7/20, Train Loss: 121.3781, Val mAP@50: 0.4666, FPS: 274.71, Epoch Time: 5.38 seconds\n",
      "Epoch 8/20, Train Loss: 106.5371, Val mAP@50: 0.5336, FPS: 274.85, Epoch Time: 5.33 seconds\n",
      "Epoch 9/20, Train Loss: 95.2902, Val mAP@50: 0.5145, FPS: 274.25, Epoch Time: 5.28 seconds\n"
     ]
    },
    {
     "name": "stderr",
     "output_type": "stream",
     "text": [
      "[I 2025-01-26 20:47:01,039] Trial 81 pruned. \n"
     ]
    },
    {
     "name": "stdout",
     "output_type": "stream",
     "text": [
      "Trial pruned by Optuna at epoch 9.\n",
      "Checking Model: SSD\n",
      "Starting Trial #82\n",
      "{'batch_size': 5, 'epochs': 20, 'preweight_mode': 'fine_tuning', 'optimizer': 'AdamW', 'lr': 0.00013928557286510855, 'weight_decay': 0.0014881940201880361, 'beta1': 0.8696884425014056, 'beta2': 0.9618390389671599, 'scheduler': 'OneCycleLR', 'max_lr': 0.0016999029000022239}\n",
      "Epoch 1/20, Train Loss: 431.8474, Val mAP@50: 0.3295, FPS: 270.27, Epoch Time: 5.32 seconds\n",
      "Epoch 2/20, Train Loss: 277.6651, Val mAP@50: 0.3549, FPS: 269.54, Epoch Time: 5.30 seconds\n",
      "Epoch 3/20, Train Loss: 220.6681, Val mAP@50: 0.4103, FPS: 271.44, Epoch Time: 5.32 seconds\n",
      "Epoch 4/20, Train Loss: 179.4024, Val mAP@50: 0.4164, FPS: 271.39, Epoch Time: 5.35 seconds\n",
      "Epoch 5/20, Train Loss: 148.8611, Val mAP@50: 0.4794, FPS: 271.54, Epoch Time: 5.32 seconds\n",
      "Epoch 6/20, Train Loss: 133.6569, Val mAP@50: 0.4341, FPS: 271.68, Epoch Time: 5.33 seconds\n",
      "Epoch 7/20, Train Loss: 119.4510, Val mAP@50: 0.4887, FPS: 271.70, Epoch Time: 5.39 seconds\n",
      "Epoch 8/20, Train Loss: 105.1275, Val mAP@50: 0.4922, FPS: 271.55, Epoch Time: 5.32 seconds\n",
      "Epoch 9/20, Train Loss: 92.4396, Val mAP@50: 0.5231, FPS: 272.07, Epoch Time: 5.33 seconds\n"
     ]
    },
    {
     "name": "stderr",
     "output_type": "stream",
     "text": [
      "[I 2025-01-26 20:47:56,218] Trial 82 pruned. \n"
     ]
    },
    {
     "name": "stdout",
     "output_type": "stream",
     "text": [
      "Trial pruned by Optuna at epoch 9.\n",
      "Checking Model: SSD\n",
      "Starting Trial #83\n",
      "{'batch_size': 5, 'epochs': 20, 'preweight_mode': 'fine_tuning', 'optimizer': 'AdamW', 'lr': 0.00010237701106561087, 'weight_decay': 0.001769656574029679, 'beta1': 0.8647147067205977, 'beta2': 0.9676358522014854, 'scheduler': 'OneCycleLR', 'max_lr': 0.003071845794750836}\n",
      "Epoch 1/20, Train Loss: 484.9927, Val mAP@50: 0.0000, FPS: 271.49, Epoch Time: 5.34 seconds\n",
      "Epoch 2/20, Train Loss: 333.9239, Val mAP@50: 0.2404, FPS: 271.64, Epoch Time: 5.32 seconds\n",
      "Epoch 3/20, Train Loss: 266.2083, Val mAP@50: 0.3666, FPS: 271.44, Epoch Time: 5.32 seconds\n",
      "Epoch 4/20, Train Loss: 223.2863, Val mAP@50: 0.3894, FPS: 270.48, Epoch Time: 5.37 seconds\n",
      "Epoch 5/20, Train Loss: 188.3536, Val mAP@50: 0.4220, FPS: 271.47, Epoch Time: 5.39 seconds\n",
      "Epoch 6/20, Train Loss: 159.4139, Val mAP@50: 0.4998, FPS: 271.53, Epoch Time: 5.32 seconds\n",
      "Epoch 7/20, Train Loss: 140.8520, Val mAP@50: 0.4879, FPS: 271.83, Epoch Time: 5.30 seconds\n",
      "Epoch 8/20, Train Loss: 121.0121, Val mAP@50: 0.4722, FPS: 271.86, Epoch Time: 5.31 seconds\n",
      "Epoch 9/20, Train Loss: 102.6998, Val mAP@50: 0.5180, FPS: 272.17, Epoch Time: 5.29 seconds\n"
     ]
    },
    {
     "name": "stderr",
     "output_type": "stream",
     "text": [
      "[I 2025-01-26 20:48:51,369] Trial 83 pruned. \n"
     ]
    },
    {
     "name": "stdout",
     "output_type": "stream",
     "text": [
      "Trial pruned by Optuna at epoch 9.\n",
      "Checking Model: SSD\n",
      "Starting Trial #84\n",
      "{'batch_size': 6, 'epochs': 19, 'preweight_mode': 'fine_tuning', 'optimizer': 'RMSprop', 'lr': 0.0010335390328713296, 'weight_decay': 0.10163325913164968, 'momentum': 0.9138486349245176, 'scheduler': 'OneCycleLR', 'max_lr': 0.0023853788867740705}\n",
      "Epoch 1/19, Train Loss: 104739.1836, Val mAP@50: 0.0000, FPS: 283.80, Epoch Time: 5.88 seconds\n",
      "Epoch 2/19, Train Loss: 3287.2388, Val mAP@50: 0.0013, FPS: 282.95, Epoch Time: 5.85 seconds\n",
      "Epoch 3/19, Train Loss: 4034.6304, Val mAP@50: 0.0111, FPS: 282.73, Epoch Time: 5.21 seconds\n",
      "Epoch 4/19, Train Loss: 2935.6797, Val mAP@50: 0.0043, FPS: 283.65, Epoch Time: 5.90 seconds\n",
      "Epoch 5/19, Train Loss: 427224.1307, Val mAP@50: 0.0000, FPS: 283.65, Epoch Time: 5.88 seconds\n"
     ]
    },
    {
     "name": "stderr",
     "output_type": "stream",
     "text": [
      "[I 2025-01-26 20:49:27,386] Trial 84 pruned. \n"
     ]
    },
    {
     "name": "stdout",
     "output_type": "stream",
     "text": [
      "Trial pruned by Optuna at epoch 5.\n",
      "Checking Model: SSD\n",
      "Starting Trial #85\n",
      "{'batch_size': 4, 'epochs': 20, 'preweight_mode': 'fine_tuning', 'optimizer': 'SGD', 'lr': 0.005112490718912063, 'momentum': 0.9599479509721955, 'weight_decay': 0.0009014954018592106, 'scheduler': 'StepLR', 'step_size': 4, 'gamma': 0.22049848938668234}\n",
      "Epoch 1/20, Train Loss: nan, Val mAP@50: 0.0343, FPS: 264.64, Epoch Time: 6.09 seconds\n",
      "Epoch 2/20, Train Loss: nan, Val mAP@50: 0.0343, FPS: 264.39, Epoch Time: 6.09 seconds\n",
      "Epoch 3/20, Train Loss: nan, Val mAP@50: 0.0343, FPS: 264.40, Epoch Time: 6.23 seconds\n",
      "Epoch 4/20, Train Loss: nan, Val mAP@50: 0.0343, FPS: 264.03, Epoch Time: 5.96 seconds\n",
      "Epoch 5/20, Train Loss: nan, Val mAP@50: 0.0343, FPS: 264.49, Epoch Time: 6.01 seconds\n"
     ]
    },
    {
     "name": "stderr",
     "output_type": "stream",
     "text": [
      "[I 2025-01-26 20:50:05,680] Trial 85 pruned. \n"
     ]
    },
    {
     "name": "stdout",
     "output_type": "stream",
     "text": [
      "Trial pruned by Optuna at epoch 5.\n",
      "Checking Model: SSD\n",
      "Starting Trial #86\n",
      "{'batch_size': 5, 'epochs': 19, 'preweight_mode': 'fine_tuning', 'optimizer': 'AdamW', 'lr': 0.00024446834319946604, 'weight_decay': 0.0040121626829840665, 'beta1': 0.825187341580033, 'beta2': 0.989642549775872, 'scheduler': 'OneCycleLR', 'max_lr': 0.0012620356550941427}\n",
      "Epoch 1/19, Train Loss: 471.9171, Val mAP@50: 0.2886, FPS: 276.13, Epoch Time: 5.35 seconds\n",
      "Epoch 2/19, Train Loss: 299.4433, Val mAP@50: 0.4008, FPS: 273.08, Epoch Time: 5.34 seconds\n",
      "Epoch 3/19, Train Loss: 234.8480, Val mAP@50: 0.4283, FPS: 274.95, Epoch Time: 5.26 seconds\n",
      "Epoch 4/19, Train Loss: 195.3869, Val mAP@50: 0.4110, FPS: 273.65, Epoch Time: 5.29 seconds\n",
      "Epoch 5/19, Train Loss: 163.6107, Val mAP@50: 0.4021, FPS: 273.78, Epoch Time: 5.30 seconds\n",
      "Epoch 6/19, Train Loss: 141.5773, Val mAP@50: 0.4610, FPS: 273.56, Epoch Time: 5.30 seconds\n"
     ]
    },
    {
     "name": "stderr",
     "output_type": "stream",
     "text": [
      "[I 2025-01-26 20:50:44,635] Trial 86 pruned. \n"
     ]
    },
    {
     "name": "stdout",
     "output_type": "stream",
     "text": [
      "Trial pruned by Optuna at epoch 6.\n",
      "Checking Model: SSD\n",
      "Starting Trial #87\n",
      "{'batch_size': 5, 'epochs': 10, 'preweight_mode': 'fine_tuning', 'optimizer': 'AdamW', 'lr': 0.00011406707485846111, 'weight_decay': 0.004802907358097496, 'beta1': 0.8588914873247442, 'beta2': 0.9555176156331359, 'scheduler': 'OneCycleLR', 'max_lr': 0.001003244994186791}\n",
      "Epoch 1/10, Train Loss: 488.2138, Val mAP@50: 0.2689, FPS: 273.67, Epoch Time: 5.33 seconds\n",
      "Epoch 2/10, Train Loss: 309.2611, Val mAP@50: 0.3300, FPS: 272.76, Epoch Time: 5.27 seconds\n",
      "Epoch 3/10, Train Loss: 238.8124, Val mAP@50: 0.4366, FPS: 273.69, Epoch Time: 5.30 seconds\n",
      "Epoch 4/10, Train Loss: 190.5722, Val mAP@50: 0.4143, FPS: 273.53, Epoch Time: 5.29 seconds\n",
      "Epoch 5/10, Train Loss: 157.3222, Val mAP@50: 0.4751, FPS: 273.67, Epoch Time: 5.28 seconds\n",
      "Epoch 6/10, Train Loss: 136.6400, Val mAP@50: 0.4838, FPS: 273.26, Epoch Time: 5.29 seconds\n",
      "Epoch 7/10, Train Loss: 122.1723, Val mAP@50: 0.4951, FPS: 273.55, Epoch Time: 5.27 seconds\n",
      "Epoch 8/10, Train Loss: 107.2797, Val mAP@50: 0.5110, FPS: 273.26, Epoch Time: 5.30 seconds\n",
      "Epoch 9/10, Train Loss: 94.6739, Val mAP@50: 0.5106, FPS: 273.73, Epoch Time: 5.29 seconds\n"
     ]
    },
    {
     "name": "stderr",
     "output_type": "stream",
     "text": [
      "[I 2025-01-26 20:51:39,311] Trial 87 pruned. \n"
     ]
    },
    {
     "name": "stdout",
     "output_type": "stream",
     "text": [
      "Trial pruned by Optuna at epoch 9.\n",
      "Checking Model: SSD\n",
      "Starting Trial #88\n",
      "{'batch_size': 4, 'epochs': 20, 'preweight_mode': 'fine_tuning', 'optimizer': 'AdamW', 'lr': 0.00018921880355507443, 'weight_decay': 0.0024299206326679366, 'beta1': 0.8417224574711363, 'beta2': 0.9932705471594409, 'scheduler': 'OneCycleLR', 'max_lr': 0.0020372958405364206}\n",
      "Epoch 1/20, Train Loss: 559.9048, Val mAP@50: 0.2862, FPS: 262.01, Epoch Time: 5.48 seconds\n",
      "Epoch 2/20, Train Loss: 366.8600, Val mAP@50: 0.3517, FPS: 262.57, Epoch Time: 5.48 seconds\n",
      "Epoch 3/20, Train Loss: 285.5491, Val mAP@50: 0.3972, FPS: 261.93, Epoch Time: 5.48 seconds\n",
      "Epoch 4/20, Train Loss: 240.8277, Val mAP@50: 0.3867, FPS: 261.53, Epoch Time: 5.53 seconds\n",
      "Epoch 5/20, Train Loss: 206.2637, Val mAP@50: 0.4589, FPS: 262.08, Epoch Time: 5.41 seconds\n",
      "Epoch 6/20, Train Loss: 172.2468, Val mAP@50: 0.4876, FPS: 261.32, Epoch Time: 5.43 seconds\n",
      "Epoch 7/20, Train Loss: 148.1446, Val mAP@50: 0.5081, FPS: 261.89, Epoch Time: 5.45 seconds\n",
      "Epoch 8/20, Train Loss: 135.9489, Val mAP@50: 0.4987, FPS: 261.52, Epoch Time: 5.44 seconds\n",
      "Epoch 9/20, Train Loss: 116.4413, Val mAP@50: 0.5132, FPS: 262.22, Epoch Time: 5.43 seconds\n"
     ]
    },
    {
     "name": "stderr",
     "output_type": "stream",
     "text": [
      "[I 2025-01-26 20:52:35,647] Trial 88 pruned. \n"
     ]
    },
    {
     "name": "stdout",
     "output_type": "stream",
     "text": [
      "Trial pruned by Optuna at epoch 9.\n",
      "Checking Model: SSD\n",
      "Starting Trial #89\n",
      "{'batch_size': 4, 'epochs': 20, 'preweight_mode': 'fine_tuning', 'optimizer': 'Adam', 'lr': 0.00029621536431128525, 'beta1': 0.8491833078609372, 'beta2': 0.9730914475082691, 'scheduler': 'CosineAnnealingLR', 'T_max': 12, 'eta_min': 4.217519753266451e-07}\n",
      "Epoch 1/20, Train Loss: 617.5372, Val mAP@50: 0.0000, FPS: 262.66, Epoch Time: 5.40 seconds\n",
      "Epoch 2/20, Train Loss: 517.4243, Val mAP@50: 0.0000, FPS: 262.39, Epoch Time: 5.41 seconds\n",
      "Epoch 3/20, Train Loss: 441.1953, Val mAP@50: 0.1067, FPS: 262.49, Epoch Time: 5.48 seconds\n",
      "Epoch 4/20, Train Loss: 371.0462, Val mAP@50: 0.3082, FPS: 262.16, Epoch Time: 5.51 seconds\n",
      "Epoch 5/20, Train Loss: 318.2799, Val mAP@50: 0.3432, FPS: 261.96, Epoch Time: 5.48 seconds\n"
     ]
    },
    {
     "name": "stderr",
     "output_type": "stream",
     "text": [
      "[I 2025-01-26 20:53:10,173] Trial 89 pruned. \n"
     ]
    },
    {
     "name": "stdout",
     "output_type": "stream",
     "text": [
      "Trial pruned by Optuna at epoch 5.\n",
      "Checking Model: SSD\n",
      "Starting Trial #90\n",
      "{'batch_size': 5, 'epochs': 19, 'preweight_mode': 'fine_tuning', 'optimizer': 'AdamW', 'lr': 0.0003538702858846254, 'weight_decay': 0.002854278515593882, 'beta1': 0.904564326827852, 'beta2': 0.9438251454591177, 'scheduler': 'OneCycleLR', 'max_lr': 0.0006714294616745233}\n",
      "Epoch 1/19, Train Loss: 477.9404, Val mAP@50: 0.3122, FPS: 273.56, Epoch Time: 5.30 seconds\n",
      "Epoch 2/19, Train Loss: 308.9558, Val mAP@50: 0.3715, FPS: 272.75, Epoch Time: 5.26 seconds\n",
      "Epoch 3/19, Train Loss: 245.3887, Val mAP@50: 0.4135, FPS: 273.50, Epoch Time: 5.27 seconds\n",
      "Epoch 4/19, Train Loss: 199.0371, Val mAP@50: 0.4856, FPS: 273.29, Epoch Time: 5.26 seconds\n",
      "Epoch 5/19, Train Loss: 164.1150, Val mAP@50: 0.4519, FPS: 275.08, Epoch Time: 5.25 seconds\n",
      "Epoch 6/19, Train Loss: 140.8448, Val mAP@50: 0.4597, FPS: 274.57, Epoch Time: 5.26 seconds\n",
      "Epoch 7/19, Train Loss: 124.4532, Val mAP@50: 0.4676, FPS: 275.02, Epoch Time: 5.25 seconds\n",
      "Epoch 8/19, Train Loss: 113.7415, Val mAP@50: 0.5017, FPS: 274.90, Epoch Time: 5.25 seconds\n"
     ]
    },
    {
     "name": "stderr",
     "output_type": "stream",
     "text": [
      "[I 2025-01-26 20:53:59,406] Trial 90 pruned. \n"
     ]
    },
    {
     "name": "stdout",
     "output_type": "stream",
     "text": [
      "Trial pruned by Optuna at epoch 8.\n",
      "Checking Model: SSD\n",
      "Starting Trial #91\n",
      "{'batch_size': 5, 'epochs': 19, 'preweight_mode': 'fine_tuning', 'optimizer': 'AdamW', 'lr': 0.00016073586213477726, 'weight_decay': 0.004506130732507872, 'beta1': 0.8619533401637554, 'beta2': 0.9655499000201349, 'scheduler': 'OneCycleLR', 'max_lr': 0.0016190982905330356}\n",
      "Epoch 1/19, Train Loss: 436.1777, Val mAP@50: 0.3090, FPS: 273.79, Epoch Time: 5.29 seconds\n",
      "Epoch 2/19, Train Loss: 283.2472, Val mAP@50: 0.3830, FPS: 272.89, Epoch Time: 5.34 seconds\n",
      "Epoch 3/19, Train Loss: 218.8749, Val mAP@50: 0.3919, FPS: 273.49, Epoch Time: 5.28 seconds\n",
      "Epoch 4/19, Train Loss: 178.7447, Val mAP@50: 0.4930, FPS: 273.30, Epoch Time: 5.31 seconds\n",
      "Epoch 5/19, Train Loss: 151.0915, Val mAP@50: 0.4236, FPS: 273.75, Epoch Time: 5.26 seconds\n",
      "Epoch 6/19, Train Loss: 134.6467, Val mAP@50: 0.4424, FPS: 273.62, Epoch Time: 5.26 seconds\n",
      "Epoch 7/19, Train Loss: 116.0906, Val mAP@50: 0.4975, FPS: 273.11, Epoch Time: 5.26 seconds\n",
      "Epoch 8/19, Train Loss: 100.8631, Val mAP@50: 0.4821, FPS: 273.44, Epoch Time: 5.26 seconds\n",
      "Epoch 9/19, Train Loss: 87.7222, Val mAP@50: 0.5318, FPS: 273.52, Epoch Time: 5.25 seconds\n"
     ]
    },
    {
     "name": "stderr",
     "output_type": "stream",
     "text": [
      "[I 2025-01-26 20:54:54,005] Trial 91 pruned. \n"
     ]
    },
    {
     "name": "stdout",
     "output_type": "stream",
     "text": [
      "Trial pruned by Optuna at epoch 9.\n",
      "Checking Model: SSD\n",
      "Starting Trial #92\n",
      "{'batch_size': 5, 'epochs': 20, 'preweight_mode': 'fine_tuning', 'optimizer': 'AdamW', 'lr': 0.00021954202053902313, 'weight_decay': 0.003674866546603229, 'beta1': 0.8763930963527944, 'beta2': 0.9598835418387692, 'scheduler': 'OneCycleLR', 'max_lr': 0.001966680900047703}\n",
      "Epoch 1/20, Train Loss: 468.1313, Val mAP@50: 0.1771, FPS: 273.60, Epoch Time: 5.28 seconds\n",
      "Epoch 2/20, Train Loss: 299.9370, Val mAP@50: 0.3482, FPS: 273.40, Epoch Time: 5.27 seconds\n",
      "Epoch 3/20, Train Loss: 235.9175, Val mAP@50: 0.3929, FPS: 272.98, Epoch Time: 5.29 seconds\n",
      "Epoch 4/20, Train Loss: 195.4590, Val mAP@50: 0.4119, FPS: 273.01, Epoch Time: 5.26 seconds\n",
      "Epoch 5/20, Train Loss: 164.8888, Val mAP@50: 0.4300, FPS: 274.29, Epoch Time: 5.26 seconds\n",
      "Epoch 6/20, Train Loss: 143.2643, Val mAP@50: 0.4741, FPS: 273.34, Epoch Time: 5.24 seconds\n",
      "Epoch 7/20, Train Loss: 122.9633, Val mAP@50: 0.4956, FPS: 272.66, Epoch Time: 5.29 seconds\n",
      "Epoch 8/20, Train Loss: 105.8862, Val mAP@50: 0.5125, FPS: 273.49, Epoch Time: 5.26 seconds\n",
      "Epoch 9/20, Train Loss: 93.5591, Val mAP@50: 0.5279, FPS: 273.18, Epoch Time: 5.27 seconds\n",
      "Epoch 10/20, Train Loss: 77.3754, Val mAP@50: 0.5354, FPS: 272.51, Epoch Time: 5.26 seconds\n",
      "Epoch 11/20, Train Loss: 72.8384, Val mAP@50: 0.5193, FPS: 274.12, Epoch Time: 5.29 seconds\n",
      "Epoch 12/20, Train Loss: 62.6910, Val mAP@50: 0.5421, FPS: 274.53, Epoch Time: 5.28 seconds\n",
      "Epoch 13/20, Train Loss: 55.4821, Val mAP@50: 0.5472, FPS: 274.02, Epoch Time: 5.29 seconds\n",
      "Epoch 14/20, Train Loss: 51.3985, Val mAP@50: 0.5204, FPS: 275.06, Epoch Time: 5.26 seconds\n",
      "Epoch 15/20, Train Loss: 48.4039, Val mAP@50: 0.5530, FPS: 275.17, Epoch Time: 5.32 seconds\n"
     ]
    },
    {
     "name": "stderr",
     "output_type": "stream",
     "text": [
      "[I 2025-01-26 20:56:20,265] Trial 92 pruned. \n"
     ]
    },
    {
     "name": "stdout",
     "output_type": "stream",
     "text": [
      "Trial pruned by Optuna at epoch 15.\n",
      "Checking Model: SSD\n",
      "Starting Trial #93\n",
      "{'batch_size': 5, 'epochs': 19, 'preweight_mode': 'fine_tuning', 'optimizer': 'AdamW', 'lr': 0.00013156595246777603, 'weight_decay': 0.003276355311582465, 'beta1': 0.8327527110677814, 'beta2': 0.9691178749265562, 'scheduler': 'OneCycleLR', 'max_lr': 0.0015029742924321998}\n",
      "Epoch 1/19, Train Loss: 445.4894, Val mAP@50: 0.1635, FPS: 273.01, Epoch Time: 5.30 seconds\n",
      "Epoch 2/19, Train Loss: 286.7934, Val mAP@50: 0.3747, FPS: 271.89, Epoch Time: 5.27 seconds\n",
      "Epoch 3/19, Train Loss: 226.8392, Val mAP@50: 0.4112, FPS: 271.10, Epoch Time: 5.36 seconds\n",
      "Epoch 4/19, Train Loss: 186.9764, Val mAP@50: 0.4826, FPS: 269.98, Epoch Time: 5.36 seconds\n",
      "Epoch 5/19, Train Loss: 152.1773, Val mAP@50: 0.4792, FPS: 272.08, Epoch Time: 5.38 seconds\n",
      "Epoch 6/19, Train Loss: 134.6420, Val mAP@50: 0.4473, FPS: 272.10, Epoch Time: 5.35 seconds\n",
      "Epoch 7/19, Train Loss: 118.6774, Val mAP@50: 0.4738, FPS: 272.13, Epoch Time: 5.30 seconds\n",
      "Epoch 8/19, Train Loss: 104.1475, Val mAP@50: 0.5195, FPS: 272.22, Epoch Time: 5.33 seconds\n",
      "Epoch 9/19, Train Loss: 91.6060, Val mAP@50: 0.5480, FPS: 272.11, Epoch Time: 5.34 seconds\n",
      "Epoch 10/19, Train Loss: 81.2351, Val mAP@50: 0.5403, FPS: 271.65, Epoch Time: 5.31 seconds\n",
      "Epoch 11/19, Train Loss: 70.7455, Val mAP@50: 0.5589, FPS: 272.16, Epoch Time: 5.44 seconds\n",
      "Epoch 12/19, Train Loss: 61.9473, Val mAP@50: 0.5450, FPS: 271.45, Epoch Time: 5.43 seconds\n",
      "Epoch 13/19, Train Loss: 56.1332, Val mAP@50: 0.5230, FPS: 272.47, Epoch Time: 5.37 seconds\n",
      "Epoch 14/19, Train Loss: 51.3169, Val mAP@50: 0.5593, FPS: 273.36, Epoch Time: 5.34 seconds\n",
      "Epoch 15/19, Train Loss: 44.3171, Val mAP@50: 0.5621, FPS: 271.86, Epoch Time: 5.31 seconds\n",
      "Epoch 16/19, Train Loss: 40.5208, Val mAP@50: 0.5511, FPS: 273.45, Epoch Time: 5.33 seconds\n",
      "Epoch 17/19, Train Loss: 37.7977, Val mAP@50: 0.5728, FPS: 273.84, Epoch Time: 5.36 seconds\n",
      "Epoch 18/19, Train Loss: 31.3963, Val mAP@50: 0.5439, FPS: 273.30, Epoch Time: 5.34 seconds\n"
     ]
    },
    {
     "name": "stderr",
     "output_type": "stream",
     "text": [
      "[I 2025-01-26 20:58:03,748] Trial 93 finished with value: 0.5727643966674805 and parameters: {'batch_size': 5, 'epochs': 19, 'preweight_mode': 'fine_tuning', 'optimizer': 'AdamW', 'lr': 0.00013156595246777603, 'weight_decay': 0.003276355311582465, 'beta1': 0.8327527110677814, 'beta2': 0.9691178749265562, 'scheduler': 'OneCycleLR', 'max_lr': 0.0015029742924321998}. Best is trial 75 with value: 0.6289039254188538.\n"
     ]
    },
    {
     "name": "stdout",
     "output_type": "stream",
     "text": [
      "Epoch 19/19, Train Loss: 29.1932, Val mAP@50: 0.5582, FPS: 273.28, Epoch Time: 5.35 seconds\n",
      "Best Epoch: 16, Best Val mAP@50: 0.5728, Training Time: 101.58 seconds\n",
      "Model training complete.\n",
      "Checking Model: SSD\n",
      "Starting Trial #94\n",
      "{'batch_size': 4, 'epochs': 20, 'preweight_mode': 'random', 'optimizer': 'AdamW', 'lr': 0.00014860580398216833, 'weight_decay': 0.002234956101981899, 'beta1': 0.8524350818279507, 'beta2': 0.9769378491428155, 'scheduler': 'OneCycleLR', 'max_lr': 0.00403349706624896}\n",
      "Epoch 1/20, Train Loss: 849.5925, Val mAP@50: 0.0000, FPS: 261.13, Epoch Time: 5.52 seconds\n",
      "Epoch 2/20, Train Loss: 622.9678, Val mAP@50: 0.0000, FPS: 260.33, Epoch Time: 5.48 seconds\n",
      "Epoch 3/20, Train Loss: 579.9221, Val mAP@50: 0.0000, FPS: 261.14, Epoch Time: 5.50 seconds\n",
      "Epoch 4/20, Train Loss: 565.9032, Val mAP@50: 0.0000, FPS: 260.17, Epoch Time: 5.50 seconds\n"
     ]
    },
    {
     "name": "stderr",
     "output_type": "stream",
     "text": [
      "[I 2025-01-26 20:58:32,928] Trial 94 pruned. \n"
     ]
    },
    {
     "name": "stdout",
     "output_type": "stream",
     "text": [
      "Trial pruned by Optuna at epoch 4.\n",
      "Checking Model: SSD\n",
      "Starting Trial #95\n",
      "{'batch_size': 5, 'epochs': 18, 'preweight_mode': 'fine_tuning', 'optimizer': 'AdamW', 'lr': 0.0028331286362261927, 'weight_decay': 0.005273995501127284, 'beta1': 0.8384538002068835, 'beta2': 0.9537393226703954, 'scheduler': 'OneCycleLR', 'max_lr': 0.002548886917677969}\n",
      "Epoch 1/18, Train Loss: 448.8097, Val mAP@50: 0.1958, FPS: 272.19, Epoch Time: 5.34 seconds\n",
      "Epoch 2/18, Train Loss: 300.5501, Val mAP@50: 0.3324, FPS: 270.25, Epoch Time: 5.32 seconds\n",
      "Epoch 3/18, Train Loss: 240.2446, Val mAP@50: 0.4060, FPS: 272.16, Epoch Time: 5.33 seconds\n",
      "Epoch 4/18, Train Loss: 202.3069, Val mAP@50: 0.3999, FPS: 271.68, Epoch Time: 5.35 seconds\n",
      "Epoch 5/18, Train Loss: 169.0850, Val mAP@50: 0.4754, FPS: 271.88, Epoch Time: 5.34 seconds\n",
      "Epoch 6/18, Train Loss: 149.5159, Val mAP@50: 0.4429, FPS: 271.84, Epoch Time: 5.42 seconds\n",
      "Epoch 7/18, Train Loss: 139.4520, Val mAP@50: 0.4767, FPS: 271.09, Epoch Time: 5.46 seconds\n",
      "Epoch 8/18, Train Loss: 111.9498, Val mAP@50: 0.5007, FPS: 271.96, Epoch Time: 5.40 seconds\n",
      "Epoch 9/18, Train Loss: 95.3219, Val mAP@50: 0.5145, FPS: 272.18, Epoch Time: 5.32 seconds\n",
      "Epoch 10/18, Train Loss: 86.3613, Val mAP@50: 0.5365, FPS: 271.08, Epoch Time: 5.35 seconds\n",
      "Epoch 11/18, Train Loss: 73.5087, Val mAP@50: 0.5819, FPS: 272.55, Epoch Time: 5.36 seconds\n",
      "Epoch 12/18, Train Loss: 62.3780, Val mAP@50: 0.5082, FPS: 273.14, Epoch Time: 5.42 seconds\n",
      "Epoch 13/18, Train Loss: 60.0960, Val mAP@50: 0.5783, FPS: 273.20, Epoch Time: 5.39 seconds\n",
      "Epoch 14/18, Train Loss: 49.8390, Val mAP@50: 0.5734, FPS: 273.65, Epoch Time: 5.33 seconds\n",
      "Epoch 15/18, Train Loss: 46.7085, Val mAP@50: 0.5620, FPS: 273.80, Epoch Time: 5.31 seconds\n",
      "Epoch 16/18, Train Loss: 42.7222, Val mAP@50: 0.5502, FPS: 273.30, Epoch Time: 5.31 seconds\n",
      "Epoch 17/18, Train Loss: 38.1627, Val mAP@50: 0.5651, FPS: 274.25, Epoch Time: 5.28 seconds\n"
     ]
    },
    {
     "name": "stderr",
     "output_type": "stream",
     "text": [
      "[I 2025-01-26 21:00:11,244] Trial 95 finished with value: 0.5819387435913086 and parameters: {'batch_size': 5, 'epochs': 18, 'preweight_mode': 'fine_tuning', 'optimizer': 'AdamW', 'lr': 0.0028331286362261927, 'weight_decay': 0.005273995501127284, 'beta1': 0.8384538002068835, 'beta2': 0.9537393226703954, 'scheduler': 'OneCycleLR', 'max_lr': 0.002548886917677969}. Best is trial 75 with value: 0.6289039254188538.\n"
     ]
    },
    {
     "name": "stdout",
     "output_type": "stream",
     "text": [
      "Epoch 18/18, Train Loss: 35.7652, Val mAP@50: 0.5523, FPS: 273.44, Epoch Time: 5.32 seconds\n",
      "Best Epoch: 10, Best Val mAP@50: 0.5819, Training Time: 96.37 seconds\n",
      "Model training complete.\n",
      "Checking Model: SSD\n",
      "Starting Trial #96\n",
      "{'batch_size': 4, 'epochs': 19, 'preweight_mode': 'fine_tuning', 'optimizer': 'AdamW', 'lr': 0.0004668567843256827, 'weight_decay': 0.001956953414459094, 'beta1': 0.995132872784851, 'beta2': 0.9662212358343297, 'scheduler': 'ReduceLROnPlateau', 'factor': 0.39340245735999224, 'patience': 2}\n",
      "Epoch 1/19, Train Loss: 676.8705, Val mAP@50: 0.0000, FPS: 260.50, Epoch Time: 5.47 seconds\n",
      "Epoch 2/19, Train Loss: 588.6824, Val mAP@50: 0.0000, FPS: 260.97, Epoch Time: 5.44 seconds\n",
      "Epoch 3/19, Train Loss: 1310.5480, Val mAP@50: 0.0000, FPS: 259.92, Epoch Time: 5.47 seconds\n",
      "Epoch 4/19, Train Loss: 2468599.9842, Val mAP@50: 0.0001, FPS: 260.91, Epoch Time: 5.49 seconds\n",
      "Epoch 5/19, Train Loss: 60239400315.5866, Val mAP@50: 0.0001, FPS: 260.19, Epoch Time: 5.57 seconds\n"
     ]
    },
    {
     "name": "stderr",
     "output_type": "stream",
     "text": [
      "[I 2025-01-26 21:00:46,448] Trial 96 pruned. \n"
     ]
    },
    {
     "name": "stdout",
     "output_type": "stream",
     "text": [
      "Trial pruned by Optuna at epoch 5.\n",
      "Checking Model: SSD\n",
      "Starting Trial #97\n",
      "{'batch_size': 4, 'epochs': 20, 'preweight_mode': 'fine_tuning', 'optimizer': 'AdamW', 'lr': 0.000255204477160872, 'weight_decay': 0.004055218753815365, 'beta1': 0.8195653809487391, 'beta2': 0.9707395966525612, 'scheduler': 'OneCycleLR', 'max_lr': 0.0032033229693134743}\n",
      "Epoch 1/20, Train Loss: 589.4379, Val mAP@50: 0.0000, FPS: 261.08, Epoch Time: 5.44 seconds\n",
      "Epoch 2/20, Train Loss: 431.3387, Val mAP@50: 0.0936, FPS: 260.84, Epoch Time: 5.49 seconds\n",
      "Epoch 3/20, Train Loss: 343.5257, Val mAP@50: 0.2127, FPS: 259.95, Epoch Time: 5.51 seconds\n",
      "Epoch 4/20, Train Loss: 288.7429, Val mAP@50: 0.3999, FPS: 258.20, Epoch Time: 5.55 seconds\n",
      "Epoch 5/20, Train Loss: 241.3852, Val mAP@50: 0.4520, FPS: 259.57, Epoch Time: 5.51 seconds\n",
      "Epoch 6/20, Train Loss: 207.5761, Val mAP@50: 0.4983, FPS: 259.41, Epoch Time: 5.52 seconds\n",
      "Epoch 7/20, Train Loss: 183.8027, Val mAP@50: 0.4599, FPS: 260.04, Epoch Time: 5.51 seconds\n",
      "Epoch 8/20, Train Loss: 152.0935, Val mAP@50: 0.5761, FPS: 258.80, Epoch Time: 5.53 seconds\n",
      "Epoch 9/20, Train Loss: 140.7280, Val mAP@50: 0.4882, FPS: 260.18, Epoch Time: 5.49 seconds\n",
      "Epoch 10/20, Train Loss: 121.0751, Val mAP@50: 0.5217, FPS: 259.72, Epoch Time: 5.52 seconds\n",
      "Epoch 11/20, Train Loss: 107.8554, Val mAP@50: 0.5883, FPS: 260.58, Epoch Time: 5.50 seconds\n",
      "Epoch 12/20, Train Loss: 88.6580, Val mAP@50: 0.5211, FPS: 260.18, Epoch Time: 5.49 seconds\n",
      "Epoch 13/20, Train Loss: 80.6080, Val mAP@50: 0.5808, FPS: 261.43, Epoch Time: 5.52 seconds\n",
      "Epoch 14/20, Train Loss: 72.8604, Val mAP@50: 0.5514, FPS: 261.95, Epoch Time: 5.52 seconds\n",
      "Epoch 15/20, Train Loss: 66.0382, Val mAP@50: 0.5162, FPS: 262.84, Epoch Time: 5.49 seconds\n",
      "Epoch 16/20, Train Loss: 57.3430, Val mAP@50: 0.5526, FPS: 262.90, Epoch Time: 5.48 seconds\n",
      "Epoch 17/20, Train Loss: 54.7910, Val mAP@50: 0.5475, FPS: 262.84, Epoch Time: 5.48 seconds\n",
      "Epoch 18/20, Train Loss: 48.1860, Val mAP@50: 0.5497, FPS: 260.18, Epoch Time: 5.59 seconds\n",
      "Epoch 19/20, Train Loss: 45.6502, Val mAP@50: 0.5470, FPS: 261.57, Epoch Time: 5.52 seconds\n"
     ]
    },
    {
     "name": "stderr",
     "output_type": "stream",
     "text": [
      "[I 2025-01-26 21:02:38,601] Trial 97 finished with value: 0.6027449369430542 and parameters: {'batch_size': 4, 'epochs': 20, 'preweight_mode': 'fine_tuning', 'optimizer': 'AdamW', 'lr': 0.000255204477160872, 'weight_decay': 0.004055218753815365, 'beta1': 0.8195653809487391, 'beta2': 0.9707395966525612, 'scheduler': 'OneCycleLR', 'max_lr': 0.0032033229693134743}. Best is trial 75 with value: 0.6289039254188538.\n"
     ]
    },
    {
     "name": "stdout",
     "output_type": "stream",
     "text": [
      "Epoch 20/20, Train Loss: 42.5933, Val mAP@50: 0.6027, FPS: 261.23, Epoch Time: 5.54 seconds\n",
      "Best Epoch: 19, Best Val mAP@50: 0.6027, Training Time: 110.21 seconds\n",
      "Model training complete.\n",
      "Checking Model: SSD\n",
      "Starting Trial #98\n",
      "{'batch_size': 4, 'epochs': 20, 'preweight_mode': 'fine_tuning', 'optimizer': 'AdamW', 'lr': 0.0002048888963829633, 'weight_decay': 0.006184647872668886, 'beta1': 0.8217880521118166, 'beta2': 0.9036467913532525, 'scheduler': 'OneCycleLR', 'max_lr': 0.0033423226430075274}\n",
      "Epoch 1/20, Train Loss: 599.8414, Val mAP@50: 0.0000, FPS: 259.56, Epoch Time: 5.51 seconds\n",
      "Epoch 2/20, Train Loss: 504.4228, Val mAP@50: 0.0000, FPS: 259.72, Epoch Time: 5.51 seconds\n",
      "Epoch 3/20, Train Loss: 444.6640, Val mAP@50: 0.1085, FPS: 259.53, Epoch Time: 5.55 seconds\n",
      "Epoch 4/20, Train Loss: 382.8488, Val mAP@50: 0.2461, FPS: 258.83, Epoch Time: 5.53 seconds\n",
      "Epoch 5/20, Train Loss: 338.9053, Val mAP@50: 0.3008, FPS: 259.65, Epoch Time: 5.53 seconds\n"
     ]
    },
    {
     "name": "stderr",
     "output_type": "stream",
     "text": [
      "[I 2025-01-26 21:03:13,605] Trial 98 pruned. \n"
     ]
    },
    {
     "name": "stdout",
     "output_type": "stream",
     "text": [
      "Trial pruned by Optuna at epoch 5.\n",
      "Checking Model: SSD\n",
      "Starting Trial #99\n",
      "{'batch_size': 4, 'epochs': 20, 'preweight_mode': 'freezing', 'optimizer': 'RMSprop', 'lr': 0.0010243608634712559, 'weight_decay': 0.10152521638510535, 'momentum': 0.9358496286186168, 'scheduler': 'OneCycleLR', 'max_lr': 0.0029056640684050525}\n",
      "Epoch 1/20, Train Loss: 3272.8615, Val mAP@50: 0.0115, FPS: 261.79, Epoch Time: 5.09 seconds\n",
      "Epoch 2/20, Train Loss: 2254.8464, Val mAP@50: 0.0168, FPS: 259.62, Epoch Time: 5.07 seconds\n",
      "Epoch 3/20, Train Loss: 1871.3873, Val mAP@50: 0.0202, FPS: 261.39, Epoch Time: 5.03 seconds\n",
      "Epoch 4/20, Train Loss: 1907.8205, Val mAP@50: 0.0152, FPS: 261.03, Epoch Time: 5.02 seconds\n",
      "Epoch 5/20, Train Loss: 2020.5504, Val mAP@50: 0.0015, FPS: 261.95, Epoch Time: 4.99 seconds\n"
     ]
    },
    {
     "name": "stderr",
     "output_type": "stream",
     "text": [
      "[I 2025-01-26 21:03:45,690] Trial 99 pruned. \n"
     ]
    },
    {
     "name": "stdout",
     "output_type": "stream",
     "text": [
      "Trial pruned by Optuna at epoch 5.\n",
      "\n",
      "Best trial: #75\n",
      "  Value:  0.6289039254188538\n",
      "  Params: \n",
      "    batch_size: 5\n",
      "    epochs: 20\n",
      "    preweight_mode: fine_tuning\n",
      "    optimizer: Adam\n",
      "    lr: 0.0003013278858654\n",
      "    beta1: 0.889465602367927\n",
      "    beta2: 0.9647690578247308\n",
      "    scheduler: OneCycleLR\n",
      "    max_lr: 0.00217740134478874\n"
     ]
    }
   ],
   "source": [
    "model_name = \"ssd300_vgg16\"\n",
    "study_1 = trainer.run_optimization(model_name, train_set, val_set, n_trials=100, study_name=model_name, save_path=os.path.join(\"data/models\", model_name))"
   ]
  },
  {
   "cell_type": "code",
   "execution_count": null,
   "metadata": {},
   "outputs": [],
   "source": [
    "\n",
    "# model = trainer.get_model(model_name=\"ssd300_vgg16\")\n",
    "# state_dict = torch.load(\"data/models/ssd300_vgg16/ssd300_vgg16_best.pth\", weights_only=True)\n",
    "# model.load_state_dict(state_dict)\n",
    "# device = torch.device(\"cuda\" if torch.cuda.is_available() else \"cpu\")\n",
    "# model.to(device)  # Move the model to the GPU\n",
    "# model.eval()  # Set the model to evaluation mode\n",
    "\n",
    "# # test the model\n",
    "# evaluator.test_model(model, test_set, index=None, model_name=\"ssd300_vgg16\")"
   ]
  },
  {
   "cell_type": "markdown",
   "metadata": {},
   "source": [
    "## ssdlite320_mobilenet_v3_large"
   ]
  },
  {
   "cell_type": "code",
   "execution_count": 5,
   "metadata": {},
   "outputs": [
    {
     "name": "stdout",
     "output_type": "stream",
     "text": [
      "Number of valid images: 664\n",
      "Train set size: 464 - 69.88%\n",
      "Validation set size: 67 - 10.09%\n",
      "Test set size: 133 - 20.03%\n",
      "\n"
     ]
    }
   ],
   "source": [
    "input_size = 320\n",
    "\n",
    "transform = torchvision.transforms.Compose([\n",
    "    torchvision.transforms.Resize((input_size, input_size)),\n",
    "    torchvision.transforms.ToTensor(), # uint8 values in [0, 255] -> float tensor with values [0, 1]\n",
    "    torchvision.transforms.Normalize(mean=data_process.train_mean.tolist(), std=data_process.train_std.tolist())\n",
    "])\n",
    "\n",
    "train_set, val_set, test_set = data_process.load_data(transform=transform, input_size=input_size)"
   ]
  },
  {
   "cell_type": "code",
   "execution_count": 6,
   "metadata": {},
   "outputs": [
    {
     "name": "stderr",
     "output_type": "stream",
     "text": [
      "[I 2025-01-26 21:03:47,638] A new study created in RDB with name: ssdlite320_mobilenet_v3_large\n"
     ]
    },
    {
     "name": "stdout",
     "output_type": "stream",
     "text": [
      "Checking Model: SSD\n",
      "Starting Trial #0\n",
      "{'batch_size': 7, 'epochs': 17, 'preweight_mode': 'fine_tuning', 'optimizer': 'Adam', 'lr': 0.0009472961959721175, 'beta1': 0.9658118084445251, 'beta2': 0.9318563294010559, 'scheduler': 'CosineAnnealingLR', 'T_max': 8, 'eta_min': 8.307341815284441e-06}\n",
      "Epoch 1/17, Train Loss: 271.5372, Val mAP@50: 0.3671, FPS: 444.35, Epoch Time: 4.90 seconds\n",
      "Epoch 2/17, Train Loss: 187.2219, Val mAP@50: 0.4628, FPS: 564.97, Epoch Time: 4.68 seconds\n",
      "Epoch 3/17, Train Loss: 144.4304, Val mAP@50: 0.4386, FPS: 561.92, Epoch Time: 4.66 seconds\n",
      "Epoch 4/17, Train Loss: 109.8475, Val mAP@50: 0.4534, FPS: 561.52, Epoch Time: 4.67 seconds\n",
      "Epoch 5/17, Train Loss: 88.4003, Val mAP@50: 0.5112, FPS: 561.86, Epoch Time: 4.68 seconds\n",
      "Epoch 6/17, Train Loss: 69.2150, Val mAP@50: 0.4785, FPS: 561.45, Epoch Time: 4.66 seconds\n",
      "Epoch 7/17, Train Loss: 56.0603, Val mAP@50: 0.4973, FPS: 559.37, Epoch Time: 4.68 seconds\n",
      "Epoch 8/17, Train Loss: 48.9348, Val mAP@50: 0.4943, FPS: 558.05, Epoch Time: 4.70 seconds\n",
      "Epoch 9/17, Train Loss: 46.1898, Val mAP@50: 0.5056, FPS: 555.22, Epoch Time: 4.68 seconds\n",
      "Epoch 10/17, Train Loss: 45.2949, Val mAP@50: 0.4981, FPS: 554.94, Epoch Time: 4.72 seconds\n",
      "Epoch 11/17, Train Loss: 45.3106, Val mAP@50: 0.5074, FPS: 553.94, Epoch Time: 4.71 seconds\n",
      "Epoch 12/17, Train Loss: 44.4980, Val mAP@50: 0.4464, FPS: 551.53, Epoch Time: 4.71 seconds\n",
      "Epoch 13/17, Train Loss: 47.1377, Val mAP@50: 0.4836, FPS: 553.79, Epoch Time: 4.70 seconds\n",
      "Epoch 14/17, Train Loss: 56.2026, Val mAP@50: 0.4853, FPS: 563.43, Epoch Time: 4.69 seconds\n",
      "Epoch 15/17, Train Loss: 61.4144, Val mAP@50: 0.4825, FPS: 557.36, Epoch Time: 4.65 seconds\n",
      "Epoch 16/17, Train Loss: 63.1926, Val mAP@50: 0.4710, FPS: 563.31, Epoch Time: 4.65 seconds\n"
     ]
    },
    {
     "name": "stderr",
     "output_type": "stream",
     "text": [
      "[I 2025-01-26 21:05:07,863] Trial 0 finished with value: 0.5111747980117798 and parameters: {'batch_size': 7, 'epochs': 17, 'preweight_mode': 'fine_tuning', 'optimizer': 'Adam', 'lr': 0.0009472961959721175, 'beta1': 0.9658118084445251, 'beta2': 0.9318563294010559, 'scheduler': 'CosineAnnealingLR', 'T_max': 8, 'eta_min': 8.307341815284441e-06}. Best is trial 0 with value: 0.5111747980117798.\n"
     ]
    },
    {
     "name": "stdout",
     "output_type": "stream",
     "text": [
      "Epoch 17/17, Train Loss: 63.4349, Val mAP@50: 0.4650, FPS: 560.10, Epoch Time: 4.65 seconds\n",
      "Best Epoch: 4, Best Val mAP@50: 0.5112, Training Time: 79.78 seconds\n",
      "Model training complete.\n",
      "Checking Model: SSD\n",
      "Starting Trial #1\n",
      "{'batch_size': 6, 'epochs': 13, 'preweight_mode': 'random', 'optimizer': 'Adam', 'lr': 0.0004904539339172869, 'beta1': 0.9169765854389738, 'beta2': 0.9282853454922604, 'scheduler': 'StepLR', 'step_size': 5, 'gamma': 0.16714116943161034}\n",
      "Epoch 1/13, Train Loss: 533.4720, Val mAP@50: 0.1012, FPS: 414.87, Epoch Time: 5.04 seconds\n",
      "Epoch 2/13, Train Loss: 363.8372, Val mAP@50: 0.3022, FPS: 516.57, Epoch Time: 4.98 seconds\n",
      "Epoch 3/13, Train Loss: 292.7237, Val mAP@50: 0.3063, FPS: 519.32, Epoch Time: 4.95 seconds\n",
      "Epoch 4/13, Train Loss: 230.9439, Val mAP@50: 0.3543, FPS: 516.18, Epoch Time: 4.95 seconds\n",
      "Epoch 5/13, Train Loss: 186.9959, Val mAP@50: 0.4044, FPS: 520.36, Epoch Time: 4.95 seconds\n",
      "Epoch 6/13, Train Loss: 142.2305, Val mAP@50: 0.3842, FPS: 521.16, Epoch Time: 4.93 seconds\n",
      "Epoch 7/13, Train Loss: 125.5507, Val mAP@50: 0.4080, FPS: 521.08, Epoch Time: 4.95 seconds\n",
      "Epoch 8/13, Train Loss: 117.5615, Val mAP@50: 0.3846, FPS: 518.85, Epoch Time: 4.94 seconds\n",
      "Epoch 9/13, Train Loss: 110.4916, Val mAP@50: 0.3834, FPS: 520.12, Epoch Time: 4.95 seconds\n",
      "Epoch 10/13, Train Loss: 103.7727, Val mAP@50: 0.3934, FPS: 520.94, Epoch Time: 4.94 seconds\n",
      "Epoch 11/13, Train Loss: 96.7683, Val mAP@50: 0.3951, FPS: 521.13, Epoch Time: 4.94 seconds\n",
      "Epoch 12/13, Train Loss: 96.1833, Val mAP@50: 0.3901, FPS: 518.26, Epoch Time: 4.93 seconds\n"
     ]
    },
    {
     "name": "stderr",
     "output_type": "stream",
     "text": [
      "[I 2025-01-26 21:06:12,779] Trial 1 finished with value: 0.40797606110572815 and parameters: {'batch_size': 6, 'epochs': 13, 'preweight_mode': 'random', 'optimizer': 'Adam', 'lr': 0.0004904539339172869, 'beta1': 0.9169765854389738, 'beta2': 0.9282853454922604, 'scheduler': 'StepLR', 'step_size': 5, 'gamma': 0.16714116943161034}. Best is trial 0 with value: 0.5111747980117798.\n"
     ]
    },
    {
     "name": "stdout",
     "output_type": "stream",
     "text": [
      "Epoch 13/13, Train Loss: 94.8072, Val mAP@50: 0.3899, FPS: 519.07, Epoch Time: 4.96 seconds\n",
      "Best Epoch: 6, Best Val mAP@50: 0.4080, Training Time: 64.41 seconds\n",
      "Model training complete.\n",
      "Checking Model: SSD\n",
      "Starting Trial #2\n",
      "{'batch_size': 8, 'epochs': 17, 'preweight_mode': 'freezing', 'optimizer': 'RMSprop', 'lr': 0.004241247429282568, 'weight_decay': 0.1260926568334326, 'momentum': 0.9492067843282642, 'scheduler': 'StepLR', 'step_size': 5, 'gamma': 0.17734318931932058}\n",
      "Epoch 1/17, Train Loss: 2694.1395, Val mAP@50: 0.0381, FPS: 469.37, Epoch Time: 4.22 seconds\n",
      "Epoch 2/17, Train Loss: 1348.0537, Val mAP@50: 0.0646, FPS: 603.94, Epoch Time: 4.18 seconds\n",
      "Epoch 3/17, Train Loss: 1287.3066, Val mAP@50: 0.0426, FPS: 606.52, Epoch Time: 4.07 seconds\n",
      "Epoch 4/17, Train Loss: 1234.6478, Val mAP@50: 0.0733, FPS: 607.78, Epoch Time: 4.10 seconds\n",
      "Epoch 5/17, Train Loss: 1194.2647, Val mAP@50: 0.0531, FPS: 607.48, Epoch Time: 4.17 seconds\n",
      "Epoch 6/17, Train Loss: 643.4420, Val mAP@50: 0.1294, FPS: 608.83, Epoch Time: 4.04 seconds\n",
      "Epoch 7/17, Train Loss: 456.6353, Val mAP@50: 0.1184, FPS: 609.25, Epoch Time: 4.03 seconds\n",
      "Epoch 8/17, Train Loss: 462.2358, Val mAP@50: 0.1206, FPS: 608.95, Epoch Time: 4.03 seconds\n",
      "Epoch 9/17, Train Loss: 461.7284, Val mAP@50: 0.0936, FPS: 607.23, Epoch Time: 4.07 seconds\n",
      "Epoch 10/17, Train Loss: 478.8315, Val mAP@50: 0.1259, FPS: 603.84, Epoch Time: 4.08 seconds\n",
      "Epoch 11/17, Train Loss: 361.4019, Val mAP@50: 0.1623, FPS: 607.42, Epoch Time: 4.06 seconds\n",
      "Epoch 12/17, Train Loss: 330.9679, Val mAP@50: 0.1542, FPS: 605.52, Epoch Time: 4.06 seconds\n",
      "Epoch 13/17, Train Loss: 326.0578, Val mAP@50: 0.1309, FPS: 609.30, Epoch Time: 4.05 seconds\n",
      "Epoch 14/17, Train Loss: 329.6347, Val mAP@50: 0.1420, FPS: 582.56, Epoch Time: 4.04 seconds\n",
      "Epoch 15/17, Train Loss: 329.6918, Val mAP@50: 0.1502, FPS: 605.78, Epoch Time: 4.01 seconds\n",
      "Epoch 16/17, Train Loss: 312.6409, Val mAP@50: 0.1375, FPS: 601.74, Epoch Time: 4.03 seconds\n"
     ]
    },
    {
     "name": "stderr",
     "output_type": "stream",
     "text": [
      "[I 2025-01-26 21:07:22,500] Trial 2 finished with value: 0.16233369708061218 and parameters: {'batch_size': 8, 'epochs': 17, 'preweight_mode': 'freezing', 'optimizer': 'RMSprop', 'lr': 0.004241247429282568, 'weight_decay': 0.1260926568334326, 'momentum': 0.9492067843282642, 'scheduler': 'StepLR', 'step_size': 5, 'gamma': 0.17734318931932058}. Best is trial 0 with value: 0.5111747980117798.\n"
     ]
    },
    {
     "name": "stdout",
     "output_type": "stream",
     "text": [
      "Epoch 17/17, Train Loss: 305.0391, Val mAP@50: 0.1288, FPS: 607.25, Epoch Time: 4.03 seconds\n",
      "Best Epoch: 10, Best Val mAP@50: 0.1623, Training Time: 69.27 seconds\n",
      "Model training complete.\n",
      "Checking Model: SSD\n",
      "Starting Trial #3\n",
      "{'batch_size': 8, 'epochs': 13, 'preweight_mode': 'freezing', 'optimizer': 'SGD', 'lr': 0.04948808716982222, 'momentum': 0.9468789822431335, 'weight_decay': 5.129973236412686e-05, 'scheduler': 'StepLR', 'step_size': 5, 'gamma': 0.056083539958035666}\n",
      "Epoch 1/13, Train Loss: 699.5804, Val mAP@50: 0.1843, FPS: 603.46, Epoch Time: 4.11 seconds\n",
      "Epoch 2/13, Train Loss: 671.9887, Val mAP@50: 0.1896, FPS: 607.09, Epoch Time: 4.10 seconds\n",
      "Epoch 3/13, Train Loss: 682.0947, Val mAP@50: 0.1916, FPS: 605.18, Epoch Time: 4.07 seconds\n",
      "Epoch 4/13, Train Loss: 641.3170, Val mAP@50: 0.1971, FPS: 604.51, Epoch Time: 4.05 seconds\n",
      "Epoch 5/13, Train Loss: 740.3744, Val mAP@50: 0.2084, FPS: 601.23, Epoch Time: 4.07 seconds\n",
      "Epoch 6/13, Train Loss: 472.2959, Val mAP@50: 0.2482, FPS: 600.71, Epoch Time: 4.06 seconds\n",
      "Epoch 7/13, Train Loss: 366.5681, Val mAP@50: 0.2343, FPS: 602.41, Epoch Time: 4.06 seconds\n",
      "Epoch 8/13, Train Loss: 335.3126, Val mAP@50: 0.2413, FPS: 602.15, Epoch Time: 4.04 seconds\n",
      "Epoch 9/13, Train Loss: 322.4599, Val mAP@50: 0.2285, FPS: 609.82, Epoch Time: 4.03 seconds\n",
      "Epoch 10/13, Train Loss: 299.7176, Val mAP@50: 0.2366, FPS: 612.45, Epoch Time: 3.99 seconds\n",
      "Epoch 11/13, Train Loss: 288.4234, Val mAP@50: 0.2448, FPS: 613.37, Epoch Time: 3.99 seconds\n",
      "Epoch 12/13, Train Loss: 283.4780, Val mAP@50: 0.2437, FPS: 614.94, Epoch Time: 3.98 seconds\n"
     ]
    },
    {
     "name": "stderr",
     "output_type": "stream",
     "text": [
      "[I 2025-01-26 21:08:15,480] Trial 3 finished with value: 0.2482331544160843 and parameters: {'batch_size': 8, 'epochs': 13, 'preweight_mode': 'freezing', 'optimizer': 'SGD', 'lr': 0.04948808716982222, 'momentum': 0.9468789822431335, 'weight_decay': 5.129973236412686e-05, 'scheduler': 'StepLR', 'step_size': 5, 'gamma': 0.056083539958035666}. Best is trial 0 with value: 0.5111747980117798.\n"
     ]
    },
    {
     "name": "stdout",
     "output_type": "stream",
     "text": [
      "Epoch 13/13, Train Loss: 281.3917, Val mAP@50: 0.2433, FPS: 615.57, Epoch Time: 3.98 seconds\n",
      "Best Epoch: 5, Best Val mAP@50: 0.2482, Training Time: 52.52 seconds\n",
      "Model training complete.\n",
      "Checking Model: SSD\n",
      "Starting Trial #4\n",
      "{'batch_size': 6, 'epochs': 17, 'preweight_mode': 'fine_tuning', 'optimizer': 'SGD', 'lr': 0.02344308086614435, 'momentum': 0.9727457317944981, 'weight_decay': 4.760099310748672e-05, 'scheduler': 'OneCycleLR', 'max_lr': 0.004548729885792942}\n",
      "Epoch 1/17, Train Loss: 414.5248, Val mAP@50: 0.2752, FPS: 508.12, Epoch Time: 5.01 seconds\n",
      "Epoch 2/17, Train Loss: 301.8576, Val mAP@50: 0.3266, FPS: 525.16, Epoch Time: 4.89 seconds\n",
      "Epoch 3/17, Train Loss: 267.5341, Val mAP@50: 0.3252, FPS: 533.30, Epoch Time: 4.99 seconds\n",
      "Epoch 4/17, Train Loss: 245.5009, Val mAP@50: 0.3208, FPS: 533.88, Epoch Time: 5.02 seconds\n",
      "Epoch 5/17, Train Loss: 230.0092, Val mAP@50: 0.3313, FPS: 533.05, Epoch Time: 5.04 seconds\n",
      "Epoch 6/17, Train Loss: 216.9055, Val mAP@50: 0.3143, FPS: 530.90, Epoch Time: 4.81 seconds\n",
      "Epoch 7/17, Train Loss: 207.5137, Val mAP@50: 0.3203, FPS: 530.49, Epoch Time: 4.80 seconds\n",
      "Epoch 8/17, Train Loss: 197.4443, Val mAP@50: 0.3279, FPS: 531.11, Epoch Time: 4.79 seconds\n",
      "Epoch 9/17, Train Loss: 186.8845, Val mAP@50: 0.3577, FPS: 531.65, Epoch Time: 4.82 seconds\n",
      "Epoch 10/17, Train Loss: 179.8283, Val mAP@50: 0.3275, FPS: 531.23, Epoch Time: 4.79 seconds\n",
      "Epoch 11/17, Train Loss: 173.4756, Val mAP@50: 0.3238, FPS: 531.02, Epoch Time: 4.80 seconds\n",
      "Epoch 12/17, Train Loss: 168.3020, Val mAP@50: 0.3304, FPS: 530.34, Epoch Time: 4.81 seconds\n",
      "Epoch 13/17, Train Loss: 161.4648, Val mAP@50: 0.3349, FPS: 531.64, Epoch Time: 4.79 seconds\n",
      "Epoch 14/17, Train Loss: 155.1561, Val mAP@50: 0.3436, FPS: 530.86, Epoch Time: 4.79 seconds\n",
      "Epoch 15/17, Train Loss: 151.0191, Val mAP@50: 0.3411, FPS: 532.15, Epoch Time: 4.79 seconds\n",
      "Epoch 16/17, Train Loss: 146.3932, Val mAP@50: 0.3703, FPS: 529.60, Epoch Time: 4.82 seconds\n"
     ]
    },
    {
     "name": "stderr",
     "output_type": "stream",
     "text": [
      "[I 2025-01-26 21:09:38,624] Trial 4 finished with value: 0.3703068494796753 and parameters: {'batch_size': 6, 'epochs': 17, 'preweight_mode': 'fine_tuning', 'optimizer': 'SGD', 'lr': 0.02344308086614435, 'momentum': 0.9727457317944981, 'weight_decay': 4.760099310748672e-05, 'scheduler': 'OneCycleLR', 'max_lr': 0.004548729885792942}. Best is trial 0 with value: 0.5111747980117798.\n"
     ]
    },
    {
     "name": "stdout",
     "output_type": "stream",
     "text": [
      "Epoch 17/17, Train Loss: 139.9772, Val mAP@50: 0.3638, FPS: 528.89, Epoch Time: 4.91 seconds\n",
      "Best Epoch: 15, Best Val mAP@50: 0.3703, Training Time: 82.69 seconds\n",
      "Model training complete.\n",
      "Checking Model: SSD\n",
      "Starting Trial #5\n",
      "{'batch_size': 7, 'epochs': 17, 'preweight_mode': 'fine_tuning', 'optimizer': 'RMSprop', 'lr': 0.0012548593198908888, 'weight_decay': 0.5380377852807633, 'momentum': 0.9780810792026231, 'scheduler': 'ReduceLROnPlateau', 'factor': 0.2973243346544745, 'patience': 3}\n",
      "Epoch 1/17, Train Loss: 1731.6933, Val mAP@50: 0.0053, FPS: 568.33, Epoch Time: 5.04 seconds\n",
      "Epoch 2/17, Train Loss: 679.2753, Val mAP@50: 0.0022, FPS: 568.20, Epoch Time: 5.12 seconds\n",
      "Epoch 3/17, Train Loss: 460.7080, Val mAP@50: 0.0054, FPS: 567.61, Epoch Time: 5.10 seconds\n",
      "Epoch 4/17, Train Loss: 415.0911, Val mAP@50: 0.0002, FPS: 562.97, Epoch Time: 4.95 seconds\n",
      "Epoch 5/17, Train Loss: 406.9572, Val mAP@50: 0.0000, FPS: 560.19, Epoch Time: 4.84 seconds\n"
     ]
    },
    {
     "name": "stderr",
     "output_type": "stream",
     "text": [
      "[I 2025-01-26 21:10:08,829] Trial 5 pruned. \n"
     ]
    },
    {
     "name": "stdout",
     "output_type": "stream",
     "text": [
      "Trial pruned by Optuna at epoch 5.\n",
      "Checking Model: SSD\n",
      "Starting Trial #6\n",
      "{'batch_size': 7, 'epochs': 16, 'preweight_mode': 'fine_tuning', 'optimizer': 'SGD', 'lr': 0.016998759580392438, 'momentum': 0.9201578015051693, 'weight_decay': 1.0003658748852571e-05, 'scheduler': 'CosineAnnealingLR', 'T_max': 5, 'eta_min': 4.0935047202991817e-07}\n",
      "Epoch 1/16, Train Loss: 387.7822, Val mAP@50: 0.1144, FPS: 561.26, Epoch Time: 4.73 seconds\n",
      "Epoch 2/16, Train Loss: 268.2087, Val mAP@50: 0.3353, FPS: 556.55, Epoch Time: 4.65 seconds\n",
      "Epoch 3/16, Train Loss: 197.1582, Val mAP@50: 0.3947, FPS: 559.15, Epoch Time: 4.69 seconds\n",
      "Epoch 4/16, Train Loss: 160.1025, Val mAP@50: 0.4016, FPS: 560.17, Epoch Time: 4.69 seconds\n",
      "Epoch 5/16, Train Loss: 132.3014, Val mAP@50: 0.4176, FPS: 559.01, Epoch Time: 4.63 seconds\n",
      "Epoch 6/16, Train Loss: 123.0223, Val mAP@50: 0.4163, FPS: 554.73, Epoch Time: 4.63 seconds\n",
      "Epoch 7/16, Train Loss: 125.8380, Val mAP@50: 0.4170, FPS: 558.41, Epoch Time: 4.61 seconds\n",
      "Epoch 8/16, Train Loss: 128.3629, Val mAP@50: 0.3966, FPS: 556.65, Epoch Time: 4.63 seconds\n",
      "Epoch 9/16, Train Loss: 154.8446, Val mAP@50: 0.3643, FPS: 558.25, Epoch Time: 4.62 seconds\n",
      "Epoch 10/16, Train Loss: 155.1006, Val mAP@50: 0.3687, FPS: 559.11, Epoch Time: 4.79 seconds\n",
      "Epoch 11/16, Train Loss: 152.8714, Val mAP@50: 0.3338, FPS: 558.44, Epoch Time: 4.84 seconds\n",
      "Epoch 12/16, Train Loss: 137.8426, Val mAP@50: 0.3830, FPS: 556.30, Epoch Time: 4.85 seconds\n",
      "Epoch 13/16, Train Loss: 105.1585, Val mAP@50: 0.3842, FPS: 555.30, Epoch Time: 4.84 seconds\n",
      "Epoch 14/16, Train Loss: 76.9027, Val mAP@50: 0.4248, FPS: 558.41, Epoch Time: 4.85 seconds\n",
      "Epoch 15/16, Train Loss: 61.8657, Val mAP@50: 0.4393, FPS: 555.86, Epoch Time: 4.85 seconds\n"
     ]
    },
    {
     "name": "stderr",
     "output_type": "stream",
     "text": [
      "[I 2025-01-26 21:11:25,067] Trial 6 finished with value: 0.44664064049720764 and parameters: {'batch_size': 7, 'epochs': 16, 'preweight_mode': 'fine_tuning', 'optimizer': 'SGD', 'lr': 0.016998759580392438, 'momentum': 0.9201578015051693, 'weight_decay': 1.0003658748852571e-05, 'scheduler': 'CosineAnnealingLR', 'T_max': 5, 'eta_min': 4.0935047202991817e-07}. Best is trial 0 with value: 0.5111747980117798.\n"
     ]
    },
    {
     "name": "stdout",
     "output_type": "stream",
     "text": [
      "Epoch 16/16, Train Loss: 57.4742, Val mAP@50: 0.4466, FPS: 551.55, Epoch Time: 4.87 seconds\n",
      "Best Epoch: 15, Best Val mAP@50: 0.4466, Training Time: 75.76 seconds\n",
      "Model training complete.\n",
      "Checking Model: SSD\n",
      "Starting Trial #7\n",
      "{'batch_size': 6, 'epochs': 17, 'preweight_mode': 'freezing', 'optimizer': 'RMSprop', 'lr': 0.0035675054331891385, 'weight_decay': 0.10566344366433493, 'momentum': 0.9775188644231251, 'scheduler': 'ReduceLROnPlateau', 'factor': 0.29754314502094625, 'patience': 2}\n",
      "Epoch 1/17, Train Loss: 3899.6560, Val mAP@50: 0.0317, FPS: 531.58, Epoch Time: 4.39 seconds\n",
      "Epoch 2/17, Train Loss: 3010.8252, Val mAP@50: 0.0636, FPS: 532.59, Epoch Time: 4.34 seconds\n",
      "Epoch 3/17, Train Loss: 2515.1238, Val mAP@50: 0.0568, FPS: 530.16, Epoch Time: 4.33 seconds\n",
      "Epoch 4/17, Train Loss: 2538.0217, Val mAP@50: 0.0482, FPS: 530.32, Epoch Time: 4.29 seconds\n",
      "Epoch 5/17, Train Loss: 2590.7489, Val mAP@50: 0.0673, FPS: 531.00, Epoch Time: 4.31 seconds\n"
     ]
    },
    {
     "name": "stderr",
     "output_type": "stream",
     "text": [
      "[I 2025-01-26 21:11:51,603] Trial 7 pruned. \n"
     ]
    },
    {
     "name": "stdout",
     "output_type": "stream",
     "text": [
      "Trial pruned by Optuna at epoch 5.\n",
      "Checking Model: SSD\n",
      "Starting Trial #8\n",
      "{'batch_size': 7, 'epochs': 14, 'preweight_mode': 'random', 'optimizer': 'RMSprop', 'lr': 0.0010523472087119428, 'weight_decay': 0.11239553251294436, 'momentum': 0.902710004059513, 'scheduler': 'ReduceLROnPlateau', 'factor': 0.13439332022060319, 'patience': 4}\n",
      "Epoch 1/14, Train Loss: 2132.1973, Val mAP@50: 0.0005, FPS: 542.04, Epoch Time: 4.90 seconds\n",
      "Epoch 2/14, Train Loss: 706.8257, Val mAP@50: 0.0000, FPS: 567.23, Epoch Time: 4.62 seconds\n",
      "Epoch 3/14, Train Loss: 403.2905, Val mAP@50: 0.0000, FPS: 565.88, Epoch Time: 4.63 seconds\n",
      "Epoch 4/14, Train Loss: 387.2823, Val mAP@50: 0.0000, FPS: 568.90, Epoch Time: 4.62 seconds\n"
     ]
    },
    {
     "name": "stderr",
     "output_type": "stream",
     "text": [
      "[I 2025-01-26 21:12:15,414] Trial 8 pruned. \n"
     ]
    },
    {
     "name": "stdout",
     "output_type": "stream",
     "text": [
      "Trial pruned by Optuna at epoch 4.\n",
      "Checking Model: SSD\n",
      "Starting Trial #9\n",
      "{'batch_size': 7, 'epochs': 18, 'preweight_mode': 'freezing', 'optimizer': 'SGD', 'lr': 0.04198573470793485, 'momentum': 0.9163819443057865, 'weight_decay': 3.626824917046231e-05, 'scheduler': 'CosineAnnealingLR', 'T_max': 12, 'eta_min': 8.368075421103245e-07}\n",
      "Epoch 1/18, Train Loss: 793.5117, Val mAP@50: 0.2105, FPS: 570.66, Epoch Time: 4.12 seconds\n",
      "Epoch 2/18, Train Loss: 742.1106, Val mAP@50: 0.1616, FPS: 571.11, Epoch Time: 4.09 seconds\n",
      "Epoch 3/18, Train Loss: 556.1276, Val mAP@50: 0.1754, FPS: 567.42, Epoch Time: 4.12 seconds\n",
      "Epoch 4/18, Train Loss: 519.3823, Val mAP@50: 0.2360, FPS: 570.61, Epoch Time: 4.10 seconds\n",
      "Epoch 5/18, Train Loss: 433.4495, Val mAP@50: 0.2233, FPS: 570.06, Epoch Time: 4.05 seconds\n"
     ]
    },
    {
     "name": "stderr",
     "output_type": "stream",
     "text": [
      "[I 2025-01-26 21:12:40,394] Trial 9 pruned. \n"
     ]
    },
    {
     "name": "stdout",
     "output_type": "stream",
     "text": [
      "Trial pruned by Optuna at epoch 5.\n",
      "Checking Model: SSD\n",
      "Starting Trial #10\n",
      "{'batch_size': 4, 'epochs': 20, 'preweight_mode': 'fine_tuning', 'optimizer': 'Adam', 'lr': 0.00014503690487943202, 'beta1': 0.9916522872242333, 'beta2': 0.9737743550994198, 'scheduler': 'CosineAnnealingLR', 'T_max': 7, 'eta_min': 9.50738167719459e-06}\n",
      "Epoch 1/20, Train Loss: 499.6895, Val mAP@50: 0.2715, FPS: 413.56, Epoch Time: 5.60 seconds\n",
      "Epoch 2/20, Train Loss: 343.3380, Val mAP@50: 0.3630, FPS: 413.03, Epoch Time: 5.56 seconds\n",
      "Epoch 3/20, Train Loss: 281.2399, Val mAP@50: 0.3501, FPS: 413.19, Epoch Time: 5.55 seconds\n",
      "Epoch 4/20, Train Loss: 241.6349, Val mAP@50: 0.3623, FPS: 413.60, Epoch Time: 5.54 seconds\n",
      "Epoch 5/20, Train Loss: 222.8134, Val mAP@50: 0.3689, FPS: 411.20, Epoch Time: 5.56 seconds\n",
      "Epoch 6/20, Train Loss: 208.8755, Val mAP@50: 0.4124, FPS: 411.92, Epoch Time: 5.64 seconds\n",
      "Epoch 7/20, Train Loss: 198.1571, Val mAP@50: 0.3824, FPS: 412.53, Epoch Time: 5.57 seconds\n",
      "Epoch 8/20, Train Loss: 193.2690, Val mAP@50: 0.4038, FPS: 413.81, Epoch Time: 5.54 seconds\n",
      "Epoch 9/20, Train Loss: 190.1637, Val mAP@50: 0.4007, FPS: 412.25, Epoch Time: 5.57 seconds\n",
      "Epoch 10/20, Train Loss: 185.9395, Val mAP@50: 0.4188, FPS: 413.20, Epoch Time: 5.89 seconds\n",
      "Epoch 11/20, Train Loss: 179.9833, Val mAP@50: 0.4130, FPS: 411.17, Epoch Time: 5.64 seconds\n",
      "Epoch 12/20, Train Loss: 165.6840, Val mAP@50: 0.4048, FPS: 413.76, Epoch Time: 5.56 seconds\n",
      "Epoch 13/20, Train Loss: 152.2664, Val mAP@50: 0.4451, FPS: 412.58, Epoch Time: 5.60 seconds\n",
      "Epoch 14/20, Train Loss: 140.4667, Val mAP@50: 0.4378, FPS: 411.90, Epoch Time: 5.57 seconds\n",
      "Epoch 15/20, Train Loss: 130.3387, Val mAP@50: 0.4379, FPS: 412.80, Epoch Time: 5.63 seconds\n",
      "Epoch 16/20, Train Loss: 121.0639, Val mAP@50: 0.4346, FPS: 411.04, Epoch Time: 5.73 seconds\n",
      "Epoch 17/20, Train Loss: 110.9449, Val mAP@50: 0.4260, FPS: 394.97, Epoch Time: 5.61 seconds\n",
      "Epoch 18/20, Train Loss: 98.7529, Val mAP@50: 0.4264, FPS: 410.65, Epoch Time: 5.56 seconds\n",
      "Epoch 19/20, Train Loss: 92.1553, Val mAP@50: 0.4447, FPS: 410.90, Epoch Time: 5.61 seconds\n"
     ]
    },
    {
     "name": "stderr",
     "output_type": "stream",
     "text": [
      "[I 2025-01-26 21:14:32,979] Trial 10 finished with value: 0.44971469044685364 and parameters: {'batch_size': 4, 'epochs': 20, 'preweight_mode': 'fine_tuning', 'optimizer': 'Adam', 'lr': 0.00014503690487943202, 'beta1': 0.9916522872242333, 'beta2': 0.9737743550994198, 'scheduler': 'CosineAnnealingLR', 'T_max': 7, 'eta_min': 9.50738167719459e-06}. Best is trial 0 with value: 0.5111747980117798.\n"
     ]
    },
    {
     "name": "stdout",
     "output_type": "stream",
     "text": [
      "Epoch 20/20, Train Loss: 85.1401, Val mAP@50: 0.4497, FPS: 410.73, Epoch Time: 5.61 seconds\n",
      "Best Epoch: 19, Best Val mAP@50: 0.4497, Training Time: 112.13 seconds\n",
      "Model training complete.\n",
      "Checking Model: SSD\n",
      "Starting Trial #11\n",
      "{'batch_size': 4, 'epochs': 20, 'preweight_mode': 'fine_tuning', 'optimizer': 'Adam', 'lr': 0.00010718292567854523, 'beta1': 0.9936397332704724, 'beta2': 0.9839311332890537, 'scheduler': 'CosineAnnealingLR', 'T_max': 7, 'eta_min': 9.44496798709591e-06}\n",
      "Epoch 1/20, Train Loss: 521.1336, Val mAP@50: 0.2773, FPS: 413.19, Epoch Time: 5.59 seconds\n",
      "Epoch 2/20, Train Loss: 363.0878, Val mAP@50: 0.3063, FPS: 413.02, Epoch Time: 5.57 seconds\n",
      "Epoch 3/20, Train Loss: 308.0509, Val mAP@50: 0.3620, FPS: 413.36, Epoch Time: 5.57 seconds\n",
      "Epoch 4/20, Train Loss: 270.6056, Val mAP@50: 0.3905, FPS: 412.55, Epoch Time: 5.60 seconds\n",
      "Epoch 5/20, Train Loss: 245.7889, Val mAP@50: 0.3590, FPS: 411.32, Epoch Time: 5.59 seconds\n",
      "Epoch 6/20, Train Loss: 229.4673, Val mAP@50: 0.3837, FPS: 413.31, Epoch Time: 5.58 seconds\n",
      "Epoch 7/20, Train Loss: 225.4034, Val mAP@50: 0.3742, FPS: 411.94, Epoch Time: 5.58 seconds\n",
      "Epoch 8/20, Train Loss: 219.6790, Val mAP@50: 0.3770, FPS: 412.32, Epoch Time: 5.58 seconds\n",
      "Epoch 9/20, Train Loss: 217.2110, Val mAP@50: 0.3863, FPS: 412.30, Epoch Time: 5.61 seconds\n",
      "Epoch 10/20, Train Loss: 210.6350, Val mAP@50: 0.3755, FPS: 412.37, Epoch Time: 5.57 seconds\n",
      "Epoch 11/20, Train Loss: 201.1190, Val mAP@50: 0.3673, FPS: 406.22, Epoch Time: 5.65 seconds\n",
      "Epoch 12/20, Train Loss: 193.4217, Val mAP@50: 0.3822, FPS: 406.78, Epoch Time: 5.89 seconds\n",
      "Epoch 13/20, Train Loss: 175.9593, Val mAP@50: 0.3788, FPS: 406.18, Epoch Time: 5.98 seconds\n"
     ]
    },
    {
     "name": "stderr",
     "output_type": "stream",
     "text": [
      "[I 2025-01-26 21:15:52,769] Trial 11 pruned. \n"
     ]
    },
    {
     "name": "stdout",
     "output_type": "stream",
     "text": [
      "Trial pruned by Optuna at epoch 13.\n",
      "Checking Model: SSD\n",
      "Starting Trial #12\n",
      "{'batch_size': 4, 'epochs': 20, 'preweight_mode': 'fine_tuning', 'optimizer': 'Adam', 'lr': 0.00011305690440034182, 'beta1': 0.9968723361913949, 'beta2': 0.9654376077736261, 'scheduler': 'CosineAnnealingLR', 'T_max': 9, 'eta_min': 9.941810316771702e-06}\n",
      "Epoch 1/20, Train Loss: 516.2061, Val mAP@50: 0.2700, FPS: 404.59, Epoch Time: 5.98 seconds\n",
      "Epoch 2/20, Train Loss: 369.7995, Val mAP@50: 0.3479, FPS: 407.80, Epoch Time: 5.99 seconds\n",
      "Epoch 3/20, Train Loss: 308.2494, Val mAP@50: 0.3722, FPS: 406.79, Epoch Time: 5.71 seconds\n",
      "Epoch 4/20, Train Loss: 275.5063, Val mAP@50: 0.3588, FPS: 406.85, Epoch Time: 5.89 seconds\n",
      "Epoch 5/20, Train Loss: 250.3885, Val mAP@50: 0.3879, FPS: 406.88, Epoch Time: 5.92 seconds\n",
      "Epoch 6/20, Train Loss: 229.7940, Val mAP@50: 0.3616, FPS: 404.64, Epoch Time: 5.93 seconds\n",
      "Epoch 7/20, Train Loss: 215.6494, Val mAP@50: 0.3834, FPS: 406.93, Epoch Time: 5.97 seconds\n",
      "Epoch 8/20, Train Loss: 209.0550, Val mAP@50: 0.3555, FPS: 407.16, Epoch Time: 5.97 seconds\n",
      "Epoch 9/20, Train Loss: 199.2734, Val mAP@50: 0.3723, FPS: 405.59, Epoch Time: 5.78 seconds\n",
      "Epoch 10/20, Train Loss: 195.4088, Val mAP@50: 0.3847, FPS: 405.37, Epoch Time: 5.95 seconds\n",
      "Epoch 11/20, Train Loss: 197.4214, Val mAP@50: 0.3765, FPS: 403.67, Epoch Time: 6.00 seconds\n",
      "Epoch 12/20, Train Loss: 189.6730, Val mAP@50: 0.3663, FPS: 404.43, Epoch Time: 5.73 seconds\n",
      "Epoch 13/20, Train Loss: 184.7823, Val mAP@50: 0.3768, FPS: 402.78, Epoch Time: 5.63 seconds\n"
     ]
    },
    {
     "name": "stderr",
     "output_type": "stream",
     "text": [
      "[I 2025-01-26 21:17:15,639] Trial 12 pruned. \n"
     ]
    },
    {
     "name": "stdout",
     "output_type": "stream",
     "text": [
      "Trial pruned by Optuna at epoch 13.\n",
      "Checking Model: SSD\n",
      "Starting Trial #13\n",
      "{'batch_size': 5, 'epochs': 11, 'preweight_mode': 'fine_tuning', 'optimizer': 'AdamW', 'lr': 0.000291836366436134, 'weight_decay': 0.003105507729119679, 'beta1': 0.9318257655083143, 'beta2': 0.9041500363396027, 'scheduler': 'CosineAnnealingLR', 'T_max': 9, 'eta_min': 3.193898907369555e-06}\n",
      "Epoch 1/11, Train Loss: 357.4264, Val mAP@50: 0.3802, FPS: 466.44, Epoch Time: 5.58 seconds\n",
      "Epoch 2/11, Train Loss: 240.0555, Val mAP@50: 0.3445, FPS: 467.89, Epoch Time: 5.49 seconds\n",
      "Epoch 3/11, Train Loss: 194.6881, Val mAP@50: 0.4118, FPS: 466.43, Epoch Time: 5.46 seconds\n",
      "Epoch 4/11, Train Loss: 157.9941, Val mAP@50: 0.4061, FPS: 468.52, Epoch Time: 5.49 seconds\n",
      "Epoch 5/11, Train Loss: 130.5971, Val mAP@50: 0.4026, FPS: 464.37, Epoch Time: 5.49 seconds\n",
      "Epoch 6/11, Train Loss: 111.3207, Val mAP@50: 0.4467, FPS: 467.00, Epoch Time: 5.51 seconds\n",
      "Epoch 7/11, Train Loss: 99.6329, Val mAP@50: 0.4301, FPS: 464.27, Epoch Time: 5.49 seconds\n",
      "Epoch 8/11, Train Loss: 92.0696, Val mAP@50: 0.4308, FPS: 464.94, Epoch Time: 5.56 seconds\n",
      "Epoch 9/11, Train Loss: 85.4451, Val mAP@50: 0.4479, FPS: 456.97, Epoch Time: 5.51 seconds\n",
      "Epoch 10/11, Train Loss: 83.7691, Val mAP@50: 0.4487, FPS: 467.48, Epoch Time: 5.50 seconds\n"
     ]
    },
    {
     "name": "stderr",
     "output_type": "stream",
     "text": [
      "[I 2025-01-26 21:18:16,446] Trial 13 finished with value: 0.4487198293209076 and parameters: {'batch_size': 5, 'epochs': 11, 'preweight_mode': 'fine_tuning', 'optimizer': 'AdamW', 'lr': 0.000291836366436134, 'weight_decay': 0.003105507729119679, 'beta1': 0.9318257655083143, 'beta2': 0.9041500363396027, 'scheduler': 'CosineAnnealingLR', 'T_max': 9, 'eta_min': 3.193898907369555e-06}. Best is trial 0 with value: 0.5111747980117798.\n"
     ]
    },
    {
     "name": "stdout",
     "output_type": "stream",
     "text": [
      "Epoch 11/11, Train Loss: 83.6682, Val mAP@50: 0.4216, FPS: 464.87, Epoch Time: 5.27 seconds\n",
      "Best Epoch: 9, Best Val mAP@50: 0.4487, Training Time: 60.34 seconds\n",
      "Model training complete.\n",
      "Checking Model: SSD\n",
      "Starting Trial #14\n",
      "{'batch_size': 5, 'epochs': 19, 'preweight_mode': 'fine_tuning', 'optimizer': 'Adam', 'lr': 0.00025532434284641475, 'beta1': 0.804147150516792, 'beta2': 0.9446937392650938, 'scheduler': 'OneCycleLR', 'max_lr': 0.0001003985682400659}\n"
     ]
    },
    {
     "name": "stderr",
     "output_type": "stream",
     "text": [
      "/home/user_138/anaconda3/envs/ultralytics-env/lib/python3.11/site-packages/torchmetrics/utilities/prints.py:43: UserWarning: Encountered more than 100 detections in a single image. This means that certain detections with the lowest scores will be ignored, that may have an undesirable impact on performance. Please consider adjusting the `max_detection_threshold` to suit your use case. To disable this warning, set attribute class `warn_on_many_detections=False`, after initializing the metric.\n",
      "  warnings.warn(*args, **kwargs)  # noqa: B028\n"
     ]
    },
    {
     "name": "stdout",
     "output_type": "stream",
     "text": [
      "Epoch 1/19, Train Loss: 642.8245, Val mAP@50: 0.0521, FPS: 464.61, Epoch Time: 5.83 seconds\n",
      "Epoch 2/19, Train Loss: 573.0275, Val mAP@50: 0.0660, FPS: 466.31, Epoch Time: 6.12 seconds\n",
      "Epoch 3/19, Train Loss: 528.8502, Val mAP@50: 0.0822, FPS: 466.93, Epoch Time: 5.98 seconds\n",
      "Epoch 4/19, Train Loss: 494.8606, Val mAP@50: 0.1065, FPS: 466.82, Epoch Time: 5.74 seconds\n",
      "Epoch 5/19, Train Loss: 465.3563, Val mAP@50: 0.1266, FPS: 467.66, Epoch Time: 5.69 seconds\n"
     ]
    },
    {
     "name": "stderr",
     "output_type": "stream",
     "text": [
      "[I 2025-01-26 21:18:51,769] Trial 14 pruned. \n"
     ]
    },
    {
     "name": "stdout",
     "output_type": "stream",
     "text": [
      "Trial pruned by Optuna at epoch 5.\n",
      "Checking Model: SSD\n",
      "Starting Trial #15\n",
      "{'batch_size': 5, 'epochs': 15, 'preweight_mode': 'fine_tuning', 'optimizer': 'Adam', 'lr': 0.0019266277334987654, 'beta1': 0.9588843542802646, 'beta2': 0.9948162084056503, 'scheduler': 'CosineAnnealingLR', 'T_max': 15, 'eta_min': 3.204418277677915e-06}\n",
      "Epoch 1/15, Train Loss: 439.5948, Val mAP@50: 0.1483, FPS: 467.48, Epoch Time: 5.25 seconds\n",
      "Epoch 2/15, Train Loss: 302.3837, Val mAP@50: 0.3901, FPS: 467.28, Epoch Time: 5.20 seconds\n",
      "Epoch 3/15, Train Loss: 243.1524, Val mAP@50: 0.4529, FPS: 468.06, Epoch Time: 5.21 seconds\n",
      "Epoch 4/15, Train Loss: 213.7011, Val mAP@50: 0.4115, FPS: 467.50, Epoch Time: 5.18 seconds\n",
      "Epoch 5/15, Train Loss: 187.1083, Val mAP@50: 0.4120, FPS: 461.20, Epoch Time: 5.19 seconds\n",
      "Epoch 6/15, Train Loss: 158.4033, Val mAP@50: 0.4438, FPS: 466.33, Epoch Time: 5.20 seconds\n",
      "Epoch 7/15, Train Loss: 138.0822, Val mAP@50: 0.4274, FPS: 464.17, Epoch Time: 5.19 seconds\n",
      "Epoch 8/15, Train Loss: 110.9305, Val mAP@50: 0.4514, FPS: 466.72, Epoch Time: 5.20 seconds\n",
      "Epoch 9/15, Train Loss: 96.2700, Val mAP@50: 0.4167, FPS: 463.81, Epoch Time: 5.20 seconds\n",
      "Epoch 10/15, Train Loss: 78.0186, Val mAP@50: 0.4604, FPS: 465.82, Epoch Time: 5.21 seconds\n",
      "Epoch 11/15, Train Loss: 61.3384, Val mAP@50: 0.4774, FPS: 464.75, Epoch Time: 5.22 seconds\n",
      "Epoch 12/15, Train Loss: 49.6421, Val mAP@50: 0.4783, FPS: 465.42, Epoch Time: 5.21 seconds\n",
      "Epoch 13/15, Train Loss: 41.1907, Val mAP@50: 0.4730, FPS: 463.13, Epoch Time: 5.20 seconds\n",
      "Epoch 14/15, Train Loss: 36.3288, Val mAP@50: 0.4762, FPS: 466.36, Epoch Time: 5.20 seconds\n"
     ]
    },
    {
     "name": "stderr",
     "output_type": "stream",
     "text": [
      "[I 2025-01-26 21:20:10,282] Trial 15 finished with value: 0.47827085852622986 and parameters: {'batch_size': 5, 'epochs': 15, 'preweight_mode': 'fine_tuning', 'optimizer': 'Adam', 'lr': 0.0019266277334987654, 'beta1': 0.9588843542802646, 'beta2': 0.9948162084056503, 'scheduler': 'CosineAnnealingLR', 'T_max': 15, 'eta_min': 3.204418277677915e-06}. Best is trial 0 with value: 0.5111747980117798.\n"
     ]
    },
    {
     "name": "stdout",
     "output_type": "stream",
     "text": [
      "Epoch 15/15, Train Loss: 33.5338, Val mAP@50: 0.4764, FPS: 462.63, Epoch Time: 5.20 seconds\n",
      "Best Epoch: 11, Best Val mAP@50: 0.4783, Training Time: 78.05 seconds\n",
      "Model training complete.\n",
      "Checking Model: SSD\n",
      "Starting Trial #16\n",
      "{'batch_size': 5, 'epochs': 15, 'preweight_mode': 'random', 'optimizer': 'AdamW', 'lr': 0.0021036003990551055, 'weight_decay': 0.0029160509585285776, 'beta1': 0.9424360815196441, 'beta2': 0.9973608664851793, 'scheduler': 'CosineAnnealingLR', 'T_max': 14, 'eta_min': 2.38233048079099e-06}\n",
      "Epoch 1/15, Train Loss: 843.5124, Val mAP@50: 0.1066, FPS: 464.74, Epoch Time: 5.32 seconds\n",
      "Epoch 2/15, Train Loss: 441.8803, Val mAP@50: 0.3146, FPS: 465.92, Epoch Time: 5.25 seconds\n",
      "Epoch 3/15, Train Loss: 346.7150, Val mAP@50: 0.2726, FPS: 466.37, Epoch Time: 5.19 seconds\n",
      "Epoch 4/15, Train Loss: 288.1747, Val mAP@50: 0.2239, FPS: 462.20, Epoch Time: 5.20 seconds\n",
      "Epoch 5/15, Train Loss: 236.4942, Val mAP@50: 0.3406, FPS: 465.61, Epoch Time: 5.22 seconds\n"
     ]
    },
    {
     "name": "stderr",
     "output_type": "stream",
     "text": [
      "[I 2025-01-26 21:20:42,157] Trial 16 pruned. \n"
     ]
    },
    {
     "name": "stdout",
     "output_type": "stream",
     "text": [
      "Trial pruned by Optuna at epoch 5.\n",
      "Checking Model: SSD\n",
      "Starting Trial #17\n",
      "{'batch_size': 5, 'epochs': 10, 'preweight_mode': 'fine_tuning', 'optimizer': 'Adam', 'lr': 0.0004411114921624304, 'beta1': 0.8639585571392074, 'beta2': 0.9310524636111965, 'scheduler': 'CosineAnnealingLR', 'T_max': 15, 'eta_min': 1.1473326027239338e-07}\n",
      "Epoch 1/10, Train Loss: 355.9972, Val mAP@50: 0.3779, FPS: 477.90, Epoch Time: 5.16 seconds\n",
      "Epoch 2/10, Train Loss: 244.0743, Val mAP@50: 0.3670, FPS: 478.09, Epoch Time: 5.13 seconds\n",
      "Epoch 3/10, Train Loss: 190.0084, Val mAP@50: 0.4314, FPS: 476.88, Epoch Time: 5.13 seconds\n",
      "Epoch 4/10, Train Loss: 155.0903, Val mAP@50: 0.4039, FPS: 477.01, Epoch Time: 5.11 seconds\n",
      "Epoch 5/10, Train Loss: 130.8042, Val mAP@50: 0.4291, FPS: 475.65, Epoch Time: 5.13 seconds\n",
      "Epoch 6/10, Train Loss: 108.6197, Val mAP@50: 0.4592, FPS: 475.36, Epoch Time: 5.13 seconds\n",
      "Epoch 7/10, Train Loss: 90.7011, Val mAP@50: 0.4427, FPS: 474.94, Epoch Time: 5.13 seconds\n",
      "Epoch 8/10, Train Loss: 77.0271, Val mAP@50: 0.4420, FPS: 474.19, Epoch Time: 5.12 seconds\n",
      "Epoch 9/10, Train Loss: 64.6883, Val mAP@50: 0.4550, FPS: 472.85, Epoch Time: 5.14 seconds\n"
     ]
    },
    {
     "name": "stderr",
     "output_type": "stream",
     "text": [
      "[I 2025-01-26 21:21:33,950] Trial 17 finished with value: 0.47351884841918945 and parameters: {'batch_size': 5, 'epochs': 10, 'preweight_mode': 'fine_tuning', 'optimizer': 'Adam', 'lr': 0.0004411114921624304, 'beta1': 0.8639585571392074, 'beta2': 0.9310524636111965, 'scheduler': 'CosineAnnealingLR', 'T_max': 15, 'eta_min': 1.1473326027239338e-07}. Best is trial 0 with value: 0.5111747980117798.\n"
     ]
    },
    {
     "name": "stdout",
     "output_type": "stream",
     "text": [
      "Epoch 10/10, Train Loss: 55.3963, Val mAP@50: 0.4735, FPS: 475.08, Epoch Time: 5.15 seconds\n",
      "Best Epoch: 9, Best Val mAP@50: 0.4735, Training Time: 51.33 seconds\n",
      "Model training complete.\n",
      "Checking Model: SSD\n",
      "Starting Trial #18\n",
      "{'batch_size': 6, 'epochs': 15, 'preweight_mode': 'fine_tuning', 'optimizer': 'Adam', 'lr': 0.00192120805718038, 'beta1': 0.9547958793693709, 'beta2': 0.9514395376804866, 'scheduler': 'OneCycleLR', 'max_lr': 0.0002820910173982703}\n",
      "Epoch 1/15, Train Loss: 510.4469, Val mAP@50: 0.0467, FPS: 524.91, Epoch Time: 5.48 seconds\n",
      "Epoch 2/15, Train Loss: 414.7596, Val mAP@50: 0.0674, FPS: 527.34, Epoch Time: 5.38 seconds\n",
      "Epoch 3/15, Train Loss: 366.7866, Val mAP@50: 0.1405, FPS: 526.99, Epoch Time: 5.10 seconds\n",
      "Epoch 4/15, Train Loss: 337.8419, Val mAP@50: 0.1939, FPS: 527.67, Epoch Time: 4.97 seconds\n",
      "Epoch 5/15, Train Loss: 315.5414, Val mAP@50: 0.2140, FPS: 525.66, Epoch Time: 4.91 seconds\n"
     ]
    },
    {
     "name": "stderr",
     "output_type": "stream",
     "text": [
      "[I 2025-01-26 21:22:05,143] Trial 18 pruned. \n"
     ]
    },
    {
     "name": "stdout",
     "output_type": "stream",
     "text": [
      "Trial pruned by Optuna at epoch 5.\n",
      "Checking Model: SSD\n",
      "Starting Trial #19\n",
      "{'batch_size': 8, 'epochs': 12, 'preweight_mode': 'random', 'optimizer': 'Adam', 'lr': 0.0006458131266520119, 'beta1': 0.895590772204886, 'beta2': 0.9103513871958088, 'scheduler': 'CosineAnnealingLR', 'T_max': 12, 'eta_min': 2.9455904250870387e-06}\n",
      "Epoch 1/12, Train Loss: 393.6600, Val mAP@50: 0.1347, FPS: 572.03, Epoch Time: 4.67 seconds\n",
      "Epoch 2/12, Train Loss: 262.5527, Val mAP@50: 0.0922, FPS: 605.28, Epoch Time: 4.61 seconds\n",
      "Epoch 3/12, Train Loss: 201.7016, Val mAP@50: 0.3575, FPS: 603.26, Epoch Time: 4.60 seconds\n",
      "Epoch 4/12, Train Loss: 155.0927, Val mAP@50: 0.4070, FPS: 603.76, Epoch Time: 4.63 seconds\n",
      "Epoch 5/12, Train Loss: 122.6353, Val mAP@50: 0.3604, FPS: 602.40, Epoch Time: 4.59 seconds\n"
     ]
    },
    {
     "name": "stderr",
     "output_type": "stream",
     "text": [
      "[I 2025-01-26 21:22:33,305] Trial 19 pruned. \n"
     ]
    },
    {
     "name": "stdout",
     "output_type": "stream",
     "text": [
      "Trial pruned by Optuna at epoch 5.\n",
      "Checking Model: SSD\n",
      "Starting Trial #20\n",
      "{'batch_size': 7, 'epochs': 14, 'preweight_mode': 'fine_tuning', 'optimizer': 'AdamW', 'lr': 0.003837751649077621, 'weight_decay': 0.00473203512841107, 'beta1': 0.9697488988939813, 'beta2': 0.9254653382454502, 'scheduler': 'CosineAnnealingLR', 'T_max': 12, 'eta_min': 3.979222855028674e-06}\n",
      "Epoch 1/14, Train Loss: 432.3684, Val mAP@50: 0.0180, FPS: 566.27, Epoch Time: 5.25 seconds\n",
      "Epoch 2/14, Train Loss: 289.3649, Val mAP@50: 0.3148, FPS: 565.76, Epoch Time: 4.76 seconds\n",
      "Epoch 3/14, Train Loss: 249.2093, Val mAP@50: 0.4112, FPS: 557.07, Epoch Time: 4.76 seconds\n",
      "Epoch 4/14, Train Loss: 222.7711, Val mAP@50: 0.1973, FPS: 560.82, Epoch Time: 4.76 seconds\n",
      "Epoch 5/14, Train Loss: 196.2279, Val mAP@50: 0.3328, FPS: 566.00, Epoch Time: 4.76 seconds\n"
     ]
    },
    {
     "name": "stderr",
     "output_type": "stream",
     "text": [
      "[I 2025-01-26 21:23:02,829] Trial 20 pruned. \n"
     ]
    },
    {
     "name": "stdout",
     "output_type": "stream",
     "text": [
      "Trial pruned by Optuna at epoch 5.\n",
      "Checking Model: SSD\n",
      "Starting Trial #21\n",
      "{'batch_size': 5, 'epochs': 10, 'preweight_mode': 'fine_tuning', 'optimizer': 'Adam', 'lr': 0.0006195792839596481, 'beta1': 0.8720570296048937, 'beta2': 0.9346585708727722, 'scheduler': 'CosineAnnealingLR', 'T_max': 15, 'eta_min': 1.8578160155849234e-07}\n",
      "Epoch 1/10, Train Loss: 345.1536, Val mAP@50: 0.4154, FPS: 467.38, Epoch Time: 5.41 seconds\n",
      "Epoch 2/10, Train Loss: 244.8895, Val mAP@50: 0.4452, FPS: 467.39, Epoch Time: 5.35 seconds\n",
      "Epoch 3/10, Train Loss: 195.7175, Val mAP@50: 0.4444, FPS: 469.39, Epoch Time: 5.32 seconds\n",
      "Epoch 4/10, Train Loss: 157.8066, Val mAP@50: 0.4550, FPS: 470.41, Epoch Time: 5.33 seconds\n",
      "Epoch 5/10, Train Loss: 128.6323, Val mAP@50: 0.4260, FPS: 484.14, Epoch Time: 5.15 seconds\n",
      "Epoch 6/10, Train Loss: 106.0252, Val mAP@50: 0.4228, FPS: 484.11, Epoch Time: 5.12 seconds\n",
      "Epoch 7/10, Train Loss: 90.1390, Val mAP@50: 0.4381, FPS: 484.47, Epoch Time: 5.04 seconds\n",
      "Epoch 8/10, Train Loss: 76.4407, Val mAP@50: 0.4465, FPS: 483.51, Epoch Time: 5.05 seconds\n",
      "Epoch 9/10, Train Loss: 62.1489, Val mAP@50: 0.4200, FPS: 484.95, Epoch Time: 5.06 seconds\n"
     ]
    },
    {
     "name": "stderr",
     "output_type": "stream",
     "text": [
      "[I 2025-01-26 21:23:55,206] Trial 21 finished with value: 0.4667831063270569 and parameters: {'batch_size': 5, 'epochs': 10, 'preweight_mode': 'fine_tuning', 'optimizer': 'Adam', 'lr': 0.0006195792839596481, 'beta1': 0.8720570296048937, 'beta2': 0.9346585708727722, 'scheduler': 'CosineAnnealingLR', 'T_max': 15, 'eta_min': 1.8578160155849234e-07}. Best is trial 0 with value: 0.5111747980117798.\n"
     ]
    },
    {
     "name": "stdout",
     "output_type": "stream",
     "text": [
      "Epoch 10/10, Train Loss: 50.1697, Val mAP@50: 0.4668, FPS: 482.50, Epoch Time: 5.06 seconds\n",
      "Best Epoch: 9, Best Val mAP@50: 0.4668, Training Time: 51.89 seconds\n",
      "Model training complete.\n",
      "Checking Model: SSD\n",
      "Starting Trial #22\n",
      "{'batch_size': 5, 'epochs': 10, 'preweight_mode': 'fine_tuning', 'optimizer': 'Adam', 'lr': 0.0003875273131590453, 'beta1': 0.8536930366707842, 'beta2': 0.9186325785539378, 'scheduler': 'CosineAnnealingLR', 'T_max': 15, 'eta_min': 1.6518957629912504e-07}\n",
      "Epoch 1/10, Train Loss: 350.9548, Val mAP@50: 0.3082, FPS: 485.29, Epoch Time: 5.34 seconds\n",
      "Epoch 2/10, Train Loss: 242.2485, Val mAP@50: 0.3457, FPS: 485.39, Epoch Time: 5.11 seconds\n",
      "Epoch 3/10, Train Loss: 187.0459, Val mAP@50: 0.3638, FPS: 477.08, Epoch Time: 5.27 seconds\n",
      "Epoch 4/10, Train Loss: 156.7425, Val mAP@50: 0.4492, FPS: 475.15, Epoch Time: 5.42 seconds\n",
      "Epoch 5/10, Train Loss: 130.9734, Val mAP@50: 0.3966, FPS: 473.49, Epoch Time: 5.10 seconds\n",
      "Epoch 6/10, Train Loss: 110.3471, Val mAP@50: 0.4264, FPS: 475.67, Epoch Time: 5.40 seconds\n",
      "Epoch 7/10, Train Loss: 92.1956, Val mAP@50: 0.4543, FPS: 474.84, Epoch Time: 5.14 seconds\n",
      "Epoch 8/10, Train Loss: 79.8758, Val mAP@50: 0.4275, FPS: 476.22, Epoch Time: 5.07 seconds\n",
      "Epoch 9/10, Train Loss: 69.3938, Val mAP@50: 0.4529, FPS: 475.32, Epoch Time: 5.09 seconds\n"
     ]
    },
    {
     "name": "stderr",
     "output_type": "stream",
     "text": [
      "[I 2025-01-26 21:24:47,697] Trial 22 finished with value: 0.4560544788837433 and parameters: {'batch_size': 5, 'epochs': 10, 'preweight_mode': 'fine_tuning', 'optimizer': 'Adam', 'lr': 0.0003875273131590453, 'beta1': 0.8536930366707842, 'beta2': 0.9186325785539378, 'scheduler': 'CosineAnnealingLR', 'T_max': 15, 'eta_min': 1.6518957629912504e-07}. Best is trial 0 with value: 0.5111747980117798.\n"
     ]
    },
    {
     "name": "stdout",
     "output_type": "stream",
     "text": [
      "Epoch 10/10, Train Loss: 60.4765, Val mAP@50: 0.4561, FPS: 475.79, Epoch Time: 5.07 seconds\n",
      "Best Epoch: 9, Best Val mAP@50: 0.4561, Training Time: 52.02 seconds\n",
      "Model training complete.\n",
      "Checking Model: SSD\n",
      "Starting Trial #23\n",
      "{'batch_size': 5, 'epochs': 16, 'preweight_mode': 'fine_tuning', 'optimizer': 'Adam', 'lr': 0.0016923021019144642, 'beta1': 0.8469295820557202, 'beta2': 0.9463311404235408, 'scheduler': 'CosineAnnealingLR', 'T_max': 13, 'eta_min': 1.236212124113362e-06}\n",
      "Epoch 1/16, Train Loss: 389.6884, Val mAP@50: 0.2886, FPS: 484.81, Epoch Time: 5.06 seconds\n",
      "Epoch 2/16, Train Loss: 293.5148, Val mAP@50: 0.4181, FPS: 485.26, Epoch Time: 5.05 seconds\n",
      "Epoch 3/16, Train Loss: 238.7132, Val mAP@50: 0.3392, FPS: 477.30, Epoch Time: 5.06 seconds\n",
      "Epoch 4/16, Train Loss: 206.8278, Val mAP@50: 0.4553, FPS: 476.21, Epoch Time: 5.32 seconds\n",
      "Epoch 5/16, Train Loss: 172.7670, Val mAP@50: 0.3930, FPS: 478.00, Epoch Time: 5.15 seconds\n",
      "Epoch 6/16, Train Loss: 143.8073, Val mAP@50: 0.4360, FPS: 477.65, Epoch Time: 5.06 seconds\n",
      "Epoch 7/16, Train Loss: 119.3621, Val mAP@50: 0.4545, FPS: 478.42, Epoch Time: 5.08 seconds\n",
      "Epoch 8/16, Train Loss: 96.9000, Val mAP@50: 0.4552, FPS: 476.83, Epoch Time: 5.05 seconds\n",
      "Epoch 9/16, Train Loss: 75.1980, Val mAP@50: 0.4623, FPS: 478.42, Epoch Time: 5.07 seconds\n",
      "Epoch 10/16, Train Loss: 60.3001, Val mAP@50: 0.4744, FPS: 477.34, Epoch Time: 5.07 seconds\n",
      "Epoch 11/16, Train Loss: 48.3430, Val mAP@50: 0.4801, FPS: 475.57, Epoch Time: 5.10 seconds\n",
      "Epoch 12/16, Train Loss: 40.1715, Val mAP@50: 0.4623, FPS: 475.29, Epoch Time: 5.06 seconds\n",
      "Epoch 13/16, Train Loss: 35.4814, Val mAP@50: 0.4640, FPS: 476.23, Epoch Time: 5.05 seconds\n",
      "Epoch 14/16, Train Loss: 33.6172, Val mAP@50: 0.4644, FPS: 475.10, Epoch Time: 5.08 seconds\n",
      "Epoch 15/16, Train Loss: 35.0496, Val mAP@50: 0.4758, FPS: 476.23, Epoch Time: 5.06 seconds\n"
     ]
    },
    {
     "name": "stderr",
     "output_type": "stream",
     "text": [
      "[I 2025-01-26 21:26:09,565] Trial 23 finished with value: 0.48013389110565186 and parameters: {'batch_size': 5, 'epochs': 16, 'preweight_mode': 'fine_tuning', 'optimizer': 'Adam', 'lr': 0.0016923021019144642, 'beta1': 0.8469295820557202, 'beta2': 0.9463311404235408, 'scheduler': 'CosineAnnealingLR', 'T_max': 13, 'eta_min': 1.236212124113362e-06}. Best is trial 0 with value: 0.5111747980117798.\n"
     ]
    },
    {
     "name": "stdout",
     "output_type": "stream",
     "text": [
      "Epoch 16/16, Train Loss: 34.0917, Val mAP@50: 0.4784, FPS: 474.82, Epoch Time: 5.09 seconds\n",
      "Best Epoch: 10, Best Val mAP@50: 0.4801, Training Time: 81.41 seconds\n",
      "Model training complete.\n",
      "Checking Model: SSD\n",
      "Starting Trial #24\n",
      "{'batch_size': 4, 'epochs': 16, 'preweight_mode': 'fine_tuning', 'optimizer': 'Adam', 'lr': 0.0017350295202041715, 'beta1': 0.8337248076164896, 'beta2': 0.9479751708243009, 'scheduler': 'CosineAnnealingLR', 'T_max': 13, 'eta_min': 1.4714641261685808e-06}\n",
      "Epoch 1/16, Train Loss: 511.2291, Val mAP@50: 0.2508, FPS: 415.49, Epoch Time: 5.49 seconds\n",
      "Epoch 2/16, Train Loss: 383.4737, Val mAP@50: 0.3354, FPS: 414.14, Epoch Time: 5.49 seconds\n",
      "Epoch 3/16, Train Loss: 330.8958, Val mAP@50: 0.4397, FPS: 420.86, Epoch Time: 5.44 seconds\n",
      "Epoch 4/16, Train Loss: 275.2983, Val mAP@50: 0.4068, FPS: 421.04, Epoch Time: 5.83 seconds\n",
      "Epoch 5/16, Train Loss: 234.6587, Val mAP@50: 0.4297, FPS: 415.65, Epoch Time: 5.87 seconds\n",
      "Epoch 6/16, Train Loss: 194.7053, Val mAP@50: 0.4067, FPS: 419.92, Epoch Time: 5.85 seconds\n",
      "Epoch 7/16, Train Loss: 162.3375, Val mAP@50: 0.3935, FPS: 419.20, Epoch Time: 5.83 seconds\n",
      "Epoch 8/16, Train Loss: 135.5074, Val mAP@50: 0.4479, FPS: 420.12, Epoch Time: 5.86 seconds\n",
      "Epoch 9/16, Train Loss: 106.2251, Val mAP@50: 0.4546, FPS: 421.59, Epoch Time: 5.55 seconds\n",
      "Epoch 10/16, Train Loss: 83.6498, Val mAP@50: 0.4696, FPS: 419.80, Epoch Time: 5.43 seconds\n",
      "Epoch 11/16, Train Loss: 67.8192, Val mAP@50: 0.4504, FPS: 419.61, Epoch Time: 5.47 seconds\n",
      "Epoch 12/16, Train Loss: 54.8374, Val mAP@50: 0.4522, FPS: 421.05, Epoch Time: 5.46 seconds\n",
      "Epoch 13/16, Train Loss: 49.2610, Val mAP@50: 0.4574, FPS: 420.04, Epoch Time: 5.45 seconds\n",
      "Epoch 14/16, Train Loss: 46.7005, Val mAP@50: 0.4611, FPS: 419.73, Epoch Time: 5.46 seconds\n",
      "Epoch 15/16, Train Loss: 48.0565, Val mAP@50: 0.4581, FPS: 414.57, Epoch Time: 5.88 seconds\n"
     ]
    },
    {
     "name": "stderr",
     "output_type": "stream",
     "text": [
      "[I 2025-01-26 21:27:40,252] Trial 24 finished with value: 0.46955960988998413 and parameters: {'batch_size': 4, 'epochs': 16, 'preweight_mode': 'fine_tuning', 'optimizer': 'Adam', 'lr': 0.0017350295202041715, 'beta1': 0.8337248076164896, 'beta2': 0.9479751708243009, 'scheduler': 'CosineAnnealingLR', 'T_max': 13, 'eta_min': 1.4714641261685808e-06}. Best is trial 0 with value: 0.5111747980117798.\n"
     ]
    },
    {
     "name": "stdout",
     "output_type": "stream",
     "text": [
      "Epoch 16/16, Train Loss: 47.7173, Val mAP@50: 0.4658, FPS: 413.02, Epoch Time: 5.88 seconds\n",
      "Best Epoch: 9, Best Val mAP@50: 0.4696, Training Time: 90.24 seconds\n",
      "Model training complete.\n",
      "Checking Model: SSD\n",
      "Starting Trial #25\n",
      "{'batch_size': 6, 'epochs': 16, 'preweight_mode': 'fine_tuning', 'optimizer': 'Adam', 'lr': 0.002654227961532903, 'beta1': 0.9065646407341942, 'beta2': 0.9602286089629664, 'scheduler': 'CosineAnnealingLR', 'T_max': 10, 'eta_min': 4.7955755153295954e-06}\n",
      "Epoch 1/16, Train Loss: 383.6348, Val mAP@50: 0.2109, FPS: 535.35, Epoch Time: 4.84 seconds\n",
      "Epoch 2/16, Train Loss: 279.1743, Val mAP@50: 0.2806, FPS: 535.25, Epoch Time: 4.80 seconds\n",
      "Epoch 3/16, Train Loss: 233.0646, Val mAP@50: 0.4217, FPS: 535.43, Epoch Time: 4.80 seconds\n",
      "Epoch 4/16, Train Loss: 205.1558, Val mAP@50: 0.4185, FPS: 533.22, Epoch Time: 4.79 seconds\n",
      "Epoch 5/16, Train Loss: 167.9536, Val mAP@50: 0.3688, FPS: 534.68, Epoch Time: 4.78 seconds\n",
      "Epoch 6/16, Train Loss: 135.4204, Val mAP@50: 0.4574, FPS: 542.52, Epoch Time: 4.81 seconds\n",
      "Epoch 7/16, Train Loss: 104.6101, Val mAP@50: 0.4136, FPS: 526.21, Epoch Time: 4.78 seconds\n",
      "Epoch 8/16, Train Loss: 85.1071, Val mAP@50: 0.4438, FPS: 530.09, Epoch Time: 4.84 seconds\n",
      "Epoch 9/16, Train Loss: 68.1985, Val mAP@50: 0.4607, FPS: 527.69, Epoch Time: 4.85 seconds\n",
      "Epoch 10/16, Train Loss: 59.4535, Val mAP@50: 0.4513, FPS: 527.28, Epoch Time: 5.05 seconds\n",
      "Epoch 11/16, Train Loss: 56.5231, Val mAP@50: 0.4511, FPS: 529.65, Epoch Time: 5.11 seconds\n",
      "Epoch 12/16, Train Loss: 57.0551, Val mAP@50: 0.4501, FPS: 527.82, Epoch Time: 4.91 seconds\n",
      "Epoch 13/16, Train Loss: 59.3642, Val mAP@50: 0.4668, FPS: 528.97, Epoch Time: 4.84 seconds\n",
      "Epoch 14/16, Train Loss: 59.1718, Val mAP@50: 0.4708, FPS: 528.03, Epoch Time: 4.84 seconds\n",
      "Epoch 15/16, Train Loss: 67.1659, Val mAP@50: 0.4435, FPS: 527.58, Epoch Time: 4.85 seconds\n"
     ]
    },
    {
     "name": "stderr",
     "output_type": "stream",
     "text": [
      "[I 2025-01-26 21:28:58,417] Trial 25 finished with value: 0.47076982259750366 and parameters: {'batch_size': 6, 'epochs': 16, 'preweight_mode': 'fine_tuning', 'optimizer': 'Adam', 'lr': 0.002654227961532903, 'beta1': 0.9065646407341942, 'beta2': 0.9602286089629664, 'scheduler': 'CosineAnnealingLR', 'T_max': 10, 'eta_min': 4.7955755153295954e-06}. Best is trial 0 with value: 0.5111747980117798.\n"
     ]
    },
    {
     "name": "stdout",
     "output_type": "stream",
     "text": [
      "Epoch 16/16, Train Loss: 83.9597, Val mAP@50: 0.4101, FPS: 529.08, Epoch Time: 4.82 seconds\n",
      "Best Epoch: 13, Best Val mAP@50: 0.4708, Training Time: 77.71 seconds\n",
      "Model training complete.\n",
      "Checking Model: SSD\n",
      "Starting Trial #26\n",
      "{'batch_size': 5, 'epochs': 14, 'preweight_mode': 'fine_tuning', 'optimizer': 'Adam', 'lr': 0.0014873130489600043, 'beta1': 0.9585297192318942, 'beta2': 0.9987589883175114, 'scheduler': 'StepLR', 'step_size': 2, 'gamma': 0.4941138117312453}\n",
      "Epoch 1/14, Train Loss: 420.5675, Val mAP@50: 0.3361, FPS: 474.68, Epoch Time: 5.13 seconds\n",
      "Epoch 2/14, Train Loss: 293.1524, Val mAP@50: 0.4178, FPS: 478.43, Epoch Time: 5.09 seconds\n",
      "Epoch 3/14, Train Loss: 215.9744, Val mAP@50: 0.4181, FPS: 478.83, Epoch Time: 5.08 seconds\n",
      "Epoch 4/14, Train Loss: 167.7517, Val mAP@50: 0.3960, FPS: 477.98, Epoch Time: 5.05 seconds\n",
      "Epoch 5/14, Train Loss: 132.7236, Val mAP@50: 0.4226, FPS: 475.91, Epoch Time: 5.07 seconds\n",
      "Epoch 6/14, Train Loss: 114.3581, Val mAP@50: 0.4401, FPS: 478.06, Epoch Time: 5.10 seconds\n",
      "Epoch 7/14, Train Loss: 96.4409, Val mAP@50: 0.4429, FPS: 484.29, Epoch Time: 5.07 seconds\n",
      "Epoch 8/14, Train Loss: 87.0427, Val mAP@50: 0.4359, FPS: 483.76, Epoch Time: 5.03 seconds\n",
      "Epoch 9/14, Train Loss: 81.1997, Val mAP@50: 0.4351, FPS: 476.86, Epoch Time: 5.08 seconds\n"
     ]
    },
    {
     "name": "stderr",
     "output_type": "stream",
     "text": [
      "[I 2025-01-26 21:29:49,623] Trial 26 pruned. \n"
     ]
    },
    {
     "name": "stdout",
     "output_type": "stream",
     "text": [
      "Trial pruned by Optuna at epoch 9.\n",
      "Checking Model: SSD\n",
      "Starting Trial #27\n",
      "{'batch_size': 6, 'epochs': 18, 'preweight_mode': 'fine_tuning', 'optimizer': 'Adam', 'lr': 0.0008276608949027664, 'beta1': 0.8911138990099644, 'beta2': 0.9446153451306826, 'scheduler': 'OneCycleLR', 'max_lr': 0.009584411731951981}\n",
      "Epoch 1/18, Train Loss: 303.6899, Val mAP@50: 0.3074, FPS: 542.26, Epoch Time: 4.79 seconds\n",
      "Epoch 2/18, Train Loss: 200.9320, Val mAP@50: 0.4105, FPS: 541.37, Epoch Time: 4.76 seconds\n",
      "Epoch 3/18, Train Loss: 161.2136, Val mAP@50: 0.3922, FPS: 540.90, Epoch Time: 4.75 seconds\n",
      "Epoch 4/18, Train Loss: 129.4702, Val mAP@50: 0.4579, FPS: 542.10, Epoch Time: 4.78 seconds\n",
      "Epoch 5/18, Train Loss: 113.1709, Val mAP@50: 0.4316, FPS: 540.32, Epoch Time: 4.98 seconds\n",
      "Epoch 6/18, Train Loss: 95.5826, Val mAP@50: 0.4375, FPS: 541.69, Epoch Time: 5.03 seconds\n",
      "Epoch 7/18, Train Loss: 84.5306, Val mAP@50: 0.4261, FPS: 539.75, Epoch Time: 5.03 seconds\n",
      "Epoch 8/18, Train Loss: 74.3022, Val mAP@50: 0.4697, FPS: 541.33, Epoch Time: 5.06 seconds\n",
      "Epoch 9/18, Train Loss: 67.2079, Val mAP@50: 0.4707, FPS: 540.34, Epoch Time: 5.06 seconds\n",
      "Epoch 10/18, Train Loss: 59.5355, Val mAP@50: 0.4672, FPS: 539.01, Epoch Time: 5.03 seconds\n",
      "Epoch 11/18, Train Loss: 53.0520, Val mAP@50: 0.4530, FPS: 537.43, Epoch Time: 5.05 seconds\n",
      "Epoch 12/18, Train Loss: 48.5694, Val mAP@50: 0.4607, FPS: 539.77, Epoch Time: 5.05 seconds\n",
      "Epoch 13/18, Train Loss: 41.1636, Val mAP@50: 0.4659, FPS: 541.10, Epoch Time: 4.83 seconds\n",
      "Epoch 14/18, Train Loss: 38.5017, Val mAP@50: 0.4659, FPS: 540.72, Epoch Time: 4.77 seconds\n",
      "Epoch 15/18, Train Loss: 35.0348, Val mAP@50: 0.4412, FPS: 539.98, Epoch Time: 4.78 seconds\n",
      "Epoch 16/18, Train Loss: 29.8641, Val mAP@50: 0.4638, FPS: 538.65, Epoch Time: 4.97 seconds\n",
      "Epoch 17/18, Train Loss: 29.4325, Val mAP@50: 0.4814, FPS: 534.88, Epoch Time: 4.89 seconds\n"
     ]
    },
    {
     "name": "stderr",
     "output_type": "stream",
     "text": [
      "[I 2025-01-26 21:31:18,532] Trial 27 finished with value: 0.48634710907936096 and parameters: {'batch_size': 6, 'epochs': 18, 'preweight_mode': 'fine_tuning', 'optimizer': 'Adam', 'lr': 0.0008276608949027664, 'beta1': 0.8911138990099644, 'beta2': 0.9446153451306826, 'scheduler': 'OneCycleLR', 'max_lr': 0.009584411731951981}. Best is trial 0 with value: 0.5111747980117798.\n"
     ]
    },
    {
     "name": "stdout",
     "output_type": "stream",
     "text": [
      "Epoch 18/18, Train Loss: 27.7931, Val mAP@50: 0.4863, FPS: 534.24, Epoch Time: 4.86 seconds\n",
      "Best Epoch: 17, Best Val mAP@50: 0.4863, Training Time: 88.47 seconds\n",
      "Model training complete.\n",
      "Checking Model: SSD\n",
      "Starting Trial #28\n",
      "{'batch_size': 7, 'epochs': 18, 'preweight_mode': 'freezing', 'optimizer': 'AdamW', 'lr': 0.0008175405139229113, 'weight_decay': 0.0021484698643380058, 'beta1': 0.8882095715826053, 'beta2': 0.9392610681354623, 'scheduler': 'OneCycleLR', 'max_lr': 0.008004585776499618}\n",
      "Epoch 1/18, Train Loss: 328.0777, Val mAP@50: 0.1708, FPS: 568.94, Epoch Time: 4.09 seconds\n",
      "Epoch 2/18, Train Loss: 280.4177, Val mAP@50: 0.1609, FPS: 568.70, Epoch Time: 4.08 seconds\n",
      "Epoch 3/18, Train Loss: 273.1502, Val mAP@50: 0.1483, FPS: 568.69, Epoch Time: 4.06 seconds\n",
      "Epoch 4/18, Train Loss: 260.8526, Val mAP@50: 0.1577, FPS: 567.69, Epoch Time: 4.07 seconds\n",
      "Epoch 5/18, Train Loss: 258.6231, Val mAP@50: 0.1642, FPS: 567.45, Epoch Time: 4.06 seconds\n"
     ]
    },
    {
     "name": "stderr",
     "output_type": "stream",
     "text": [
      "[I 2025-01-26 21:31:43,427] Trial 28 pruned. \n"
     ]
    },
    {
     "name": "stdout",
     "output_type": "stream",
     "text": [
      "Trial pruned by Optuna at epoch 5.\n",
      "Checking Model: SSD\n",
      "Starting Trial #29\n",
      "{'batch_size': 6, 'epochs': 18, 'preweight_mode': 'random', 'optimizer': 'Adam', 'lr': 0.0008372462855422009, 'beta1': 0.8389058165041977, 'beta2': 0.9601426974902715, 'scheduler': 'OneCycleLR', 'max_lr': 0.0015540861617556955}\n",
      "Epoch 1/18, Train Loss: 704.0623, Val mAP@50: 0.0158, FPS: 533.31, Epoch Time: 4.92 seconds\n",
      "Epoch 2/18, Train Loss: 490.5082, Val mAP@50: 0.0502, FPS: 532.30, Epoch Time: 4.88 seconds\n",
      "Epoch 3/18, Train Loss: 441.0958, Val mAP@50: 0.0850, FPS: 531.46, Epoch Time: 4.85 seconds\n",
      "Epoch 4/18, Train Loss: 409.5792, Val mAP@50: 0.0937, FPS: 530.52, Epoch Time: 4.86 seconds\n",
      "Epoch 5/18, Train Loss: 387.8830, Val mAP@50: 0.1199, FPS: 513.39, Epoch Time: 4.86 seconds\n"
     ]
    },
    {
     "name": "stderr",
     "output_type": "stream",
     "text": [
      "[I 2025-01-26 21:32:13,066] Trial 29 pruned. \n"
     ]
    },
    {
     "name": "stdout",
     "output_type": "stream",
     "text": [
      "Trial pruned by Optuna at epoch 5.\n",
      "Checking Model: SSD\n",
      "Starting Trial #30\n",
      "{'batch_size': 6, 'epochs': 19, 'preweight_mode': 'random', 'optimizer': 'Adam', 'lr': 0.001209474425031155, 'beta1': 0.8069109112918131, 'beta2': 0.9166185276287738, 'scheduler': 'OneCycleLR', 'max_lr': 0.001608481477749343}\n",
      "Epoch 1/19, Train Loss: 680.0721, Val mAP@50: 0.0301, FPS: 541.49, Epoch Time: 5.03 seconds\n",
      "Epoch 2/19, Train Loss: 487.7715, Val mAP@50: 0.0561, FPS: 541.83, Epoch Time: 5.14 seconds\n",
      "Epoch 3/19, Train Loss: 437.1697, Val mAP@50: 0.0785, FPS: 541.73, Epoch Time: 5.13 seconds\n",
      "Epoch 4/19, Train Loss: 402.5595, Val mAP@50: 0.1001, FPS: 541.68, Epoch Time: 4.95 seconds\n",
      "Epoch 5/19, Train Loss: 376.3695, Val mAP@50: 0.1573, FPS: 538.58, Epoch Time: 4.87 seconds\n"
     ]
    },
    {
     "name": "stderr",
     "output_type": "stream",
     "text": [
      "[I 2025-01-26 21:32:43,699] Trial 30 pruned. \n"
     ]
    },
    {
     "name": "stdout",
     "output_type": "stream",
     "text": [
      "Trial pruned by Optuna at epoch 5.\n",
      "Checking Model: SSD\n",
      "Starting Trial #31\n",
      "{'batch_size': 5, 'epochs': 16, 'preweight_mode': 'fine_tuning', 'optimizer': 'Adam', 'lr': 0.0029644157445611863, 'beta1': 0.9722727543924108, 'beta2': 0.9421838077940791, 'scheduler': 'OneCycleLR', 'max_lr': 0.00903785536676663}\n",
      "Epoch 1/16, Train Loss: 356.4234, Val mAP@50: 0.3597, FPS: 482.80, Epoch Time: 5.47 seconds\n",
      "Epoch 2/16, Train Loss: 236.6831, Val mAP@50: 0.3806, FPS: 484.52, Epoch Time: 5.45 seconds\n",
      "Epoch 3/16, Train Loss: 186.8126, Val mAP@50: 0.3303, FPS: 481.09, Epoch Time: 5.43 seconds\n",
      "Epoch 4/16, Train Loss: 154.8205, Val mAP@50: 0.4368, FPS: 485.37, Epoch Time: 5.46 seconds\n",
      "Epoch 5/16, Train Loss: 126.0971, Val mAP@50: 0.4048, FPS: 483.73, Epoch Time: 5.34 seconds\n",
      "Epoch 6/16, Train Loss: 111.9890, Val mAP@50: 0.4173, FPS: 482.70, Epoch Time: 5.16 seconds\n",
      "Epoch 7/16, Train Loss: 99.1513, Val mAP@50: 0.4435, FPS: 485.15, Epoch Time: 5.39 seconds\n",
      "Epoch 8/16, Train Loss: 88.3491, Val mAP@50: 0.4717, FPS: 483.36, Epoch Time: 5.46 seconds\n",
      "Epoch 9/16, Train Loss: 82.2626, Val mAP@50: 0.4578, FPS: 473.90, Epoch Time: 5.09 seconds\n",
      "Epoch 10/16, Train Loss: 76.8165, Val mAP@50: 0.4453, FPS: 473.58, Epoch Time: 5.13 seconds\n",
      "Epoch 11/16, Train Loss: 67.1560, Val mAP@50: 0.4813, FPS: 476.45, Epoch Time: 5.12 seconds\n",
      "Epoch 12/16, Train Loss: 59.8494, Val mAP@50: 0.4568, FPS: 476.11, Epoch Time: 5.11 seconds\n",
      "Epoch 13/16, Train Loss: 55.0197, Val mAP@50: 0.4762, FPS: 478.38, Epoch Time: 5.08 seconds\n",
      "Epoch 14/16, Train Loss: 48.3936, Val mAP@50: 0.4809, FPS: 474.78, Epoch Time: 5.11 seconds\n",
      "Epoch 15/16, Train Loss: 43.3004, Val mAP@50: 0.5010, FPS: 476.60, Epoch Time: 5.12 seconds\n"
     ]
    },
    {
     "name": "stderr",
     "output_type": "stream",
     "text": [
      "[I 2025-01-26 21:34:08,183] Trial 31 finished with value: 0.5010253190994263 and parameters: {'batch_size': 5, 'epochs': 16, 'preweight_mode': 'fine_tuning', 'optimizer': 'Adam', 'lr': 0.0029644157445611863, 'beta1': 0.9722727543924108, 'beta2': 0.9421838077940791, 'scheduler': 'OneCycleLR', 'max_lr': 0.00903785536676663}. Best is trial 0 with value: 0.5111747980117798.\n"
     ]
    },
    {
     "name": "stdout",
     "output_type": "stream",
     "text": [
      "Epoch 16/16, Train Loss: 40.0216, Val mAP@50: 0.4785, FPS: 476.01, Epoch Time: 5.11 seconds\n",
      "Best Epoch: 14, Best Val mAP@50: 0.5010, Training Time: 84.03 seconds\n",
      "Model training complete.\n",
      "Checking Model: SSD\n",
      "Starting Trial #32\n",
      "{'batch_size': 6, 'epochs': 16, 'preweight_mode': 'fine_tuning', 'optimizer': 'Adam', 'lr': 0.0056394299750537145, 'beta1': 0.9724310582665541, 'beta2': 0.940765344066672, 'scheduler': 'OneCycleLR', 'max_lr': 0.0066255575548344265}\n",
      "Epoch 1/16, Train Loss: 312.5443, Val mAP@50: 0.3264, FPS: 534.45, Epoch Time: 4.84 seconds\n",
      "Epoch 2/16, Train Loss: 207.9584, Val mAP@50: 0.3119, FPS: 533.95, Epoch Time: 4.82 seconds\n",
      "Epoch 3/16, Train Loss: 166.2471, Val mAP@50: 0.4096, FPS: 533.98, Epoch Time: 4.83 seconds\n",
      "Epoch 4/16, Train Loss: 135.3419, Val mAP@50: 0.3954, FPS: 534.01, Epoch Time: 4.82 seconds\n",
      "Epoch 5/16, Train Loss: 118.1585, Val mAP@50: 0.4338, FPS: 533.51, Epoch Time: 4.83 seconds\n",
      "Epoch 6/16, Train Loss: 104.1482, Val mAP@50: 0.4253, FPS: 541.68, Epoch Time: 4.82 seconds\n",
      "Epoch 7/16, Train Loss: 90.8085, Val mAP@50: 0.4224, FPS: 541.25, Epoch Time: 4.78 seconds\n"
     ]
    },
    {
     "name": "stderr",
     "output_type": "stream",
     "text": [
      "[I 2025-01-26 21:34:47,128] Trial 32 pruned. \n"
     ]
    },
    {
     "name": "stdout",
     "output_type": "stream",
     "text": [
      "Trial pruned by Optuna at epoch 7.\n",
      "Checking Model: SSD\n",
      "Starting Trial #33\n",
      "{'batch_size': 5, 'epochs': 18, 'preweight_mode': 'fine_tuning', 'optimizer': 'Adam', 'lr': 0.002712460826026253, 'beta1': 0.9242371170044364, 'beta2': 0.9541641168381919, 'scheduler': 'OneCycleLR', 'max_lr': 0.009803514012014729}\n",
      "Epoch 1/18, Train Loss: 355.6697, Val mAP@50: 0.4131, FPS: 484.66, Epoch Time: 5.05 seconds\n",
      "Epoch 2/18, Train Loss: 238.5964, Val mAP@50: 0.4021, FPS: 484.11, Epoch Time: 5.06 seconds\n",
      "Epoch 3/18, Train Loss: 186.6641, Val mAP@50: 0.4028, FPS: 484.02, Epoch Time: 5.07 seconds\n",
      "Epoch 4/18, Train Loss: 150.3925, Val mAP@50: 0.4661, FPS: 482.50, Epoch Time: 5.08 seconds\n",
      "Epoch 5/18, Train Loss: 131.2790, Val mAP@50: 0.4520, FPS: 484.44, Epoch Time: 5.06 seconds\n",
      "Epoch 6/18, Train Loss: 115.7616, Val mAP@50: 0.4608, FPS: 476.88, Epoch Time: 5.09 seconds\n",
      "Epoch 7/18, Train Loss: 105.9056, Val mAP@50: 0.4533, FPS: 475.49, Epoch Time: 5.11 seconds\n",
      "Epoch 8/18, Train Loss: 94.2332, Val mAP@50: 0.4393, FPS: 476.03, Epoch Time: 5.11 seconds\n",
      "Epoch 9/18, Train Loss: 81.6759, Val mAP@50: 0.4435, FPS: 473.77, Epoch Time: 5.10 seconds\n",
      "Epoch 10/18, Train Loss: 71.6301, Val mAP@50: 0.4065, FPS: 481.60, Epoch Time: 5.09 seconds\n",
      "Epoch 11/18, Train Loss: 68.5637, Val mAP@50: 0.4795, FPS: 481.99, Epoch Time: 5.09 seconds\n",
      "Epoch 12/18, Train Loss: 61.5721, Val mAP@50: 0.4740, FPS: 480.61, Epoch Time: 5.08 seconds\n",
      "Epoch 13/18, Train Loss: 53.8884, Val mAP@50: 0.4497, FPS: 482.40, Epoch Time: 5.05 seconds\n",
      "Epoch 14/18, Train Loss: 49.3549, Val mAP@50: 0.4695, FPS: 480.88, Epoch Time: 5.07 seconds\n",
      "Epoch 15/18, Train Loss: 42.8982, Val mAP@50: 0.4888, FPS: 482.02, Epoch Time: 5.08 seconds\n",
      "Epoch 16/18, Train Loss: 38.0532, Val mAP@50: 0.4684, FPS: 475.83, Epoch Time: 5.11 seconds\n",
      "Epoch 17/18, Train Loss: 32.1296, Val mAP@50: 0.4857, FPS: 475.82, Epoch Time: 5.08 seconds\n"
     ]
    },
    {
     "name": "stderr",
     "output_type": "stream",
     "text": [
      "[I 2025-01-26 21:36:19,058] Trial 33 finished with value: 0.4887832701206207 and parameters: {'batch_size': 5, 'epochs': 18, 'preweight_mode': 'fine_tuning', 'optimizer': 'Adam', 'lr': 0.002712460826026253, 'beta1': 0.9242371170044364, 'beta2': 0.9541641168381919, 'scheduler': 'OneCycleLR', 'max_lr': 0.009803514012014729}. Best is trial 0 with value: 0.5111747980117798.\n"
     ]
    },
    {
     "name": "stdout",
     "output_type": "stream",
     "text": [
      "Epoch 18/18, Train Loss: 33.2856, Val mAP@50: 0.4557, FPS: 479.16, Epoch Time: 5.10 seconds\n",
      "Best Epoch: 14, Best Val mAP@50: 0.4888, Training Time: 91.49 seconds\n",
      "Model training complete.\n",
      "Checking Model: SSD\n",
      "Starting Trial #34\n",
      "{'batch_size': 8, 'epochs': 19, 'preweight_mode': 'fine_tuning', 'optimizer': 'Adam', 'lr': 0.005087367595304972, 'beta1': 0.9298136755941784, 'beta2': 0.9543188872780093, 'scheduler': 'OneCycleLR', 'max_lr': 0.009884526949167917}\n",
      "Epoch 1/19, Train Loss: 231.1054, Val mAP@50: 0.4081, FPS: 611.87, Epoch Time: 4.47 seconds\n",
      "Epoch 2/19, Train Loss: 147.6688, Val mAP@50: 0.3750, FPS: 614.05, Epoch Time: 4.43 seconds\n",
      "Epoch 3/19, Train Loss: 116.6710, Val mAP@50: 0.3561, FPS: 614.49, Epoch Time: 4.44 seconds\n",
      "Epoch 4/19, Train Loss: 91.6976, Val mAP@50: 0.4112, FPS: 624.72, Epoch Time: 4.46 seconds\n",
      "Epoch 5/19, Train Loss: 78.3423, Val mAP@50: 0.4286, FPS: 624.90, Epoch Time: 4.43 seconds\n",
      "Epoch 6/19, Train Loss: 67.3443, Val mAP@50: 0.4722, FPS: 624.11, Epoch Time: 4.44 seconds\n",
      "Epoch 7/19, Train Loss: 59.3728, Val mAP@50: 0.4404, FPS: 622.15, Epoch Time: 4.40 seconds\n",
      "Epoch 8/19, Train Loss: 51.5698, Val mAP@50: 0.4485, FPS: 623.48, Epoch Time: 4.42 seconds\n",
      "Epoch 9/19, Train Loss: 45.4404, Val mAP@50: 0.4518, FPS: 621.51, Epoch Time: 4.41 seconds\n",
      "Epoch 10/19, Train Loss: 42.0207, Val mAP@50: 0.4410, FPS: 623.54, Epoch Time: 4.51 seconds\n",
      "Epoch 11/19, Train Loss: 39.4787, Val mAP@50: 0.4706, FPS: 620.01, Epoch Time: 4.43 seconds\n",
      "Epoch 12/19, Train Loss: 34.3382, Val mAP@50: 0.4434, FPS: 624.21, Epoch Time: 4.42 seconds\n",
      "Epoch 13/19, Train Loss: 30.2224, Val mAP@50: 0.4868, FPS: 621.32, Epoch Time: 4.42 seconds\n",
      "Epoch 14/19, Train Loss: 28.6678, Val mAP@50: 0.4717, FPS: 623.18, Epoch Time: 4.42 seconds\n",
      "Epoch 15/19, Train Loss: 25.4253, Val mAP@50: 0.4483, FPS: 622.44, Epoch Time: 4.41 seconds\n",
      "Epoch 16/19, Train Loss: 23.1829, Val mAP@50: 0.4565, FPS: 621.20, Epoch Time: 4.41 seconds\n",
      "Epoch 17/19, Train Loss: 20.8159, Val mAP@50: 0.4741, FPS: 624.08, Epoch Time: 4.42 seconds\n",
      "Epoch 18/19, Train Loss: 20.3360, Val mAP@50: 0.4750, FPS: 623.48, Epoch Time: 4.42 seconds\n"
     ]
    },
    {
     "name": "stderr",
     "output_type": "stream",
     "text": [
      "[I 2025-01-26 21:37:43,700] Trial 34 finished with value: 0.4868265688419342 and parameters: {'batch_size': 8, 'epochs': 19, 'preweight_mode': 'fine_tuning', 'optimizer': 'Adam', 'lr': 0.005087367595304972, 'beta1': 0.9298136755941784, 'beta2': 0.9543188872780093, 'scheduler': 'OneCycleLR', 'max_lr': 0.009884526949167917}. Best is trial 0 with value: 0.5111747980117798.\n"
     ]
    },
    {
     "name": "stdout",
     "output_type": "stream",
     "text": [
      "Epoch 19/19, Train Loss: 17.4465, Val mAP@50: 0.4651, FPS: 625.60, Epoch Time: 4.43 seconds\n",
      "Best Epoch: 12, Best Val mAP@50: 0.4868, Training Time: 84.19 seconds\n",
      "Model training complete.\n",
      "Checking Model: SSD\n",
      "Starting Trial #35\n",
      "{'batch_size': 8, 'epochs': 19, 'preweight_mode': 'freezing', 'optimizer': 'RMSprop', 'lr': 0.004897569852644158, 'weight_decay': 0.9567727117974231, 'momentum': 0.9599624912257618, 'scheduler': 'OneCycleLR', 'max_lr': 0.003348867203051894}\n",
      "Epoch 1/19, Train Loss: 332.6080, Val mAP@50: 0.0879, FPS: 604.53, Epoch Time: 4.04 seconds\n",
      "Epoch 2/19, Train Loss: 348.6311, Val mAP@50: 0.1015, FPS: 626.86, Epoch Time: 4.03 seconds\n",
      "Epoch 3/19, Train Loss: 352.6416, Val mAP@50: 0.1165, FPS: 624.57, Epoch Time: 4.00 seconds\n",
      "Epoch 4/19, Train Loss: 352.1963, Val mAP@50: 0.0746, FPS: 623.13, Epoch Time: 4.00 seconds\n",
      "Epoch 5/19, Train Loss: 353.8290, Val mAP@50: 0.0799, FPS: 621.90, Epoch Time: 3.98 seconds\n"
     ]
    },
    {
     "name": "stderr",
     "output_type": "stream",
     "text": [
      "[I 2025-01-26 21:38:08,153] Trial 35 pruned. \n"
     ]
    },
    {
     "name": "stdout",
     "output_type": "stream",
     "text": [
      "Trial pruned by Optuna at epoch 5.\n",
      "Checking Model: SSD\n",
      "Starting Trial #36\n",
      "{'batch_size': 8, 'epochs': 17, 'preweight_mode': 'fine_tuning', 'optimizer': 'SGD', 'lr': 0.00829180426985392, 'momentum': 0.9899232399633612, 'weight_decay': 0.0001780517516932834, 'scheduler': 'StepLR', 'step_size': 2, 'gamma': 0.4406362818575221}\n",
      "Epoch 1/17, Train Loss: 310.8382, Val mAP@50: 0.0000, FPS: 621.91, Epoch Time: 4.61 seconds\n",
      "Epoch 2/17, Train Loss: 295.1834, Val mAP@50: 0.0011, FPS: 614.78, Epoch Time: 4.60 seconds\n",
      "Epoch 3/17, Train Loss: 242.2229, Val mAP@50: 0.2497, FPS: 582.21, Epoch Time: 4.54 seconds\n",
      "Epoch 4/17, Train Loss: 220.7389, Val mAP@50: 0.3129, FPS: 611.11, Epoch Time: 4.65 seconds\n",
      "Epoch 5/17, Train Loss: 191.6022, Val mAP@50: 0.3323, FPS: 609.59, Epoch Time: 4.66 seconds\n"
     ]
    },
    {
     "name": "stderr",
     "output_type": "stream",
     "text": [
      "[I 2025-01-26 21:38:36,277] Trial 36 pruned. \n"
     ]
    },
    {
     "name": "stdout",
     "output_type": "stream",
     "text": [
      "Trial pruned by Optuna at epoch 5.\n",
      "Checking Model: SSD\n",
      "Starting Trial #37\n",
      "{'batch_size': 8, 'epochs': 19, 'preweight_mode': 'fine_tuning', 'optimizer': 'Adam', 'lr': 0.002798762630703596, 'beta1': 0.9392782091186657, 'beta2': 0.9558620092073176, 'scheduler': 'OneCycleLR', 'max_lr': 0.0027409267113137725}\n",
      "Epoch 1/19, Train Loss: 281.5011, Val mAP@50: 0.2965, FPS: 610.93, Epoch Time: 4.52 seconds\n",
      "Epoch 2/19, Train Loss: 190.0629, Val mAP@50: 0.2655, FPS: 611.55, Epoch Time: 4.43 seconds\n",
      "Epoch 3/19, Train Loss: 158.0713, Val mAP@50: 0.3475, FPS: 610.15, Epoch Time: 4.50 seconds\n",
      "Epoch 4/19, Train Loss: 139.0762, Val mAP@50: 0.3770, FPS: 611.79, Epoch Time: 4.45 seconds\n",
      "Epoch 5/19, Train Loss: 121.3663, Val mAP@50: 0.3653, FPS: 610.94, Epoch Time: 4.44 seconds\n"
     ]
    },
    {
     "name": "stderr",
     "output_type": "stream",
     "text": [
      "[I 2025-01-26 21:39:03,457] Trial 37 pruned. \n"
     ]
    },
    {
     "name": "stdout",
     "output_type": "stream",
     "text": [
      "Trial pruned by Optuna at epoch 5.\n",
      "Checking Model: SSD\n",
      "Starting Trial #38\n",
      "{'batch_size': 7, 'epochs': 17, 'preweight_mode': 'freezing', 'optimizer': 'RMSprop', 'lr': 0.006040791605645154, 'weight_decay': 0.3408991443911715, 'momentum': 0.9293898872716074, 'scheduler': 'OneCycleLR', 'max_lr': 0.00905657801484208}\n",
      "Epoch 1/17, Train Loss: 589.8329, Val mAP@50: 0.1157, FPS: 583.96, Epoch Time: 4.06 seconds\n",
      "Epoch 2/17, Train Loss: 484.7824, Val mAP@50: 0.0519, FPS: 582.44, Epoch Time: 4.06 seconds\n",
      "Epoch 3/17, Train Loss: 465.7068, Val mAP@50: 0.0998, FPS: 582.37, Epoch Time: 4.10 seconds\n",
      "Epoch 4/17, Train Loss: 463.9934, Val mAP@50: 0.1148, FPS: 580.51, Epoch Time: 4.10 seconds\n",
      "Epoch 5/17, Train Loss: 463.1947, Val mAP@50: 0.0796, FPS: 578.38, Epoch Time: 4.08 seconds\n"
     ]
    },
    {
     "name": "stderr",
     "output_type": "stream",
     "text": [
      "[I 2025-01-26 21:39:28,385] Trial 38 pruned. \n"
     ]
    },
    {
     "name": "stdout",
     "output_type": "stream",
     "text": [
      "Trial pruned by Optuna at epoch 5.\n",
      "Checking Model: SSD\n",
      "Starting Trial #39\n",
      "{'batch_size': 8, 'epochs': 18, 'preweight_mode': 'fine_tuning', 'optimizer': 'SGD', 'lr': 0.00892345729734498, 'momentum': 0.932954670223172, 'weight_decay': 0.00020528027179054107, 'scheduler': 'ReduceLROnPlateau', 'factor': 0.48940729497110874, 'patience': 5}\n",
      "Epoch 1/18, Train Loss: 260.2924, Val mAP@50: 0.1742, FPS: 628.42, Epoch Time: 4.59 seconds\n",
      "Epoch 2/18, Train Loss: 182.4477, Val mAP@50: 0.3812, FPS: 628.56, Epoch Time: 4.59 seconds\n",
      "Epoch 3/18, Train Loss: 133.2138, Val mAP@50: 0.4219, FPS: 628.73, Epoch Time: 4.58 seconds\n",
      "Epoch 4/18, Train Loss: 113.1686, Val mAP@50: 0.3907, FPS: 612.39, Epoch Time: 4.63 seconds\n",
      "Epoch 5/18, Train Loss: 101.0904, Val mAP@50: 0.4696, FPS: 611.59, Epoch Time: 4.60 seconds\n",
      "Epoch 6/18, Train Loss: 88.4889, Val mAP@50: 0.3936, FPS: 609.65, Epoch Time: 4.64 seconds\n",
      "Epoch 7/18, Train Loss: 82.0997, Val mAP@50: 0.4566, FPS: 609.65, Epoch Time: 4.65 seconds\n",
      "Epoch 8/18, Train Loss: 69.4898, Val mAP@50: 0.4179, FPS: 608.74, Epoch Time: 4.67 seconds\n",
      "Epoch 9/18, Train Loss: 58.2883, Val mAP@50: 0.4654, FPS: 593.47, Epoch Time: 4.58 seconds\n",
      "Epoch 10/18, Train Loss: 50.7395, Val mAP@50: 0.4811, FPS: 608.83, Epoch Time: 4.47 seconds\n",
      "Epoch 11/18, Train Loss: 45.1310, Val mAP@50: 0.4539, FPS: 608.09, Epoch Time: 4.59 seconds\n",
      "Epoch 12/18, Train Loss: 41.7769, Val mAP@50: 0.4732, FPS: 624.59, Epoch Time: 4.39 seconds\n",
      "Epoch 13/18, Train Loss: 41.0969, Val mAP@50: 0.4381, FPS: 620.76, Epoch Time: 4.40 seconds\n",
      "Epoch 14/18, Train Loss: 37.6801, Val mAP@50: 0.4639, FPS: 625.33, Epoch Time: 4.38 seconds\n",
      "Epoch 15/18, Train Loss: 32.9665, Val mAP@50: 0.4838, FPS: 624.82, Epoch Time: 4.41 seconds\n",
      "Epoch 16/18, Train Loss: 29.6226, Val mAP@50: 0.4566, FPS: 622.41, Epoch Time: 4.52 seconds\n",
      "Epoch 17/18, Train Loss: 27.0813, Val mAP@50: 0.4719, FPS: 623.89, Epoch Time: 4.57 seconds\n"
     ]
    },
    {
     "name": "stderr",
     "output_type": "stream",
     "text": [
      "[I 2025-01-26 21:40:50,659] Trial 39 finished with value: 0.4838326871395111 and parameters: {'batch_size': 8, 'epochs': 18, 'preweight_mode': 'fine_tuning', 'optimizer': 'SGD', 'lr': 0.00892345729734498, 'momentum': 0.932954670223172, 'weight_decay': 0.00020528027179054107, 'scheduler': 'ReduceLROnPlateau', 'factor': 0.48940729497110874, 'patience': 5}. Best is trial 0 with value: 0.5111747980117798.\n"
     ]
    },
    {
     "name": "stdout",
     "output_type": "stream",
     "text": [
      "Epoch 18/18, Train Loss: 22.7369, Val mAP@50: 0.4835, FPS: 621.54, Epoch Time: 4.57 seconds\n",
      "Best Epoch: 14, Best Val mAP@50: 0.4838, Training Time: 81.83 seconds\n",
      "Model training complete.\n",
      "Checking Model: SSD\n",
      "Starting Trial #40\n",
      "{'batch_size': 7, 'epochs': 17, 'preweight_mode': 'fine_tuning', 'optimizer': 'Adam', 'lr': 0.003071923407571912, 'beta1': 0.918517256553972, 'beta2': 0.9693043228322671, 'scheduler': 'OneCycleLR', 'max_lr': 0.0005113189875155549}\n",
      "Epoch 1/17, Train Loss: 412.4950, Val mAP@50: 0.0737, FPS: 577.80, Epoch Time: 5.31 seconds\n",
      "Epoch 2/17, Train Loss: 321.9664, Val mAP@50: 0.1702, FPS: 578.59, Epoch Time: 4.93 seconds\n",
      "Epoch 3/17, Train Loss: 280.4405, Val mAP@50: 0.2275, FPS: 579.46, Epoch Time: 4.61 seconds\n",
      "Epoch 4/17, Train Loss: 253.4804, Val mAP@50: 0.2501, FPS: 579.57, Epoch Time: 4.73 seconds\n",
      "Epoch 5/17, Train Loss: 235.9515, Val mAP@50: 0.2468, FPS: 574.71, Epoch Time: 4.78 seconds\n"
     ]
    },
    {
     "name": "stderr",
     "output_type": "stream",
     "text": [
      "[I 2025-01-26 21:41:20,235] Trial 40 pruned. \n"
     ]
    },
    {
     "name": "stdout",
     "output_type": "stream",
     "text": [
      "Trial pruned by Optuna at epoch 5.\n",
      "Checking Model: SSD\n",
      "Starting Trial #41\n",
      "{'batch_size': 6, 'epochs': 18, 'preweight_mode': 'fine_tuning', 'optimizer': 'Adam', 'lr': 0.002437058533115515, 'beta1': 0.9768451353922806, 'beta2': 0.9373468363853912, 'scheduler': 'OneCycleLR', 'max_lr': 0.009898572405310432}\n",
      "Epoch 1/18, Train Loss: 300.0989, Val mAP@50: 0.3506, FPS: 542.60, Epoch Time: 5.05 seconds\n",
      "Epoch 2/18, Train Loss: 199.7939, Val mAP@50: 0.3963, FPS: 541.96, Epoch Time: 4.87 seconds\n",
      "Epoch 3/18, Train Loss: 160.9746, Val mAP@50: 0.3984, FPS: 545.19, Epoch Time: 4.78 seconds\n",
      "Epoch 4/18, Train Loss: 130.6490, Val mAP@50: 0.3736, FPS: 543.92, Epoch Time: 4.76 seconds\n",
      "Epoch 5/18, Train Loss: 110.7733, Val mAP@50: 0.4235, FPS: 541.96, Epoch Time: 4.79 seconds\n"
     ]
    },
    {
     "name": "stderr",
     "output_type": "stream",
     "text": [
      "[I 2025-01-26 21:41:49,657] Trial 41 pruned. \n"
     ]
    },
    {
     "name": "stdout",
     "output_type": "stream",
     "text": [
      "Trial pruned by Optuna at epoch 5.\n",
      "Checking Model: SSD\n",
      "Starting Trial #42\n",
      "{'batch_size': 7, 'epochs': 18, 'preweight_mode': 'fine_tuning', 'optimizer': 'Adam', 'lr': 0.0009461748259110512, 'beta1': 0.9229121623666714, 'beta2': 0.951369159250685, 'scheduler': 'OneCycleLR', 'max_lr': 0.005232015528116687}\n",
      "Epoch 1/18, Train Loss: 282.1317, Val mAP@50: 0.3071, FPS: 578.49, Epoch Time: 4.58 seconds\n",
      "Epoch 2/18, Train Loss: 187.1812, Val mAP@50: 0.3687, FPS: 575.48, Epoch Time: 4.74 seconds\n",
      "Epoch 3/18, Train Loss: 150.5947, Val mAP@50: 0.3271, FPS: 580.43, Epoch Time: 4.79 seconds\n",
      "Epoch 4/18, Train Loss: 129.1050, Val mAP@50: 0.4039, FPS: 578.42, Epoch Time: 4.80 seconds\n",
      "Epoch 5/18, Train Loss: 107.3364, Val mAP@50: 0.4236, FPS: 579.72, Epoch Time: 4.82 seconds\n"
     ]
    },
    {
     "name": "stderr",
     "output_type": "stream",
     "text": [
      "[I 2025-01-26 21:42:18,604] Trial 42 pruned. \n"
     ]
    },
    {
     "name": "stdout",
     "output_type": "stream",
     "text": [
      "Trial pruned by Optuna at epoch 5.\n",
      "Checking Model: SSD\n",
      "Starting Trial #43\n",
      "{'batch_size': 7, 'epochs': 19, 'preweight_mode': 'fine_tuning', 'optimizer': 'Adam', 'lr': 0.0013752543927034652, 'beta1': 0.903151712133159, 'beta2': 0.9268101309611362, 'scheduler': 'OneCycleLR', 'max_lr': 0.009421920126354325}\n",
      "Epoch 1/19, Train Loss: 261.7684, Val mAP@50: 0.4261, FPS: 561.85, Epoch Time: 4.66 seconds\n",
      "Epoch 2/19, Train Loss: 170.8372, Val mAP@50: 0.4435, FPS: 559.50, Epoch Time: 4.66 seconds\n",
      "Epoch 3/19, Train Loss: 136.3264, Val mAP@50: 0.3920, FPS: 560.36, Epoch Time: 4.62 seconds\n",
      "Epoch 4/19, Train Loss: 110.7618, Val mAP@50: 0.4511, FPS: 561.40, Epoch Time: 4.65 seconds\n",
      "Epoch 5/19, Train Loss: 93.0528, Val mAP@50: 0.4236, FPS: 559.53, Epoch Time: 4.65 seconds\n",
      "Epoch 6/19, Train Loss: 79.3202, Val mAP@50: 0.4464, FPS: 562.03, Epoch Time: 4.63 seconds\n",
      "Epoch 7/19, Train Loss: 70.1387, Val mAP@50: 0.4576, FPS: 561.53, Epoch Time: 4.66 seconds\n",
      "Epoch 8/19, Train Loss: 61.8829, Val mAP@50: 0.4659, FPS: 558.13, Epoch Time: 4.66 seconds\n",
      "Epoch 9/19, Train Loss: 58.3016, Val mAP@50: 0.4484, FPS: 557.03, Epoch Time: 4.64 seconds\n",
      "Epoch 10/19, Train Loss: 53.4763, Val mAP@50: 0.4507, FPS: 560.93, Epoch Time: 4.71 seconds\n",
      "Epoch 11/19, Train Loss: 46.3762, Val mAP@50: 0.4545, FPS: 551.90, Epoch Time: 4.72 seconds\n",
      "Epoch 12/19, Train Loss: 41.3282, Val mAP@50: 0.4615, FPS: 553.24, Epoch Time: 4.66 seconds\n",
      "Epoch 13/19, Train Loss: 38.8975, Val mAP@50: 0.4720, FPS: 558.22, Epoch Time: 4.68 seconds\n",
      "Epoch 14/19, Train Loss: 34.8841, Val mAP@50: 0.4574, FPS: 558.58, Epoch Time: 4.88 seconds\n",
      "Epoch 15/19, Train Loss: 31.7915, Val mAP@50: 0.4866, FPS: 562.00, Epoch Time: 4.90 seconds\n",
      "Epoch 16/19, Train Loss: 28.6192, Val mAP@50: 0.4480, FPS: 560.94, Epoch Time: 4.87 seconds\n",
      "Epoch 17/19, Train Loss: 25.9374, Val mAP@50: 0.4467, FPS: 562.16, Epoch Time: 4.87 seconds\n",
      "Epoch 18/19, Train Loss: 23.8870, Val mAP@50: 0.4485, FPS: 562.80, Epoch Time: 4.87 seconds\n"
     ]
    },
    {
     "name": "stderr",
     "output_type": "stream",
     "text": [
      "[I 2025-01-26 21:43:48,919] Trial 43 finished with value: 0.4866155683994293 and parameters: {'batch_size': 7, 'epochs': 19, 'preweight_mode': 'fine_tuning', 'optimizer': 'Adam', 'lr': 0.0013752543927034652, 'beta1': 0.903151712133159, 'beta2': 0.9268101309611362, 'scheduler': 'OneCycleLR', 'max_lr': 0.009421920126354325}. Best is trial 0 with value: 0.5111747980117798.\n"
     ]
    },
    {
     "name": "stdout",
     "output_type": "stream",
     "text": [
      "Epoch 19/19, Train Loss: 23.6971, Val mAP@50: 0.4711, FPS: 564.68, Epoch Time: 4.88 seconds\n",
      "Best Epoch: 14, Best Val mAP@50: 0.4866, Training Time: 89.86 seconds\n",
      "Model training complete.\n",
      "Checking Model: SSD\n",
      "Starting Trial #44\n",
      "{'batch_size': 7, 'epochs': 19, 'preweight_mode': 'fine_tuning', 'optimizer': 'Adam', 'lr': 0.0013424338304523103, 'beta1': 0.9094122916529914, 'beta2': 0.9269402922201898, 'scheduler': 'StepLR', 'step_size': 3, 'gamma': 0.332103389601059}\n",
      "Epoch 1/19, Train Loss: 268.3058, Val mAP@50: 0.3857, FPS: 562.12, Epoch Time: 4.89 seconds\n",
      "Epoch 2/19, Train Loss: 191.3833, Val mAP@50: 0.4399, FPS: 575.55, Epoch Time: 4.82 seconds\n",
      "Epoch 3/19, Train Loss: 154.9180, Val mAP@50: 0.4631, FPS: 573.05, Epoch Time: 4.81 seconds\n",
      "Epoch 4/19, Train Loss: 103.4102, Val mAP@50: 0.4814, FPS: 575.20, Epoch Time: 4.82 seconds\n",
      "Epoch 5/19, Train Loss: 78.8341, Val mAP@50: 0.4120, FPS: 572.71, Epoch Time: 4.80 seconds\n",
      "Epoch 6/19, Train Loss: 66.3418, Val mAP@50: 0.4610, FPS: 571.83, Epoch Time: 4.81 seconds\n",
      "Epoch 7/19, Train Loss: 51.4450, Val mAP@50: 0.4713, FPS: 573.32, Epoch Time: 4.80 seconds\n",
      "Epoch 8/19, Train Loss: 45.2590, Val mAP@50: 0.4638, FPS: 573.52, Epoch Time: 4.80 seconds\n",
      "Epoch 9/19, Train Loss: 41.9237, Val mAP@50: 0.4771, FPS: 573.87, Epoch Time: 4.80 seconds\n",
      "Epoch 10/19, Train Loss: 36.5464, Val mAP@50: 0.4775, FPS: 575.22, Epoch Time: 4.80 seconds\n",
      "Epoch 11/19, Train Loss: 34.2734, Val mAP@50: 0.4685, FPS: 572.88, Epoch Time: 4.65 seconds\n",
      "Epoch 12/19, Train Loss: 33.9627, Val mAP@50: 0.4685, FPS: 577.25, Epoch Time: 4.72 seconds\n",
      "Epoch 13/19, Train Loss: 32.0005, Val mAP@50: 0.4733, FPS: 576.16, Epoch Time: 4.58 seconds\n",
      "Epoch 14/19, Train Loss: 31.1458, Val mAP@50: 0.4610, FPS: 575.61, Epoch Time: 4.57 seconds\n",
      "Epoch 15/19, Train Loss: 31.2457, Val mAP@50: 0.4736, FPS: 577.38, Epoch Time: 4.57 seconds\n",
      "Epoch 16/19, Train Loss: 30.5768, Val mAP@50: 0.4697, FPS: 576.62, Epoch Time: 4.56 seconds\n",
      "Epoch 17/19, Train Loss: 31.4733, Val mAP@50: 0.4742, FPS: 575.48, Epoch Time: 4.57 seconds\n",
      "Epoch 18/19, Train Loss: 30.0360, Val mAP@50: 0.4770, FPS: 575.88, Epoch Time: 4.55 seconds\n"
     ]
    },
    {
     "name": "stderr",
     "output_type": "stream",
     "text": [
      "[I 2025-01-26 21:45:18,903] Trial 44 finished with value: 0.4814079701900482 and parameters: {'batch_size': 7, 'epochs': 19, 'preweight_mode': 'fine_tuning', 'optimizer': 'Adam', 'lr': 0.0013424338304523103, 'beta1': 0.9094122916529914, 'beta2': 0.9269402922201898, 'scheduler': 'StepLR', 'step_size': 3, 'gamma': 0.332103389601059}. Best is trial 0 with value: 0.5111747980117798.\n"
     ]
    },
    {
     "name": "stdout",
     "output_type": "stream",
     "text": [
      "Epoch 19/19, Train Loss: 29.9110, Val mAP@50: 0.4806, FPS: 574.81, Epoch Time: 4.57 seconds\n",
      "Best Epoch: 3, Best Val mAP@50: 0.4814, Training Time: 89.50 seconds\n",
      "Model training complete.\n",
      "Checking Model: SSD\n",
      "Starting Trial #45\n",
      "{'batch_size': 8, 'epochs': 20, 'preweight_mode': 'fine_tuning', 'optimizer': 'SGD', 'lr': 0.007657631360051177, 'momentum': 0.9085832662837212, 'weight_decay': 1.1335666011212432e-05, 'scheduler': 'ReduceLROnPlateau', 'factor': 0.4918674333384345, 'patience': 2}\n",
      "Epoch 1/20, Train Loss: 239.3250, Val mAP@50: 0.2554, FPS: 626.92, Epoch Time: 4.52 seconds\n",
      "Epoch 2/20, Train Loss: 168.6291, Val mAP@50: 0.3535, FPS: 625.96, Epoch Time: 4.54 seconds\n",
      "Epoch 3/20, Train Loss: 125.8351, Val mAP@50: 0.4307, FPS: 628.62, Epoch Time: 4.53 seconds\n",
      "Epoch 4/20, Train Loss: 100.9994, Val mAP@50: 0.4223, FPS: 621.73, Epoch Time: 4.52 seconds\n",
      "Epoch 5/20, Train Loss: 87.0465, Val mAP@50: 0.3790, FPS: 628.99, Epoch Time: 4.52 seconds\n",
      "Epoch 6/20, Train Loss: 77.1070, Val mAP@50: 0.4644, FPS: 628.13, Epoch Time: 4.55 seconds\n",
      "Epoch 7/20, Train Loss: 68.5336, Val mAP@50: 0.4175, FPS: 627.93, Epoch Time: 4.53 seconds\n",
      "Epoch 8/20, Train Loss: 60.9428, Val mAP@50: 0.4271, FPS: 624.33, Epoch Time: 4.52 seconds\n",
      "Epoch 9/20, Train Loss: 54.6165, Val mAP@50: 0.4279, FPS: 624.51, Epoch Time: 4.53 seconds\n",
      "Epoch 10/20, Train Loss: 41.6709, Val mAP@50: 0.4473, FPS: 625.57, Epoch Time: 4.52 seconds\n",
      "Epoch 11/20, Train Loss: 34.4857, Val mAP@50: 0.4456, FPS: 625.76, Epoch Time: 4.40 seconds\n",
      "Epoch 12/20, Train Loss: 31.1047, Val mAP@50: 0.4516, FPS: 626.26, Epoch Time: 4.33 seconds\n",
      "Epoch 13/20, Train Loss: 28.6389, Val mAP@50: 0.4525, FPS: 626.91, Epoch Time: 4.34 seconds\n",
      "Epoch 14/20, Train Loss: 26.6819, Val mAP@50: 0.4385, FPS: 625.63, Epoch Time: 4.34 seconds\n"
     ]
    },
    {
     "name": "stderr",
     "output_type": "stream",
     "text": [
      "[I 2025-01-26 21:46:26,428] Trial 45 pruned. \n"
     ]
    },
    {
     "name": "stdout",
     "output_type": "stream",
     "text": [
      "Trial pruned by Optuna at epoch 14.\n",
      "Checking Model: SSD\n",
      "Starting Trial #46\n",
      "{'batch_size': 4, 'epochs': 19, 'preweight_mode': 'freezing', 'optimizer': 'RMSprop', 'lr': 0.0035780992345245326, 'weight_decay': 0.9186605497905616, 'momentum': 0.9608104513845921, 'scheduler': 'OneCycleLR', 'max_lr': 0.004834702343213715}\n",
      "Epoch 1/19, Train Loss: 788.6616, Val mAP@50: 0.0584, FPS: 423.27, Epoch Time: 4.55 seconds\n",
      "Epoch 2/19, Train Loss: 779.1826, Val mAP@50: 0.0984, FPS: 422.78, Epoch Time: 4.55 seconds\n",
      "Epoch 3/19, Train Loss: 769.8513, Val mAP@50: 0.0711, FPS: 423.08, Epoch Time: 4.57 seconds\n",
      "Epoch 4/19, Train Loss: 776.0502, Val mAP@50: 0.1202, FPS: 423.22, Epoch Time: 4.58 seconds\n",
      "Epoch 5/19, Train Loss: 772.1728, Val mAP@50: 0.0807, FPS: 421.17, Epoch Time: 4.59 seconds\n"
     ]
    },
    {
     "name": "stderr",
     "output_type": "stream",
     "text": [
      "[I 2025-01-26 21:46:54,280] Trial 46 pruned. \n"
     ]
    },
    {
     "name": "stdout",
     "output_type": "stream",
     "text": [
      "Trial pruned by Optuna at epoch 5.\n",
      "Checking Model: SSD\n",
      "Starting Trial #47\n",
      "{'batch_size': 8, 'epochs': 20, 'preweight_mode': 'fine_tuning', 'optimizer': 'Adam', 'lr': 0.004431686005056747, 'beta1': 0.9455595793366528, 'beta2': 0.9215330647601433, 'scheduler': 'OneCycleLR', 'max_lr': 0.0031064276561719026}\n",
      "Epoch 1/20, Train Loss: 263.4667, Val mAP@50: 0.2939, FPS: 621.82, Epoch Time: 4.40 seconds\n",
      "Epoch 2/20, Train Loss: 179.6203, Val mAP@50: 0.3250, FPS: 623.95, Epoch Time: 4.39 seconds\n",
      "Epoch 3/20, Train Loss: 150.3543, Val mAP@50: 0.3302, FPS: 626.89, Epoch Time: 4.37 seconds\n",
      "Epoch 4/20, Train Loss: 127.6534, Val mAP@50: 0.4098, FPS: 626.61, Epoch Time: 4.39 seconds\n",
      "Epoch 5/20, Train Loss: 113.5880, Val mAP@50: 0.4075, FPS: 624.04, Epoch Time: 4.38 seconds\n"
     ]
    },
    {
     "name": "stderr",
     "output_type": "stream",
     "text": [
      "[I 2025-01-26 21:47:20,978] Trial 47 pruned. \n"
     ]
    },
    {
     "name": "stdout",
     "output_type": "stream",
     "text": [
      "Trial pruned by Optuna at epoch 5.\n",
      "Checking Model: SSD\n",
      "Starting Trial #48\n",
      "{'batch_size': 7, 'epochs': 17, 'preweight_mode': 'fine_tuning', 'optimizer': 'Adam', 'lr': 0.0023996965882298257, 'beta1': 0.9296420107787905, 'beta2': 0.9769275038126022, 'scheduler': 'OneCycleLR', 'max_lr': 0.0059297507357060995}\n",
      "Epoch 1/17, Train Loss: 276.4132, Val mAP@50: 0.3192, FPS: 576.67, Epoch Time: 4.54 seconds\n",
      "Epoch 2/17, Train Loss: 184.4367, Val mAP@50: 0.3786, FPS: 575.70, Epoch Time: 4.54 seconds\n",
      "Epoch 3/17, Train Loss: 145.1986, Val mAP@50: 0.4040, FPS: 576.13, Epoch Time: 4.55 seconds\n",
      "Epoch 4/17, Train Loss: 122.4037, Val mAP@50: 0.3791, FPS: 577.14, Epoch Time: 4.63 seconds\n",
      "Epoch 5/17, Train Loss: 103.4018, Val mAP@50: 0.4124, FPS: 577.65, Epoch Time: 4.77 seconds\n"
     ]
    },
    {
     "name": "stderr",
     "output_type": "stream",
     "text": [
      "[I 2025-01-26 21:47:49,181] Trial 48 pruned. \n"
     ]
    },
    {
     "name": "stdout",
     "output_type": "stream",
     "text": [
      "Trial pruned by Optuna at epoch 5.\n",
      "Checking Model: SSD\n",
      "Starting Trial #49\n",
      "{'batch_size': 7, 'epochs': 16, 'preweight_mode': 'random', 'optimizer': 'AdamW', 'lr': 0.0011681773807768574, 'weight_decay': 0.004675266818369221, 'beta1': 0.9083867661450673, 'beta2': 0.932067587281533, 'scheduler': 'OneCycleLR', 'max_lr': 0.009606771323127362}\n",
      "Epoch 1/16, Train Loss: 478.1389, Val mAP@50: 0.0840, FPS: 572.96, Epoch Time: 4.56 seconds\n",
      "Epoch 2/16, Train Loss: 331.5652, Val mAP@50: 0.2163, FPS: 573.54, Epoch Time: 4.57 seconds\n",
      "Epoch 3/16, Train Loss: 269.0916, Val mAP@50: 0.1329, FPS: 574.52, Epoch Time: 4.58 seconds\n",
      "Epoch 4/16, Train Loss: 221.3426, Val mAP@50: 0.3415, FPS: 573.92, Epoch Time: 4.59 seconds\n",
      "Epoch 5/16, Train Loss: 180.8968, Val mAP@50: 0.3890, FPS: 571.53, Epoch Time: 4.59 seconds\n"
     ]
    },
    {
     "name": "stderr",
     "output_type": "stream",
     "text": [
      "[I 2025-01-26 21:48:17,103] Trial 49 pruned. \n"
     ]
    },
    {
     "name": "stdout",
     "output_type": "stream",
     "text": [
      "Trial pruned by Optuna at epoch 5.\n",
      "Checking Model: SSD\n",
      "Starting Trial #50\n",
      "{'batch_size': 6, 'epochs': 17, 'preweight_mode': 'fine_tuning', 'optimizer': 'Adam', 'lr': 0.0015129071900528263, 'beta1': 0.9790339102832462, 'beta2': 0.9558108736906998, 'scheduler': 'ReduceLROnPlateau', 'factor': 0.10510497397626911, 'patience': 5}\n",
      "Epoch 1/17, Train Loss: 359.6264, Val mAP@50: 0.0289, FPS: 537.06, Epoch Time: 4.87 seconds\n",
      "Epoch 2/17, Train Loss: 257.4114, Val mAP@50: 0.4100, FPS: 542.90, Epoch Time: 4.86 seconds\n",
      "Epoch 3/17, Train Loss: 219.8687, Val mAP@50: 0.4326, FPS: 542.68, Epoch Time: 5.01 seconds\n",
      "Epoch 4/17, Train Loss: 187.2141, Val mAP@50: 0.4097, FPS: 542.24, Epoch Time: 4.87 seconds\n",
      "Epoch 5/17, Train Loss: 167.2621, Val mAP@50: 0.3857, FPS: 541.19, Epoch Time: 4.74 seconds\n",
      "Epoch 6/17, Train Loss: 149.3926, Val mAP@50: 0.3955, FPS: 541.93, Epoch Time: 4.74 seconds\n",
      "Epoch 7/17, Train Loss: 126.6617, Val mAP@50: 0.4577, FPS: 541.09, Epoch Time: 4.75 seconds\n",
      "Epoch 8/17, Train Loss: 116.8571, Val mAP@50: 0.3965, FPS: 541.22, Epoch Time: 4.74 seconds\n",
      "Epoch 9/17, Train Loss: 104.7524, Val mAP@50: 0.4031, FPS: 543.08, Epoch Time: 4.74 seconds\n",
      "Epoch 10/17, Train Loss: 104.3850, Val mAP@50: 0.4658, FPS: 538.73, Epoch Time: 4.77 seconds\n",
      "Epoch 11/17, Train Loss: 101.1831, Val mAP@50: 0.4234, FPS: 538.91, Epoch Time: 4.78 seconds\n",
      "Epoch 12/17, Train Loss: 88.3378, Val mAP@50: 0.4135, FPS: 538.72, Epoch Time: 4.77 seconds\n",
      "Epoch 13/17, Train Loss: 81.2071, Val mAP@50: 0.3865, FPS: 538.22, Epoch Time: 4.78 seconds\n",
      "Epoch 14/17, Train Loss: 76.5416, Val mAP@50: 0.4014, FPS: 537.95, Epoch Time: 4.78 seconds\n"
     ]
    },
    {
     "name": "stderr",
     "output_type": "stream",
     "text": [
      "[I 2025-01-26 21:49:29,495] Trial 50 pruned. \n"
     ]
    },
    {
     "name": "stdout",
     "output_type": "stream",
     "text": [
      "Trial pruned by Optuna at epoch 14.\n",
      "Checking Model: SSD\n",
      "Starting Trial #51\n",
      "{'batch_size': 5, 'epochs': 18, 'preweight_mode': 'fine_tuning', 'optimizer': 'Adam', 'lr': 0.0006400823406924462, 'beta1': 0.8831069922652057, 'beta2': 0.9415628693136294, 'scheduler': 'OneCycleLR', 'max_lr': 0.009421682539931312}\n",
      "Epoch 1/18, Train Loss: 354.4960, Val mAP@50: 0.3799, FPS: 483.92, Epoch Time: 5.06 seconds\n",
      "Epoch 2/18, Train Loss: 235.6367, Val mAP@50: 0.4250, FPS: 482.27, Epoch Time: 5.05 seconds\n",
      "Epoch 3/18, Train Loss: 190.8844, Val mAP@50: 0.3834, FPS: 483.43, Epoch Time: 5.03 seconds\n",
      "Epoch 4/18, Train Loss: 153.4214, Val mAP@50: 0.4097, FPS: 483.19, Epoch Time: 5.04 seconds\n",
      "Epoch 5/18, Train Loss: 129.9921, Val mAP@50: 0.4098, FPS: 482.44, Epoch Time: 5.05 seconds\n"
     ]
    },
    {
     "name": "stderr",
     "output_type": "stream",
     "text": [
      "[I 2025-01-26 21:50:00,196] Trial 51 pruned. \n"
     ]
    },
    {
     "name": "stdout",
     "output_type": "stream",
     "text": [
      "Trial pruned by Optuna at epoch 5.\n",
      "Checking Model: SSD\n",
      "Starting Trial #52\n",
      "{'batch_size': 6, 'epochs': 19, 'preweight_mode': 'fine_tuning', 'optimizer': 'Adam', 'lr': 0.0010073235797937198, 'beta1': 0.9858727200532856, 'beta2': 0.9543356999736827, 'scheduler': 'OneCycleLR', 'max_lr': 0.006052233244724301}\n",
      "Epoch 1/19, Train Loss: 315.9048, Val mAP@50: 0.3155, FPS: 541.14, Epoch Time: 4.77 seconds\n",
      "Epoch 2/19, Train Loss: 211.1060, Val mAP@50: 0.3320, FPS: 541.30, Epoch Time: 4.77 seconds\n",
      "Epoch 3/19, Train Loss: 165.4970, Val mAP@50: 0.3742, FPS: 542.63, Epoch Time: 4.76 seconds\n",
      "Epoch 4/19, Train Loss: 144.0474, Val mAP@50: 0.3926, FPS: 542.86, Epoch Time: 4.77 seconds\n",
      "Epoch 5/19, Train Loss: 117.6377, Val mAP@50: 0.3829, FPS: 538.54, Epoch Time: 4.76 seconds\n"
     ]
    },
    {
     "name": "stderr",
     "output_type": "stream",
     "text": [
      "[I 2025-01-26 21:50:29,228] Trial 52 pruned. \n"
     ]
    },
    {
     "name": "stdout",
     "output_type": "stream",
     "text": [
      "Trial pruned by Optuna at epoch 5.\n",
      "Checking Model: SSD\n",
      "Starting Trial #53\n",
      "{'batch_size': 4, 'epochs': 18, 'preweight_mode': 'fine_tuning', 'optimizer': 'Adam', 'lr': 0.0032563492380549546, 'beta1': 0.8951085797026672, 'beta2': 0.9643733620698351, 'scheduler': 'OneCycleLR', 'max_lr': 0.0098440908844358}\n",
      "Epoch 1/18, Train Loss: 443.8906, Val mAP@50: 0.3356, FPS: 419.87, Epoch Time: 5.47 seconds\n",
      "Epoch 2/18, Train Loss: 307.6153, Val mAP@50: 0.3762, FPS: 419.42, Epoch Time: 5.47 seconds\n",
      "Epoch 3/18, Train Loss: 249.9775, Val mAP@50: 0.4528, FPS: 419.51, Epoch Time: 5.47 seconds\n",
      "Epoch 4/18, Train Loss: 202.6556, Val mAP@50: 0.4287, FPS: 418.20, Epoch Time: 5.44 seconds\n",
      "Epoch 5/18, Train Loss: 169.2766, Val mAP@50: 0.4675, FPS: 417.61, Epoch Time: 5.49 seconds\n",
      "Epoch 6/18, Train Loss: 152.7145, Val mAP@50: 0.4055, FPS: 416.16, Epoch Time: 5.47 seconds\n",
      "Epoch 7/18, Train Loss: 131.7721, Val mAP@50: 0.4617, FPS: 418.40, Epoch Time: 5.49 seconds\n",
      "Epoch 8/18, Train Loss: 120.9193, Val mAP@50: 0.4211, FPS: 417.36, Epoch Time: 5.54 seconds\n",
      "Epoch 9/18, Train Loss: 109.5448, Val mAP@50: 0.4905, FPS: 417.77, Epoch Time: 5.58 seconds\n",
      "Epoch 10/18, Train Loss: 95.7222, Val mAP@50: 0.4034, FPS: 417.19, Epoch Time: 5.48 seconds\n",
      "Epoch 11/18, Train Loss: 84.6444, Val mAP@50: 0.4969, FPS: 416.80, Epoch Time: 5.49 seconds\n",
      "Epoch 12/18, Train Loss: 82.5151, Val mAP@50: 0.4605, FPS: 415.95, Epoch Time: 5.48 seconds\n",
      "Epoch 13/18, Train Loss: 70.1007, Val mAP@50: 0.4569, FPS: 406.48, Epoch Time: 5.56 seconds\n",
      "Epoch 14/18, Train Loss: 62.3786, Val mAP@50: 0.4783, FPS: 411.86, Epoch Time: 5.60 seconds\n",
      "Epoch 15/18, Train Loss: 59.9630, Val mAP@50: 0.3800, FPS: 412.93, Epoch Time: 5.53 seconds\n",
      "Epoch 16/18, Train Loss: 49.1404, Val mAP@50: 0.4647, FPS: 413.68, Epoch Time: 5.53 seconds\n",
      "Epoch 17/18, Train Loss: 44.8982, Val mAP@50: 0.4662, FPS: 414.32, Epoch Time: 5.52 seconds\n"
     ]
    },
    {
     "name": "stderr",
     "output_type": "stream",
     "text": [
      "[I 2025-01-26 21:52:09,153] Trial 53 finished with value: 0.4969477653503418 and parameters: {'batch_size': 4, 'epochs': 18, 'preweight_mode': 'fine_tuning', 'optimizer': 'Adam', 'lr': 0.0032563492380549546, 'beta1': 0.8951085797026672, 'beta2': 0.9643733620698351, 'scheduler': 'OneCycleLR', 'max_lr': 0.0098440908844358}. Best is trial 0 with value: 0.5111747980117798.\n"
     ]
    },
    {
     "name": "stdout",
     "output_type": "stream",
     "text": [
      "Epoch 18/18, Train Loss: 43.0154, Val mAP@50: 0.4332, FPS: 414.31, Epoch Time: 5.86 seconds\n",
      "Best Epoch: 10, Best Val mAP@50: 0.4969, Training Time: 99.48 seconds\n",
      "Model training complete.\n",
      "Checking Model: SSD\n",
      "Starting Trial #54\n",
      "{'batch_size': 4, 'epochs': 20, 'preweight_mode': 'fine_tuning', 'optimizer': 'Adam', 'lr': 0.0032206991130725652, 'beta1': 0.9295478132062092, 'beta2': 0.964570267467761, 'scheduler': 'OneCycleLR', 'max_lr': 0.006487536862731226}\n",
      "Epoch 1/20, Train Loss: 447.3620, Val mAP@50: 0.3704, FPS: 419.18, Epoch Time: 5.85 seconds\n",
      "Epoch 2/20, Train Loss: 299.9446, Val mAP@50: 0.3838, FPS: 418.18, Epoch Time: 5.57 seconds\n",
      "Epoch 3/20, Train Loss: 243.9893, Val mAP@50: 0.3996, FPS: 419.09, Epoch Time: 5.49 seconds\n",
      "Epoch 4/20, Train Loss: 210.9577, Val mAP@50: 0.4498, FPS: 418.00, Epoch Time: 5.49 seconds\n",
      "Epoch 5/20, Train Loss: 175.7764, Val mAP@50: 0.4477, FPS: 416.86, Epoch Time: 5.77 seconds\n",
      "Epoch 6/20, Train Loss: 156.8474, Val mAP@50: 0.4504, FPS: 420.71, Epoch Time: 5.83 seconds\n",
      "Epoch 7/20, Train Loss: 136.8606, Val mAP@50: 0.4070, FPS: 418.37, Epoch Time: 5.55 seconds\n",
      "Epoch 8/20, Train Loss: 120.3841, Val mAP@50: 0.4078, FPS: 418.60, Epoch Time: 5.47 seconds\n"
     ]
    },
    {
     "name": "stderr",
     "output_type": "stream",
     "text": [
      "[I 2025-01-26 21:53:00,067] Trial 54 pruned. \n"
     ]
    },
    {
     "name": "stdout",
     "output_type": "stream",
     "text": [
      "Trial pruned by Optuna at epoch 8.\n",
      "Checking Model: SSD\n",
      "Starting Trial #55\n",
      "{'batch_size': 4, 'epochs': 17, 'preweight_mode': 'fine_tuning', 'optimizer': 'Adam', 'lr': 0.004419021525633694, 'beta1': 0.9008788014444801, 'beta2': 0.9695709814285107, 'scheduler': 'OneCycleLR', 'max_lr': 0.003975237083005424}\n",
      "Epoch 1/17, Train Loss: 480.6907, Val mAP@50: 0.2911, FPS: 420.08, Epoch Time: 5.48 seconds\n",
      "Epoch 2/17, Train Loss: 328.6501, Val mAP@50: 0.3396, FPS: 418.41, Epoch Time: 5.49 seconds\n",
      "Epoch 3/17, Train Loss: 268.1051, Val mAP@50: 0.3938, FPS: 419.65, Epoch Time: 5.48 seconds\n",
      "Epoch 4/17, Train Loss: 235.4336, Val mAP@50: 0.4226, FPS: 418.16, Epoch Time: 5.48 seconds\n",
      "Epoch 5/17, Train Loss: 202.5205, Val mAP@50: 0.3672, FPS: 418.09, Epoch Time: 5.48 seconds\n"
     ]
    },
    {
     "name": "stderr",
     "output_type": "stream",
     "text": [
      "[I 2025-01-26 21:53:33,541] Trial 55 pruned. \n"
     ]
    },
    {
     "name": "stdout",
     "output_type": "stream",
     "text": [
      "Trial pruned by Optuna at epoch 5.\n",
      "Checking Model: SSD\n",
      "Starting Trial #56\n",
      "{'batch_size': 4, 'epochs': 15, 'preweight_mode': 'fine_tuning', 'optimizer': 'Adam', 'lr': 0.002165534945725761, 'beta1': 0.8797007757384393, 'beta2': 0.979536305713792, 'scheduler': 'StepLR', 'step_size': 4, 'gamma': 0.337382379711961}\n",
      "Epoch 1/15, Train Loss: 540.4481, Val mAP@50: 0.2723, FPS: 408.91, Epoch Time: 5.75 seconds\n",
      "Epoch 2/15, Train Loss: 413.1129, Val mAP@50: 0.3348, FPS: 408.20, Epoch Time: 5.73 seconds\n",
      "Epoch 3/15, Train Loss: 378.6832, Val mAP@50: 0.3745, FPS: 407.86, Epoch Time: 5.72 seconds\n",
      "Epoch 4/15, Train Loss: 328.5482, Val mAP@50: 0.4271, FPS: 407.71, Epoch Time: 5.72 seconds\n",
      "Epoch 5/15, Train Loss: 224.0104, Val mAP@50: 0.4061, FPS: 406.82, Epoch Time: 5.72 seconds\n",
      "Epoch 6/15, Train Loss: 178.6633, Val mAP@50: 0.4482, FPS: 409.18, Epoch Time: 5.73 seconds\n",
      "Epoch 7/15, Train Loss: 153.3110, Val mAP@50: 0.4513, FPS: 411.61, Epoch Time: 5.69 seconds\n",
      "Epoch 8/15, Train Loss: 146.7197, Val mAP@50: 0.4332, FPS: 410.38, Epoch Time: 5.69 seconds\n",
      "Epoch 9/15, Train Loss: 112.6766, Val mAP@50: 0.4656, FPS: 410.93, Epoch Time: 5.69 seconds\n",
      "Epoch 10/15, Train Loss: 93.3080, Val mAP@50: 0.4685, FPS: 411.27, Epoch Time: 5.68 seconds\n",
      "Epoch 11/15, Train Loss: 85.5682, Val mAP@50: 0.4652, FPS: 411.15, Epoch Time: 5.70 seconds\n",
      "Epoch 12/15, Train Loss: 79.9243, Val mAP@50: 0.4639, FPS: 409.23, Epoch Time: 6.08 seconds\n",
      "Epoch 13/15, Train Loss: 68.4394, Val mAP@50: 0.4565, FPS: 411.26, Epoch Time: 5.78 seconds\n",
      "Epoch 14/15, Train Loss: 64.5799, Val mAP@50: 0.4685, FPS: 410.56, Epoch Time: 5.69 seconds\n"
     ]
    },
    {
     "name": "stderr",
     "output_type": "stream",
     "text": [
      "[I 2025-01-26 21:55:00,092] Trial 56 finished with value: 0.46851569414138794 and parameters: {'batch_size': 4, 'epochs': 15, 'preweight_mode': 'fine_tuning', 'optimizer': 'Adam', 'lr': 0.002165534945725761, 'beta1': 0.8797007757384393, 'beta2': 0.979536305713792, 'scheduler': 'StepLR', 'step_size': 4, 'gamma': 0.337382379711961}. Best is trial 0 with value: 0.5111747980117798.\n"
     ]
    },
    {
     "name": "stdout",
     "output_type": "stream",
     "text": [
      "Epoch 15/15, Train Loss: 62.0867, Val mAP@50: 0.4665, FPS: 411.54, Epoch Time: 5.67 seconds\n",
      "Best Epoch: 9, Best Val mAP@50: 0.4685, Training Time: 86.05 seconds\n",
      "Model training complete.\n",
      "Checking Model: SSD\n",
      "Starting Trial #57\n",
      "{'batch_size': 4, 'epochs': 18, 'preweight_mode': 'fine_tuning', 'optimizer': 'SGD', 'lr': 0.0062104495457898, 'momentum': 0.9347651404866975, 'weight_decay': 2.408615206585611e-05, 'scheduler': 'OneCycleLR', 'max_lr': 0.007057044780675552}\n",
      "Epoch 1/18, Train Loss: 542.0336, Val mAP@50: 0.3036, FPS: 411.61, Epoch Time: 6.01 seconds\n",
      "Epoch 2/18, Train Loss: 384.5828, Val mAP@50: 0.2775, FPS: 411.14, Epoch Time: 5.68 seconds\n",
      "Epoch 3/18, Train Loss: 332.9696, Val mAP@50: 0.2969, FPS: 411.86, Epoch Time: 5.58 seconds\n",
      "Epoch 4/18, Train Loss: 302.1827, Val mAP@50: 0.3058, FPS: 404.19, Epoch Time: 5.68 seconds\n",
      "Epoch 5/18, Train Loss: 278.3925, Val mAP@50: 0.3343, FPS: 404.07, Epoch Time: 5.68 seconds\n"
     ]
    },
    {
     "name": "stderr",
     "output_type": "stream",
     "text": [
      "[I 2025-01-26 21:55:34,874] Trial 57 pruned. \n"
     ]
    },
    {
     "name": "stdout",
     "output_type": "stream",
     "text": [
      "Trial pruned by Optuna at epoch 5.\n",
      "Checking Model: SSD\n",
      "Starting Trial #58\n",
      "{'batch_size': 5, 'epochs': 19, 'preweight_mode': 'fine_tuning', 'optimizer': 'Adam', 'lr': 0.003247092632251086, 'beta1': 0.9638399999286693, 'beta2': 0.9607925317381735, 'scheduler': 'OneCycleLR', 'max_lr': 0.0021515375377566415}\n",
      "Epoch 1/19, Train Loss: 428.0613, Val mAP@50: 0.3111, FPS: 466.17, Epoch Time: 5.31 seconds\n",
      "Epoch 2/19, Train Loss: 304.9551, Val mAP@50: 0.3047, FPS: 466.64, Epoch Time: 5.28 seconds\n",
      "Epoch 3/19, Train Loss: 259.8097, Val mAP@50: 0.3561, FPS: 464.68, Epoch Time: 5.31 seconds\n",
      "Epoch 4/19, Train Loss: 225.4844, Val mAP@50: 0.3601, FPS: 465.12, Epoch Time: 5.30 seconds\n",
      "Epoch 5/19, Train Loss: 202.9793, Val mAP@50: 0.3855, FPS: 465.92, Epoch Time: 5.31 seconds\n"
     ]
    },
    {
     "name": "stderr",
     "output_type": "stream",
     "text": [
      "[I 2025-01-26 21:56:07,133] Trial 58 pruned. \n"
     ]
    },
    {
     "name": "stdout",
     "output_type": "stream",
     "text": [
      "Trial pruned by Optuna at epoch 5.\n",
      "Checking Model: SSD\n",
      "Starting Trial #59\n",
      "{'batch_size': 5, 'epochs': 17, 'preweight_mode': 'random', 'optimizer': 'AdamW', 'lr': 0.005357711796919217, 'weight_decay': 0.0020230491145934856, 'beta1': 0.9480102001360814, 'beta2': 0.9296216699742713, 'scheduler': 'OneCycleLR', 'max_lr': 0.0008427734777187711}\n",
      "Epoch 1/17, Train Loss: 922.1235, Val mAP@50: 0.0175, FPS: 465.64, Epoch Time: 5.62 seconds\n",
      "Epoch 2/17, Train Loss: 638.2373, Val mAP@50: 0.0388, FPS: 466.42, Epoch Time: 5.65 seconds\n",
      "Epoch 3/17, Train Loss: 572.1141, Val mAP@50: 0.0578, FPS: 465.94, Epoch Time: 5.52 seconds\n",
      "Epoch 4/17, Train Loss: 538.9713, Val mAP@50: 0.0700, FPS: 471.99, Epoch Time: 5.26 seconds\n",
      "Epoch 5/17, Train Loss: 513.9020, Val mAP@50: 0.0873, FPS: 472.72, Epoch Time: 5.24 seconds\n"
     ]
    },
    {
     "name": "stderr",
     "output_type": "stream",
     "text": [
      "[I 2025-01-26 21:56:40,149] Trial 59 pruned. \n"
     ]
    },
    {
     "name": "stdout",
     "output_type": "stream",
     "text": [
      "Trial pruned by Optuna at epoch 5.\n",
      "Checking Model: SSD\n",
      "Starting Trial #60\n",
      "{'batch_size': 4, 'epochs': 16, 'preweight_mode': 'fine_tuning', 'optimizer': 'RMSprop', 'lr': 0.0029502172272844623, 'weight_decay': 0.6848338258069633, 'momentum': 0.9598462031410736, 'scheduler': 'ReduceLROnPlateau', 'factor': 0.3916665847499334, 'patience': 4}\n",
      "Epoch 1/16, Train Loss: 3870.0496, Val mAP@50: 0.0018, FPS: 412.31, Epoch Time: 6.30 seconds\n",
      "Epoch 2/16, Train Loss: 768.9408, Val mAP@50: 0.0012, FPS: 410.44, Epoch Time: 5.68 seconds\n",
      "Epoch 3/16, Train Loss: 704.5558, Val mAP@50: 0.0000, FPS: 405.89, Epoch Time: 5.75 seconds\n",
      "Epoch 4/16, Train Loss: 705.3017, Val mAP@50: 0.0000, FPS: 404.81, Epoch Time: 5.69 seconds\n",
      "Epoch 5/16, Train Loss: 704.9988, Val mAP@50: 0.0058, FPS: 404.58, Epoch Time: 5.72 seconds\n"
     ]
    },
    {
     "name": "stderr",
     "output_type": "stream",
     "text": [
      "[I 2025-01-26 21:57:15,633] Trial 60 pruned. \n"
     ]
    },
    {
     "name": "stdout",
     "output_type": "stream",
     "text": [
      "Trial pruned by Optuna at epoch 5.\n",
      "Checking Model: SSD\n",
      "Starting Trial #61\n",
      "{'batch_size': 6, 'epochs': 18, 'preweight_mode': 'fine_tuning', 'optimizer': 'Adam', 'lr': 0.0005368616078050809, 'beta1': 0.8916925292906823, 'beta2': 0.9442528897386419, 'scheduler': 'OneCycleLR', 'max_lr': 0.009864856341690372}\n",
      "Epoch 1/18, Train Loss: 302.0356, Val mAP@50: 0.3869, FPS: 520.93, Epoch Time: 4.96 seconds\n",
      "Epoch 2/18, Train Loss: 197.9370, Val mAP@50: 0.3580, FPS: 522.04, Epoch Time: 4.93 seconds\n",
      "Epoch 3/18, Train Loss: 158.3374, Val mAP@50: 0.4123, FPS: 519.31, Epoch Time: 4.94 seconds\n",
      "Epoch 4/18, Train Loss: 132.1300, Val mAP@50: 0.4213, FPS: 524.06, Epoch Time: 4.95 seconds\n",
      "Epoch 5/18, Train Loss: 107.1356, Val mAP@50: 0.4362, FPS: 522.37, Epoch Time: 4.93 seconds\n",
      "Epoch 6/18, Train Loss: 95.9382, Val mAP@50: 0.4220, FPS: 521.61, Epoch Time: 4.93 seconds\n"
     ]
    },
    {
     "name": "stderr",
     "output_type": "stream",
     "text": [
      "[I 2025-01-26 21:57:50,601] Trial 61 pruned. \n"
     ]
    },
    {
     "name": "stdout",
     "output_type": "stream",
     "text": [
      "Trial pruned by Optuna at epoch 6.\n",
      "Checking Model: SSD\n",
      "Starting Trial #62\n",
      "{'batch_size': 6, 'epochs': 18, 'preweight_mode': 'fine_tuning', 'optimizer': 'Adam', 'lr': 0.0008225103890413634, 'beta1': 0.9158879820937615, 'beta2': 0.9347287501444914, 'scheduler': 'OneCycleLR', 'max_lr': 0.007092020799710532}\n",
      "Epoch 1/18, Train Loss: 306.3251, Val mAP@50: 0.4009, FPS: 523.76, Epoch Time: 4.93 seconds\n",
      "Epoch 2/18, Train Loss: 202.8892, Val mAP@50: 0.3997, FPS: 524.22, Epoch Time: 4.91 seconds\n",
      "Epoch 3/18, Train Loss: 161.0028, Val mAP@50: 0.4374, FPS: 523.63, Epoch Time: 4.95 seconds\n",
      "Epoch 4/18, Train Loss: 135.0517, Val mAP@50: 0.4120, FPS: 521.58, Epoch Time: 4.92 seconds\n",
      "Epoch 5/18, Train Loss: 116.7308, Val mAP@50: 0.4159, FPS: 523.96, Epoch Time: 4.90 seconds\n",
      "Epoch 6/18, Train Loss: 100.1404, Val mAP@50: 0.4394, FPS: 522.43, Epoch Time: 4.90 seconds\n",
      "Epoch 7/18, Train Loss: 86.2551, Val mAP@50: 0.4541, FPS: 523.56, Epoch Time: 4.90 seconds\n",
      "Epoch 8/18, Train Loss: 80.2158, Val mAP@50: 0.4456, FPS: 522.80, Epoch Time: 4.87 seconds\n",
      "Epoch 9/18, Train Loss: 71.5485, Val mAP@50: 0.4272, FPS: 522.83, Epoch Time: 4.88 seconds\n",
      "Epoch 10/18, Train Loss: 63.0122, Val mAP@50: 0.4523, FPS: 523.76, Epoch Time: 4.87 seconds\n",
      "Epoch 11/18, Train Loss: 57.0932, Val mAP@50: 0.4824, FPS: 522.78, Epoch Time: 4.90 seconds\n",
      "Epoch 12/18, Train Loss: 53.1097, Val mAP@50: 0.4559, FPS: 523.88, Epoch Time: 4.89 seconds\n",
      "Epoch 13/18, Train Loss: 49.0069, Val mAP@50: 0.4446, FPS: 522.37, Epoch Time: 4.88 seconds\n",
      "Epoch 14/18, Train Loss: 42.6722, Val mAP@50: 0.4383, FPS: 522.33, Epoch Time: 4.90 seconds\n",
      "Epoch 15/18, Train Loss: 39.9467, Val mAP@50: 0.4547, FPS: 520.75, Epoch Time: 4.89 seconds\n",
      "Epoch 16/18, Train Loss: 36.0344, Val mAP@50: 0.4651, FPS: 522.98, Epoch Time: 4.89 seconds\n",
      "Epoch 17/18, Train Loss: 32.7100, Val mAP@50: 0.4488, FPS: 518.30, Epoch Time: 4.94 seconds\n"
     ]
    },
    {
     "name": "stderr",
     "output_type": "stream",
     "text": [
      "[I 2025-01-26 21:59:19,307] Trial 62 finished with value: 0.4823683500289917 and parameters: {'batch_size': 6, 'epochs': 18, 'preweight_mode': 'fine_tuning', 'optimizer': 'Adam', 'lr': 0.0008225103890413634, 'beta1': 0.9158879820937615, 'beta2': 0.9347287501444914, 'scheduler': 'OneCycleLR', 'max_lr': 0.007092020799710532}. Best is trial 0 with value: 0.5111747980117798.\n"
     ]
    },
    {
     "name": "stdout",
     "output_type": "stream",
     "text": [
      "Epoch 18/18, Train Loss: 31.4955, Val mAP@50: 0.4642, FPS: 520.06, Epoch Time: 4.92 seconds\n",
      "Best Epoch: 10, Best Val mAP@50: 0.4824, Training Time: 88.26 seconds\n",
      "Model training complete.\n",
      "Checking Model: SSD\n",
      "Starting Trial #63\n",
      "{'batch_size': 7, 'epochs': 19, 'preweight_mode': 'fine_tuning', 'optimizer': 'Adam', 'lr': 0.003912842825993633, 'beta1': 0.9967624782720401, 'beta2': 0.9515358894738328, 'scheduler': 'OneCycleLR', 'max_lr': 0.004436376979661778}\n",
      "Epoch 1/19, Train Loss: 288.0819, Val mAP@50: 0.3081, FPS: 556.22, Epoch Time: 4.77 seconds\n",
      "Epoch 2/19, Train Loss: 193.1797, Val mAP@50: 0.3704, FPS: 554.79, Epoch Time: 4.92 seconds\n",
      "Epoch 3/19, Train Loss: 156.2063, Val mAP@50: 0.3837, FPS: 555.19, Epoch Time: 4.92 seconds\n",
      "Epoch 4/19, Train Loss: 133.3057, Val mAP@50: 0.3342, FPS: 555.70, Epoch Time: 4.89 seconds\n",
      "Epoch 5/19, Train Loss: 114.0508, Val mAP@50: 0.3877, FPS: 555.29, Epoch Time: 4.92 seconds\n"
     ]
    },
    {
     "name": "stderr",
     "output_type": "stream",
     "text": [
      "[I 2025-01-26 21:59:49,078] Trial 63 pruned. \n"
     ]
    },
    {
     "name": "stdout",
     "output_type": "stream",
     "text": [
      "Trial pruned by Optuna at epoch 5.\n",
      "Checking Model: SSD\n",
      "Starting Trial #64\n",
      "{'batch_size': 5, 'epochs': 18, 'preweight_mode': 'fine_tuning', 'optimizer': 'Adam', 'lr': 0.0017568611529063284, 'beta1': 0.8713953480337296, 'beta2': 0.9441617201900635, 'scheduler': 'OneCycleLR', 'max_lr': 0.007142704400849304}\n",
      "Epoch 1/18, Train Loss: 362.6045, Val mAP@50: 0.3503, FPS: 467.71, Epoch Time: 5.52 seconds\n",
      "Epoch 2/18, Train Loss: 244.4644, Val mAP@50: 0.4119, FPS: 463.04, Epoch Time: 5.35 seconds\n",
      "Epoch 3/18, Train Loss: 192.7459, Val mAP@50: 0.3913, FPS: 466.95, Epoch Time: 5.28 seconds\n",
      "Epoch 4/18, Train Loss: 161.2978, Val mAP@50: 0.4225, FPS: 469.35, Epoch Time: 5.28 seconds\n",
      "Epoch 5/18, Train Loss: 136.2762, Val mAP@50: 0.4462, FPS: 467.22, Epoch Time: 5.22 seconds\n",
      "Epoch 6/18, Train Loss: 118.4375, Val mAP@50: 0.4297, FPS: 468.04, Epoch Time: 5.20 seconds\n",
      "Epoch 7/18, Train Loss: 105.7056, Val mAP@50: 0.4301, FPS: 466.79, Epoch Time: 5.21 seconds\n",
      "Epoch 8/18, Train Loss: 91.9474, Val mAP@50: 0.4331, FPS: 467.81, Epoch Time: 5.19 seconds\n"
     ]
    },
    {
     "name": "stderr",
     "output_type": "stream",
     "text": [
      "[I 2025-01-26 22:00:36,984] Trial 64 pruned. \n"
     ]
    },
    {
     "name": "stdout",
     "output_type": "stream",
     "text": [
      "Trial pruned by Optuna at epoch 8.\n",
      "Checking Model: SSD\n",
      "Starting Trial #65\n",
      "{'batch_size': 7, 'epochs': 20, 'preweight_mode': 'fine_tuning', 'optimizer': 'Adam', 'lr': 0.00038094188210672006, 'beta1': 0.9009665346529828, 'beta2': 0.9487254266437686, 'scheduler': 'OneCycleLR', 'max_lr': 0.009952225164783873}\n",
      "Epoch 1/20, Train Loss: 267.3495, Val mAP@50: 0.3964, FPS: 556.37, Epoch Time: 4.72 seconds\n",
      "Epoch 2/20, Train Loss: 172.5620, Val mAP@50: 0.4183, FPS: 556.92, Epoch Time: 4.72 seconds\n",
      "Epoch 3/20, Train Loss: 136.5915, Val mAP@50: 0.3826, FPS: 555.83, Epoch Time: 4.69 seconds\n",
      "Epoch 4/20, Train Loss: 109.4408, Val mAP@50: 0.4249, FPS: 555.30, Epoch Time: 4.71 seconds\n",
      "Epoch 5/20, Train Loss: 92.4862, Val mAP@50: 0.4166, FPS: 556.15, Epoch Time: 4.70 seconds\n",
      "Epoch 6/20, Train Loss: 79.8167, Val mAP@50: 0.4390, FPS: 555.11, Epoch Time: 4.72 seconds\n",
      "Epoch 7/20, Train Loss: 71.5193, Val mAP@50: 0.4435, FPS: 550.79, Epoch Time: 4.73 seconds\n",
      "Epoch 8/20, Train Loss: 62.3947, Val mAP@50: 0.4635, FPS: 552.81, Epoch Time: 4.71 seconds\n",
      "Epoch 9/20, Train Loss: 57.3432, Val mAP@50: 0.4425, FPS: 555.30, Epoch Time: 4.70 seconds\n",
      "Epoch 10/20, Train Loss: 52.7779, Val mAP@50: 0.4837, FPS: 554.51, Epoch Time: 4.71 seconds\n",
      "Epoch 11/20, Train Loss: 45.2813, Val mAP@50: 0.4397, FPS: 551.90, Epoch Time: 4.69 seconds\n",
      "Epoch 12/20, Train Loss: 41.2430, Val mAP@50: 0.4620, FPS: 554.39, Epoch Time: 4.69 seconds\n",
      "Epoch 13/20, Train Loss: 36.5793, Val mAP@50: 0.4626, FPS: 553.20, Epoch Time: 4.70 seconds\n",
      "Epoch 14/20, Train Loss: 33.4340, Val mAP@50: 0.4744, FPS: 554.65, Epoch Time: 4.70 seconds\n",
      "Epoch 15/20, Train Loss: 31.9256, Val mAP@50: 0.4515, FPS: 553.22, Epoch Time: 4.70 seconds\n",
      "Epoch 16/20, Train Loss: 27.7764, Val mAP@50: 0.4721, FPS: 554.93, Epoch Time: 4.71 seconds\n",
      "Epoch 17/20, Train Loss: 24.7488, Val mAP@50: 0.4708, FPS: 553.93, Epoch Time: 4.70 seconds\n",
      "Epoch 18/20, Train Loss: 22.7111, Val mAP@50: 0.4676, FPS: 555.32, Epoch Time: 4.71 seconds\n",
      "Epoch 19/20, Train Loss: 23.1740, Val mAP@50: 0.4896, FPS: 554.88, Epoch Time: 4.75 seconds\n"
     ]
    },
    {
     "name": "stderr",
     "output_type": "stream",
     "text": [
      "[I 2025-01-26 22:02:11,607] Trial 65 finished with value: 0.4896366000175476 and parameters: {'batch_size': 7, 'epochs': 20, 'preweight_mode': 'fine_tuning', 'optimizer': 'Adam', 'lr': 0.00038094188210672006, 'beta1': 0.9009665346529828, 'beta2': 0.9487254266437686, 'scheduler': 'OneCycleLR', 'max_lr': 0.009952225164783873}. Best is trial 0 with value: 0.5111747980117798.\n"
     ]
    },
    {
     "name": "stdout",
     "output_type": "stream",
     "text": [
      "Epoch 20/20, Train Loss: 18.7892, Val mAP@50: 0.4676, FPS: 549.23, Epoch Time: 4.71 seconds\n",
      "Best Epoch: 18, Best Val mAP@50: 0.4896, Training Time: 94.17 seconds\n",
      "Model training complete.\n",
      "Checking Model: SSD\n",
      "Starting Trial #66\n",
      "{'batch_size': 7, 'epochs': 20, 'preweight_mode': 'freezing', 'optimizer': 'Adam', 'lr': 0.0003116427801023296, 'beta1': 0.8988456427378292, 'beta2': 0.9223616350670222, 'scheduler': 'OneCycleLR', 'max_lr': 0.00012885121706641977}\n",
      "Epoch 1/20, Train Loss: 478.6243, Val mAP@50: 0.0168, FPS: 555.11, Epoch Time: 4.86 seconds\n",
      "Epoch 2/20, Train Loss: 447.5663, Val mAP@50: 0.0201, FPS: 559.34, Epoch Time: 4.78 seconds\n",
      "Epoch 3/20, Train Loss: 416.7622, Val mAP@50: 0.0236, FPS: 559.54, Epoch Time: 4.91 seconds\n",
      "Epoch 4/20, Train Loss: 404.1377, Val mAP@50: 0.0315, FPS: 557.12, Epoch Time: 4.74 seconds\n",
      "Epoch 5/20, Train Loss: 386.3401, Val mAP@50: 0.0410, FPS: 551.64, Epoch Time: 4.70 seconds\n"
     ]
    },
    {
     "name": "stderr",
     "output_type": "stream",
     "text": [
      "[I 2025-01-26 22:02:40,646] Trial 66 pruned. \n"
     ]
    },
    {
     "name": "stdout",
     "output_type": "stream",
     "text": [
      "Trial pruned by Optuna at epoch 5.\n",
      "Checking Model: SSD\n",
      "Starting Trial #67\n",
      "{'batch_size': 7, 'epochs': 20, 'preweight_mode': 'fine_tuning', 'optimizer': 'Adam', 'lr': 0.0001712578523694773, 'beta1': 0.9149156171027136, 'beta2': 0.9633513227968925, 'scheduler': 'CosineAnnealingLR', 'T_max': 5, 'eta_min': 6.659574813347964e-07}\n",
      "Epoch 1/20, Train Loss: 283.8409, Val mAP@50: 0.3373, FPS: 557.61, Epoch Time: 4.74 seconds\n",
      "Epoch 2/20, Train Loss: 194.8416, Val mAP@50: 0.3622, FPS: 555.91, Epoch Time: 4.74 seconds\n",
      "Epoch 3/20, Train Loss: 162.5980, Val mAP@50: 0.3307, FPS: 556.31, Epoch Time: 4.71 seconds\n",
      "Epoch 4/20, Train Loss: 144.6874, Val mAP@50: 0.3834, FPS: 556.17, Epoch Time: 4.75 seconds\n",
      "Epoch 5/20, Train Loss: 131.6955, Val mAP@50: 0.3684, FPS: 555.87, Epoch Time: 4.88 seconds\n"
     ]
    },
    {
     "name": "stderr",
     "output_type": "stream",
     "text": [
      "[I 2025-01-26 22:03:09,894] Trial 67 pruned. \n"
     ]
    },
    {
     "name": "stdout",
     "output_type": "stream",
     "text": [
      "Trial pruned by Optuna at epoch 5.\n",
      "Checking Model: SSD\n",
      "Starting Trial #68\n",
      "{'batch_size': 8, 'epochs': 19, 'preweight_mode': 'fine_tuning', 'optimizer': 'Adam', 'lr': 0.00022756904485696239, 'beta1': 0.9374490402584158, 'beta2': 0.9491790038838529, 'scheduler': 'StepLR', 'step_size': 3, 'gamma': 0.05512531241434687}\n",
      "Epoch 1/19, Train Loss: 244.3281, Val mAP@50: 0.3121, FPS: 603.74, Epoch Time: 4.60 seconds\n",
      "Epoch 2/19, Train Loss: 162.2829, Val mAP@50: 0.3412, FPS: 599.42, Epoch Time: 4.57 seconds\n",
      "Epoch 3/19, Train Loss: 129.0679, Val mAP@50: 0.3457, FPS: 604.47, Epoch Time: 4.55 seconds\n",
      "Epoch 4/19, Train Loss: 107.0919, Val mAP@50: 0.3844, FPS: 602.71, Epoch Time: 4.57 seconds\n",
      "Epoch 5/19, Train Loss: 102.8265, Val mAP@50: 0.3777, FPS: 601.23, Epoch Time: 4.54 seconds\n"
     ]
    },
    {
     "name": "stderr",
     "output_type": "stream",
     "text": [
      "[I 2025-01-26 22:03:37,758] Trial 68 pruned. \n"
     ]
    },
    {
     "name": "stdout",
     "output_type": "stream",
     "text": [
      "Trial pruned by Optuna at epoch 5.\n",
      "Checking Model: SSD\n",
      "Starting Trial #69\n",
      "{'batch_size': 8, 'epochs': 20, 'preweight_mode': 'fine_tuning', 'optimizer': 'Adam', 'lr': 0.0003607332630878492, 'beta1': 0.9016898609970863, 'beta2': 0.9864752436214731, 'scheduler': 'OneCycleLR', 'max_lr': 0.0051070944030765855}\n",
      "Epoch 1/20, Train Loss: 245.3509, Val mAP@50: 0.2497, FPS: 602.50, Epoch Time: 4.55 seconds\n",
      "Epoch 2/20, Train Loss: 165.1249, Val mAP@50: 0.3735, FPS: 601.78, Epoch Time: 4.56 seconds\n",
      "Epoch 3/20, Train Loss: 136.2111, Val mAP@50: 0.3879, FPS: 604.59, Epoch Time: 4.55 seconds\n",
      "Epoch 4/20, Train Loss: 116.4414, Val mAP@50: 0.4087, FPS: 602.55, Epoch Time: 4.57 seconds\n",
      "Epoch 5/20, Train Loss: 98.9408, Val mAP@50: 0.3999, FPS: 601.12, Epoch Time: 4.56 seconds\n"
     ]
    },
    {
     "name": "stderr",
     "output_type": "stream",
     "text": [
      "[I 2025-01-26 22:04:05,514] Trial 69 pruned. \n"
     ]
    },
    {
     "name": "stdout",
     "output_type": "stream",
     "text": [
      "Trial pruned by Optuna at epoch 5.\n",
      "Checking Model: SSD\n",
      "Starting Trial #70\n",
      "{'batch_size': 7, 'epochs': 19, 'preweight_mode': 'fine_tuning', 'optimizer': 'Adam', 'lr': 0.0021477941455559806, 'beta1': 0.9530050092662883, 'beta2': 0.9109445287944091, 'scheduler': 'CosineAnnealingLR', 'T_max': 8, 'eta_min': 3.740402164582266e-07}\n",
      "Epoch 1/19, Train Loss: 336.2394, Val mAP@50: 0.0374, FPS: 555.72, Epoch Time: 4.85 seconds\n",
      "Epoch 2/19, Train Loss: 241.8390, Val mAP@50: 0.4250, FPS: 553.41, Epoch Time: 4.80 seconds\n",
      "Epoch 3/19, Train Loss: 191.5583, Val mAP@50: 0.3814, FPS: 554.24, Epoch Time: 4.75 seconds\n",
      "Epoch 4/19, Train Loss: 154.6083, Val mAP@50: 0.4189, FPS: 553.26, Epoch Time: 4.76 seconds\n",
      "Epoch 5/19, Train Loss: 122.2151, Val mAP@50: 0.4072, FPS: 554.25, Epoch Time: 4.75 seconds\n"
     ]
    },
    {
     "name": "stderr",
     "output_type": "stream",
     "text": [
      "[I 2025-01-26 22:04:34,641] Trial 70 pruned. \n"
     ]
    },
    {
     "name": "stdout",
     "output_type": "stream",
     "text": [
      "Trial pruned by Optuna at epoch 5.\n",
      "Checking Model: SSD\n",
      "Starting Trial #71\n",
      "{'batch_size': 6, 'epochs': 17, 'preweight_mode': 'fine_tuning', 'optimizer': 'Adam', 'lr': 0.0007173177203597108, 'beta1': 0.8884073616951198, 'beta2': 0.9361878790341961, 'scheduler': 'OneCycleLR', 'max_lr': 0.008856806488880258}\n",
      "Epoch 1/17, Train Loss: 300.8396, Val mAP@50: 0.3884, FPS: 522.60, Epoch Time: 5.01 seconds\n",
      "Epoch 2/17, Train Loss: 197.4868, Val mAP@50: 0.4037, FPS: 521.46, Epoch Time: 4.98 seconds\n",
      "Epoch 3/17, Train Loss: 153.7805, Val mAP@50: 0.4224, FPS: 522.98, Epoch Time: 5.15 seconds\n",
      "Epoch 4/17, Train Loss: 131.1250, Val mAP@50: 0.4413, FPS: 522.15, Epoch Time: 5.08 seconds\n",
      "Epoch 5/17, Train Loss: 109.3044, Val mAP@50: 0.4213, FPS: 519.45, Epoch Time: 4.99 seconds\n",
      "Epoch 6/17, Train Loss: 97.9097, Val mAP@50: 0.4559, FPS: 521.61, Epoch Time: 5.02 seconds\n",
      "Epoch 7/17, Train Loss: 84.4757, Val mAP@50: 0.4469, FPS: 519.88, Epoch Time: 5.01 seconds\n",
      "Epoch 8/17, Train Loss: 78.4653, Val mAP@50: 0.4516, FPS: 522.72, Epoch Time: 4.98 seconds\n",
      "Epoch 9/17, Train Loss: 70.6995, Val mAP@50: 0.4401, FPS: 523.87, Epoch Time: 4.95 seconds\n",
      "Epoch 10/17, Train Loss: 61.1799, Val mAP@50: 0.4496, FPS: 520.46, Epoch Time: 4.99 seconds\n",
      "Epoch 11/17, Train Loss: 58.5796, Val mAP@50: 0.4651, FPS: 521.96, Epoch Time: 4.99 seconds\n",
      "Epoch 12/17, Train Loss: 50.2535, Val mAP@50: 0.4645, FPS: 520.22, Epoch Time: 4.97 seconds\n",
      "Epoch 13/17, Train Loss: 46.2547, Val mAP@50: 0.4516, FPS: 519.34, Epoch Time: 4.98 seconds\n",
      "Epoch 14/17, Train Loss: 41.7695, Val mAP@50: 0.4702, FPS: 519.65, Epoch Time: 4.98 seconds\n",
      "Epoch 15/17, Train Loss: 37.3554, Val mAP@50: 0.4798, FPS: 521.87, Epoch Time: 4.99 seconds\n",
      "Epoch 16/17, Train Loss: 34.0601, Val mAP@50: 0.4783, FPS: 522.67, Epoch Time: 4.97 seconds\n"
     ]
    },
    {
     "name": "stderr",
     "output_type": "stream",
     "text": [
      "[I 2025-01-26 22:06:00,083] Trial 71 finished with value: 0.4798150360584259 and parameters: {'batch_size': 6, 'epochs': 17, 'preweight_mode': 'fine_tuning', 'optimizer': 'Adam', 'lr': 0.0007173177203597108, 'beta1': 0.8884073616951198, 'beta2': 0.9361878790341961, 'scheduler': 'OneCycleLR', 'max_lr': 0.008856806488880258}. Best is trial 0 with value: 0.5111747980117798.\n"
     ]
    },
    {
     "name": "stdout",
     "output_type": "stream",
     "text": [
      "Epoch 17/17, Train Loss: 29.4597, Val mAP@50: 0.4781, FPS: 522.33, Epoch Time: 4.96 seconds\n",
      "Best Epoch: 14, Best Val mAP@50: 0.4798, Training Time: 84.98 seconds\n",
      "Model training complete.\n",
      "Checking Model: SSD\n",
      "Starting Trial #72\n",
      "{'batch_size': 7, 'epochs': 18, 'preweight_mode': 'fine_tuning', 'optimizer': 'Adam', 'lr': 0.0005570080389677297, 'beta1': 0.9244628931333485, 'beta2': 0.9564390695310042, 'scheduler': 'OneCycleLR', 'max_lr': 0.0074955851774428485}\n",
      "Epoch 1/18, Train Loss: 267.3157, Val mAP@50: 0.3307, FPS: 556.68, Epoch Time: 4.75 seconds\n",
      "Epoch 2/18, Train Loss: 171.6346, Val mAP@50: 0.3576, FPS: 556.84, Epoch Time: 4.74 seconds\n",
      "Epoch 3/18, Train Loss: 138.5335, Val mAP@50: 0.4125, FPS: 556.75, Epoch Time: 4.76 seconds\n",
      "Epoch 4/18, Train Loss: 113.0359, Val mAP@50: 0.4162, FPS: 555.88, Epoch Time: 4.75 seconds\n",
      "Epoch 5/18, Train Loss: 95.8788, Val mAP@50: 0.4605, FPS: 554.19, Epoch Time: 4.77 seconds\n",
      "Epoch 6/18, Train Loss: 82.6374, Val mAP@50: 0.4720, FPS: 555.96, Epoch Time: 4.75 seconds\n",
      "Epoch 7/18, Train Loss: 73.8161, Val mAP@50: 0.4542, FPS: 555.75, Epoch Time: 4.74 seconds\n",
      "Epoch 8/18, Train Loss: 67.9436, Val mAP@50: 0.4472, FPS: 559.49, Epoch Time: 4.73 seconds\n",
      "Epoch 9/18, Train Loss: 60.5365, Val mAP@50: 0.4440, FPS: 561.04, Epoch Time: 4.70 seconds\n",
      "Epoch 10/18, Train Loss: 55.4567, Val mAP@50: 0.4488, FPS: 559.85, Epoch Time: 4.73 seconds\n",
      "Epoch 11/18, Train Loss: 50.6262, Val mAP@50: 0.4613, FPS: 558.96, Epoch Time: 4.74 seconds\n",
      "Epoch 12/18, Train Loss: 45.2897, Val mAP@50: 0.4707, FPS: 557.14, Epoch Time: 4.73 seconds\n",
      "Epoch 13/18, Train Loss: 43.0354, Val mAP@50: 0.4792, FPS: 559.96, Epoch Time: 4.72 seconds\n",
      "Epoch 14/18, Train Loss: 38.3610, Val mAP@50: 0.4452, FPS: 559.17, Epoch Time: 4.91 seconds\n",
      "Epoch 15/18, Train Loss: 33.3370, Val mAP@50: 0.4701, FPS: 555.42, Epoch Time: 5.00 seconds\n",
      "Epoch 16/18, Train Loss: 32.2421, Val mAP@50: 0.4727, FPS: 560.83, Epoch Time: 4.99 seconds\n",
      "Epoch 17/18, Train Loss: 27.7523, Val mAP@50: 0.4879, FPS: 558.34, Epoch Time: 4.80 seconds\n"
     ]
    },
    {
     "name": "stderr",
     "output_type": "stream",
     "text": [
      "[I 2025-01-26 22:07:26,610] Trial 72 finished with value: 0.48785078525543213 and parameters: {'batch_size': 7, 'epochs': 18, 'preweight_mode': 'fine_tuning', 'optimizer': 'Adam', 'lr': 0.0005570080389677297, 'beta1': 0.9244628931333485, 'beta2': 0.9564390695310042, 'scheduler': 'OneCycleLR', 'max_lr': 0.0074955851774428485}. Best is trial 0 with value: 0.5111747980117798.\n"
     ]
    },
    {
     "name": "stdout",
     "output_type": "stream",
     "text": [
      "Epoch 18/18, Train Loss: 24.4072, Val mAP@50: 0.4694, FPS: 557.60, Epoch Time: 4.75 seconds\n",
      "Best Epoch: 16, Best Val mAP@50: 0.4879, Training Time: 86.07 seconds\n",
      "Model training complete.\n",
      "Checking Model: SSD\n",
      "Starting Trial #73\n",
      "{'batch_size': 7, 'epochs': 16, 'preweight_mode': 'fine_tuning', 'optimizer': 'Adam', 'lr': 0.00038624951222314874, 'beta1': 0.9240036298244282, 'beta2': 0.958174682358882, 'scheduler': 'OneCycleLR', 'max_lr': 0.007102644700848421}\n",
      "Epoch 1/16, Train Loss: 267.2784, Val mAP@50: 0.3536, FPS: 563.37, Epoch Time: 4.74 seconds\n",
      "Epoch 2/16, Train Loss: 176.6204, Val mAP@50: 0.3979, FPS: 562.82, Epoch Time: 4.75 seconds\n",
      "Epoch 3/16, Train Loss: 139.3667, Val mAP@50: 0.3717, FPS: 561.55, Epoch Time: 4.72 seconds\n",
      "Epoch 4/16, Train Loss: 116.6060, Val mAP@50: 0.3833, FPS: 563.86, Epoch Time: 4.70 seconds\n",
      "Epoch 5/16, Train Loss: 98.1025, Val mAP@50: 0.4030, FPS: 563.32, Epoch Time: 4.72 seconds\n"
     ]
    },
    {
     "name": "stderr",
     "output_type": "stream",
     "text": [
      "[I 2025-01-26 22:07:55,373] Trial 73 pruned. \n"
     ]
    },
    {
     "name": "stdout",
     "output_type": "stream",
     "text": [
      "Trial pruned by Optuna at epoch 5.\n",
      "Checking Model: SSD\n",
      "Starting Trial #74\n",
      "{'batch_size': 7, 'epochs': 19, 'preweight_mode': 'fine_tuning', 'optimizer': 'Adam', 'lr': 0.00045108213777693434, 'beta1': 0.9342847143881619, 'beta2': 0.9681392259434863, 'scheduler': 'OneCycleLR', 'max_lr': 0.007500637314831271}\n",
      "Epoch 1/19, Train Loss: 271.7765, Val mAP@50: 0.3619, FPS: 554.48, Epoch Time: 4.74 seconds\n",
      "Epoch 2/19, Train Loss: 174.0934, Val mAP@50: 0.3765, FPS: 562.95, Epoch Time: 4.72 seconds\n",
      "Epoch 3/19, Train Loss: 139.1074, Val mAP@50: 0.4055, FPS: 563.07, Epoch Time: 4.71 seconds\n",
      "Epoch 4/19, Train Loss: 112.6200, Val mAP@50: 0.4080, FPS: 562.89, Epoch Time: 4.73 seconds\n",
      "Epoch 5/19, Train Loss: 99.4295, Val mAP@50: 0.3697, FPS: 560.36, Epoch Time: 4.70 seconds\n"
     ]
    },
    {
     "name": "stderr",
     "output_type": "stream",
     "text": [
      "[I 2025-01-26 22:08:24,116] Trial 74 pruned. \n"
     ]
    },
    {
     "name": "stdout",
     "output_type": "stream",
     "text": [
      "Trial pruned by Optuna at epoch 5.\n",
      "Checking Model: SSD\n",
      "Starting Trial #75\n",
      "{'batch_size': 7, 'epochs': 18, 'preweight_mode': 'random', 'optimizer': 'AdamW', 'lr': 0.0004565787741524237, 'weight_decay': 0.00458435069871414, 'beta1': 0.9097538594731179, 'beta2': 0.9485310921916501, 'scheduler': 'OneCycleLR', 'max_lr': 0.00807778495765919}\n",
      "Epoch 1/18, Train Loss: 476.2145, Val mAP@50: 0.0812, FPS: 572.79, Epoch Time: 4.66 seconds\n",
      "Epoch 2/18, Train Loss: 339.2946, Val mAP@50: 0.2000, FPS: 575.92, Epoch Time: 4.75 seconds\n",
      "Epoch 3/18, Train Loss: 274.8538, Val mAP@50: 0.2682, FPS: 556.94, Epoch Time: 5.02 seconds\n",
      "Epoch 4/18, Train Loss: 229.3029, Val mAP@50: 0.3173, FPS: 556.04, Epoch Time: 5.02 seconds\n",
      "Epoch 5/18, Train Loss: 193.6843, Val mAP@50: 0.3741, FPS: 556.27, Epoch Time: 5.01 seconds\n"
     ]
    },
    {
     "name": "stderr",
     "output_type": "stream",
     "text": [
      "[I 2025-01-26 22:08:54,041] Trial 75 pruned. \n"
     ]
    },
    {
     "name": "stdout",
     "output_type": "stream",
     "text": [
      "Trial pruned by Optuna at epoch 5.\n",
      "Checking Model: SSD\n",
      "Starting Trial #76\n",
      "{'batch_size': 7, 'epochs': 17, 'preweight_mode': 'fine_tuning', 'optimizer': 'Adam', 'lr': 0.0014581381008312365, 'beta1': 0.9667518280992624, 'beta2': 0.9529604223035154, 'scheduler': 'OneCycleLR', 'max_lr': 0.009926769590988514}\n",
      "Epoch 1/17, Train Loss: 259.9856, Val mAP@50: 0.4071, FPS: 551.62, Epoch Time: 4.88 seconds\n",
      "Epoch 2/17, Train Loss: 170.1788, Val mAP@50: 0.3975, FPS: 555.31, Epoch Time: 4.78 seconds\n",
      "Epoch 3/17, Train Loss: 136.5414, Val mAP@50: 0.4160, FPS: 553.32, Epoch Time: 4.80 seconds\n",
      "Epoch 4/17, Train Loss: 110.4144, Val mAP@50: 0.4370, FPS: 555.33, Epoch Time: 4.80 seconds\n",
      "Epoch 5/17, Train Loss: 91.9508, Val mAP@50: 0.3988, FPS: 553.03, Epoch Time: 4.77 seconds\n"
     ]
    },
    {
     "name": "stderr",
     "output_type": "stream",
     "text": [
      "[I 2025-01-26 22:09:23,276] Trial 76 pruned. \n"
     ]
    },
    {
     "name": "stdout",
     "output_type": "stream",
     "text": [
      "Trial pruned by Optuna at epoch 5.\n",
      "Checking Model: SSD\n",
      "Starting Trial #77\n",
      "{'batch_size': 8, 'epochs': 19, 'preweight_mode': 'fine_tuning', 'optimizer': 'Adam', 'lr': 0.0005898067402315678, 'beta1': 0.9876713379402339, 'beta2': 0.9574693929874097, 'scheduler': 'OneCycleLR', 'max_lr': 0.005898705913542277}\n",
      "Epoch 1/19, Train Loss: 242.1316, Val mAP@50: 0.3048, FPS: 611.86, Epoch Time: 4.70 seconds\n",
      "Epoch 2/19, Train Loss: 158.7498, Val mAP@50: 0.4031, FPS: 611.04, Epoch Time: 4.77 seconds\n",
      "Epoch 3/19, Train Loss: 129.9323, Val mAP@50: 0.4030, FPS: 614.29, Epoch Time: 4.58 seconds\n",
      "Epoch 4/19, Train Loss: 106.0735, Val mAP@50: 0.4118, FPS: 607.12, Epoch Time: 4.71 seconds\n",
      "Epoch 5/19, Train Loss: 91.2514, Val mAP@50: 0.3502, FPS: 608.85, Epoch Time: 4.75 seconds\n"
     ]
    },
    {
     "name": "stderr",
     "output_type": "stream",
     "text": [
      "[I 2025-01-26 22:09:51,849] Trial 77 pruned. \n"
     ]
    },
    {
     "name": "stdout",
     "output_type": "stream",
     "text": [
      "Trial pruned by Optuna at epoch 5.\n",
      "Checking Model: SSD\n",
      "Starting Trial #78\n",
      "{'batch_size': 7, 'epochs': 18, 'preweight_mode': 'freezing', 'optimizer': 'RMSprop', 'lr': 0.001153839595937464, 'weight_decay': 0.3018233365500979, 'momentum': 0.9228373860745119, 'scheduler': 'CosineAnnealingLR', 'T_max': 6, 'eta_min': 1.968784173282563e-06}\n",
      "Epoch 1/18, Train Loss: 831.5513, Val mAP@50: 0.0836, FPS: 559.72, Epoch Time: 4.23 seconds\n",
      "Epoch 2/18, Train Loss: 596.3130, Val mAP@50: 0.1224, FPS: 562.14, Epoch Time: 4.26 seconds\n",
      "Epoch 3/18, Train Loss: 519.3665, Val mAP@50: 0.0827, FPS: 561.06, Epoch Time: 4.23 seconds\n",
      "Epoch 4/18, Train Loss: 482.7170, Val mAP@50: 0.0858, FPS: 555.98, Epoch Time: 4.23 seconds\n",
      "Epoch 5/18, Train Loss: 425.0900, Val mAP@50: 0.1167, FPS: 558.98, Epoch Time: 4.17 seconds\n"
     ]
    },
    {
     "name": "stderr",
     "output_type": "stream",
     "text": [
      "[I 2025-01-26 22:10:17,535] Trial 78 pruned. \n"
     ]
    },
    {
     "name": "stdout",
     "output_type": "stream",
     "text": [
      "Trial pruned by Optuna at epoch 5.\n",
      "Checking Model: SSD\n",
      "Starting Trial #79\n",
      "{'batch_size': 5, 'epochs': 20, 'preweight_mode': 'fine_tuning', 'optimizer': 'SGD', 'lr': 0.007045976849827247, 'momentum': 0.9866221649693389, 'weight_decay': 0.0004352793018517595, 'scheduler': 'OneCycleLR', 'max_lr': 0.0038271678689728553}\n",
      "Epoch 1/20, Train Loss: 486.7612, Val mAP@50: 0.2653, FPS: 458.37, Epoch Time: 5.33 seconds\n",
      "Epoch 2/20, Train Loss: 359.5472, Val mAP@50: 0.3264, FPS: 469.19, Epoch Time: 5.20 seconds\n",
      "Epoch 3/20, Train Loss: 320.7497, Val mAP@50: 0.3648, FPS: 466.95, Epoch Time: 5.18 seconds\n",
      "Epoch 4/20, Train Loss: 293.9448, Val mAP@50: 0.3569, FPS: 467.29, Epoch Time: 5.21 seconds\n",
      "Epoch 5/20, Train Loss: 275.5390, Val mAP@50: 0.3714, FPS: 467.07, Epoch Time: 5.23 seconds\n"
     ]
    },
    {
     "name": "stderr",
     "output_type": "stream",
     "text": [
      "[I 2025-01-26 22:10:49,296] Trial 79 pruned. \n"
     ]
    },
    {
     "name": "stdout",
     "output_type": "stream",
     "text": [
      "Trial pruned by Optuna at epoch 5.\n",
      "Checking Model: SSD\n",
      "Starting Trial #80\n",
      "{'batch_size': 7, 'epochs': 15, 'preweight_mode': 'fine_tuning', 'optimizer': 'Adam', 'lr': 0.00023100736981671897, 'beta1': 0.9246391541770189, 'beta2': 0.9324196507880589, 'scheduler': 'OneCycleLR', 'max_lr': 0.007505531546925194}\n",
      "Epoch 1/15, Train Loss: 277.3403, Val mAP@50: 0.3783, FPS: 553.36, Epoch Time: 4.78 seconds\n",
      "Epoch 2/15, Train Loss: 181.2257, Val mAP@50: 0.4131, FPS: 553.10, Epoch Time: 4.76 seconds\n",
      "Epoch 3/15, Train Loss: 144.9066, Val mAP@50: 0.4100, FPS: 554.12, Epoch Time: 4.76 seconds\n",
      "Epoch 4/15, Train Loss: 114.5724, Val mAP@50: 0.4572, FPS: 552.87, Epoch Time: 4.77 seconds\n",
      "Epoch 5/15, Train Loss: 95.7822, Val mAP@50: 0.3746, FPS: 551.24, Epoch Time: 4.76 seconds\n",
      "Epoch 6/15, Train Loss: 84.2193, Val mAP@50: 0.4321, FPS: 552.21, Epoch Time: 4.75 seconds\n",
      "Epoch 7/15, Train Loss: 75.6028, Val mAP@50: 0.4645, FPS: 553.10, Epoch Time: 4.78 seconds\n",
      "Epoch 8/15, Train Loss: 66.7800, Val mAP@50: 0.4406, FPS: 552.77, Epoch Time: 4.77 seconds\n",
      "Epoch 9/15, Train Loss: 62.2358, Val mAP@50: 0.4475, FPS: 551.15, Epoch Time: 4.75 seconds\n",
      "Epoch 10/15, Train Loss: 54.7287, Val mAP@50: 0.4804, FPS: 562.29, Epoch Time: 4.73 seconds\n",
      "Epoch 11/15, Train Loss: 50.1479, Val mAP@50: 0.4444, FPS: 563.74, Epoch Time: 4.70 seconds\n",
      "Epoch 12/15, Train Loss: 44.1702, Val mAP@50: 0.4743, FPS: 561.92, Epoch Time: 4.70 seconds\n",
      "Epoch 13/15, Train Loss: 41.7900, Val mAP@50: 0.4715, FPS: 558.71, Epoch Time: 4.73 seconds\n",
      "Epoch 14/15, Train Loss: 36.8547, Val mAP@50: 0.4787, FPS: 561.88, Epoch Time: 4.70 seconds\n"
     ]
    },
    {
     "name": "stderr",
     "output_type": "stream",
     "text": [
      "[I 2025-01-26 22:12:00,929] Trial 80 finished with value: 0.49307146668434143 and parameters: {'batch_size': 7, 'epochs': 15, 'preweight_mode': 'fine_tuning', 'optimizer': 'Adam', 'lr': 0.00023100736981671897, 'beta1': 0.9246391541770189, 'beta2': 0.9324196507880589, 'scheduler': 'OneCycleLR', 'max_lr': 0.007505531546925194}. Best is trial 0 with value: 0.5111747980117798.\n"
     ]
    },
    {
     "name": "stdout",
     "output_type": "stream",
     "text": [
      "Epoch 15/15, Train Loss: 36.1534, Val mAP@50: 0.4931, FPS: 561.21, Epoch Time: 4.74 seconds\n",
      "Best Epoch: 14, Best Val mAP@50: 0.4931, Training Time: 71.17 seconds\n",
      "Model training complete.\n",
      "Checking Model: SSD\n",
      "Starting Trial #81\n",
      "{'batch_size': 7, 'epochs': 16, 'preweight_mode': 'fine_tuning', 'optimizer': 'Adam', 'lr': 0.00022022211111756847, 'beta1': 0.9186980104017106, 'beta2': 0.924914564783921, 'scheduler': 'OneCycleLR', 'max_lr': 0.007897930963649508}\n",
      "Epoch 1/16, Train Loss: 264.6547, Val mAP@50: 0.3714, FPS: 564.14, Epoch Time: 4.73 seconds\n",
      "Epoch 2/16, Train Loss: 170.0145, Val mAP@50: 0.3687, FPS: 562.79, Epoch Time: 4.71 seconds\n",
      "Epoch 3/16, Train Loss: 135.2880, Val mAP@50: 0.3942, FPS: 560.60, Epoch Time: 4.77 seconds\n",
      "Epoch 4/16, Train Loss: 108.5673, Val mAP@50: 0.4205, FPS: 565.12, Epoch Time: 4.71 seconds\n",
      "Epoch 5/16, Train Loss: 95.0402, Val mAP@50: 0.4044, FPS: 562.95, Epoch Time: 4.84 seconds\n"
     ]
    },
    {
     "name": "stderr",
     "output_type": "stream",
     "text": [
      "[I 2025-01-26 22:12:30,065] Trial 81 pruned. \n"
     ]
    },
    {
     "name": "stdout",
     "output_type": "stream",
     "text": [
      "Trial pruned by Optuna at epoch 5.\n",
      "Checking Model: SSD\n",
      "Starting Trial #82\n",
      "{'batch_size': 7, 'epochs': 14, 'preweight_mode': 'fine_tuning', 'optimizer': 'Adam', 'lr': 0.00015231157623845786, 'beta1': 0.9254739318343473, 'beta2': 0.9303553018917827, 'scheduler': 'OneCycleLR', 'max_lr': 0.007957117204104726}\n",
      "Epoch 1/14, Train Loss: 264.8826, Val mAP@50: 0.3758, FPS: 560.45, Epoch Time: 4.83 seconds\n",
      "Epoch 2/14, Train Loss: 172.8055, Val mAP@50: 0.3893, FPS: 564.50, Epoch Time: 4.70 seconds\n",
      "Epoch 3/14, Train Loss: 138.9037, Val mAP@50: 0.4029, FPS: 564.67, Epoch Time: 4.71 seconds\n",
      "Epoch 4/14, Train Loss: 109.7228, Val mAP@50: 0.4289, FPS: 564.93, Epoch Time: 4.71 seconds\n",
      "Epoch 5/14, Train Loss: 93.8014, Val mAP@50: 0.4075, FPS: 562.31, Epoch Time: 4.72 seconds\n",
      "Epoch 6/14, Train Loss: 80.9460, Val mAP@50: 0.4472, FPS: 563.38, Epoch Time: 4.71 seconds\n",
      "Epoch 7/14, Train Loss: 73.3041, Val mAP@50: 0.4095, FPS: 554.70, Epoch Time: 4.74 seconds\n",
      "Epoch 8/14, Train Loss: 63.7001, Val mAP@50: 0.4271, FPS: 562.46, Epoch Time: 4.73 seconds\n"
     ]
    },
    {
     "name": "stderr",
     "output_type": "stream",
     "text": [
      "[I 2025-01-26 22:13:13,050] Trial 82 pruned. \n"
     ]
    },
    {
     "name": "stdout",
     "output_type": "stream",
     "text": [
      "Trial pruned by Optuna at epoch 8.\n",
      "Checking Model: SSD\n",
      "Starting Trial #83\n",
      "{'batch_size': 7, 'epochs': 15, 'preweight_mode': 'fine_tuning', 'optimizer': 'Adam', 'lr': 0.0003383677172624636, 'beta1': 0.9494841986332038, 'beta2': 0.9416111455270074, 'scheduler': 'OneCycleLR', 'max_lr': 0.005610248452468204}\n",
      "Epoch 1/15, Train Loss: 275.5833, Val mAP@50: 0.3509, FPS: 564.53, Epoch Time: 4.71 seconds\n",
      "Epoch 2/15, Train Loss: 186.6893, Val mAP@50: 0.3788, FPS: 564.22, Epoch Time: 4.72 seconds\n",
      "Epoch 3/15, Train Loss: 149.5759, Val mAP@50: 0.3863, FPS: 563.28, Epoch Time: 4.70 seconds\n",
      "Epoch 4/15, Train Loss: 123.3432, Val mAP@50: 0.3813, FPS: 562.19, Epoch Time: 4.68 seconds\n",
      "Epoch 5/15, Train Loss: 105.6815, Val mAP@50: 0.3819, FPS: 562.90, Epoch Time: 4.67 seconds\n"
     ]
    },
    {
     "name": "stderr",
     "output_type": "stream",
     "text": [
      "[I 2025-01-26 22:13:41,684] Trial 83 pruned. \n"
     ]
    },
    {
     "name": "stdout",
     "output_type": "stream",
     "text": [
      "Trial pruned by Optuna at epoch 5.\n",
      "Checking Model: SSD\n",
      "Starting Trial #84\n",
      "{'batch_size': 7, 'epochs': 15, 'preweight_mode': 'fine_tuning', 'optimizer': 'Adam', 'lr': 0.0002542399566726216, 'beta1': 0.9062140858148894, 'beta2': 0.933761476184809, 'scheduler': 'OneCycleLR', 'max_lr': 0.008260255662631668}\n",
      "Epoch 1/15, Train Loss: 261.8069, Val mAP@50: 0.3622, FPS: 565.14, Epoch Time: 4.73 seconds\n",
      "Epoch 2/15, Train Loss: 170.5402, Val mAP@50: 0.3329, FPS: 563.32, Epoch Time: 4.68 seconds\n",
      "Epoch 3/15, Train Loss: 134.4889, Val mAP@50: 0.3828, FPS: 559.99, Epoch Time: 4.71 seconds\n",
      "Epoch 4/15, Train Loss: 111.6205, Val mAP@50: 0.4392, FPS: 563.98, Epoch Time: 4.70 seconds\n",
      "Epoch 5/15, Train Loss: 93.2974, Val mAP@50: 0.4493, FPS: 563.42, Epoch Time: 4.71 seconds\n",
      "Epoch 6/15, Train Loss: 81.9368, Val mAP@50: 0.4341, FPS: 561.92, Epoch Time: 4.68 seconds\n",
      "Epoch 7/15, Train Loss: 70.3847, Val mAP@50: 0.4214, FPS: 563.81, Epoch Time: 4.71 seconds\n",
      "Epoch 8/15, Train Loss: 64.0849, Val mAP@50: 0.4672, FPS: 565.96, Epoch Time: 4.68 seconds\n",
      "Epoch 9/15, Train Loss: 56.7621, Val mAP@50: 0.4402, FPS: 560.51, Epoch Time: 4.68 seconds\n",
      "Epoch 10/15, Train Loss: 54.3164, Val mAP@50: 0.4852, FPS: 562.94, Epoch Time: 4.70 seconds\n",
      "Epoch 11/15, Train Loss: 48.4147, Val mAP@50: 0.4680, FPS: 557.04, Epoch Time: 4.73 seconds\n",
      "Epoch 12/15, Train Loss: 43.2367, Val mAP@50: 0.4815, FPS: 555.20, Epoch Time: 4.72 seconds\n",
      "Epoch 13/15, Train Loss: 38.4122, Val mAP@50: 0.4768, FPS: 556.61, Epoch Time: 4.71 seconds\n",
      "Epoch 14/15, Train Loss: 35.6931, Val mAP@50: 0.4685, FPS: 555.64, Epoch Time: 4.72 seconds\n"
     ]
    },
    {
     "name": "stderr",
     "output_type": "stream",
     "text": [
      "[I 2025-01-26 22:14:52,727] Trial 84 finished with value: 0.4852200448513031 and parameters: {'batch_size': 7, 'epochs': 15, 'preweight_mode': 'fine_tuning', 'optimizer': 'Adam', 'lr': 0.0002542399566726216, 'beta1': 0.9062140858148894, 'beta2': 0.933761476184809, 'scheduler': 'OneCycleLR', 'max_lr': 0.008260255662631668}. Best is trial 0 with value: 0.5111747980117798.\n"
     ]
    },
    {
     "name": "stdout",
     "output_type": "stream",
     "text": [
      "Epoch 15/15, Train Loss: 33.7927, Val mAP@50: 0.4743, FPS: 557.80, Epoch Time: 4.73 seconds\n",
      "Best Epoch: 9, Best Val mAP@50: 0.4852, Training Time: 70.59 seconds\n",
      "Model training complete.\n",
      "Checking Model: SSD\n",
      "Starting Trial #85\n",
      "{'batch_size': 8, 'epochs': 13, 'preweight_mode': 'fine_tuning', 'optimizer': 'Adam', 'lr': 0.0024928385749683557, 'beta1': 0.9584593026499281, 'beta2': 0.937848622962386, 'scheduler': 'OneCycleLR', 'max_lr': 0.009703641021967573}\n",
      "Epoch 1/13, Train Loss: 230.5479, Val mAP@50: 0.3866, FPS: 612.05, Epoch Time: 4.53 seconds\n",
      "Epoch 2/13, Train Loss: 149.5857, Val mAP@50: 0.3994, FPS: 611.04, Epoch Time: 4.53 seconds\n",
      "Epoch 3/13, Train Loss: 117.0076, Val mAP@50: 0.3787, FPS: 610.59, Epoch Time: 4.52 seconds\n",
      "Epoch 4/13, Train Loss: 91.2051, Val mAP@50: 0.4267, FPS: 610.38, Epoch Time: 4.53 seconds\n",
      "Epoch 5/13, Train Loss: 77.8965, Val mAP@50: 0.4420, FPS: 610.66, Epoch Time: 4.54 seconds\n",
      "Epoch 6/13, Train Loss: 66.3657, Val mAP@50: 0.4351, FPS: 609.95, Epoch Time: 4.53 seconds\n",
      "Epoch 7/13, Train Loss: 59.6170, Val mAP@50: 0.4665, FPS: 609.45, Epoch Time: 4.54 seconds\n",
      "Epoch 8/13, Train Loss: 52.1343, Val mAP@50: 0.4296, FPS: 609.31, Epoch Time: 4.50 seconds\n",
      "Epoch 9/13, Train Loss: 48.4879, Val mAP@50: 0.4196, FPS: 610.32, Epoch Time: 4.52 seconds\n",
      "Epoch 10/13, Train Loss: 44.4487, Val mAP@50: 0.4414, FPS: 607.71, Epoch Time: 4.51 seconds\n",
      "Epoch 11/13, Train Loss: 39.4065, Val mAP@50: 0.4264, FPS: 610.04, Epoch Time: 4.55 seconds\n",
      "Epoch 12/13, Train Loss: 35.4674, Val mAP@50: 0.4862, FPS: 607.20, Epoch Time: 4.53 seconds\n"
     ]
    },
    {
     "name": "stderr",
     "output_type": "stream",
     "text": [
      "[I 2025-01-26 22:15:52,205] Trial 85 finished with value: 0.48624834418296814 and parameters: {'batch_size': 8, 'epochs': 13, 'preweight_mode': 'fine_tuning', 'optimizer': 'Adam', 'lr': 0.0024928385749683557, 'beta1': 0.9584593026499281, 'beta2': 0.937848622962386, 'scheduler': 'OneCycleLR', 'max_lr': 0.009703641021967573}. Best is trial 0 with value: 0.5111747980117798.\n"
     ]
    },
    {
     "name": "stdout",
     "output_type": "stream",
     "text": [
      "Epoch 13/13, Train Loss: 31.6894, Val mAP@50: 0.4282, FPS: 607.12, Epoch Time: 4.67 seconds\n",
      "Best Epoch: 11, Best Val mAP@50: 0.4862, Training Time: 59.02 seconds\n",
      "Model training complete.\n",
      "Checking Model: SSD\n",
      "Starting Trial #86\n",
      "{'batch_size': 6, 'epochs': 16, 'preweight_mode': 'fine_tuning', 'optimizer': 'Adam', 'lr': 0.0007315186138202107, 'beta1': 0.8947957589257178, 'beta2': 0.9623282544497956, 'scheduler': 'ReduceLROnPlateau', 'factor': 0.21260938975427907, 'patience': 3}\n",
      "Epoch 1/16, Train Loss: 289.2222, Val mAP@50: 0.4194, FPS: 528.50, Epoch Time: 5.24 seconds\n",
      "Epoch 2/16, Train Loss: 202.4520, Val mAP@50: 0.4144, FPS: 532.91, Epoch Time: 5.20 seconds\n",
      "Epoch 3/16, Train Loss: 163.9435, Val mAP@50: 0.4019, FPS: 533.49, Epoch Time: 5.19 seconds\n",
      "Epoch 4/16, Train Loss: 133.8280, Val mAP@50: 0.4056, FPS: 531.76, Epoch Time: 5.16 seconds\n",
      "Epoch 5/16, Train Loss: 117.7274, Val mAP@50: 0.4541, FPS: 530.92, Epoch Time: 4.94 seconds\n",
      "Epoch 6/16, Train Loss: 103.3634, Val mAP@50: 0.4716, FPS: 526.20, Epoch Time: 5.25 seconds\n",
      "Epoch 7/16, Train Loss: 92.6375, Val mAP@50: 0.4639, FPS: 525.52, Epoch Time: 5.03 seconds\n",
      "Epoch 8/16, Train Loss: 88.6249, Val mAP@50: 0.4432, FPS: 524.60, Epoch Time: 4.96 seconds\n",
      "Epoch 9/16, Train Loss: 78.6616, Val mAP@50: 0.4957, FPS: 524.68, Epoch Time: 4.97 seconds\n",
      "Epoch 10/16, Train Loss: 63.8081, Val mAP@50: 0.4740, FPS: 524.11, Epoch Time: 4.95 seconds\n",
      "Epoch 11/16, Train Loss: 58.4090, Val mAP@50: 0.4452, FPS: 524.68, Epoch Time: 5.17 seconds\n",
      "Epoch 12/16, Train Loss: 53.6699, Val mAP@50: 0.4148, FPS: 525.98, Epoch Time: 5.26 seconds\n",
      "Epoch 13/16, Train Loss: 51.3755, Val mAP@50: 0.4353, FPS: 524.76, Epoch Time: 5.04 seconds\n",
      "Epoch 14/16, Train Loss: 31.0561, Val mAP@50: 0.4532, FPS: 526.29, Epoch Time: 4.93 seconds\n",
      "Epoch 15/16, Train Loss: 20.0903, Val mAP@50: 0.4741, FPS: 524.82, Epoch Time: 5.17 seconds\n"
     ]
    },
    {
     "name": "stderr",
     "output_type": "stream",
     "text": [
      "[I 2025-01-26 22:17:14,231] Trial 86 finished with value: 0.49573376774787903 and parameters: {'batch_size': 6, 'epochs': 16, 'preweight_mode': 'fine_tuning', 'optimizer': 'Adam', 'lr': 0.0007315186138202107, 'beta1': 0.8947957589257178, 'beta2': 0.9623282544497956, 'scheduler': 'ReduceLROnPlateau', 'factor': 0.21260938975427907, 'patience': 3}. Best is trial 0 with value: 0.5111747980117798.\n"
     ]
    },
    {
     "name": "stdout",
     "output_type": "stream",
     "text": [
      "Epoch 16/16, Train Loss: 14.6157, Val mAP@50: 0.4499, FPS: 530.02, Epoch Time: 5.09 seconds\n",
      "Best Epoch: 8, Best Val mAP@50: 0.4957, Training Time: 81.54 seconds\n",
      "Model training complete.\n",
      "Checking Model: SSD\n",
      "Starting Trial #87\n",
      "{'batch_size': 6, 'epochs': 15, 'preweight_mode': 'fine_tuning', 'optimizer': 'Adam', 'lr': 0.0007156647890100872, 'beta1': 0.8802410278649954, 'beta2': 0.9627252344050019, 'scheduler': 'ReduceLROnPlateau', 'factor': 0.21261400600108452, 'patience': 3}\n",
      "Epoch 1/15, Train Loss: 295.6417, Val mAP@50: 0.4088, FPS: 530.87, Epoch Time: 4.86 seconds\n",
      "Epoch 2/15, Train Loss: 200.0765, Val mAP@50: 0.3735, FPS: 530.40, Epoch Time: 4.85 seconds\n",
      "Epoch 3/15, Train Loss: 161.3130, Val mAP@50: 0.3857, FPS: 531.22, Epoch Time: 4.85 seconds\n",
      "Epoch 4/15, Train Loss: 137.4629, Val mAP@50: 0.3976, FPS: 532.87, Epoch Time: 4.85 seconds\n",
      "Epoch 5/15, Train Loss: 120.0992, Val mAP@50: 0.4334, FPS: 531.14, Epoch Time: 4.87 seconds\n",
      "Epoch 6/15, Train Loss: 103.2088, Val mAP@50: 0.4479, FPS: 522.18, Epoch Time: 4.91 seconds\n",
      "Epoch 7/15, Train Loss: 93.6960, Val mAP@50: 0.3833, FPS: 523.06, Epoch Time: 5.09 seconds\n",
      "Epoch 8/15, Train Loss: 87.8615, Val mAP@50: 0.4648, FPS: 529.58, Epoch Time: 4.96 seconds\n",
      "Epoch 9/15, Train Loss: 71.2886, Val mAP@50: 0.4527, FPS: 527.29, Epoch Time: 4.84 seconds\n",
      "Epoch 10/15, Train Loss: 65.7735, Val mAP@50: 0.4731, FPS: 523.13, Epoch Time: 5.13 seconds\n",
      "Epoch 11/15, Train Loss: 59.1353, Val mAP@50: 0.4355, FPS: 521.14, Epoch Time: 4.96 seconds\n",
      "Epoch 12/15, Train Loss: 51.9895, Val mAP@50: 0.4370, FPS: 521.87, Epoch Time: 4.99 seconds\n",
      "Epoch 13/15, Train Loss: 47.4247, Val mAP@50: 0.4711, FPS: 520.72, Epoch Time: 4.91 seconds\n",
      "Epoch 14/15, Train Loss: 45.5466, Val mAP@50: 0.4545, FPS: 521.22, Epoch Time: 4.91 seconds\n"
     ]
    },
    {
     "name": "stderr",
     "output_type": "stream",
     "text": [
      "[I 2025-01-26 22:18:28,583] Trial 87 finished with value: 0.47305217385292053 and parameters: {'batch_size': 6, 'epochs': 15, 'preweight_mode': 'fine_tuning', 'optimizer': 'Adam', 'lr': 0.0007156647890100872, 'beta1': 0.8802410278649954, 'beta2': 0.9627252344050019, 'scheduler': 'ReduceLROnPlateau', 'factor': 0.21261400600108452, 'patience': 3}. Best is trial 0 with value: 0.5111747980117798.\n"
     ]
    },
    {
     "name": "stdout",
     "output_type": "stream",
     "text": [
      "Epoch 15/15, Train Loss: 28.3958, Val mAP@50: 0.4511, FPS: 520.60, Epoch Time: 4.91 seconds\n",
      "Best Epoch: 9, Best Val mAP@50: 0.4731, Training Time: 73.89 seconds\n",
      "Model training complete.\n",
      "Checking Model: SSD\n",
      "Starting Trial #88\n",
      "{'batch_size': 6, 'epochs': 16, 'preweight_mode': 'fine_tuning', 'optimizer': 'Adam', 'lr': 0.0009036865403590844, 'beta1': 0.913633524367558, 'beta2': 0.9677620252414301, 'scheduler': 'ReduceLROnPlateau', 'factor': 0.2114796224325744, 'patience': 3}\n",
      "Epoch 1/16, Train Loss: 297.9059, Val mAP@50: 0.3924, FPS: 523.26, Epoch Time: 4.93 seconds\n",
      "Epoch 2/16, Train Loss: 208.3208, Val mAP@50: 0.3693, FPS: 521.42, Epoch Time: 4.90 seconds\n",
      "Epoch 3/16, Train Loss: 164.3466, Val mAP@50: 0.4321, FPS: 521.33, Epoch Time: 4.92 seconds\n",
      "Epoch 4/16, Train Loss: 139.4605, Val mAP@50: 0.3682, FPS: 521.88, Epoch Time: 4.89 seconds\n",
      "Epoch 5/16, Train Loss: 124.4042, Val mAP@50: 0.4273, FPS: 520.77, Epoch Time: 4.93 seconds\n",
      "Epoch 6/16, Train Loss: 110.2146, Val mAP@50: 0.4628, FPS: 521.57, Epoch Time: 4.93 seconds\n",
      "Epoch 7/16, Train Loss: 97.0498, Val mAP@50: 0.4851, FPS: 519.38, Epoch Time: 4.93 seconds\n",
      "Epoch 8/16, Train Loss: 87.8707, Val mAP@50: 0.4446, FPS: 521.75, Epoch Time: 4.90 seconds\n",
      "Epoch 9/16, Train Loss: 83.2236, Val mAP@50: 0.4616, FPS: 518.86, Epoch Time: 4.95 seconds\n",
      "Epoch 10/16, Train Loss: 73.7229, Val mAP@50: 0.4587, FPS: 522.84, Epoch Time: 5.15 seconds\n",
      "Epoch 11/16, Train Loss: 65.1630, Val mAP@50: 0.4687, FPS: 517.32, Epoch Time: 5.16 seconds\n",
      "Epoch 12/16, Train Loss: 42.8571, Val mAP@50: 0.4778, FPS: 522.91, Epoch Time: 5.16 seconds\n",
      "Epoch 13/16, Train Loss: 27.9071, Val mAP@50: 0.4738, FPS: 521.64, Epoch Time: 5.16 seconds\n",
      "Epoch 14/16, Train Loss: 21.9071, Val mAP@50: 0.4834, FPS: 523.28, Epoch Time: 4.98 seconds\n",
      "Epoch 15/16, Train Loss: 17.6249, Val mAP@50: 0.4752, FPS: 522.08, Epoch Time: 4.90 seconds\n"
     ]
    },
    {
     "name": "stderr",
     "output_type": "stream",
     "text": [
      "[I 2025-01-26 22:19:48,759] Trial 88 finished with value: 0.4851032495498657 and parameters: {'batch_size': 6, 'epochs': 16, 'preweight_mode': 'fine_tuning', 'optimizer': 'Adam', 'lr': 0.0009036865403590844, 'beta1': 0.913633524367558, 'beta2': 0.9677620252414301, 'scheduler': 'ReduceLROnPlateau', 'factor': 0.2114796224325744, 'patience': 3}. Best is trial 0 with value: 0.5111747980117798.\n"
     ]
    },
    {
     "name": "stdout",
     "output_type": "stream",
     "text": [
      "Epoch 16/16, Train Loss: 14.4469, Val mAP@50: 0.4850, FPS: 523.64, Epoch Time: 4.91 seconds\n",
      "Best Epoch: 6, Best Val mAP@50: 0.4851, Training Time: 79.71 seconds\n",
      "Model training complete.\n",
      "Checking Model: SSD\n",
      "Starting Trial #89\n",
      "{'batch_size': 5, 'epochs': 14, 'preweight_mode': 'random', 'optimizer': 'Adam', 'lr': 0.0005187747275683994, 'beta1': 0.8952577786228441, 'beta2': 0.973362309944766, 'scheduler': 'ReduceLROnPlateau', 'factor': 0.20791301693164246, 'patience': 2}\n",
      "Epoch 1/14, Train Loss: 604.0716, Val mAP@50: 0.1041, FPS: 467.36, Epoch Time: 5.22 seconds\n",
      "Epoch 2/14, Train Loss: 422.9369, Val mAP@50: 0.2787, FPS: 468.13, Epoch Time: 5.43 seconds\n",
      "Epoch 3/14, Train Loss: 338.8859, Val mAP@50: 0.3490, FPS: 467.50, Epoch Time: 5.51 seconds\n",
      "Epoch 4/14, Train Loss: 271.7553, Val mAP@50: 0.3723, FPS: 466.78, Epoch Time: 5.52 seconds\n",
      "Epoch 5/14, Train Loss: 223.2497, Val mAP@50: 0.4243, FPS: 467.34, Epoch Time: 5.50 seconds\n"
     ]
    },
    {
     "name": "stderr",
     "output_type": "stream",
     "text": [
      "[I 2025-01-26 22:20:21,702] Trial 89 pruned. \n"
     ]
    },
    {
     "name": "stdout",
     "output_type": "stream",
     "text": [
      "Trial pruned by Optuna at epoch 5.\n",
      "Checking Model: SSD\n",
      "Starting Trial #90\n",
      "{'batch_size': 4, 'epochs': 16, 'preweight_mode': 'fine_tuning', 'optimizer': 'Adam', 'lr': 0.000186764752530795, 'beta1': 0.8687229401245519, 'beta2': 0.9595759085634047, 'scheduler': 'ReduceLROnPlateau', 'factor': 0.3701256243298344, 'patience': 4}\n",
      "Epoch 1/16, Train Loss: 461.1302, Val mAP@50: 0.3418, FPS: 405.85, Epoch Time: 5.66 seconds\n",
      "Epoch 2/16, Train Loss: 323.5885, Val mAP@50: 0.3364, FPS: 406.99, Epoch Time: 5.98 seconds\n",
      "Epoch 3/16, Train Loss: 265.9063, Val mAP@50: 0.3704, FPS: 406.38, Epoch Time: 6.01 seconds\n",
      "Epoch 4/16, Train Loss: 226.2150, Val mAP@50: 0.3357, FPS: 406.70, Epoch Time: 5.97 seconds\n",
      "Epoch 5/16, Train Loss: 194.5434, Val mAP@50: 0.3738, FPS: 405.09, Epoch Time: 5.71 seconds\n"
     ]
    },
    {
     "name": "stderr",
     "output_type": "stream",
     "text": [
      "[I 2025-01-26 22:20:57,113] Trial 90 pruned. \n"
     ]
    },
    {
     "name": "stdout",
     "output_type": "stream",
     "text": [
      "Trial pruned by Optuna at epoch 5.\n",
      "Checking Model: SSD\n",
      "Starting Trial #91\n",
      "{'batch_size': 7, 'epochs': 12, 'preweight_mode': 'fine_tuning', 'optimizer': 'Adam', 'lr': 0.0007581186721903362, 'beta1': 0.9394598077516645, 'beta2': 0.9464125001986076, 'scheduler': 'StepLR', 'step_size': 4, 'gamma': 0.2233954321903867}\n",
      "Epoch 1/12, Train Loss: 269.4866, Val mAP@50: 0.3501, FPS: 556.87, Epoch Time: 4.70 seconds\n",
      "Epoch 2/12, Train Loss: 171.8560, Val mAP@50: 0.4301, FPS: 560.87, Epoch Time: 4.68 seconds\n",
      "Epoch 3/12, Train Loss: 135.8624, Val mAP@50: 0.4385, FPS: 557.39, Epoch Time: 4.68 seconds\n",
      "Epoch 4/12, Train Loss: 114.2122, Val mAP@50: 0.4273, FPS: 558.28, Epoch Time: 4.83 seconds\n",
      "Epoch 5/12, Train Loss: 82.6642, Val mAP@50: 0.4366, FPS: 558.92, Epoch Time: 4.89 seconds\n",
      "Epoch 6/12, Train Loss: 67.1521, Val mAP@50: 0.4646, FPS: 559.54, Epoch Time: 4.74 seconds\n",
      "Epoch 7/12, Train Loss: 59.6702, Val mAP@50: 0.4580, FPS: 557.43, Epoch Time: 4.82 seconds\n",
      "Epoch 8/12, Train Loss: 52.8373, Val mAP@50: 0.4444, FPS: 559.67, Epoch Time: 4.88 seconds\n",
      "Epoch 9/12, Train Loss: 46.1916, Val mAP@50: 0.4661, FPS: 556.94, Epoch Time: 4.92 seconds\n",
      "Epoch 10/12, Train Loss: 43.6601, Val mAP@50: 0.4839, FPS: 558.18, Epoch Time: 4.92 seconds\n",
      "Epoch 11/12, Train Loss: 42.3646, Val mAP@50: 0.4835, FPS: 557.53, Epoch Time: 4.89 seconds\n"
     ]
    },
    {
     "name": "stderr",
     "output_type": "stream",
     "text": [
      "[I 2025-01-26 22:21:55,409] Trial 91 finished with value: 0.48387229442596436 and parameters: {'batch_size': 7, 'epochs': 12, 'preweight_mode': 'fine_tuning', 'optimizer': 'Adam', 'lr': 0.0007581186721903362, 'beta1': 0.9394598077516645, 'beta2': 0.9464125001986076, 'scheduler': 'StepLR', 'step_size': 4, 'gamma': 0.2233954321903867}. Best is trial 0 with value: 0.5111747980117798.\n"
     ]
    },
    {
     "name": "stdout",
     "output_type": "stream",
     "text": [
      "Epoch 12/12, Train Loss: 39.7126, Val mAP@50: 0.4637, FPS: 558.02, Epoch Time: 4.89 seconds\n",
      "Best Epoch: 9, Best Val mAP@50: 0.4839, Training Time: 57.84 seconds\n",
      "Model training complete.\n",
      "Checking Model: SSD\n",
      "Starting Trial #92\n",
      "{'batch_size': 7, 'epochs': 17, 'preweight_mode': 'fine_tuning', 'optimizer': 'Adam', 'lr': 0.00408963744394026, 'beta1': 0.902786223732492, 'beta2': 0.95449236960368, 'scheduler': 'ReduceLROnPlateau', 'factor': 0.1652969652262173, 'patience': 3}\n",
      "Epoch 1/17, Train Loss: 396.6297, Val mAP@50: 0.0939, FPS: 558.23, Epoch Time: 4.99 seconds\n",
      "Epoch 2/17, Train Loss: 270.4634, Val mAP@50: 0.2939, FPS: 557.12, Epoch Time: 4.94 seconds\n",
      "Epoch 3/17, Train Loss: 246.4461, Val mAP@50: 0.2763, FPS: 556.49, Epoch Time: 4.92 seconds\n",
      "Epoch 4/17, Train Loss: 222.7440, Val mAP@50: 0.3611, FPS: 559.39, Epoch Time: 4.93 seconds\n",
      "Epoch 5/17, Train Loss: 193.3170, Val mAP@50: 0.3849, FPS: 551.92, Epoch Time: 4.89 seconds\n"
     ]
    },
    {
     "name": "stderr",
     "output_type": "stream",
     "text": [
      "[I 2025-01-26 22:22:25,466] Trial 92 pruned. \n"
     ]
    },
    {
     "name": "stdout",
     "output_type": "stream",
     "text": [
      "Trial pruned by Optuna at epoch 5.\n",
      "Checking Model: SSD\n",
      "Starting Trial #93\n",
      "{'batch_size': 6, 'epochs': 18, 'preweight_mode': 'fine_tuning', 'optimizer': 'Adam', 'lr': 0.00012431601519100142, 'beta1': 0.9244356624652631, 'beta2': 0.9505266416872927, 'scheduler': 'CosineAnnealingLR', 'T_max': 10, 'eta_min': 6.059600179247309e-06}\n",
      "Epoch 1/18, Train Loss: 349.7509, Val mAP@50: 0.2447, FPS: 522.83, Epoch Time: 5.18 seconds\n",
      "Epoch 2/18, Train Loss: 240.2014, Val mAP@50: 0.3034, FPS: 523.07, Epoch Time: 5.16 seconds\n",
      "Epoch 3/18, Train Loss: 202.7037, Val mAP@50: 0.3624, FPS: 522.38, Epoch Time: 5.17 seconds\n",
      "Epoch 4/18, Train Loss: 175.4595, Val mAP@50: 0.3874, FPS: 523.04, Epoch Time: 4.99 seconds\n",
      "Epoch 5/18, Train Loss: 155.3756, Val mAP@50: 0.4070, FPS: 519.78, Epoch Time: 4.92 seconds\n"
     ]
    },
    {
     "name": "stderr",
     "output_type": "stream",
     "text": [
      "[I 2025-01-26 22:22:56,244] Trial 93 pruned. \n"
     ]
    },
    {
     "name": "stdout",
     "output_type": "stream",
     "text": [
      "Trial pruned by Optuna at epoch 5.\n",
      "Checking Model: SSD\n",
      "Starting Trial #94\n",
      "{'batch_size': 7, 'epochs': 17, 'preweight_mode': 'fine_tuning', 'optimizer': 'Adam', 'lr': 0.003542802148839862, 'beta1': 0.8854550985741636, 'beta2': 0.9277897751492133, 'scheduler': 'OneCycleLR', 'max_lr': 0.00643301121583766}\n",
      "Epoch 1/17, Train Loss: 275.6098, Val mAP@50: 0.3798, FPS: 554.72, Epoch Time: 4.71 seconds\n",
      "Epoch 2/17, Train Loss: 178.8237, Val mAP@50: 0.4123, FPS: 556.14, Epoch Time: 4.71 seconds\n",
      "Epoch 3/17, Train Loss: 141.3544, Val mAP@50: 0.4028, FPS: 557.42, Epoch Time: 4.67 seconds\n",
      "Epoch 4/17, Train Loss: 116.2235, Val mAP@50: 0.4004, FPS: 557.52, Epoch Time: 4.84 seconds\n",
      "Epoch 5/17, Train Loss: 99.3919, Val mAP@50: 0.4226, FPS: 558.08, Epoch Time: 4.90 seconds\n"
     ]
    },
    {
     "name": "stderr",
     "output_type": "stream",
     "text": [
      "[I 2025-01-26 22:23:25,247] Trial 94 pruned. \n"
     ]
    },
    {
     "name": "stdout",
     "output_type": "stream",
     "text": [
      "Trial pruned by Optuna at epoch 5.\n",
      "Checking Model: SSD\n",
      "Starting Trial #95\n",
      "{'batch_size': 5, 'epochs': 15, 'preweight_mode': 'fine_tuning', 'optimizer': 'AdamW', 'lr': 0.0005884447857592409, 'weight_decay': 0.006211324460747782, 'beta1': 0.9763699935565331, 'beta2': 0.9157557792132968, 'scheduler': 'OneCycleLR', 'max_lr': 0.00033746439191554325}\n",
      "Epoch 1/15, Train Loss: 570.2974, Val mAP@50: 0.0612, FPS: 469.75, Epoch Time: 5.71 seconds\n",
      "Epoch 2/15, Train Loss: 456.7559, Val mAP@50: 0.1716, FPS: 470.14, Epoch Time: 5.37 seconds\n",
      "Epoch 3/15, Train Loss: 401.2308, Val mAP@50: 0.2337, FPS: 470.81, Epoch Time: 5.21 seconds\n",
      "Epoch 4/15, Train Loss: 365.9886, Val mAP@50: 0.2721, FPS: 470.28, Epoch Time: 5.17 seconds\n",
      "Epoch 5/15, Train Loss: 345.5459, Val mAP@50: 0.2858, FPS: 470.03, Epoch Time: 5.17 seconds\n"
     ]
    },
    {
     "name": "stderr",
     "output_type": "stream",
     "text": [
      "[I 2025-01-26 22:23:57,456] Trial 95 pruned. \n"
     ]
    },
    {
     "name": "stdout",
     "output_type": "stream",
     "text": [
      "Trial pruned by Optuna at epoch 5.\n",
      "Checking Model: SSD\n",
      "Starting Trial #96\n",
      "{'batch_size': 8, 'epochs': 18, 'preweight_mode': 'fine_tuning', 'optimizer': 'Adam', 'lr': 0.0027283489993049086, 'beta1': 0.8939385403612579, 'beta2': 0.9661185134109441, 'scheduler': 'OneCycleLR', 'max_lr': 0.004828106350258301}\n",
      "Epoch 1/18, Train Loss: 249.2526, Val mAP@50: 0.3536, FPS: 603.72, Epoch Time: 4.52 seconds\n",
      "Epoch 2/18, Train Loss: 166.0445, Val mAP@50: 0.3933, FPS: 605.13, Epoch Time: 4.50 seconds\n",
      "Epoch 3/18, Train Loss: 134.7035, Val mAP@50: 0.3798, FPS: 604.13, Epoch Time: 4.51 seconds\n",
      "Epoch 4/18, Train Loss: 114.7468, Val mAP@50: 0.4014, FPS: 602.96, Epoch Time: 4.53 seconds\n",
      "Epoch 5/18, Train Loss: 96.4369, Val mAP@50: 0.3727, FPS: 603.10, Epoch Time: 4.49 seconds\n"
     ]
    },
    {
     "name": "stderr",
     "output_type": "stream",
     "text": [
      "[I 2025-01-26 22:24:24,960] Trial 96 pruned. \n"
     ]
    },
    {
     "name": "stdout",
     "output_type": "stream",
     "text": [
      "Trial pruned by Optuna at epoch 5.\n",
      "Checking Model: SSD\n",
      "Starting Trial #97\n",
      "{'batch_size': 7, 'epochs': 16, 'preweight_mode': 'freezing', 'optimizer': 'SGD', 'lr': 0.005429474281266441, 'momentum': 0.9388568642866939, 'weight_decay': 1.683756396226218e-05, 'scheduler': 'OneCycleLR', 'max_lr': 0.008228443133143611}\n",
      "Epoch 1/16, Train Loss: 384.0949, Val mAP@50: 0.1948, FPS: 558.45, Epoch Time: 4.17 seconds\n",
      "Epoch 2/16, Train Loss: 317.8036, Val mAP@50: 0.1941, FPS: 562.01, Epoch Time: 4.09 seconds\n",
      "Epoch 3/16, Train Loss: 297.4045, Val mAP@50: 0.1434, FPS: 563.09, Epoch Time: 4.06 seconds\n",
      "Epoch 4/16, Train Loss: 291.3893, Val mAP@50: 0.1357, FPS: 560.02, Epoch Time: 4.08 seconds\n",
      "Epoch 5/16, Train Loss: 286.5781, Val mAP@50: 0.1390, FPS: 558.34, Epoch Time: 4.07 seconds\n"
     ]
    },
    {
     "name": "stderr",
     "output_type": "stream",
     "text": [
      "[I 2025-01-26 22:24:49,954] Trial 97 pruned. \n"
     ]
    },
    {
     "name": "stdout",
     "output_type": "stream",
     "text": [
      "Trial pruned by Optuna at epoch 5.\n",
      "Checking Model: SSD\n",
      "Starting Trial #98\n",
      "{'batch_size': 6, 'epochs': 17, 'preweight_mode': 'fine_tuning', 'optimizer': 'RMSprop', 'lr': 0.0011167566505195703, 'weight_decay': 0.2599443068729498, 'momentum': 0.9680322550259355, 'scheduler': 'CosineAnnealingLR', 'T_max': 11, 'eta_min': 4.161965108068812e-07}\n",
      "Epoch 1/17, Train Loss: 1675.0816, Val mAP@50: 0.0001, FPS: 526.48, Epoch Time: 4.87 seconds\n",
      "Epoch 2/17, Train Loss: 594.2729, Val mAP@50: 0.0000, FPS: 526.38, Epoch Time: 4.85 seconds\n",
      "Epoch 3/17, Train Loss: 468.8673, Val mAP@50: 0.0000, FPS: 525.40, Epoch Time: 4.86 seconds\n",
      "Epoch 4/17, Train Loss: 458.0966, Val mAP@50: 0.0000, FPS: 526.85, Epoch Time: 4.86 seconds\n"
     ]
    },
    {
     "name": "stderr",
     "output_type": "stream",
     "text": [
      "[I 2025-01-26 22:25:14,681] Trial 98 pruned. \n"
     ]
    },
    {
     "name": "stdout",
     "output_type": "stream",
     "text": [
      "Trial pruned by Optuna at epoch 4.\n",
      "Checking Model: SSD\n",
      "Starting Trial #99\n",
      "{'batch_size': 4, 'epochs': 19, 'preweight_mode': 'fine_tuning', 'optimizer': 'Adam', 'lr': 0.0019385432068684386, 'beta1': 0.8579450908195179, 'beta2': 0.9721163105885192, 'scheduler': 'OneCycleLR', 'max_lr': 0.005792101067224168}\n",
      "Epoch 1/19, Train Loss: 461.0158, Val mAP@50: 0.3257, FPS: 408.91, Epoch Time: 5.60 seconds\n",
      "Epoch 2/19, Train Loss: 310.4521, Val mAP@50: 0.3859, FPS: 408.45, Epoch Time: 5.64 seconds\n",
      "Epoch 3/19, Train Loss: 263.2934, Val mAP@50: 0.3283, FPS: 405.93, Epoch Time: 5.63 seconds\n",
      "Epoch 4/19, Train Loss: 215.6192, Val mAP@50: 0.3830, FPS: 404.87, Epoch Time: 5.62 seconds\n",
      "Epoch 5/19, Train Loss: 186.7254, Val mAP@50: 0.3848, FPS: 404.64, Epoch Time: 5.64 seconds\n"
     ]
    },
    {
     "name": "stderr",
     "output_type": "stream",
     "text": [
      "[I 2025-01-26 22:25:49,051] Trial 99 pruned. \n"
     ]
    },
    {
     "name": "stdout",
     "output_type": "stream",
     "text": [
      "Trial pruned by Optuna at epoch 5.\n",
      "\n",
      "Best trial: #0\n",
      "  Value:  0.5111747980117798\n",
      "  Params: \n",
      "    batch_size: 7\n",
      "    epochs: 17\n",
      "    preweight_mode: fine_tuning\n",
      "    optimizer: Adam\n",
      "    lr: 0.0009472961959721175\n",
      "    beta1: 0.9658118084445251\n",
      "    beta2: 0.9318563294010559\n",
      "    scheduler: CosineAnnealingLR\n",
      "    T_max: 8\n",
      "    eta_min: 8.307341815284441e-06\n"
     ]
    }
   ],
   "source": [
    "model_name = \"ssdlite320_mobilenet_v3_large\"\n",
    "study = trainer.run_optimization(model_name, train_set, val_set, n_trials=100, study_name=model_name, save_path=os.path.join(\"data/models\", model_name))"
   ]
  },
  {
   "cell_type": "code",
   "execution_count": 7,
   "metadata": {},
   "outputs": [],
   "source": [
    "# model = trainer.get_model(model_name=\"ssdlite320_mobilenet_v3_large\")\n",
    "# state_dict = torch.load(\"data/models/ssdlite320_mobilenet_v3_large/ssdlite320_mobilenet_v3_large_best.pth\", weights_only=True)\n",
    "# model.load_state_dict(state_dict)\n",
    "# device = torch.device(\"cuda\" if torch.cuda.is_available() else \"cpu\")\n",
    "# model.to(device)  # Move the model to the GPU\n",
    "# model.eval()  # Set the model to evaluation mode\n",
    "\n",
    "# # test the model\n",
    "# evaluator.test_model(model, test_set, index=None, model_name=\"ssdlite320_mobilenet_v3_large\")"
   ]
  },
  {
   "cell_type": "markdown",
   "metadata": {},
   "source": [
    "## fasterrcnn_resnet50_fpn"
   ]
  },
  {
   "cell_type": "code",
   "execution_count": 8,
   "metadata": {},
   "outputs": [
    {
     "name": "stdout",
     "output_type": "stream",
     "text": [
      "Number of valid images: 664\n",
      "Train set size: 464 - 69.88%\n",
      "Validation set size: 67 - 10.09%\n",
      "Test set size: 133 - 20.03%\n",
      "\n"
     ]
    }
   ],
   "source": [
    "input_size = 448\n",
    "\n",
    "transform = torchvision.transforms.Compose([\n",
    "    torchvision.transforms.Resize((input_size, input_size)),\n",
    "    torchvision.transforms.ToTensor(), # uint8 values in [0, 255] -> float tensor with values [0, 1]\n",
    "    torchvision.transforms.Normalize(mean=data_process.train_mean.tolist(), std=data_process.train_std.tolist())\n",
    "])\n",
    "\n",
    "train_set, val_set, test_set = data_process.load_data(transform=transform, input_size=input_size)"
   ]
  },
  {
   "cell_type": "code",
   "execution_count": 9,
   "metadata": {},
   "outputs": [
    {
     "name": "stderr",
     "output_type": "stream",
     "text": [
      "[I 2025-01-26 22:25:51,028] A new study created in RDB with name: fasterrcnn_resnet50_fpn\n"
     ]
    },
    {
     "name": "stdout",
     "output_type": "stream",
     "text": [
      "Checking Model: FasterRCNN\n",
      "Starting Trial #0\n",
      "{'batch_size': 7, 'epochs': 17, 'preweight_mode': 'fine_tuning', 'optimizer': 'Adam', 'lr': 0.0009472961959721175, 'beta1': 0.9658118084445251, 'beta2': 0.9318563294010559, 'scheduler': 'CosineAnnealingLR', 'T_max': 8, 'eta_min': 8.307341815284441e-06}\n",
      "Epoch 1/17, Train Loss: 68.7382, Val mAP@50: 0.0000, FPS: 56.93, Epoch Time: 22.07 seconds\n",
      "Epoch 2/17, Train Loss: 25.5188, Val mAP@50: 0.0000, FPS: 56.66, Epoch Time: 22.01 seconds\n",
      "Epoch 3/17, Train Loss: 25.7481, Val mAP@50: 0.0000, FPS: 56.84, Epoch Time: 21.98 seconds\n",
      "Epoch 4/17, Train Loss: 24.6807, Val mAP@50: 0.0000, FPS: 56.58, Epoch Time: 21.95 seconds\n"
     ]
    },
    {
     "name": "stderr",
     "output_type": "stream",
     "text": [
      "[I 2025-01-26 22:27:41,801] Trial 0 pruned. \n"
     ]
    },
    {
     "name": "stdout",
     "output_type": "stream",
     "text": [
      "Trial pruned by Optuna at epoch 4.\n",
      "Checking Model: FasterRCNN\n",
      "Starting Trial #1\n",
      "{'batch_size': 6, 'epochs': 13, 'preweight_mode': 'random', 'optimizer': 'Adam', 'lr': 0.0004904539339172869, 'beta1': 0.9169765854389738, 'beta2': 0.9282853454922604, 'scheduler': 'StepLR', 'step_size': 5, 'gamma': 0.16714116943161034}\n",
      "Epoch 1/13, Train Loss: 42.9821, Val mAP@50: 0.0000, FPS: 57.61, Epoch Time: 22.17 seconds\n",
      "Epoch 2/13, Train Loss: 31.6787, Val mAP@50: 0.0000, FPS: 58.41, Epoch Time: 22.05 seconds\n",
      "Epoch 3/13, Train Loss: 30.5940, Val mAP@50: 0.1847, FPS: 58.21, Epoch Time: 22.11 seconds\n",
      "Epoch 4/13, Train Loss: 30.4850, Val mAP@50: 0.3261, FPS: 58.21, Epoch Time: 22.08 seconds\n",
      "Epoch 5/13, Train Loss: 29.4945, Val mAP@50: 0.3196, FPS: 58.40, Epoch Time: 22.12 seconds\n",
      "Epoch 6/13, Train Loss: 26.7034, Val mAP@50: 0.4189, FPS: 58.19, Epoch Time: 22.07 seconds\n",
      "Epoch 7/13, Train Loss: 26.4539, Val mAP@50: 0.4391, FPS: 58.36, Epoch Time: 22.12 seconds\n",
      "Epoch 8/13, Train Loss: 25.5328, Val mAP@50: 0.4705, FPS: 58.35, Epoch Time: 22.09 seconds\n",
      "Epoch 9/13, Train Loss: 25.2820, Val mAP@50: 0.5093, FPS: 58.36, Epoch Time: 22.10 seconds\n",
      "Epoch 10/13, Train Loss: 24.2013, Val mAP@50: 0.4605, FPS: 58.19, Epoch Time: 22.11 seconds\n",
      "Epoch 11/13, Train Loss: 23.0770, Val mAP@50: 0.5309, FPS: 58.26, Epoch Time: 22.11 seconds\n",
      "Epoch 12/13, Train Loss: 22.5575, Val mAP@50: 0.5374, FPS: 58.11, Epoch Time: 22.12 seconds\n"
     ]
    },
    {
     "name": "stderr",
     "output_type": "stream",
     "text": [
      "[I 2025-01-26 22:32:30,089] Trial 1 finished with value: 0.5374061465263367 and parameters: {'batch_size': 6, 'epochs': 13, 'preweight_mode': 'random', 'optimizer': 'Adam', 'lr': 0.0004904539339172869, 'beta1': 0.9169765854389738, 'beta2': 0.9282853454922604, 'scheduler': 'StepLR', 'step_size': 5, 'gamma': 0.16714116943161034}. Best is trial 1 with value: 0.5374061465263367.\n"
     ]
    },
    {
     "name": "stdout",
     "output_type": "stream",
     "text": [
      "Epoch 13/13, Train Loss: 22.3622, Val mAP@50: 0.5238, FPS: 58.12, Epoch Time: 22.13 seconds\n",
      "Best Epoch: 11, Best Val mAP@50: 0.5374, Training Time: 287.37 seconds\n",
      "Model training complete.\n",
      "Checking Model: FasterRCNN\n",
      "Starting Trial #2\n",
      "{'batch_size': 8, 'epochs': 17, 'preweight_mode': 'freezing', 'optimizer': 'RMSprop', 'lr': 0.004241247429282568, 'weight_decay': 0.1260926568334326, 'momentum': 0.9492067843282642, 'scheduler': 'StepLR', 'step_size': 5, 'gamma': 0.17734318931932058}\n",
      "Epoch 1/17, Train Loss: 113.6792, Val mAP@50: 0.0000, FPS: 59.24, Epoch Time: 13.33 seconds\n",
      "Epoch 2/17, Train Loss: 43.3916, Val mAP@50: 0.0080, FPS: 59.35, Epoch Time: 13.33 seconds\n",
      "Epoch 3/17, Train Loss: 50.8631, Val mAP@50: 0.0000, FPS: 60.24, Epoch Time: 13.30 seconds\n",
      "Epoch 4/17, Train Loss: 57.8499, Val mAP@50: 0.0000, FPS: 60.28, Epoch Time: 13.27 seconds\n",
      "Epoch 5/17, Train Loss: 50.1172, Val mAP@50: 0.0000, FPS: 60.18, Epoch Time: 13.27 seconds\n"
     ]
    },
    {
     "name": "stderr",
     "output_type": "stream",
     "text": [
      "[I 2025-01-26 22:33:50,681] Trial 2 pruned. \n"
     ]
    },
    {
     "name": "stdout",
     "output_type": "stream",
     "text": [
      "Trial pruned by Optuna at epoch 5.\n",
      "Checking Model: FasterRCNN\n",
      "Starting Trial #3\n",
      "{'batch_size': 8, 'epochs': 13, 'preweight_mode': 'freezing', 'optimizer': 'SGD', 'lr': 0.04948808716982222, 'momentum': 0.9468789822431335, 'weight_decay': 5.129973236412686e-05, 'scheduler': 'StepLR', 'step_size': 5, 'gamma': 0.056083539958035666}\n",
      "Epoch 1/13, Train Loss: 146.5550, Val mAP@50: 0.0043, FPS: 60.05, Epoch Time: 13.27 seconds\n",
      "Epoch 2/13, Train Loss: 60.0352, Val mAP@50: 0.0543, FPS: 59.56, Epoch Time: 13.36 seconds\n",
      "Epoch 3/13, Train Loss: 41.2140, Val mAP@50: 0.0315, FPS: 59.62, Epoch Time: 13.29 seconds\n",
      "Epoch 4/13, Train Loss: 35.7127, Val mAP@50: 0.0865, FPS: 59.49, Epoch Time: 13.31 seconds\n",
      "Epoch 5/13, Train Loss: 34.0745, Val mAP@50: 0.0836, FPS: 59.65, Epoch Time: 13.29 seconds\n",
      "Epoch 6/13, Train Loss: 32.9138, Val mAP@50: 0.1259, FPS: 59.50, Epoch Time: 13.33 seconds\n",
      "Epoch 7/13, Train Loss: 32.3647, Val mAP@50: 0.1261, FPS: 59.53, Epoch Time: 13.32 seconds\n",
      "Epoch 8/13, Train Loss: 32.4396, Val mAP@50: 0.1272, FPS: 59.50, Epoch Time: 13.33 seconds\n",
      "Epoch 9/13, Train Loss: 32.4277, Val mAP@50: 0.1200, FPS: 59.52, Epoch Time: 13.31 seconds\n",
      "Epoch 10/13, Train Loss: 32.6806, Val mAP@50: 0.1215, FPS: 59.60, Epoch Time: 13.28 seconds\n",
      "Epoch 11/13, Train Loss: 32.2476, Val mAP@50: 0.1235, FPS: 59.61, Epoch Time: 13.31 seconds\n",
      "Epoch 12/13, Train Loss: 32.3573, Val mAP@50: 0.1228, FPS: 59.49, Epoch Time: 13.31 seconds\n"
     ]
    },
    {
     "name": "stderr",
     "output_type": "stream",
     "text": [
      "[I 2025-01-26 22:36:44,704] Trial 3 finished with value: 0.12720252573490143 and parameters: {'batch_size': 8, 'epochs': 13, 'preweight_mode': 'freezing', 'optimizer': 'SGD', 'lr': 0.04948808716982222, 'momentum': 0.9468789822431335, 'weight_decay': 5.129973236412686e-05, 'scheduler': 'StepLR', 'step_size': 5, 'gamma': 0.056083539958035666}. Best is trial 1 with value: 0.5374061465263367.\n"
     ]
    },
    {
     "name": "stdout",
     "output_type": "stream",
     "text": [
      "Epoch 13/13, Train Loss: 32.3854, Val mAP@50: 0.1262, FPS: 59.47, Epoch Time: 13.35 seconds\n",
      "Best Epoch: 7, Best Val mAP@50: 0.1272, Training Time: 173.07 seconds\n",
      "Model training complete.\n",
      "Checking Model: FasterRCNN\n",
      "Starting Trial #4\n",
      "{'batch_size': 6, 'epochs': 17, 'preweight_mode': 'fine_tuning', 'optimizer': 'SGD', 'lr': 0.02344308086614435, 'momentum': 0.9727457317944981, 'weight_decay': 4.760099310748672e-05, 'scheduler': 'OneCycleLR', 'max_lr': 0.004548729885792942}\n",
      "Epoch 1/17, Train Loss: 39.5506, Val mAP@50: 0.0158, FPS: 58.29, Epoch Time: 22.00 seconds\n",
      "Epoch 2/17, Train Loss: 33.3611, Val mAP@50: 0.2239, FPS: 58.29, Epoch Time: 22.08 seconds\n",
      "Epoch 3/17, Train Loss: 29.6301, Val mAP@50: 0.4455, FPS: 58.20, Epoch Time: 22.08 seconds\n",
      "Epoch 4/17, Train Loss: 25.5711, Val mAP@50: 0.5398, FPS: 58.38, Epoch Time: 22.01 seconds\n",
      "Epoch 5/17, Train Loss: 23.0397, Val mAP@50: 0.5886, FPS: 58.29, Epoch Time: 22.00 seconds\n",
      "Epoch 6/17, Train Loss: 22.0238, Val mAP@50: 0.6262, FPS: 58.37, Epoch Time: 21.98 seconds\n",
      "Epoch 7/17, Train Loss: 20.5170, Val mAP@50: 0.6483, FPS: 58.36, Epoch Time: 22.00 seconds\n",
      "Epoch 8/17, Train Loss: 19.4650, Val mAP@50: 0.6587, FPS: 58.36, Epoch Time: 22.00 seconds\n",
      "Epoch 9/17, Train Loss: 18.4887, Val mAP@50: 0.6825, FPS: 58.32, Epoch Time: 21.98 seconds\n",
      "Epoch 10/17, Train Loss: 17.7263, Val mAP@50: 0.6674, FPS: 58.20, Epoch Time: 21.98 seconds\n",
      "Epoch 11/17, Train Loss: 16.6993, Val mAP@50: 0.6852, FPS: 58.30, Epoch Time: 22.00 seconds\n",
      "Epoch 12/17, Train Loss: 15.8371, Val mAP@50: 0.6920, FPS: 58.36, Epoch Time: 21.97 seconds\n",
      "Epoch 13/17, Train Loss: 14.8546, Val mAP@50: 0.6939, FPS: 58.41, Epoch Time: 21.95 seconds\n",
      "Epoch 14/17, Train Loss: 14.1367, Val mAP@50: 0.6935, FPS: 58.33, Epoch Time: 21.93 seconds\n",
      "Epoch 15/17, Train Loss: 13.5055, Val mAP@50: 0.6932, FPS: 58.38, Epoch Time: 21.92 seconds\n",
      "Epoch 16/17, Train Loss: 12.6867, Val mAP@50: 0.6798, FPS: 58.36, Epoch Time: 21.90 seconds\n"
     ]
    },
    {
     "name": "stderr",
     "output_type": "stream",
     "text": [
      "[I 2025-01-26 22:42:59,320] Trial 4 finished with value: 0.6939024925231934 and parameters: {'batch_size': 6, 'epochs': 17, 'preweight_mode': 'fine_tuning', 'optimizer': 'SGD', 'lr': 0.02344308086614435, 'momentum': 0.9727457317944981, 'weight_decay': 4.760099310748672e-05, 'scheduler': 'OneCycleLR', 'max_lr': 0.004548729885792942}. Best is trial 4 with value: 0.6939024925231934.\n"
     ]
    },
    {
     "name": "stdout",
     "output_type": "stream",
     "text": [
      "Epoch 17/17, Train Loss: 11.9808, Val mAP@50: 0.6936, FPS: 58.41, Epoch Time: 21.91 seconds\n",
      "Best Epoch: 12, Best Val mAP@50: 0.6939, Training Time: 373.68 seconds\n",
      "Model training complete.\n",
      "Checking Model: FasterRCNN\n",
      "Starting Trial #5\n",
      "{'batch_size': 7, 'epochs': 17, 'preweight_mode': 'fine_tuning', 'optimizer': 'RMSprop', 'lr': 0.0012548593198908888, 'weight_decay': 0.5380377852807633, 'momentum': 0.9780810792026231, 'scheduler': 'ReduceLROnPlateau', 'factor': 0.2973243346544745, 'patience': 3}\n",
      "Epoch 1/17, Train Loss: nan, Val mAP@50: 0.0000, FPS: 70.40, Epoch Time: 18.65 seconds\n",
      "Epoch 2/17, Train Loss: nan, Val mAP@50: 0.0000, FPS: 70.42, Epoch Time: 18.56 seconds\n",
      "Epoch 3/17, Train Loss: nan, Val mAP@50: 0.0000, FPS: 70.35, Epoch Time: 18.55 seconds\n",
      "Epoch 4/17, Train Loss: nan, Val mAP@50: 0.0000, FPS: 70.55, Epoch Time: 18.56 seconds\n"
     ]
    },
    {
     "name": "stderr",
     "output_type": "stream",
     "text": [
      "[I 2025-01-26 22:44:33,013] Trial 5 pruned. \n"
     ]
    },
    {
     "name": "stdout",
     "output_type": "stream",
     "text": [
      "Trial pruned by Optuna at epoch 4.\n",
      "Checking Model: FasterRCNN\n",
      "Starting Trial #6\n",
      "{'batch_size': 7, 'epochs': 16, 'preweight_mode': 'fine_tuning', 'optimizer': 'SGD', 'lr': 0.016998759580392438, 'momentum': 0.9201578015051693, 'weight_decay': 1.0003658748852571e-05, 'scheduler': 'CosineAnnealingLR', 'T_max': 5, 'eta_min': 4.0935047202991817e-07}\n",
      "Epoch 1/16, Train Loss: 32.6224, Val mAP@50: 0.2581, FPS: 56.46, Epoch Time: 22.20 seconds\n",
      "Epoch 2/16, Train Loss: 23.0626, Val mAP@50: 0.5849, FPS: 56.31, Epoch Time: 22.11 seconds\n",
      "Epoch 3/16, Train Loss: 17.9669, Val mAP@50: 0.7071, FPS: 56.04, Epoch Time: 22.05 seconds\n",
      "Epoch 4/16, Train Loss: 14.7026, Val mAP@50: 0.7290, FPS: 56.39, Epoch Time: 22.13 seconds\n",
      "Epoch 5/16, Train Loss: 12.0352, Val mAP@50: 0.7596, FPS: 56.41, Epoch Time: 22.11 seconds\n",
      "Epoch 6/16, Train Loss: 10.8596, Val mAP@50: 0.7595, FPS: 56.30, Epoch Time: 22.06 seconds\n",
      "Epoch 7/16, Train Loss: 10.9356, Val mAP@50: 0.7583, FPS: 56.35, Epoch Time: 22.07 seconds\n",
      "Epoch 8/16, Train Loss: 11.0912, Val mAP@50: 0.7383, FPS: 56.28, Epoch Time: 22.05 seconds\n",
      "Epoch 9/16, Train Loss: 13.9091, Val mAP@50: 0.7382, FPS: 56.48, Epoch Time: 22.06 seconds\n",
      "Epoch 10/16, Train Loss: 13.5470, Val mAP@50: 0.6432, FPS: 56.44, Epoch Time: 22.04 seconds\n",
      "Epoch 11/16, Train Loss: 13.0064, Val mAP@50: 0.6632, FPS: 56.47, Epoch Time: 22.03 seconds\n",
      "Epoch 12/16, Train Loss: 11.7374, Val mAP@50: 0.6602, FPS: 56.48, Epoch Time: 22.05 seconds\n",
      "Epoch 13/16, Train Loss: 8.8145, Val mAP@50: 0.7014, FPS: 56.31, Epoch Time: 22.13 seconds\n",
      "Epoch 14/16, Train Loss: 6.3216, Val mAP@50: 0.7262, FPS: 56.29, Epoch Time: 22.12 seconds\n",
      "Epoch 15/16, Train Loss: 4.8104, Val mAP@50: 0.7509, FPS: 56.32, Epoch Time: 22.13 seconds\n"
     ]
    },
    {
     "name": "stderr",
     "output_type": "stream",
     "text": [
      "[I 2025-01-26 22:50:27,453] Trial 6 finished with value: 0.7595766186714172 and parameters: {'batch_size': 7, 'epochs': 16, 'preweight_mode': 'fine_tuning', 'optimizer': 'SGD', 'lr': 0.016998759580392438, 'momentum': 0.9201578015051693, 'weight_decay': 1.0003658748852571e-05, 'scheduler': 'CosineAnnealingLR', 'T_max': 5, 'eta_min': 4.0935047202991817e-07}. Best is trial 6 with value: 0.7595766186714172.\n"
     ]
    },
    {
     "name": "stdout",
     "output_type": "stream",
     "text": [
      "Epoch 16/16, Train Loss: 4.4662, Val mAP@50: 0.7509, FPS: 56.23, Epoch Time: 22.14 seconds\n",
      "Best Epoch: 4, Best Val mAP@50: 0.7596, Training Time: 353.47 seconds\n",
      "Model training complete.\n",
      "Checking Model: FasterRCNN\n",
      "Starting Trial #7\n",
      "{'batch_size': 6, 'epochs': 17, 'preweight_mode': 'freezing', 'optimizer': 'RMSprop', 'lr': 0.0035675054331891385, 'weight_decay': 0.10566344366433493, 'momentum': 0.9775188644231251, 'scheduler': 'ReduceLROnPlateau', 'factor': 0.29754314502094625, 'patience': 2}\n",
      "Epoch 1/17, Train Loss: 189.6178, Val mAP@50: 0.0001, FPS: 58.77, Epoch Time: 13.42 seconds\n",
      "Epoch 2/17, Train Loss: 88.8662, Val mAP@50: 0.0000, FPS: 58.90, Epoch Time: 13.56 seconds\n",
      "Epoch 3/17, Train Loss: 71.4144, Val mAP@50: 0.0004, FPS: 59.04, Epoch Time: 13.43 seconds\n",
      "Epoch 4/17, Train Loss: 92.2822, Val mAP@50: 0.0092, FPS: 58.98, Epoch Time: 13.45 seconds\n",
      "Epoch 5/17, Train Loss: 82.4192, Val mAP@50: 0.0000, FPS: 59.06, Epoch Time: 13.40 seconds\n",
      "Epoch 6/17, Train Loss: 73.8971, Val mAP@50: 0.0000, FPS: 59.26, Epoch Time: 13.39 seconds\n",
      "Epoch 7/17, Train Loss: 82.5997, Val mAP@50: 0.0000, FPS: 59.95, Epoch Time: 13.36 seconds\n",
      "Epoch 8/17, Train Loss: 75.7500, Val mAP@50: 0.0000, FPS: 58.95, Epoch Time: 13.50 seconds\n",
      "Epoch 9/17, Train Loss: 61.4834, Val mAP@50: 0.0000, FPS: 59.38, Epoch Time: 13.37 seconds\n",
      "Epoch 10/17, Train Loss: 56.4002, Val mAP@50: 0.0020, FPS: 59.02, Epoch Time: 13.41 seconds\n",
      "Epoch 11/17, Train Loss: 49.1387, Val mAP@50: 0.0072, FPS: 59.05, Epoch Time: 13.38 seconds\n",
      "Epoch 12/17, Train Loss: 47.8514, Val mAP@50: 0.0044, FPS: 59.05, Epoch Time: 13.37 seconds\n",
      "Epoch 13/17, Train Loss: 46.5736, Val mAP@50: 0.0136, FPS: 58.91, Epoch Time: 13.40 seconds\n",
      "Epoch 14/17, Train Loss: 47.0431, Val mAP@50: 0.0050, FPS: 59.03, Epoch Time: 13.38 seconds\n",
      "Epoch 15/17, Train Loss: 47.6036, Val mAP@50: 0.0027, FPS: 58.94, Epoch Time: 13.39 seconds\n",
      "Epoch 16/17, Train Loss: 46.4807, Val mAP@50: 0.0074, FPS: 58.96, Epoch Time: 13.37 seconds\n"
     ]
    },
    {
     "name": "stderr",
     "output_type": "stream",
     "text": [
      "[I 2025-01-26 22:54:16,469] Trial 7 finished with value: 0.015558699145913124 and parameters: {'batch_size': 6, 'epochs': 17, 'preweight_mode': 'freezing', 'optimizer': 'RMSprop', 'lr': 0.0035675054331891385, 'weight_decay': 0.10566344366433493, 'momentum': 0.9775188644231251, 'scheduler': 'ReduceLROnPlateau', 'factor': 0.29754314502094625, 'patience': 2}. Best is trial 6 with value: 0.7595766186714172.\n"
     ]
    },
    {
     "name": "stdout",
     "output_type": "stream",
     "text": [
      "Epoch 17/17, Train Loss: 45.8756, Val mAP@50: 0.0156, FPS: 58.91, Epoch Time: 13.44 seconds\n",
      "Best Epoch: 16, Best Val mAP@50: 0.0156, Training Time: 228.02 seconds\n",
      "Model training complete.\n",
      "Checking Model: FasterRCNN\n",
      "Starting Trial #8\n",
      "{'batch_size': 7, 'epochs': 14, 'preweight_mode': 'random', 'optimizer': 'RMSprop', 'lr': 0.0010523472087119428, 'weight_decay': 0.11239553251294436, 'momentum': 0.902710004059513, 'scheduler': 'ReduceLROnPlateau', 'factor': 0.13439332022060319, 'patience': 4}\n",
      "Epoch 1/14, Train Loss: nan, Val mAP@50: 0.0000, FPS: 70.48, Epoch Time: 18.65 seconds\n",
      "Epoch 2/14, Train Loss: nan, Val mAP@50: 0.0000, FPS: 70.25, Epoch Time: 18.57 seconds\n",
      "Epoch 3/14, Train Loss: nan, Val mAP@50: 0.0000, FPS: 70.27, Epoch Time: 18.57 seconds\n",
      "Epoch 4/14, Train Loss: nan, Val mAP@50: 0.0000, FPS: 70.30, Epoch Time: 18.57 seconds\n"
     ]
    },
    {
     "name": "stderr",
     "output_type": "stream",
     "text": [
      "[I 2025-01-26 22:55:50,136] Trial 8 pruned. \n"
     ]
    },
    {
     "name": "stdout",
     "output_type": "stream",
     "text": [
      "Trial pruned by Optuna at epoch 4.\n",
      "Checking Model: FasterRCNN\n",
      "Starting Trial #9\n",
      "{'batch_size': 7, 'epochs': 18, 'preweight_mode': 'freezing', 'optimizer': 'SGD', 'lr': 0.04198573470793485, 'momentum': 0.9163819443057865, 'weight_decay': 3.626824917046231e-05, 'scheduler': 'CosineAnnealingLR', 'T_max': 12, 'eta_min': 8.368075421103245e-07}\n",
      "Epoch 1/18, Train Loss: 66.2493, Val mAP@50: 0.0280, FPS: 56.93, Epoch Time: 13.55 seconds\n",
      "Epoch 2/18, Train Loss: 39.6677, Val mAP@50: 0.0613, FPS: 56.94, Epoch Time: 13.54 seconds\n",
      "Epoch 3/18, Train Loss: 38.2862, Val mAP@50: 0.0965, FPS: 56.93, Epoch Time: 13.55 seconds\n",
      "Epoch 4/18, Train Loss: 37.9567, Val mAP@50: 0.0741, FPS: 57.00, Epoch Time: 13.52 seconds\n",
      "Epoch 5/18, Train Loss: 37.7342, Val mAP@50: 0.0424, FPS: 57.02, Epoch Time: 13.50 seconds\n"
     ]
    },
    {
     "name": "stderr",
     "output_type": "stream",
     "text": [
      "[I 2025-01-26 22:57:12,153] Trial 9 pruned. \n"
     ]
    },
    {
     "name": "stdout",
     "output_type": "stream",
     "text": [
      "Trial pruned by Optuna at epoch 5.\n",
      "Checking Model: FasterRCNN\n",
      "Starting Trial #10\n",
      "{'batch_size': 4, 'epochs': 20, 'preweight_mode': 'fine_tuning', 'optimizer': 'AdamW', 'lr': 0.0001727935630014265, 'weight_decay': 0.001305443110763528, 'beta1': 0.8384084637388263, 'beta2': 0.9966465871541936, 'scheduler': 'CosineAnnealingLR', 'T_max': 5, 'eta_min': 1.2726349105392805e-07}\n",
      "Epoch 1/20, Train Loss: 46.3143, Val mAP@50: 0.4973, FPS: 54.25, Epoch Time: 22.54 seconds\n",
      "Epoch 2/20, Train Loss: 35.6764, Val mAP@50: 0.6597, FPS: 54.20, Epoch Time: 22.53 seconds\n",
      "Epoch 3/20, Train Loss: 27.9287, Val mAP@50: 0.6769, FPS: 54.21, Epoch Time: 22.47 seconds\n",
      "Epoch 4/20, Train Loss: 19.6246, Val mAP@50: 0.7262, FPS: 54.20, Epoch Time: 22.43 seconds\n",
      "Epoch 5/20, Train Loss: 13.7681, Val mAP@50: 0.7513, FPS: 54.21, Epoch Time: 22.43 seconds\n",
      "Epoch 6/20, Train Loss: 11.6331, Val mAP@50: 0.7452, FPS: 54.18, Epoch Time: 22.42 seconds\n",
      "Epoch 7/20, Train Loss: 11.2955, Val mAP@50: 0.7248, FPS: 54.08, Epoch Time: 22.43 seconds\n",
      "Epoch 8/20, Train Loss: 13.7661, Val mAP@50: 0.6831, FPS: 54.11, Epoch Time: 22.42 seconds\n",
      "Epoch 9/20, Train Loss: 20.9412, Val mAP@50: 0.7215, FPS: 54.16, Epoch Time: 22.47 seconds\n",
      "Epoch 10/20, Train Loss: 25.6996, Val mAP@50: 0.5857, FPS: 54.13, Epoch Time: 22.53 seconds\n",
      "Epoch 11/20, Train Loss: 22.2737, Val mAP@50: 0.6657, FPS: 54.07, Epoch Time: 22.52 seconds\n",
      "Epoch 12/20, Train Loss: 16.4342, Val mAP@50: 0.6346, FPS: 53.65, Epoch Time: 22.58 seconds\n",
      "Epoch 13/20, Train Loss: 12.4092, Val mAP@50: 0.7008, FPS: 54.03, Epoch Time: 22.50 seconds\n",
      "Epoch 14/20, Train Loss: 9.0484, Val mAP@50: 0.7129, FPS: 54.14, Epoch Time: 22.46 seconds\n",
      "Epoch 15/20, Train Loss: 6.2265, Val mAP@50: 0.6794, FPS: 54.17, Epoch Time: 22.38 seconds\n",
      "Epoch 16/20, Train Loss: 5.1354, Val mAP@50: 0.6793, FPS: 54.14, Epoch Time: 22.41 seconds\n",
      "Epoch 17/20, Train Loss: 5.1295, Val mAP@50: 0.6848, FPS: 54.15, Epoch Time: 22.41 seconds\n",
      "Epoch 18/20, Train Loss: 6.0218, Val mAP@50: 0.6562, FPS: 54.06, Epoch Time: 22.41 seconds\n",
      "Epoch 19/20, Train Loss: 10.9168, Val mAP@50: 0.6565, FPS: 54.01, Epoch Time: 22.40 seconds\n"
     ]
    },
    {
     "name": "stderr",
     "output_type": "stream",
     "text": [
      "[I 2025-01-26 23:04:42,375] Trial 10 finished with value: 0.751297116279602 and parameters: {'batch_size': 4, 'epochs': 20, 'preweight_mode': 'fine_tuning', 'optimizer': 'AdamW', 'lr': 0.0001727935630014265, 'weight_decay': 0.001305443110763528, 'beta1': 0.8384084637388263, 'beta2': 0.9966465871541936, 'scheduler': 'CosineAnnealingLR', 'T_max': 5, 'eta_min': 1.2726349105392805e-07}. Best is trial 6 with value: 0.7595766186714172.\n"
     ]
    },
    {
     "name": "stdout",
     "output_type": "stream",
     "text": [
      "Epoch 20/20, Train Loss: 22.3945, Val mAP@50: 0.6058, FPS: 54.08, Epoch Time: 22.53 seconds\n",
      "Best Epoch: 4, Best Val mAP@50: 0.7513, Training Time: 449.26 seconds\n",
      "Model training complete.\n",
      "Checking Model: FasterRCNN\n",
      "Starting Trial #11\n",
      "{'batch_size': 4, 'epochs': 20, 'preweight_mode': 'fine_tuning', 'optimizer': 'AdamW', 'lr': 0.00011006134382628895, 'weight_decay': 0.001219332330568898, 'beta1': 0.8132826859576652, 'beta2': 0.9981630949532025, 'scheduler': 'CosineAnnealingLR', 'T_max': 5, 'eta_min': 1.0373933550020707e-07}\n",
      "Epoch 1/20, Train Loss: 45.7425, Val mAP@50: 0.4222, FPS: 53.95, Epoch Time: 22.60 seconds\n",
      "Epoch 2/20, Train Loss: 32.3211, Val mAP@50: 0.6592, FPS: 53.98, Epoch Time: 22.56 seconds\n",
      "Epoch 3/20, Train Loss: 26.0050, Val mAP@50: 0.7442, FPS: 54.15, Epoch Time: 22.50 seconds\n",
      "Epoch 4/20, Train Loss: 18.2276, Val mAP@50: 0.7468, FPS: 54.14, Epoch Time: 22.47 seconds\n",
      "Epoch 5/20, Train Loss: 13.2564, Val mAP@50: 0.7646, FPS: 54.28, Epoch Time: 22.44 seconds\n",
      "Epoch 6/20, Train Loss: 11.1949, Val mAP@50: 0.7660, FPS: 54.26, Epoch Time: 22.40 seconds\n",
      "Epoch 7/20, Train Loss: 11.2509, Val mAP@50: 0.7503, FPS: 54.29, Epoch Time: 22.36 seconds\n",
      "Epoch 8/20, Train Loss: 11.6120, Val mAP@50: 0.7408, FPS: 54.43, Epoch Time: 22.36 seconds\n",
      "Epoch 9/20, Train Loss: 18.6784, Val mAP@50: 0.7006, FPS: 54.08, Epoch Time: 22.42 seconds\n",
      "Epoch 10/20, Train Loss: 21.5434, Val mAP@50: 0.7350, FPS: 54.34, Epoch Time: 22.44 seconds\n",
      "Epoch 11/20, Train Loss: 17.6135, Val mAP@50: 0.5926, FPS: 54.33, Epoch Time: 22.32 seconds\n",
      "Epoch 12/20, Train Loss: 13.9491, Val mAP@50: 0.6831, FPS: 54.07, Epoch Time: 22.43 seconds\n",
      "Epoch 13/20, Train Loss: 10.6774, Val mAP@50: 0.7173, FPS: 54.32, Epoch Time: 22.39 seconds\n",
      "Epoch 14/20, Train Loss: 7.9951, Val mAP@50: 0.7313, FPS: 54.20, Epoch Time: 22.33 seconds\n",
      "Epoch 15/20, Train Loss: 5.5965, Val mAP@50: 0.7134, FPS: 54.29, Epoch Time: 22.35 seconds\n",
      "Epoch 16/20, Train Loss: 4.7403, Val mAP@50: 0.7134, FPS: 54.20, Epoch Time: 22.36 seconds\n",
      "Epoch 17/20, Train Loss: 4.7608, Val mAP@50: 0.6972, FPS: 54.16, Epoch Time: 22.38 seconds\n",
      "Epoch 18/20, Train Loss: 4.8084, Val mAP@50: 0.6861, FPS: 54.24, Epoch Time: 22.37 seconds\n",
      "Epoch 19/20, Train Loss: 7.8880, Val mAP@50: 0.6809, FPS: 54.14, Epoch Time: 22.39 seconds\n"
     ]
    },
    {
     "name": "stderr",
     "output_type": "stream",
     "text": [
      "[I 2025-01-26 23:12:11,733] Trial 11 finished with value: 0.7660157084465027 and parameters: {'batch_size': 4, 'epochs': 20, 'preweight_mode': 'fine_tuning', 'optimizer': 'AdamW', 'lr': 0.00011006134382628895, 'weight_decay': 0.001219332330568898, 'beta1': 0.8132826859576652, 'beta2': 0.9981630949532025, 'scheduler': 'CosineAnnealingLR', 'T_max': 5, 'eta_min': 1.0373933550020707e-07}. Best is trial 11 with value: 0.7660157084465027.\n"
     ]
    },
    {
     "name": "stdout",
     "output_type": "stream",
     "text": [
      "Epoch 20/20, Train Loss: 13.9702, Val mAP@50: 0.6184, FPS: 54.16, Epoch Time: 22.44 seconds\n",
      "Best Epoch: 5, Best Val mAP@50: 0.7660, Training Time: 448.32 seconds\n",
      "Model training complete.\n",
      "Checking Model: FasterRCNN\n",
      "Starting Trial #12\n",
      "{'batch_size': 4, 'epochs': 10, 'preweight_mode': 'fine_tuning', 'optimizer': 'AdamW', 'lr': 0.0001785101188525541, 'weight_decay': 0.0012591873389691888, 'beta1': 0.8148764525087936, 'beta2': 0.9988744806221446, 'scheduler': 'CosineAnnealingLR', 'T_max': 5, 'eta_min': 1.271892954373582e-07}\n",
      "Epoch 1/10, Train Loss: 46.9921, Val mAP@50: 0.4360, FPS: 54.37, Epoch Time: 22.56 seconds\n",
      "Epoch 2/10, Train Loss: 36.1341, Val mAP@50: 0.5971, FPS: 53.95, Epoch Time: 22.55 seconds\n",
      "Epoch 3/10, Train Loss: 27.3476, Val mAP@50: 0.7229, FPS: 54.26, Epoch Time: 22.47 seconds\n",
      "Epoch 4/10, Train Loss: 20.1936, Val mAP@50: 0.7361, FPS: 54.20, Epoch Time: 22.41 seconds\n",
      "Epoch 5/10, Train Loss: 14.0984, Val mAP@50: 0.7330, FPS: 54.22, Epoch Time: 22.40 seconds\n",
      "Epoch 6/10, Train Loss: 11.8763, Val mAP@50: 0.7452, FPS: 54.28, Epoch Time: 22.37 seconds\n",
      "Epoch 7/10, Train Loss: 11.6074, Val mAP@50: 0.7123, FPS: 54.22, Epoch Time: 22.36 seconds\n",
      "Epoch 8/10, Train Loss: 13.5451, Val mAP@50: 0.7169, FPS: 54.35, Epoch Time: 22.39 seconds\n",
      "Epoch 9/10, Train Loss: 23.0132, Val mAP@50: 0.6410, FPS: 54.22, Epoch Time: 22.45 seconds\n"
     ]
    },
    {
     "name": "stderr",
     "output_type": "stream",
     "text": [
      "[I 2025-01-26 23:15:57,245] Trial 12 finished with value: 0.7452496886253357 and parameters: {'batch_size': 4, 'epochs': 10, 'preweight_mode': 'fine_tuning', 'optimizer': 'AdamW', 'lr': 0.0001785101188525541, 'weight_decay': 0.0012591873389691888, 'beta1': 0.8148764525087936, 'beta2': 0.9988744806221446, 'scheduler': 'CosineAnnealingLR', 'T_max': 5, 'eta_min': 1.271892954373582e-07}. Best is trial 11 with value: 0.7660157084465027.\n"
     ]
    },
    {
     "name": "stdout",
     "output_type": "stream",
     "text": [
      "Epoch 10/10, Train Loss: 24.8574, Val mAP@50: 0.6110, FPS: 54.27, Epoch Time: 22.52 seconds\n",
      "Best Epoch: 5, Best Val mAP@50: 0.7452, Training Time: 224.48 seconds\n",
      "Model training complete.\n",
      "Checking Model: FasterRCNN\n",
      "Starting Trial #13\n",
      "{'batch_size': 5, 'epochs': 20, 'preweight_mode': 'fine_tuning', 'optimizer': 'AdamW', 'lr': 0.00010976812531628848, 'weight_decay': 0.0011847836434812024, 'beta1': 0.8714127513110054, 'beta2': 0.9640767898775007, 'scheduler': 'CosineAnnealingLR', 'T_max': 8, 'eta_min': 5.119054802509489e-07}\n",
      "Epoch 1/20, Train Loss: 35.8065, Val mAP@50: 0.5871, FPS: 55.27, Epoch Time: 22.49 seconds\n",
      "Epoch 2/20, Train Loss: 26.3888, Val mAP@50: 0.6847, FPS: 55.19, Epoch Time: 22.39 seconds\n",
      "Epoch 3/20, Train Loss: 21.2214, Val mAP@50: 0.6428, FPS: 54.96, Epoch Time: 22.44 seconds\n",
      "Epoch 4/20, Train Loss: 17.3839, Val mAP@50: 0.6881, FPS: 55.33, Epoch Time: 22.35 seconds\n",
      "Epoch 5/20, Train Loss: 12.9990, Val mAP@50: 0.7468, FPS: 55.46, Epoch Time: 22.33 seconds\n",
      "Epoch 6/20, Train Loss: 9.5142, Val mAP@50: 0.7051, FPS: 55.24, Epoch Time: 22.33 seconds\n",
      "Epoch 7/20, Train Loss: 7.2596, Val mAP@50: 0.7429, FPS: 55.55, Epoch Time: 22.24 seconds\n",
      "Epoch 8/20, Train Loss: 5.6329, Val mAP@50: 0.7105, FPS: 55.62, Epoch Time: 22.18 seconds\n",
      "Epoch 9/20, Train Loss: 4.9630, Val mAP@50: 0.7042, FPS: 55.59, Epoch Time: 22.17 seconds\n",
      "Epoch 10/20, Train Loss: 4.9348, Val mAP@50: 0.7028, FPS: 55.52, Epoch Time: 22.19 seconds\n",
      "Epoch 11/20, Train Loss: 4.9058, Val mAP@50: 0.7073, FPS: 55.53, Epoch Time: 22.18 seconds\n",
      "Epoch 12/20, Train Loss: 6.0259, Val mAP@50: 0.7119, FPS: 55.59, Epoch Time: 22.19 seconds\n",
      "Epoch 13/20, Train Loss: 7.9226, Val mAP@50: 0.7106, FPS: 55.53, Epoch Time: 22.20 seconds\n",
      "Epoch 14/20, Train Loss: 9.2511, Val mAP@50: 0.6598, FPS: 55.61, Epoch Time: 22.18 seconds\n",
      "Epoch 15/20, Train Loss: 10.0422, Val mAP@50: 0.6859, FPS: 55.48, Epoch Time: 22.22 seconds\n",
      "Epoch 16/20, Train Loss: 10.4700, Val mAP@50: 0.6283, FPS: 55.33, Epoch Time: 22.28 seconds\n",
      "Epoch 17/20, Train Loss: 10.0568, Val mAP@50: 0.7058, FPS: 55.28, Epoch Time: 22.30 seconds\n",
      "Epoch 18/20, Train Loss: 9.0577, Val mAP@50: 0.6938, FPS: 55.58, Epoch Time: 22.20 seconds\n",
      "Epoch 19/20, Train Loss: 7.9538, Val mAP@50: 0.6984, FPS: 55.51, Epoch Time: 22.22 seconds\n"
     ]
    },
    {
     "name": "stderr",
     "output_type": "stream",
     "text": [
      "[I 2025-01-26 23:23:23,649] Trial 13 finished with value: 0.746829628944397 and parameters: {'batch_size': 5, 'epochs': 20, 'preweight_mode': 'fine_tuning', 'optimizer': 'AdamW', 'lr': 0.00010976812531628848, 'weight_decay': 0.0011847836434812024, 'beta1': 0.8714127513110054, 'beta2': 0.9640767898775007, 'scheduler': 'CosineAnnealingLR', 'T_max': 8, 'eta_min': 5.119054802509489e-07}. Best is trial 11 with value: 0.7660157084465027.\n"
     ]
    },
    {
     "name": "stdout",
     "output_type": "stream",
     "text": [
      "Epoch 20/20, Train Loss: 7.3443, Val mAP@50: 0.6697, FPS: 55.01, Epoch Time: 22.30 seconds\n",
      "Best Epoch: 4, Best Val mAP@50: 0.7468, Training Time: 445.39 seconds\n",
      "Model training complete.\n",
      "Checking Model: FasterRCNN\n",
      "Starting Trial #14\n",
      "{'batch_size': 5, 'epochs': 10, 'preweight_mode': 'fine_tuning', 'optimizer': 'SGD', 'lr': 0.017131484347707296, 'momentum': 0.9251752004622653, 'weight_decay': 1.1831466490054087e-05, 'scheduler': 'OneCycleLR', 'max_lr': 0.00010254561856137388}\n",
      "Epoch 1/10, Train Loss: 55.3862, Val mAP@50: 0.0000, FPS: 55.01, Epoch Time: 21.96 seconds\n",
      "Epoch 2/10, Train Loss: 38.8112, Val mAP@50: 0.0000, FPS: 55.15, Epoch Time: 22.15 seconds\n",
      "Epoch 3/10, Train Loss: 38.5008, Val mAP@50: 0.0000, FPS: 55.14, Epoch Time: 22.12 seconds\n",
      "Epoch 4/10, Train Loss: 39.0096, Val mAP@50: 0.0000, FPS: 55.24, Epoch Time: 22.15 seconds\n"
     ]
    },
    {
     "name": "stderr",
     "output_type": "stream",
     "text": [
      "[I 2025-01-26 23:25:14,983] Trial 14 pruned. \n"
     ]
    },
    {
     "name": "stdout",
     "output_type": "stream",
     "text": [
      "Trial pruned by Optuna at epoch 4.\n",
      "Checking Model: FasterRCNN\n",
      "Starting Trial #15\n",
      "{'batch_size': 5, 'epochs': 15, 'preweight_mode': 'fine_tuning', 'optimizer': 'AdamW', 'lr': 0.00034069812173473266, 'weight_decay': 0.0025655884291418333, 'beta1': 0.8013610220197893, 'beta2': 0.9649201050286638, 'scheduler': 'CosineAnnealingLR', 'T_max': 15, 'eta_min': 2.831940902454824e-07}\n",
      "Epoch 1/15, Train Loss: 43.5580, Val mAP@50: 0.3473, FPS: 55.44, Epoch Time: 22.43 seconds\n",
      "Epoch 2/15, Train Loss: 33.8960, Val mAP@50: 0.5159, FPS: 55.45, Epoch Time: 22.43 seconds\n",
      "Epoch 3/15, Train Loss: 29.1657, Val mAP@50: 0.5770, FPS: 55.53, Epoch Time: 22.34 seconds\n",
      "Epoch 4/15, Train Loss: 26.5795, Val mAP@50: 0.6216, FPS: 55.03, Epoch Time: 22.33 seconds\n",
      "Epoch 5/15, Train Loss: 23.1094, Val mAP@50: 0.6283, FPS: 54.96, Epoch Time: 22.39 seconds\n"
     ]
    },
    {
     "name": "stderr",
     "output_type": "stream",
     "text": [
      "[I 2025-01-26 23:27:30,100] Trial 15 pruned. \n"
     ]
    },
    {
     "name": "stdout",
     "output_type": "stream",
     "text": [
      "Trial pruned by Optuna at epoch 5.\n",
      "Checking Model: FasterRCNN\n",
      "Starting Trial #16\n",
      "{'batch_size': 4, 'epochs': 19, 'preweight_mode': 'random', 'optimizer': 'SGD', 'lr': 0.011429005556281204, 'momentum': 0.9285446680004956, 'weight_decay': 0.00020478219531192877, 'scheduler': 'CosineAnnealingLR', 'T_max': 7, 'eta_min': 2.8985024542695094e-06}\n",
      "Epoch 1/19, Train Loss: nan, Val mAP@50: 0.0000, FPS: 67.35, Epoch Time: 20.39 seconds\n",
      "Epoch 2/19, Train Loss: nan, Val mAP@50: 0.0000, FPS: 67.38, Epoch Time: 18.81 seconds\n",
      "Epoch 3/19, Train Loss: nan, Val mAP@50: 0.0000, FPS: 67.41, Epoch Time: 18.82 seconds\n",
      "Epoch 4/19, Train Loss: nan, Val mAP@50: 0.0000, FPS: 67.39, Epoch Time: 18.81 seconds\n"
     ]
    },
    {
     "name": "stderr",
     "output_type": "stream",
     "text": [
      "[I 2025-01-26 23:29:06,510] Trial 16 pruned. \n"
     ]
    },
    {
     "name": "stdout",
     "output_type": "stream",
     "text": [
      "Trial pruned by Optuna at epoch 4.\n",
      "Checking Model: FasterRCNN\n",
      "Starting Trial #17\n",
      "{'batch_size': 5, 'epochs': 12, 'preweight_mode': 'fine_tuning', 'optimizer': 'AdamW', 'lr': 0.0024178983079523857, 'weight_decay': 0.0029254007372684944, 'beta1': 0.9048626018885886, 'beta2': 0.9082256257207966, 'scheduler': 'CosineAnnealingLR', 'T_max': 11, 'eta_min': 2.721868856380974e-07}\n",
      "Epoch 1/12, Train Loss: 7870221.3232, Val mAP@50: 0.0000, FPS: 62.08, Epoch Time: 20.63 seconds\n",
      "Epoch 2/12, Train Loss: 3111.8131, Val mAP@50: 0.0000, FPS: 61.56, Epoch Time: 21.25 seconds\n",
      "Epoch 3/12, Train Loss: 300.2007, Val mAP@50: 0.0000, FPS: 55.78, Epoch Time: 22.04 seconds\n",
      "Epoch 4/12, Train Loss: 75.6555, Val mAP@50: 0.0000, FPS: 56.36, Epoch Time: 22.16 seconds\n"
     ]
    },
    {
     "name": "stderr",
     "output_type": "stream",
     "text": [
      "[I 2025-01-26 23:30:55,472] Trial 17 pruned. \n"
     ]
    },
    {
     "name": "stdout",
     "output_type": "stream",
     "text": [
      "Trial pruned by Optuna at epoch 4.\n",
      "Checking Model: FasterRCNN\n",
      "Starting Trial #18\n",
      "{'batch_size': 7, 'epochs': 15, 'preweight_mode': 'fine_tuning', 'optimizer': 'Adam', 'lr': 0.00047993046803821457, 'beta1': 0.9683613329569909, 'beta2': 0.973103363405973, 'scheduler': 'OneCycleLR', 'max_lr': 0.00028820919478023745}\n",
      "Epoch 1/15, Train Loss: 36.4722, Val mAP@50: 0.0710, FPS: 56.47, Epoch Time: 22.25 seconds\n",
      "Epoch 2/15, Train Loss: 26.2133, Val mAP@50: 0.4977, FPS: 56.35, Epoch Time: 22.26 seconds\n",
      "Epoch 3/15, Train Loss: 20.5391, Val mAP@50: 0.6325, FPS: 56.39, Epoch Time: 22.23 seconds\n",
      "Epoch 4/15, Train Loss: 17.3838, Val mAP@50: 0.6537, FPS: 56.31, Epoch Time: 22.19 seconds\n",
      "Epoch 5/15, Train Loss: 14.9424, Val mAP@50: 0.7070, FPS: 56.22, Epoch Time: 22.24 seconds\n",
      "Epoch 6/15, Train Loss: 12.4766, Val mAP@50: 0.6825, FPS: 56.41, Epoch Time: 22.11 seconds\n"
     ]
    },
    {
     "name": "stderr",
     "output_type": "stream",
     "text": [
      "[I 2025-01-26 23:33:31,658] Trial 18 pruned. \n"
     ]
    },
    {
     "name": "stdout",
     "output_type": "stream",
     "text": [
      "Trial pruned by Optuna at epoch 6.\n",
      "Checking Model: FasterRCNN\n",
      "Starting Trial #19\n",
      "{'batch_size': 8, 'epochs': 19, 'preweight_mode': 'random', 'optimizer': 'AdamW', 'lr': 0.0018926520102545957, 'weight_decay': 0.004374896478117527, 'beta1': 0.8661956870897728, 'beta2': 0.9795504094990028, 'scheduler': 'CosineAnnealingLR', 'T_max': 5, 'eta_min': 1.97755766191336e-06}\n",
      "Epoch 1/19, Train Loss: 329778.7728, Val mAP@50: 0.0000, FPS: 58.28, Epoch Time: 21.42 seconds\n",
      "Epoch 2/19, Train Loss: 34.0923, Val mAP@50: 0.0000, FPS: 58.57, Epoch Time: 21.87 seconds\n",
      "Epoch 3/19, Train Loss: 26.0220, Val mAP@50: 0.0000, FPS: 58.43, Epoch Time: 21.82 seconds\n",
      "Epoch 4/19, Train Loss: 22.5490, Val mAP@50: 0.0000, FPS: 58.19, Epoch Time: 21.81 seconds\n"
     ]
    },
    {
     "name": "stderr",
     "output_type": "stream",
     "text": [
      "[I 2025-01-26 23:35:21,184] Trial 19 pruned. \n"
     ]
    },
    {
     "name": "stdout",
     "output_type": "stream",
     "text": [
      "Trial pruned by Optuna at epoch 4.\n",
      "Checking Model: FasterRCNN\n",
      "Starting Trial #20\n",
      "{'batch_size': 6, 'epochs': 16, 'preweight_mode': 'fine_tuning', 'optimizer': 'SGD', 'lr': 0.012107875192737816, 'momentum': 0.9036154357682028, 'weight_decay': 1.0308843653640133e-05, 'scheduler': 'CosineAnnealingLR', 'T_max': 7, 'eta_min': 2.8075761711654535e-07}\n",
      "Epoch 1/16, Train Loss: 48.2393, Val mAP@50: 0.2005, FPS: 58.42, Epoch Time: 22.11 seconds\n",
      "Epoch 2/16, Train Loss: 26.2423, Val mAP@50: 0.5471, FPS: 58.02, Epoch Time: 22.08 seconds\n",
      "Epoch 3/16, Train Loss: 22.3535, Val mAP@50: 0.6744, FPS: 58.39, Epoch Time: 22.03 seconds\n",
      "Epoch 4/16, Train Loss: 18.0413, Val mAP@50: 0.7058, FPS: 58.33, Epoch Time: 21.95 seconds\n",
      "Epoch 5/16, Train Loss: 15.3930, Val mAP@50: 0.7479, FPS: 58.36, Epoch Time: 21.95 seconds\n",
      "Epoch 6/16, Train Loss: 12.3451, Val mAP@50: 0.7369, FPS: 58.30, Epoch Time: 21.89 seconds\n",
      "Epoch 7/16, Train Loss: 10.9636, Val mAP@50: 0.7279, FPS: 58.36, Epoch Time: 21.87 seconds\n",
      "Epoch 8/16, Train Loss: 10.1984, Val mAP@50: 0.7279, FPS: 58.36, Epoch Time: 21.87 seconds\n",
      "Epoch 9/16, Train Loss: 10.3303, Val mAP@50: 0.7242, FPS: 58.40, Epoch Time: 21.87 seconds\n",
      "Epoch 10/16, Train Loss: 10.3652, Val mAP@50: 0.7200, FPS: 58.27, Epoch Time: 21.88 seconds\n",
      "Epoch 11/16, Train Loss: 10.3128, Val mAP@50: 0.7178, FPS: 58.18, Epoch Time: 21.89 seconds\n",
      "Epoch 12/16, Train Loss: 10.5192, Val mAP@50: 0.6837, FPS: 58.29, Epoch Time: 21.86 seconds\n",
      "Epoch 13/16, Train Loss: 11.8476, Val mAP@50: 0.7043, FPS: 58.42, Epoch Time: 21.90 seconds\n",
      "Epoch 14/16, Train Loss: 13.0201, Val mAP@50: 0.6569, FPS: 58.03, Epoch Time: 21.91 seconds\n",
      "Epoch 15/16, Train Loss: 11.3674, Val mAP@50: 0.6564, FPS: 58.29, Epoch Time: 21.87 seconds\n"
     ]
    },
    {
     "name": "stderr",
     "output_type": "stream",
     "text": [
      "[I 2025-01-26 23:41:12,950] Trial 20 finished with value: 0.7478744387626648 and parameters: {'batch_size': 6, 'epochs': 16, 'preweight_mode': 'fine_tuning', 'optimizer': 'SGD', 'lr': 0.012107875192737816, 'momentum': 0.9036154357682028, 'weight_decay': 1.0308843653640133e-05, 'scheduler': 'CosineAnnealingLR', 'T_max': 7, 'eta_min': 2.8075761711654535e-07}. Best is trial 11 with value: 0.7660157084465027.\n"
     ]
    },
    {
     "name": "stdout",
     "output_type": "stream",
     "text": [
      "Epoch 16/16, Train Loss: 10.1814, Val mAP@50: 0.6524, FPS: 58.49, Epoch Time: 21.86 seconds\n",
      "Best Epoch: 4, Best Val mAP@50: 0.7479, Training Time: 350.78 seconds\n",
      "Model training complete.\n",
      "Checking Model: FasterRCNN\n",
      "Starting Trial #21\n",
      "{'batch_size': 4, 'epochs': 20, 'preweight_mode': 'fine_tuning', 'optimizer': 'AdamW', 'lr': 0.00010158667655101443, 'weight_decay': 0.0019419825410363493, 'beta1': 0.8371696587588211, 'beta2': 0.9987775873854282, 'scheduler': 'CosineAnnealingLR', 'T_max': 5, 'eta_min': 1.060835754932426e-07}\n",
      "Epoch 1/20, Train Loss: 45.2094, Val mAP@50: 0.5606, FPS: 54.42, Epoch Time: 22.52 seconds\n",
      "Epoch 2/20, Train Loss: 32.0013, Val mAP@50: 0.6715, FPS: 54.28, Epoch Time: 22.42 seconds\n",
      "Epoch 3/20, Train Loss: 25.0089, Val mAP@50: 0.6947, FPS: 54.46, Epoch Time: 22.42 seconds\n",
      "Epoch 4/20, Train Loss: 17.6173, Val mAP@50: 0.7791, FPS: 54.43, Epoch Time: 22.36 seconds\n",
      "Epoch 5/20, Train Loss: 12.7766, Val mAP@50: 0.7469, FPS: 54.43, Epoch Time: 22.36 seconds\n",
      "Epoch 6/20, Train Loss: 10.8463, Val mAP@50: 0.7455, FPS: 54.56, Epoch Time: 22.33 seconds\n",
      "Epoch 7/20, Train Loss: 10.7875, Val mAP@50: 0.7370, FPS: 54.54, Epoch Time: 22.29 seconds\n",
      "Epoch 8/20, Train Loss: 11.2800, Val mAP@50: 0.7389, FPS: 54.51, Epoch Time: 22.28 seconds\n",
      "Epoch 9/20, Train Loss: 16.7407, Val mAP@50: 0.6535, FPS: 54.39, Epoch Time: 22.34 seconds\n",
      "Epoch 10/20, Train Loss: 21.7253, Val mAP@50: 0.6145, FPS: 54.43, Epoch Time: 22.41 seconds\n",
      "Epoch 11/20, Train Loss: 18.5141, Val mAP@50: 0.6832, FPS: 54.44, Epoch Time: 22.36 seconds\n",
      "Epoch 12/20, Train Loss: 14.5127, Val mAP@50: 0.6771, FPS: 54.30, Epoch Time: 22.32 seconds\n",
      "Epoch 13/20, Train Loss: 11.0011, Val mAP@50: 0.7151, FPS: 54.38, Epoch Time: 22.29 seconds\n",
      "Epoch 14/20, Train Loss: 7.8319, Val mAP@50: 0.6980, FPS: 54.31, Epoch Time: 22.29 seconds\n",
      "Epoch 15/20, Train Loss: 5.7553, Val mAP@50: 0.7068, FPS: 54.37, Epoch Time: 22.30 seconds\n",
      "Epoch 16/20, Train Loss: 4.9244, Val mAP@50: 0.7074, FPS: 54.32, Epoch Time: 22.29 seconds\n",
      "Epoch 17/20, Train Loss: 4.9008, Val mAP@50: 0.7022, FPS: 54.32, Epoch Time: 22.28 seconds\n",
      "Epoch 18/20, Train Loss: 4.9353, Val mAP@50: 0.6953, FPS: 54.36, Epoch Time: 22.27 seconds\n",
      "Epoch 19/20, Train Loss: 6.7673, Val mAP@50: 0.6913, FPS: 54.38, Epoch Time: 22.21 seconds\n"
     ]
    },
    {
     "name": "stderr",
     "output_type": "stream",
     "text": [
      "[I 2025-01-26 23:48:40,528] Trial 21 finished with value: 0.7791067957878113 and parameters: {'batch_size': 4, 'epochs': 20, 'preweight_mode': 'fine_tuning', 'optimizer': 'AdamW', 'lr': 0.00010158667655101443, 'weight_decay': 0.0019419825410363493, 'beta1': 0.8371696587588211, 'beta2': 0.9987775873854282, 'scheduler': 'CosineAnnealingLR', 'T_max': 5, 'eta_min': 1.060835754932426e-07}. Best is trial 21 with value: 0.7791067957878113.\n"
     ]
    },
    {
     "name": "stdout",
     "output_type": "stream",
     "text": [
      "Epoch 20/20, Train Loss: 11.6161, Val mAP@50: 0.6809, FPS: 54.43, Epoch Time: 22.22 seconds\n",
      "Best Epoch: 3, Best Val mAP@50: 0.7791, Training Time: 446.57 seconds\n",
      "Model training complete.\n",
      "Checking Model: FasterRCNN\n",
      "Starting Trial #22\n",
      "{'batch_size': 4, 'epochs': 19, 'preweight_mode': 'fine_tuning', 'optimizer': 'AdamW', 'lr': 0.000121859450863752, 'weight_decay': 0.0021779807858909616, 'beta1': 0.8409018157299676, 'beta2': 0.9861362698323977, 'scheduler': 'CosineAnnealingLR', 'T_max': 6, 'eta_min': 1.0672186222066504e-07}\n",
      "Epoch 1/19, Train Loss: 45.4165, Val mAP@50: 0.5419, FPS: 54.42, Epoch Time: 22.52 seconds\n",
      "Epoch 2/19, Train Loss: 33.3476, Val mAP@50: 0.6887, FPS: 54.41, Epoch Time: 22.42 seconds\n",
      "Epoch 3/19, Train Loss: 27.8355, Val mAP@50: 0.6552, FPS: 54.43, Epoch Time: 22.46 seconds\n",
      "Epoch 4/19, Train Loss: 19.8673, Val mAP@50: 0.7473, FPS: 54.43, Epoch Time: 22.35 seconds\n",
      "Epoch 5/19, Train Loss: 13.8845, Val mAP@50: 0.7112, FPS: 54.31, Epoch Time: 22.35 seconds\n",
      "Epoch 6/19, Train Loss: 10.4085, Val mAP@50: 0.7054, FPS: 54.51, Epoch Time: 22.29 seconds\n",
      "Epoch 7/19, Train Loss: 8.9666, Val mAP@50: 0.7046, FPS: 54.55, Epoch Time: 22.28 seconds\n",
      "Epoch 8/19, Train Loss: 8.9728, Val mAP@50: 0.7014, FPS: 54.53, Epoch Time: 22.28 seconds\n",
      "Epoch 9/19, Train Loss: 9.2300, Val mAP@50: 0.6889, FPS: 54.49, Epoch Time: 22.29 seconds\n",
      "Epoch 10/19, Train Loss: 12.7969, Val mAP@50: 0.7217, FPS: 54.44, Epoch Time: 22.33 seconds\n",
      "Epoch 11/19, Train Loss: 16.0004, Val mAP@50: 0.6487, FPS: 54.51, Epoch Time: 22.37 seconds\n",
      "Epoch 12/19, Train Loss: 16.9512, Val mAP@50: 0.7013, FPS: 54.31, Epoch Time: 22.40 seconds\n",
      "Epoch 13/19, Train Loss: 15.3125, Val mAP@50: 0.6441, FPS: 54.37, Epoch Time: 22.41 seconds\n",
      "Epoch 14/19, Train Loss: 14.0593, Val mAP@50: 0.6849, FPS: 54.28, Epoch Time: 22.36 seconds\n",
      "Epoch 15/19, Train Loss: 11.5711, Val mAP@50: 0.6878, FPS: 54.33, Epoch Time: 22.39 seconds\n",
      "Epoch 16/19, Train Loss: 9.0194, Val mAP@50: 0.6880, FPS: 54.33, Epoch Time: 22.35 seconds\n",
      "Epoch 17/19, Train Loss: 6.6951, Val mAP@50: 0.7270, FPS: 54.28, Epoch Time: 22.34 seconds\n",
      "Epoch 18/19, Train Loss: 4.6850, Val mAP@50: 0.7040, FPS: 54.34, Epoch Time: 22.30 seconds\n"
     ]
    },
    {
     "name": "stderr",
     "output_type": "stream",
     "text": [
      "[I 2025-01-26 23:55:46,323] Trial 22 finished with value: 0.7472524642944336 and parameters: {'batch_size': 4, 'epochs': 19, 'preweight_mode': 'fine_tuning', 'optimizer': 'AdamW', 'lr': 0.000121859450863752, 'weight_decay': 0.0021779807858909616, 'beta1': 0.8409018157299676, 'beta2': 0.9861362698323977, 'scheduler': 'CosineAnnealingLR', 'T_max': 6, 'eta_min': 1.0672186222066504e-07}. Best is trial 21 with value: 0.7791067957878113.\n"
     ]
    },
    {
     "name": "stdout",
     "output_type": "stream",
     "text": [
      "Epoch 19/19, Train Loss: 3.8471, Val mAP@50: 0.7037, FPS: 54.35, Epoch Time: 22.29 seconds\n",
      "Best Epoch: 3, Best Val mAP@50: 0.7473, Training Time: 424.79 seconds\n",
      "Model training complete.\n",
      "Checking Model: FasterRCNN\n",
      "Starting Trial #23\n",
      "{'batch_size': 4, 'epochs': 20, 'preweight_mode': 'fine_tuning', 'optimizer': 'AdamW', 'lr': 0.00022912531108645052, 'weight_decay': 0.0019382230958670343, 'beta1': 0.8385533199556532, 'beta2': 0.9465707722872423, 'scheduler': 'CosineAnnealingLR', 'T_max': 9, 'eta_min': 1.9656651548357093e-07}\n",
      "Epoch 1/20, Train Loss: 49.1645, Val mAP@50: 0.4390, FPS: 54.30, Epoch Time: 22.58 seconds\n",
      "Epoch 2/20, Train Loss: 38.1723, Val mAP@50: 0.5462, FPS: 54.21, Epoch Time: 22.51 seconds\n",
      "Epoch 3/20, Train Loss: 33.6811, Val mAP@50: 0.6668, FPS: 54.01, Epoch Time: 22.52 seconds\n",
      "Epoch 4/20, Train Loss: 28.0391, Val mAP@50: 0.6999, FPS: 54.41, Epoch Time: 22.49 seconds\n",
      "Epoch 5/20, Train Loss: 21.4749, Val mAP@50: 0.7105, FPS: 54.17, Epoch Time: 22.43 seconds\n"
     ]
    },
    {
     "name": "stderr",
     "output_type": "stream",
     "text": [
      "[I 2025-01-26 23:58:02,156] Trial 23 pruned. \n"
     ]
    },
    {
     "name": "stdout",
     "output_type": "stream",
     "text": [
      "Trial pruned by Optuna at epoch 5.\n",
      "Checking Model: FasterRCNN\n",
      "Starting Trial #24\n",
      "{'batch_size': 5, 'epochs': 18, 'preweight_mode': 'fine_tuning', 'optimizer': 'AdamW', 'lr': 0.00027268763239096075, 'weight_decay': 0.003577638085317036, 'beta1': 0.8716068312846099, 'beta2': 0.9870250581635656, 'scheduler': 'CosineAnnealingLR', 'T_max': 6, 'eta_min': 5.879248196870493e-07}\n",
      "Epoch 1/18, Train Loss: 39.3632, Val mAP@50: 0.5150, FPS: 55.38, Epoch Time: 22.43 seconds\n",
      "Epoch 2/18, Train Loss: 30.4601, Val mAP@50: 0.6528, FPS: 54.68, Epoch Time: 22.43 seconds\n",
      "Epoch 3/18, Train Loss: 26.3852, Val mAP@50: 0.6462, FPS: 55.38, Epoch Time: 22.39 seconds\n",
      "Epoch 4/18, Train Loss: 20.5459, Val mAP@50: 0.6739, FPS: 55.54, Epoch Time: 22.34 seconds\n",
      "Epoch 5/18, Train Loss: 14.6033, Val mAP@50: 0.7050, FPS: 55.53, Epoch Time: 22.27 seconds\n"
     ]
    },
    {
     "name": "stderr",
     "output_type": "stream",
     "text": [
      "[I 2025-01-27 00:00:17,035] Trial 24 pruned. \n"
     ]
    },
    {
     "name": "stdout",
     "output_type": "stream",
     "text": [
      "Trial pruned by Optuna at epoch 5.\n",
      "Checking Model: FasterRCNN\n",
      "Starting Trial #25\n",
      "{'batch_size': 4, 'epochs': 18, 'preweight_mode': 'fine_tuning', 'optimizer': 'AdamW', 'lr': 0.00010048545816054493, 'weight_decay': 0.0016427352546238216, 'beta1': 0.9358324430277309, 'beta2': 0.9542306452784934, 'scheduler': 'CosineAnnealingLR', 'T_max': 5, 'eta_min': 1.6475626665177984e-07}\n",
      "Epoch 1/18, Train Loss: 45.8638, Val mAP@50: 0.6182, FPS: 54.21, Epoch Time: 22.53 seconds\n",
      "Epoch 2/18, Train Loss: 33.3876, Val mAP@50: 0.6437, FPS: 54.29, Epoch Time: 22.46 seconds\n",
      "Epoch 3/18, Train Loss: 26.4196, Val mAP@50: 0.7094, FPS: 54.39, Epoch Time: 22.49 seconds\n",
      "Epoch 4/18, Train Loss: 19.4074, Val mAP@50: 0.7589, FPS: 54.51, Epoch Time: 22.36 seconds\n",
      "Epoch 5/18, Train Loss: 13.7803, Val mAP@50: 0.7624, FPS: 54.47, Epoch Time: 22.32 seconds\n",
      "Epoch 6/18, Train Loss: 11.7573, Val mAP@50: 0.7628, FPS: 54.43, Epoch Time: 22.32 seconds\n",
      "Epoch 7/18, Train Loss: 11.4570, Val mAP@50: 0.7280, FPS: 54.46, Epoch Time: 22.31 seconds\n",
      "Epoch 8/18, Train Loss: 11.2716, Val mAP@50: 0.7312, FPS: 54.36, Epoch Time: 22.30 seconds\n",
      "Epoch 9/18, Train Loss: 13.8756, Val mAP@50: 0.6921, FPS: 54.09, Epoch Time: 22.30 seconds\n",
      "Epoch 10/18, Train Loss: 16.5780, Val mAP@50: 0.6836, FPS: 54.27, Epoch Time: 22.40 seconds\n",
      "Epoch 11/18, Train Loss: 16.0930, Val mAP@50: 0.6770, FPS: 54.36, Epoch Time: 22.41 seconds\n",
      "Epoch 12/18, Train Loss: 14.3366, Val mAP@50: 0.7546, FPS: 54.37, Epoch Time: 22.36 seconds\n",
      "Epoch 13/18, Train Loss: 11.6970, Val mAP@50: 0.6380, FPS: 54.25, Epoch Time: 22.36 seconds\n",
      "Epoch 14/18, Train Loss: 9.1019, Val mAP@50: 0.7220, FPS: 54.19, Epoch Time: 22.40 seconds\n",
      "Epoch 15/18, Train Loss: 6.2098, Val mAP@50: 0.7231, FPS: 54.17, Epoch Time: 22.44 seconds\n",
      "Epoch 16/18, Train Loss: 4.8522, Val mAP@50: 0.7161, FPS: 54.13, Epoch Time: 22.45 seconds\n",
      "Epoch 17/18, Train Loss: 4.7507, Val mAP@50: 0.7002, FPS: 54.06, Epoch Time: 22.46 seconds\n"
     ]
    },
    {
     "name": "stderr",
     "output_type": "stream",
     "text": [
      "[I 2025-01-27 00:07:01,141] Trial 25 finished with value: 0.7627602815628052 and parameters: {'batch_size': 4, 'epochs': 18, 'preweight_mode': 'fine_tuning', 'optimizer': 'AdamW', 'lr': 0.00010048545816054493, 'weight_decay': 0.0016427352546238216, 'beta1': 0.9358324430277309, 'beta2': 0.9542306452784934, 'scheduler': 'CosineAnnealingLR', 'T_max': 5, 'eta_min': 1.6475626665177984e-07}. Best is trial 21 with value: 0.7791067957878113.\n"
     ]
    },
    {
     "name": "stdout",
     "output_type": "stream",
     "text": [
      "Epoch 18/18, Train Loss: 5.0070, Val mAP@50: 0.6859, FPS: 54.06, Epoch Time: 22.41 seconds\n",
      "Best Epoch: 5, Best Val mAP@50: 0.7628, Training Time: 403.10 seconds\n",
      "Model training complete.\n",
      "Checking Model: FasterRCNN\n",
      "Starting Trial #26\n",
      "{'batch_size': 4, 'epochs': 19, 'preweight_mode': 'fine_tuning', 'optimizer': 'AdamW', 'lr': 0.00010547467915413987, 'weight_decay': 0.0016999281803879989, 'beta1': 0.9293591218093961, 'beta2': 0.9524736370996945, 'scheduler': 'StepLR', 'step_size': 2, 'gamma': 0.47327982481120223}\n",
      "Epoch 1/19, Train Loss: 45.2176, Val mAP@50: 0.5747, FPS: 54.38, Epoch Time: 22.50 seconds\n",
      "Epoch 2/19, Train Loss: 32.7619, Val mAP@50: 0.6032, FPS: 54.41, Epoch Time: 22.38 seconds\n",
      "Epoch 3/19, Train Loss: 25.0615, Val mAP@50: 0.7138, FPS: 54.39, Epoch Time: 22.49 seconds\n",
      "Epoch 4/19, Train Loss: 18.9341, Val mAP@50: 0.7118, FPS: 54.01, Epoch Time: 22.41 seconds\n",
      "Epoch 5/19, Train Loss: 13.9023, Val mAP@50: 0.6925, FPS: 54.29, Epoch Time: 22.46 seconds\n",
      "Epoch 6/19, Train Loss: 11.1785, Val mAP@50: 0.7414, FPS: 54.24, Epoch Time: 22.45 seconds\n",
      "Epoch 7/19, Train Loss: 8.8250, Val mAP@50: 0.7216, FPS: 54.23, Epoch Time: 22.48 seconds\n",
      "Epoch 8/19, Train Loss: 7.4128, Val mAP@50: 0.7020, FPS: 54.29, Epoch Time: 22.45 seconds\n",
      "Epoch 9/19, Train Loss: 6.3938, Val mAP@50: 0.7056, FPS: 54.24, Epoch Time: 22.46 seconds\n",
      "Epoch 10/19, Train Loss: 5.6616, Val mAP@50: 0.7047, FPS: 54.25, Epoch Time: 22.46 seconds\n",
      "Epoch 11/19, Train Loss: 5.2192, Val mAP@50: 0.7042, FPS: 54.24, Epoch Time: 22.45 seconds\n",
      "Epoch 12/19, Train Loss: 4.9818, Val mAP@50: 0.7038, FPS: 54.23, Epoch Time: 22.44 seconds\n",
      "Epoch 13/19, Train Loss: 4.6870, Val mAP@50: 0.7058, FPS: 54.26, Epoch Time: 22.44 seconds\n",
      "Epoch 14/19, Train Loss: 4.5701, Val mAP@50: 0.7056, FPS: 54.24, Epoch Time: 22.45 seconds\n",
      "Epoch 15/19, Train Loss: 4.4327, Val mAP@50: 0.7047, FPS: 53.99, Epoch Time: 22.49 seconds\n",
      "Epoch 16/19, Train Loss: 4.3981, Val mAP@50: 0.7050, FPS: 54.06, Epoch Time: 22.51 seconds\n",
      "Epoch 17/19, Train Loss: 4.3139, Val mAP@50: 0.7053, FPS: 54.06, Epoch Time: 22.52 seconds\n",
      "Epoch 18/19, Train Loss: 4.3602, Val mAP@50: 0.7047, FPS: 54.06, Epoch Time: 22.51 seconds\n"
     ]
    },
    {
     "name": "stderr",
     "output_type": "stream",
     "text": [
      "[I 2025-01-27 00:14:09,036] Trial 26 finished with value: 0.7414030432701111 and parameters: {'batch_size': 4, 'epochs': 19, 'preweight_mode': 'fine_tuning', 'optimizer': 'AdamW', 'lr': 0.00010547467915413987, 'weight_decay': 0.0016999281803879989, 'beta1': 0.9293591218093961, 'beta2': 0.9524736370996945, 'scheduler': 'StepLR', 'step_size': 2, 'gamma': 0.47327982481120223}. Best is trial 21 with value: 0.7791067957878113.\n"
     ]
    },
    {
     "name": "stdout",
     "output_type": "stream",
     "text": [
      "Epoch 19/19, Train Loss: 4.3020, Val mAP@50: 0.7052, FPS: 54.03, Epoch Time: 22.51 seconds\n",
      "Best Epoch: 5, Best Val mAP@50: 0.7414, Training Time: 426.85 seconds\n",
      "Model training complete.\n",
      "Checking Model: FasterRCNN\n",
      "Starting Trial #27\n",
      "{'batch_size': 4, 'epochs': 20, 'preweight_mode': 'fine_tuning', 'optimizer': 'AdamW', 'lr': 0.00015680199016994097, 'weight_decay': 0.0015607342830557933, 'beta1': 0.9369035711291267, 'beta2': 0.9988939590887985, 'scheduler': 'OneCycleLR', 'max_lr': 0.009774061413997333}\n",
      "Epoch 1/20, Train Loss: 56.3713, Val mAP@50: 0.0910, FPS: 53.98, Epoch Time: 22.57 seconds\n",
      "Epoch 2/20, Train Loss: 45.4981, Val mAP@50: 0.2876, FPS: 54.25, Epoch Time: 22.58 seconds\n",
      "Epoch 3/20, Train Loss: 42.4214, Val mAP@50: 0.4930, FPS: 54.03, Epoch Time: 22.66 seconds\n",
      "Epoch 4/20, Train Loss: 38.7963, Val mAP@50: 0.4845, FPS: 53.92, Epoch Time: 22.56 seconds\n",
      "Epoch 5/20, Train Loss: 37.1319, Val mAP@50: 0.6005, FPS: 54.12, Epoch Time: 22.62 seconds\n"
     ]
    },
    {
     "name": "stderr",
     "output_type": "stream",
     "text": [
      "[I 2025-01-27 00:16:25,471] Trial 27 pruned. \n"
     ]
    },
    {
     "name": "stdout",
     "output_type": "stream",
     "text": [
      "Trial pruned by Optuna at epoch 5.\n",
      "Checking Model: FasterRCNN\n",
      "Starting Trial #28\n",
      "{'batch_size': 5, 'epochs': 18, 'preweight_mode': 'random', 'optimizer': 'AdamW', 'lr': 0.00039434561717806115, 'weight_decay': 0.0015029666396395131, 'beta1': 0.8218158233113732, 'beta2': 0.9035697414501633, 'scheduler': 'ReduceLROnPlateau', 'factor': 0.4953512352053361, 'patience': 5}\n",
      "Epoch 1/18, Train Loss: 43.8781, Val mAP@50: 0.0000, FPS: 54.82, Epoch Time: 22.57 seconds\n",
      "Epoch 2/18, Train Loss: 38.5153, Val mAP@50: 0.0541, FPS: 54.79, Epoch Time: 22.54 seconds\n",
      "Epoch 3/18, Train Loss: 37.3427, Val mAP@50: 0.1941, FPS: 54.92, Epoch Time: 22.49 seconds\n",
      "Epoch 4/18, Train Loss: 35.9062, Val mAP@50: 0.4010, FPS: 55.13, Epoch Time: 22.55 seconds\n",
      "Epoch 5/18, Train Loss: 34.7493, Val mAP@50: 0.3736, FPS: 55.15, Epoch Time: 22.44 seconds\n"
     ]
    },
    {
     "name": "stderr",
     "output_type": "stream",
     "text": [
      "[I 2025-01-27 00:18:41,450] Trial 28 pruned. \n"
     ]
    },
    {
     "name": "stdout",
     "output_type": "stream",
     "text": [
      "Trial pruned by Optuna at epoch 5.\n",
      "Checking Model: FasterRCNN\n",
      "Starting Trial #29\n",
      "{'batch_size': 4, 'epochs': 19, 'preweight_mode': 'freezing', 'optimizer': 'Adam', 'lr': 0.0007644143762266379, 'beta1': 0.9932975977987532, 'beta2': 0.9869453426823368, 'scheduler': 'CosineAnnealingLR', 'T_max': 7, 'eta_min': 1.0369237059391076e-07}\n",
      "Epoch 1/19, Train Loss: 79.8704, Val mAP@50: 0.0225, FPS: 54.51, Epoch Time: 13.75 seconds\n",
      "Epoch 2/19, Train Loss: 73.4363, Val mAP@50: 0.0149, FPS: 54.60, Epoch Time: 13.70 seconds\n",
      "Epoch 3/19, Train Loss: 68.5207, Val mAP@50: 0.0371, FPS: 54.54, Epoch Time: 13.72 seconds\n",
      "Epoch 4/19, Train Loss: 66.5983, Val mAP@50: 0.0860, FPS: 54.51, Epoch Time: 13.76 seconds\n",
      "Epoch 5/19, Train Loss: 65.1691, Val mAP@50: 0.0765, FPS: 54.57, Epoch Time: 13.72 seconds\n"
     ]
    },
    {
     "name": "stderr",
     "output_type": "stream",
     "text": [
      "[I 2025-01-27 00:20:04,646] Trial 29 pruned. \n"
     ]
    },
    {
     "name": "stdout",
     "output_type": "stream",
     "text": [
      "Trial pruned by Optuna at epoch 5.\n",
      "Checking Model: FasterRCNN\n",
      "Starting Trial #30\n",
      "{'batch_size': 5, 'epochs': 18, 'preweight_mode': 'fine_tuning', 'optimizer': 'AdamW', 'lr': 0.00023390253119389835, 'weight_decay': 0.002168896242733286, 'beta1': 0.891221924695758, 'beta2': 0.9195539758896547, 'scheduler': 'CosineAnnealingLR', 'T_max': 13, 'eta_min': 1.8542671360261172e-07}\n",
      "Epoch 1/18, Train Loss: 39.4084, Val mAP@50: 0.4396, FPS: 55.33, Epoch Time: 22.45 seconds\n",
      "Epoch 2/18, Train Loss: 30.2973, Val mAP@50: 0.6563, FPS: 54.77, Epoch Time: 22.49 seconds\n",
      "Epoch 3/18, Train Loss: 27.2654, Val mAP@50: 0.6683, FPS: 55.28, Epoch Time: 22.49 seconds\n",
      "Epoch 4/18, Train Loss: 24.0264, Val mAP@50: 0.6628, FPS: 55.17, Epoch Time: 22.43 seconds\n",
      "Epoch 5/18, Train Loss: 20.8818, Val mAP@50: 0.6773, FPS: 55.22, Epoch Time: 22.40 seconds\n"
     ]
    },
    {
     "name": "stderr",
     "output_type": "stream",
     "text": [
      "[I 2025-01-27 00:22:20,041] Trial 30 pruned. \n"
     ]
    },
    {
     "name": "stdout",
     "output_type": "stream",
     "text": [
      "Trial pruned by Optuna at epoch 5.\n",
      "Checking Model: FasterRCNN\n",
      "Starting Trial #31\n",
      "{'batch_size': 4, 'epochs': 16, 'preweight_mode': 'fine_tuning', 'optimizer': 'SGD', 'lr': 0.019791877716872942, 'momentum': 0.9589062818459135, 'weight_decay': 0.0006034262174762242, 'scheduler': 'CosineAnnealingLR', 'T_max': 5, 'eta_min': 1.8991205596897687e-07}\n",
      "Epoch 1/16, Train Loss: nan, Val mAP@50: 0.0000, FPS: 67.35, Epoch Time: 19.16 seconds\n",
      "Epoch 2/16, Train Loss: nan, Val mAP@50: 0.0000, FPS: 67.39, Epoch Time: 18.84 seconds\n",
      "Epoch 3/16, Train Loss: nan, Val mAP@50: 0.0000, FPS: 67.31, Epoch Time: 18.84 seconds\n",
      "Epoch 4/16, Train Loss: nan, Val mAP@50: 0.0000, FPS: 67.33, Epoch Time: 18.82 seconds\n"
     ]
    },
    {
     "name": "stderr",
     "output_type": "stream",
     "text": [
      "[I 2025-01-27 00:23:55,365] Trial 31 pruned. \n"
     ]
    },
    {
     "name": "stdout",
     "output_type": "stream",
     "text": [
      "Trial pruned by Optuna at epoch 4.\n",
      "Checking Model: FasterRCNN\n",
      "Starting Trial #32\n",
      "{'batch_size': 6, 'epochs': 16, 'preweight_mode': 'fine_tuning', 'optimizer': 'Adam', 'lr': 0.000152929561944005, 'beta1': 0.8013277377896815, 'beta2': 0.9516731953985418, 'scheduler': 'CosineAnnealingLR', 'T_max': 6, 'eta_min': 4.1767593165313215e-07}\n",
      "Epoch 1/16, Train Loss: 31.7006, Val mAP@50: 0.5019, FPS: 57.95, Epoch Time: 22.23 seconds\n",
      "Epoch 2/16, Train Loss: 22.3794, Val mAP@50: 0.5796, FPS: 57.82, Epoch Time: 22.16 seconds\n",
      "Epoch 3/16, Train Loss: 18.9340, Val mAP@50: 0.6028, FPS: 58.02, Epoch Time: 22.13 seconds\n",
      "Epoch 4/16, Train Loss: 13.7707, Val mAP@50: 0.6956, FPS: 58.27, Epoch Time: 22.05 seconds\n",
      "Epoch 5/16, Train Loss: 9.9032, Val mAP@50: 0.6787, FPS: 58.25, Epoch Time: 21.97 seconds\n"
     ]
    },
    {
     "name": "stderr",
     "output_type": "stream",
     "text": [
      "[I 2025-01-27 00:26:08,688] Trial 32 pruned. \n"
     ]
    },
    {
     "name": "stdout",
     "output_type": "stream",
     "text": [
      "Trial pruned by Optuna at epoch 5.\n",
      "Checking Model: FasterRCNN\n",
      "Starting Trial #33\n",
      "{'batch_size': 4, 'epochs': 20, 'preweight_mode': 'fine_tuning', 'optimizer': 'AdamW', 'lr': 0.0005833949762137931, 'weight_decay': 0.004236396136296012, 'beta1': 0.9489449583004198, 'beta2': 0.9715314005045282, 'scheduler': 'CosineAnnealingLR', 'T_max': 5, 'eta_min': 1.7133765769083684e-07}\n",
      "Epoch 1/20, Train Loss: 51.7585, Val mAP@50: 0.0000, FPS: 54.14, Epoch Time: 22.50 seconds\n",
      "Epoch 2/20, Train Loss: 48.1886, Val mAP@50: 0.0099, FPS: 54.29, Epoch Time: 22.51 seconds\n",
      "Epoch 3/20, Train Loss: 46.1913, Val mAP@50: 0.2977, FPS: 54.19, Epoch Time: 22.55 seconds\n",
      "Epoch 4/20, Train Loss: 42.4741, Val mAP@50: 0.4019, FPS: 54.13, Epoch Time: 22.52 seconds\n",
      "Epoch 5/20, Train Loss: 38.3918, Val mAP@50: 0.5034, FPS: 54.33, Epoch Time: 22.44 seconds\n"
     ]
    },
    {
     "name": "stderr",
     "output_type": "stream",
     "text": [
      "[I 2025-01-27 00:28:24,479] Trial 33 pruned. \n"
     ]
    },
    {
     "name": "stdout",
     "output_type": "stream",
     "text": [
      "Trial pruned by Optuna at epoch 5.\n",
      "Checking Model: FasterRCNN\n",
      "Starting Trial #34\n",
      "{'batch_size': 8, 'epochs': 18, 'preweight_mode': 'fine_tuning', 'optimizer': 'SGD', 'lr': 0.011300307781636315, 'momentum': 0.9347974524621644, 'weight_decay': 0.0006103701559661618, 'scheduler': 'StepLR', 'step_size': 2, 'gamma': 0.4637111395771056}\n",
      "Epoch 1/18, Train Loss: 23.9391, Val mAP@50: 0.5549, FPS: 58.56, Epoch Time: 21.71 seconds\n",
      "Epoch 2/18, Train Loss: 17.5539, Val mAP@50: 0.6479, FPS: 58.47, Epoch Time: 21.68 seconds\n",
      "Epoch 3/18, Train Loss: 13.9336, Val mAP@50: 0.7240, FPS: 58.54, Epoch Time: 21.66 seconds\n",
      "Epoch 4/18, Train Loss: 11.1265, Val mAP@50: 0.7644, FPS: 58.77, Epoch Time: 21.59 seconds\n",
      "Epoch 5/18, Train Loss: 9.0006, Val mAP@50: 0.7598, FPS: 58.84, Epoch Time: 21.60 seconds\n",
      "Epoch 6/18, Train Loss: 7.5236, Val mAP@50: 0.7569, FPS: 58.75, Epoch Time: 21.58 seconds\n",
      "Epoch 7/18, Train Loss: 6.7041, Val mAP@50: 0.7687, FPS: 58.77, Epoch Time: 21.58 seconds\n",
      "Epoch 8/18, Train Loss: 6.1599, Val mAP@50: 0.7649, FPS: 58.75, Epoch Time: 21.59 seconds\n",
      "Epoch 9/18, Train Loss: 5.7712, Val mAP@50: 0.7466, FPS: 58.80, Epoch Time: 21.58 seconds\n",
      "Epoch 10/18, Train Loss: 5.5353, Val mAP@50: 0.7515, FPS: 58.73, Epoch Time: 21.58 seconds\n",
      "Epoch 11/18, Train Loss: 5.3532, Val mAP@50: 0.7527, FPS: 58.78, Epoch Time: 21.59 seconds\n",
      "Epoch 12/18, Train Loss: 5.2708, Val mAP@50: 0.7497, FPS: 58.71, Epoch Time: 21.61 seconds\n",
      "Epoch 13/18, Train Loss: 5.1967, Val mAP@50: 0.7419, FPS: 58.73, Epoch Time: 21.59 seconds\n",
      "Epoch 14/18, Train Loss: 5.1535, Val mAP@50: 0.7547, FPS: 58.80, Epoch Time: 21.61 seconds\n",
      "Epoch 15/18, Train Loss: 5.1327, Val mAP@50: 0.7532, FPS: 58.80, Epoch Time: 21.59 seconds\n",
      "Epoch 16/18, Train Loss: 5.1275, Val mAP@50: 0.7472, FPS: 58.72, Epoch Time: 21.60 seconds\n",
      "Epoch 17/18, Train Loss: 5.1013, Val mAP@50: 0.7468, FPS: 58.77, Epoch Time: 21.59 seconds\n"
     ]
    },
    {
     "name": "stderr",
     "output_type": "stream",
     "text": [
      "[I 2025-01-27 00:34:54,409] Trial 34 finished with value: 0.7686715126037598 and parameters: {'batch_size': 8, 'epochs': 18, 'preweight_mode': 'fine_tuning', 'optimizer': 'SGD', 'lr': 0.011300307781636315, 'momentum': 0.9347974524621644, 'weight_decay': 0.0006103701559661618, 'scheduler': 'StepLR', 'step_size': 2, 'gamma': 0.4637111395771056}. Best is trial 21 with value: 0.7791067957878113.\n"
     ]
    },
    {
     "name": "stdout",
     "output_type": "stream",
     "text": [
      "Epoch 18/18, Train Loss: 5.0984, Val mAP@50: 0.7464, FPS: 58.71, Epoch Time: 21.60 seconds\n",
      "Best Epoch: 6, Best Val mAP@50: 0.7687, Training Time: 388.93 seconds\n",
      "Model training complete.\n",
      "Checking Model: FasterRCNN\n",
      "Starting Trial #35\n",
      "{'batch_size': 8, 'epochs': 18, 'preweight_mode': 'fine_tuning', 'optimizer': 'Adam', 'lr': 0.00013445206219298128, 'beta1': 0.8583160321937796, 'beta2': 0.960555817942151, 'scheduler': 'StepLR', 'step_size': 2, 'gamma': 0.496970471027094}\n",
      "Epoch 1/18, Train Loss: 23.9074, Val mAP@50: 0.5409, FPS: 59.02, Epoch Time: 21.83 seconds\n",
      "Epoch 2/18, Train Loss: 16.7554, Val mAP@50: 0.6331, FPS: 58.78, Epoch Time: 21.75 seconds\n",
      "Epoch 3/18, Train Loss: 12.4112, Val mAP@50: 0.7192, FPS: 58.40, Epoch Time: 21.76 seconds\n",
      "Epoch 4/18, Train Loss: 9.4806, Val mAP@50: 0.7358, FPS: 58.76, Epoch Time: 21.67 seconds\n",
      "Epoch 5/18, Train Loss: 7.0755, Val mAP@50: 0.7065, FPS: 58.68, Epoch Time: 21.64 seconds\n"
     ]
    },
    {
     "name": "stderr",
     "output_type": "stream",
     "text": [
      "[I 2025-01-27 00:37:05,525] Trial 35 pruned. \n"
     ]
    },
    {
     "name": "stdout",
     "output_type": "stream",
     "text": [
      "Trial pruned by Optuna at epoch 5.\n",
      "Checking Model: FasterRCNN\n",
      "Starting Trial #36\n",
      "{'batch_size': 8, 'epochs': 19, 'preweight_mode': 'random', 'optimizer': 'RMSprop', 'lr': 0.00551145200568696, 'weight_decay': 0.1062825525610239, 'momentum': 0.9367336021732005, 'scheduler': 'StepLR', 'step_size': 3, 'gamma': 0.3582051775521205}\n",
      "Epoch 1/19, Train Loss: nan, Val mAP@50: 0.0000, FPS: 73.49, Epoch Time: 18.21 seconds\n",
      "Epoch 2/19, Train Loss: nan, Val mAP@50: 0.0000, FPS: 73.67, Epoch Time: 18.12 seconds\n",
      "Epoch 3/19, Train Loss: nan, Val mAP@50: 0.0000, FPS: 73.53, Epoch Time: 18.12 seconds\n",
      "Epoch 4/19, Train Loss: nan, Val mAP@50: 0.0000, FPS: 73.47, Epoch Time: 18.12 seconds\n"
     ]
    },
    {
     "name": "stderr",
     "output_type": "stream",
     "text": [
      "[I 2025-01-27 00:38:36,997] Trial 36 pruned. \n"
     ]
    },
    {
     "name": "stdout",
     "output_type": "stream",
     "text": [
      "Trial pruned by Optuna at epoch 4.\n",
      "Checking Model: FasterRCNN\n",
      "Starting Trial #37\n",
      "{'batch_size': 5, 'epochs': 20, 'preweight_mode': 'freezing', 'optimizer': 'AdamW', 'lr': 0.000208478652263534, 'weight_decay': 0.0011394789187805891, 'beta1': 0.8851764117232612, 'beta2': 0.9399411833644862, 'scheduler': 'StepLR', 'step_size': 3, 'gamma': 0.358528098843075}\n",
      "Epoch 1/20, Train Loss: 55.7570, Val mAP@50: 0.0000, FPS: 55.80, Epoch Time: 13.72 seconds\n",
      "Epoch 2/20, Train Loss: 53.7778, Val mAP@50: 0.0020, FPS: 55.82, Epoch Time: 13.71 seconds\n",
      "Epoch 3/20, Train Loss: 53.0843, Val mAP@50: 0.0352, FPS: 55.87, Epoch Time: 13.71 seconds\n",
      "Epoch 4/20, Train Loss: 52.7808, Val mAP@50: 0.0565, FPS: 55.81, Epoch Time: 13.72 seconds\n",
      "Epoch 5/20, Train Loss: 52.9400, Val mAP@50: 0.0605, FPS: 55.87, Epoch Time: 13.73 seconds\n"
     ]
    },
    {
     "name": "stderr",
     "output_type": "stream",
     "text": [
      "[I 2025-01-27 00:40:00,162] Trial 37 pruned. \n"
     ]
    },
    {
     "name": "stdout",
     "output_type": "stream",
     "text": [
      "Trial pruned by Optuna at epoch 5.\n",
      "Checking Model: FasterRCNN\n",
      "Starting Trial #38\n",
      "{'batch_size': 4, 'epochs': 17, 'preweight_mode': 'fine_tuning', 'optimizer': 'SGD', 'lr': 0.00833670002867782, 'momentum': 0.9614179404638827, 'weight_decay': 0.0006831632109338773, 'scheduler': 'StepLR', 'step_size': 2, 'gamma': 0.3752273546299043}\n",
      "Epoch 1/17, Train Loss: 51.9319, Val mAP@50: 0.3550, FPS: 54.03, Epoch Time: 22.36 seconds\n",
      "Epoch 2/17, Train Loss: 43.2084, Val mAP@50: 0.4960, FPS: 54.05, Epoch Time: 22.34 seconds\n",
      "Epoch 3/17, Train Loss: 32.3221, Val mAP@50: 0.7063, FPS: 54.18, Epoch Time: 22.27 seconds\n",
      "Epoch 4/17, Train Loss: 29.2601, Val mAP@50: 0.6984, FPS: 54.12, Epoch Time: 22.33 seconds\n",
      "Epoch 5/17, Train Loss: 23.4456, Val mAP@50: 0.7442, FPS: 54.22, Epoch Time: 22.32 seconds\n",
      "Epoch 6/17, Train Loss: 20.5622, Val mAP@50: 0.7322, FPS: 54.24, Epoch Time: 22.30 seconds\n",
      "Epoch 7/17, Train Loss: 17.9741, Val mAP@50: 0.7341, FPS: 54.18, Epoch Time: 22.32 seconds\n",
      "Epoch 8/17, Train Loss: 16.7080, Val mAP@50: 0.7399, FPS: 54.18, Epoch Time: 22.33 seconds\n",
      "Epoch 9/17, Train Loss: 15.8542, Val mAP@50: 0.7392, FPS: 54.16, Epoch Time: 22.32 seconds\n",
      "Epoch 10/17, Train Loss: 15.2619, Val mAP@50: 0.7384, FPS: 54.18, Epoch Time: 22.29 seconds\n",
      "Epoch 11/17, Train Loss: 14.9506, Val mAP@50: 0.7394, FPS: 54.21, Epoch Time: 22.30 seconds\n",
      "Epoch 12/17, Train Loss: 14.7242, Val mAP@50: 0.7371, FPS: 54.25, Epoch Time: 22.29 seconds\n",
      "Epoch 13/17, Train Loss: 14.7337, Val mAP@50: 0.7320, FPS: 54.28, Epoch Time: 22.29 seconds\n",
      "Epoch 14/17, Train Loss: 14.5349, Val mAP@50: 0.7319, FPS: 54.12, Epoch Time: 22.32 seconds\n",
      "Epoch 15/17, Train Loss: 14.5225, Val mAP@50: 0.7324, FPS: 54.22, Epoch Time: 22.31 seconds\n",
      "Epoch 16/17, Train Loss: 14.4794, Val mAP@50: 0.7325, FPS: 54.42, Epoch Time: 22.24 seconds\n"
     ]
    },
    {
     "name": "stderr",
     "output_type": "stream",
     "text": [
      "[I 2025-01-27 00:46:20,251] Trial 38 finished with value: 0.744198203086853 and parameters: {'batch_size': 4, 'epochs': 17, 'preweight_mode': 'fine_tuning', 'optimizer': 'SGD', 'lr': 0.00833670002867782, 'momentum': 0.9614179404638827, 'weight_decay': 0.0006831632109338773, 'scheduler': 'StepLR', 'step_size': 2, 'gamma': 0.3752273546299043}. Best is trial 21 with value: 0.7791067957878113.\n"
     ]
    },
    {
     "name": "stdout",
     "output_type": "stream",
     "text": [
      "Epoch 17/17, Train Loss: 14.4679, Val mAP@50: 0.7323, FPS: 54.44, Epoch Time: 22.21 seconds\n",
      "Best Epoch: 4, Best Val mAP@50: 0.7442, Training Time: 379.15 seconds\n",
      "Model training complete.\n",
      "Checking Model: FasterRCNN\n",
      "Starting Trial #39\n",
      "{'batch_size': 6, 'epochs': 18, 'preweight_mode': 'fine_tuning', 'optimizer': 'RMSprop', 'lr': 0.001661526922947108, 'weight_decay': 0.29795409419603347, 'momentum': 0.9375505501730189, 'scheduler': 'StepLR', 'step_size': 4, 'gamma': 0.2554751650681776}\n",
      "Epoch 1/18, Train Loss: nan, Val mAP@50: 0.0000, FPS: 72.68, Epoch Time: 18.58 seconds\n",
      "Epoch 2/18, Train Loss: nan, Val mAP@50: 0.0000, FPS: 72.74, Epoch Time: 18.54 seconds\n",
      "Epoch 3/18, Train Loss: nan, Val mAP@50: 0.0000, FPS: 72.60, Epoch Time: 18.60 seconds\n",
      "Epoch 4/18, Train Loss: nan, Val mAP@50: 0.0000, FPS: 72.77, Epoch Time: 18.56 seconds\n"
     ]
    },
    {
     "name": "stderr",
     "output_type": "stream",
     "text": [
      "[I 2025-01-27 00:47:53,894] Trial 39 pruned. \n"
     ]
    },
    {
     "name": "stdout",
     "output_type": "stream",
     "text": [
      "Trial pruned by Optuna at epoch 4.\n",
      "Checking Model: FasterRCNN\n",
      "Starting Trial #40\n",
      "{'batch_size': 5, 'epochs': 17, 'preweight_mode': 'freezing', 'optimizer': 'SGD', 'lr': 0.030859464654100003, 'momentum': 0.9880873528005137, 'weight_decay': 0.0006651776565425252, 'scheduler': 'ReduceLROnPlateau', 'factor': 0.4744317866788999, 'patience': 2}\n",
      "Epoch 1/17, Train Loss: 75.3825, Val mAP@50: 0.0021, FPS: 56.21, Epoch Time: 13.53 seconds\n",
      "Epoch 2/17, Train Loss: 79.1955, Val mAP@50: 0.0005, FPS: 56.07, Epoch Time: 13.58 seconds\n",
      "Epoch 3/17, Train Loss: 70.2328, Val mAP@50: 0.0020, FPS: 56.04, Epoch Time: 13.55 seconds\n",
      "Epoch 4/17, Train Loss: 65.9365, Val mAP@50: 0.0081, FPS: 56.21, Epoch Time: 13.54 seconds\n",
      "Epoch 5/17, Train Loss: 69.8075, Val mAP@50: 0.0202, FPS: 56.04, Epoch Time: 13.59 seconds\n"
     ]
    },
    {
     "name": "stderr",
     "output_type": "stream",
     "text": [
      "[I 2025-01-27 00:49:16,111] Trial 40 pruned. \n"
     ]
    },
    {
     "name": "stdout",
     "output_type": "stream",
     "text": [
      "Trial pruned by Optuna at epoch 5.\n",
      "Checking Model: FasterRCNN\n",
      "Starting Trial #41\n",
      "{'batch_size': 7, 'epochs': 14, 'preweight_mode': 'fine_tuning', 'optimizer': 'SGD', 'lr': 0.013165349959652097, 'momentum': 0.9152992614526568, 'weight_decay': 0.00047959986201927046, 'scheduler': 'CosineAnnealingLR', 'T_max': 6, 'eta_min': 1.0299500711256872e-07}\n",
      "Epoch 1/14, Train Loss: nan, Val mAP@50: 0.0000, FPS: 70.45, Epoch Time: 19.05 seconds\n",
      "Epoch 2/14, Train Loss: nan, Val mAP@50: 0.0000, FPS: 70.33, Epoch Time: 18.42 seconds\n",
      "Epoch 3/14, Train Loss: nan, Val mAP@50: 0.0000, FPS: 70.40, Epoch Time: 18.44 seconds\n",
      "Epoch 4/14, Train Loss: nan, Val mAP@50: 0.0000, FPS: 70.34, Epoch Time: 18.41 seconds\n"
     ]
    },
    {
     "name": "stderr",
     "output_type": "stream",
     "text": [
      "[I 2025-01-27 00:50:49,606] Trial 41 pruned. \n"
     ]
    },
    {
     "name": "stdout",
     "output_type": "stream",
     "text": [
      "Trial pruned by Optuna at epoch 4.\n",
      "Checking Model: FasterRCNN\n",
      "Starting Trial #42\n",
      "{'batch_size': 8, 'epochs': 16, 'preweight_mode': 'fine_tuning', 'optimizer': 'SGD', 'lr': 0.028613741044248187, 'momentum': 0.9162898256613199, 'weight_decay': 0.000784162888570741, 'scheduler': 'StepLR', 'step_size': 3, 'gamma': 0.4250392769946364}\n",
      "Epoch 1/16, Train Loss: nan, Val mAP@50: 0.0000, FPS: 73.64, Epoch Time: 18.44 seconds\n",
      "Epoch 2/16, Train Loss: nan, Val mAP@50: 0.0000, FPS: 73.66, Epoch Time: 17.99 seconds\n",
      "Epoch 3/16, Train Loss: nan, Val mAP@50: 0.0000, FPS: 73.57, Epoch Time: 18.03 seconds\n",
      "Epoch 4/16, Train Loss: nan, Val mAP@50: 0.0000, FPS: 73.54, Epoch Time: 18.01 seconds\n"
     ]
    },
    {
     "name": "stderr",
     "output_type": "stream",
     "text": [
      "[I 2025-01-27 00:52:20,866] Trial 42 pruned. \n"
     ]
    },
    {
     "name": "stdout",
     "output_type": "stream",
     "text": [
      "Trial pruned by Optuna at epoch 4.\n",
      "Checking Model: FasterRCNN\n",
      "Starting Trial #43\n",
      "{'batch_size': 7, 'epochs': 17, 'preweight_mode': 'fine_tuning', 'optimizer': 'SGD', 'lr': 0.008814578282313378, 'momentum': 0.927612996776656, 'weight_decay': 0.00032625089779057196, 'scheduler': 'CosineAnnealingLR', 'T_max': 6, 'eta_min': 3.474111487504285e-07}\n",
      "Epoch 1/17, Train Loss: 30.2256, Val mAP@50: 0.4854, FPS: 56.55, Epoch Time: 22.24 seconds\n",
      "Epoch 2/17, Train Loss: 20.2215, Val mAP@50: 0.6663, FPS: 56.56, Epoch Time: 22.06 seconds\n",
      "Epoch 3/17, Train Loss: 16.1673, Val mAP@50: 0.6908, FPS: 56.41, Epoch Time: 22.06 seconds\n",
      "Epoch 4/17, Train Loss: 12.7833, Val mAP@50: 0.7565, FPS: 56.58, Epoch Time: 22.02 seconds\n",
      "Epoch 5/17, Train Loss: 9.7964, Val mAP@50: 0.7456, FPS: 56.41, Epoch Time: 21.95 seconds\n",
      "Epoch 6/17, Train Loss: 8.3298, Val mAP@50: 0.7546, FPS: 56.59, Epoch Time: 21.93 seconds\n",
      "Epoch 7/17, Train Loss: 7.7583, Val mAP@50: 0.7544, FPS: 56.55, Epoch Time: 21.93 seconds\n",
      "Epoch 8/17, Train Loss: 7.7848, Val mAP@50: 0.7411, FPS: 56.60, Epoch Time: 21.93 seconds\n",
      "Epoch 9/17, Train Loss: 7.5920, Val mAP@50: 0.7442, FPS: 56.57, Epoch Time: 21.94 seconds\n",
      "Epoch 10/17, Train Loss: 7.9309, Val mAP@50: 0.7276, FPS: 56.55, Epoch Time: 21.93 seconds\n",
      "Epoch 11/17, Train Loss: 9.6724, Val mAP@50: 0.7428, FPS: 56.58, Epoch Time: 21.98 seconds\n",
      "Epoch 12/17, Train Loss: 10.0012, Val mAP@50: 0.7097, FPS: 56.50, Epoch Time: 22.03 seconds\n",
      "Epoch 13/17, Train Loss: 9.4550, Val mAP@50: 0.7207, FPS: 56.53, Epoch Time: 21.99 seconds\n",
      "Epoch 14/17, Train Loss: 8.4528, Val mAP@50: 0.7295, FPS: 56.89, Epoch Time: 21.95 seconds\n",
      "Epoch 15/17, Train Loss: 6.4018, Val mAP@50: 0.7297, FPS: 56.63, Epoch Time: 21.88 seconds\n",
      "Epoch 16/17, Train Loss: 5.2039, Val mAP@50: 0.7324, FPS: 56.79, Epoch Time: 21.85 seconds\n"
     ]
    },
    {
     "name": "stderr",
     "output_type": "stream",
     "text": [
      "[I 2025-01-27 00:58:35,345] Trial 43 finished with value: 0.7564623355865479 and parameters: {'batch_size': 7, 'epochs': 17, 'preweight_mode': 'fine_tuning', 'optimizer': 'SGD', 'lr': 0.008814578282313378, 'momentum': 0.927612996776656, 'weight_decay': 0.00032625089779057196, 'scheduler': 'CosineAnnealingLR', 'T_max': 6, 'eta_min': 3.474111487504285e-07}. Best is trial 21 with value: 0.7791067957878113.\n"
     ]
    },
    {
     "name": "stdout",
     "output_type": "stream",
     "text": [
      "Epoch 17/17, Train Loss: 4.0724, Val mAP@50: 0.7269, FPS: 56.77, Epoch Time: 21.84 seconds\n",
      "Best Epoch: 3, Best Val mAP@50: 0.7565, Training Time: 373.50 seconds\n",
      "Model training complete.\n",
      "Checking Model: FasterRCNN\n",
      "Starting Trial #44\n",
      "{'batch_size': 8, 'epochs': 14, 'preweight_mode': 'fine_tuning', 'optimizer': 'SGD', 'lr': 0.015065836852794667, 'momentum': 0.9379828877070298, 'weight_decay': 1.9244242774970877e-05, 'scheduler': 'OneCycleLR', 'max_lr': 0.0011744486408234193}\n",
      "Epoch 1/14, Train Loss: 34.0841, Val mAP@50: 0.0000, FPS: 58.69, Epoch Time: 21.67 seconds\n",
      "Epoch 2/14, Train Loss: 25.2427, Val mAP@50: 0.0000, FPS: 59.04, Epoch Time: 21.56 seconds\n",
      "Epoch 3/14, Train Loss: 25.3695, Val mAP@50: 0.0000, FPS: 58.93, Epoch Time: 21.58 seconds\n",
      "Epoch 4/14, Train Loss: 25.3978, Val mAP@50: 0.0000, FPS: 58.85, Epoch Time: 21.60 seconds\n",
      "Epoch 5/14, Train Loss: 25.0129, Val mAP@50: 0.0173, FPS: 58.82, Epoch Time: 21.61 seconds\n"
     ]
    },
    {
     "name": "stderr",
     "output_type": "stream",
     "text": [
      "[I 2025-01-27 01:00:45,803] Trial 44 pruned. \n"
     ]
    },
    {
     "name": "stdout",
     "output_type": "stream",
     "text": [
      "Trial pruned by Optuna at epoch 5.\n",
      "Checking Model: FasterRCNN\n",
      "Starting Trial #45\n",
      "{'batch_size': 7, 'epochs': 19, 'preweight_mode': 'fine_tuning', 'optimizer': 'AdamW', 'lr': 0.0057431777624779, 'weight_decay': 0.005840607196010237, 'beta1': 0.8223740998807232, 'beta2': 0.9900902458309573, 'scheduler': 'ReduceLROnPlateau', 'factor': 0.11141999735469449, 'patience': 5}\n",
      "Epoch 1/19, Train Loss: 1477157453108011008.0000, Val mAP@50: 0.0000, FPS: 69.69, Epoch Time: 18.83 seconds\n",
      "Epoch 2/19, Train Loss: 44292613978.2812, Val mAP@50: 0.0000, FPS: 69.67, Epoch Time: 18.76 seconds\n",
      "Epoch 3/19, Train Loss: 1657451276470.8750, Val mAP@50: 0.0000, FPS: 69.75, Epoch Time: 18.76 seconds\n",
      "Epoch 4/19, Train Loss: 780581939661.5000, Val mAP@50: 0.0000, FPS: 69.78, Epoch Time: 18.76 seconds\n"
     ]
    },
    {
     "name": "stderr",
     "output_type": "stream",
     "text": [
      "[I 2025-01-27 01:02:20,474] Trial 45 pruned. \n"
     ]
    },
    {
     "name": "stdout",
     "output_type": "stream",
     "text": [
      "Trial pruned by Optuna at epoch 4.\n",
      "Checking Model: FasterRCNN\n",
      "Starting Trial #46\n",
      "{'batch_size': 6, 'epochs': 20, 'preweight_mode': 'fine_tuning', 'optimizer': 'RMSprop', 'lr': 0.0031703894474673436, 'weight_decay': 0.18538377259770944, 'momentum': 0.911744370309864, 'scheduler': 'CosineAnnealingLR', 'T_max': 8, 'eta_min': 1.746732138137409e-07}\n",
      "Epoch 1/20, Train Loss: nan, Val mAP@50: 0.0000, FPS: 72.82, Epoch Time: 18.57 seconds\n",
      "Epoch 2/20, Train Loss: nan, Val mAP@50: 0.0000, FPS: 72.87, Epoch Time: 18.53 seconds\n",
      "Epoch 3/20, Train Loss: nan, Val mAP@50: 0.0000, FPS: 72.84, Epoch Time: 18.54 seconds\n",
      "Epoch 4/20, Train Loss: nan, Val mAP@50: 0.0000, FPS: 72.66, Epoch Time: 18.53 seconds\n"
     ]
    },
    {
     "name": "stderr",
     "output_type": "stream",
     "text": [
      "[I 2025-01-27 01:03:53,948] Trial 46 pruned. \n"
     ]
    },
    {
     "name": "stdout",
     "output_type": "stream",
     "text": [
      "Trial pruned by Optuna at epoch 4.\n",
      "Checking Model: FasterRCNN\n",
      "Starting Trial #47\n",
      "{'batch_size': 8, 'epochs': 12, 'preweight_mode': 'freezing', 'optimizer': 'SGD', 'lr': 0.021975273082083455, 'momentum': 0.954149536860482, 'weight_decay': 9.674785941720121e-05, 'scheduler': 'CosineAnnealingLR', 'T_max': 5, 'eta_min': 7.859459202313486e-07}\n",
      "Epoch 1/12, Train Loss: 88.9358, Val mAP@50: 0.0057, FPS: 60.05, Epoch Time: 13.19 seconds\n",
      "Epoch 2/12, Train Loss: 46.9246, Val mAP@50: 0.0437, FPS: 59.71, Epoch Time: 13.23 seconds\n",
      "Epoch 3/12, Train Loss: 35.9005, Val mAP@50: 0.0358, FPS: 59.72, Epoch Time: 13.23 seconds\n",
      "Epoch 4/12, Train Loss: 34.0248, Val mAP@50: 0.0644, FPS: 59.67, Epoch Time: 13.22 seconds\n",
      "Epoch 5/12, Train Loss: 33.2282, Val mAP@50: 0.0532, FPS: 59.70, Epoch Time: 13.22 seconds\n"
     ]
    },
    {
     "name": "stderr",
     "output_type": "stream",
     "text": [
      "[I 2025-01-27 01:05:14,041] Trial 47 pruned. \n"
     ]
    },
    {
     "name": "stdout",
     "output_type": "stream",
     "text": [
      "Trial pruned by Optuna at epoch 5.\n",
      "Checking Model: FasterRCNN\n",
      "Starting Trial #48\n",
      "{'batch_size': 4, 'epochs': 18, 'preweight_mode': 'fine_tuning', 'optimizer': 'AdamW', 'lr': 0.006698990318923614, 'weight_decay': 0.006038280499762258, 'beta1': 0.8517196263973593, 'beta2': 0.9765108052429096, 'scheduler': 'StepLR', 'step_size': 4, 'gamma': 0.2743264105978112}\n",
      "Epoch 1/18, Train Loss: 67999127397572479549440.0000, Val mAP@50: 0.0000, FPS: 66.87, Epoch Time: 19.26 seconds\n",
      "Epoch 2/18, Train Loss: 40238266.5427, Val mAP@50: 0.0000, FPS: 66.74, Epoch Time: 19.24 seconds\n",
      "Epoch 3/18, Train Loss: 66131341.9080, Val mAP@50: 0.0000, FPS: 66.76, Epoch Time: 19.25 seconds\n",
      "Epoch 4/18, Train Loss: 5532877298.3125, Val mAP@50: 0.0000, FPS: 66.80, Epoch Time: 19.26 seconds\n"
     ]
    },
    {
     "name": "stderr",
     "output_type": "stream",
     "text": [
      "[I 2025-01-27 01:06:51,082] Trial 48 pruned. \n"
     ]
    },
    {
     "name": "stdout",
     "output_type": "stream",
     "text": [
      "Trial pruned by Optuna at epoch 4.\n",
      "Checking Model: FasterRCNN\n",
      "Starting Trial #49\n",
      "{'batch_size': 7, 'epochs': 17, 'preweight_mode': 'random', 'optimizer': 'SGD', 'lr': 0.04894131531435099, 'momentum': 0.9324069343481143, 'weight_decay': 0.0008056814534717563, 'scheduler': 'CosineAnnealingLR', 'T_max': 7, 'eta_min': 1.5095668950050936e-07}\n",
      "Epoch 1/17, Train Loss: nan, Val mAP@50: 0.0000, FPS: 70.54, Epoch Time: 18.60 seconds\n",
      "Epoch 2/17, Train Loss: nan, Val mAP@50: 0.0000, FPS: 70.65, Epoch Time: 18.40 seconds\n",
      "Epoch 3/17, Train Loss: nan, Val mAP@50: 0.0000, FPS: 70.64, Epoch Time: 18.37 seconds\n",
      "Epoch 4/17, Train Loss: nan, Val mAP@50: 0.0000, FPS: 70.44, Epoch Time: 18.39 seconds\n"
     ]
    },
    {
     "name": "stderr",
     "output_type": "stream",
     "text": [
      "[I 2025-01-27 01:08:23,959] Trial 49 pruned. \n"
     ]
    },
    {
     "name": "stdout",
     "output_type": "stream",
     "text": [
      "Trial pruned by Optuna at epoch 4.\n",
      "Checking Model: FasterRCNN\n",
      "Starting Trial #50\n",
      "{'batch_size': 7, 'epochs': 15, 'preweight_mode': 'fine_tuning', 'optimizer': 'AdamW', 'lr': 0.000135378559421927, 'weight_decay': 0.0026112119958435404, 'beta1': 0.8999484730884555, 'beta2': 0.9819292280663033, 'scheduler': 'OneCycleLR', 'max_lr': 0.0013023717683165867}\n",
      "Epoch 1/15, Train Loss: 31.6050, Val mAP@50: 0.4923, FPS: 56.38, Epoch Time: 22.25 seconds\n",
      "Epoch 2/15, Train Loss: 20.3331, Val mAP@50: 0.7050, FPS: 56.51, Epoch Time: 22.16 seconds\n",
      "Epoch 3/15, Train Loss: 16.1516, Val mAP@50: 0.6716, FPS: 56.41, Epoch Time: 22.12 seconds\n",
      "Epoch 4/15, Train Loss: 13.1571, Val mAP@50: 0.7073, FPS: 56.61, Epoch Time: 22.15 seconds\n",
      "Epoch 5/15, Train Loss: 10.5734, Val mAP@50: 0.6832, FPS: 56.35, Epoch Time: 22.11 seconds\n"
     ]
    },
    {
     "name": "stderr",
     "output_type": "stream",
     "text": [
      "[I 2025-01-27 01:10:37,650] Trial 50 pruned. \n"
     ]
    },
    {
     "name": "stdout",
     "output_type": "stream",
     "text": [
      "Trial pruned by Optuna at epoch 5.\n",
      "Checking Model: FasterRCNN\n",
      "Starting Trial #51\n",
      "{'batch_size': 7, 'epochs': 17, 'preweight_mode': 'fine_tuning', 'optimizer': 'SGD', 'lr': 0.009734951292067688, 'momentum': 0.9236311622962764, 'weight_decay': 0.00038565675448602184, 'scheduler': 'CosineAnnealingLR', 'T_max': 6, 'eta_min': 3.404070288531787e-07}\n",
      "Epoch 1/17, Train Loss: 33.8543, Val mAP@50: 0.4723, FPS: 56.02, Epoch Time: 22.19 seconds\n",
      "Epoch 2/17, Train Loss: 21.9025, Val mAP@50: 0.6425, FPS: 56.69, Epoch Time: 22.06 seconds\n",
      "Epoch 3/17, Train Loss: 17.6395, Val mAP@50: 0.6508, FPS: 56.60, Epoch Time: 22.00 seconds\n",
      "Epoch 4/17, Train Loss: 14.6820, Val mAP@50: 0.7104, FPS: 56.49, Epoch Time: 21.98 seconds\n",
      "Epoch 5/17, Train Loss: 12.4784, Val mAP@50: 0.7459, FPS: 56.56, Epoch Time: 22.04 seconds\n",
      "Epoch 6/17, Train Loss: 10.5935, Val mAP@50: 0.7325, FPS: 56.49, Epoch Time: 22.04 seconds\n",
      "Epoch 7/17, Train Loss: 10.0979, Val mAP@50: 0.7324, FPS: 56.51, Epoch Time: 22.05 seconds\n",
      "Epoch 8/17, Train Loss: 9.9470, Val mAP@50: 0.7254, FPS: 56.44, Epoch Time: 22.09 seconds\n",
      "Epoch 9/17, Train Loss: 10.0604, Val mAP@50: 0.7059, FPS: 56.64, Epoch Time: 22.03 seconds\n",
      "Epoch 10/17, Train Loss: 10.0682, Val mAP@50: 0.6544, FPS: 56.57, Epoch Time: 21.99 seconds\n",
      "Epoch 11/17, Train Loss: 10.3563, Val mAP@50: 0.6437, FPS: 56.56, Epoch Time: 22.02 seconds\n",
      "Epoch 12/17, Train Loss: 11.7245, Val mAP@50: 0.6938, FPS: 56.56, Epoch Time: 22.04 seconds\n",
      "Epoch 13/17, Train Loss: 10.9357, Val mAP@50: 0.6654, FPS: 56.34, Epoch Time: 21.99 seconds\n",
      "Epoch 14/17, Train Loss: 8.9113, Val mAP@50: 0.6996, FPS: 56.46, Epoch Time: 22.03 seconds\n",
      "Epoch 15/17, Train Loss: 7.1810, Val mAP@50: 0.6974, FPS: 56.56, Epoch Time: 22.05 seconds\n",
      "Epoch 16/17, Train Loss: 5.7712, Val mAP@50: 0.7186, FPS: 56.58, Epoch Time: 22.04 seconds\n"
     ]
    },
    {
     "name": "stderr",
     "output_type": "stream",
     "text": [
      "[I 2025-01-27 01:16:53,339] Trial 51 finished with value: 0.7459033727645874 and parameters: {'batch_size': 7, 'epochs': 17, 'preweight_mode': 'fine_tuning', 'optimizer': 'SGD', 'lr': 0.009734951292067688, 'momentum': 0.9236311622962764, 'weight_decay': 0.00038565675448602184, 'scheduler': 'CosineAnnealingLR', 'T_max': 6, 'eta_min': 3.404070288531787e-07}. Best is trial 21 with value: 0.7791067957878113.\n"
     ]
    },
    {
     "name": "stdout",
     "output_type": "stream",
     "text": [
      "Epoch 17/17, Train Loss: 4.5512, Val mAP@50: 0.7175, FPS: 56.42, Epoch Time: 22.04 seconds\n",
      "Best Epoch: 4, Best Val mAP@50: 0.7459, Training Time: 374.72 seconds\n",
      "Model training complete.\n",
      "Checking Model: FasterRCNN\n",
      "Starting Trial #52\n",
      "{'batch_size': 6, 'epochs': 16, 'preweight_mode': 'fine_tuning', 'optimizer': 'SGD', 'lr': 0.016073859318942292, 'momentum': 0.9226796388606151, 'weight_decay': 0.0003091510736447823, 'scheduler': 'CosineAnnealingLR', 'T_max': 5, 'eta_min': 1.3682441879395806e-06}\n",
      "Epoch 1/16, Train Loss: nan, Val mAP@50: 0.0000, FPS: 72.70, Epoch Time: 20.93 seconds\n",
      "Epoch 2/16, Train Loss: nan, Val mAP@50: 0.0000, FPS: 72.83, Epoch Time: 18.41 seconds\n",
      "Epoch 3/16, Train Loss: nan, Val mAP@50: 0.0000, FPS: 72.58, Epoch Time: 18.41 seconds\n",
      "Epoch 4/16, Train Loss: nan, Val mAP@50: 0.0000, FPS: 72.60, Epoch Time: 18.42 seconds\n"
     ]
    },
    {
     "name": "stderr",
     "output_type": "stream",
     "text": [
      "[I 2025-01-27 01:18:28,725] Trial 52 pruned. \n"
     ]
    },
    {
     "name": "stdout",
     "output_type": "stream",
     "text": [
      "Trial pruned by Optuna at epoch 4.\n",
      "Checking Model: FasterRCNN\n",
      "Starting Trial #53\n",
      "{'batch_size': 7, 'epochs': 15, 'preweight_mode': 'fine_tuning', 'optimizer': 'SGD', 'lr': 0.009268368587085902, 'momentum': 0.9436172011888969, 'weight_decay': 0.00018481844993300985, 'scheduler': 'CosineAnnealingLR', 'T_max': 6, 'eta_min': 2.347110163338751e-07}\n",
      "Epoch 1/15, Train Loss: 40.6746, Val mAP@50: 0.0000, FPS: 56.44, Epoch Time: 22.11 seconds\n",
      "Epoch 2/15, Train Loss: 27.8146, Val mAP@50: 0.4602, FPS: 56.51, Epoch Time: 22.04 seconds\n",
      "Epoch 3/15, Train Loss: 21.6301, Val mAP@50: 0.5874, FPS: 56.40, Epoch Time: 22.11 seconds\n",
      "Epoch 4/15, Train Loss: 18.1512, Val mAP@50: 0.6989, FPS: 56.57, Epoch Time: 22.04 seconds\n",
      "Epoch 5/15, Train Loss: 15.2216, Val mAP@50: 0.7248, FPS: 56.51, Epoch Time: 22.00 seconds\n"
     ]
    },
    {
     "name": "stderr",
     "output_type": "stream",
     "text": [
      "[I 2025-01-27 01:20:41,836] Trial 53 pruned. \n"
     ]
    },
    {
     "name": "stdout",
     "output_type": "stream",
     "text": [
      "Trial pruned by Optuna at epoch 5.\n",
      "Checking Model: FasterRCNN\n",
      "Starting Trial #54\n",
      "{'batch_size': 8, 'epochs': 17, 'preweight_mode': 'fine_tuning', 'optimizer': 'SGD', 'lr': 0.01877045932725653, 'momentum': 0.9073324956031774, 'weight_decay': 0.0008199292449269235, 'scheduler': 'CosineAnnealingLR', 'T_max': 5, 'eta_min': 3.788334978263843e-07}\n",
      "Epoch 1/17, Train Loss: 31.9394, Val mAP@50: 0.3060, FPS: 58.60, Epoch Time: 21.67 seconds\n",
      "Epoch 2/17, Train Loss: 20.6187, Val mAP@50: 0.5221, FPS: 58.38, Epoch Time: 21.70 seconds\n",
      "Epoch 3/17, Train Loss: 16.8028, Val mAP@50: 0.6827, FPS: 58.61, Epoch Time: 21.68 seconds\n",
      "Epoch 4/17, Train Loss: 13.2987, Val mAP@50: 0.7370, FPS: 58.75, Epoch Time: 21.59 seconds\n",
      "Epoch 5/17, Train Loss: 10.7171, Val mAP@50: 0.7522, FPS: 58.98, Epoch Time: 21.54 seconds\n",
      "Epoch 6/17, Train Loss: 9.8792, Val mAP@50: 0.7521, FPS: 58.93, Epoch Time: 21.50 seconds\n",
      "Epoch 7/17, Train Loss: 9.8982, Val mAP@50: 0.7435, FPS: 58.76, Epoch Time: 21.58 seconds\n",
      "Epoch 8/17, Train Loss: 10.3188, Val mAP@50: 0.7174, FPS: 58.89, Epoch Time: 21.54 seconds\n",
      "Epoch 9/17, Train Loss: 12.4725, Val mAP@50: 0.6148, FPS: 58.59, Epoch Time: 21.62 seconds\n",
      "Epoch 10/17, Train Loss: 12.2420, Val mAP@50: 0.6671, FPS: 58.64, Epoch Time: 21.57 seconds\n",
      "Epoch 11/17, Train Loss: 13.2834, Val mAP@50: 0.6912, FPS: 58.39, Epoch Time: 21.67 seconds\n",
      "Epoch 12/17, Train Loss: 11.3815, Val mAP@50: 0.7217, FPS: 58.56, Epoch Time: 21.71 seconds\n",
      "Epoch 13/17, Train Loss: 8.8311, Val mAP@50: 0.6736, FPS: 58.59, Epoch Time: 21.66 seconds\n",
      "Epoch 14/17, Train Loss: 6.3950, Val mAP@50: 0.7266, FPS: 58.61, Epoch Time: 21.70 seconds\n",
      "Epoch 15/17, Train Loss: 5.0468, Val mAP@50: 0.7111, FPS: 58.60, Epoch Time: 21.72 seconds\n",
      "Epoch 16/17, Train Loss: 4.6417, Val mAP@50: 0.7111, FPS: 58.51, Epoch Time: 21.73 seconds\n"
     ]
    },
    {
     "name": "stderr",
     "output_type": "stream",
     "text": [
      "[I 2025-01-27 01:26:50,694] Trial 54 finished with value: 0.7522371411323547 and parameters: {'batch_size': 8, 'epochs': 17, 'preweight_mode': 'fine_tuning', 'optimizer': 'SGD', 'lr': 0.01877045932725653, 'momentum': 0.9073324956031774, 'weight_decay': 0.0008199292449269235, 'scheduler': 'CosineAnnealingLR', 'T_max': 5, 'eta_min': 3.788334978263843e-07}. Best is trial 21 with value: 0.7791067957878113.\n"
     ]
    },
    {
     "name": "stdout",
     "output_type": "stream",
     "text": [
      "Epoch 17/17, Train Loss: 4.6924, Val mAP@50: 0.7127, FPS: 58.60, Epoch Time: 21.71 seconds\n",
      "Best Epoch: 4, Best Val mAP@50: 0.7522, Training Time: 367.88 seconds\n",
      "Model training complete.\n",
      "Checking Model: FasterRCNN\n",
      "Starting Trial #55\n",
      "{'batch_size': 4, 'epochs': 18, 'preweight_mode': 'fine_tuning', 'optimizer': 'SGD', 'lr': 0.013208817838526248, 'momentum': 0.9328077070060004, 'weight_decay': 0.0005074617576433331, 'scheduler': 'CosineAnnealingLR', 'T_max': 6, 'eta_min': 5.630936562923742e-06}\n",
      "Epoch 1/18, Train Loss: nan, Val mAP@50: 0.0000, FPS: 67.41, Epoch Time: 19.33 seconds\n",
      "Epoch 2/18, Train Loss: nan, Val mAP@50: 0.0000, FPS: 67.54, Epoch Time: 18.82 seconds\n",
      "Epoch 3/18, Train Loss: nan, Val mAP@50: 0.0000, FPS: 67.61, Epoch Time: 18.81 seconds\n",
      "Epoch 4/18, Train Loss: nan, Val mAP@50: 0.0000, FPS: 67.60, Epoch Time: 18.80 seconds\n"
     ]
    },
    {
     "name": "stderr",
     "output_type": "stream",
     "text": [
      "[I 2025-01-27 01:28:26,104] Trial 55 pruned. \n"
     ]
    },
    {
     "name": "stdout",
     "output_type": "stream",
     "text": [
      "Trial pruned by Optuna at epoch 4.\n",
      "Checking Model: FasterRCNN\n",
      "Starting Trial #56\n",
      "{'batch_size': 6, 'epochs': 19, 'preweight_mode': 'fine_tuning', 'optimizer': 'AdamW', 'lr': 0.007158947286725475, 'weight_decay': 0.0017774015755774497, 'beta1': 0.9538175694257945, 'beta2': 0.9167937857492687, 'scheduler': 'CosineAnnealingLR', 'T_max': 7, 'eta_min': 1.2790753269491862e-07}\n",
      "Epoch 1/19, Train Loss: 2761521814427378122752.0000, Val mAP@50: 0.0000, FPS: 72.06, Epoch Time: 18.78 seconds\n",
      "Epoch 2/19, Train Loss: 1121123976664317952.0000, Val mAP@50: 0.0000, FPS: 71.95, Epoch Time: 18.76 seconds\n",
      "Epoch 3/19, Train Loss: 4509052108577701888.0000, Val mAP@50: 0.0000, FPS: 72.08, Epoch Time: 18.74 seconds\n",
      "Epoch 4/19, Train Loss: 2968128816767041536.0000, Val mAP@50: 0.0000, FPS: 72.06, Epoch Time: 18.75 seconds\n"
     ]
    },
    {
     "name": "stderr",
     "output_type": "stream",
     "text": [
      "[I 2025-01-27 01:30:00,688] Trial 56 pruned. \n"
     ]
    },
    {
     "name": "stdout",
     "output_type": "stream",
     "text": [
      "Trial pruned by Optuna at epoch 4.\n",
      "Checking Model: FasterRCNN\n",
      "Starting Trial #57\n",
      "{'batch_size': 8, 'epochs': 16, 'preweight_mode': 'fine_tuning', 'optimizer': 'Adam', 'lr': 0.00010829182310962558, 'beta1': 0.92219260341318, 'beta2': 0.9584714819581972, 'scheduler': 'CosineAnnealingLR', 'T_max': 9, 'eta_min': 6.627827086886638e-07}\n",
      "Epoch 1/16, Train Loss: 23.4012, Val mAP@50: 0.5917, FPS: 59.03, Epoch Time: 21.73 seconds\n",
      "Epoch 2/16, Train Loss: 16.8069, Val mAP@50: 0.6829, FPS: 58.88, Epoch Time: 21.69 seconds\n",
      "Epoch 3/16, Train Loss: 13.5778, Val mAP@50: 0.7156, FPS: 58.95, Epoch Time: 21.65 seconds\n",
      "Epoch 4/16, Train Loss: 10.7344, Val mAP@50: 0.6989, FPS: 58.80, Epoch Time: 21.60 seconds\n",
      "Epoch 5/16, Train Loss: 8.0249, Val mAP@50: 0.7461, FPS: 58.98, Epoch Time: 21.53 seconds\n",
      "Epoch 6/16, Train Loss: 6.3029, Val mAP@50: 0.7257, FPS: 58.93, Epoch Time: 21.52 seconds\n",
      "Epoch 7/16, Train Loss: 4.9182, Val mAP@50: 0.7591, FPS: 58.86, Epoch Time: 21.55 seconds\n",
      "Epoch 8/16, Train Loss: 3.8457, Val mAP@50: 0.7340, FPS: 58.82, Epoch Time: 21.56 seconds\n",
      "Epoch 9/16, Train Loss: 3.1535, Val mAP@50: 0.7361, FPS: 58.79, Epoch Time: 21.53 seconds\n",
      "Epoch 10/16, Train Loss: 2.9123, Val mAP@50: 0.7437, FPS: 58.78, Epoch Time: 21.58 seconds\n",
      "Epoch 11/16, Train Loss: 2.8989, Val mAP@50: 0.7354, FPS: 58.76, Epoch Time: 21.59 seconds\n",
      "Epoch 12/16, Train Loss: 2.8790, Val mAP@50: 0.7422, FPS: 58.78, Epoch Time: 21.57 seconds\n",
      "Epoch 13/16, Train Loss: 3.0558, Val mAP@50: 0.7362, FPS: 58.72, Epoch Time: 21.61 seconds\n",
      "Epoch 14/16, Train Loss: 3.9300, Val mAP@50: 0.7355, FPS: 58.68, Epoch Time: 21.63 seconds\n",
      "Epoch 15/16, Train Loss: 4.6489, Val mAP@50: 0.7398, FPS: 58.86, Epoch Time: 21.59 seconds\n"
     ]
    },
    {
     "name": "stderr",
     "output_type": "stream",
     "text": [
      "[I 2025-01-27 01:35:47,188] Trial 57 finished with value: 0.7590867877006531 and parameters: {'batch_size': 8, 'epochs': 16, 'preweight_mode': 'fine_tuning', 'optimizer': 'Adam', 'lr': 0.00010829182310962558, 'beta1': 0.92219260341318, 'beta2': 0.9584714819581972, 'scheduler': 'CosineAnnealingLR', 'T_max': 9, 'eta_min': 6.627827086886638e-07}. Best is trial 21 with value: 0.7791067957878113.\n"
     ]
    },
    {
     "name": "stdout",
     "output_type": "stream",
     "text": [
      "Epoch 16/16, Train Loss: 5.3345, Val mAP@50: 0.7154, FPS: 58.75, Epoch Time: 21.60 seconds\n",
      "Best Epoch: 6, Best Val mAP@50: 0.7591, Training Time: 345.53 seconds\n",
      "Model training complete.\n",
      "Checking Model: FasterRCNN\n",
      "Starting Trial #58\n",
      "{'batch_size': 8, 'epochs': 13, 'preweight_mode': 'random', 'optimizer': 'Adam', 'lr': 0.00010366325259499711, 'beta1': 0.9155890807470396, 'beta2': 0.9577945238689001, 'scheduler': 'ReduceLROnPlateau', 'factor': 0.22682362394213357, 'patience': 4}\n",
      "Epoch 1/13, Train Loss: 27.3904, Val mAP@50: 0.0000, FPS: 58.15, Epoch Time: 21.89 seconds\n",
      "Epoch 2/13, Train Loss: 24.1657, Val mAP@50: 0.0822, FPS: 58.75, Epoch Time: 21.87 seconds\n",
      "Epoch 3/13, Train Loss: 24.0258, Val mAP@50: 0.2458, FPS: 58.28, Epoch Time: 21.86 seconds\n",
      "Epoch 4/13, Train Loss: 22.6220, Val mAP@50: 0.4365, FPS: 57.96, Epoch Time: 21.87 seconds\n",
      "Epoch 5/13, Train Loss: 21.1100, Val mAP@50: 0.5651, FPS: 58.19, Epoch Time: 21.83 seconds\n"
     ]
    },
    {
     "name": "stderr",
     "output_type": "stream",
     "text": [
      "[I 2025-01-27 01:37:59,113] Trial 58 pruned. \n"
     ]
    },
    {
     "name": "stdout",
     "output_type": "stream",
     "text": [
      "Trial pruned by Optuna at epoch 5.\n",
      "Checking Model: FasterRCNN\n",
      "Starting Trial #59\n",
      "{'batch_size': 8, 'epochs': 20, 'preweight_mode': 'fine_tuning', 'optimizer': 'Adam', 'lr': 0.00018019946823713356, 'beta1': 0.9770970855952912, 'beta2': 0.939246602321531, 'scheduler': 'CosineAnnealingLR', 'T_max': 10, 'eta_min': 1.013269193269647e-06}\n",
      "Epoch 1/20, Train Loss: 27.2180, Val mAP@50: 0.1897, FPS: 58.56, Epoch Time: 21.76 seconds\n",
      "Epoch 2/20, Train Loss: 21.2460, Val mAP@50: 0.4245, FPS: 58.52, Epoch Time: 21.83 seconds\n",
      "Epoch 3/20, Train Loss: 18.0365, Val mAP@50: 0.6011, FPS: 58.68, Epoch Time: 21.86 seconds\n",
      "Epoch 4/20, Train Loss: 16.4722, Val mAP@50: 0.6737, FPS: 58.48, Epoch Time: 21.81 seconds\n",
      "Epoch 5/20, Train Loss: 13.3198, Val mAP@50: 0.6624, FPS: 58.88, Epoch Time: 21.64 seconds\n"
     ]
    },
    {
     "name": "stderr",
     "output_type": "stream",
     "text": [
      "[I 2025-01-27 01:40:10,459] Trial 59 pruned. \n"
     ]
    },
    {
     "name": "stdout",
     "output_type": "stream",
     "text": [
      "Trial pruned by Optuna at epoch 5.\n",
      "Checking Model: FasterRCNN\n",
      "Starting Trial #60\n",
      "{'batch_size': 8, 'epochs': 16, 'preweight_mode': 'fine_tuning', 'optimizer': 'Adam', 'lr': 0.00029286340817609273, 'beta1': 0.9258263390310444, 'beta2': 0.9689974876773708, 'scheduler': 'CosineAnnealingLR', 'T_max': 9, 'eta_min': 7.080054739154689e-07}\n",
      "Epoch 1/16, Train Loss: 26.0787, Val mAP@50: 0.3392, FPS: 58.56, Epoch Time: 21.84 seconds\n",
      "Epoch 2/16, Train Loss: 19.6704, Val mAP@50: 0.5365, FPS: 58.47, Epoch Time: 21.79 seconds\n",
      "Epoch 3/16, Train Loss: 17.3097, Val mAP@50: 0.6114, FPS: 58.80, Epoch Time: 21.84 seconds\n",
      "Epoch 4/16, Train Loss: 15.7496, Val mAP@50: 0.6312, FPS: 58.77, Epoch Time: 21.76 seconds\n",
      "Epoch 5/16, Train Loss: 11.9857, Val mAP@50: 0.6378, FPS: 58.42, Epoch Time: 21.72 seconds\n"
     ]
    },
    {
     "name": "stderr",
     "output_type": "stream",
     "text": [
      "[I 2025-01-27 01:42:21,974] Trial 60 pruned. \n"
     ]
    },
    {
     "name": "stdout",
     "output_type": "stream",
     "text": [
      "Trial pruned by Optuna at epoch 5.\n",
      "Checking Model: FasterRCNN\n",
      "Starting Trial #61\n",
      "{'batch_size': 7, 'epochs': 16, 'preweight_mode': 'fine_tuning', 'optimizer': 'Adam', 'lr': 0.00011878023520856198, 'beta1': 0.9419339344045167, 'beta2': 0.9434045009440508, 'scheduler': 'CosineAnnealingLR', 'T_max': 5, 'eta_min': 4.925587102936804e-07}\n",
      "Epoch 1/16, Train Loss: 27.4003, Val mAP@50: 0.5638, FPS: 56.48, Epoch Time: 22.28 seconds\n",
      "Epoch 2/16, Train Loss: 20.2445, Val mAP@50: 0.6504, FPS: 56.72, Epoch Time: 22.17 seconds\n",
      "Epoch 3/16, Train Loss: 15.1864, Val mAP@50: 0.7461, FPS: 56.55, Epoch Time: 22.11 seconds\n",
      "Epoch 4/16, Train Loss: 12.0528, Val mAP@50: 0.7073, FPS: 56.49, Epoch Time: 22.09 seconds\n",
      "Epoch 5/16, Train Loss: 8.6354, Val mAP@50: 0.7511, FPS: 56.46, Epoch Time: 22.07 seconds\n",
      "Epoch 6/16, Train Loss: 7.6209, Val mAP@50: 0.7523, FPS: 56.59, Epoch Time: 22.04 seconds\n",
      "Epoch 7/16, Train Loss: 7.5068, Val mAP@50: 0.7567, FPS: 56.57, Epoch Time: 22.03 seconds\n",
      "Epoch 8/16, Train Loss: 7.1995, Val mAP@50: 0.7240, FPS: 56.55, Epoch Time: 22.03 seconds\n",
      "Epoch 9/16, Train Loss: 8.2393, Val mAP@50: 0.6845, FPS: 56.48, Epoch Time: 22.08 seconds\n",
      "Epoch 10/16, Train Loss: 9.2875, Val mAP@50: 0.6977, FPS: 56.52, Epoch Time: 22.10 seconds\n",
      "Epoch 11/16, Train Loss: 9.3560, Val mAP@50: 0.6804, FPS: 56.38, Epoch Time: 22.13 seconds\n",
      "Epoch 12/16, Train Loss: 8.8989, Val mAP@50: 0.6548, FPS: 55.86, Epoch Time: 22.13 seconds\n",
      "Epoch 13/16, Train Loss: 7.1353, Val mAP@50: 0.7296, FPS: 56.16, Epoch Time: 22.22 seconds\n",
      "Epoch 14/16, Train Loss: 5.3230, Val mAP@50: 0.7186, FPS: 56.02, Epoch Time: 22.15 seconds\n",
      "Epoch 15/16, Train Loss: 3.8921, Val mAP@50: 0.7250, FPS: 56.22, Epoch Time: 22.17 seconds\n"
     ]
    },
    {
     "name": "stderr",
     "output_type": "stream",
     "text": [
      "[I 2025-01-27 01:48:16,928] Trial 61 finished with value: 0.7566514611244202 and parameters: {'batch_size': 7, 'epochs': 16, 'preweight_mode': 'fine_tuning', 'optimizer': 'Adam', 'lr': 0.00011878023520856198, 'beta1': 0.9419339344045167, 'beta2': 0.9434045009440508, 'scheduler': 'CosineAnnealingLR', 'T_max': 5, 'eta_min': 4.925587102936804e-07}. Best is trial 21 with value: 0.7791067957878113.\n"
     ]
    },
    {
     "name": "stdout",
     "output_type": "stream",
     "text": [
      "Epoch 16/16, Train Loss: 3.0921, Val mAP@50: 0.7168, FPS: 56.24, Epoch Time: 22.14 seconds\n",
      "Best Epoch: 6, Best Val mAP@50: 0.7567, Training Time: 353.92 seconds\n",
      "Model training complete.\n",
      "Checking Model: FasterRCNN\n",
      "Starting Trial #62\n",
      "{'batch_size': 8, 'epochs': 15, 'preweight_mode': 'fine_tuning', 'optimizer': 'Adam', 'lr': 0.00012193830175152718, 'beta1': 0.95671272996465, 'beta2': 0.933429715127033, 'scheduler': 'CosineAnnealingLR', 'T_max': 13, 'eta_min': 4.939937543803564e-07}\n",
      "Epoch 1/15, Train Loss: 24.4250, Val mAP@50: 0.4967, FPS: 58.87, Epoch Time: 21.82 seconds\n",
      "Epoch 2/15, Train Loss: 16.9694, Val mAP@50: 0.6729, FPS: 58.48, Epoch Time: 21.65 seconds\n",
      "Epoch 3/15, Train Loss: 14.0057, Val mAP@50: 0.6392, FPS: 58.71, Epoch Time: 21.69 seconds\n",
      "Epoch 4/15, Train Loss: 12.1225, Val mAP@50: 0.7023, FPS: 58.44, Epoch Time: 21.75 seconds\n",
      "Epoch 5/15, Train Loss: 10.1232, Val mAP@50: 0.6960, FPS: 58.72, Epoch Time: 21.71 seconds\n"
     ]
    },
    {
     "name": "stderr",
     "output_type": "stream",
     "text": [
      "[I 2025-01-27 01:50:28,026] Trial 62 pruned. \n"
     ]
    },
    {
     "name": "stdout",
     "output_type": "stream",
     "text": [
      "Trial pruned by Optuna at epoch 5.\n",
      "Checking Model: FasterRCNN\n",
      "Starting Trial #63\n",
      "{'batch_size': 4, 'epochs': 16, 'preweight_mode': 'fine_tuning', 'optimizer': 'Adam', 'lr': 0.00010068436253611551, 'beta1': 0.9400977795549474, 'beta2': 0.948303830442333, 'scheduler': 'CosineAnnealingLR', 'T_max': 5, 'eta_min': 9.337836232890004e-07}\n",
      "Epoch 1/16, Train Loss: 48.0173, Val mAP@50: 0.6120, FPS: 54.28, Epoch Time: 22.48 seconds\n",
      "Epoch 2/16, Train Loss: 35.3426, Val mAP@50: 0.6299, FPS: 54.26, Epoch Time: 22.47 seconds\n",
      "Epoch 3/16, Train Loss: 27.2684, Val mAP@50: 0.7168, FPS: 54.28, Epoch Time: 22.45 seconds\n",
      "Epoch 4/16, Train Loss: 20.2581, Val mAP@50: 0.7399, FPS: 54.29, Epoch Time: 22.42 seconds\n",
      "Epoch 5/16, Train Loss: 14.9210, Val mAP@50: 0.7326, FPS: 54.19, Epoch Time: 22.44 seconds\n"
     ]
    },
    {
     "name": "stderr",
     "output_type": "stream",
     "text": [
      "[I 2025-01-27 01:52:43,536] Trial 63 pruned. \n"
     ]
    },
    {
     "name": "stdout",
     "output_type": "stream",
     "text": [
      "Trial pruned by Optuna at epoch 5.\n",
      "Checking Model: FasterRCNN\n",
      "Starting Trial #64\n",
      "{'batch_size': 7, 'epochs': 14, 'preweight_mode': 'fine_tuning', 'optimizer': 'Adam', 'lr': 0.00012579322238557238, 'beta1': 0.9147178836091391, 'beta2': 0.9396758401275261, 'scheduler': 'CosineAnnealingLR', 'T_max': 5, 'eta_min': 5.859771866495887e-07}\n",
      "Epoch 1/14, Train Loss: 27.5197, Val mAP@50: 0.5765, FPS: 56.32, Epoch Time: 22.31 seconds\n",
      "Epoch 2/14, Train Loss: 19.6218, Val mAP@50: 0.6167, FPS: 56.16, Epoch Time: 22.23 seconds\n",
      "Epoch 3/14, Train Loss: 15.2789, Val mAP@50: 0.7476, FPS: 56.27, Epoch Time: 22.23 seconds\n",
      "Epoch 4/14, Train Loss: 11.6916, Val mAP@50: 0.7090, FPS: 56.41, Epoch Time: 22.11 seconds\n",
      "Epoch 5/14, Train Loss: 8.3467, Val mAP@50: 0.7274, FPS: 56.44, Epoch Time: 22.06 seconds\n",
      "Epoch 6/14, Train Loss: 7.0857, Val mAP@50: 0.7293, FPS: 56.71, Epoch Time: 21.97 seconds\n",
      "Epoch 7/14, Train Loss: 6.8903, Val mAP@50: 0.7299, FPS: 56.46, Epoch Time: 22.02 seconds\n",
      "Epoch 8/14, Train Loss: 6.8138, Val mAP@50: 0.7327, FPS: 56.37, Epoch Time: 22.05 seconds\n",
      "Epoch 9/14, Train Loss: 8.3067, Val mAP@50: 0.7090, FPS: 56.54, Epoch Time: 22.08 seconds\n",
      "Epoch 10/14, Train Loss: 9.4005, Val mAP@50: 0.6931, FPS: 56.22, Epoch Time: 22.10 seconds\n",
      "Epoch 11/14, Train Loss: 9.8829, Val mAP@50: 0.6879, FPS: 56.17, Epoch Time: 22.18 seconds\n",
      "Epoch 12/14, Train Loss: 8.4201, Val mAP@50: 0.7022, FPS: 55.97, Epoch Time: 22.19 seconds\n",
      "Epoch 13/14, Train Loss: 7.1580, Val mAP@50: 0.7018, FPS: 56.06, Epoch Time: 22.24 seconds\n"
     ]
    },
    {
     "name": "stderr",
     "output_type": "stream",
     "text": [
      "[I 2025-01-27 01:57:54,524] Trial 64 finished with value: 0.7475717663764954 and parameters: {'batch_size': 7, 'epochs': 14, 'preweight_mode': 'fine_tuning', 'optimizer': 'Adam', 'lr': 0.00012579322238557238, 'beta1': 0.9147178836091391, 'beta2': 0.9396758401275261, 'scheduler': 'CosineAnnealingLR', 'T_max': 5, 'eta_min': 5.859771866495887e-07}. Best is trial 21 with value: 0.7791067957878113.\n"
     ]
    },
    {
     "name": "stdout",
     "output_type": "stream",
     "text": [
      "Epoch 14/14, Train Loss: 5.2924, Val mAP@50: 0.7367, FPS: 56.06, Epoch Time: 22.20 seconds\n",
      "Best Epoch: 2, Best Val mAP@50: 0.7476, Training Time: 309.98 seconds\n",
      "Model training complete.\n",
      "Checking Model: FasterRCNN\n",
      "Starting Trial #65\n",
      "{'batch_size': 4, 'epochs': 15, 'preweight_mode': 'fine_tuning', 'optimizer': 'Adam', 'lr': 0.00015425463380653033, 'beta1': 0.941029196448369, 'beta2': 0.9911301092421243, 'scheduler': 'CosineAnnealingLR', 'T_max': 5, 'eta_min': 1.46646464943768e-07}\n",
      "Epoch 1/15, Train Loss: 47.8680, Val mAP@50: 0.5351, FPS: 54.06, Epoch Time: 22.52 seconds\n",
      "Epoch 2/15, Train Loss: 34.5964, Val mAP@50: 0.6329, FPS: 54.18, Epoch Time: 22.53 seconds\n",
      "Epoch 3/15, Train Loss: 28.0480, Val mAP@50: 0.6791, FPS: 54.20, Epoch Time: 22.41 seconds\n",
      "Epoch 4/15, Train Loss: 20.5015, Val mAP@50: 0.7431, FPS: 54.32, Epoch Time: 22.38 seconds\n",
      "Epoch 5/15, Train Loss: 15.6536, Val mAP@50: 0.7163, FPS: 54.31, Epoch Time: 22.37 seconds\n",
      "Epoch 6/15, Train Loss: 12.9412, Val mAP@50: 0.7153, FPS: 54.30, Epoch Time: 22.36 seconds\n",
      "Epoch 7/15, Train Loss: 12.9993, Val mAP@50: 0.7242, FPS: 54.32, Epoch Time: 22.36 seconds\n",
      "Epoch 8/15, Train Loss: 14.1596, Val mAP@50: 0.7079, FPS: 54.24, Epoch Time: 22.32 seconds\n",
      "Epoch 9/15, Train Loss: 18.8083, Val mAP@50: 0.6769, FPS: 54.54, Epoch Time: 22.36 seconds\n",
      "Epoch 10/15, Train Loss: 19.5966, Val mAP@50: 0.7199, FPS: 54.36, Epoch Time: 22.27 seconds\n",
      "Epoch 11/15, Train Loss: 19.3615, Val mAP@50: 0.6930, FPS: 54.22, Epoch Time: 22.37 seconds\n",
      "Epoch 12/15, Train Loss: 17.7820, Val mAP@50: 0.6717, FPS: 54.28, Epoch Time: 22.39 seconds\n",
      "Epoch 13/15, Train Loss: 13.5255, Val mAP@50: 0.7008, FPS: 54.09, Epoch Time: 22.36 seconds\n",
      "Epoch 14/15, Train Loss: 9.6240, Val mAP@50: 0.6660, FPS: 54.01, Epoch Time: 22.38 seconds\n"
     ]
    },
    {
     "name": "stderr",
     "output_type": "stream",
     "text": [
      "[I 2025-01-27 02:03:31,347] Trial 65 finished with value: 0.7430582642555237 and parameters: {'batch_size': 4, 'epochs': 15, 'preweight_mode': 'fine_tuning', 'optimizer': 'Adam', 'lr': 0.00015425463380653033, 'beta1': 0.941029196448369, 'beta2': 0.9911301092421243, 'scheduler': 'CosineAnnealingLR', 'T_max': 5, 'eta_min': 1.46646464943768e-07}. Best is trial 21 with value: 0.7791067957878113.\n"
     ]
    },
    {
     "name": "stdout",
     "output_type": "stream",
     "text": [
      "Epoch 15/15, Train Loss: 6.6218, Val mAP@50: 0.6725, FPS: 54.06, Epoch Time: 22.38 seconds\n",
      "Best Epoch: 3, Best Val mAP@50: 0.7431, Training Time: 335.76 seconds\n",
      "Model training complete.\n",
      "Checking Model: FasterRCNN\n",
      "Starting Trial #66\n",
      "{'batch_size': 7, 'epochs': 19, 'preweight_mode': 'freezing', 'optimizer': 'AdamW', 'lr': 0.00019515293481162828, 'weight_decay': 0.002128839571937566, 'beta1': 0.8133855370629538, 'beta2': 0.9304463449653422, 'scheduler': 'OneCycleLR', 'max_lr': 0.00036136082051210067}\n",
      "Epoch 1/19, Train Loss: 50.6518, Val mAP@50: 0.0000, FPS: 56.90, Epoch Time: 13.50 seconds\n",
      "Epoch 2/19, Train Loss: 43.1453, Val mAP@50: 0.0000, FPS: 56.98, Epoch Time: 13.45 seconds\n",
      "Epoch 3/19, Train Loss: 41.2985, Val mAP@50: 0.0000, FPS: 57.06, Epoch Time: 13.44 seconds\n",
      "Epoch 4/19, Train Loss: 40.2589, Val mAP@50: 0.0000, FPS: 57.07, Epoch Time: 13.43 seconds\n"
     ]
    },
    {
     "name": "stderr",
     "output_type": "stream",
     "text": [
      "[I 2025-01-27 02:04:39,454] Trial 66 pruned. \n"
     ]
    },
    {
     "name": "stdout",
     "output_type": "stream",
     "text": [
      "Trial pruned by Optuna at epoch 4.\n",
      "Checking Model: FasterRCNN\n",
      "Starting Trial #67\n",
      "{'batch_size': 4, 'epochs': 16, 'preweight_mode': 'fine_tuning', 'optimizer': 'Adam', 'lr': 0.0001169775524977055, 'beta1': 0.9264911142467762, 'beta2': 0.9938993116649978, 'scheduler': 'CosineAnnealingLR', 'T_max': 12, 'eta_min': 2.2490087420667392e-07}\n",
      "Epoch 1/16, Train Loss: 46.8061, Val mAP@50: 0.5609, FPS: 54.25, Epoch Time: 22.40 seconds\n",
      "Epoch 2/16, Train Loss: 35.0018, Val mAP@50: 0.6606, FPS: 54.25, Epoch Time: 22.47 seconds\n",
      "Epoch 3/16, Train Loss: 28.8373, Val mAP@50: 0.6522, FPS: 54.36, Epoch Time: 22.46 seconds\n",
      "Epoch 4/16, Train Loss: 22.7483, Val mAP@50: 0.7130, FPS: 54.21, Epoch Time: 22.36 seconds\n",
      "Epoch 5/16, Train Loss: 18.7120, Val mAP@50: 0.6762, FPS: 54.22, Epoch Time: 22.36 seconds\n"
     ]
    },
    {
     "name": "stderr",
     "output_type": "stream",
     "text": [
      "[I 2025-01-27 02:06:54,618] Trial 67 pruned. \n"
     ]
    },
    {
     "name": "stdout",
     "output_type": "stream",
     "text": [
      "Trial pruned by Optuna at epoch 5.\n",
      "Checking Model: FasterRCNN\n",
      "Starting Trial #68\n",
      "{'batch_size': 6, 'epochs': 20, 'preweight_mode': 'fine_tuning', 'optimizer': 'AdamW', 'lr': 0.0008990658396431624, 'weight_decay': 0.0025680375552857067, 'beta1': 0.9077480327034413, 'beta2': 0.9444298234135406, 'scheduler': 'StepLR', 'step_size': 2, 'gamma': 0.41573065904670303}\n",
      "Epoch 1/20, Train Loss: 38.4259, Val mAP@50: 0.0000, FPS: 57.99, Epoch Time: 22.16 seconds\n",
      "Epoch 2/20, Train Loss: 30.5798, Val mAP@50: 0.0000, FPS: 58.50, Epoch Time: 22.17 seconds\n",
      "Epoch 3/20, Train Loss: 31.3498, Val mAP@50: 0.0000, FPS: 58.23, Epoch Time: 22.12 seconds\n",
      "Epoch 4/20, Train Loss: 30.9472, Val mAP@50: 0.1039, FPS: 58.37, Epoch Time: 22.18 seconds\n",
      "Epoch 5/20, Train Loss: 29.0775, Val mAP@50: 0.2677, FPS: 58.14, Epoch Time: 22.16 seconds\n"
     ]
    },
    {
     "name": "stderr",
     "output_type": "stream",
     "text": [
      "[I 2025-01-27 02:09:08,454] Trial 68 pruned. \n"
     ]
    },
    {
     "name": "stdout",
     "output_type": "stream",
     "text": [
      "Trial pruned by Optuna at epoch 5.\n",
      "Checking Model: FasterRCNN\n",
      "Starting Trial #69\n",
      "{'batch_size': 8, 'epochs': 18, 'preweight_mode': 'fine_tuning', 'optimizer': 'RMSprop', 'lr': 0.00103754343637229, 'weight_decay': 0.13632646115393426, 'momentum': 0.951152209877311, 'scheduler': 'CosineAnnealingLR', 'T_max': 8, 'eta_min': 1.305851305702926e-07}\n",
      "Epoch 1/18, Train Loss: nan, Val mAP@50: 0.0000, FPS: 73.43, Epoch Time: 18.29 seconds\n",
      "Epoch 2/18, Train Loss: nan, Val mAP@50: 0.0000, FPS: 73.41, Epoch Time: 18.15 seconds\n",
      "Epoch 3/18, Train Loss: nan, Val mAP@50: 0.0000, FPS: 73.47, Epoch Time: 18.15 seconds\n",
      "Epoch 4/18, Train Loss: nan, Val mAP@50: 0.0000, FPS: 73.44, Epoch Time: 18.16 seconds\n"
     ]
    },
    {
     "name": "stderr",
     "output_type": "stream",
     "text": [
      "[I 2025-01-27 02:10:40,166] Trial 69 pruned. \n"
     ]
    },
    {
     "name": "stdout",
     "output_type": "stream",
     "text": [
      "Trial pruned by Optuna at epoch 4.\n",
      "Checking Model: FasterRCNN\n",
      "Starting Trial #70\n",
      "{'batch_size': 5, 'epochs': 19, 'preweight_mode': 'random', 'optimizer': 'AdamW', 'lr': 0.0001529357967226288, 'weight_decay': 0.006782320292189545, 'beta1': 0.9753373211592753, 'beta2': 0.9238594419487594, 'scheduler': 'CosineAnnealingLR', 'T_max': 15, 'eta_min': 1.2454915811490048e-06}\n",
      "Epoch 1/19, Train Loss: 41.5907, Val mAP@50: 0.0000, FPS: 55.38, Epoch Time: 22.56 seconds\n",
      "Epoch 2/19, Train Loss: 38.9621, Val mAP@50: 0.0000, FPS: 55.31, Epoch Time: 22.45 seconds\n",
      "Epoch 3/19, Train Loss: 37.9715, Val mAP@50: 0.0198, FPS: 54.78, Epoch Time: 22.50 seconds\n",
      "Epoch 4/19, Train Loss: 37.4048, Val mAP@50: 0.2298, FPS: 55.10, Epoch Time: 22.51 seconds\n",
      "Epoch 5/19, Train Loss: 37.4103, Val mAP@50: 0.2974, FPS: 54.97, Epoch Time: 22.52 seconds\n"
     ]
    },
    {
     "name": "stderr",
     "output_type": "stream",
     "text": [
      "[I 2025-01-27 02:12:55,913] Trial 70 pruned. \n"
     ]
    },
    {
     "name": "stdout",
     "output_type": "stream",
     "text": [
      "Trial pruned by Optuna at epoch 5.\n",
      "Checking Model: FasterRCNN\n",
      "Starting Trial #71\n",
      "{'batch_size': 7, 'epochs': 17, 'preweight_mode': 'fine_tuning', 'optimizer': 'SGD', 'lr': 0.005077286891014731, 'momentum': 0.9410626508845523, 'weight_decay': 6.509385638898574e-05, 'scheduler': 'CosineAnnealingLR', 'T_max': 6, 'eta_min': 3.181777359507687e-07}\n",
      "Epoch 1/17, Train Loss: 27.7866, Val mAP@50: 0.5471, FPS: 56.30, Epoch Time: 22.27 seconds\n",
      "Epoch 2/17, Train Loss: 19.2888, Val mAP@50: 0.7103, FPS: 56.23, Epoch Time: 22.12 seconds\n",
      "Epoch 3/17, Train Loss: 16.0620, Val mAP@50: 0.7508, FPS: 56.38, Epoch Time: 22.13 seconds\n",
      "Epoch 4/17, Train Loss: 12.9369, Val mAP@50: 0.7794, FPS: 56.44, Epoch Time: 22.05 seconds\n",
      "Epoch 5/17, Train Loss: 10.7096, Val mAP@50: 0.7808, FPS: 56.36, Epoch Time: 22.03 seconds\n",
      "Epoch 6/17, Train Loss: 9.2280, Val mAP@50: 0.7710, FPS: 56.37, Epoch Time: 22.00 seconds\n",
      "Epoch 7/17, Train Loss: 8.6990, Val mAP@50: 0.7712, FPS: 56.43, Epoch Time: 22.02 seconds\n",
      "Epoch 8/17, Train Loss: 8.6705, Val mAP@50: 0.7704, FPS: 56.57, Epoch Time: 21.92 seconds\n",
      "Epoch 9/17, Train Loss: 8.5392, Val mAP@50: 0.7748, FPS: 56.44, Epoch Time: 22.00 seconds\n",
      "Epoch 10/17, Train Loss: 8.4681, Val mAP@50: 0.7266, FPS: 56.49, Epoch Time: 21.97 seconds\n",
      "Epoch 11/17, Train Loss: 8.5276, Val mAP@50: 0.7183, FPS: 56.45, Epoch Time: 21.98 seconds\n",
      "Epoch 12/17, Train Loss: 9.9794, Val mAP@50: 0.7206, FPS: 56.41, Epoch Time: 22.01 seconds\n",
      "Epoch 13/17, Train Loss: 9.4785, Val mAP@50: 0.6904, FPS: 56.20, Epoch Time: 22.02 seconds\n",
      "Epoch 14/17, Train Loss: 7.8703, Val mAP@50: 0.7371, FPS: 56.52, Epoch Time: 22.02 seconds\n",
      "Epoch 15/17, Train Loss: 6.2960, Val mAP@50: 0.7134, FPS: 56.50, Epoch Time: 21.98 seconds\n",
      "Epoch 16/17, Train Loss: 4.9339, Val mAP@50: 0.7495, FPS: 56.52, Epoch Time: 21.96 seconds\n"
     ]
    },
    {
     "name": "stderr",
     "output_type": "stream",
     "text": [
      "[I 2025-01-27 02:19:11,362] Trial 71 finished with value: 0.7808420658111572 and parameters: {'batch_size': 7, 'epochs': 17, 'preweight_mode': 'fine_tuning', 'optimizer': 'SGD', 'lr': 0.005077286891014731, 'momentum': 0.9410626508845523, 'weight_decay': 6.509385638898574e-05, 'scheduler': 'CosineAnnealingLR', 'T_max': 6, 'eta_min': 3.181777359507687e-07}. Best is trial 71 with value: 0.7808420658111572.\n"
     ]
    },
    {
     "name": "stdout",
     "output_type": "stream",
     "text": [
      "Epoch 17/17, Train Loss: 3.8330, Val mAP@50: 0.7457, FPS: 56.42, Epoch Time: 21.97 seconds\n",
      "Best Epoch: 4, Best Val mAP@50: 0.7808, Training Time: 374.46 seconds\n",
      "Model training complete.\n",
      "Checking Model: FasterRCNN\n",
      "Starting Trial #72\n",
      "{'batch_size': 7, 'epochs': 17, 'preweight_mode': 'fine_tuning', 'optimizer': 'Adam', 'lr': 0.0037119074077924313, 'beta1': 0.8291828361886402, 'beta2': 0.9561607926993979, 'scheduler': 'CosineAnnealingLR', 'T_max': 5, 'eta_min': 4.2707526755299374e-07}\n",
      "Epoch 1/17, Train Loss: 106727893317916.9531, Val mAP@50: 0.0000, FPS: 63.10, Epoch Time: 19.68 seconds\n",
      "Epoch 2/17, Train Loss: 435.5225, Val mAP@50: 0.0000, FPS: 58.11, Epoch Time: 21.54 seconds\n",
      "Epoch 3/17, Train Loss: 539.1265, Val mAP@50: 0.0000, FPS: 59.45, Epoch Time: 21.69 seconds\n",
      "Epoch 4/17, Train Loss: 474.7018, Val mAP@50: 0.0000, FPS: 57.72, Epoch Time: 21.76 seconds\n",
      "Epoch 5/17, Train Loss: 94.3098, Val mAP@50: 0.0040, FPS: 56.51, Epoch Time: 22.16 seconds\n"
     ]
    },
    {
     "name": "stderr",
     "output_type": "stream",
     "text": [
      "[I 2025-01-27 02:21:21,200] Trial 72 pruned. \n"
     ]
    },
    {
     "name": "stdout",
     "output_type": "stream",
     "text": [
      "Trial pruned by Optuna at epoch 5.\n",
      "Checking Model: FasterRCNN\n",
      "Starting Trial #73\n",
      "{'batch_size': 7, 'epochs': 16, 'preweight_mode': 'fine_tuning', 'optimizer': 'AdamW', 'lr': 0.0013688245580111482, 'weight_decay': 0.003121308439826181, 'beta1': 0.888417331347471, 'beta2': 0.934440399718021, 'scheduler': 'CosineAnnealingLR', 'T_max': 6, 'eta_min': 2.720230348084013e-07}\n",
      "Epoch 1/16, Train Loss: 83.0176, Val mAP@50: 0.0000, FPS: 56.07, Epoch Time: 22.13 seconds\n",
      "Epoch 2/16, Train Loss: 25.3968, Val mAP@50: 0.0000, FPS: 56.61, Epoch Time: 22.15 seconds\n",
      "Epoch 3/16, Train Loss: 26.4096, Val mAP@50: 0.0000, FPS: 56.68, Epoch Time: 22.14 seconds\n",
      "Epoch 4/16, Train Loss: 25.9957, Val mAP@50: 0.0000, FPS: 56.91, Epoch Time: 22.09 seconds\n",
      "Epoch 5/16, Train Loss: 25.9503, Val mAP@50: 0.0991, FPS: 56.40, Epoch Time: 22.15 seconds\n"
     ]
    },
    {
     "name": "stderr",
     "output_type": "stream",
     "text": [
      "[I 2025-01-27 02:23:34,818] Trial 73 pruned. \n"
     ]
    },
    {
     "name": "stdout",
     "output_type": "stream",
     "text": [
      "Trial pruned by Optuna at epoch 5.\n",
      "Checking Model: FasterRCNN\n",
      "Starting Trial #74\n",
      "{'batch_size': 8, 'epochs': 16, 'preweight_mode': 'fine_tuning', 'optimizer': 'SGD', 'lr': 0.005070610129865038, 'momentum': 0.9410262088704026, 'weight_decay': 8.368584345867155e-05, 'scheduler': 'CosineAnnealingLR', 'T_max': 5, 'eta_min': 6.574907128307418e-07}\n",
      "Epoch 1/16, Train Loss: 26.8249, Val mAP@50: 0.5025, FPS: 58.70, Epoch Time: 21.61 seconds\n",
      "Epoch 2/16, Train Loss: 16.7820, Val mAP@50: 0.6351, FPS: 58.91, Epoch Time: 21.71 seconds\n",
      "Epoch 3/16, Train Loss: 13.9177, Val mAP@50: 0.7033, FPS: 58.65, Epoch Time: 21.61 seconds\n",
      "Epoch 4/16, Train Loss: 11.5118, Val mAP@50: 0.7501, FPS: 58.72, Epoch Time: 21.59 seconds\n",
      "Epoch 5/16, Train Loss: 9.9768, Val mAP@50: 0.7567, FPS: 58.76, Epoch Time: 21.57 seconds\n",
      "Epoch 6/16, Train Loss: 9.4535, Val mAP@50: 0.7567, FPS: 58.77, Epoch Time: 21.57 seconds\n",
      "Epoch 7/16, Train Loss: 9.4416, Val mAP@50: 0.7550, FPS: 58.83, Epoch Time: 21.58 seconds\n",
      "Epoch 8/16, Train Loss: 9.1273, Val mAP@50: 0.7519, FPS: 58.81, Epoch Time: 21.56 seconds\n",
      "Epoch 9/16, Train Loss: 8.7498, Val mAP@50: 0.6664, FPS: 58.70, Epoch Time: 21.54 seconds\n",
      "Epoch 10/16, Train Loss: 8.6887, Val mAP@50: 0.6414, FPS: 58.77, Epoch Time: 21.55 seconds\n",
      "Epoch 11/16, Train Loss: 10.0355, Val mAP@50: 0.6908, FPS: 58.88, Epoch Time: 21.55 seconds\n",
      "Epoch 12/16, Train Loss: 7.7351, Val mAP@50: 0.7002, FPS: 58.80, Epoch Time: 21.52 seconds\n",
      "Epoch 13/16, Train Loss: 5.9856, Val mAP@50: 0.7262, FPS: 58.70, Epoch Time: 21.52 seconds\n",
      "Epoch 14/16, Train Loss: 4.6752, Val mAP@50: 0.7081, FPS: 58.78, Epoch Time: 21.51 seconds\n",
      "Epoch 15/16, Train Loss: 4.0040, Val mAP@50: 0.7264, FPS: 58.77, Epoch Time: 21.51 seconds\n"
     ]
    },
    {
     "name": "stderr",
     "output_type": "stream",
     "text": [
      "[I 2025-01-27 02:29:20,770] Trial 74 finished with value: 0.756700873374939 and parameters: {'batch_size': 8, 'epochs': 16, 'preweight_mode': 'fine_tuning', 'optimizer': 'SGD', 'lr': 0.005070610129865038, 'momentum': 0.9410262088704026, 'weight_decay': 8.368584345867155e-05, 'scheduler': 'CosineAnnealingLR', 'T_max': 5, 'eta_min': 6.574907128307418e-07}. Best is trial 71 with value: 0.7808420658111572.\n"
     ]
    },
    {
     "name": "stdout",
     "output_type": "stream",
     "text": [
      "Epoch 16/16, Train Loss: 3.8495, Val mAP@50: 0.7264, FPS: 58.78, Epoch Time: 21.48 seconds\n",
      "Best Epoch: 4, Best Val mAP@50: 0.7567, Training Time: 344.97 seconds\n",
      "Model training complete.\n",
      "Checking Model: FasterRCNN\n",
      "Starting Trial #75\n",
      "{'batch_size': 8, 'epochs': 17, 'preweight_mode': 'fine_tuning', 'optimizer': 'SGD', 'lr': 0.010623038643404175, 'momentum': 0.9435324160097639, 'weight_decay': 7.512715505545867e-05, 'scheduler': 'StepLR', 'step_size': 4, 'gamma': 0.050420603666620156}\n",
      "Epoch 1/17, Train Loss: 29.9706, Val mAP@50: 0.3129, FPS: 58.55, Epoch Time: 21.86 seconds\n",
      "Epoch 2/17, Train Loss: 20.0949, Val mAP@50: 0.5727, FPS: 58.65, Epoch Time: 21.70 seconds\n",
      "Epoch 3/17, Train Loss: 17.4917, Val mAP@50: 0.6835, FPS: 58.44, Epoch Time: 21.70 seconds\n",
      "Epoch 4/17, Train Loss: 15.9671, Val mAP@50: 0.5627, FPS: 59.04, Epoch Time: 21.75 seconds\n",
      "Epoch 5/17, Train Loss: 12.7116, Val mAP@50: 0.7291, FPS: 58.76, Epoch Time: 21.58 seconds\n"
     ]
    },
    {
     "name": "stderr",
     "output_type": "stream",
     "text": [
      "[I 2025-01-27 02:31:31,757] Trial 75 pruned. \n"
     ]
    },
    {
     "name": "stdout",
     "output_type": "stream",
     "text": [
      "Trial pruned by Optuna at epoch 5.\n",
      "Checking Model: FasterRCNN\n",
      "Starting Trial #76\n",
      "{'batch_size': 8, 'epochs': 17, 'preweight_mode': 'fine_tuning', 'optimizer': 'SGD', 'lr': 0.027054324340119573, 'momentum': 0.9456168691304079, 'weight_decay': 4.173412221875516e-05, 'scheduler': 'CosineAnnealingLR', 'T_max': 7, 'eta_min': 6.746197319728491e-07}\n",
      "Epoch 1/17, Train Loss: nan, Val mAP@50: 0.0000, FPS: 73.51, Epoch Time: 18.37 seconds\n",
      "Epoch 2/17, Train Loss: nan, Val mAP@50: 0.0000, FPS: 73.55, Epoch Time: 18.00 seconds\n",
      "Epoch 3/17, Train Loss: nan, Val mAP@50: 0.0000, FPS: 73.53, Epoch Time: 18.02 seconds\n",
      "Epoch 4/17, Train Loss: nan, Val mAP@50: 0.0000, FPS: 73.53, Epoch Time: 18.00 seconds\n"
     ]
    },
    {
     "name": "stderr",
     "output_type": "stream",
     "text": [
      "[I 2025-01-27 02:33:02,959] Trial 76 pruned. \n"
     ]
    },
    {
     "name": "stdout",
     "output_type": "stream",
     "text": [
      "Trial pruned by Optuna at epoch 4.\n",
      "Checking Model: FasterRCNN\n",
      "Starting Trial #77\n",
      "{'batch_size': 8, 'epochs': 18, 'preweight_mode': 'fine_tuning', 'optimizer': 'SGD', 'lr': 0.007820966359657485, 'momentum': 0.9401285903657844, 'weight_decay': 2.640508462897979e-05, 'scheduler': 'ReduceLROnPlateau', 'factor': 0.41244880264357797, 'patience': 3}\n",
      "Epoch 1/18, Train Loss: 26.6523, Val mAP@50: 0.4673, FPS: 58.73, Epoch Time: 21.74 seconds\n",
      "Epoch 2/18, Train Loss: 17.3072, Val mAP@50: 0.7036, FPS: 58.84, Epoch Time: 21.73 seconds\n",
      "Epoch 3/18, Train Loss: 14.2789, Val mAP@50: 0.7098, FPS: 59.00, Epoch Time: 21.60 seconds\n",
      "Epoch 4/18, Train Loss: 12.6735, Val mAP@50: 0.7641, FPS: 59.10, Epoch Time: 21.51 seconds\n",
      "Epoch 5/18, Train Loss: 10.6480, Val mAP@50: 0.7281, FPS: 59.12, Epoch Time: 21.50 seconds\n",
      "Epoch 6/18, Train Loss: 9.1728, Val mAP@50: 0.7060, FPS: 58.94, Epoch Time: 21.48 seconds\n",
      "Epoch 7/18, Train Loss: 8.3756, Val mAP@50: 0.6237, FPS: 59.09, Epoch Time: 21.51 seconds\n",
      "Epoch 8/18, Train Loss: 8.2429, Val mAP@50: 0.6388, FPS: 59.05, Epoch Time: 21.47 seconds\n",
      "Epoch 9/18, Train Loss: 6.1685, Val mAP@50: 0.7089, FPS: 59.17, Epoch Time: 21.47 seconds\n",
      "Epoch 10/18, Train Loss: 4.6438, Val mAP@50: 0.7441, FPS: 59.06, Epoch Time: 21.46 seconds\n",
      "Epoch 11/18, Train Loss: 3.9390, Val mAP@50: 0.7454, FPS: 59.04, Epoch Time: 21.45 seconds\n",
      "Epoch 12/18, Train Loss: 3.5560, Val mAP@50: 0.7312, FPS: 59.13, Epoch Time: 21.45 seconds\n",
      "Epoch 13/18, Train Loss: 3.1075, Val mAP@50: 0.7233, FPS: 59.14, Epoch Time: 21.45 seconds\n",
      "Epoch 14/18, Train Loss: 2.8724, Val mAP@50: 0.7232, FPS: 59.10, Epoch Time: 21.45 seconds\n",
      "Epoch 15/18, Train Loss: 2.7170, Val mAP@50: 0.7216, FPS: 59.05, Epoch Time: 21.45 seconds\n",
      "Epoch 16/18, Train Loss: 2.5371, Val mAP@50: 0.7224, FPS: 59.12, Epoch Time: 21.46 seconds\n",
      "Epoch 17/18, Train Loss: 2.3901, Val mAP@50: 0.7209, FPS: 59.05, Epoch Time: 21.46 seconds\n"
     ]
    },
    {
     "name": "stderr",
     "output_type": "stream",
     "text": [
      "[I 2025-01-27 02:39:31,033] Trial 77 finished with value: 0.7640650868415833 and parameters: {'batch_size': 8, 'epochs': 18, 'preweight_mode': 'fine_tuning', 'optimizer': 'SGD', 'lr': 0.007820966359657485, 'momentum': 0.9401285903657844, 'weight_decay': 2.640508462897979e-05, 'scheduler': 'ReduceLROnPlateau', 'factor': 0.41244880264357797, 'patience': 3}. Best is trial 71 with value: 0.7808420658111572.\n"
     ]
    },
    {
     "name": "stdout",
     "output_type": "stream",
     "text": [
      "Epoch 18/18, Train Loss: 2.3564, Val mAP@50: 0.7208, FPS: 59.07, Epoch Time: 21.45 seconds\n",
      "Best Epoch: 3, Best Val mAP@50: 0.7641, Training Time: 387.10 seconds\n",
      "Model training complete.\n",
      "Checking Model: FasterRCNN\n",
      "Starting Trial #78\n",
      "{'batch_size': 8, 'epochs': 18, 'preweight_mode': 'freezing', 'optimizer': 'SGD', 'lr': 0.014826479268053389, 'momentum': 0.9494729703301765, 'weight_decay': 2.0972887160874594e-05, 'scheduler': 'ReduceLROnPlateau', 'factor': 0.40009867855867143, 'patience': 3}\n",
      "Epoch 1/18, Train Loss: 85.3581, Val mAP@50: 0.0246, FPS: 59.24, Epoch Time: 13.37 seconds\n",
      "Epoch 2/18, Train Loss: 46.9548, Val mAP@50: 0.0530, FPS: 59.39, Epoch Time: 13.37 seconds\n",
      "Epoch 3/18, Train Loss: 36.0039, Val mAP@50: 0.0520, FPS: 59.43, Epoch Time: 13.31 seconds\n",
      "Epoch 4/18, Train Loss: 33.3895, Val mAP@50: 0.0700, FPS: 59.43, Epoch Time: 13.32 seconds\n",
      "Epoch 5/18, Train Loss: 33.0603, Val mAP@50: 0.0934, FPS: 59.52, Epoch Time: 13.34 seconds\n"
     ]
    },
    {
     "name": "stderr",
     "output_type": "stream",
     "text": [
      "[I 2025-01-27 02:40:51,888] Trial 78 pruned. \n"
     ]
    },
    {
     "name": "stdout",
     "output_type": "stream",
     "text": [
      "Trial pruned by Optuna at epoch 5.\n",
      "Checking Model: FasterRCNN\n",
      "Starting Trial #79\n",
      "{'batch_size': 4, 'epochs': 19, 'preweight_mode': 'fine_tuning', 'optimizer': 'SGD', 'lr': 0.005080731810949562, 'momentum': 0.93257855782618, 'weight_decay': 2.097565570867816e-05, 'scheduler': 'ReduceLROnPlateau', 'factor': 0.3918204681412118, 'patience': 3}\n",
      "Epoch 1/19, Train Loss: 50.9481, Val mAP@50: 0.5394, FPS: 54.28, Epoch Time: 22.30 seconds\n",
      "Epoch 2/19, Train Loss: 34.1103, Val mAP@50: 0.6794, FPS: 54.30, Epoch Time: 22.26 seconds\n",
      "Epoch 3/19, Train Loss: 28.9172, Val mAP@50: 0.6978, FPS: 54.37, Epoch Time: 22.22 seconds\n",
      "Epoch 4/19, Train Loss: 24.9929, Val mAP@50: 0.7051, FPS: 54.39, Epoch Time: 22.25 seconds\n",
      "Epoch 5/19, Train Loss: 21.0412, Val mAP@50: 0.7053, FPS: 54.38, Epoch Time: 22.18 seconds\n"
     ]
    },
    {
     "name": "stderr",
     "output_type": "stream",
     "text": [
      "[I 2025-01-27 02:43:06,024] Trial 79 pruned. \n"
     ]
    },
    {
     "name": "stdout",
     "output_type": "stream",
     "text": [
      "Trial pruned by Optuna at epoch 5.\n",
      "Checking Model: FasterRCNN\n",
      "Starting Trial #80\n",
      "{'batch_size': 8, 'epochs': 18, 'preweight_mode': 'fine_tuning', 'optimizer': 'AdamW', 'lr': 0.002124828273368561, 'weight_decay': 0.0014071411143165592, 'beta1': 0.811029306064417, 'beta2': 0.9662418340921622, 'scheduler': 'ReduceLROnPlateau', 'factor': 0.3931138727417255, 'patience': 2}\n",
      "Epoch 1/18, Train Loss: 122111.5939, Val mAP@50: 0.0000, FPS: 61.26, Epoch Time: 21.01 seconds\n",
      "Epoch 2/18, Train Loss: 59.5802, Val mAP@50: 0.0000, FPS: 59.32, Epoch Time: 21.63 seconds\n",
      "Epoch 3/18, Train Loss: 36.8482, Val mAP@50: 0.0000, FPS: 58.54, Epoch Time: 21.67 seconds\n",
      "Epoch 4/18, Train Loss: 57.8422, Val mAP@50: 0.0000, FPS: 59.77, Epoch Time: 21.72 seconds\n"
     ]
    },
    {
     "name": "stderr",
     "output_type": "stream",
     "text": [
      "[I 2025-01-27 02:44:54,618] Trial 80 pruned. \n"
     ]
    },
    {
     "name": "stdout",
     "output_type": "stream",
     "text": [
      "Trial pruned by Optuna at epoch 4.\n",
      "Checking Model: FasterRCNN\n",
      "Starting Trial #81\n",
      "{'batch_size': 8, 'epochs': 18, 'preweight_mode': 'fine_tuning', 'optimizer': 'SGD', 'lr': 0.00793832421255662, 'momentum': 0.9416600414473731, 'weight_decay': 6.582303013340907e-05, 'scheduler': 'ReduceLROnPlateau', 'factor': 0.21508062986317697, 'patience': 4}\n",
      "Epoch 1/18, Train Loss: 29.5347, Val mAP@50: 0.4567, FPS: 58.61, Epoch Time: 21.87 seconds\n",
      "Epoch 2/18, Train Loss: 18.9746, Val mAP@50: 0.6775, FPS: 58.75, Epoch Time: 21.72 seconds\n",
      "Epoch 3/18, Train Loss: 15.7538, Val mAP@50: 0.6400, FPS: 58.72, Epoch Time: 21.70 seconds\n",
      "Epoch 4/18, Train Loss: 13.5555, Val mAP@50: 0.7174, FPS: 58.45, Epoch Time: 21.72 seconds\n",
      "Epoch 5/18, Train Loss: 11.4450, Val mAP@50: 0.7035, FPS: 58.87, Epoch Time: 21.67 seconds\n"
     ]
    },
    {
     "name": "stderr",
     "output_type": "stream",
     "text": [
      "[I 2025-01-27 02:47:05,748] Trial 81 pruned. \n"
     ]
    },
    {
     "name": "stdout",
     "output_type": "stream",
     "text": [
      "Trial pruned by Optuna at epoch 5.\n",
      "Checking Model: FasterRCNN\n",
      "Starting Trial #82\n",
      "{'batch_size': 8, 'epochs': 17, 'preweight_mode': 'fine_tuning', 'optimizer': 'SGD', 'lr': 0.007394675806962521, 'momentum': 0.9649928615560392, 'weight_decay': 2.7660231332242797e-05, 'scheduler': 'CosineAnnealingLR', 'T_max': 6, 'eta_min': 3.095148607914319e-07}\n",
      "Epoch 1/17, Train Loss: 25.4779, Val mAP@50: 0.4646, FPS: 58.27, Epoch Time: 21.73 seconds\n",
      "Epoch 2/17, Train Loss: 18.4623, Val mAP@50: 0.6225, FPS: 58.40, Epoch Time: 21.67 seconds\n",
      "Epoch 3/17, Train Loss: 15.6194, Val mAP@50: 0.7132, FPS: 58.77, Epoch Time: 21.71 seconds\n",
      "Epoch 4/17, Train Loss: 12.4154, Val mAP@50: 0.7222, FPS: 58.54, Epoch Time: 21.65 seconds\n",
      "Epoch 5/17, Train Loss: 9.7881, Val mAP@50: 0.7490, FPS: 58.70, Epoch Time: 21.63 seconds\n",
      "Epoch 6/17, Train Loss: 8.4153, Val mAP@50: 0.7419, FPS: 58.68, Epoch Time: 21.60 seconds\n",
      "Epoch 7/17, Train Loss: 7.9338, Val mAP@50: 0.7420, FPS: 58.65, Epoch Time: 21.62 seconds\n",
      "Epoch 8/17, Train Loss: 7.9062, Val mAP@50: 0.7223, FPS: 58.76, Epoch Time: 21.62 seconds\n",
      "Epoch 9/17, Train Loss: 7.4339, Val mAP@50: 0.7346, FPS: 58.60, Epoch Time: 21.66 seconds\n",
      "Epoch 10/17, Train Loss: 7.1511, Val mAP@50: 0.7021, FPS: 58.57, Epoch Time: 21.63 seconds\n",
      "Epoch 11/17, Train Loss: 7.7726, Val mAP@50: 0.6925, FPS: 58.57, Epoch Time: 21.62 seconds\n",
      "Epoch 12/17, Train Loss: 8.9402, Val mAP@50: 0.6086, FPS: 58.70, Epoch Time: 21.63 seconds\n",
      "Epoch 13/17, Train Loss: 8.8301, Val mAP@50: 0.7160, FPS: 58.77, Epoch Time: 21.62 seconds\n",
      "Epoch 14/17, Train Loss: 8.7695, Val mAP@50: 0.6869, FPS: 58.50, Epoch Time: 21.69 seconds\n",
      "Epoch 15/17, Train Loss: 7.3714, Val mAP@50: 0.7057, FPS: 58.53, Epoch Time: 21.74 seconds\n",
      "Epoch 16/17, Train Loss: 5.6034, Val mAP@50: 0.6936, FPS: 58.43, Epoch Time: 21.74 seconds\n"
     ]
    },
    {
     "name": "stderr",
     "output_type": "stream",
     "text": [
      "[I 2025-01-27 02:53:14,977] Trial 82 finished with value: 0.748963475227356 and parameters: {'batch_size': 8, 'epochs': 17, 'preweight_mode': 'fine_tuning', 'optimizer': 'SGD', 'lr': 0.007394675806962521, 'momentum': 0.9649928615560392, 'weight_decay': 2.7660231332242797e-05, 'scheduler': 'CosineAnnealingLR', 'T_max': 6, 'eta_min': 3.095148607914319e-07}. Best is trial 71 with value: 0.7808420658111572.\n"
     ]
    },
    {
     "name": "stdout",
     "output_type": "stream",
     "text": [
      "Epoch 17/17, Train Loss: 4.1483, Val mAP@50: 0.7018, FPS: 58.70, Epoch Time: 21.66 seconds\n",
      "Best Epoch: 4, Best Val mAP@50: 0.7490, Training Time: 368.23 seconds\n",
      "Model training complete.\n",
      "Checking Model: FasterRCNN\n",
      "Starting Trial #83\n",
      "{'batch_size': 8, 'epochs': 15, 'preweight_mode': 'fine_tuning', 'optimizer': 'SGD', 'lr': 0.017680268482750918, 'momentum': 0.920774406930748, 'weight_decay': 1.3766533789083794e-05, 'scheduler': 'ReduceLROnPlateau', 'factor': 0.4379221113744403, 'patience': 3}\n",
      "Epoch 1/15, Train Loss: nan, Val mAP@50: 0.0000, FPS: 73.43, Epoch Time: 19.97 seconds\n",
      "Epoch 2/15, Train Loss: nan, Val mAP@50: 0.0000, FPS: 73.39, Epoch Time: 18.04 seconds\n",
      "Epoch 3/15, Train Loss: nan, Val mAP@50: 0.0000, FPS: 73.36, Epoch Time: 18.03 seconds\n",
      "Epoch 4/15, Train Loss: nan, Val mAP@50: 0.0000, FPS: 73.38, Epoch Time: 18.04 seconds\n"
     ]
    },
    {
     "name": "stderr",
     "output_type": "stream",
     "text": [
      "[I 2025-01-27 02:54:47,964] Trial 83 pruned. \n"
     ]
    },
    {
     "name": "stdout",
     "output_type": "stream",
     "text": [
      "Trial pruned by Optuna at epoch 4.\n",
      "Checking Model: FasterRCNN\n",
      "Starting Trial #84\n",
      "{'batch_size': 8, 'epochs': 19, 'preweight_mode': 'fine_tuning', 'optimizer': 'SGD', 'lr': 0.006094664623816693, 'momentum': 0.9399822697416765, 'weight_decay': 0.00017372581515603, 'scheduler': 'StepLR', 'step_size': 3, 'gamma': 0.31198633390415953}\n",
      "Epoch 1/19, Train Loss: 28.2793, Val mAP@50: 0.5234, FPS: 58.15, Epoch Time: 21.77 seconds\n",
      "Epoch 2/19, Train Loss: 17.6424, Val mAP@50: 0.6350, FPS: 58.33, Epoch Time: 21.72 seconds\n",
      "Epoch 3/19, Train Loss: 15.0772, Val mAP@50: 0.7290, FPS: 58.60, Epoch Time: 21.67 seconds\n",
      "Epoch 4/19, Train Loss: 11.8878, Val mAP@50: 0.7597, FPS: 58.67, Epoch Time: 21.64 seconds\n",
      "Epoch 5/19, Train Loss: 10.3321, Val mAP@50: 0.7266, FPS: 58.55, Epoch Time: 21.66 seconds\n",
      "Epoch 6/19, Train Loss: 8.8471, Val mAP@50: 0.7559, FPS: 58.74, Epoch Time: 21.59 seconds\n",
      "Epoch 7/19, Train Loss: 7.7719, Val mAP@50: 0.7390, FPS: 58.62, Epoch Time: 21.59 seconds\n",
      "Epoch 8/19, Train Loss: 7.3450, Val mAP@50: 0.7355, FPS: 58.73, Epoch Time: 21.59 seconds\n",
      "Epoch 9/19, Train Loss: 6.9973, Val mAP@50: 0.7141, FPS: 58.71, Epoch Time: 21.60 seconds\n",
      "Epoch 10/19, Train Loss: 6.6339, Val mAP@50: 0.7252, FPS: 58.50, Epoch Time: 21.68 seconds\n",
      "Epoch 11/19, Train Loss: 6.4859, Val mAP@50: 0.7255, FPS: 58.53, Epoch Time: 21.68 seconds\n",
      "Epoch 12/19, Train Loss: 6.3905, Val mAP@50: 0.7187, FPS: 58.53, Epoch Time: 21.69 seconds\n",
      "Epoch 13/19, Train Loss: 6.2977, Val mAP@50: 0.7340, FPS: 58.50, Epoch Time: 21.70 seconds\n",
      "Epoch 14/19, Train Loss: 6.2598, Val mAP@50: 0.7255, FPS: 58.56, Epoch Time: 21.67 seconds\n",
      "Epoch 15/19, Train Loss: 6.2360, Val mAP@50: 0.7244, FPS: 58.60, Epoch Time: 21.67 seconds\n",
      "Epoch 16/19, Train Loss: 6.1942, Val mAP@50: 0.7256, FPS: 58.54, Epoch Time: 21.63 seconds\n",
      "Epoch 17/19, Train Loss: 6.2413, Val mAP@50: 0.7255, FPS: 58.59, Epoch Time: 21.62 seconds\n",
      "Epoch 18/19, Train Loss: 6.2063, Val mAP@50: 0.7258, FPS: 58.68, Epoch Time: 21.65 seconds\n"
     ]
    },
    {
     "name": "stderr",
     "output_type": "stream",
     "text": [
      "[I 2025-01-27 03:01:40,426] Trial 84 finished with value: 0.7597053647041321 and parameters: {'batch_size': 8, 'epochs': 19, 'preweight_mode': 'fine_tuning', 'optimizer': 'SGD', 'lr': 0.006094664623816693, 'momentum': 0.9399822697416765, 'weight_decay': 0.00017372581515603, 'scheduler': 'StepLR', 'step_size': 3, 'gamma': 0.31198633390415953}. Best is trial 71 with value: 0.7808420658111572.\n"
     ]
    },
    {
     "name": "stdout",
     "output_type": "stream",
     "text": [
      "Epoch 19/19, Train Loss: 6.2190, Val mAP@50: 0.7256, FPS: 58.55, Epoch Time: 21.64 seconds\n",
      "Best Epoch: 3, Best Val mAP@50: 0.7597, Training Time: 411.46 seconds\n",
      "Model training complete.\n",
      "Checking Model: FasterRCNN\n",
      "Starting Trial #85\n",
      "{'batch_size': 4, 'epochs': 20, 'preweight_mode': 'fine_tuning', 'optimizer': 'SGD', 'lr': 0.006164314363129574, 'momentum': 0.9539491183899069, 'weight_decay': 3.1144079635226655e-05, 'scheduler': 'StepLR', 'step_size': 3, 'gamma': 0.21539992333260427}\n",
      "Epoch 1/20, Train Loss: 48.4273, Val mAP@50: 0.4706, FPS: 54.13, Epoch Time: 22.35 seconds\n",
      "Epoch 2/20, Train Loss: 37.9970, Val mAP@50: 0.6210, FPS: 54.31, Epoch Time: 22.33 seconds\n",
      "Epoch 3/20, Train Loss: 33.6024, Val mAP@50: 0.6375, FPS: 54.33, Epoch Time: 22.22 seconds\n",
      "Epoch 4/20, Train Loss: 25.3016, Val mAP@50: 0.7294, FPS: 54.49, Epoch Time: 22.25 seconds\n",
      "Epoch 5/20, Train Loss: 21.1693, Val mAP@50: 0.7423, FPS: 54.52, Epoch Time: 22.20 seconds\n",
      "Epoch 6/20, Train Loss: 18.0550, Val mAP@50: 0.7490, FPS: 54.43, Epoch Time: 22.23 seconds\n",
      "Epoch 7/20, Train Loss: 15.3593, Val mAP@50: 0.7380, FPS: 54.56, Epoch Time: 22.16 seconds\n",
      "Epoch 8/20, Train Loss: 14.5607, Val mAP@50: 0.7423, FPS: 54.51, Epoch Time: 22.17 seconds\n",
      "Epoch 9/20, Train Loss: 13.8680, Val mAP@50: 0.7303, FPS: 54.48, Epoch Time: 22.15 seconds\n",
      "Epoch 10/20, Train Loss: 13.2739, Val mAP@50: 0.7316, FPS: 54.47, Epoch Time: 22.13 seconds\n",
      "Epoch 11/20, Train Loss: 13.1259, Val mAP@50: 0.7315, FPS: 54.47, Epoch Time: 22.15 seconds\n",
      "Epoch 12/20, Train Loss: 13.0422, Val mAP@50: 0.7315, FPS: 54.51, Epoch Time: 22.15 seconds\n",
      "Epoch 13/20, Train Loss: 12.9290, Val mAP@50: 0.7321, FPS: 54.48, Epoch Time: 22.14 seconds\n",
      "Epoch 14/20, Train Loss: 12.8930, Val mAP@50: 0.7314, FPS: 54.55, Epoch Time: 22.14 seconds\n",
      "Epoch 15/20, Train Loss: 12.8193, Val mAP@50: 0.7318, FPS: 54.44, Epoch Time: 22.18 seconds\n",
      "Epoch 16/20, Train Loss: 12.8906, Val mAP@50: 0.7319, FPS: 54.54, Epoch Time: 22.15 seconds\n",
      "Epoch 17/20, Train Loss: 12.8716, Val mAP@50: 0.7318, FPS: 54.54, Epoch Time: 22.15 seconds\n",
      "Epoch 18/20, Train Loss: 12.8677, Val mAP@50: 0.7316, FPS: 54.54, Epoch Time: 22.15 seconds\n",
      "Epoch 19/20, Train Loss: 12.8249, Val mAP@50: 0.7316, FPS: 54.65, Epoch Time: 22.11 seconds\n"
     ]
    },
    {
     "name": "stderr",
     "output_type": "stream",
     "text": [
      "[I 2025-01-27 03:09:05,096] Trial 85 finished with value: 0.7490311861038208 and parameters: {'batch_size': 4, 'epochs': 20, 'preweight_mode': 'fine_tuning', 'optimizer': 'SGD', 'lr': 0.006164314363129574, 'momentum': 0.9539491183899069, 'weight_decay': 3.1144079635226655e-05, 'scheduler': 'StepLR', 'step_size': 3, 'gamma': 0.21539992333260427}. Best is trial 71 with value: 0.7808420658111572.\n"
     ]
    },
    {
     "name": "stdout",
     "output_type": "stream",
     "text": [
      "Epoch 20/20, Train Loss: 12.7501, Val mAP@50: 0.7316, FPS: 54.63, Epoch Time: 22.10 seconds\n",
      "Best Epoch: 5, Best Val mAP@50: 0.7490, Training Time: 443.63 seconds\n",
      "Model training complete.\n",
      "Checking Model: FasterRCNN\n",
      "Starting Trial #86\n",
      "{'batch_size': 8, 'epochs': 19, 'preweight_mode': 'fine_tuning', 'optimizer': 'RMSprop', 'lr': 0.0010239943826240456, 'weight_decay': 0.121862451106731, 'momentum': 0.9324454569908056, 'scheduler': 'StepLR', 'step_size': 2, 'gamma': 0.32115181037259577}\n",
      "Epoch 1/19, Train Loss: nan, Val mAP@50: 0.0000, FPS: 73.80, Epoch Time: 18.22 seconds\n",
      "Epoch 2/19, Train Loss: nan, Val mAP@50: 0.0000, FPS: 73.62, Epoch Time: 18.08 seconds\n",
      "Epoch 3/19, Train Loss: nan, Val mAP@50: 0.0000, FPS: 73.64, Epoch Time: 18.09 seconds\n",
      "Epoch 4/19, Train Loss: nan, Val mAP@50: 0.0000, FPS: 73.63, Epoch Time: 18.09 seconds\n"
     ]
    },
    {
     "name": "stderr",
     "output_type": "stream",
     "text": [
      "[I 2025-01-27 03:10:36,470] Trial 86 pruned. \n"
     ]
    },
    {
     "name": "stdout",
     "output_type": "stream",
     "text": [
      "Trial pruned by Optuna at epoch 4.\n",
      "Checking Model: FasterRCNN\n",
      "Starting Trial #87\n",
      "{'batch_size': 8, 'epochs': 20, 'preweight_mode': 'fine_tuning', 'optimizer': 'SGD', 'lr': 0.010810103398242824, 'momentum': 0.9472818319016121, 'weight_decay': 0.0001288108676576504, 'scheduler': 'StepLR', 'step_size': 3, 'gamma': 0.4345012465642726}\n",
      "Epoch 1/20, Train Loss: nan, Val mAP@50: 0.0000, FPS: 73.69, Epoch Time: 20.39 seconds\n",
      "Epoch 2/20, Train Loss: nan, Val mAP@50: 0.0000, FPS: 73.76, Epoch Time: 17.96 seconds\n",
      "Epoch 3/20, Train Loss: nan, Val mAP@50: 0.0000, FPS: 73.69, Epoch Time: 17.96 seconds\n",
      "Epoch 4/20, Train Loss: nan, Val mAP@50: 0.0000, FPS: 73.65, Epoch Time: 17.95 seconds\n"
     ]
    },
    {
     "name": "stderr",
     "output_type": "stream",
     "text": [
      "[I 2025-01-27 03:12:09,480] Trial 87 pruned. \n"
     ]
    },
    {
     "name": "stdout",
     "output_type": "stream",
     "text": [
      "Trial pruned by Optuna at epoch 4.\n",
      "Checking Model: FasterRCNN\n",
      "Starting Trial #88\n",
      "{'batch_size': 5, 'epochs': 18, 'preweight_mode': 'random', 'optimizer': 'AdamW', 'lr': 0.004442434389274302, 'weight_decay': 0.0012589864597411873, 'beta1': 0.849182717745721, 'beta2': 0.9835371751975571, 'scheduler': 'StepLR', 'step_size': 2, 'gamma': 0.3150762031132476}\n",
      "Epoch 1/18, Train Loss: 334759449558223.5000, Val mAP@50: 0.0000, FPS: 67.96, Epoch Time: 19.09 seconds\n",
      "Epoch 2/18, Train Loss: 10294457.3710, Val mAP@50: 0.0000, FPS: 67.89, Epoch Time: 19.05 seconds\n",
      "Epoch 3/18, Train Loss: 163242.1716, Val mAP@50: 0.0000, FPS: 67.99, Epoch Time: 19.05 seconds\n",
      "Epoch 4/18, Train Loss: 47998.5496, Val mAP@50: 0.0000, FPS: 67.83, Epoch Time: 19.11 seconds\n"
     ]
    },
    {
     "name": "stderr",
     "output_type": "stream",
     "text": [
      "[I 2025-01-27 03:13:45,652] Trial 88 pruned. \n"
     ]
    },
    {
     "name": "stdout",
     "output_type": "stream",
     "text": [
      "Trial pruned by Optuna at epoch 4.\n",
      "Checking Model: FasterRCNN\n",
      "Starting Trial #89\n",
      "{'batch_size': 4, 'epochs': 19, 'preweight_mode': 'fine_tuning', 'optimizer': 'SGD', 'lr': 0.013170544550615917, 'momentum': 0.9288754124401654, 'weight_decay': 5.1924401686419715e-05, 'scheduler': 'OneCycleLR', 'max_lr': 0.00292101337865915}\n",
      "Epoch 1/19, Train Loss: 59.2532, Val mAP@50: 0.0000, FPS: 54.45, Epoch Time: 22.16 seconds\n",
      "Epoch 2/19, Train Loss: 48.6866, Val mAP@50: 0.2867, FPS: 54.50, Epoch Time: 22.23 seconds\n",
      "Epoch 3/19, Train Loss: 43.4480, Val mAP@50: 0.4897, FPS: 54.50, Epoch Time: 22.23 seconds\n",
      "Epoch 4/19, Train Loss: 38.7520, Val mAP@50: 0.5628, FPS: 54.47, Epoch Time: 22.25 seconds\n",
      "Epoch 5/19, Train Loss: 34.7744, Val mAP@50: 0.5883, FPS: 54.39, Epoch Time: 22.21 seconds\n"
     ]
    },
    {
     "name": "stderr",
     "output_type": "stream",
     "text": [
      "[I 2025-01-27 03:15:59,684] Trial 89 pruned. \n"
     ]
    },
    {
     "name": "stdout",
     "output_type": "stream",
     "text": [
      "Trial pruned by Optuna at epoch 5.\n",
      "Checking Model: FasterRCNN\n",
      "Starting Trial #90\n",
      "{'batch_size': 6, 'epochs': 19, 'preweight_mode': 'fine_tuning', 'optimizer': 'AdamW', 'lr': 0.0030631708733917435, 'weight_decay': 0.0011930403551757437, 'beta1': 0.881158352717781, 'beta2': 0.9948075476663061, 'scheduler': 'StepLR', 'step_size': 3, 'gamma': 0.12406391950000795}\n",
      "Epoch 1/19, Train Loss: 104220403944.4840, Val mAP@50: 0.0000, FPS: 62.79, Epoch Time: 19.90 seconds\n",
      "Epoch 2/19, Train Loss: 920.9963, Val mAP@50: 0.0000, FPS: 59.88, Epoch Time: 21.57 seconds\n",
      "Epoch 3/19, Train Loss: 368.6993, Val mAP@50: 0.0000, FPS: 58.58, Epoch Time: 22.02 seconds\n",
      "Epoch 4/19, Train Loss: 199.4029, Val mAP@50: 0.0000, FPS: 58.76, Epoch Time: 22.19 seconds\n",
      "Epoch 5/19, Train Loss: 157.5368, Val mAP@50: 0.0002, FPS: 58.26, Epoch Time: 22.35 seconds\n"
     ]
    },
    {
     "name": "stderr",
     "output_type": "stream",
     "text": [
      "[I 2025-01-27 03:18:10,922] Trial 90 pruned. \n"
     ]
    },
    {
     "name": "stdout",
     "output_type": "stream",
     "text": [
      "Trial pruned by Optuna at epoch 5.\n",
      "Checking Model: FasterRCNN\n",
      "Starting Trial #91\n",
      "{'batch_size': 8, 'epochs': 20, 'preweight_mode': 'fine_tuning', 'optimizer': 'SGD', 'lr': 0.006443947904793142, 'momentum': 0.9404822049271342, 'weight_decay': 0.0008751543894816887, 'scheduler': 'CosineAnnealingLR', 'T_max': 10, 'eta_min': 1.2432265314015707e-07}\n",
      "Epoch 1/20, Train Loss: 30.0641, Val mAP@50: 0.4819, FPS: 58.84, Epoch Time: 21.73 seconds\n",
      "Epoch 2/20, Train Loss: 18.6571, Val mAP@50: 0.6639, FPS: 58.80, Epoch Time: 21.68 seconds\n",
      "Epoch 3/20, Train Loss: 15.0108, Val mAP@50: 0.7343, FPS: 58.41, Epoch Time: 21.67 seconds\n",
      "Epoch 4/20, Train Loss: 12.9973, Val mAP@50: 0.7109, FPS: 58.58, Epoch Time: 21.70 seconds\n",
      "Epoch 5/20, Train Loss: 10.6293, Val mAP@50: 0.7420, FPS: 59.11, Epoch Time: 21.53 seconds\n",
      "Epoch 6/20, Train Loss: 8.3286, Val mAP@50: 0.7568, FPS: 58.97, Epoch Time: 21.48 seconds\n",
      "Epoch 7/20, Train Loss: 6.9879, Val mAP@50: 0.7591, FPS: 59.07, Epoch Time: 21.47 seconds\n",
      "Epoch 8/20, Train Loss: 5.9124, Val mAP@50: 0.7603, FPS: 58.99, Epoch Time: 21.51 seconds\n",
      "Epoch 9/20, Train Loss: 5.3136, Val mAP@50: 0.7710, FPS: 59.09, Epoch Time: 21.46 seconds\n",
      "Epoch 10/20, Train Loss: 5.0855, Val mAP@50: 0.7478, FPS: 59.07, Epoch Time: 21.48 seconds\n",
      "Epoch 11/20, Train Loss: 5.0181, Val mAP@50: 0.7477, FPS: 59.07, Epoch Time: 21.45 seconds\n",
      "Epoch 12/20, Train Loss: 5.0122, Val mAP@50: 0.7543, FPS: 59.06, Epoch Time: 21.48 seconds\n",
      "Epoch 13/20, Train Loss: 4.9783, Val mAP@50: 0.7479, FPS: 59.02, Epoch Time: 21.49 seconds\n",
      "Epoch 14/20, Train Loss: 4.8538, Val mAP@50: 0.7476, FPS: 59.11, Epoch Time: 21.47 seconds\n",
      "Epoch 15/20, Train Loss: 4.6747, Val mAP@50: 0.7418, FPS: 59.11, Epoch Time: 21.47 seconds\n",
      "Epoch 16/20, Train Loss: 4.6971, Val mAP@50: 0.7467, FPS: 59.10, Epoch Time: 21.46 seconds\n",
      "Epoch 17/20, Train Loss: 5.1857, Val mAP@50: 0.7422, FPS: 59.12, Epoch Time: 21.46 seconds\n",
      "Epoch 18/20, Train Loss: 5.6234, Val mAP@50: 0.7125, FPS: 58.97, Epoch Time: 21.52 seconds\n",
      "Epoch 19/20, Train Loss: 6.3182, Val mAP@50: 0.6681, FPS: 59.00, Epoch Time: 21.53 seconds\n"
     ]
    },
    {
     "name": "stderr",
     "output_type": "stream",
     "text": [
      "[I 2025-01-27 03:25:22,418] Trial 91 finished with value: 0.7710119485855103 and parameters: {'batch_size': 8, 'epochs': 20, 'preweight_mode': 'fine_tuning', 'optimizer': 'SGD', 'lr': 0.006443947904793142, 'momentum': 0.9404822049271342, 'weight_decay': 0.0008751543894816887, 'scheduler': 'CosineAnnealingLR', 'T_max': 10, 'eta_min': 1.2432265314015707e-07}. Best is trial 71 with value: 0.7808420658111572.\n"
     ]
    },
    {
     "name": "stdout",
     "output_type": "stream",
     "text": [
      "Epoch 20/20, Train Loss: 6.6428, Val mAP@50: 0.7094, FPS: 59.10, Epoch Time: 21.49 seconds\n",
      "Best Epoch: 8, Best Val mAP@50: 0.7710, Training Time: 430.53 seconds\n",
      "Model training complete.\n",
      "Checking Model: FasterRCNN\n",
      "Starting Trial #92\n",
      "{'batch_size': 8, 'epochs': 20, 'preweight_mode': 'fine_tuning', 'optimizer': 'SGD', 'lr': 0.006509170726966691, 'momentum': 0.9381554088408464, 'weight_decay': 0.0008597505870467249, 'scheduler': 'CosineAnnealingLR', 'T_max': 10, 'eta_min': 1.1909398806406852e-07}\n",
      "Epoch 1/20, Train Loss: 25.4965, Val mAP@50: 0.5891, FPS: 59.10, Epoch Time: 21.59 seconds\n",
      "Epoch 2/20, Train Loss: 16.6042, Val mAP@50: 0.6911, FPS: 59.09, Epoch Time: 21.56 seconds\n",
      "Epoch 3/20, Train Loss: 13.4168, Val mAP@50: 0.7031, FPS: 58.77, Epoch Time: 21.63 seconds\n",
      "Epoch 4/20, Train Loss: 11.6175, Val mAP@50: 0.7262, FPS: 58.93, Epoch Time: 21.62 seconds\n",
      "Epoch 5/20, Train Loss: 9.0264, Val mAP@50: 0.7309, FPS: 58.84, Epoch Time: 21.60 seconds\n"
     ]
    },
    {
     "name": "stderr",
     "output_type": "stream",
     "text": [
      "[I 2025-01-27 03:27:32,760] Trial 92 pruned. \n"
     ]
    },
    {
     "name": "stdout",
     "output_type": "stream",
     "text": [
      "Trial pruned by Optuna at epoch 5.\n",
      "Checking Model: FasterRCNN\n",
      "Starting Trial #93\n",
      "{'batch_size': 8, 'epochs': 20, 'preweight_mode': 'fine_tuning', 'optimizer': 'SGD', 'lr': 0.00770338196183243, 'momentum': 0.9356395318792925, 'weight_decay': 0.000884287709371646, 'scheduler': 'CosineAnnealingLR', 'T_max': 11, 'eta_min': 1.4709381117549062e-07}\n",
      "Epoch 1/20, Train Loss: 29.6315, Val mAP@50: 0.3252, FPS: 58.31, Epoch Time: 21.80 seconds\n",
      "Epoch 2/20, Train Loss: 19.5125, Val mAP@50: 0.6142, FPS: 58.69, Epoch Time: 21.67 seconds\n",
      "Epoch 3/20, Train Loss: 15.2817, Val mAP@50: 0.7252, FPS: 58.65, Epoch Time: 21.57 seconds\n",
      "Epoch 4/20, Train Loss: 13.4388, Val mAP@50: 0.7130, FPS: 58.71, Epoch Time: 21.63 seconds\n",
      "Epoch 5/20, Train Loss: 11.4448, Val mAP@50: 0.7425, FPS: 58.81, Epoch Time: 21.54 seconds\n",
      "Epoch 6/20, Train Loss: 9.2226, Val mAP@50: 0.7556, FPS: 58.90, Epoch Time: 21.51 seconds\n",
      "Epoch 7/20, Train Loss: 7.5826, Val mAP@50: 0.7448, FPS: 58.93, Epoch Time: 21.50 seconds\n",
      "Epoch 8/20, Train Loss: 6.3936, Val mAP@50: 0.7171, FPS: 59.03, Epoch Time: 21.45 seconds\n",
      "Epoch 9/20, Train Loss: 5.5933, Val mAP@50: 0.7198, FPS: 59.05, Epoch Time: 21.47 seconds\n",
      "Epoch 10/20, Train Loss: 5.0527, Val mAP@50: 0.7023, FPS: 59.05, Epoch Time: 21.45 seconds\n",
      "Epoch 11/20, Train Loss: 4.8660, Val mAP@50: 0.7170, FPS: 59.03, Epoch Time: 21.45 seconds\n",
      "Epoch 12/20, Train Loss: 4.7881, Val mAP@50: 0.7170, FPS: 58.83, Epoch Time: 21.50 seconds\n",
      "Epoch 13/20, Train Loss: 4.7824, Val mAP@50: 0.7166, FPS: 58.81, Epoch Time: 21.52 seconds\n",
      "Epoch 14/20, Train Loss: 4.7889, Val mAP@50: 0.7092, FPS: 58.81, Epoch Time: 21.53 seconds\n",
      "Epoch 15/20, Train Loss: 4.6360, Val mAP@50: 0.7201, FPS: 58.78, Epoch Time: 21.52 seconds\n",
      "Epoch 16/20, Train Loss: 4.4779, Val mAP@50: 0.7190, FPS: 58.89, Epoch Time: 21.49 seconds\n",
      "Epoch 17/20, Train Loss: 4.4895, Val mAP@50: 0.7277, FPS: 58.78, Epoch Time: 21.52 seconds\n",
      "Epoch 18/20, Train Loss: 4.9909, Val mAP@50: 0.7088, FPS: 58.66, Epoch Time: 21.58 seconds\n",
      "Epoch 19/20, Train Loss: 5.2962, Val mAP@50: 0.7285, FPS: 58.72, Epoch Time: 21.57 seconds\n"
     ]
    },
    {
     "name": "stderr",
     "output_type": "stream",
     "text": [
      "[I 2025-01-27 03:34:44,587] Trial 93 finished with value: 0.7555853128433228 and parameters: {'batch_size': 8, 'epochs': 20, 'preweight_mode': 'fine_tuning', 'optimizer': 'SGD', 'lr': 0.00770338196183243, 'momentum': 0.9356395318792925, 'weight_decay': 0.000884287709371646, 'scheduler': 'CosineAnnealingLR', 'T_max': 11, 'eta_min': 1.4709381117549062e-07}. Best is trial 71 with value: 0.7808420658111572.\n"
     ]
    },
    {
     "name": "stdout",
     "output_type": "stream",
     "text": [
      "Epoch 20/20, Train Loss: 5.5536, Val mAP@50: 0.6792, FPS: 58.80, Epoch Time: 21.55 seconds\n",
      "Best Epoch: 5, Best Val mAP@50: 0.7556, Training Time: 430.83 seconds\n",
      "Model training complete.\n",
      "Checking Model: FasterRCNN\n",
      "Starting Trial #94\n",
      "{'batch_size': 8, 'epochs': 20, 'preweight_mode': 'fine_tuning', 'optimizer': 'SGD', 'lr': 0.006323695867517265, 'momentum': 0.9418145039103158, 'weight_decay': 0.0007285901575473036, 'scheduler': 'CosineAnnealingLR', 'T_max': 11, 'eta_min': 2.2855533115726147e-07}\n",
      "Epoch 1/20, Train Loss: 25.0397, Val mAP@50: 0.5346, FPS: 58.66, Epoch Time: 21.70 seconds\n",
      "Epoch 2/20, Train Loss: 17.1672, Val mAP@50: 0.6347, FPS: 58.74, Epoch Time: 21.68 seconds\n",
      "Epoch 3/20, Train Loss: 14.8421, Val mAP@50: 0.6835, FPS: 58.91, Epoch Time: 21.63 seconds\n",
      "Epoch 4/20, Train Loss: 12.1597, Val mAP@50: 0.7032, FPS: 58.77, Epoch Time: 21.54 seconds\n",
      "Epoch 5/20, Train Loss: 10.2815, Val mAP@50: 0.7511, FPS: 58.88, Epoch Time: 21.55 seconds\n",
      "Epoch 6/20, Train Loss: 8.3184, Val mAP@50: 0.7675, FPS: 58.88, Epoch Time: 21.53 seconds\n",
      "Epoch 7/20, Train Loss: 6.9228, Val mAP@50: 0.7093, FPS: 58.97, Epoch Time: 21.52 seconds\n",
      "Epoch 8/20, Train Loss: 5.9104, Val mAP@50: 0.7601, FPS: 58.84, Epoch Time: 21.47 seconds\n",
      "Epoch 9/20, Train Loss: 5.0889, Val mAP@50: 0.7511, FPS: 58.95, Epoch Time: 21.48 seconds\n",
      "Epoch 10/20, Train Loss: 4.6730, Val mAP@50: 0.7299, FPS: 59.07, Epoch Time: 21.47 seconds\n",
      "Epoch 11/20, Train Loss: 4.4692, Val mAP@50: 0.7305, FPS: 58.92, Epoch Time: 21.48 seconds\n",
      "Epoch 12/20, Train Loss: 4.4179, Val mAP@50: 0.7304, FPS: 59.01, Epoch Time: 21.49 seconds\n",
      "Epoch 13/20, Train Loss: 4.4124, Val mAP@50: 0.7303, FPS: 59.00, Epoch Time: 21.47 seconds\n",
      "Epoch 14/20, Train Loss: 4.3912, Val mAP@50: 0.7296, FPS: 58.93, Epoch Time: 21.48 seconds\n",
      "Epoch 15/20, Train Loss: 4.3087, Val mAP@50: 0.7356, FPS: 59.09, Epoch Time: 21.47 seconds\n",
      "Epoch 16/20, Train Loss: 4.1782, Val mAP@50: 0.7412, FPS: 59.06, Epoch Time: 21.46 seconds\n",
      "Epoch 17/20, Train Loss: 4.0591, Val mAP@50: 0.7360, FPS: 58.95, Epoch Time: 21.47 seconds\n",
      "Epoch 18/20, Train Loss: 4.2572, Val mAP@50: 0.7296, FPS: 59.00, Epoch Time: 21.48 seconds\n",
      "Epoch 19/20, Train Loss: 4.6574, Val mAP@50: 0.7342, FPS: 58.84, Epoch Time: 21.47 seconds\n"
     ]
    },
    {
     "name": "stderr",
     "output_type": "stream",
     "text": [
      "[I 2025-01-27 03:41:55,934] Trial 94 finished with value: 0.7675122022628784 and parameters: {'batch_size': 8, 'epochs': 20, 'preweight_mode': 'fine_tuning', 'optimizer': 'SGD', 'lr': 0.006323695867517265, 'momentum': 0.9418145039103158, 'weight_decay': 0.0007285901575473036, 'scheduler': 'CosineAnnealingLR', 'T_max': 11, 'eta_min': 2.2855533115726147e-07}. Best is trial 71 with value: 0.7808420658111572.\n"
     ]
    },
    {
     "name": "stdout",
     "output_type": "stream",
     "text": [
      "Epoch 20/20, Train Loss: 4.8084, Val mAP@50: 0.7310, FPS: 58.93, Epoch Time: 21.49 seconds\n",
      "Best Epoch: 5, Best Val mAP@50: 0.7675, Training Time: 430.33 seconds\n",
      "Model training complete.\n",
      "Checking Model: FasterRCNN\n",
      "Starting Trial #95\n",
      "{'batch_size': 8, 'epochs': 20, 'preweight_mode': 'fine_tuning', 'optimizer': 'SGD', 'lr': 0.006768671850928437, 'momentum': 0.9412676388351461, 'weight_decay': 0.0007020377520384015, 'scheduler': 'StepLR', 'step_size': 4, 'gamma': 0.31249953256465535}\n",
      "Epoch 1/20, Train Loss: 26.1412, Val mAP@50: 0.4955, FPS: 58.73, Epoch Time: 21.68 seconds\n",
      "Epoch 2/20, Train Loss: 17.8806, Val mAP@50: 0.6775, FPS: 58.79, Epoch Time: 21.63 seconds\n",
      "Epoch 3/20, Train Loss: 14.4451, Val mAP@50: 0.7203, FPS: 58.85, Epoch Time: 21.62 seconds\n",
      "Epoch 4/20, Train Loss: 12.0942, Val mAP@50: 0.6650, FPS: 58.95, Epoch Time: 21.56 seconds\n",
      "Epoch 5/20, Train Loss: 9.1365, Val mAP@50: 0.7674, FPS: 58.92, Epoch Time: 21.52 seconds\n",
      "Epoch 6/20, Train Loss: 7.7265, Val mAP@50: 0.7496, FPS: 58.77, Epoch Time: 21.56 seconds\n",
      "Epoch 7/20, Train Loss: 6.8237, Val mAP@50: 0.7292, FPS: 58.89, Epoch Time: 21.54 seconds\n",
      "Epoch 8/20, Train Loss: 6.0746, Val mAP@50: 0.7362, FPS: 58.81, Epoch Time: 21.54 seconds\n",
      "Epoch 9/20, Train Loss: 5.2089, Val mAP@50: 0.7346, FPS: 58.84, Epoch Time: 21.53 seconds\n",
      "Epoch 10/20, Train Loss: 4.8517, Val mAP@50: 0.7288, FPS: 58.73, Epoch Time: 21.57 seconds\n",
      "Epoch 11/20, Train Loss: 4.6125, Val mAP@50: 0.7275, FPS: 58.78, Epoch Time: 21.56 seconds\n",
      "Epoch 12/20, Train Loss: 4.4185, Val mAP@50: 0.7370, FPS: 58.83, Epoch Time: 21.55 seconds\n",
      "Epoch 13/20, Train Loss: 4.2156, Val mAP@50: 0.7357, FPS: 58.81, Epoch Time: 21.53 seconds\n",
      "Epoch 14/20, Train Loss: 4.1245, Val mAP@50: 0.7284, FPS: 58.79, Epoch Time: 21.53 seconds\n",
      "Epoch 15/20, Train Loss: 4.1074, Val mAP@50: 0.7363, FPS: 58.84, Epoch Time: 21.51 seconds\n",
      "Epoch 16/20, Train Loss: 4.0113, Val mAP@50: 0.7364, FPS: 58.88, Epoch Time: 21.54 seconds\n",
      "Epoch 17/20, Train Loss: 3.9977, Val mAP@50: 0.7289, FPS: 58.79, Epoch Time: 21.53 seconds\n",
      "Epoch 18/20, Train Loss: 3.9688, Val mAP@50: 0.7294, FPS: 59.02, Epoch Time: 21.47 seconds\n",
      "Epoch 19/20, Train Loss: 3.9445, Val mAP@50: 0.7295, FPS: 58.94, Epoch Time: 21.47 seconds\n"
     ]
    },
    {
     "name": "stderr",
     "output_type": "stream",
     "text": [
      "[I 2025-01-27 03:49:07,891] Trial 95 finished with value: 0.7674219012260437 and parameters: {'batch_size': 8, 'epochs': 20, 'preweight_mode': 'fine_tuning', 'optimizer': 'SGD', 'lr': 0.006768671850928437, 'momentum': 0.9412676388351461, 'weight_decay': 0.0007020377520384015, 'scheduler': 'StepLR', 'step_size': 4, 'gamma': 0.31249953256465535}. Best is trial 71 with value: 0.7808420658111572.\n"
     ]
    },
    {
     "name": "stdout",
     "output_type": "stream",
     "text": [
      "Epoch 20/20, Train Loss: 3.9218, Val mAP@50: 0.7293, FPS: 58.96, Epoch Time: 21.47 seconds\n",
      "Best Epoch: 4, Best Val mAP@50: 0.7674, Training Time: 430.94 seconds\n",
      "Model training complete.\n",
      "Checking Model: FasterRCNN\n",
      "Starting Trial #96\n",
      "{'batch_size': 8, 'epochs': 20, 'preweight_mode': 'fine_tuning', 'optimizer': 'SGD', 'lr': 0.006723232974431546, 'momentum': 0.9406343473175106, 'weight_decay': 0.0006999511253460367, 'scheduler': 'StepLR', 'step_size': 4, 'gamma': 0.29942376994205294}\n",
      "Epoch 1/20, Train Loss: 26.2668, Val mAP@50: 0.5867, FPS: 58.71, Epoch Time: 21.62 seconds\n",
      "Epoch 2/20, Train Loss: 18.3542, Val mAP@50: 0.7116, FPS: 58.59, Epoch Time: 21.65 seconds\n",
      "Epoch 3/20, Train Loss: 14.2003, Val mAP@50: 0.7068, FPS: 58.85, Epoch Time: 21.55 seconds\n",
      "Epoch 4/20, Train Loss: 12.5100, Val mAP@50: 0.6227, FPS: 59.07, Epoch Time: 21.55 seconds\n",
      "Epoch 5/20, Train Loss: 9.7189, Val mAP@50: 0.7478, FPS: 59.07, Epoch Time: 21.53 seconds\n",
      "Epoch 6/20, Train Loss: 7.8971, Val mAP@50: 0.7445, FPS: 59.04, Epoch Time: 21.49 seconds\n",
      "Epoch 7/20, Train Loss: 6.8991, Val mAP@50: 0.7373, FPS: 59.02, Epoch Time: 21.45 seconds\n",
      "Epoch 8/20, Train Loss: 6.2231, Val mAP@50: 0.7593, FPS: 59.10, Epoch Time: 21.49 seconds\n",
      "Epoch 9/20, Train Loss: 5.4854, Val mAP@50: 0.7556, FPS: 59.01, Epoch Time: 21.44 seconds\n",
      "Epoch 10/20, Train Loss: 5.1288, Val mAP@50: 0.7556, FPS: 59.07, Epoch Time: 21.45 seconds\n",
      "Epoch 11/20, Train Loss: 4.8947, Val mAP@50: 0.7454, FPS: 59.08, Epoch Time: 21.45 seconds\n",
      "Epoch 12/20, Train Loss: 4.8094, Val mAP@50: 0.7547, FPS: 59.06, Epoch Time: 21.46 seconds\n",
      "Epoch 13/20, Train Loss: 4.5412, Val mAP@50: 0.7444, FPS: 59.03, Epoch Time: 21.45 seconds\n",
      "Epoch 14/20, Train Loss: 4.5051, Val mAP@50: 0.7523, FPS: 58.99, Epoch Time: 21.46 seconds\n",
      "Epoch 15/20, Train Loss: 4.4414, Val mAP@50: 0.7535, FPS: 59.00, Epoch Time: 21.47 seconds\n",
      "Epoch 16/20, Train Loss: 4.4322, Val mAP@50: 0.7454, FPS: 59.02, Epoch Time: 21.45 seconds\n",
      "Epoch 17/20, Train Loss: 4.3602, Val mAP@50: 0.7526, FPS: 59.02, Epoch Time: 21.47 seconds\n",
      "Epoch 18/20, Train Loss: 4.3232, Val mAP@50: 0.7441, FPS: 59.07, Epoch Time: 21.47 seconds\n",
      "Epoch 19/20, Train Loss: 4.3109, Val mAP@50: 0.7521, FPS: 58.98, Epoch Time: 21.46 seconds\n"
     ]
    },
    {
     "name": "stderr",
     "output_type": "stream",
     "text": [
      "[I 2025-01-27 03:56:18,707] Trial 96 finished with value: 0.7593243718147278 and parameters: {'batch_size': 8, 'epochs': 20, 'preweight_mode': 'fine_tuning', 'optimizer': 'SGD', 'lr': 0.006723232974431546, 'momentum': 0.9406343473175106, 'weight_decay': 0.0006999511253460367, 'scheduler': 'StepLR', 'step_size': 4, 'gamma': 0.29942376994205294}. Best is trial 71 with value: 0.7808420658111572.\n"
     ]
    },
    {
     "name": "stdout",
     "output_type": "stream",
     "text": [
      "Epoch 20/20, Train Loss: 4.3193, Val mAP@50: 0.7522, FPS: 59.01, Epoch Time: 21.45 seconds\n",
      "Best Epoch: 7, Best Val mAP@50: 0.7593, Training Time: 429.82 seconds\n",
      "Model training complete.\n",
      "Checking Model: FasterRCNN\n",
      "Starting Trial #97\n",
      "{'batch_size': 8, 'epochs': 20, 'preweight_mode': 'fine_tuning', 'optimizer': 'SGD', 'lr': 0.0060248693168161805, 'momentum': 0.9477083855014647, 'weight_decay': 0.0005317608819018756, 'scheduler': 'StepLR', 'step_size': 4, 'gamma': 0.2319931451610439}\n",
      "Epoch 1/20, Train Loss: 26.6799, Val mAP@50: 0.4231, FPS: 58.92, Epoch Time: 21.66 seconds\n",
      "Epoch 2/20, Train Loss: 18.7706, Val mAP@50: 0.6386, FPS: 58.91, Epoch Time: 21.58 seconds\n",
      "Epoch 3/20, Train Loss: 15.3992, Val mAP@50: 0.6594, FPS: 58.71, Epoch Time: 21.55 seconds\n",
      "Epoch 4/20, Train Loss: 13.1733, Val mAP@50: 0.7304, FPS: 59.04, Epoch Time: 21.56 seconds\n",
      "Epoch 5/20, Train Loss: 10.1165, Val mAP@50: 0.7398, FPS: 59.12, Epoch Time: 21.48 seconds\n",
      "Epoch 6/20, Train Loss: 8.8254, Val mAP@50: 0.7481, FPS: 58.95, Epoch Time: 21.50 seconds\n",
      "Epoch 7/20, Train Loss: 7.7980, Val mAP@50: 0.7500, FPS: 58.96, Epoch Time: 21.50 seconds\n",
      "Epoch 8/20, Train Loss: 7.0138, Val mAP@50: 0.7326, FPS: 58.91, Epoch Time: 21.48 seconds\n",
      "Epoch 9/20, Train Loss: 6.3379, Val mAP@50: 0.7435, FPS: 58.97, Epoch Time: 21.51 seconds\n",
      "Epoch 10/20, Train Loss: 6.1154, Val mAP@50: 0.7473, FPS: 58.87, Epoch Time: 21.56 seconds\n",
      "Epoch 11/20, Train Loss: 5.9415, Val mAP@50: 0.7504, FPS: 58.89, Epoch Time: 21.56 seconds\n",
      "Epoch 12/20, Train Loss: 5.7938, Val mAP@50: 0.7502, FPS: 58.97, Epoch Time: 21.54 seconds\n",
      "Epoch 13/20, Train Loss: 5.5994, Val mAP@50: 0.7416, FPS: 58.94, Epoch Time: 21.53 seconds\n",
      "Epoch 14/20, Train Loss: 5.5839, Val mAP@50: 0.7404, FPS: 58.95, Epoch Time: 21.48 seconds\n",
      "Epoch 15/20, Train Loss: 5.5543, Val mAP@50: 0.7412, FPS: 58.86, Epoch Time: 21.55 seconds\n",
      "Epoch 16/20, Train Loss: 5.5160, Val mAP@50: 0.7434, FPS: 58.81, Epoch Time: 21.58 seconds\n",
      "Epoch 17/20, Train Loss: 5.4712, Val mAP@50: 0.7419, FPS: 58.87, Epoch Time: 21.56 seconds\n",
      "Epoch 18/20, Train Loss: 5.4576, Val mAP@50: 0.7417, FPS: 58.84, Epoch Time: 21.56 seconds\n",
      "Epoch 19/20, Train Loss: 5.4622, Val mAP@50: 0.7414, FPS: 58.81, Epoch Time: 21.54 seconds\n"
     ]
    },
    {
     "name": "stderr",
     "output_type": "stream",
     "text": [
      "[I 2025-01-27 04:03:30,547] Trial 97 finished with value: 0.7503953576087952 and parameters: {'batch_size': 8, 'epochs': 20, 'preweight_mode': 'fine_tuning', 'optimizer': 'SGD', 'lr': 0.0060248693168161805, 'momentum': 0.9477083855014647, 'weight_decay': 0.0005317608819018756, 'scheduler': 'StepLR', 'step_size': 4, 'gamma': 0.2319931451610439}. Best is trial 71 with value: 0.7808420658111572.\n"
     ]
    },
    {
     "name": "stdout",
     "output_type": "stream",
     "text": [
      "Epoch 20/20, Train Loss: 5.4565, Val mAP@50: 0.7418, FPS: 58.85, Epoch Time: 21.54 seconds\n",
      "Best Epoch: 10, Best Val mAP@50: 0.7504, Training Time: 430.82 seconds\n",
      "Model training complete.\n",
      "Checking Model: FasterRCNN\n",
      "Starting Trial #98\n",
      "{'batch_size': 8, 'epochs': 20, 'preweight_mode': 'freezing', 'optimizer': 'SGD', 'lr': 0.007021271865423039, 'momentum': 0.9515534121645597, 'weight_decay': 0.0009105588440565274, 'scheduler': 'StepLR', 'step_size': 4, 'gamma': 0.3709773820399638}\n",
      "Epoch 1/20, Train Loss: 62.0168, Val mAP@50: 0.0276, FPS: 59.40, Epoch Time: 13.48 seconds\n",
      "Epoch 2/20, Train Loss: 40.5196, Val mAP@50: 0.0420, FPS: 59.45, Epoch Time: 13.39 seconds\n",
      "Epoch 3/20, Train Loss: 34.2526, Val mAP@50: 0.0593, FPS: 59.34, Epoch Time: 13.43 seconds\n",
      "Epoch 4/20, Train Loss: 33.1014, Val mAP@50: 0.0434, FPS: 59.39, Epoch Time: 13.41 seconds\n",
      "Epoch 5/20, Train Loss: 32.5343, Val mAP@50: 0.0552, FPS: 59.38, Epoch Time: 13.39 seconds\n"
     ]
    },
    {
     "name": "stderr",
     "output_type": "stream",
     "text": [
      "[I 2025-01-27 04:04:51,885] Trial 98 pruned. \n"
     ]
    },
    {
     "name": "stdout",
     "output_type": "stream",
     "text": [
      "Trial pruned by Optuna at epoch 5.\n",
      "Checking Model: FasterRCNN\n",
      "Starting Trial #99\n",
      "{'batch_size': 8, 'epochs': 19, 'preweight_mode': 'fine_tuning', 'optimizer': 'SGD', 'lr': 0.008134233294081437, 'momentum': 0.935724072943393, 'weight_decay': 0.0007172613988531666, 'scheduler': 'StepLR', 'step_size': 3, 'gamma': 0.45834591442708134}\n",
      "Epoch 1/19, Train Loss: 28.5582, Val mAP@50: 0.3443, FPS: 58.22, Epoch Time: 21.70 seconds\n",
      "Epoch 2/19, Train Loss: 18.6115, Val mAP@50: 0.6230, FPS: 58.71, Epoch Time: 21.65 seconds\n",
      "Epoch 3/19, Train Loss: 14.9486, Val mAP@50: 0.6651, FPS: 58.74, Epoch Time: 21.61 seconds\n",
      "Epoch 4/19, Train Loss: 12.0734, Val mAP@50: 0.7604, FPS: 58.82, Epoch Time: 21.65 seconds\n",
      "Epoch 5/19, Train Loss: 9.8603, Val mAP@50: 0.7603, FPS: 58.65, Epoch Time: 21.66 seconds\n",
      "Epoch 6/19, Train Loss: 8.8332, Val mAP@50: 0.7004, FPS: 58.70, Epoch Time: 21.62 seconds\n",
      "Epoch 7/19, Train Loss: 7.1921, Val mAP@50: 0.7587, FPS: 58.81, Epoch Time: 21.62 seconds\n",
      "Epoch 8/19, Train Loss: 6.2726, Val mAP@50: 0.7324, FPS: 58.82, Epoch Time: 21.63 seconds\n",
      "Epoch 9/19, Train Loss: 5.7245, Val mAP@50: 0.7476, FPS: 58.80, Epoch Time: 21.63 seconds\n",
      "Epoch 10/19, Train Loss: 5.1218, Val mAP@50: 0.7307, FPS: 58.99, Epoch Time: 21.58 seconds\n",
      "Epoch 11/19, Train Loss: 4.9115, Val mAP@50: 0.7302, FPS: 58.96, Epoch Time: 21.59 seconds\n",
      "Epoch 12/19, Train Loss: 4.6596, Val mAP@50: 0.7221, FPS: 58.85, Epoch Time: 21.58 seconds\n",
      "Epoch 13/19, Train Loss: 4.4056, Val mAP@50: 0.7236, FPS: 58.85, Epoch Time: 21.59 seconds\n",
      "Epoch 14/19, Train Loss: 4.2868, Val mAP@50: 0.7301, FPS: 58.85, Epoch Time: 21.61 seconds\n",
      "Epoch 15/19, Train Loss: 4.1727, Val mAP@50: 0.7237, FPS: 58.97, Epoch Time: 21.59 seconds\n",
      "Epoch 16/19, Train Loss: 4.0972, Val mAP@50: 0.7232, FPS: 58.90, Epoch Time: 21.56 seconds\n",
      "Epoch 17/19, Train Loss: 4.1005, Val mAP@50: 0.7211, FPS: 58.91, Epoch Time: 21.58 seconds\n",
      "Epoch 18/19, Train Loss: 4.0074, Val mAP@50: 0.7294, FPS: 58.89, Epoch Time: 21.61 seconds\n"
     ]
    },
    {
     "name": "stderr",
     "output_type": "stream",
     "text": [
      "[I 2025-01-27 04:11:43,481] Trial 99 finished with value: 0.7604290246963501 and parameters: {'batch_size': 8, 'epochs': 19, 'preweight_mode': 'fine_tuning', 'optimizer': 'SGD', 'lr': 0.008134233294081437, 'momentum': 0.935724072943393, 'weight_decay': 0.0007172613988531666, 'scheduler': 'StepLR', 'step_size': 3, 'gamma': 0.45834591442708134}. Best is trial 71 with value: 0.7808420658111572.\n"
     ]
    },
    {
     "name": "stdout",
     "output_type": "stream",
     "text": [
      "Epoch 19/19, Train Loss: 3.9779, Val mAP@50: 0.7303, FPS: 58.84, Epoch Time: 21.60 seconds\n",
      "Best Epoch: 3, Best Val mAP@50: 0.7604, Training Time: 410.65 seconds\n",
      "Model training complete.\n",
      "\n",
      "Best trial: #71\n",
      "  Value:  0.7808420658111572\n",
      "  Params: \n",
      "    batch_size: 7\n",
      "    epochs: 17\n",
      "    preweight_mode: fine_tuning\n",
      "    optimizer: SGD\n",
      "    lr: 0.005077286891014731\n",
      "    momentum: 0.9410626508845523\n",
      "    weight_decay: 6.509385638898574e-05\n",
      "    scheduler: CosineAnnealingLR\n",
      "    T_max: 6\n",
      "    eta_min: 3.181777359507687e-07\n"
     ]
    }
   ],
   "source": [
    "model_name = \"fasterrcnn_resnet50_fpn\"\n",
    "study = trainer.run_optimization(model_name, train_set, val_set, n_trials=100, study_name=model_name, save_path=os.path.join(\"data/models\", model_name))"
   ]
  },
  {
   "cell_type": "code",
   "execution_count": null,
   "metadata": {},
   "outputs": [],
   "source": []
  },
  {
   "cell_type": "markdown",
   "metadata": {},
   "source": [
    "## fasterrcnn_resnet50_fpn_v2"
   ]
  },
  {
   "cell_type": "code",
   "execution_count": 10,
   "metadata": {},
   "outputs": [
    {
     "name": "stdout",
     "output_type": "stream",
     "text": [
      "Number of valid images: 664\n",
      "Train set size: 464 - 69.88%\n",
      "Validation set size: 67 - 10.09%\n",
      "Test set size: 133 - 20.03%\n",
      "\n"
     ]
    }
   ],
   "source": [
    "input_size = 448\n",
    "\n",
    "transform = torchvision.transforms.Compose([\n",
    "    torchvision.transforms.Resize((input_size, input_size)),\n",
    "    torchvision.transforms.ToTensor(), # uint8 values in [0, 255] -> float tensor with values [0, 1]\n",
    "    torchvision.transforms.Normalize(mean=data_process.train_mean.tolist(), std=data_process.train_std.tolist())\n",
    "])\n",
    "\n",
    "train_set, val_set, test_set = data_process.load_data(transform=transform, input_size=input_size)"
   ]
  },
  {
   "cell_type": "code",
   "execution_count": null,
   "metadata": {},
   "outputs": [],
   "source": [
    "model_name = \"fasterrcnn_resnet50_fpn_v2\"\n",
    "study = trainer.run_optimization(model_name, train_set, val_set, n_trials=100, study_name=model_name, save_path=os.path.join(\"data/models\", model_name))"
   ]
  },
  {
   "cell_type": "markdown",
   "metadata": {},
   "source": [
    "## fasterrcnn_mobilenet_v3_fpn"
   ]
  },
  {
   "cell_type": "code",
   "execution_count": 19,
   "metadata": {},
   "outputs": [
    {
     "name": "stdout",
     "output_type": "stream",
     "text": [
      "Number of valid images: 664\n",
      "Train set size: 464 - 69.88%\n",
      "Validation set size: 67 - 10.09%\n",
      "Test set size: 133 - 20.03%\n",
      "\n"
     ]
    }
   ],
   "source": [
    "input_size = 448\n",
    "\n",
    "transform = torchvision.transforms.Compose([\n",
    "    torchvision.transforms.Resize((input_size, input_size)),\n",
    "    torchvision.transforms.ToTensor(), # uint8 values in [0, 255] -> float tensor with values [0, 1]\n",
    "    torchvision.transforms.Normalize(mean=data_process.train_mean.tolist(), std=data_process.train_std.tolist())\n",
    "])\n",
    "\n",
    "train_set, val_set, test_set = data_process.load_data(transform=transform, input_size=input_size)"
   ]
  },
  {
   "cell_type": "code",
   "execution_count": 22,
   "metadata": {},
   "outputs": [
    {
     "name": "stderr",
     "output_type": "stream",
     "text": [
      "[I 2025-01-27 09:55:19,745] A new study created in RDB with name: fasterrcnn_mobilenet_v3_large_fpn\n"
     ]
    },
    {
     "name": "stdout",
     "output_type": "stream",
     "text": [
      "Checking Model: FasterRCNN\n",
      "Starting Trial #0\n",
      "{'batch_size': 7, 'epochs': 17, 'preweight_mode': 'fine_tuning', 'optimizer': 'Adam', 'lr': 0.0009472961959721175, 'beta1': 0.9658118084445251, 'beta2': 0.9318563294010559, 'scheduler': 'CosineAnnealingLR', 'T_max': 8, 'eta_min': 8.307341815284441e-06}\n",
      "Epoch 1/17, Train Loss: 40.9176, Val mAP@50: 0.2718, FPS: 141.91, Epoch Time: 7.89 seconds\n",
      "Epoch 2/17, Train Loss: 32.1975, Val mAP@50: 0.4032, FPS: 153.95, Epoch Time: 7.57 seconds\n",
      "Epoch 3/17, Train Loss: 30.0181, Val mAP@50: 0.4707, FPS: 150.69, Epoch Time: 7.41 seconds\n",
      "Epoch 4/17, Train Loss: 29.1909, Val mAP@50: 0.5474, FPS: 169.01, Epoch Time: 7.27 seconds\n",
      "Epoch 5/17, Train Loss: 28.9595, Val mAP@50: 0.5534, FPS: 155.23, Epoch Time: 7.30 seconds\n",
      "Epoch 6/17, Train Loss: 29.3876, Val mAP@50: 0.4935, FPS: 199.23, Epoch Time: 7.15 seconds\n",
      "Epoch 7/17, Train Loss: 28.0812, Val mAP@50: 0.5630, FPS: 191.82, Epoch Time: 7.17 seconds\n",
      "Epoch 8/17, Train Loss: 26.5350, Val mAP@50: 0.5433, FPS: 190.47, Epoch Time: 7.17 seconds\n",
      "Epoch 9/17, Train Loss: 23.7931, Val mAP@50: 0.5670, FPS: 190.65, Epoch Time: 7.19 seconds\n",
      "Epoch 10/17, Train Loss: 25.0287, Val mAP@50: 0.5678, FPS: 192.12, Epoch Time: 7.17 seconds\n",
      "Epoch 11/17, Train Loss: 24.0803, Val mAP@50: 0.5352, FPS: 193.54, Epoch Time: 7.09 seconds\n",
      "Epoch 12/17, Train Loss: 25.5289, Val mAP@50: 0.5362, FPS: 195.87, Epoch Time: 7.03 seconds\n",
      "Epoch 13/17, Train Loss: 26.9235, Val mAP@50: 0.5522, FPS: 183.16, Epoch Time: 7.08 seconds\n",
      "Epoch 14/17, Train Loss: 27.2778, Val mAP@50: 0.5590, FPS: 186.81, Epoch Time: 7.21 seconds\n",
      "Epoch 15/17, Train Loss: 26.9262, Val mAP@50: 0.5685, FPS: 172.16, Epoch Time: 7.31 seconds\n",
      "Epoch 16/17, Train Loss: 26.4110, Val mAP@50: 0.4972, FPS: 190.69, Epoch Time: 7.35 seconds\n"
     ]
    },
    {
     "name": "stderr",
     "output_type": "stream",
     "text": [
      "[I 2025-01-27 09:57:24,092] Trial 0 finished with value: 0.5685085654258728 and parameters: {'batch_size': 7, 'epochs': 17, 'preweight_mode': 'fine_tuning', 'optimizer': 'Adam', 'lr': 0.0009472961959721175, 'beta1': 0.9658118084445251, 'beta2': 0.9318563294010559, 'scheduler': 'CosineAnnealingLR', 'T_max': 8, 'eta_min': 8.307341815284441e-06}. Best is trial 0 with value: 0.5685085654258728.\n"
     ]
    },
    {
     "name": "stdout",
     "output_type": "stream",
     "text": [
      "Epoch 17/17, Train Loss: 26.4046, Val mAP@50: 0.4968, FPS: 194.16, Epoch Time: 7.29 seconds\n",
      "Best Epoch: 14, Best Val mAP@50: 0.5685, Training Time: 123.65 seconds\n",
      "Model training complete.\n",
      "Checking Model: FasterRCNN\n",
      "Starting Trial #1\n",
      "{'batch_size': 6, 'epochs': 13, 'preweight_mode': 'random', 'optimizer': 'Adam', 'lr': 0.0004904539339172869, 'beta1': 0.9169765854389738, 'beta2': 0.9282853454922604, 'scheduler': 'StepLR', 'step_size': 5, 'gamma': 0.16714116943161034}\n",
      "Epoch 1/13, Train Loss: 49.5348, Val mAP@50: 0.0000, FPS: 142.35, Epoch Time: 8.06 seconds\n",
      "Epoch 2/13, Train Loss: 42.1710, Val mAP@50: 0.2085, FPS: 156.20, Epoch Time: 7.89 seconds\n",
      "Epoch 3/13, Train Loss: 39.8649, Val mAP@50: 0.4190, FPS: 150.47, Epoch Time: 7.77 seconds\n",
      "Epoch 4/13, Train Loss: 37.8582, Val mAP@50: 0.4190, FPS: 155.41, Epoch Time: 7.74 seconds\n",
      "Epoch 5/13, Train Loss: 34.8358, Val mAP@50: 0.3700, FPS: 162.73, Epoch Time: 7.77 seconds\n",
      "Epoch 6/13, Train Loss: 33.5216, Val mAP@50: 0.5135, FPS: 176.33, Epoch Time: 7.63 seconds\n",
      "Epoch 7/13, Train Loss: 31.1969, Val mAP@50: 0.5333, FPS: 184.32, Epoch Time: 7.63 seconds\n",
      "Epoch 8/13, Train Loss: 31.3606, Val mAP@50: 0.5326, FPS: 198.47, Epoch Time: 7.21 seconds\n",
      "Epoch 9/13, Train Loss: 29.4656, Val mAP@50: 0.5337, FPS: 196.23, Epoch Time: 7.38 seconds\n",
      "Epoch 10/13, Train Loss: 29.4480, Val mAP@50: 0.5373, FPS: 202.15, Epoch Time: 7.35 seconds\n",
      "Epoch 11/13, Train Loss: 26.6543, Val mAP@50: 0.5423, FPS: 210.14, Epoch Time: 6.98 seconds\n",
      "Epoch 12/13, Train Loss: 26.7355, Val mAP@50: 0.5456, FPS: 204.15, Epoch Time: 7.17 seconds\n"
     ]
    },
    {
     "name": "stderr",
     "output_type": "stream",
     "text": [
      "[I 2025-01-27 09:59:02,710] Trial 1 finished with value: 0.5456192493438721 and parameters: {'batch_size': 6, 'epochs': 13, 'preweight_mode': 'random', 'optimizer': 'Adam', 'lr': 0.0004904539339172869, 'beta1': 0.9169765854389738, 'beta2': 0.9282853454922604, 'scheduler': 'StepLR', 'step_size': 5, 'gamma': 0.16714116943161034}. Best is trial 0 with value: 0.5685085654258728.\n"
     ]
    },
    {
     "name": "stdout",
     "output_type": "stream",
     "text": [
      "Epoch 13/13, Train Loss: 26.0377, Val mAP@50: 0.5209, FPS: 196.50, Epoch Time: 7.31 seconds\n",
      "Best Epoch: 11, Best Val mAP@50: 0.5456, Training Time: 97.89 seconds\n",
      "Model training complete.\n",
      "Checking Model: FasterRCNN\n",
      "Starting Trial #2\n",
      "{'batch_size': 8, 'epochs': 17, 'preweight_mode': 'freezing', 'optimizer': 'RMSprop', 'lr': 0.004241247429282568, 'weight_decay': 0.1260926568334326, 'momentum': 0.9492067843282642, 'scheduler': 'StepLR', 'step_size': 5, 'gamma': 0.17734318931932058}\n",
      "Epoch 1/17, Train Loss: 281.7642, Val mAP@50: 0.0000, FPS: 227.01, Epoch Time: 6.33 seconds\n",
      "Epoch 2/17, Train Loss: 170.1563, Val mAP@50: 0.0000, FPS: 238.60, Epoch Time: 6.30 seconds\n",
      "Epoch 3/17, Train Loss: 227.2818, Val mAP@50: 0.0010, FPS: 232.17, Epoch Time: 6.35 seconds\n",
      "Epoch 4/17, Train Loss: 209.7467, Val mAP@50: 0.0000, FPS: 236.55, Epoch Time: 6.27 seconds\n",
      "Epoch 5/17, Train Loss: 194.9569, Val mAP@50: 0.0000, FPS: 246.17, Epoch Time: 6.28 seconds\n",
      "Epoch 6/17, Train Loss: 136.7431, Val mAP@50: 0.0149, FPS: 248.59, Epoch Time: 6.16 seconds\n",
      "Epoch 7/17, Train Loss: 84.0593, Val mAP@50: 0.0000, FPS: 253.17, Epoch Time: 5.99 seconds\n",
      "Epoch 8/17, Train Loss: 87.0189, Val mAP@50: 0.0179, FPS: 233.47, Epoch Time: 6.27 seconds\n",
      "Epoch 9/17, Train Loss: 73.2977, Val mAP@50: 0.0026, FPS: 230.77, Epoch Time: 6.25 seconds\n",
      "Epoch 10/17, Train Loss: 76.5931, Val mAP@50: 0.0228, FPS: 230.11, Epoch Time: 6.30 seconds\n",
      "Epoch 11/17, Train Loss: 65.2224, Val mAP@50: 0.0408, FPS: 227.41, Epoch Time: 6.30 seconds\n",
      "Epoch 12/17, Train Loss: 62.0880, Val mAP@50: 0.0446, FPS: 234.22, Epoch Time: 6.24 seconds\n",
      "Epoch 13/17, Train Loss: 63.3026, Val mAP@50: 0.0415, FPS: 231.55, Epoch Time: 6.26 seconds\n",
      "Epoch 14/17, Train Loss: 66.2456, Val mAP@50: 0.0571, FPS: 232.99, Epoch Time: 6.25 seconds\n",
      "Epoch 15/17, Train Loss: 62.6278, Val mAP@50: 0.0594, FPS: 234.03, Epoch Time: 6.15 seconds\n",
      "Epoch 16/17, Train Loss: 60.6164, Val mAP@50: 0.0248, FPS: 238.32, Epoch Time: 6.12 seconds\n"
     ]
    },
    {
     "name": "stderr",
     "output_type": "stream",
     "text": [
      "[I 2025-01-27 10:00:49,472] Trial 2 finished with value: 0.059384785592556 and parameters: {'batch_size': 8, 'epochs': 17, 'preweight_mode': 'freezing', 'optimizer': 'RMSprop', 'lr': 0.004241247429282568, 'weight_decay': 0.1260926568334326, 'momentum': 0.9492067843282642, 'scheduler': 'StepLR', 'step_size': 5, 'gamma': 0.17734318931932058}. Best is trial 0 with value: 0.5685085654258728.\n"
     ]
    },
    {
     "name": "stdout",
     "output_type": "stream",
     "text": [
      "Epoch 17/17, Train Loss: 60.5271, Val mAP@50: 0.0435, FPS: 236.87, Epoch Time: 6.18 seconds\n",
      "Best Epoch: 14, Best Val mAP@50: 0.0594, Training Time: 106.01 seconds\n",
      "Model training complete.\n",
      "Checking Model: FasterRCNN\n",
      "Starting Trial #3\n",
      "{'batch_size': 8, 'epochs': 13, 'preweight_mode': 'freezing', 'optimizer': 'SGD', 'lr': 0.04948808716982222, 'momentum': 0.9468789822431335, 'weight_decay': 5.129973236412686e-05, 'scheduler': 'StepLR', 'step_size': 5, 'gamma': 0.056083539958035666}\n",
      "Epoch 1/13, Train Loss: 169.7003, Val mAP@50: 0.0009, FPS: 237.89, Epoch Time: 6.21 seconds\n",
      "Epoch 2/13, Train Loss: 232.0687, Val mAP@50: 0.0000, FPS: 247.25, Epoch Time: 6.11 seconds\n",
      "Epoch 3/13, Train Loss: 298.5306, Val mAP@50: 0.0000, FPS: 245.17, Epoch Time: 6.10 seconds\n",
      "Epoch 4/13, Train Loss: 292.0415, Val mAP@50: 0.0001, FPS: 243.45, Epoch Time: 6.13 seconds\n",
      "Epoch 5/13, Train Loss: 256.0967, Val mAP@50: 0.0000, FPS: 238.68, Epoch Time: 6.24 seconds\n",
      "Epoch 6/13, Train Loss: 220.8096, Val mAP@50: 0.0140, FPS: 239.00, Epoch Time: 6.33 seconds\n",
      "Epoch 7/13, Train Loss: 120.9065, Val mAP@50: 0.0049, FPS: 234.94, Epoch Time: 6.36 seconds\n",
      "Epoch 8/13, Train Loss: 103.4364, Val mAP@50: 0.0105, FPS: 236.32, Epoch Time: 6.31 seconds\n",
      "Epoch 9/13, Train Loss: 102.6538, Val mAP@50: 0.0393, FPS: 235.28, Epoch Time: 6.30 seconds\n",
      "Epoch 10/13, Train Loss: 90.7170, Val mAP@50: 0.0293, FPS: 232.01, Epoch Time: 6.34 seconds\n",
      "Epoch 11/13, Train Loss: 91.7119, Val mAP@50: 0.0296, FPS: 237.06, Epoch Time: 6.29 seconds\n",
      "Epoch 12/13, Train Loss: 90.4302, Val mAP@50: 0.0327, FPS: 235.71, Epoch Time: 6.25 seconds\n"
     ]
    },
    {
     "name": "stderr",
     "output_type": "stream",
     "text": [
      "[I 2025-01-27 10:02:11,432] Trial 3 finished with value: 0.039273928850889206 and parameters: {'batch_size': 8, 'epochs': 13, 'preweight_mode': 'freezing', 'optimizer': 'SGD', 'lr': 0.04948808716982222, 'momentum': 0.9468789822431335, 'weight_decay': 5.129973236412686e-05, 'scheduler': 'StepLR', 'step_size': 5, 'gamma': 0.056083539958035666}. Best is trial 0 with value: 0.5685085654258728.\n"
     ]
    },
    {
     "name": "stdout",
     "output_type": "stream",
     "text": [
      "Epoch 13/13, Train Loss: 88.5631, Val mAP@50: 0.0327, FPS: 231.29, Epoch Time: 6.25 seconds\n",
      "Best Epoch: 8, Best Val mAP@50: 0.0393, Training Time: 81.26 seconds\n",
      "Model training complete.\n",
      "Checking Model: FasterRCNN\n",
      "Starting Trial #4\n",
      "{'batch_size': 6, 'epochs': 17, 'preweight_mode': 'fine_tuning', 'optimizer': 'SGD', 'lr': 0.02344308086614435, 'momentum': 0.9727457317944981, 'weight_decay': 4.760099310748672e-05, 'scheduler': 'OneCycleLR', 'max_lr': 0.004548729885792942}\n",
      "Epoch 1/17, Train Loss: 55.9802, Val mAP@50: 0.0000, FPS: 156.98, Epoch Time: 7.64 seconds\n",
      "Epoch 2/17, Train Loss: 49.0374, Val mAP@50: 0.1029, FPS: 162.12, Epoch Time: 7.58 seconds\n",
      "Epoch 3/17, Train Loss: 45.1234, Val mAP@50: 0.2973, FPS: 165.46, Epoch Time: 7.70 seconds\n",
      "Epoch 4/17, Train Loss: 39.4604, Val mAP@50: 0.3770, FPS: 170.27, Epoch Time: 7.49 seconds\n",
      "Epoch 5/17, Train Loss: 35.8798, Val mAP@50: 0.4237, FPS: 169.68, Epoch Time: 7.43 seconds\n",
      "Epoch 6/17, Train Loss: 33.9916, Val mAP@50: 0.3976, FPS: 188.22, Epoch Time: 7.35 seconds\n",
      "Epoch 7/17, Train Loss: 32.6915, Val mAP@50: 0.4618, FPS: 182.93, Epoch Time: 7.28 seconds\n",
      "Epoch 8/17, Train Loss: 32.2947, Val mAP@50: 0.4891, FPS: 173.85, Epoch Time: 7.34 seconds\n",
      "Epoch 9/17, Train Loss: 31.3369, Val mAP@50: 0.4848, FPS: 181.09, Epoch Time: 7.34 seconds\n",
      "Epoch 10/17, Train Loss: 31.1015, Val mAP@50: 0.4846, FPS: 183.05, Epoch Time: 7.28 seconds\n",
      "Epoch 11/17, Train Loss: 29.7767, Val mAP@50: 0.5042, FPS: 182.42, Epoch Time: 7.29 seconds\n",
      "Epoch 12/17, Train Loss: 29.3895, Val mAP@50: 0.5052, FPS: 183.49, Epoch Time: 7.30 seconds\n",
      "Epoch 13/17, Train Loss: 28.8439, Val mAP@50: 0.5085, FPS: 181.51, Epoch Time: 7.47 seconds\n",
      "Epoch 14/17, Train Loss: 28.5992, Val mAP@50: 0.4805, FPS: 197.86, Epoch Time: 7.38 seconds\n",
      "Epoch 15/17, Train Loss: 28.4606, Val mAP@50: 0.5564, FPS: 184.82, Epoch Time: 7.39 seconds\n",
      "Epoch 16/17, Train Loss: 26.9026, Val mAP@50: 0.5388, FPS: 192.48, Epoch Time: 7.32 seconds\n"
     ]
    },
    {
     "name": "stderr",
     "output_type": "stream",
     "text": [
      "[I 2025-01-27 10:04:17,948] Trial 4 finished with value: 0.5564243793487549 and parameters: {'batch_size': 6, 'epochs': 17, 'preweight_mode': 'fine_tuning', 'optimizer': 'SGD', 'lr': 0.02344308086614435, 'momentum': 0.9727457317944981, 'weight_decay': 4.760099310748672e-05, 'scheduler': 'OneCycleLR', 'max_lr': 0.004548729885792942}. Best is trial 0 with value: 0.5685085654258728.\n"
     ]
    },
    {
     "name": "stdout",
     "output_type": "stream",
     "text": [
      "Epoch 17/17, Train Loss: 27.5627, Val mAP@50: 0.5540, FPS: 185.74, Epoch Time: 7.24 seconds\n",
      "Best Epoch: 14, Best Val mAP@50: 0.5564, Training Time: 125.82 seconds\n",
      "Model training complete.\n",
      "Checking Model: FasterRCNN\n",
      "Starting Trial #5\n",
      "{'batch_size': 7, 'epochs': 17, 'preweight_mode': 'fine_tuning', 'optimizer': 'RMSprop', 'lr': 0.0012548593198908888, 'weight_decay': 0.5380377852807633, 'momentum': 0.9780810792026231, 'scheduler': 'ReduceLROnPlateau', 'factor': 0.2973243346544745, 'patience': 3}\n",
      "Epoch 1/17, Train Loss: nan, Val mAP@50: 0.0000, FPS: 263.09, Epoch Time: 6.58 seconds\n",
      "Epoch 2/17, Train Loss: nan, Val mAP@50: 0.0000, FPS: 262.17, Epoch Time: 6.52 seconds\n",
      "Epoch 3/17, Train Loss: nan, Val mAP@50: 0.0000, FPS: 261.08, Epoch Time: 6.51 seconds\n",
      "Epoch 4/17, Train Loss: nan, Val mAP@50: 0.0000, FPS: 258.18, Epoch Time: 6.53 seconds\n"
     ]
    },
    {
     "name": "stderr",
     "output_type": "stream",
     "text": [
      "[I 2025-01-27 10:04:51,275] Trial 5 pruned. \n"
     ]
    },
    {
     "name": "stdout",
     "output_type": "stream",
     "text": [
      "Trial pruned by Optuna at epoch 4.\n",
      "Checking Model: FasterRCNN\n",
      "Starting Trial #6\n",
      "{'batch_size': 7, 'epochs': 16, 'preweight_mode': 'fine_tuning', 'optimizer': 'SGD', 'lr': 0.016998759580392438, 'momentum': 0.9201578015051693, 'weight_decay': 1.0003658748852571e-05, 'scheduler': 'CosineAnnealingLR', 'T_max': 5, 'eta_min': 4.0935047202991817e-07}\n",
      "Epoch 1/16, Train Loss: 35.3268, Val mAP@50: 0.3830, FPS: 163.31, Epoch Time: 7.47 seconds\n",
      "Epoch 2/16, Train Loss: 29.2156, Val mAP@50: 0.5782, FPS: 157.37, Epoch Time: 7.44 seconds\n",
      "Epoch 3/16, Train Loss: 28.1847, Val mAP@50: 0.5674, FPS: 164.46, Epoch Time: 7.40 seconds\n",
      "Epoch 4/16, Train Loss: 24.2295, Val mAP@50: 0.5884, FPS: 188.09, Epoch Time: 7.37 seconds\n",
      "Epoch 5/16, Train Loss: 22.5768, Val mAP@50: 0.5933, FPS: 193.06, Epoch Time: 7.09 seconds\n",
      "Epoch 6/16, Train Loss: 20.7364, Val mAP@50: 0.5939, FPS: 189.96, Epoch Time: 7.30 seconds\n",
      "Epoch 7/16, Train Loss: 22.1173, Val mAP@50: 0.5908, FPS: 196.59, Epoch Time: 7.26 seconds\n",
      "Epoch 8/16, Train Loss: 23.0041, Val mAP@50: 0.5629, FPS: 195.94, Epoch Time: 7.13 seconds\n",
      "Epoch 9/16, Train Loss: 25.3194, Val mAP@50: 0.5680, FPS: 190.62, Epoch Time: 7.20 seconds\n",
      "Epoch 10/16, Train Loss: 26.6458, Val mAP@50: 0.5435, FPS: 187.47, Epoch Time: 7.14 seconds\n",
      "Epoch 11/16, Train Loss: 25.8517, Val mAP@50: 0.5641, FPS: 196.93, Epoch Time: 7.24 seconds\n",
      "Epoch 12/16, Train Loss: 26.4211, Val mAP@50: 0.5670, FPS: 200.71, Epoch Time: 7.27 seconds\n",
      "Epoch 13/16, Train Loss: 24.4450, Val mAP@50: 0.6087, FPS: 203.84, Epoch Time: 7.24 seconds\n",
      "Epoch 14/16, Train Loss: 24.2013, Val mAP@50: 0.6050, FPS: 202.22, Epoch Time: 7.18 seconds\n",
      "Epoch 15/16, Train Loss: 18.8536, Val mAP@50: 0.5763, FPS: 205.69, Epoch Time: 7.18 seconds\n"
     ]
    },
    {
     "name": "stderr",
     "output_type": "stream",
     "text": [
      "[I 2025-01-27 10:06:48,014] Trial 6 finished with value: 0.6086618304252625 and parameters: {'batch_size': 7, 'epochs': 16, 'preweight_mode': 'fine_tuning', 'optimizer': 'SGD', 'lr': 0.016998759580392438, 'momentum': 0.9201578015051693, 'weight_decay': 1.0003658748852571e-05, 'scheduler': 'CosineAnnealingLR', 'T_max': 5, 'eta_min': 4.0935047202991817e-07}. Best is trial 6 with value: 0.6086618304252625.\n"
     ]
    },
    {
     "name": "stdout",
     "output_type": "stream",
     "text": [
      "Epoch 16/16, Train Loss: 17.1150, Val mAP@50: 0.5763, FPS: 206.95, Epoch Time: 7.16 seconds\n",
      "Best Epoch: 12, Best Val mAP@50: 0.6087, Training Time: 116.03 seconds\n",
      "Model training complete.\n",
      "Checking Model: FasterRCNN\n",
      "Starting Trial #7\n",
      "{'batch_size': 6, 'epochs': 17, 'preweight_mode': 'freezing', 'optimizer': 'RMSprop', 'lr': 0.0035675054331891385, 'weight_decay': 0.10566344366433493, 'momentum': 0.9775188644231251, 'scheduler': 'ReduceLROnPlateau', 'factor': 0.29754314502094625, 'patience': 2}\n",
      "Epoch 1/17, Train Loss: 896.7556, Val mAP@50: 0.0008, FPS: 220.29, Epoch Time: 6.50 seconds\n",
      "Epoch 2/17, Train Loss: 370.3927, Val mAP@50: 0.0000, FPS: 233.10, Epoch Time: 6.32 seconds\n",
      "Epoch 3/17, Train Loss: 556.4515, Val mAP@50: 0.0000, FPS: 213.73, Epoch Time: 6.49 seconds\n",
      "Epoch 4/17, Train Loss: 743.7092, Val mAP@50: 0.0000, FPS: 234.55, Epoch Time: 6.37 seconds\n",
      "Epoch 5/17, Train Loss: 328.8707, Val mAP@50: 0.0002, FPS: 221.31, Epoch Time: 6.51 seconds\n"
     ]
    },
    {
     "name": "stderr",
     "output_type": "stream",
     "text": [
      "[I 2025-01-27 10:07:27,199] Trial 7 pruned. \n"
     ]
    },
    {
     "name": "stdout",
     "output_type": "stream",
     "text": [
      "Trial pruned by Optuna at epoch 5.\n",
      "Checking Model: FasterRCNN\n",
      "Starting Trial #8\n",
      "{'batch_size': 7, 'epochs': 14, 'preweight_mode': 'random', 'optimizer': 'RMSprop', 'lr': 0.0010523472087119428, 'weight_decay': 0.11239553251294436, 'momentum': 0.902710004059513, 'scheduler': 'ReduceLROnPlateau', 'factor': 0.13439332022060319, 'patience': 4}\n",
      "Epoch 1/14, Train Loss: 374381970712253372249057489772871680.0000, Val mAP@50: 0.0000, FPS: 256.23, Epoch Time: 6.66 seconds\n",
      "Epoch 2/14, Train Loss: 1002361144893065441744595466617618432.0000, Val mAP@50: 0.0000, FPS: 251.30, Epoch Time: 6.67 seconds\n",
      "Epoch 3/14, Train Loss: 686622726099724675692956351429869568.0000, Val mAP@50: 0.0000, FPS: 259.65, Epoch Time: 6.67 seconds\n",
      "Epoch 4/14, Train Loss: 319802413955926247690740562785206272.0000, Val mAP@50: 0.0000, FPS: 257.30, Epoch Time: 6.51 seconds\n"
     ]
    },
    {
     "name": "stderr",
     "output_type": "stream",
     "text": [
      "[I 2025-01-27 10:08:00,809] Trial 8 pruned. \n"
     ]
    },
    {
     "name": "stdout",
     "output_type": "stream",
     "text": [
      "Trial pruned by Optuna at epoch 4.\n",
      "Checking Model: FasterRCNN\n",
      "Starting Trial #9\n",
      "{'batch_size': 7, 'epochs': 18, 'preweight_mode': 'freezing', 'optimizer': 'SGD', 'lr': 0.04198573470793485, 'momentum': 0.9163819443057865, 'weight_decay': 3.626824917046231e-05, 'scheduler': 'CosineAnnealingLR', 'T_max': 12, 'eta_min': 8.368075421103245e-07}\n",
      "Epoch 1/18, Train Loss: 178.2573, Val mAP@50: 0.0000, FPS: 214.57, Epoch Time: 6.41 seconds\n",
      "Epoch 2/18, Train Loss: 178.5120, Val mAP@50: 0.0004, FPS: 223.00, Epoch Time: 6.47 seconds\n",
      "Epoch 3/18, Train Loss: 142.6693, Val mAP@50: 0.0079, FPS: 221.49, Epoch Time: 6.37 seconds\n",
      "Epoch 4/18, Train Loss: 241.1811, Val mAP@50: 0.0159, FPS: 226.73, Epoch Time: 6.40 seconds\n",
      "Epoch 5/18, Train Loss: 165.7952, Val mAP@50: 0.0003, FPS: 207.80, Epoch Time: 6.57 seconds\n"
     ]
    },
    {
     "name": "stderr",
     "output_type": "stream",
     "text": [
      "[I 2025-01-27 10:08:40,190] Trial 9 pruned. \n"
     ]
    },
    {
     "name": "stdout",
     "output_type": "stream",
     "text": [
      "Trial pruned by Optuna at epoch 5.\n",
      "Checking Model: FasterRCNN\n",
      "Starting Trial #10\n",
      "{'batch_size': 4, 'epochs': 20, 'preweight_mode': 'fine_tuning', 'optimizer': 'AdamW', 'lr': 0.0001727935630014265, 'weight_decay': 0.001305443110763528, 'beta1': 0.8384084637388263, 'beta2': 0.9966465871541936, 'scheduler': 'CosineAnnealingLR', 'T_max': 5, 'eta_min': 1.2726349105392805e-07}\n",
      "Epoch 1/20, Train Loss: 60.9049, Val mAP@50: 0.4890, FPS: 158.44, Epoch Time: 8.18 seconds\n",
      "Epoch 2/20, Train Loss: 52.3625, Val mAP@50: 0.5648, FPS: 160.54, Epoch Time: 8.07 seconds\n",
      "Epoch 3/20, Train Loss: 48.0762, Val mAP@50: 0.6198, FPS: 174.12, Epoch Time: 8.06 seconds\n",
      "Epoch 4/20, Train Loss: 45.8273, Val mAP@50: 0.6229, FPS: 177.58, Epoch Time: 7.99 seconds\n",
      "Epoch 5/20, Train Loss: 40.4681, Val mAP@50: 0.5947, FPS: 189.10, Epoch Time: 7.77 seconds\n",
      "Epoch 6/20, Train Loss: 37.2870, Val mAP@50: 0.5943, FPS: 183.83, Epoch Time: 7.77 seconds\n",
      "Epoch 7/20, Train Loss: 37.0072, Val mAP@50: 0.5993, FPS: 182.54, Epoch Time: 7.78 seconds\n",
      "Epoch 8/20, Train Loss: 38.3242, Val mAP@50: 0.6227, FPS: 183.81, Epoch Time: 7.87 seconds\n",
      "Epoch 9/20, Train Loss: 49.2981, Val mAP@50: 0.5773, FPS: 176.47, Epoch Time: 7.79 seconds\n",
      "Epoch 10/20, Train Loss: 50.6757, Val mAP@50: 0.5739, FPS: 178.75, Epoch Time: 7.79 seconds\n",
      "Epoch 11/20, Train Loss: 55.3665, Val mAP@50: 0.5368, FPS: 184.87, Epoch Time: 7.71 seconds\n",
      "Epoch 12/20, Train Loss: 58.5823, Val mAP@50: 0.5791, FPS: 185.44, Epoch Time: 7.50 seconds\n",
      "Epoch 13/20, Train Loss: 55.4153, Val mAP@50: 0.6299, FPS: 194.38, Epoch Time: 7.61 seconds\n",
      "Epoch 14/20, Train Loss: 52.2594, Val mAP@50: 0.6373, FPS: 200.18, Epoch Time: 7.45 seconds\n",
      "Epoch 15/20, Train Loss: 38.9772, Val mAP@50: 0.6204, FPS: 204.14, Epoch Time: 7.24 seconds\n",
      "Epoch 16/20, Train Loss: 34.9197, Val mAP@50: 0.6203, FPS: 203.45, Epoch Time: 7.23 seconds\n",
      "Epoch 17/20, Train Loss: 34.0466, Val mAP@50: 0.6378, FPS: 203.79, Epoch Time: 7.24 seconds\n",
      "Epoch 18/20, Train Loss: 35.6870, Val mAP@50: 0.5928, FPS: 203.42, Epoch Time: 7.24 seconds\n",
      "Epoch 19/20, Train Loss: 48.4564, Val mAP@50: 0.6380, FPS: 197.48, Epoch Time: 7.45 seconds\n"
     ]
    },
    {
     "name": "stderr",
     "output_type": "stream",
     "text": [
      "[I 2025-01-27 10:11:14,138] Trial 10 finished with value: 0.6379993557929993 and parameters: {'batch_size': 4, 'epochs': 20, 'preweight_mode': 'fine_tuning', 'optimizer': 'AdamW', 'lr': 0.0001727935630014265, 'weight_decay': 0.001305443110763528, 'beta1': 0.8384084637388263, 'beta2': 0.9966465871541936, 'scheduler': 'CosineAnnealingLR', 'T_max': 5, 'eta_min': 1.2726349105392805e-07}. Best is trial 10 with value: 0.6379993557929993.\n"
     ]
    },
    {
     "name": "stdout",
     "output_type": "stream",
     "text": [
      "Epoch 20/20, Train Loss: 56.9988, Val mAP@50: 0.6274, FPS: 198.14, Epoch Time: 7.48 seconds\n",
      "Best Epoch: 18, Best Val mAP@50: 0.6380, Training Time: 153.20 seconds\n",
      "Model training complete.\n",
      "Checking Model: FasterRCNN\n",
      "Starting Trial #11\n",
      "{'batch_size': 4, 'epochs': 20, 'preweight_mode': 'fine_tuning', 'optimizer': 'AdamW', 'lr': 0.00011006134382628895, 'weight_decay': 0.001219332330568898, 'beta1': 0.8132826859576652, 'beta2': 0.9981630949532025, 'scheduler': 'CosineAnnealingLR', 'T_max': 5, 'eta_min': 1.0373933550020707e-07}\n",
      "Epoch 1/20, Train Loss: 61.7796, Val mAP@50: 0.4975, FPS: 155.47, Epoch Time: 8.28 seconds\n",
      "Epoch 2/20, Train Loss: 51.5838, Val mAP@50: 0.5784, FPS: 164.63, Epoch Time: 7.90 seconds\n",
      "Epoch 3/20, Train Loss: 48.5278, Val mAP@50: 0.5680, FPS: 181.28, Epoch Time: 7.73 seconds\n",
      "Epoch 4/20, Train Loss: 43.1942, Val mAP@50: 0.5796, FPS: 183.46, Epoch Time: 7.74 seconds\n",
      "Epoch 5/20, Train Loss: 36.0905, Val mAP@50: 0.5828, FPS: 187.93, Epoch Time: 7.50 seconds\n",
      "Epoch 6/20, Train Loss: 33.0178, Val mAP@50: 0.5831, FPS: 190.40, Epoch Time: 7.40 seconds\n",
      "Epoch 7/20, Train Loss: 34.3063, Val mAP@50: 0.5711, FPS: 191.34, Epoch Time: 7.55 seconds\n",
      "Epoch 8/20, Train Loss: 34.7031, Val mAP@50: 0.5794, FPS: 190.88, Epoch Time: 7.46 seconds\n",
      "Epoch 9/20, Train Loss: 42.1536, Val mAP@50: 0.5450, FPS: 189.02, Epoch Time: 7.73 seconds\n",
      "Epoch 10/20, Train Loss: 48.1069, Val mAP@50: 0.5859, FPS: 179.99, Epoch Time: 7.78 seconds\n",
      "Epoch 11/20, Train Loss: 50.1301, Val mAP@50: 0.5410, FPS: 176.71, Epoch Time: 7.91 seconds\n",
      "Epoch 12/20, Train Loss: 49.0832, Val mAP@50: 0.5868, FPS: 190.45, Epoch Time: 7.61 seconds\n",
      "Epoch 13/20, Train Loss: 49.0446, Val mAP@50: 0.6013, FPS: 194.73, Epoch Time: 7.63 seconds\n",
      "Epoch 14/20, Train Loss: 43.9749, Val mAP@50: 0.5794, FPS: 197.07, Epoch Time: 7.55 seconds\n",
      "Epoch 15/20, Train Loss: 35.1117, Val mAP@50: 0.5857, FPS: 199.16, Epoch Time: 7.50 seconds\n",
      "Epoch 16/20, Train Loss: 29.6139, Val mAP@50: 0.5856, FPS: 196.85, Epoch Time: 7.51 seconds\n",
      "Epoch 17/20, Train Loss: 29.3551, Val mAP@50: 0.5781, FPS: 198.31, Epoch Time: 7.57 seconds\n",
      "Epoch 18/20, Train Loss: 29.7427, Val mAP@50: 0.5744, FPS: 196.41, Epoch Time: 7.58 seconds\n"
     ]
    },
    {
     "name": "stderr",
     "output_type": "stream",
     "text": [
      "[I 2025-01-27 10:13:40,257] Trial 11 pruned. \n"
     ]
    },
    {
     "name": "stdout",
     "output_type": "stream",
     "text": [
      "Trial pruned by Optuna at epoch 18.\n",
      "Checking Model: FasterRCNN\n",
      "Starting Trial #12\n",
      "{'batch_size': 4, 'epochs': 10, 'preweight_mode': 'fine_tuning', 'optimizer': 'AdamW', 'lr': 0.0001785101188525541, 'weight_decay': 0.0012591873389691888, 'beta1': 0.8165133763101086, 'beta2': 0.9988745754088791, 'scheduler': 'CosineAnnealingLR', 'T_max': 5, 'eta_min': 1.3628971680225684e-07}\n",
      "Epoch 1/10, Train Loss: 62.8737, Val mAP@50: 0.4715, FPS: 155.31, Epoch Time: 8.18 seconds\n",
      "Epoch 2/10, Train Loss: 52.8335, Val mAP@50: 0.5690, FPS: 164.36, Epoch Time: 8.07 seconds\n",
      "Epoch 3/10, Train Loss: 51.3511, Val mAP@50: 0.5925, FPS: 176.58, Epoch Time: 7.74 seconds\n",
      "Epoch 4/10, Train Loss: 48.3301, Val mAP@50: 0.6377, FPS: 184.63, Epoch Time: 7.61 seconds\n",
      "Epoch 5/10, Train Loss: 41.0617, Val mAP@50: 0.6126, FPS: 186.69, Epoch Time: 7.66 seconds\n",
      "Epoch 6/10, Train Loss: 34.9212, Val mAP@50: 0.6126, FPS: 188.02, Epoch Time: 7.48 seconds\n",
      "Epoch 7/10, Train Loss: 36.3069, Val mAP@50: 0.6019, FPS: 189.42, Epoch Time: 7.54 seconds\n",
      "Epoch 8/10, Train Loss: 38.8864, Val mAP@50: 0.5821, FPS: 192.28, Epoch Time: 7.50 seconds\n",
      "Epoch 9/10, Train Loss: 50.4232, Val mAP@50: 0.5903, FPS: 191.29, Epoch Time: 7.54 seconds\n"
     ]
    },
    {
     "name": "stderr",
     "output_type": "stream",
     "text": [
      "[I 2025-01-27 10:14:57,864] Trial 12 finished with value: 0.6377139687538147 and parameters: {'batch_size': 4, 'epochs': 10, 'preweight_mode': 'fine_tuning', 'optimizer': 'AdamW', 'lr': 0.0001785101188525541, 'weight_decay': 0.0012591873389691888, 'beta1': 0.8165133763101086, 'beta2': 0.9988745754088791, 'scheduler': 'CosineAnnealingLR', 'T_max': 5, 'eta_min': 1.3628971680225684e-07}. Best is trial 10 with value: 0.6379993557929993.\n"
     ]
    },
    {
     "name": "stdout",
     "output_type": "stream",
     "text": [
      "Epoch 10/10, Train Loss: 55.3546, Val mAP@50: 0.5490, FPS: 191.28, Epoch Time: 7.54 seconds\n",
      "Best Epoch: 3, Best Val mAP@50: 0.6377, Training Time: 76.87 seconds\n",
      "Model training complete.\n",
      "Checking Model: FasterRCNN\n",
      "Starting Trial #13\n",
      "{'batch_size': 4, 'epochs': 10, 'preweight_mode': 'fine_tuning', 'optimizer': 'AdamW', 'lr': 0.00010816347145553865, 'weight_decay': 0.002041295757889466, 'beta1': 0.8089431437663054, 'beta2': 0.9988901761455922, 'scheduler': 'CosineAnnealingLR', 'T_max': 8, 'eta_min': 1.4164235409194877e-07}\n",
      "Epoch 1/10, Train Loss: 64.3359, Val mAP@50: 0.4636, FPS: 168.93, Epoch Time: 7.94 seconds\n",
      "Epoch 2/10, Train Loss: 51.1337, Val mAP@50: 0.5021, FPS: 161.93, Epoch Time: 7.86 seconds\n",
      "Epoch 3/10, Train Loss: 47.8020, Val mAP@50: 0.5257, FPS: 178.48, Epoch Time: 7.84 seconds\n",
      "Epoch 4/10, Train Loss: 48.2111, Val mAP@50: 0.5613, FPS: 172.44, Epoch Time: 7.73 seconds\n",
      "Epoch 5/10, Train Loss: 41.3424, Val mAP@50: 0.5576, FPS: 190.67, Epoch Time: 7.50 seconds\n",
      "Epoch 6/10, Train Loss: 38.1601, Val mAP@50: 0.5744, FPS: 191.84, Epoch Time: 7.48 seconds\n",
      "Epoch 7/10, Train Loss: 32.2896, Val mAP@50: 0.5899, FPS: 192.36, Epoch Time: 7.46 seconds\n",
      "Epoch 8/10, Train Loss: 27.9343, Val mAP@50: 0.5742, FPS: 194.89, Epoch Time: 7.27 seconds\n",
      "Epoch 9/10, Train Loss: 26.4088, Val mAP@50: 0.5742, FPS: 192.16, Epoch Time: 7.55 seconds\n"
     ]
    },
    {
     "name": "stderr",
     "output_type": "stream",
     "text": [
      "[I 2025-01-27 10:16:14,758] Trial 13 finished with value: 0.5899093747138977 and parameters: {'batch_size': 4, 'epochs': 10, 'preweight_mode': 'fine_tuning', 'optimizer': 'AdamW', 'lr': 0.00010816347145553865, 'weight_decay': 0.002041295757889466, 'beta1': 0.8089431437663054, 'beta2': 0.9988901761455922, 'scheduler': 'CosineAnnealingLR', 'T_max': 8, 'eta_min': 1.4164235409194877e-07}. Best is trial 10 with value: 0.6379993557929993.\n"
     ]
    },
    {
     "name": "stdout",
     "output_type": "stream",
     "text": [
      "Epoch 10/10, Train Loss: 26.0021, Val mAP@50: 0.5815, FPS: 192.64, Epoch Time: 7.47 seconds\n",
      "Best Epoch: 6, Best Val mAP@50: 0.5899, Training Time: 76.11 seconds\n",
      "Model training complete.\n",
      "Checking Model: FasterRCNN\n",
      "Starting Trial #14\n",
      "{'batch_size': 5, 'epochs': 10, 'preweight_mode': 'fine_tuning', 'optimizer': 'AdamW', 'lr': 0.00024234969477300903, 'weight_decay': 0.001847916758811097, 'beta1': 0.858112798285711, 'beta2': 0.9723435955019767, 'scheduler': 'OneCycleLR', 'max_lr': 0.00011651399160823201}\n",
      "Epoch 1/10, Train Loss: 71.5800, Val mAP@50: 0.0000, FPS: 150.84, Epoch Time: 7.69 seconds\n",
      "Epoch 2/10, Train Loss: 54.6152, Val mAP@50: 0.0512, FPS: 152.58, Epoch Time: 7.81 seconds\n",
      "Epoch 3/10, Train Loss: 50.5331, Val mAP@50: 0.2268, FPS: 154.24, Epoch Time: 7.78 seconds\n",
      "Epoch 4/10, Train Loss: 45.5557, Val mAP@50: 0.2953, FPS: 160.00, Epoch Time: 7.78 seconds\n",
      "Epoch 5/10, Train Loss: 43.3855, Val mAP@50: 0.3404, FPS: 163.75, Epoch Time: 7.80 seconds\n"
     ]
    },
    {
     "name": "stderr",
     "output_type": "stream",
     "text": [
      "[I 2025-01-27 10:17:02,038] Trial 14 pruned. \n"
     ]
    },
    {
     "name": "stdout",
     "output_type": "stream",
     "text": [
      "Trial pruned by Optuna at epoch 5.\n",
      "Checking Model: FasterRCNN\n",
      "Starting Trial #15\n",
      "{'batch_size': 5, 'epochs': 20, 'preweight_mode': 'fine_tuning', 'optimizer': 'AdamW', 'lr': 0.0002318219801721252, 'weight_decay': 0.0016647546529857955, 'beta1': 0.8626482234007193, 'beta2': 0.9673810360686694, 'scheduler': 'CosineAnnealingLR', 'T_max': 15, 'eta_min': 2.415646768851557e-07}\n",
      "Epoch 1/20, Train Loss: 51.0930, Val mAP@50: 0.4778, FPS: 157.97, Epoch Time: 7.83 seconds\n",
      "Epoch 2/20, Train Loss: 43.9089, Val mAP@50: 0.4262, FPS: 179.20, Epoch Time: 7.62 seconds\n",
      "Epoch 3/20, Train Loss: 42.0759, Val mAP@50: 0.5427, FPS: 195.00, Epoch Time: 7.48 seconds\n",
      "Epoch 4/20, Train Loss: 41.2697, Val mAP@50: 0.5924, FPS: 172.20, Epoch Time: 7.46 seconds\n",
      "Epoch 5/20, Train Loss: 44.1825, Val mAP@50: 0.5677, FPS: 193.14, Epoch Time: 7.38 seconds\n",
      "Epoch 6/20, Train Loss: 44.8162, Val mAP@50: 0.5723, FPS: 200.93, Epoch Time: 7.24 seconds\n",
      "Epoch 7/20, Train Loss: 45.9740, Val mAP@50: 0.5983, FPS: 203.61, Epoch Time: 7.24 seconds\n",
      "Epoch 8/20, Train Loss: 46.2153, Val mAP@50: 0.5648, FPS: 207.46, Epoch Time: 7.26 seconds\n",
      "Epoch 9/20, Train Loss: 43.3556, Val mAP@50: 0.5697, FPS: 207.13, Epoch Time: 7.22 seconds\n",
      "Epoch 10/20, Train Loss: 39.9296, Val mAP@50: 0.5916, FPS: 207.26, Epoch Time: 7.26 seconds\n",
      "Epoch 11/20, Train Loss: 34.8685, Val mAP@50: 0.6070, FPS: 208.50, Epoch Time: 7.27 seconds\n",
      "Epoch 12/20, Train Loss: 28.5316, Val mAP@50: 0.5855, FPS: 209.59, Epoch Time: 7.26 seconds\n",
      "Epoch 13/20, Train Loss: 23.7979, Val mAP@50: 0.5863, FPS: 209.04, Epoch Time: 7.24 seconds\n",
      "Epoch 14/20, Train Loss: 19.7880, Val mAP@50: 0.5738, FPS: 210.15, Epoch Time: 7.20 seconds\n",
      "Epoch 15/20, Train Loss: 17.3671, Val mAP@50: 0.5740, FPS: 208.85, Epoch Time: 7.18 seconds\n",
      "Epoch 16/20, Train Loss: 16.7501, Val mAP@50: 0.5722, FPS: 213.18, Epoch Time: 7.17 seconds\n",
      "Epoch 17/20, Train Loss: 16.6394, Val mAP@50: 0.5640, FPS: 211.83, Epoch Time: 7.06 seconds\n",
      "Epoch 18/20, Train Loss: 16.9442, Val mAP@50: 0.5726, FPS: 210.82, Epoch Time: 7.08 seconds\n"
     ]
    },
    {
     "name": "stderr",
     "output_type": "stream",
     "text": [
      "[I 2025-01-27 10:19:21,278] Trial 15 pruned. \n"
     ]
    },
    {
     "name": "stdout",
     "output_type": "stream",
     "text": [
      "Trial pruned by Optuna at epoch 18.\n",
      "Checking Model: FasterRCNN\n",
      "Starting Trial #16\n",
      "{'batch_size': 5, 'epochs': 12, 'preweight_mode': 'random', 'optimizer': 'AdamW', 'lr': 0.00023553330907664078, 'weight_decay': 0.002994927151971632, 'beta1': 0.8490068998680067, 'beta2': 0.9764160564433794, 'scheduler': 'CosineAnnealingLR', 'T_max': 7, 'eta_min': 2.8900428196053163e-06}\n",
      "Epoch 1/12, Train Loss: 56.9463, Val mAP@50: 0.0574, FPS: 144.40, Epoch Time: 8.27 seconds\n",
      "Epoch 2/12, Train Loss: 50.2881, Val mAP@50: 0.2257, FPS: 148.54, Epoch Time: 8.18 seconds\n",
      "Epoch 3/12, Train Loss: 47.8028, Val mAP@50: 0.3650, FPS: 151.53, Epoch Time: 8.08 seconds\n",
      "Epoch 4/12, Train Loss: 44.9918, Val mAP@50: 0.3801, FPS: 146.89, Epoch Time: 8.05 seconds\n",
      "Epoch 5/12, Train Loss: 41.2321, Val mAP@50: 0.4508, FPS: 149.08, Epoch Time: 7.89 seconds\n"
     ]
    },
    {
     "name": "stderr",
     "output_type": "stream",
     "text": [
      "[I 2025-01-27 10:20:10,239] Trial 16 pruned. \n"
     ]
    },
    {
     "name": "stdout",
     "output_type": "stream",
     "text": [
      "Trial pruned by Optuna at epoch 5.\n",
      "Checking Model: FasterRCNN\n",
      "Starting Trial #17\n",
      "{'batch_size': 4, 'epochs': 11, 'preweight_mode': 'fine_tuning', 'optimizer': 'AdamW', 'lr': 0.000373926754044168, 'weight_decay': 0.0013423146737697267, 'beta1': 0.8002578520211981, 'beta2': 0.9093478375347003, 'scheduler': 'CosineAnnealingLR', 'T_max': 5, 'eta_min': 4.2330934268168284e-07}\n",
      "Epoch 1/11, Train Loss: 67.1391, Val mAP@50: 0.4768, FPS: 147.49, Epoch Time: 8.36 seconds\n",
      "Epoch 2/11, Train Loss: 57.2154, Val mAP@50: 0.5796, FPS: 150.89, Epoch Time: 8.28 seconds\n",
      "Epoch 3/11, Train Loss: 55.2021, Val mAP@50: 0.5508, FPS: 182.02, Epoch Time: 8.01 seconds\n",
      "Epoch 4/11, Train Loss: 55.5398, Val mAP@50: 0.5729, FPS: 185.75, Epoch Time: 7.81 seconds\n",
      "Epoch 5/11, Train Loss: 51.1113, Val mAP@50: 0.5968, FPS: 191.10, Epoch Time: 7.74 seconds\n",
      "Epoch 6/11, Train Loss: 46.8825, Val mAP@50: 0.5975, FPS: 190.11, Epoch Time: 7.60 seconds\n",
      "Epoch 7/11, Train Loss: 48.2565, Val mAP@50: 0.6060, FPS: 192.79, Epoch Time: 7.62 seconds\n",
      "Epoch 8/11, Train Loss: 51.8337, Val mAP@50: 0.5900, FPS: 192.72, Epoch Time: 7.67 seconds\n",
      "Epoch 9/11, Train Loss: 56.4606, Val mAP@50: 0.5482, FPS: 186.78, Epoch Time: 7.69 seconds\n",
      "Epoch 10/11, Train Loss: 63.2758, Val mAP@50: 0.5910, FPS: 184.60, Epoch Time: 7.74 seconds\n"
     ]
    },
    {
     "name": "stderr",
     "output_type": "stream",
     "text": [
      "[I 2025-01-27 10:21:37,291] Trial 17 finished with value: 0.6060277819633484 and parameters: {'batch_size': 4, 'epochs': 11, 'preweight_mode': 'fine_tuning', 'optimizer': 'AdamW', 'lr': 0.000373926754044168, 'weight_decay': 0.0013423146737697267, 'beta1': 0.8002578520211981, 'beta2': 0.9093478375347003, 'scheduler': 'CosineAnnealingLR', 'T_max': 5, 'eta_min': 4.2330934268168284e-07}. Best is trial 10 with value: 0.6379993557929993.\n"
     ]
    },
    {
     "name": "stdout",
     "output_type": "stream",
     "text": [
      "Epoch 11/11, Train Loss: 62.5809, Val mAP@50: 0.5537, FPS: 185.47, Epoch Time: 7.76 seconds\n",
      "Best Epoch: 6, Best Val mAP@50: 0.6060, Training Time: 86.27 seconds\n",
      "Model training complete.\n",
      "Checking Model: FasterRCNN\n",
      "Starting Trial #18\n",
      "{'batch_size': 4, 'epochs': 15, 'preweight_mode': 'fine_tuning', 'optimizer': 'AdamW', 'lr': 0.00015786413398880873, 'weight_decay': 0.0027378299879323447, 'beta1': 0.8925112331255509, 'beta2': 0.9858101308248687, 'scheduler': 'OneCycleLR', 'max_lr': 0.00039514321032304564}\n",
      "Epoch 1/15, Train Loss: 76.8299, Val mAP@50: 0.2248, FPS: 148.96, Epoch Time: 8.23 seconds\n",
      "Epoch 2/15, Train Loss: 57.7687, Val mAP@50: 0.3992, FPS: 151.95, Epoch Time: 7.96 seconds\n",
      "Epoch 3/15, Train Loss: 50.0199, Val mAP@50: 0.4702, FPS: 154.17, Epoch Time: 8.09 seconds\n",
      "Epoch 4/15, Train Loss: 46.8597, Val mAP@50: 0.4711, FPS: 167.37, Epoch Time: 8.09 seconds\n",
      "Epoch 5/15, Train Loss: 44.6046, Val mAP@50: 0.5050, FPS: 164.63, Epoch Time: 8.02 seconds\n"
     ]
    },
    {
     "name": "stderr",
     "output_type": "stream",
     "text": [
      "[I 2025-01-27 10:22:26,244] Trial 18 pruned. \n"
     ]
    },
    {
     "name": "stdout",
     "output_type": "stream",
     "text": [
      "Trial pruned by Optuna at epoch 5.\n",
      "Checking Model: FasterRCNN\n",
      "Starting Trial #19\n",
      "{'batch_size': 5, 'epochs': 19, 'preweight_mode': 'random', 'optimizer': 'AdamW', 'lr': 0.0004377437611767195, 'weight_decay': 0.0011623053256424123, 'beta1': 0.8346983338084848, 'beta2': 0.9548931056079518, 'scheduler': 'CosineAnnealingLR', 'T_max': 11, 'eta_min': 1.0267054077437612e-07}\n",
      "Epoch 1/19, Train Loss: 58.8072, Val mAP@50: 0.0297, FPS: 142.86, Epoch Time: 8.27 seconds\n",
      "Epoch 2/19, Train Loss: 50.5673, Val mAP@50: 0.2513, FPS: 145.38, Epoch Time: 8.15 seconds\n",
      "Epoch 3/19, Train Loss: 46.4557, Val mAP@50: 0.3364, FPS: 166.95, Epoch Time: 8.07 seconds\n",
      "Epoch 4/19, Train Loss: 43.5079, Val mAP@50: 0.5113, FPS: 146.94, Epoch Time: 8.01 seconds\n",
      "Epoch 5/19, Train Loss: 42.3553, Val mAP@50: 0.4926, FPS: 162.42, Epoch Time: 7.71 seconds\n"
     ]
    },
    {
     "name": "stderr",
     "output_type": "stream",
     "text": [
      "[I 2025-01-27 10:23:14,569] Trial 19 pruned. \n"
     ]
    },
    {
     "name": "stdout",
     "output_type": "stream",
     "text": [
      "Trial pruned by Optuna at epoch 5.\n",
      "Checking Model: FasterRCNN\n",
      "Starting Trial #20\n",
      "{'batch_size': 4, 'epochs': 15, 'preweight_mode': 'fine_tuning', 'optimizer': 'Adam', 'lr': 0.0007228277495540667, 'beta1': 0.8991211419506533, 'beta2': 0.9864091316714159, 'scheduler': 'CosineAnnealingLR', 'T_max': 7, 'eta_min': 1.1490527328226333e-06}\n",
      "Epoch 1/15, Train Loss: 66.5800, Val mAP@50: 0.3898, FPS: 166.59, Epoch Time: 8.01 seconds\n",
      "Epoch 2/15, Train Loss: 54.7649, Val mAP@50: 0.5148, FPS: 144.89, Epoch Time: 8.19 seconds\n",
      "Epoch 3/15, Train Loss: 53.7429, Val mAP@50: 0.5303, FPS: 158.63, Epoch Time: 8.10 seconds\n",
      "Epoch 4/15, Train Loss: 52.3029, Val mAP@50: 0.5706, FPS: 165.49, Epoch Time: 7.94 seconds\n",
      "Epoch 5/15, Train Loss: 54.8325, Val mAP@50: 0.5592, FPS: 181.87, Epoch Time: 7.64 seconds\n",
      "Epoch 6/15, Train Loss: 53.3150, Val mAP@50: 0.5910, FPS: 193.24, Epoch Time: 7.55 seconds\n",
      "Epoch 7/15, Train Loss: 49.7634, Val mAP@50: 0.6131, FPS: 191.50, Epoch Time: 7.37 seconds\n",
      "Epoch 8/15, Train Loss: 43.2816, Val mAP@50: 0.6083, FPS: 194.44, Epoch Time: 7.34 seconds\n",
      "Epoch 9/15, Train Loss: 45.5341, Val mAP@50: 0.6256, FPS: 197.32, Epoch Time: 7.51 seconds\n",
      "Epoch 10/15, Train Loss: 48.9300, Val mAP@50: 0.5791, FPS: 192.27, Epoch Time: 7.56 seconds\n",
      "Epoch 11/15, Train Loss: 56.6830, Val mAP@50: 0.5689, FPS: 190.54, Epoch Time: 7.54 seconds\n",
      "Epoch 12/15, Train Loss: 58.4610, Val mAP@50: 0.5664, FPS: 190.40, Epoch Time: 7.55 seconds\n",
      "Epoch 13/15, Train Loss: 52.6263, Val mAP@50: 0.5236, FPS: 176.10, Epoch Time: 7.61 seconds\n",
      "Epoch 14/15, Train Loss: 55.5065, Val mAP@50: 0.5154, FPS: 180.92, Epoch Time: 7.71 seconds\n"
     ]
    },
    {
     "name": "stderr",
     "output_type": "stream",
     "text": [
      "[I 2025-01-27 10:25:10,655] Trial 20 finished with value: 0.6255864500999451 and parameters: {'batch_size': 4, 'epochs': 15, 'preweight_mode': 'fine_tuning', 'optimizer': 'Adam', 'lr': 0.0007228277495540667, 'beta1': 0.8991211419506533, 'beta2': 0.9864091316714159, 'scheduler': 'CosineAnnealingLR', 'T_max': 7, 'eta_min': 1.1490527328226333e-06}. Best is trial 10 with value: 0.6379993557929993.\n"
     ]
    },
    {
     "name": "stdout",
     "output_type": "stream",
     "text": [
      "Epoch 15/15, Train Loss: 53.7206, Val mAP@50: 0.5279, FPS: 153.42, Epoch Time: 7.74 seconds\n",
      "Best Epoch: 8, Best Val mAP@50: 0.6256, Training Time: 115.37 seconds\n",
      "Model training complete.\n",
      "Checking Model: FasterRCNN\n",
      "Starting Trial #21\n",
      "{'batch_size': 4, 'epochs': 15, 'preweight_mode': 'fine_tuning', 'optimizer': 'Adam', 'lr': 0.0006350492693480903, 'beta1': 0.9148462919921486, 'beta2': 0.9874143540924012, 'scheduler': 'CosineAnnealingLR', 'T_max': 7, 'eta_min': 1.2915751431341217e-06}\n",
      "Epoch 1/15, Train Loss: 65.7090, Val mAP@50: 0.4052, FPS: 159.55, Epoch Time: 8.02 seconds\n",
      "Epoch 2/15, Train Loss: 55.6230, Val mAP@50: 0.3787, FPS: 169.80, Epoch Time: 7.88 seconds\n",
      "Epoch 3/15, Train Loss: 56.5548, Val mAP@50: 0.4584, FPS: 180.83, Epoch Time: 7.78 seconds\n",
      "Epoch 4/15, Train Loss: 54.4585, Val mAP@50: 0.6222, FPS: 169.67, Epoch Time: 7.73 seconds\n",
      "Epoch 5/15, Train Loss: 57.9279, Val mAP@50: 0.5937, FPS: 183.43, Epoch Time: 7.53 seconds\n",
      "Epoch 6/15, Train Loss: 56.1791, Val mAP@50: 0.5965, FPS: 195.80, Epoch Time: 7.42 seconds\n",
      "Epoch 7/15, Train Loss: 51.0695, Val mAP@50: 0.6264, FPS: 196.63, Epoch Time: 7.44 seconds\n",
      "Epoch 8/15, Train Loss: 45.8142, Val mAP@50: 0.6171, FPS: 196.01, Epoch Time: 7.47 seconds\n",
      "Epoch 9/15, Train Loss: 48.7553, Val mAP@50: 0.6310, FPS: 195.11, Epoch Time: 7.46 seconds\n",
      "Epoch 10/15, Train Loss: 51.1543, Val mAP@50: 0.6148, FPS: 197.73, Epoch Time: 7.33 seconds\n",
      "Epoch 11/15, Train Loss: 60.2011, Val mAP@50: 0.5946, FPS: 193.11, Epoch Time: 7.41 seconds\n",
      "Epoch 12/15, Train Loss: 57.0618, Val mAP@50: 0.6164, FPS: 181.42, Epoch Time: 7.53 seconds\n",
      "Epoch 13/15, Train Loss: 53.0971, Val mAP@50: 0.5858, FPS: 183.01, Epoch Time: 7.65 seconds\n",
      "Epoch 14/15, Train Loss: 55.0704, Val mAP@50: 0.5448, FPS: 185.05, Epoch Time: 7.69 seconds\n"
     ]
    },
    {
     "name": "stderr",
     "output_type": "stream",
     "text": [
      "[I 2025-01-27 10:27:05,357] Trial 21 finished with value: 0.6309571266174316 and parameters: {'batch_size': 4, 'epochs': 15, 'preweight_mode': 'fine_tuning', 'optimizer': 'Adam', 'lr': 0.0006350492693480903, 'beta1': 0.9148462919921486, 'beta2': 0.9874143540924012, 'scheduler': 'CosineAnnealingLR', 'T_max': 7, 'eta_min': 1.2915751431341217e-06}. Best is trial 10 with value: 0.6379993557929993.\n"
     ]
    },
    {
     "name": "stdout",
     "output_type": "stream",
     "text": [
      "Epoch 15/15, Train Loss: 50.6689, Val mAP@50: 0.5388, FPS: 192.37, Epoch Time: 7.63 seconds\n",
      "Best Epoch: 8, Best Val mAP@50: 0.6310, Training Time: 113.95 seconds\n",
      "Model training complete.\n",
      "Checking Model: FasterRCNN\n",
      "Starting Trial #22\n",
      "{'batch_size': 5, 'epochs': 12, 'preweight_mode': 'fine_tuning', 'optimizer': 'Adam', 'lr': 0.001717490544102587, 'beta1': 0.9371930755423314, 'beta2': 0.9979130724675431, 'scheduler': 'CosineAnnealingLR', 'T_max': 5, 'eta_min': 1.460453488959315e-06}\n",
      "Epoch 1/12, Train Loss: 339.6068, Val mAP@50: 0.0000, FPS: 154.27, Epoch Time: 8.09 seconds\n",
      "Epoch 2/12, Train Loss: 221.9055, Val mAP@50: 0.0000, FPS: 162.38, Epoch Time: 8.19 seconds\n",
      "Epoch 3/12, Train Loss: 9469.5447, Val mAP@50: 0.0000, FPS: 160.73, Epoch Time: 8.16 seconds\n",
      "Epoch 4/12, Train Loss: 99.3085, Val mAP@50: 0.0000, FPS: 163.40, Epoch Time: 8.17 seconds\n"
     ]
    },
    {
     "name": "stderr",
     "output_type": "stream",
     "text": [
      "[I 2025-01-27 10:27:46,830] Trial 22 pruned. \n"
     ]
    },
    {
     "name": "stdout",
     "output_type": "stream",
     "text": [
      "Trial pruned by Optuna at epoch 4.\n",
      "Checking Model: FasterRCNN\n",
      "Starting Trial #23\n",
      "{'batch_size': 4, 'epochs': 14, 'preweight_mode': 'fine_tuning', 'optimizer': 'Adam', 'lr': 0.0001648027133055897, 'beta1': 0.8795485914779264, 'beta2': 0.9848891421495745, 'scheduler': 'CosineAnnealingLR', 'T_max': 7, 'eta_min': 3.015959517012679e-06}\n",
      "Epoch 1/14, Train Loss: 62.4653, Val mAP@50: 0.5162, FPS: 158.07, Epoch Time: 8.31 seconds\n",
      "Epoch 2/14, Train Loss: 52.9170, Val mAP@50: 0.5019, FPS: 170.03, Epoch Time: 8.13 seconds\n",
      "Epoch 3/14, Train Loss: 52.7683, Val mAP@50: 0.5362, FPS: 176.07, Epoch Time: 8.00 seconds\n",
      "Epoch 4/14, Train Loss: 47.6017, Val mAP@50: 0.6190, FPS: 174.70, Epoch Time: 7.90 seconds\n",
      "Epoch 5/14, Train Loss: 47.3774, Val mAP@50: 0.6139, FPS: 178.46, Epoch Time: 7.71 seconds\n",
      "Epoch 6/14, Train Loss: 40.0195, Val mAP@50: 0.5838, FPS: 190.76, Epoch Time: 7.57 seconds\n",
      "Epoch 7/14, Train Loss: 34.9216, Val mAP@50: 0.6139, FPS: 194.99, Epoch Time: 7.57 seconds\n",
      "Epoch 8/14, Train Loss: 31.4152, Val mAP@50: 0.6070, FPS: 192.18, Epoch Time: 7.60 seconds\n",
      "Epoch 9/14, Train Loss: 31.7338, Val mAP@50: 0.6023, FPS: 210.50, Epoch Time: 7.30 seconds\n",
      "Epoch 10/14, Train Loss: 32.5738, Val mAP@50: 0.5969, FPS: 210.41, Epoch Time: 7.09 seconds\n",
      "Epoch 11/14, Train Loss: 39.5996, Val mAP@50: 0.5720, FPS: 209.33, Epoch Time: 7.09 seconds\n",
      "Epoch 12/14, Train Loss: 47.4474, Val mAP@50: 0.5988, FPS: 194.96, Epoch Time: 7.22 seconds\n",
      "Epoch 13/14, Train Loss: 53.2085, Val mAP@50: 0.5937, FPS: 185.68, Epoch Time: 7.53 seconds\n"
     ]
    },
    {
     "name": "stderr",
     "output_type": "stream",
     "text": [
      "[I 2025-01-27 10:29:34,115] Trial 23 finished with value: 0.6189944744110107 and parameters: {'batch_size': 4, 'epochs': 14, 'preweight_mode': 'fine_tuning', 'optimizer': 'Adam', 'lr': 0.0001648027133055897, 'beta1': 0.8795485914779264, 'beta2': 0.9848891421495745, 'scheduler': 'CosineAnnealingLR', 'T_max': 7, 'eta_min': 3.015959517012679e-06}. Best is trial 10 with value: 0.6379993557929993.\n"
     ]
    },
    {
     "name": "stdout",
     "output_type": "stream",
     "text": [
      "Epoch 14/14, Train Loss: 55.2109, Val mAP@50: 0.5547, FPS: 188.35, Epoch Time: 7.52 seconds\n",
      "Best Epoch: 3, Best Val mAP@50: 0.6190, Training Time: 106.55 seconds\n",
      "Model training complete.\n",
      "Checking Model: FasterRCNN\n",
      "Starting Trial #24\n",
      "{'batch_size': 4, 'epochs': 19, 'preweight_mode': 'fine_tuning', 'optimizer': 'Adam', 'lr': 0.000333509044226889, 'beta1': 0.9274800310721563, 'beta2': 0.9589740708222846, 'scheduler': 'CosineAnnealingLR', 'T_max': 6, 'eta_min': 2.082338672907974e-07}\n",
      "Epoch 1/19, Train Loss: 60.8785, Val mAP@50: 0.5443, FPS: 145.42, Epoch Time: 8.09 seconds\n",
      "Epoch 2/19, Train Loss: 54.0668, Val mAP@50: 0.5212, FPS: 171.06, Epoch Time: 7.83 seconds\n",
      "Epoch 3/19, Train Loss: 56.0569, Val mAP@50: 0.5256, FPS: 177.73, Epoch Time: 7.58 seconds\n",
      "Epoch 4/19, Train Loss: 53.8523, Val mAP@50: 0.6070, FPS: 184.42, Epoch Time: 7.62 seconds\n",
      "Epoch 5/19, Train Loss: 53.0491, Val mAP@50: 0.5726, FPS: 194.34, Epoch Time: 7.44 seconds\n",
      "Epoch 6/19, Train Loss: 47.6496, Val mAP@50: 0.5964, FPS: 196.36, Epoch Time: 7.35 seconds\n",
      "Epoch 7/19, Train Loss: 41.2441, Val mAP@50: 0.6039, FPS: 194.00, Epoch Time: 7.47 seconds\n",
      "Epoch 8/19, Train Loss: 43.9644, Val mAP@50: 0.5785, FPS: 198.71, Epoch Time: 7.27 seconds\n",
      "Epoch 9/19, Train Loss: 43.9877, Val mAP@50: 0.6118, FPS: 198.72, Epoch Time: 7.22 seconds\n",
      "Epoch 10/19, Train Loss: 52.4709, Val mAP@50: 0.6043, FPS: 196.94, Epoch Time: 7.44 seconds\n",
      "Epoch 11/19, Train Loss: 60.6804, Val mAP@50: 0.5592, FPS: 191.17, Epoch Time: 7.34 seconds\n",
      "Epoch 12/19, Train Loss: 62.6566, Val mAP@50: 0.5648, FPS: 185.60, Epoch Time: 7.40 seconds\n",
      "Epoch 13/19, Train Loss: 61.8058, Val mAP@50: 0.5942, FPS: 188.93, Epoch Time: 7.50 seconds\n",
      "Epoch 14/19, Train Loss: 60.8046, Val mAP@50: 0.5813, FPS: 188.61, Epoch Time: 7.49 seconds\n",
      "Epoch 15/19, Train Loss: 62.7844, Val mAP@50: 0.6027, FPS: 195.47, Epoch Time: 7.44 seconds\n",
      "Epoch 16/19, Train Loss: 60.5697, Val mAP@50: 0.6324, FPS: 198.63, Epoch Time: 7.36 seconds\n",
      "Epoch 17/19, Train Loss: 55.3007, Val mAP@50: 0.6326, FPS: 203.58, Epoch Time: 7.32 seconds\n",
      "Epoch 18/19, Train Loss: 44.3608, Val mAP@50: 0.6211, FPS: 204.21, Epoch Time: 7.27 seconds\n"
     ]
    },
    {
     "name": "stderr",
     "output_type": "stream",
     "text": [
      "[I 2025-01-27 10:31:56,530] Trial 24 pruned. \n"
     ]
    },
    {
     "name": "stdout",
     "output_type": "stream",
     "text": [
      "Trial pruned by Optuna at epoch 18.\n",
      "Checking Model: FasterRCNN\n",
      "Starting Trial #25\n",
      "{'batch_size': 5, 'epochs': 11, 'preweight_mode': 'fine_tuning', 'optimizer': 'AdamW', 'lr': 0.0006414357254940038, 'weight_decay': 0.004283748457029182, 'beta1': 0.8305076213471424, 'beta2': 0.9857342942743461, 'scheduler': 'CosineAnnealingLR', 'T_max': 8, 'eta_min': 4.0176308119628625e-07}\n",
      "Epoch 1/11, Train Loss: 53.9504, Val mAP@50: 0.4596, FPS: 153.34, Epoch Time: 7.92 seconds\n",
      "Epoch 2/11, Train Loss: 44.6928, Val mAP@50: 0.5233, FPS: 165.62, Epoch Time: 7.64 seconds\n",
      "Epoch 3/11, Train Loss: 43.6067, Val mAP@50: 0.5685, FPS: 171.26, Epoch Time: 7.60 seconds\n",
      "Epoch 4/11, Train Loss: 44.5382, Val mAP@50: 0.5474, FPS: 184.62, Epoch Time: 7.51 seconds\n",
      "Epoch 5/11, Train Loss: 44.9145, Val mAP@50: 0.5879, FPS: 194.57, Epoch Time: 7.29 seconds\n",
      "Epoch 6/11, Train Loss: 48.5624, Val mAP@50: 0.5641, FPS: 202.28, Epoch Time: 7.12 seconds\n"
     ]
    },
    {
     "name": "stderr",
     "output_type": "stream",
     "text": [
      "[I 2025-01-27 10:32:49,305] Trial 25 pruned. \n"
     ]
    },
    {
     "name": "stdout",
     "output_type": "stream",
     "text": [
      "Trial pruned by Optuna at epoch 6.\n",
      "Checking Model: FasterRCNN\n",
      "Starting Trial #26\n",
      "{'batch_size': 4, 'epochs': 16, 'preweight_mode': 'fine_tuning', 'optimizer': 'AdamW', 'lr': 0.0022245321046515504, 'weight_decay': 0.004451685686905245, 'beta1': 0.953318422454151, 'beta2': 0.9903559261538849, 'scheduler': 'StepLR', 'step_size': 2, 'gamma': 0.4958522289692388}\n",
      "Epoch 1/16, Train Loss: 2764.9222, Val mAP@50: 0.0000, FPS: 161.65, Epoch Time: 8.10 seconds\n",
      "Epoch 2/16, Train Loss: 227.2496, Val mAP@50: 0.0000, FPS: 157.65, Epoch Time: 8.23 seconds\n",
      "Epoch 3/16, Train Loss: 113.3894, Val mAP@50: 0.0000, FPS: 157.45, Epoch Time: 8.26 seconds\n",
      "Epoch 4/16, Train Loss: 104.2925, Val mAP@50: 0.0000, FPS: 156.87, Epoch Time: 8.33 seconds\n"
     ]
    },
    {
     "name": "stderr",
     "output_type": "stream",
     "text": [
      "[I 2025-01-27 10:33:31,231] Trial 26 pruned. \n"
     ]
    },
    {
     "name": "stdout",
     "output_type": "stream",
     "text": [
      "Trial pruned by Optuna at epoch 4.\n",
      "Checking Model: FasterRCNN\n",
      "Starting Trial #27\n",
      "{'batch_size': 5, 'epochs': 19, 'preweight_mode': 'fine_tuning', 'optimizer': 'Adam', 'lr': 0.00018602911067223195, 'beta1': 0.9900105913551747, 'beta2': 0.9438831537018991, 'scheduler': 'OneCycleLR', 'max_lr': 0.00990307626386975}\n",
      "Epoch 1/19, Train Loss: 50.8985, Val mAP@50: 0.4194, FPS: 142.27, Epoch Time: 8.05 seconds\n",
      "Epoch 2/19, Train Loss: 45.2183, Val mAP@50: 0.4736, FPS: 172.47, Epoch Time: 7.86 seconds\n",
      "Epoch 3/19, Train Loss: 43.3946, Val mAP@50: 0.5338, FPS: 168.51, Epoch Time: 7.72 seconds\n",
      "Epoch 4/19, Train Loss: 43.0165, Val mAP@50: 0.5792, FPS: 187.08, Epoch Time: 7.53 seconds\n",
      "Epoch 5/19, Train Loss: 43.4782, Val mAP@50: 0.5573, FPS: 174.60, Epoch Time: 7.49 seconds\n",
      "Epoch 6/19, Train Loss: 46.2438, Val mAP@50: 0.6070, FPS: 188.86, Epoch Time: 7.48 seconds\n",
      "Epoch 7/19, Train Loss: 48.9495, Val mAP@50: 0.5633, FPS: 194.48, Epoch Time: 7.41 seconds\n",
      "Epoch 8/19, Train Loss: 48.7321, Val mAP@50: 0.5693, FPS: 196.82, Epoch Time: 7.42 seconds\n",
      "Epoch 9/19, Train Loss: 48.2145, Val mAP@50: 0.5506, FPS: 193.07, Epoch Time: 7.40 seconds\n",
      "Epoch 10/19, Train Loss: 49.7198, Val mAP@50: 0.5241, FPS: 202.69, Epoch Time: 7.37 seconds\n",
      "Epoch 11/19, Train Loss: 52.7115, Val mAP@50: 0.5755, FPS: 196.68, Epoch Time: 7.24 seconds\n",
      "Epoch 12/19, Train Loss: 51.0572, Val mAP@50: 0.5516, FPS: 203.34, Epoch Time: 7.31 seconds\n",
      "Epoch 13/19, Train Loss: 50.6518, Val mAP@50: 0.5625, FPS: 204.12, Epoch Time: 7.22 seconds\n",
      "Epoch 14/19, Train Loss: 51.2849, Val mAP@50: 0.5813, FPS: 211.74, Epoch Time: 7.06 seconds\n",
      "Epoch 15/19, Train Loss: 51.4719, Val mAP@50: 0.5850, FPS: 208.67, Epoch Time: 7.06 seconds\n",
      "Epoch 16/19, Train Loss: 48.8267, Val mAP@50: 0.5577, FPS: 208.48, Epoch Time: 7.19 seconds\n",
      "Epoch 17/19, Train Loss: 49.5989, Val mAP@50: 0.6070, FPS: 201.51, Epoch Time: 7.24 seconds\n",
      "Epoch 18/19, Train Loss: 46.2888, Val mAP@50: 0.5987, FPS: 208.20, Epoch Time: 7.19 seconds\n"
     ]
    },
    {
     "name": "stderr",
     "output_type": "stream",
     "text": [
      "[I 2025-01-27 10:35:52,328] Trial 27 pruned. \n"
     ]
    },
    {
     "name": "stdout",
     "output_type": "stream",
     "text": [
      "Trial pruned by Optuna at epoch 18.\n",
      "Checking Model: FasterRCNN\n",
      "Starting Trial #28\n",
      "{'batch_size': 4, 'epochs': 14, 'preweight_mode': 'freezing', 'optimizer': 'AdamW', 'lr': 0.00010206049298651779, 'weight_decay': 0.0023905761255621225, 'beta1': 0.8783306454071256, 'beta2': 0.9756381062685822, 'scheduler': 'ReduceLROnPlateau', 'factor': 0.49256665240106495, 'patience': 5}\n",
      "Epoch 1/14, Train Loss: 168.4714, Val mAP@50: 0.0000, FPS: 199.69, Epoch Time: 6.46 seconds\n",
      "Epoch 2/14, Train Loss: 147.3901, Val mAP@50: 0.0000, FPS: 199.60, Epoch Time: 6.64 seconds\n",
      "Epoch 3/14, Train Loss: 140.5416, Val mAP@50: 0.0000, FPS: 202.60, Epoch Time: 6.51 seconds\n",
      "Epoch 4/14, Train Loss: 135.6910, Val mAP@50: 0.0033, FPS: 202.95, Epoch Time: 6.56 seconds\n",
      "Epoch 5/14, Train Loss: 133.9196, Val mAP@50: 0.0050, FPS: 199.17, Epoch Time: 6.58 seconds\n"
     ]
    },
    {
     "name": "stderr",
     "output_type": "stream",
     "text": [
      "[I 2025-01-27 10:36:32,342] Trial 28 pruned. \n"
     ]
    },
    {
     "name": "stdout",
     "output_type": "stream",
     "text": [
      "Trial pruned by Optuna at epoch 5.\n",
      "Checking Model: FasterRCNN\n",
      "Starting Trial #29\n",
      "{'batch_size': 5, 'epochs': 18, 'preweight_mode': 'random', 'optimizer': 'Adam', 'lr': 0.0003009566708659791, 'beta1': 0.8308320340416055, 'beta2': 0.9638368393426524, 'scheduler': 'CosineAnnealingLR', 'T_max': 9, 'eta_min': 2.1754729888436618e-06}\n",
      "Epoch 1/18, Train Loss: 59.5795, Val mAP@50: 0.0558, FPS: 143.67, Epoch Time: 8.09 seconds\n",
      "Epoch 2/18, Train Loss: 50.4046, Val mAP@50: 0.1656, FPS: 144.64, Epoch Time: 7.96 seconds\n",
      "Epoch 3/18, Train Loss: 48.1741, Val mAP@50: 0.3508, FPS: 147.84, Epoch Time: 7.84 seconds\n",
      "Epoch 4/18, Train Loss: 44.2922, Val mAP@50: 0.4236, FPS: 153.30, Epoch Time: 7.85 seconds\n",
      "Epoch 5/18, Train Loss: 41.0589, Val mAP@50: 0.4966, FPS: 154.17, Epoch Time: 8.01 seconds\n"
     ]
    },
    {
     "name": "stderr",
     "output_type": "stream",
     "text": [
      "[I 2025-01-27 10:37:20,708] Trial 29 pruned. \n"
     ]
    },
    {
     "name": "stdout",
     "output_type": "stream",
     "text": [
      "Trial pruned by Optuna at epoch 5.\n",
      "Checking Model: FasterRCNN\n",
      "Starting Trial #30\n",
      "{'batch_size': 4, 'epochs': 16, 'preweight_mode': 'fine_tuning', 'optimizer': 'Adam', 'lr': 0.0005319609854639868, 'beta1': 0.8424649709981933, 'beta2': 0.9797128035050621, 'scheduler': 'CosineAnnealingLR', 'T_max': 6, 'eta_min': 6.592971327518573e-07}\n",
      "Epoch 1/16, Train Loss: 65.7731, Val mAP@50: 0.3977, FPS: 137.36, Epoch Time: 8.22 seconds\n",
      "Epoch 2/16, Train Loss: 58.9606, Val mAP@50: 0.4923, FPS: 148.26, Epoch Time: 8.19 seconds\n",
      "Epoch 3/16, Train Loss: 55.2380, Val mAP@50: 0.5390, FPS: 153.09, Epoch Time: 8.03 seconds\n",
      "Epoch 4/16, Train Loss: 57.2755, Val mAP@50: 0.5624, FPS: 182.29, Epoch Time: 7.75 seconds\n",
      "Epoch 5/16, Train Loss: 59.4056, Val mAP@50: 0.6095, FPS: 189.02, Epoch Time: 7.61 seconds\n",
      "Epoch 6/16, Train Loss: 51.5669, Val mAP@50: 0.6081, FPS: 190.46, Epoch Time: 7.33 seconds\n",
      "Epoch 7/16, Train Loss: 46.6313, Val mAP@50: 0.6081, FPS: 196.35, Epoch Time: 7.36 seconds\n",
      "Epoch 8/16, Train Loss: 47.7312, Val mAP@50: 0.5923, FPS: 196.92, Epoch Time: 7.34 seconds\n",
      "Epoch 9/16, Train Loss: 51.7665, Val mAP@50: 0.5825, FPS: 190.97, Epoch Time: 7.36 seconds\n",
      "Epoch 10/16, Train Loss: 60.3680, Val mAP@50: 0.6203, FPS: 187.69, Epoch Time: 7.27 seconds\n",
      "Epoch 11/16, Train Loss: 60.0321, Val mAP@50: 0.5827, FPS: 189.42, Epoch Time: 7.34 seconds\n",
      "Epoch 12/16, Train Loss: 54.3091, Val mAP@50: 0.5639, FPS: 181.25, Epoch Time: 7.43 seconds\n",
      "Epoch 13/16, Train Loss: 59.6752, Val mAP@50: 0.5950, FPS: 183.37, Epoch Time: 7.64 seconds\n",
      "Epoch 14/16, Train Loss: 56.7998, Val mAP@50: 0.5784, FPS: 185.79, Epoch Time: 7.62 seconds\n",
      "Epoch 15/16, Train Loss: 61.4096, Val mAP@50: 0.5791, FPS: 194.58, Epoch Time: 7.41 seconds\n"
     ]
    },
    {
     "name": "stderr",
     "output_type": "stream",
     "text": [
      "[I 2025-01-27 10:39:22,714] Trial 30 finished with value: 0.6203112006187439 and parameters: {'batch_size': 4, 'epochs': 16, 'preweight_mode': 'fine_tuning', 'optimizer': 'Adam', 'lr': 0.0005319609854639868, 'beta1': 0.8424649709981933, 'beta2': 0.9797128035050621, 'scheduler': 'CosineAnnealingLR', 'T_max': 6, 'eta_min': 6.592971327518573e-07}. Best is trial 10 with value: 0.6379993557929993.\n"
     ]
    },
    {
     "name": "stdout",
     "output_type": "stream",
     "text": [
      "Epoch 16/16, Train Loss: 62.0148, Val mAP@50: 0.5984, FPS: 197.99, Epoch Time: 7.37 seconds\n",
      "Best Epoch: 9, Best Val mAP@50: 0.6203, Training Time: 121.28 seconds\n",
      "Model training complete.\n",
      "Checking Model: FasterRCNN\n",
      "Starting Trial #31\n",
      "{'batch_size': 4, 'epochs': 15, 'preweight_mode': 'fine_tuning', 'optimizer': 'Adam', 'lr': 0.000721282926313481, 'beta1': 0.9073359186756311, 'beta2': 0.9910589483762591, 'scheduler': 'CosineAnnealingLR', 'T_max': 6, 'eta_min': 1.4508027487967911e-06}\n",
      "Epoch 1/15, Train Loss: 69.7263, Val mAP@50: 0.3225, FPS: 164.33, Epoch Time: 8.01 seconds\n",
      "Epoch 2/15, Train Loss: 55.7866, Val mAP@50: 0.4676, FPS: 153.23, Epoch Time: 8.12 seconds\n",
      "Epoch 3/15, Train Loss: 54.3156, Val mAP@50: 0.5173, FPS: 138.25, Epoch Time: 7.94 seconds\n",
      "Epoch 4/15, Train Loss: 55.5780, Val mAP@50: 0.5059, FPS: 176.59, Epoch Time: 7.77 seconds\n",
      "Epoch 5/15, Train Loss: 55.5924, Val mAP@50: 0.5659, FPS: 185.92, Epoch Time: 7.49 seconds\n",
      "Epoch 6/15, Train Loss: 52.0553, Val mAP@50: 0.6455, FPS: 188.75, Epoch Time: 7.60 seconds\n",
      "Epoch 7/15, Train Loss: 43.4940, Val mAP@50: 0.6357, FPS: 193.56, Epoch Time: 7.57 seconds\n",
      "Epoch 8/15, Train Loss: 47.6956, Val mAP@50: 0.5986, FPS: 190.89, Epoch Time: 7.52 seconds\n",
      "Epoch 9/15, Train Loss: 51.0153, Val mAP@50: 0.5958, FPS: 187.88, Epoch Time: 7.53 seconds\n",
      "Epoch 10/15, Train Loss: 56.0746, Val mAP@50: 0.5785, FPS: 188.35, Epoch Time: 7.66 seconds\n",
      "Epoch 11/15, Train Loss: 56.2399, Val mAP@50: 0.5733, FPS: 175.19, Epoch Time: 7.83 seconds\n",
      "Epoch 12/15, Train Loss: 50.7297, Val mAP@50: 0.5654, FPS: 176.71, Epoch Time: 7.86 seconds\n",
      "Epoch 13/15, Train Loss: 46.9906, Val mAP@50: 0.5721, FPS: 180.83, Epoch Time: 7.86 seconds\n",
      "Epoch 14/15, Train Loss: 52.9202, Val mAP@50: 0.4812, FPS: 185.15, Epoch Time: 7.71 seconds\n"
     ]
    },
    {
     "name": "stderr",
     "output_type": "stream",
     "text": [
      "[I 2025-01-27 10:41:19,756] Trial 31 finished with value: 0.6454586982727051 and parameters: {'batch_size': 4, 'epochs': 15, 'preweight_mode': 'fine_tuning', 'optimizer': 'Adam', 'lr': 0.000721282926313481, 'beta1': 0.9073359186756311, 'beta2': 0.9910589483762591, 'scheduler': 'CosineAnnealingLR', 'T_max': 6, 'eta_min': 1.4508027487967911e-06}. Best is trial 31 with value: 0.6454586982727051.\n"
     ]
    },
    {
     "name": "stdout",
     "output_type": "stream",
     "text": [
      "Epoch 15/15, Train Loss: 49.7781, Val mAP@50: 0.5503, FPS: 175.69, Epoch Time: 7.82 seconds\n",
      "Best Epoch: 5, Best Val mAP@50: 0.6455, Training Time: 116.28 seconds\n",
      "Model training complete.\n",
      "Checking Model: FasterRCNN\n",
      "Starting Trial #32\n",
      "{'batch_size': 4, 'epochs': 13, 'preweight_mode': 'fine_tuning', 'optimizer': 'Adam', 'lr': 0.000747328094866603, 'beta1': 0.9184861810183848, 'beta2': 0.9924707240831933, 'scheduler': 'CosineAnnealingLR', 'T_max': 6, 'eta_min': 1.748555602066659e-06}\n",
      "Epoch 1/13, Train Loss: 67.9795, Val mAP@50: 0.3521, FPS: 143.32, Epoch Time: 8.20 seconds\n",
      "Epoch 2/13, Train Loss: 55.6527, Val mAP@50: 0.4957, FPS: 147.58, Epoch Time: 8.19 seconds\n",
      "Epoch 3/13, Train Loss: 52.9679, Val mAP@50: 0.5209, FPS: 158.47, Epoch Time: 7.92 seconds\n",
      "Epoch 4/13, Train Loss: 52.3823, Val mAP@50: 0.5329, FPS: 175.07, Epoch Time: 7.92 seconds\n",
      "Epoch 5/13, Train Loss: 53.6315, Val mAP@50: 0.5482, FPS: 187.66, Epoch Time: 7.74 seconds\n"
     ]
    },
    {
     "name": "stderr",
     "output_type": "stream",
     "text": [
      "[I 2025-01-27 10:42:08,030] Trial 32 pruned. \n"
     ]
    },
    {
     "name": "stdout",
     "output_type": "stream",
     "text": [
      "Trial pruned by Optuna at epoch 5.\n",
      "Checking Model: FasterRCNN\n",
      "Starting Trial #33\n",
      "{'batch_size': 4, 'epochs': 15, 'preweight_mode': 'fine_tuning', 'optimizer': 'Adam', 'lr': 0.0014606583988625854, 'beta1': 0.9096168137666544, 'beta2': 0.9917722721616808, 'scheduler': 'CosineAnnealingLR', 'T_max': 6, 'eta_min': 4.775906644563e-06}\n",
      "Epoch 1/15, Train Loss: 117.5898, Val mAP@50: 0.0004, FPS: 136.30, Epoch Time: 9.14 seconds\n",
      "Epoch 2/15, Train Loss: 397.2909, Val mAP@50: 0.0000, FPS: 136.40, Epoch Time: 8.47 seconds\n",
      "Epoch 3/15, Train Loss: 101.9256, Val mAP@50: 0.0000, FPS: 132.79, Epoch Time: 8.39 seconds\n",
      "Epoch 4/15, Train Loss: 92.7404, Val mAP@50: 0.0000, FPS: 136.55, Epoch Time: 8.45 seconds\n"
     ]
    },
    {
     "name": "stderr",
     "output_type": "stream",
     "text": [
      "[I 2025-01-27 10:42:51,601] Trial 33 pruned. \n"
     ]
    },
    {
     "name": "stdout",
     "output_type": "stream",
     "text": [
      "Trial pruned by Optuna at epoch 4.\n",
      "Checking Model: FasterRCNN\n",
      "Starting Trial #34\n",
      "{'batch_size': 5, 'epochs': 12, 'preweight_mode': 'fine_tuning', 'optimizer': 'Adam', 'lr': 0.0009300769803652236, 'beta1': 0.8793729397691183, 'beta2': 0.9806154656554192, 'scheduler': 'StepLR', 'step_size': 2, 'gamma': 0.45296513885327705}\n",
      "Epoch 1/12, Train Loss: 58.5626, Val mAP@50: 0.1835, FPS: 142.64, Epoch Time: 8.08 seconds\n",
      "Epoch 2/12, Train Loss: 45.6519, Val mAP@50: 0.4738, FPS: 155.62, Epoch Time: 7.85 seconds\n",
      "Epoch 3/12, Train Loss: 43.2721, Val mAP@50: 0.5084, FPS: 167.11, Epoch Time: 7.89 seconds\n",
      "Epoch 4/12, Train Loss: 41.5515, Val mAP@50: 0.4919, FPS: 167.98, Epoch Time: 7.82 seconds\n",
      "Epoch 5/12, Train Loss: 45.4421, Val mAP@50: 0.5613, FPS: 192.01, Epoch Time: 7.55 seconds\n",
      "Epoch 6/12, Train Loss: 45.0395, Val mAP@50: 0.5955, FPS: 186.90, Epoch Time: 7.58 seconds\n"
     ]
    },
    {
     "name": "stderr",
     "output_type": "stream",
     "text": [
      "[I 2025-01-27 10:43:46,334] Trial 34 pruned. \n"
     ]
    },
    {
     "name": "stdout",
     "output_type": "stream",
     "text": [
      "Trial pruned by Optuna at epoch 6.\n",
      "Checking Model: FasterRCNN\n",
      "Starting Trial #35\n",
      "{'batch_size': 4, 'epochs': 14, 'preweight_mode': 'fine_tuning', 'optimizer': 'Adam', 'lr': 0.00013490299412555884, 'beta1': 0.9455314170708646, 'beta2': 0.9988755948055906, 'scheduler': 'CosineAnnealingLR', 'T_max': 5, 'eta_min': 2.120065457984413e-07}\n",
      "Epoch 1/14, Train Loss: 60.6942, Val mAP@50: 0.4555, FPS: 168.44, Epoch Time: 8.15 seconds\n",
      "Epoch 2/14, Train Loss: 51.1602, Val mAP@50: 0.5325, FPS: 179.94, Epoch Time: 8.02 seconds\n",
      "Epoch 3/14, Train Loss: 48.5184, Val mAP@50: 0.5635, FPS: 171.19, Epoch Time: 7.77 seconds\n",
      "Epoch 4/14, Train Loss: 45.5919, Val mAP@50: 0.5929, FPS: 179.67, Epoch Time: 7.74 seconds\n",
      "Epoch 5/14, Train Loss: 38.9234, Val mAP@50: 0.5556, FPS: 181.30, Epoch Time: 7.72 seconds\n",
      "Epoch 6/14, Train Loss: 35.5383, Val mAP@50: 0.5623, FPS: 185.19, Epoch Time: 7.77 seconds\n"
     ]
    },
    {
     "name": "stderr",
     "output_type": "stream",
     "text": [
      "[I 2025-01-27 10:44:41,700] Trial 35 pruned. \n"
     ]
    },
    {
     "name": "stdout",
     "output_type": "stream",
     "text": [
      "Trial pruned by Optuna at epoch 6.\n",
      "Checking Model: FasterRCNN\n",
      "Starting Trial #36\n",
      "{'batch_size': 8, 'epochs': 13, 'preweight_mode': 'freezing', 'optimizer': 'RMSprop', 'lr': 0.0023756324368022397, 'weight_decay': 0.8414820082237462, 'momentum': 0.9598174113913033, 'scheduler': 'StepLR', 'step_size': 3, 'gamma': 0.3202866588567753}\n",
      "Epoch 1/13, Train Loss: 164.9911, Val mAP@50: 0.0027, FPS: 218.63, Epoch Time: 6.38 seconds\n",
      "Epoch 2/13, Train Loss: 180.5273, Val mAP@50: 0.0000, FPS: 229.54, Epoch Time: 6.41 seconds\n",
      "Epoch 3/13, Train Loss: 118.6640, Val mAP@50: 0.0000, FPS: 233.21, Epoch Time: 6.17 seconds\n",
      "Epoch 4/13, Train Loss: 90.1875, Val mAP@50: 0.0033, FPS: 233.15, Epoch Time: 6.15 seconds\n",
      "Epoch 5/13, Train Loss: 75.8759, Val mAP@50: 0.0000, FPS: 230.55, Epoch Time: 6.30 seconds\n"
     ]
    },
    {
     "name": "stderr",
     "output_type": "stream",
     "text": [
      "[I 2025-01-27 10:45:20,069] Trial 36 pruned. \n"
     ]
    },
    {
     "name": "stdout",
     "output_type": "stream",
     "text": [
      "Trial pruned by Optuna at epoch 5.\n",
      "Checking Model: FasterRCNN\n",
      "Starting Trial #37\n",
      "{'batch_size': 6, 'epochs': 16, 'preweight_mode': 'fine_tuning', 'optimizer': 'SGD', 'lr': 0.008485326007751044, 'momentum': 0.9238470186393516, 'weight_decay': 0.00029581961904293113, 'scheduler': 'CosineAnnealingLR', 'T_max': 7, 'eta_min': 6.441038468683314e-07}\n",
      "Epoch 1/16, Train Loss: 49.6529, Val mAP@50: 0.4094, FPS: 151.57, Epoch Time: 7.93 seconds\n",
      "Epoch 2/16, Train Loss: 35.3679, Val mAP@50: 0.4009, FPS: 182.84, Epoch Time: 7.70 seconds\n",
      "Epoch 3/16, Train Loss: 32.9051, Val mAP@50: 0.5177, FPS: 163.66, Epoch Time: 7.63 seconds\n",
      "Epoch 4/16, Train Loss: 29.5726, Val mAP@50: 0.6207, FPS: 173.98, Epoch Time: 7.63 seconds\n",
      "Epoch 5/16, Train Loss: 26.4015, Val mAP@50: 0.6175, FPS: 185.47, Epoch Time: 7.51 seconds\n",
      "Epoch 6/16, Train Loss: 25.4274, Val mAP@50: 0.6109, FPS: 186.60, Epoch Time: 7.44 seconds\n",
      "Epoch 7/16, Train Loss: 23.3193, Val mAP@50: 0.6174, FPS: 194.82, Epoch Time: 7.36 seconds\n",
      "Epoch 8/16, Train Loss: 22.1074, Val mAP@50: 0.6174, FPS: 193.82, Epoch Time: 7.30 seconds\n",
      "Epoch 9/16, Train Loss: 23.4687, Val mAP@50: 0.6109, FPS: 195.28, Epoch Time: 7.33 seconds\n",
      "Epoch 10/16, Train Loss: 23.0277, Val mAP@50: 0.6104, FPS: 194.56, Epoch Time: 7.48 seconds\n",
      "Epoch 11/16, Train Loss: 23.9263, Val mAP@50: 0.6036, FPS: 191.44, Epoch Time: 7.39 seconds\n",
      "Epoch 12/16, Train Loss: 24.6541, Val mAP@50: 0.6279, FPS: 190.16, Epoch Time: 7.35 seconds\n",
      "Epoch 13/16, Train Loss: 25.8631, Val mAP@50: 0.6410, FPS: 193.83, Epoch Time: 7.52 seconds\n",
      "Epoch 14/16, Train Loss: 28.6471, Val mAP@50: 0.6285, FPS: 191.29, Epoch Time: 7.51 seconds\n",
      "Epoch 15/16, Train Loss: 27.7357, Val mAP@50: 0.5447, FPS: 181.82, Epoch Time: 7.50 seconds\n"
     ]
    },
    {
     "name": "stderr",
     "output_type": "stream",
     "text": [
      "[I 2025-01-27 10:47:20,876] Trial 37 finished with value: 0.6410071849822998 and parameters: {'batch_size': 6, 'epochs': 16, 'preweight_mode': 'fine_tuning', 'optimizer': 'SGD', 'lr': 0.008485326007751044, 'momentum': 0.9238470186393516, 'weight_decay': 0.00029581961904293113, 'scheduler': 'CosineAnnealingLR', 'T_max': 7, 'eta_min': 6.441038468683314e-07}. Best is trial 31 with value: 0.6454586982727051.\n"
     ]
    },
    {
     "name": "stdout",
     "output_type": "stream",
     "text": [
      "Epoch 16/16, Train Loss: 27.1165, Val mAP@50: 0.6281, FPS: 195.97, Epoch Time: 7.50 seconds\n",
      "Best Epoch: 12, Best Val mAP@50: 0.6410, Training Time: 120.07 seconds\n",
      "Model training complete.\n",
      "Checking Model: FasterRCNN\n",
      "Starting Trial #38\n",
      "{'batch_size': 6, 'epochs': 18, 'preweight_mode': 'random', 'optimizer': 'SGD', 'lr': 0.009474343651228113, 'momentum': 0.9242464097805966, 'weight_decay': 0.0002983194705593533, 'scheduler': 'OneCycleLR', 'max_lr': 0.0014325835720502796}\n",
      "Epoch 1/18, Train Loss: 89.9140, Val mAP@50: 0.0000, FPS: 145.14, Epoch Time: 8.25 seconds\n",
      "Epoch 2/18, Train Loss: 69.2066, Val mAP@50: 0.0000, FPS: 146.36, Epoch Time: 8.31 seconds\n",
      "Epoch 3/18, Train Loss: 67.9781, Val mAP@50: 0.0000, FPS: 143.88, Epoch Time: 8.39 seconds\n",
      "Epoch 4/18, Train Loss: 66.3662, Val mAP@50: 0.0000, FPS: 146.25, Epoch Time: 8.26 seconds\n"
     ]
    },
    {
     "name": "stderr",
     "output_type": "stream",
     "text": [
      "[I 2025-01-27 10:48:02,979] Trial 38 pruned. \n"
     ]
    },
    {
     "name": "stdout",
     "output_type": "stream",
     "text": [
      "Trial pruned by Optuna at epoch 4.\n",
      "Checking Model: FasterRCNN\n",
      "Starting Trial #39\n",
      "{'batch_size': 6, 'epochs': 16, 'preweight_mode': 'fine_tuning', 'optimizer': 'SGD', 'lr': 0.009428911297070585, 'momentum': 0.9351869622747583, 'weight_decay': 0.000370941515309663, 'scheduler': 'ReduceLROnPlateau', 'factor': 0.47293999545416054, 'patience': 5}\n",
      "Epoch 1/16, Train Loss: 41.9476, Val mAP@50: 0.4401, FPS: 172.29, Epoch Time: 7.81 seconds\n",
      "Epoch 2/16, Train Loss: 32.7538, Val mAP@50: 0.5773, FPS: 168.37, Epoch Time: 7.74 seconds\n",
      "Epoch 3/16, Train Loss: 32.5418, Val mAP@50: 0.5116, FPS: 183.33, Epoch Time: 7.62 seconds\n",
      "Epoch 4/16, Train Loss: 31.7856, Val mAP@50: 0.5195, FPS: 182.48, Epoch Time: 7.51 seconds\n",
      "Epoch 5/16, Train Loss: 31.8695, Val mAP@50: 0.5721, FPS: 179.83, Epoch Time: 7.47 seconds\n",
      "Epoch 6/16, Train Loss: 31.0537, Val mAP@50: 0.6357, FPS: 188.63, Epoch Time: 7.39 seconds\n",
      "Epoch 7/16, Train Loss: 30.0416, Val mAP@50: 0.6342, FPS: 193.34, Epoch Time: 7.39 seconds\n",
      "Epoch 8/16, Train Loss: 29.1206, Val mAP@50: 0.5545, FPS: 198.01, Epoch Time: 7.32 seconds\n",
      "Epoch 9/16, Train Loss: 29.8520, Val mAP@50: 0.5803, FPS: 203.24, Epoch Time: 7.35 seconds\n",
      "Epoch 10/16, Train Loss: 29.5479, Val mAP@50: 0.5563, FPS: 201.45, Epoch Time: 7.29 seconds\n",
      "Epoch 11/16, Train Loss: 30.3653, Val mAP@50: 0.5755, FPS: 193.62, Epoch Time: 7.40 seconds\n",
      "Epoch 12/16, Train Loss: 29.3164, Val mAP@50: 0.6152, FPS: 203.26, Epoch Time: 7.42 seconds\n",
      "Epoch 13/16, Train Loss: 27.1020, Val mAP@50: 0.6269, FPS: 207.90, Epoch Time: 7.27 seconds\n",
      "Epoch 14/16, Train Loss: 23.7314, Val mAP@50: 0.6410, FPS: 206.69, Epoch Time: 7.21 seconds\n",
      "Epoch 15/16, Train Loss: 21.9777, Val mAP@50: 0.6458, FPS: 208.84, Epoch Time: 7.20 seconds\n"
     ]
    },
    {
     "name": "stderr",
     "output_type": "stream",
     "text": [
      "[I 2025-01-27 10:50:02,335] Trial 39 finished with value: 0.645756185054779 and parameters: {'batch_size': 6, 'epochs': 16, 'preweight_mode': 'fine_tuning', 'optimizer': 'SGD', 'lr': 0.009428911297070585, 'momentum': 0.9351869622747583, 'weight_decay': 0.000370941515309663, 'scheduler': 'ReduceLROnPlateau', 'factor': 0.47293999545416054, 'patience': 5}. Best is trial 39 with value: 0.645756185054779.\n"
     ]
    },
    {
     "name": "stdout",
     "output_type": "stream",
     "text": [
      "Epoch 16/16, Train Loss: 22.6443, Val mAP@50: 0.6224, FPS: 211.93, Epoch Time: 7.16 seconds\n",
      "Best Epoch: 14, Best Val mAP@50: 0.6458, Training Time: 118.56 seconds\n",
      "Model training complete.\n",
      "Checking Model: FasterRCNN\n",
      "Starting Trial #40\n",
      "{'batch_size': 6, 'epochs': 16, 'preweight_mode': 'freezing', 'optimizer': 'SGD', 'lr': 0.009672589476796136, 'momentum': 0.9333398062452503, 'weight_decay': 0.00023364612600066114, 'scheduler': 'ReduceLROnPlateau', 'factor': 0.49654916076986777, 'patience': 5}\n",
      "Epoch 1/16, Train Loss: 170.9441, Val mAP@50: 0.0000, FPS: 226.52, Epoch Time: 6.42 seconds\n",
      "Epoch 2/16, Train Loss: 152.7376, Val mAP@50: 0.0349, FPS: 237.22, Epoch Time: 6.33 seconds\n",
      "Epoch 3/16, Train Loss: 123.1250, Val mAP@50: 0.0588, FPS: 240.37, Epoch Time: 6.27 seconds\n",
      "Epoch 4/16, Train Loss: 146.8234, Val mAP@50: 0.0200, FPS: 238.08, Epoch Time: 6.15 seconds\n",
      "Epoch 5/16, Train Loss: 123.1437, Val mAP@50: 0.0366, FPS: 235.19, Epoch Time: 6.21 seconds\n"
     ]
    },
    {
     "name": "stderr",
     "output_type": "stream",
     "text": [
      "[I 2025-01-27 10:50:40,528] Trial 40 pruned. \n"
     ]
    },
    {
     "name": "stdout",
     "output_type": "stream",
     "text": [
      "Trial pruned by Optuna at epoch 5.\n",
      "Checking Model: FasterRCNN\n",
      "Starting Trial #41\n",
      "{'batch_size': 6, 'epochs': 17, 'preweight_mode': 'fine_tuning', 'optimizer': 'SGD', 'lr': 0.008440408604148783, 'momentum': 0.9339820467344272, 'weight_decay': 0.0004239406577756143, 'scheduler': 'ReduceLROnPlateau', 'factor': 0.39612486462493685, 'patience': 4}\n",
      "Epoch 1/17, Train Loss: 43.3208, Val mAP@50: 0.4048, FPS: 172.82, Epoch Time: 7.49 seconds\n",
      "Epoch 2/17, Train Loss: 33.8411, Val mAP@50: 0.5187, FPS: 163.34, Epoch Time: 7.46 seconds\n",
      "Epoch 3/17, Train Loss: 32.1148, Val mAP@50: 0.5175, FPS: 194.04, Epoch Time: 7.63 seconds\n",
      "Epoch 4/17, Train Loss: 32.9171, Val mAP@50: 0.6385, FPS: 183.94, Epoch Time: 7.51 seconds\n",
      "Epoch 5/17, Train Loss: 32.8345, Val mAP@50: 0.5927, FPS: 186.98, Epoch Time: 7.48 seconds\n",
      "Epoch 6/17, Train Loss: 31.2554, Val mAP@50: 0.6231, FPS: 194.07, Epoch Time: 7.42 seconds\n",
      "Epoch 7/17, Train Loss: 30.6757, Val mAP@50: 0.6187, FPS: 195.09, Epoch Time: 7.46 seconds\n",
      "Epoch 8/17, Train Loss: 31.1047, Val mAP@50: 0.6230, FPS: 196.98, Epoch Time: 7.26 seconds\n",
      "Epoch 9/17, Train Loss: 28.8042, Val mAP@50: 0.5695, FPS: 204.45, Epoch Time: 7.11 seconds\n",
      "Epoch 10/17, Train Loss: 26.1092, Val mAP@50: 0.6426, FPS: 210.65, Epoch Time: 7.03 seconds\n",
      "Epoch 11/17, Train Loss: 23.5531, Val mAP@50: 0.6588, FPS: 206.00, Epoch Time: 7.05 seconds\n",
      "Epoch 12/17, Train Loss: 21.8866, Val mAP@50: 0.6263, FPS: 211.44, Epoch Time: 6.98 seconds\n",
      "Epoch 13/17, Train Loss: 21.0785, Val mAP@50: 0.6072, FPS: 211.81, Epoch Time: 7.17 seconds\n",
      "Epoch 14/17, Train Loss: 21.0521, Val mAP@50: 0.6203, FPS: 212.03, Epoch Time: 7.16 seconds\n",
      "Epoch 15/17, Train Loss: 21.5767, Val mAP@50: 0.6272, FPS: 214.96, Epoch Time: 7.01 seconds\n",
      "Epoch 16/17, Train Loss: 21.9598, Val mAP@50: 0.6473, FPS: 212.04, Epoch Time: 6.97 seconds\n"
     ]
    },
    {
     "name": "stderr",
     "output_type": "stream",
     "text": [
      "[I 2025-01-27 10:52:44,385] Trial 41 finished with value: 0.6588242053985596 and parameters: {'batch_size': 6, 'epochs': 17, 'preweight_mode': 'fine_tuning', 'optimizer': 'SGD', 'lr': 0.008440408604148783, 'momentum': 0.9339820467344272, 'weight_decay': 0.0004239406577756143, 'scheduler': 'ReduceLROnPlateau', 'factor': 0.39612486462493685, 'patience': 4}. Best is trial 41 with value: 0.6588242053985596.\n"
     ]
    },
    {
     "name": "stdout",
     "output_type": "stream",
     "text": [
      "Epoch 17/17, Train Loss: 17.8764, Val mAP@50: 0.6290, FPS: 212.14, Epoch Time: 6.93 seconds\n",
      "Best Epoch: 10, Best Val mAP@50: 0.6588, Training Time: 123.13 seconds\n",
      "Model training complete.\n",
      "Checking Model: FasterRCNN\n",
      "Starting Trial #42\n",
      "{'batch_size': 6, 'epochs': 16, 'preweight_mode': 'fine_tuning', 'optimizer': 'SGD', 'lr': 0.008569774160534532, 'momentum': 0.9349026942143894, 'weight_decay': 0.0003185177091235104, 'scheduler': 'ReduceLROnPlateau', 'factor': 0.4037135756729977, 'patience': 4}\n",
      "Epoch 1/16, Train Loss: 42.6323, Val mAP@50: 0.4740, FPS: 169.07, Epoch Time: 7.64 seconds\n",
      "Epoch 2/16, Train Loss: 33.7501, Val mAP@50: 0.5640, FPS: 170.03, Epoch Time: 7.60 seconds\n",
      "Epoch 3/16, Train Loss: 32.2207, Val mAP@50: 0.5670, FPS: 190.83, Epoch Time: 7.51 seconds\n",
      "Epoch 4/16, Train Loss: 31.9041, Val mAP@50: 0.5883, FPS: 190.56, Epoch Time: 7.52 seconds\n",
      "Epoch 5/16, Train Loss: 30.4691, Val mAP@50: 0.6291, FPS: 176.13, Epoch Time: 7.56 seconds\n",
      "Epoch 6/16, Train Loss: 30.7399, Val mAP@50: 0.5835, FPS: 196.56, Epoch Time: 7.46 seconds\n",
      "Epoch 7/16, Train Loss: 30.1803, Val mAP@50: 0.5682, FPS: 200.60, Epoch Time: 7.38 seconds\n",
      "Epoch 8/16, Train Loss: 29.9436, Val mAP@50: 0.6326, FPS: 198.16, Epoch Time: 7.26 seconds\n",
      "Epoch 9/16, Train Loss: 29.3067, Val mAP@50: 0.5973, FPS: 200.15, Epoch Time: 7.17 seconds\n",
      "Epoch 10/16, Train Loss: 29.5973, Val mAP@50: 0.6058, FPS: 197.82, Epoch Time: 7.20 seconds\n",
      "Epoch 11/16, Train Loss: 28.7004, Val mAP@50: 0.6094, FPS: 204.31, Epoch Time: 7.17 seconds\n",
      "Epoch 12/16, Train Loss: 30.6434, Val mAP@50: 0.6192, FPS: 207.21, Epoch Time: 7.17 seconds\n",
      "Epoch 13/16, Train Loss: 31.7852, Val mAP@50: 0.5534, FPS: 206.57, Epoch Time: 7.09 seconds\n",
      "Epoch 14/16, Train Loss: 28.5689, Val mAP@50: 0.6131, FPS: 210.92, Epoch Time: 7.06 seconds\n",
      "Epoch 15/16, Train Loss: 23.0122, Val mAP@50: 0.6260, FPS: 210.88, Epoch Time: 7.07 seconds\n"
     ]
    },
    {
     "name": "stderr",
     "output_type": "stream",
     "text": [
      "[I 2025-01-27 10:54:42,087] Trial 42 finished with value: 0.6325883865356445 and parameters: {'batch_size': 6, 'epochs': 16, 'preweight_mode': 'fine_tuning', 'optimizer': 'SGD', 'lr': 0.008569774160534532, 'momentum': 0.9349026942143894, 'weight_decay': 0.0003185177091235104, 'scheduler': 'ReduceLROnPlateau', 'factor': 0.4037135756729977, 'patience': 4}. Best is trial 41 with value: 0.6588242053985596.\n"
     ]
    },
    {
     "name": "stdout",
     "output_type": "stream",
     "text": [
      "Epoch 16/16, Train Loss: 21.3373, Val mAP@50: 0.6230, FPS: 213.43, Epoch Time: 7.05 seconds\n",
      "Best Epoch: 7, Best Val mAP@50: 0.6326, Training Time: 116.91 seconds\n",
      "Model training complete.\n",
      "Checking Model: FasterRCNN\n",
      "Starting Trial #43\n",
      "{'batch_size': 6, 'epochs': 17, 'preweight_mode': 'fine_tuning', 'optimizer': 'SGD', 'lr': 0.00758689985669769, 'momentum': 0.9357488350169446, 'weight_decay': 0.0004890630971500707, 'scheduler': 'ReduceLROnPlateau', 'factor': 0.3855108194768475, 'patience': 5}\n",
      "Epoch 1/17, Train Loss: 45.8029, Val mAP@50: 0.3566, FPS: 168.56, Epoch Time: 7.67 seconds\n",
      "Epoch 2/17, Train Loss: 34.8776, Val mAP@50: 0.5513, FPS: 170.10, Epoch Time: 7.58 seconds\n",
      "Epoch 3/17, Train Loss: 31.9100, Val mAP@50: 0.5567, FPS: 184.25, Epoch Time: 7.49 seconds\n",
      "Epoch 4/17, Train Loss: 31.6372, Val mAP@50: 0.5835, FPS: 195.75, Epoch Time: 7.40 seconds\n",
      "Epoch 5/17, Train Loss: 30.5801, Val mAP@50: 0.6028, FPS: 184.19, Epoch Time: 7.39 seconds\n",
      "Epoch 6/17, Train Loss: 29.5180, Val mAP@50: 0.5198, FPS: 199.76, Epoch Time: 7.21 seconds\n",
      "Epoch 7/17, Train Loss: 29.5319, Val mAP@50: 0.6236, FPS: 187.49, Epoch Time: 7.32 seconds\n",
      "Epoch 8/17, Train Loss: 28.7808, Val mAP@50: 0.6387, FPS: 189.20, Epoch Time: 7.31 seconds\n",
      "Epoch 9/17, Train Loss: 28.7517, Val mAP@50: 0.5888, FPS: 203.76, Epoch Time: 7.28 seconds\n",
      "Epoch 10/17, Train Loss: 27.9465, Val mAP@50: 0.5513, FPS: 205.42, Epoch Time: 7.17 seconds\n",
      "Epoch 11/17, Train Loss: 27.4043, Val mAP@50: 0.6065, FPS: 211.02, Epoch Time: 7.08 seconds\n",
      "Epoch 12/17, Train Loss: 29.1219, Val mAP@50: 0.6328, FPS: 203.55, Epoch Time: 7.08 seconds\n",
      "Epoch 13/17, Train Loss: 28.2681, Val mAP@50: 0.6193, FPS: 211.24, Epoch Time: 7.09 seconds\n",
      "Epoch 14/17, Train Loss: 28.9645, Val mAP@50: 0.5890, FPS: 208.61, Epoch Time: 7.07 seconds\n",
      "Epoch 15/17, Train Loss: 25.0707, Val mAP@50: 0.6429, FPS: 213.84, Epoch Time: 7.11 seconds\n",
      "Epoch 16/17, Train Loss: 21.4902, Val mAP@50: 0.6573, FPS: 214.02, Epoch Time: 7.08 seconds\n"
     ]
    },
    {
     "name": "stderr",
     "output_type": "stream",
     "text": [
      "[I 2025-01-27 10:56:46,270] Trial 43 finished with value: 0.6572917103767395 and parameters: {'batch_size': 6, 'epochs': 17, 'preweight_mode': 'fine_tuning', 'optimizer': 'SGD', 'lr': 0.00758689985669769, 'momentum': 0.9357488350169446, 'weight_decay': 0.0004890630971500707, 'scheduler': 'ReduceLROnPlateau', 'factor': 0.3855108194768475, 'patience': 5}. Best is trial 41 with value: 0.6588242053985596.\n"
     ]
    },
    {
     "name": "stdout",
     "output_type": "stream",
     "text": [
      "Epoch 17/17, Train Loss: 20.7389, Val mAP@50: 0.6324, FPS: 215.91, Epoch Time: 7.12 seconds\n",
      "Best Epoch: 15, Best Val mAP@50: 0.6573, Training Time: 123.44 seconds\n",
      "Model training complete.\n",
      "Checking Model: FasterRCNN\n",
      "Starting Trial #44\n",
      "{'batch_size': 6, 'epochs': 17, 'preweight_mode': 'fine_tuning', 'optimizer': 'SGD', 'lr': 0.007472278415433388, 'momentum': 0.9352244683262341, 'weight_decay': 0.0004454194111895915, 'scheduler': 'ReduceLROnPlateau', 'factor': 0.39677932506850566, 'patience': 5}\n",
      "Epoch 1/17, Train Loss: 43.0613, Val mAP@50: 0.3480, FPS: 182.53, Epoch Time: 7.75 seconds\n",
      "Epoch 2/17, Train Loss: 33.9071, Val mAP@50: 0.5429, FPS: 165.82, Epoch Time: 7.65 seconds\n",
      "Epoch 3/17, Train Loss: 32.2890, Val mAP@50: 0.5004, FPS: 195.84, Epoch Time: 7.33 seconds\n",
      "Epoch 4/17, Train Loss: 30.0032, Val mAP@50: 0.5951, FPS: 192.44, Epoch Time: 7.36 seconds\n",
      "Epoch 5/17, Train Loss: 30.6943, Val mAP@50: 0.6257, FPS: 184.90, Epoch Time: 7.29 seconds\n",
      "Epoch 6/17, Train Loss: 30.2960, Val mAP@50: 0.6121, FPS: 197.68, Epoch Time: 7.27 seconds\n",
      "Epoch 7/17, Train Loss: 29.5914, Val mAP@50: 0.6253, FPS: 197.67, Epoch Time: 7.26 seconds\n",
      "Epoch 8/17, Train Loss: 30.5541, Val mAP@50: 0.5634, FPS: 201.79, Epoch Time: 7.10 seconds\n",
      "Epoch 9/17, Train Loss: 31.0146, Val mAP@50: 0.5439, FPS: 205.63, Epoch Time: 7.24 seconds\n",
      "Epoch 10/17, Train Loss: 29.6294, Val mAP@50: 0.5570, FPS: 207.63, Epoch Time: 7.25 seconds\n",
      "Epoch 11/17, Train Loss: 29.6989, Val mAP@50: 0.5954, FPS: 205.01, Epoch Time: 7.26 seconds\n",
      "Epoch 12/17, Train Loss: 25.8400, Val mAP@50: 0.5831, FPS: 211.54, Epoch Time: 7.25 seconds\n",
      "Epoch 13/17, Train Loss: 21.4293, Val mAP@50: 0.6141, FPS: 209.21, Epoch Time: 7.24 seconds\n",
      "Epoch 14/17, Train Loss: 20.4417, Val mAP@50: 0.6210, FPS: 210.73, Epoch Time: 7.06 seconds\n",
      "Epoch 15/17, Train Loss: 20.5105, Val mAP@50: 0.5940, FPS: 216.24, Epoch Time: 7.00 seconds\n",
      "Epoch 16/17, Train Loss: 19.3870, Val mAP@50: 0.6223, FPS: 217.60, Epoch Time: 7.00 seconds\n"
     ]
    },
    {
     "name": "stderr",
     "output_type": "stream",
     "text": [
      "[I 2025-01-27 10:58:50,323] Trial 44 finished with value: 0.6257473826408386 and parameters: {'batch_size': 6, 'epochs': 17, 'preweight_mode': 'fine_tuning', 'optimizer': 'SGD', 'lr': 0.007472278415433388, 'momentum': 0.9352244683262341, 'weight_decay': 0.0004454194111895915, 'scheduler': 'ReduceLROnPlateau', 'factor': 0.39677932506850566, 'patience': 5}. Best is trial 41 with value: 0.6588242053985596.\n"
     ]
    },
    {
     "name": "stdout",
     "output_type": "stream",
     "text": [
      "Epoch 17/17, Train Loss: 18.1701, Val mAP@50: 0.6069, FPS: 215.12, Epoch Time: 6.99 seconds\n",
      "Best Epoch: 4, Best Val mAP@50: 0.6257, Training Time: 123.30 seconds\n",
      "Model training complete.\n",
      "Checking Model: FasterRCNN\n",
      "Starting Trial #45\n",
      "{'batch_size': 6, 'epochs': 18, 'preweight_mode': 'fine_tuning', 'optimizer': 'SGD', 'lr': 0.012909919259713926, 'momentum': 0.928386694708311, 'weight_decay': 0.00016302361547965928, 'scheduler': 'ReduceLROnPlateau', 'factor': 0.40405810529420044, 'patience': 4}\n",
      "Epoch 1/18, Train Loss: 41.7046, Val mAP@50: 0.4405, FPS: 162.56, Epoch Time: 7.63 seconds\n",
      "Epoch 2/18, Train Loss: 33.2206, Val mAP@50: 0.4762, FPS: 180.13, Epoch Time: 7.47 seconds\n",
      "Epoch 3/18, Train Loss: 33.1746, Val mAP@50: 0.6098, FPS: 174.53, Epoch Time: 7.38 seconds\n",
      "Epoch 4/18, Train Loss: 31.4830, Val mAP@50: 0.5676, FPS: 188.24, Epoch Time: 7.34 seconds\n",
      "Epoch 5/18, Train Loss: 32.5585, Val mAP@50: 0.5865, FPS: 186.87, Epoch Time: 7.27 seconds\n",
      "Epoch 6/18, Train Loss: 29.8508, Val mAP@50: 0.5884, FPS: 202.81, Epoch Time: 7.24 seconds\n",
      "Epoch 7/18, Train Loss: 31.3175, Val mAP@50: 0.5975, FPS: 196.51, Epoch Time: 7.18 seconds\n",
      "Epoch 8/18, Train Loss: 29.9708, Val mAP@50: 0.6089, FPS: 204.91, Epoch Time: 7.13 seconds\n",
      "Epoch 9/18, Train Loss: 27.9177, Val mAP@50: 0.6116, FPS: 211.10, Epoch Time: 6.97 seconds\n",
      "Epoch 10/18, Train Loss: 25.6038, Val mAP@50: 0.6029, FPS: 209.85, Epoch Time: 6.99 seconds\n",
      "Epoch 11/18, Train Loss: 24.3245, Val mAP@50: 0.6221, FPS: 210.35, Epoch Time: 6.92 seconds\n",
      "Epoch 12/18, Train Loss: 23.7395, Val mAP@50: 0.6097, FPS: 212.83, Epoch Time: 7.05 seconds\n",
      "Epoch 13/18, Train Loss: 24.3536, Val mAP@50: 0.5975, FPS: 211.62, Epoch Time: 7.07 seconds\n",
      "Epoch 14/18, Train Loss: 25.1601, Val mAP@50: 0.6512, FPS: 213.69, Epoch Time: 7.06 seconds\n",
      "Epoch 15/18, Train Loss: 22.9925, Val mAP@50: 0.6494, FPS: 213.31, Epoch Time: 6.94 seconds\n",
      "Epoch 16/18, Train Loss: 24.2063, Val mAP@50: 0.6441, FPS: 213.66, Epoch Time: 6.97 seconds\n",
      "Epoch 17/18, Train Loss: 24.0363, Val mAP@50: 0.6574, FPS: 215.47, Epoch Time: 7.00 seconds\n"
     ]
    },
    {
     "name": "stderr",
     "output_type": "stream",
     "text": [
      "[I 2025-01-27 11:00:59,728] Trial 45 finished with value: 0.6574479341506958 and parameters: {'batch_size': 6, 'epochs': 18, 'preweight_mode': 'fine_tuning', 'optimizer': 'SGD', 'lr': 0.012909919259713926, 'momentum': 0.928386694708311, 'weight_decay': 0.00016302361547965928, 'scheduler': 'ReduceLROnPlateau', 'factor': 0.40405810529420044, 'patience': 4}. Best is trial 41 with value: 0.6588242053985596.\n"
     ]
    },
    {
     "name": "stdout",
     "output_type": "stream",
     "text": [
      "Epoch 18/18, Train Loss: 22.3911, Val mAP@50: 0.6330, FPS: 211.96, Epoch Time: 7.02 seconds\n",
      "Best Epoch: 16, Best Val mAP@50: 0.6574, Training Time: 128.64 seconds\n",
      "Model training complete.\n",
      "Checking Model: FasterRCNN\n",
      "Starting Trial #46\n",
      "{'batch_size': 7, 'epochs': 18, 'preweight_mode': 'fine_tuning', 'optimizer': 'SGD', 'lr': 0.012738859879869717, 'momentum': 0.9398309021345751, 'weight_decay': 0.00015553544739953273, 'scheduler': 'ReduceLROnPlateau', 'factor': 0.39891841239665954, 'patience': 4}\n",
      "Epoch 1/18, Train Loss: 37.1476, Val mAP@50: 0.4584, FPS: 171.04, Epoch Time: 7.43 seconds\n",
      "Epoch 2/18, Train Loss: 29.8585, Val mAP@50: 0.4897, FPS: 161.90, Epoch Time: 7.21 seconds\n",
      "Epoch 3/18, Train Loss: 28.7448, Val mAP@50: 0.5833, FPS: 177.17, Epoch Time: 7.15 seconds\n",
      "Epoch 4/18, Train Loss: 26.9543, Val mAP@50: 0.5293, FPS: 187.41, Epoch Time: 7.34 seconds\n",
      "Epoch 5/18, Train Loss: 27.2496, Val mAP@50: 0.5983, FPS: 194.64, Epoch Time: 7.25 seconds\n",
      "Epoch 6/18, Train Loss: 26.3482, Val mAP@50: 0.5214, FPS: 206.19, Epoch Time: 7.11 seconds\n",
      "Epoch 7/18, Train Loss: 26.0884, Val mAP@50: 0.6050, FPS: 191.37, Epoch Time: 7.14 seconds\n",
      "Epoch 8/18, Train Loss: 25.9449, Val mAP@50: 0.6423, FPS: 198.75, Epoch Time: 7.00 seconds\n",
      "Epoch 9/18, Train Loss: 24.6023, Val mAP@50: 0.6060, FPS: 198.77, Epoch Time: 6.98 seconds\n",
      "Epoch 10/18, Train Loss: 25.5275, Val mAP@50: 0.5992, FPS: 201.99, Epoch Time: 7.00 seconds\n",
      "Epoch 11/18, Train Loss: 27.6436, Val mAP@50: 0.5807, FPS: 206.30, Epoch Time: 6.98 seconds\n",
      "Epoch 12/18, Train Loss: 26.6970, Val mAP@50: 0.6364, FPS: 196.18, Epoch Time: 6.98 seconds\n",
      "Epoch 13/18, Train Loss: 28.3302, Val mAP@50: 0.5804, FPS: 213.78, Epoch Time: 6.94 seconds\n",
      "Epoch 14/18, Train Loss: 25.3686, Val mAP@50: 0.5822, FPS: 215.90, Epoch Time: 6.88 seconds\n",
      "Epoch 15/18, Train Loss: 21.6526, Val mAP@50: 0.6040, FPS: 216.29, Epoch Time: 6.84 seconds\n",
      "Epoch 16/18, Train Loss: 19.8630, Val mAP@50: 0.6067, FPS: 216.95, Epoch Time: 6.84 seconds\n",
      "Epoch 17/18, Train Loss: 20.4317, Val mAP@50: 0.6206, FPS: 218.43, Epoch Time: 6.78 seconds\n"
     ]
    },
    {
     "name": "stderr",
     "output_type": "stream",
     "text": [
      "[I 2025-01-27 11:03:07,206] Trial 46 finished with value: 0.6422573924064636 and parameters: {'batch_size': 7, 'epochs': 18, 'preweight_mode': 'fine_tuning', 'optimizer': 'SGD', 'lr': 0.012738859879869717, 'momentum': 0.9398309021345751, 'weight_decay': 0.00015553544739953273, 'scheduler': 'ReduceLROnPlateau', 'factor': 0.39891841239665954, 'patience': 4}. Best is trial 41 with value: 0.6588242053985596.\n"
     ]
    },
    {
     "name": "stdout",
     "output_type": "stream",
     "text": [
      "Epoch 18/18, Train Loss: 20.2814, Val mAP@50: 0.6210, FPS: 217.95, Epoch Time: 6.86 seconds\n",
      "Best Epoch: 7, Best Val mAP@50: 0.6423, Training Time: 126.72 seconds\n",
      "Model training complete.\n",
      "Checking Model: FasterRCNN\n",
      "Starting Trial #47\n",
      "{'batch_size': 6, 'epochs': 17, 'preweight_mode': 'fine_tuning', 'optimizer': 'SGD', 'lr': 0.013335731362188661, 'momentum': 0.9511058207476546, 'weight_decay': 0.0005282307707082831, 'scheduler': 'ReduceLROnPlateau', 'factor': 0.4121754367286583, 'patience': 5}\n",
      "Epoch 1/17, Train Loss: 42.4838, Val mAP@50: 0.3189, FPS: 174.88, Epoch Time: 7.72 seconds\n",
      "Epoch 2/17, Train Loss: 35.5313, Val mAP@50: 0.5360, FPS: 171.78, Epoch Time: 7.50 seconds\n",
      "Epoch 3/17, Train Loss: 32.8214, Val mAP@50: 0.6093, FPS: 177.17, Epoch Time: 7.50 seconds\n",
      "Epoch 4/17, Train Loss: 31.5333, Val mAP@50: 0.5896, FPS: 173.41, Epoch Time: 7.39 seconds\n",
      "Epoch 5/17, Train Loss: 32.6386, Val mAP@50: 0.5606, FPS: 175.79, Epoch Time: 7.36 seconds\n",
      "Epoch 6/17, Train Loss: 33.5976, Val mAP@50: 0.5287, FPS: 190.72, Epoch Time: 7.34 seconds\n",
      "Epoch 7/17, Train Loss: 32.9495, Val mAP@50: 0.5669, FPS: 185.32, Epoch Time: 7.32 seconds\n",
      "Epoch 8/17, Train Loss: 30.9605, Val mAP@50: 0.5934, FPS: 185.97, Epoch Time: 7.25 seconds\n",
      "Epoch 9/17, Train Loss: 30.1097, Val mAP@50: 0.6005, FPS: 184.43, Epoch Time: 7.23 seconds\n",
      "Epoch 10/17, Train Loss: 27.4118, Val mAP@50: 0.5988, FPS: 208.79, Epoch Time: 7.13 seconds\n",
      "Epoch 11/17, Train Loss: 26.2720, Val mAP@50: 0.6187, FPS: 207.99, Epoch Time: 7.10 seconds\n",
      "Epoch 12/17, Train Loss: 26.6048, Val mAP@50: 0.6228, FPS: 208.82, Epoch Time: 7.07 seconds\n",
      "Epoch 13/17, Train Loss: 25.0071, Val mAP@50: 0.5890, FPS: 206.97, Epoch Time: 7.08 seconds\n",
      "Epoch 14/17, Train Loss: 25.6191, Val mAP@50: 0.6150, FPS: 208.96, Epoch Time: 7.08 seconds\n",
      "Epoch 15/17, Train Loss: 23.6429, Val mAP@50: 0.6233, FPS: 213.57, Epoch Time: 7.11 seconds\n",
      "Epoch 16/17, Train Loss: 23.3017, Val mAP@50: 0.5923, FPS: 212.99, Epoch Time: 7.04 seconds\n"
     ]
    },
    {
     "name": "stderr",
     "output_type": "stream",
     "text": [
      "[I 2025-01-27 11:05:11,219] Trial 47 finished with value: 0.6232922673225403 and parameters: {'batch_size': 6, 'epochs': 17, 'preweight_mode': 'fine_tuning', 'optimizer': 'SGD', 'lr': 0.013335731362188661, 'momentum': 0.9511058207476546, 'weight_decay': 0.0005282307707082831, 'scheduler': 'ReduceLROnPlateau', 'factor': 0.4121754367286583, 'patience': 5}. Best is trial 41 with value: 0.6588242053985596.\n"
     ]
    },
    {
     "name": "stdout",
     "output_type": "stream",
     "text": [
      "Epoch 17/17, Train Loss: 24.5206, Val mAP@50: 0.6154, FPS: 214.47, Epoch Time: 7.05 seconds\n",
      "Best Epoch: 14, Best Val mAP@50: 0.6233, Training Time: 123.25 seconds\n",
      "Model training complete.\n",
      "Checking Model: FasterRCNN\n",
      "Starting Trial #48\n",
      "{'batch_size': 7, 'epochs': 17, 'preweight_mode': 'freezing', 'optimizer': 'SGD', 'lr': 0.03371057364443904, 'momentum': 0.9288350062919759, 'weight_decay': 0.0001248955418031972, 'scheduler': 'ReduceLROnPlateau', 'factor': 0.3419867826120218, 'patience': 4}\n",
      "Epoch 1/17, Train Loss: 271.3059, Val mAP@50: 0.0119, FPS: 230.76, Epoch Time: 6.31 seconds\n",
      "Epoch 2/17, Train Loss: 361.7290, Val mAP@50: 0.0000, FPS: 225.39, Epoch Time: 6.31 seconds\n",
      "Epoch 3/17, Train Loss: 215.7600, Val mAP@50: 0.0000, FPS: 224.89, Epoch Time: 6.32 seconds\n",
      "Epoch 4/17, Train Loss: 179.5005, Val mAP@50: 0.0000, FPS: 232.52, Epoch Time: 6.30 seconds\n",
      "Epoch 5/17, Train Loss: 201.4984, Val mAP@50: 0.0043, FPS: 224.61, Epoch Time: 6.31 seconds\n"
     ]
    },
    {
     "name": "stderr",
     "output_type": "stream",
     "text": [
      "[I 2025-01-27 11:05:49,705] Trial 48 pruned. \n"
     ]
    },
    {
     "name": "stdout",
     "output_type": "stream",
     "text": [
      "Trial pruned by Optuna at epoch 5.\n",
      "Checking Model: FasterRCNN\n",
      "Starting Trial #49\n",
      "{'batch_size': 8, 'epochs': 18, 'preweight_mode': 'fine_tuning', 'optimizer': 'SGD', 'lr': 0.020277346945155376, 'momentum': 0.9140681931958543, 'weight_decay': 0.0005746967892006813, 'scheduler': 'ReduceLROnPlateau', 'factor': 0.43561147823995666, 'patience': 3}\n",
      "Epoch 1/18, Train Loss: 32.8684, Val mAP@50: 0.4729, FPS: 160.04, Epoch Time: 7.56 seconds\n",
      "Epoch 2/18, Train Loss: 24.4974, Val mAP@50: 0.4982, FPS: 179.64, Epoch Time: 7.40 seconds\n",
      "Epoch 3/18, Train Loss: 23.1024, Val mAP@50: 0.5315, FPS: 193.08, Epoch Time: 7.34 seconds\n",
      "Epoch 4/18, Train Loss: 23.2857, Val mAP@50: 0.5699, FPS: 192.58, Epoch Time: 7.25 seconds\n",
      "Epoch 5/18, Train Loss: 22.7861, Val mAP@50: 0.6029, FPS: 185.45, Epoch Time: 7.19 seconds\n",
      "Epoch 6/18, Train Loss: 23.1923, Val mAP@50: 0.5856, FPS: 195.89, Epoch Time: 7.04 seconds\n"
     ]
    },
    {
     "name": "stderr",
     "output_type": "stream",
     "text": [
      "[I 2025-01-27 11:06:41,121] Trial 49 pruned. \n"
     ]
    },
    {
     "name": "stdout",
     "output_type": "stream",
     "text": [
      "Trial pruned by Optuna at epoch 6.\n",
      "Checking Model: FasterRCNN\n",
      "Starting Trial #50\n",
      "{'batch_size': 6, 'epochs': 17, 'preweight_mode': 'random', 'optimizer': 'SGD', 'lr': 0.012431442961504734, 'momentum': 0.9424073648369422, 'weight_decay': 0.00018224368346039492, 'scheduler': 'ReduceLROnPlateau', 'factor': 0.34261378473794724, 'patience': 5}\n",
      "Epoch 1/17, Train Loss: nan, Val mAP@50: 0.0000, FPS: 262.37, Epoch Time: 6.95 seconds\n",
      "Epoch 2/17, Train Loss: nan, Val mAP@50: 0.0000, FPS: 261.47, Epoch Time: 6.69 seconds\n",
      "Epoch 3/17, Train Loss: nan, Val mAP@50: 0.0000, FPS: 262.02, Epoch Time: 6.70 seconds\n",
      "Epoch 4/17, Train Loss: nan, Val mAP@50: 0.0000, FPS: 260.48, Epoch Time: 6.72 seconds\n"
     ]
    },
    {
     "name": "stderr",
     "output_type": "stream",
     "text": [
      "[I 2025-01-27 11:07:15,495] Trial 50 pruned. \n"
     ]
    },
    {
     "name": "stdout",
     "output_type": "stream",
     "text": [
      "Trial pruned by Optuna at epoch 4.\n",
      "Checking Model: FasterRCNN\n",
      "Starting Trial #51\n",
      "{'batch_size': 7, 'epochs': 18, 'preweight_mode': 'fine_tuning', 'optimizer': 'SGD', 'lr': 0.011605496427403548, 'momentum': 0.9401641756180876, 'weight_decay': 0.00013469822484465254, 'scheduler': 'ReduceLROnPlateau', 'factor': 0.44401839477836247, 'patience': 4}\n",
      "Epoch 1/18, Train Loss: nan, Val mAP@50: 0.0000, FPS: 258.94, Epoch Time: 6.94 seconds\n",
      "Epoch 2/18, Train Loss: nan, Val mAP@50: 0.0000, FPS: 263.17, Epoch Time: 6.55 seconds\n",
      "Epoch 3/18, Train Loss: nan, Val mAP@50: 0.0000, FPS: 263.55, Epoch Time: 6.58 seconds\n",
      "Epoch 4/18, Train Loss: nan, Val mAP@50: 0.0000, FPS: 261.90, Epoch Time: 6.54 seconds\n"
     ]
    },
    {
     "name": "stderr",
     "output_type": "stream",
     "text": [
      "[I 2025-01-27 11:07:49,261] Trial 51 pruned. \n"
     ]
    },
    {
     "name": "stdout",
     "output_type": "stream",
     "text": [
      "Trial pruned by Optuna at epoch 4.\n",
      "Checking Model: FasterRCNN\n",
      "Starting Trial #52\n",
      "{'batch_size': 7, 'epochs': 18, 'preweight_mode': 'fine_tuning', 'optimizer': 'SGD', 'lr': 0.016185977784288506, 'momentum': 0.9304418384411784, 'weight_decay': 7.618414439266333e-05, 'scheduler': 'ReduceLROnPlateau', 'factor': 0.36015911286007546, 'patience': 4}\n",
      "Epoch 1/18, Train Loss: 39.3445, Val mAP@50: 0.3102, FPS: 146.44, Epoch Time: 7.77 seconds\n",
      "Epoch 2/18, Train Loss: 31.4241, Val mAP@50: 0.5153, FPS: 151.00, Epoch Time: 7.62 seconds\n",
      "Epoch 3/18, Train Loss: 30.1488, Val mAP@50: 0.5863, FPS: 165.06, Epoch Time: 7.59 seconds\n",
      "Epoch 4/18, Train Loss: 27.4071, Val mAP@50: 0.5559, FPS: 196.54, Epoch Time: 7.38 seconds\n",
      "Epoch 5/18, Train Loss: 26.4490, Val mAP@50: 0.5983, FPS: 186.21, Epoch Time: 7.37 seconds\n",
      "Epoch 6/18, Train Loss: 25.8569, Val mAP@50: 0.6101, FPS: 189.46, Epoch Time: 7.28 seconds\n",
      "Epoch 7/18, Train Loss: 24.6353, Val mAP@50: 0.5946, FPS: 199.30, Epoch Time: 7.20 seconds\n",
      "Epoch 8/18, Train Loss: 25.2370, Val mAP@50: 0.5901, FPS: 192.06, Epoch Time: 7.14 seconds\n",
      "Epoch 9/18, Train Loss: 23.7426, Val mAP@50: 0.5765, FPS: 201.45, Epoch Time: 7.11 seconds\n",
      "Epoch 10/18, Train Loss: 25.9097, Val mAP@50: 0.6383, FPS: 201.76, Epoch Time: 7.11 seconds\n",
      "Epoch 11/18, Train Loss: 24.6584, Val mAP@50: 0.6458, FPS: 200.97, Epoch Time: 7.07 seconds\n",
      "Epoch 12/18, Train Loss: 24.5439, Val mAP@50: 0.5772, FPS: 205.76, Epoch Time: 7.04 seconds\n",
      "Epoch 13/18, Train Loss: 24.9244, Val mAP@50: 0.6207, FPS: 199.81, Epoch Time: 7.08 seconds\n",
      "Epoch 14/18, Train Loss: 24.9107, Val mAP@50: 0.6290, FPS: 204.84, Epoch Time: 7.06 seconds\n",
      "Epoch 15/18, Train Loss: 25.9401, Val mAP@50: 0.6126, FPS: 201.98, Epoch Time: 7.01 seconds\n",
      "Epoch 16/18, Train Loss: 27.1105, Val mAP@50: 0.6101, FPS: 207.12, Epoch Time: 6.99 seconds\n",
      "Epoch 17/18, Train Loss: 22.6617, Val mAP@50: 0.6359, FPS: 213.89, Epoch Time: 6.95 seconds\n"
     ]
    },
    {
     "name": "stderr",
     "output_type": "stream",
     "text": [
      "[I 2025-01-27 11:09:59,682] Trial 52 finished with value: 0.6549310088157654 and parameters: {'batch_size': 7, 'epochs': 18, 'preweight_mode': 'fine_tuning', 'optimizer': 'SGD', 'lr': 0.016185977784288506, 'momentum': 0.9304418384411784, 'weight_decay': 7.618414439266333e-05, 'scheduler': 'ReduceLROnPlateau', 'factor': 0.36015911286007546, 'patience': 4}. Best is trial 41 with value: 0.6588242053985596.\n"
     ]
    },
    {
     "name": "stdout",
     "output_type": "stream",
     "text": [
      "Epoch 18/18, Train Loss: 20.1835, Val mAP@50: 0.6549, FPS: 214.98, Epoch Time: 6.94 seconds\n",
      "Best Epoch: 17, Best Val mAP@50: 0.6549, Training Time: 129.71 seconds\n",
      "Model training complete.\n",
      "Checking Model: FasterRCNN\n",
      "Starting Trial #53\n",
      "{'batch_size': 6, 'epochs': 19, 'preweight_mode': 'fine_tuning', 'optimizer': 'SGD', 'lr': 0.016051974327684987, 'momentum': 0.9314546578457715, 'weight_decay': 6.125556641615147e-05, 'scheduler': 'ReduceLROnPlateau', 'factor': 0.3549439163417413, 'patience': 4}\n",
      "Epoch 1/19, Train Loss: 44.4743, Val mAP@50: 0.4480, FPS: 162.23, Epoch Time: 7.77 seconds\n",
      "Epoch 2/19, Train Loss: 36.0874, Val mAP@50: 0.4449, FPS: 163.03, Epoch Time: 7.57 seconds\n",
      "Epoch 3/19, Train Loss: 33.5386, Val mAP@50: 0.5654, FPS: 181.19, Epoch Time: 7.48 seconds\n",
      "Epoch 4/19, Train Loss: 32.3804, Val mAP@50: 0.5468, FPS: 189.23, Epoch Time: 7.40 seconds\n",
      "Epoch 5/19, Train Loss: 31.1575, Val mAP@50: 0.5722, FPS: 190.56, Epoch Time: 7.30 seconds\n"
     ]
    },
    {
     "name": "stderr",
     "output_type": "stream",
     "text": [
      "[I 2025-01-27 11:10:45,175] Trial 53 pruned. \n"
     ]
    },
    {
     "name": "stdout",
     "output_type": "stream",
     "text": [
      "Trial pruned by Optuna at epoch 5.\n",
      "Checking Model: FasterRCNN\n",
      "Starting Trial #54\n",
      "{'batch_size': 6, 'epochs': 17, 'preweight_mode': 'fine_tuning', 'optimizer': 'SGD', 'lr': 0.006552112362090342, 'momentum': 0.9264843070708858, 'weight_decay': 9.079688403050999e-05, 'scheduler': 'ReduceLROnPlateau', 'factor': 0.36015435274082547, 'patience': 3}\n",
      "Epoch 1/17, Train Loss: 41.1715, Val mAP@50: 0.4959, FPS: 180.78, Epoch Time: 7.58 seconds\n",
      "Epoch 2/17, Train Loss: 33.7239, Val mAP@50: 0.5338, FPS: 180.39, Epoch Time: 7.53 seconds\n",
      "Epoch 3/17, Train Loss: 31.3309, Val mAP@50: 0.5354, FPS: 201.80, Epoch Time: 7.44 seconds\n",
      "Epoch 4/17, Train Loss: 31.6719, Val mAP@50: 0.6067, FPS: 187.68, Epoch Time: 7.39 seconds\n",
      "Epoch 5/17, Train Loss: 32.3718, Val mAP@50: 0.6213, FPS: 189.51, Epoch Time: 7.33 seconds\n",
      "Epoch 6/17, Train Loss: 30.6543, Val mAP@50: 0.5927, FPS: 197.26, Epoch Time: 7.33 seconds\n",
      "Epoch 7/17, Train Loss: 30.1959, Val mAP@50: 0.5860, FPS: 198.29, Epoch Time: 7.32 seconds\n",
      "Epoch 8/17, Train Loss: 28.4892, Val mAP@50: 0.6040, FPS: 187.20, Epoch Time: 7.28 seconds\n",
      "Epoch 9/17, Train Loss: 28.9710, Val mAP@50: 0.6350, FPS: 197.50, Epoch Time: 7.28 seconds\n",
      "Epoch 10/17, Train Loss: 30.7236, Val mAP@50: 0.6754, FPS: 206.79, Epoch Time: 7.39 seconds\n",
      "Epoch 11/17, Train Loss: 28.6460, Val mAP@50: 0.6463, FPS: 197.47, Epoch Time: 7.18 seconds\n",
      "Epoch 12/17, Train Loss: 28.6859, Val mAP@50: 0.6032, FPS: 203.34, Epoch Time: 7.18 seconds\n",
      "Epoch 13/17, Train Loss: 30.6415, Val mAP@50: 0.5902, FPS: 211.38, Epoch Time: 7.21 seconds\n",
      "Epoch 14/17, Train Loss: 30.6153, Val mAP@50: 0.6211, FPS: 212.25, Epoch Time: 7.22 seconds\n",
      "Epoch 15/17, Train Loss: 28.0005, Val mAP@50: 0.6530, FPS: 211.18, Epoch Time: 7.19 seconds\n",
      "Epoch 16/17, Train Loss: 22.5112, Val mAP@50: 0.6137, FPS: 209.27, Epoch Time: 7.19 seconds\n"
     ]
    },
    {
     "name": "stderr",
     "output_type": "stream",
     "text": [
      "[I 2025-01-27 11:12:50,149] Trial 54 finished with value: 0.6753758192062378 and parameters: {'batch_size': 6, 'epochs': 17, 'preweight_mode': 'fine_tuning', 'optimizer': 'SGD', 'lr': 0.006552112362090342, 'momentum': 0.9264843070708858, 'weight_decay': 9.079688403050999e-05, 'scheduler': 'ReduceLROnPlateau', 'factor': 0.36015435274082547, 'patience': 3}. Best is trial 54 with value: 0.6753758192062378.\n"
     ]
    },
    {
     "name": "stdout",
     "output_type": "stream",
     "text": [
      "Epoch 17/17, Train Loss: 20.0067, Val mAP@50: 0.6289, FPS: 213.20, Epoch Time: 7.18 seconds\n",
      "Best Epoch: 9, Best Val mAP@50: 0.6754, Training Time: 124.23 seconds\n",
      "Model training complete.\n",
      "Checking Model: FasterRCNN\n",
      "Starting Trial #55\n",
      "{'batch_size': 6, 'epochs': 17, 'preweight_mode': 'fine_tuning', 'optimizer': 'SGD', 'lr': 0.0067358361602144114, 'momentum': 0.9283733009949084, 'weight_decay': 8.079445602666795e-05, 'scheduler': 'ReduceLROnPlateau', 'factor': 0.36633472459504746, 'patience': 3}\n",
      "Epoch 1/17, Train Loss: 42.0267, Val mAP@50: 0.4736, FPS: 156.71, Epoch Time: 7.67 seconds\n",
      "Epoch 2/17, Train Loss: 34.4850, Val mAP@50: 0.5301, FPS: 176.37, Epoch Time: 7.53 seconds\n",
      "Epoch 3/17, Train Loss: 33.9054, Val mAP@50: 0.5844, FPS: 174.27, Epoch Time: 7.40 seconds\n",
      "Epoch 4/17, Train Loss: 31.0060, Val mAP@50: 0.5878, FPS: 196.71, Epoch Time: 7.34 seconds\n",
      "Epoch 5/17, Train Loss: 30.8310, Val mAP@50: 0.5521, FPS: 198.89, Epoch Time: 7.28 seconds\n"
     ]
    },
    {
     "name": "stderr",
     "output_type": "stream",
     "text": [
      "[I 2025-01-27 11:13:35,238] Trial 55 pruned. \n"
     ]
    },
    {
     "name": "stdout",
     "output_type": "stream",
     "text": [
      "Trial pruned by Optuna at epoch 5.\n",
      "Checking Model: FasterRCNN\n",
      "Starting Trial #56\n",
      "{'batch_size': 6, 'epochs': 18, 'preweight_mode': 'fine_tuning', 'optimizer': 'SGD', 'lr': 0.006965931721270305, 'momentum': 0.925381768024176, 'weight_decay': 3.4741157654817706e-05, 'scheduler': 'ReduceLROnPlateau', 'factor': 0.368532978003724, 'patience': 3}\n",
      "Epoch 1/18, Train Loss: 47.3859, Val mAP@50: 0.3568, FPS: 171.94, Epoch Time: 7.85 seconds\n",
      "Epoch 2/18, Train Loss: 35.5264, Val mAP@50: 0.4902, FPS: 173.00, Epoch Time: 7.69 seconds\n",
      "Epoch 3/18, Train Loss: 33.4264, Val mAP@50: 0.5287, FPS: 172.77, Epoch Time: 7.53 seconds\n",
      "Epoch 4/18, Train Loss: 31.6708, Val mAP@50: 0.5472, FPS: 198.06, Epoch Time: 7.44 seconds\n",
      "Epoch 5/18, Train Loss: 30.7579, Val mAP@50: 0.5932, FPS: 181.82, Epoch Time: 7.44 seconds\n",
      "Epoch 6/18, Train Loss: 29.3834, Val mAP@50: 0.6029, FPS: 195.68, Epoch Time: 7.34 seconds\n",
      "Epoch 7/18, Train Loss: 28.0770, Val mAP@50: 0.5575, FPS: 206.13, Epoch Time: 7.34 seconds\n",
      "Epoch 8/18, Train Loss: 29.0011, Val mAP@50: 0.6056, FPS: 203.77, Epoch Time: 7.30 seconds\n",
      "Epoch 9/18, Train Loss: 26.8353, Val mAP@50: 0.5595, FPS: 201.92, Epoch Time: 7.07 seconds\n",
      "Epoch 10/18, Train Loss: 26.5891, Val mAP@50: 0.5763, FPS: 204.10, Epoch Time: 7.11 seconds\n",
      "Epoch 11/18, Train Loss: 27.6544, Val mAP@50: 0.6036, FPS: 205.34, Epoch Time: 7.15 seconds\n",
      "Epoch 12/18, Train Loss: 28.2859, Val mAP@50: 0.6592, FPS: 203.28, Epoch Time: 7.21 seconds\n",
      "Epoch 13/18, Train Loss: 27.6494, Val mAP@50: 0.5792, FPS: 205.72, Epoch Time: 7.21 seconds\n",
      "Epoch 14/18, Train Loss: 27.2601, Val mAP@50: 0.6320, FPS: 209.98, Epoch Time: 7.17 seconds\n",
      "Epoch 15/18, Train Loss: 25.9374, Val mAP@50: 0.5888, FPS: 213.55, Epoch Time: 7.11 seconds\n",
      "Epoch 16/18, Train Loss: 28.4352, Val mAP@50: 0.6602, FPS: 210.14, Epoch Time: 7.09 seconds\n",
      "Epoch 17/18, Train Loss: 28.7035, Val mAP@50: 0.5538, FPS: 214.00, Epoch Time: 7.13 seconds\n"
     ]
    },
    {
     "name": "stderr",
     "output_type": "stream",
     "text": [
      "[I 2025-01-27 11:15:47,313] Trial 56 finished with value: 0.6602267026901245 and parameters: {'batch_size': 6, 'epochs': 18, 'preweight_mode': 'fine_tuning', 'optimizer': 'SGD', 'lr': 0.006965931721270305, 'momentum': 0.925381768024176, 'weight_decay': 3.4741157654817706e-05, 'scheduler': 'ReduceLROnPlateau', 'factor': 0.368532978003724, 'patience': 3}. Best is trial 54 with value: 0.6753758192062378.\n"
     ]
    },
    {
     "name": "stdout",
     "output_type": "stream",
     "text": [
      "Epoch 18/18, Train Loss: 26.9042, Val mAP@50: 0.6265, FPS: 208.98, Epoch Time: 7.16 seconds\n",
      "Best Epoch: 15, Best Val mAP@50: 0.6602, Training Time: 131.35 seconds\n",
      "Model training complete.\n",
      "Checking Model: FasterRCNN\n",
      "Starting Trial #57\n",
      "{'batch_size': 6, 'epochs': 19, 'preweight_mode': 'fine_tuning', 'optimizer': 'SGD', 'lr': 0.006508220934683997, 'momentum': 0.9109387550365476, 'weight_decay': 2.8208837931256308e-05, 'scheduler': 'ReduceLROnPlateau', 'factor': 0.35733316988748437, 'patience': 3}\n",
      "Epoch 1/19, Train Loss: 43.3743, Val mAP@50: 0.4121, FPS: 157.73, Epoch Time: 7.75 seconds\n",
      "Epoch 2/19, Train Loss: 32.4131, Val mAP@50: 0.5173, FPS: 172.80, Epoch Time: 7.48 seconds\n",
      "Epoch 3/19, Train Loss: 31.6739, Val mAP@50: 0.4877, FPS: 199.51, Epoch Time: 7.39 seconds\n",
      "Epoch 4/19, Train Loss: 30.8471, Val mAP@50: 0.5823, FPS: 183.62, Epoch Time: 7.41 seconds\n",
      "Epoch 5/19, Train Loss: 32.1011, Val mAP@50: 0.6144, FPS: 182.03, Epoch Time: 7.30 seconds\n",
      "Epoch 6/19, Train Loss: 30.1602, Val mAP@50: 0.5922, FPS: 201.61, Epoch Time: 7.21 seconds\n",
      "Epoch 7/19, Train Loss: 30.6083, Val mAP@50: 0.5977, FPS: 202.31, Epoch Time: 7.10 seconds\n",
      "Epoch 8/19, Train Loss: 28.5199, Val mAP@50: 0.6026, FPS: 211.21, Epoch Time: 7.05 seconds\n",
      "Epoch 9/19, Train Loss: 29.0289, Val mAP@50: 0.5567, FPS: 212.32, Epoch Time: 6.96 seconds\n",
      "Epoch 10/19, Train Loss: 25.4624, Val mAP@50: 0.6176, FPS: 211.69, Epoch Time: 7.03 seconds\n",
      "Epoch 11/19, Train Loss: 23.2462, Val mAP@50: 0.6265, FPS: 210.22, Epoch Time: 7.16 seconds\n",
      "Epoch 12/19, Train Loss: 21.0704, Val mAP@50: 0.6019, FPS: 214.76, Epoch Time: 7.11 seconds\n",
      "Epoch 13/19, Train Loss: 20.2441, Val mAP@50: 0.6116, FPS: 214.44, Epoch Time: 7.09 seconds\n",
      "Epoch 14/19, Train Loss: 18.9488, Val mAP@50: 0.5956, FPS: 215.42, Epoch Time: 7.07 seconds\n",
      "Epoch 15/19, Train Loss: 19.1246, Val mAP@50: 0.6121, FPS: 214.36, Epoch Time: 7.08 seconds\n",
      "Epoch 16/19, Train Loss: 16.3422, Val mAP@50: 0.6005, FPS: 212.10, Epoch Time: 7.11 seconds\n",
      "Epoch 17/19, Train Loss: 14.5628, Val mAP@50: 0.6083, FPS: 215.12, Epoch Time: 7.06 seconds\n"
     ]
    },
    {
     "name": "stderr",
     "output_type": "stream",
     "text": [
      "[I 2025-01-27 11:17:57,365] Trial 57 pruned. \n"
     ]
    },
    {
     "name": "stdout",
     "output_type": "stream",
     "text": [
      "Trial pruned by Optuna at epoch 17.\n",
      "Checking Model: FasterRCNN\n",
      "Starting Trial #58\n",
      "{'batch_size': 7, 'epochs': 18, 'preweight_mode': 'fine_tuning', 'optimizer': 'RMSprop', 'lr': 0.005175276918067326, 'weight_decay': 0.16182575501594063, 'momentum': 0.9251795953428286, 'scheduler': 'ReduceLROnPlateau', 'factor': 0.31914737215006606, 'patience': 3}\n",
      "Epoch 1/18, Train Loss: nan, Val mAP@50: 0.0000, FPS: 265.81, Epoch Time: 6.57 seconds\n",
      "Epoch 2/18, Train Loss: nan, Val mAP@50: 0.0000, FPS: 265.62, Epoch Time: 6.53 seconds\n",
      "Epoch 3/18, Train Loss: nan, Val mAP@50: 0.0000, FPS: 266.01, Epoch Time: 6.51 seconds\n",
      "Epoch 4/18, Train Loss: nan, Val mAP@50: 0.0000, FPS: 266.77, Epoch Time: 6.51 seconds\n"
     ]
    },
    {
     "name": "stderr",
     "output_type": "stream",
     "text": [
      "[I 2025-01-27 11:18:30,540] Trial 58 pruned. \n"
     ]
    },
    {
     "name": "stdout",
     "output_type": "stream",
     "text": [
      "Trial pruned by Optuna at epoch 4.\n",
      "Checking Model: FasterRCNN\n",
      "Starting Trial #59\n",
      "{'batch_size': 7, 'epochs': 20, 'preweight_mode': 'fine_tuning', 'optimizer': 'SGD', 'lr': 0.019792105119625415, 'momentum': 0.9208930747558807, 'weight_decay': 2.511280641174026e-05, 'scheduler': 'ReduceLROnPlateau', 'factor': 0.3748051188777476, 'patience': 2}\n",
      "Epoch 1/20, Train Loss: 37.9944, Val mAP@50: 0.3992, FPS: 163.69, Epoch Time: 7.50 seconds\n",
      "Epoch 2/20, Train Loss: 29.7816, Val mAP@50: 0.5455, FPS: 179.52, Epoch Time: 7.26 seconds\n",
      "Epoch 3/20, Train Loss: 28.1114, Val mAP@50: 0.5534, FPS: 186.24, Epoch Time: 7.26 seconds\n",
      "Epoch 4/20, Train Loss: 28.2253, Val mAP@50: 0.5443, FPS: 181.68, Epoch Time: 7.15 seconds\n",
      "Epoch 5/20, Train Loss: 26.5523, Val mAP@50: 0.5931, FPS: 182.00, Epoch Time: 7.12 seconds\n",
      "Epoch 6/20, Train Loss: 26.6994, Val mAP@50: 0.5657, FPS: 192.00, Epoch Time: 7.07 seconds\n"
     ]
    },
    {
     "name": "stderr",
     "output_type": "stream",
     "text": [
      "[I 2025-01-27 11:19:21,617] Trial 59 pruned. \n"
     ]
    },
    {
     "name": "stdout",
     "output_type": "stream",
     "text": [
      "Trial pruned by Optuna at epoch 6.\n",
      "Checking Model: FasterRCNN\n",
      "Starting Trial #60\n",
      "{'batch_size': 6, 'epochs': 19, 'preweight_mode': 'random', 'optimizer': 'SGD', 'lr': 0.006431067522727498, 'momentum': 0.9528759859443503, 'weight_decay': 8.451792780734911e-05, 'scheduler': 'ReduceLROnPlateau', 'factor': 0.4330172951799678, 'patience': 3}\n",
      "Epoch 1/19, Train Loss: 51.5505, Val mAP@50: 0.0000, FPS: 148.97, Epoch Time: 7.99 seconds\n",
      "Epoch 2/19, Train Loss: 44.2356, Val mAP@50: 0.0000, FPS: 146.35, Epoch Time: 8.00 seconds\n",
      "Epoch 3/19, Train Loss: 42.9515, Val mAP@50: 0.0993, FPS: 160.73, Epoch Time: 7.75 seconds\n",
      "Epoch 4/19, Train Loss: 42.6147, Val mAP@50: 0.1899, FPS: 161.51, Epoch Time: 7.49 seconds\n",
      "Epoch 5/19, Train Loss: 40.4196, Val mAP@50: 0.2297, FPS: 162.45, Epoch Time: 7.50 seconds\n"
     ]
    },
    {
     "name": "stderr",
     "output_type": "stream",
     "text": [
      "[I 2025-01-27 11:20:08,379] Trial 60 pruned. \n"
     ]
    },
    {
     "name": "stdout",
     "output_type": "stream",
     "text": [
      "Trial pruned by Optuna at epoch 5.\n",
      "Checking Model: FasterRCNN\n",
      "Starting Trial #61\n",
      "{'batch_size': 6, 'epochs': 17, 'preweight_mode': 'fine_tuning', 'optimizer': 'SGD', 'lr': 0.010494207860136932, 'momentum': 0.93326000652512, 'weight_decay': 5.176404537352436e-05, 'scheduler': 'ReduceLROnPlateau', 'factor': 0.45834130528107997, 'patience': 4}\n",
      "Epoch 1/17, Train Loss: 44.4270, Val mAP@50: 0.3306, FPS: 182.34, Epoch Time: 7.40 seconds\n",
      "Epoch 2/17, Train Loss: 36.4650, Val mAP@50: 0.4763, FPS: 169.27, Epoch Time: 7.29 seconds\n",
      "Epoch 3/17, Train Loss: 34.0841, Val mAP@50: 0.6216, FPS: 173.18, Epoch Time: 7.23 seconds\n",
      "Epoch 4/17, Train Loss: 31.7852, Val mAP@50: 0.5309, FPS: 202.81, Epoch Time: 7.17 seconds\n",
      "Epoch 5/17, Train Loss: 30.7329, Val mAP@50: 0.5566, FPS: 199.53, Epoch Time: 7.11 seconds\n",
      "Epoch 6/17, Train Loss: 31.3704, Val mAP@50: 0.5146, FPS: 210.24, Epoch Time: 7.09 seconds\n",
      "Epoch 7/17, Train Loss: 31.9188, Val mAP@50: 0.5652, FPS: 196.42, Epoch Time: 7.12 seconds\n",
      "Epoch 8/17, Train Loss: 29.8189, Val mAP@50: 0.6315, FPS: 210.24, Epoch Time: 7.05 seconds\n",
      "Epoch 9/17, Train Loss: 30.3189, Val mAP@50: 0.6123, FPS: 226.14, Epoch Time: 6.95 seconds\n",
      "Epoch 10/17, Train Loss: 30.0588, Val mAP@50: 0.5752, FPS: 216.19, Epoch Time: 6.98 seconds\n",
      "Epoch 11/17, Train Loss: 30.0276, Val mAP@50: 0.5755, FPS: 218.95, Epoch Time: 6.93 seconds\n",
      "Epoch 12/17, Train Loss: 31.5675, Val mAP@50: 0.6158, FPS: 214.35, Epoch Time: 7.00 seconds\n",
      "Epoch 13/17, Train Loss: 29.6085, Val mAP@50: 0.6241, FPS: 221.01, Epoch Time: 7.00 seconds\n",
      "Epoch 14/17, Train Loss: 27.0296, Val mAP@50: 0.6252, FPS: 226.28, Epoch Time: 6.77 seconds\n",
      "Epoch 15/17, Train Loss: 25.6936, Val mAP@50: 0.6307, FPS: 228.54, Epoch Time: 6.85 seconds\n",
      "Epoch 16/17, Train Loss: 23.4161, Val mAP@50: 0.5934, FPS: 229.49, Epoch Time: 6.89 seconds\n"
     ]
    },
    {
     "name": "stderr",
     "output_type": "stream",
     "text": [
      "[I 2025-01-27 11:22:08,845] Trial 61 finished with value: 0.6314568519592285 and parameters: {'batch_size': 6, 'epochs': 17, 'preweight_mode': 'fine_tuning', 'optimizer': 'SGD', 'lr': 0.010494207860136932, 'momentum': 0.93326000652512, 'weight_decay': 5.176404537352436e-05, 'scheduler': 'ReduceLROnPlateau', 'factor': 0.45834130528107997, 'patience': 4}. Best is trial 54 with value: 0.6753758192062378.\n"
     ]
    },
    {
     "name": "stdout",
     "output_type": "stream",
     "text": [
      "Epoch 17/17, Train Loss: 25.6679, Val mAP@50: 0.6127, FPS: 231.20, Epoch Time: 6.89 seconds\n",
      "Best Epoch: 7, Best Val mAP@50: 0.6315, Training Time: 119.71 seconds\n",
      "Model training complete.\n",
      "Checking Model: FasterRCNN\n",
      "Starting Trial #62\n",
      "{'batch_size': 6, 'epochs': 18, 'preweight_mode': 'fine_tuning', 'optimizer': 'SGD', 'lr': 0.014374888239473096, 'momentum': 0.9383952023037838, 'weight_decay': 0.00038848888796613024, 'scheduler': 'ReduceLROnPlateau', 'factor': 0.26114000707068064, 'patience': 5}\n",
      "Epoch 1/18, Train Loss: nan, Val mAP@50: 0.0000, FPS: 281.41, Epoch Time: 6.61 seconds\n",
      "Epoch 2/18, Train Loss: nan, Val mAP@50: 0.0000, FPS: 281.91, Epoch Time: 6.50 seconds\n",
      "Epoch 3/18, Train Loss: nan, Val mAP@50: 0.0000, FPS: 282.63, Epoch Time: 6.49 seconds\n",
      "Epoch 4/18, Train Loss: nan, Val mAP@50: 0.0000, FPS: 282.68, Epoch Time: 6.49 seconds\n"
     ]
    },
    {
     "name": "stderr",
     "output_type": "stream",
     "text": [
      "[I 2025-01-27 11:22:42,013] Trial 62 pruned. \n"
     ]
    },
    {
     "name": "stdout",
     "output_type": "stream",
     "text": [
      "Trial pruned by Optuna at epoch 4.\n",
      "Checking Model: FasterRCNN\n",
      "Starting Trial #63\n",
      "{'batch_size': 6, 'epochs': 17, 'preweight_mode': 'fine_tuning', 'optimizer': 'SGD', 'lr': 0.007618516727184092, 'momentum': 0.9296458749104363, 'weight_decay': 1.6795439543418932e-05, 'scheduler': 'ReduceLROnPlateau', 'factor': 0.38614686882232585, 'patience': 4}\n",
      "Epoch 1/17, Train Loss: 44.1530, Val mAP@50: 0.3810, FPS: 173.18, Epoch Time: 7.43 seconds\n",
      "Epoch 2/17, Train Loss: 33.9057, Val mAP@50: 0.5390, FPS: 176.50, Epoch Time: 7.31 seconds\n",
      "Epoch 3/17, Train Loss: 33.2074, Val mAP@50: 0.5546, FPS: 184.82, Epoch Time: 7.19 seconds\n",
      "Epoch 4/17, Train Loss: 32.0732, Val mAP@50: 0.5904, FPS: 204.28, Epoch Time: 7.09 seconds\n",
      "Epoch 5/17, Train Loss: 30.6236, Val mAP@50: 0.5717, FPS: 208.94, Epoch Time: 7.06 seconds\n",
      "Epoch 6/17, Train Loss: 30.5673, Val mAP@50: 0.6432, FPS: 210.05, Epoch Time: 7.02 seconds\n",
      "Epoch 7/17, Train Loss: 30.8043, Val mAP@50: 0.5913, FPS: 215.93, Epoch Time: 6.92 seconds\n",
      "Epoch 8/17, Train Loss: 28.5231, Val mAP@50: 0.6116, FPS: 221.45, Epoch Time: 6.81 seconds\n",
      "Epoch 9/17, Train Loss: 28.4299, Val mAP@50: 0.6454, FPS: 215.96, Epoch Time: 6.94 seconds\n",
      "Epoch 10/17, Train Loss: 30.3688, Val mAP@50: 0.6521, FPS: 221.08, Epoch Time: 6.92 seconds\n",
      "Epoch 11/17, Train Loss: 29.5109, Val mAP@50: 0.6168, FPS: 209.90, Epoch Time: 7.10 seconds\n",
      "Epoch 12/17, Train Loss: 28.5304, Val mAP@50: 0.6279, FPS: 200.09, Epoch Time: 7.34 seconds\n",
      "Epoch 13/17, Train Loss: 30.0399, Val mAP@50: 0.5873, FPS: 212.09, Epoch Time: 7.29 seconds\n",
      "Epoch 14/17, Train Loss: 30.9055, Val mAP@50: 0.6083, FPS: 205.33, Epoch Time: 7.23 seconds\n",
      "Epoch 15/17, Train Loss: 30.6545, Val mAP@50: 0.6256, FPS: 201.54, Epoch Time: 7.52 seconds\n",
      "Epoch 16/17, Train Loss: 26.1523, Val mAP@50: 0.6554, FPS: 211.49, Epoch Time: 7.17 seconds\n"
     ]
    },
    {
     "name": "stderr",
     "output_type": "stream",
     "text": [
      "[I 2025-01-27 11:24:44,087] Trial 63 finished with value: 0.6553838849067688 and parameters: {'batch_size': 6, 'epochs': 17, 'preweight_mode': 'fine_tuning', 'optimizer': 'SGD', 'lr': 0.007618516727184092, 'momentum': 0.9296458749104363, 'weight_decay': 1.6795439543418932e-05, 'scheduler': 'ReduceLROnPlateau', 'factor': 0.38614686882232585, 'patience': 4}. Best is trial 54 with value: 0.6753758192062378.\n"
     ]
    },
    {
     "name": "stdout",
     "output_type": "stream",
     "text": [
      "Epoch 17/17, Train Loss: 23.0885, Val mAP@50: 0.6427, FPS: 213.48, Epoch Time: 7.02 seconds\n",
      "Best Epoch: 15, Best Val mAP@50: 0.6554, Training Time: 121.34 seconds\n",
      "Model training complete.\n",
      "Checking Model: FasterRCNN\n",
      "Starting Trial #64\n",
      "{'batch_size': 6, 'epochs': 18, 'preweight_mode': 'fine_tuning', 'optimizer': 'SGD', 'lr': 0.007653370880888095, 'momentum': 0.9277070775417248, 'weight_decay': 1.4344337411041815e-05, 'scheduler': 'ReduceLROnPlateau', 'factor': 0.3832953600799034, 'patience': 4}\n",
      "Epoch 1/18, Train Loss: 43.0696, Val mAP@50: 0.5064, FPS: 166.56, Epoch Time: 7.66 seconds\n",
      "Epoch 2/18, Train Loss: 33.7958, Val mAP@50: 0.5294, FPS: 194.71, Epoch Time: 7.48 seconds\n",
      "Epoch 3/18, Train Loss: 33.1195, Val mAP@50: 0.6019, FPS: 184.32, Epoch Time: 7.36 seconds\n",
      "Epoch 4/18, Train Loss: 32.1918, Val mAP@50: 0.6076, FPS: 184.07, Epoch Time: 7.34 seconds\n",
      "Epoch 5/18, Train Loss: 33.0721, Val mAP@50: 0.6395, FPS: 203.41, Epoch Time: 7.19 seconds\n",
      "Epoch 6/18, Train Loss: 32.5370, Val mAP@50: 0.5643, FPS: 199.84, Epoch Time: 7.20 seconds\n",
      "Epoch 7/18, Train Loss: 30.2458, Val mAP@50: 0.6471, FPS: 200.20, Epoch Time: 7.17 seconds\n",
      "Epoch 8/18, Train Loss: 30.9645, Val mAP@50: 0.5897, FPS: 203.40, Epoch Time: 7.16 seconds\n",
      "Epoch 9/18, Train Loss: 29.4750, Val mAP@50: 0.6578, FPS: 192.51, Epoch Time: 7.15 seconds\n",
      "Epoch 10/18, Train Loss: 30.5964, Val mAP@50: 0.5946, FPS: 206.77, Epoch Time: 7.11 seconds\n",
      "Epoch 11/18, Train Loss: 29.8012, Val mAP@50: 0.6159, FPS: 212.23, Epoch Time: 7.11 seconds\n",
      "Epoch 12/18, Train Loss: 30.2460, Val mAP@50: 0.5935, FPS: 214.94, Epoch Time: 7.04 seconds\n",
      "Epoch 13/18, Train Loss: 31.8595, Val mAP@50: 0.6290, FPS: 212.98, Epoch Time: 7.02 seconds\n",
      "Epoch 14/18, Train Loss: 30.8289, Val mAP@50: 0.6076, FPS: 209.69, Epoch Time: 7.00 seconds\n",
      "Epoch 15/18, Train Loss: 26.9338, Val mAP@50: 0.6005, FPS: 216.64, Epoch Time: 6.99 seconds\n",
      "Epoch 16/18, Train Loss: 24.7272, Val mAP@50: 0.6202, FPS: 218.79, Epoch Time: 6.97 seconds\n",
      "Epoch 17/18, Train Loss: 21.6886, Val mAP@50: 0.6079, FPS: 214.81, Epoch Time: 6.97 seconds\n"
     ]
    },
    {
     "name": "stderr",
     "output_type": "stream",
     "text": [
      "[I 2025-01-27 11:26:53,752] Trial 64 finished with value: 0.6577946543693542 and parameters: {'batch_size': 6, 'epochs': 18, 'preweight_mode': 'fine_tuning', 'optimizer': 'SGD', 'lr': 0.007653370880888095, 'momentum': 0.9277070775417248, 'weight_decay': 1.4344337411041815e-05, 'scheduler': 'ReduceLROnPlateau', 'factor': 0.3832953600799034, 'patience': 4}. Best is trial 54 with value: 0.6753758192062378.\n"
     ]
    },
    {
     "name": "stdout",
     "output_type": "stream",
     "text": [
      "Epoch 18/18, Train Loss: 21.1970, Val mAP@50: 0.6141, FPS: 218.80, Epoch Time: 6.98 seconds\n",
      "Best Epoch: 8, Best Val mAP@50: 0.6578, Training Time: 128.89 seconds\n",
      "Model training complete.\n",
      "Checking Model: FasterRCNN\n",
      "Starting Trial #65\n",
      "{'batch_size': 6, 'epochs': 17, 'preweight_mode': 'fine_tuning', 'optimizer': 'SGD', 'lr': 0.007558565973329637, 'momentum': 0.9273514562285899, 'weight_decay': 1.1852242988807165e-05, 'scheduler': 'ReduceLROnPlateau', 'factor': 0.3855578273478577, 'patience': 4}\n",
      "Epoch 1/17, Train Loss: 43.6904, Val mAP@50: 0.4762, FPS: 173.32, Epoch Time: 7.64 seconds\n",
      "Epoch 2/17, Train Loss: 33.5360, Val mAP@50: 0.5521, FPS: 172.38, Epoch Time: 7.56 seconds\n",
      "Epoch 3/17, Train Loss: 32.5980, Val mAP@50: 0.5970, FPS: 176.07, Epoch Time: 7.52 seconds\n",
      "Epoch 4/17, Train Loss: 32.2975, Val mAP@50: 0.5729, FPS: 188.14, Epoch Time: 7.43 seconds\n",
      "Epoch 5/17, Train Loss: 29.7281, Val mAP@50: 0.5553, FPS: 199.65, Epoch Time: 7.38 seconds\n",
      "Epoch 6/17, Train Loss: 31.1619, Val mAP@50: 0.5718, FPS: 195.34, Epoch Time: 7.29 seconds\n"
     ]
    },
    {
     "name": "stderr",
     "output_type": "stream",
     "text": [
      "[I 2025-01-27 11:27:46,443] Trial 65 pruned. \n"
     ]
    },
    {
     "name": "stdout",
     "output_type": "stream",
     "text": [
      "Trial pruned by Optuna at epoch 6.\n",
      "Checking Model: FasterRCNN\n",
      "Starting Trial #66\n",
      "{'batch_size': 6, 'epochs': 19, 'preweight_mode': 'fine_tuning', 'optimizer': 'SGD', 'lr': 0.007301183090216018, 'momentum': 0.9447505303727033, 'weight_decay': 1.4047686480082941e-05, 'scheduler': 'ReduceLROnPlateau', 'factor': 0.4142485537325139, 'patience': 3}\n",
      "Epoch 1/19, Train Loss: 42.5503, Val mAP@50: 0.4432, FPS: 155.65, Epoch Time: 7.87 seconds\n",
      "Epoch 2/19, Train Loss: 33.3347, Val mAP@50: 0.5343, FPS: 166.07, Epoch Time: 7.69 seconds\n",
      "Epoch 3/19, Train Loss: 32.9651, Val mAP@50: 0.5919, FPS: 177.54, Epoch Time: 7.68 seconds\n",
      "Epoch 4/19, Train Loss: 31.0955, Val mAP@50: 0.5830, FPS: 180.64, Epoch Time: 7.59 seconds\n",
      "Epoch 5/19, Train Loss: 32.3716, Val mAP@50: 0.6228, FPS: 181.59, Epoch Time: 7.58 seconds\n",
      "Epoch 6/19, Train Loss: 32.2808, Val mAP@50: 0.6277, FPS: 182.67, Epoch Time: 7.57 seconds\n",
      "Epoch 7/19, Train Loss: 30.1337, Val mAP@50: 0.5816, FPS: 200.33, Epoch Time: 7.35 seconds\n",
      "Epoch 8/19, Train Loss: 30.9191, Val mAP@50: 0.5724, FPS: 194.06, Epoch Time: 7.43 seconds\n",
      "Epoch 9/19, Train Loss: 31.7455, Val mAP@50: 0.6046, FPS: 204.24, Epoch Time: 7.23 seconds\n",
      "Epoch 10/19, Train Loss: 30.7076, Val mAP@50: 0.5209, FPS: 207.28, Epoch Time: 7.08 seconds\n",
      "Epoch 11/19, Train Loss: 27.1641, Val mAP@50: 0.6095, FPS: 209.25, Epoch Time: 7.14 seconds\n",
      "Epoch 12/19, Train Loss: 24.7551, Val mAP@50: 0.5897, FPS: 210.44, Epoch Time: 7.23 seconds\n",
      "Epoch 13/19, Train Loss: 23.2814, Val mAP@50: 0.5858, FPS: 218.56, Epoch Time: 7.05 seconds\n",
      "Epoch 14/19, Train Loss: 23.8442, Val mAP@50: 0.5856, FPS: 207.99, Epoch Time: 7.22 seconds\n",
      "Epoch 15/19, Train Loss: 19.4134, Val mAP@50: 0.6177, FPS: 210.91, Epoch Time: 7.30 seconds\n",
      "Epoch 16/19, Train Loss: 16.5745, Val mAP@50: 0.6068, FPS: 216.70, Epoch Time: 7.05 seconds\n",
      "Epoch 17/19, Train Loss: 14.8780, Val mAP@50: 0.6239, FPS: 217.17, Epoch Time: 7.12 seconds\n",
      "Epoch 18/19, Train Loss: 13.8760, Val mAP@50: 0.6267, FPS: 218.89, Epoch Time: 7.02 seconds\n"
     ]
    },
    {
     "name": "stderr",
     "output_type": "stream",
     "text": [
      "[I 2025-01-27 11:30:06,124] Trial 66 pruned. \n"
     ]
    },
    {
     "name": "stdout",
     "output_type": "stream",
     "text": [
      "Trial pruned by Optuna at epoch 18.\n",
      "Checking Model: FasterRCNN\n",
      "Starting Trial #67\n",
      "{'batch_size': 6, 'epochs': 18, 'preweight_mode': 'fine_tuning', 'optimizer': 'SGD', 'lr': 0.006068064536835849, 'momentum': 0.9187848061197518, 'weight_decay': 1.748031945665502e-05, 'scheduler': 'ReduceLROnPlateau', 'factor': 0.38689599581583134, 'patience': 4}\n",
      "Epoch 1/18, Train Loss: 42.5844, Val mAP@50: 0.4558, FPS: 181.11, Epoch Time: 7.54 seconds\n",
      "Epoch 2/18, Train Loss: 33.6113, Val mAP@50: 0.5723, FPS: 171.83, Epoch Time: 7.51 seconds\n",
      "Epoch 3/18, Train Loss: 31.2243, Val mAP@50: 0.5752, FPS: 177.01, Epoch Time: 7.44 seconds\n",
      "Epoch 4/18, Train Loss: 30.3978, Val mAP@50: 0.5938, FPS: 193.41, Epoch Time: 7.46 seconds\n",
      "Epoch 5/18, Train Loss: 31.3836, Val mAP@50: 0.5566, FPS: 198.14, Epoch Time: 7.35 seconds\n",
      "Epoch 6/18, Train Loss: 30.0643, Val mAP@50: 0.6442, FPS: 196.99, Epoch Time: 7.22 seconds\n",
      "Epoch 7/18, Train Loss: 28.8847, Val mAP@50: 0.5653, FPS: 204.85, Epoch Time: 7.31 seconds\n",
      "Epoch 8/18, Train Loss: 28.6148, Val mAP@50: 0.5907, FPS: 198.84, Epoch Time: 7.29 seconds\n",
      "Epoch 9/18, Train Loss: 28.9749, Val mAP@50: 0.6223, FPS: 206.03, Epoch Time: 7.19 seconds\n",
      "Epoch 10/18, Train Loss: 29.3376, Val mAP@50: 0.5786, FPS: 205.81, Epoch Time: 7.22 seconds\n",
      "Epoch 11/18, Train Loss: 28.3935, Val mAP@50: 0.5859, FPS: 207.19, Epoch Time: 7.14 seconds\n",
      "Epoch 12/18, Train Loss: 26.0937, Val mAP@50: 0.6413, FPS: 204.62, Epoch Time: 7.13 seconds\n",
      "Epoch 13/18, Train Loss: 22.1139, Val mAP@50: 0.6200, FPS: 208.90, Epoch Time: 7.08 seconds\n",
      "Epoch 14/18, Train Loss: 20.3444, Val mAP@50: 0.6424, FPS: 208.12, Epoch Time: 7.26 seconds\n",
      "Epoch 15/18, Train Loss: 19.4108, Val mAP@50: 0.6187, FPS: 203.94, Epoch Time: 7.15 seconds\n",
      "Epoch 16/18, Train Loss: 19.9666, Val mAP@50: 0.6116, FPS: 213.51, Epoch Time: 7.10 seconds\n",
      "Epoch 17/18, Train Loss: 16.1209, Val mAP@50: 0.6455, FPS: 215.15, Epoch Time: 7.05 seconds\n"
     ]
    },
    {
     "name": "stderr",
     "output_type": "stream",
     "text": [
      "[I 2025-01-27 11:32:17,370] Trial 67 finished with value: 0.6454883217811584 and parameters: {'batch_size': 6, 'epochs': 18, 'preweight_mode': 'fine_tuning', 'optimizer': 'SGD', 'lr': 0.006068064536835849, 'momentum': 0.9187848061197518, 'weight_decay': 1.748031945665502e-05, 'scheduler': 'ReduceLROnPlateau', 'factor': 0.38689599581583134, 'patience': 4}. Best is trial 54 with value: 0.6753758192062378.\n"
     ]
    },
    {
     "name": "stdout",
     "output_type": "stream",
     "text": [
      "Epoch 18/18, Train Loss: 13.8970, Val mAP@50: 0.6322, FPS: 218.58, Epoch Time: 7.08 seconds\n",
      "Best Epoch: 16, Best Val mAP@50: 0.6455, Training Time: 130.52 seconds\n",
      "Model training complete.\n",
      "Checking Model: FasterRCNN\n",
      "Starting Trial #68\n",
      "{'batch_size': 6, 'epochs': 17, 'preweight_mode': 'freezing', 'optimizer': 'RMSprop', 'lr': 0.005404067882997618, 'weight_decay': 0.12077937713019507, 'momentum': 0.9221796026607388, 'scheduler': 'ReduceLROnPlateau', 'factor': 0.3157155599106875, 'patience': 3}\n",
      "Epoch 1/17, Train Loss: 696.3180, Val mAP@50: 0.0000, FPS: 227.79, Epoch Time: 6.40 seconds\n",
      "Epoch 2/17, Train Loss: 330.9550, Val mAP@50: 0.0000, FPS: 226.35, Epoch Time: 6.37 seconds\n",
      "Epoch 3/17, Train Loss: 399.9194, Val mAP@50: 0.0000, FPS: 221.61, Epoch Time: 6.55 seconds\n",
      "Epoch 4/17, Train Loss: 364.6781, Val mAP@50: 0.0000, FPS: 219.95, Epoch Time: 6.57 seconds\n"
     ]
    },
    {
     "name": "stderr",
     "output_type": "stream",
     "text": [
      "[I 2025-01-27 11:32:50,408] Trial 68 pruned. \n"
     ]
    },
    {
     "name": "stdout",
     "output_type": "stream",
     "text": [
      "Trial pruned by Optuna at epoch 4.\n",
      "Checking Model: FasterRCNN\n",
      "Starting Trial #69\n",
      "{'batch_size': 6, 'epochs': 16, 'preweight_mode': 'fine_tuning', 'optimizer': 'SGD', 'lr': 0.008200428592749559, 'momentum': 0.9089039330850317, 'weight_decay': 1.99836782025856e-05, 'scheduler': 'OneCycleLR', 'max_lr': 0.00010382163547756827}\n",
      "Epoch 1/16, Train Loss: 92.1808, Val mAP@50: 0.0009, FPS: 188.00, Epoch Time: 7.34 seconds\n",
      "Epoch 2/16, Train Loss: 56.8968, Val mAP@50: 0.0000, FPS: 177.96, Epoch Time: 7.51 seconds\n",
      "Epoch 3/16, Train Loss: 53.2450, Val mAP@50: 0.0000, FPS: 173.02, Epoch Time: 7.62 seconds\n",
      "Epoch 4/16, Train Loss: 52.9458, Val mAP@50: 0.0000, FPS: 167.87, Epoch Time: 7.59 seconds\n"
     ]
    },
    {
     "name": "stderr",
     "output_type": "stream",
     "text": [
      "[I 2025-01-27 11:33:28,769] Trial 69 pruned. \n"
     ]
    },
    {
     "name": "stdout",
     "output_type": "stream",
     "text": [
      "Trial pruned by Optuna at epoch 4.\n",
      "Checking Model: FasterRCNN\n",
      "Starting Trial #70\n",
      "{'batch_size': 5, 'epochs': 18, 'preweight_mode': 'fine_tuning', 'optimizer': 'SGD', 'lr': 0.007069048759405432, 'momentum': 0.9281281473833148, 'weight_decay': 3.65091584264487e-05, 'scheduler': 'StepLR', 'step_size': 4, 'gamma': 0.3452440030047152}\n",
      "Epoch 1/18, Train Loss: nan, Val mAP@50: 0.0000, FPS: 248.06, Epoch Time: 6.92 seconds\n",
      "Epoch 2/18, Train Loss: nan, Val mAP@50: 0.0000, FPS: 245.30, Epoch Time: 6.82 seconds\n",
      "Epoch 3/18, Train Loss: nan, Val mAP@50: 0.0000, FPS: 247.25, Epoch Time: 6.83 seconds\n",
      "Epoch 4/18, Train Loss: nan, Val mAP@50: 0.0000, FPS: 254.03, Epoch Time: 6.76 seconds\n"
     ]
    },
    {
     "name": "stderr",
     "output_type": "stream",
     "text": [
      "[I 2025-01-27 11:34:03,656] Trial 70 pruned. \n"
     ]
    },
    {
     "name": "stdout",
     "output_type": "stream",
     "text": [
      "Trial pruned by Optuna at epoch 4.\n",
      "Checking Model: FasterRCNN\n",
      "Starting Trial #71\n",
      "{'batch_size': 6, 'epochs': 18, 'preweight_mode': 'fine_tuning', 'optimizer': 'SGD', 'lr': 0.007934788825473084, 'momentum': 0.9284984706856483, 'weight_decay': 9.991971884819197e-05, 'scheduler': 'ReduceLROnPlateau', 'factor': 0.3772015240883843, 'patience': 4}\n",
      "Epoch 1/18, Train Loss: 42.9519, Val mAP@50: 0.4723, FPS: 159.87, Epoch Time: 7.70 seconds\n",
      "Epoch 2/18, Train Loss: 35.2996, Val mAP@50: 0.5444, FPS: 177.42, Epoch Time: 7.51 seconds\n",
      "Epoch 3/18, Train Loss: 33.2064, Val mAP@50: 0.5973, FPS: 176.96, Epoch Time: 7.58 seconds\n",
      "Epoch 4/18, Train Loss: 30.1822, Val mAP@50: 0.5179, FPS: 186.65, Epoch Time: 7.58 seconds\n",
      "Epoch 5/18, Train Loss: 29.8735, Val mAP@50: 0.6130, FPS: 189.28, Epoch Time: 7.56 seconds\n",
      "Epoch 6/18, Train Loss: 29.7755, Val mAP@50: 0.6297, FPS: 190.46, Epoch Time: 7.43 seconds\n",
      "Epoch 7/18, Train Loss: 31.5506, Val mAP@50: 0.6000, FPS: 188.28, Epoch Time: 7.38 seconds\n",
      "Epoch 8/18, Train Loss: 28.2596, Val mAP@50: 0.5779, FPS: 203.00, Epoch Time: 7.32 seconds\n",
      "Epoch 9/18, Train Loss: 29.7772, Val mAP@50: 0.5806, FPS: 196.25, Epoch Time: 7.33 seconds\n",
      "Epoch 10/18, Train Loss: 30.7238, Val mAP@50: 0.6069, FPS: 196.95, Epoch Time: 7.39 seconds\n",
      "Epoch 11/18, Train Loss: 29.1758, Val mAP@50: 0.5797, FPS: 192.78, Epoch Time: 7.49 seconds\n",
      "Epoch 12/18, Train Loss: 26.7564, Val mAP@50: 0.6399, FPS: 207.78, Epoch Time: 7.27 seconds\n",
      "Epoch 13/18, Train Loss: 23.1943, Val mAP@50: 0.6444, FPS: 208.77, Epoch Time: 7.22 seconds\n",
      "Epoch 14/18, Train Loss: 21.4060, Val mAP@50: 0.6343, FPS: 212.61, Epoch Time: 7.13 seconds\n",
      "Epoch 15/18, Train Loss: 20.3958, Val mAP@50: 0.5959, FPS: 215.45, Epoch Time: 7.08 seconds\n",
      "Epoch 16/18, Train Loss: 19.3965, Val mAP@50: 0.6138, FPS: 214.00, Epoch Time: 7.07 seconds\n",
      "Epoch 17/18, Train Loss: 19.6132, Val mAP@50: 0.6383, FPS: 211.47, Epoch Time: 7.18 seconds\n"
     ]
    },
    {
     "name": "stderr",
     "output_type": "stream",
     "text": [
      "[I 2025-01-27 11:36:16,789] Trial 71 finished with value: 0.6443522572517395 and parameters: {'batch_size': 6, 'epochs': 18, 'preweight_mode': 'fine_tuning', 'optimizer': 'SGD', 'lr': 0.007934788825473084, 'momentum': 0.9284984706856483, 'weight_decay': 9.991971884819197e-05, 'scheduler': 'ReduceLROnPlateau', 'factor': 0.3772015240883843, 'patience': 4}. Best is trial 54 with value: 0.6753758192062378.\n"
     ]
    },
    {
     "name": "stdout",
     "output_type": "stream",
     "text": [
      "Epoch 18/18, Train Loss: 20.5027, Val mAP@50: 0.6371, FPS: 213.25, Epoch Time: 7.19 seconds\n",
      "Best Epoch: 12, Best Val mAP@50: 0.6444, Training Time: 132.39 seconds\n",
      "Model training complete.\n",
      "Checking Model: FasterRCNN\n",
      "Starting Trial #72\n",
      "{'batch_size': 6, 'epochs': 17, 'preweight_mode': 'fine_tuning', 'optimizer': 'SGD', 'lr': 0.005981850256116252, 'momentum': 0.9312677721261066, 'weight_decay': 6.659314299871251e-05, 'scheduler': 'ReduceLROnPlateau', 'factor': 0.3391636234582396, 'patience': 4}\n",
      "Epoch 1/17, Train Loss: 47.4040, Val mAP@50: 0.4604, FPS: 159.67, Epoch Time: 7.90 seconds\n",
      "Epoch 2/17, Train Loss: 35.8869, Val mAP@50: 0.5120, FPS: 176.39, Epoch Time: 7.68 seconds\n",
      "Epoch 3/17, Train Loss: 32.5177, Val mAP@50: 0.5446, FPS: 174.93, Epoch Time: 7.78 seconds\n",
      "Epoch 4/17, Train Loss: 31.4862, Val mAP@50: 0.5544, FPS: 186.86, Epoch Time: 7.61 seconds\n",
      "Epoch 5/17, Train Loss: 29.4020, Val mAP@50: 0.5716, FPS: 188.35, Epoch Time: 7.53 seconds\n",
      "Epoch 6/17, Train Loss: 30.5079, Val mAP@50: 0.6061, FPS: 191.86, Epoch Time: 7.49 seconds\n",
      "Epoch 7/17, Train Loss: 29.3131, Val mAP@50: 0.6012, FPS: 204.58, Epoch Time: 7.31 seconds\n",
      "Epoch 8/17, Train Loss: 27.7193, Val mAP@50: 0.6053, FPS: 202.07, Epoch Time: 7.27 seconds\n",
      "Epoch 9/17, Train Loss: 27.8415, Val mAP@50: 0.6184, FPS: 207.70, Epoch Time: 7.17 seconds\n",
      "Epoch 10/17, Train Loss: 28.0562, Val mAP@50: 0.5888, FPS: 202.27, Epoch Time: 7.05 seconds\n",
      "Epoch 11/17, Train Loss: 28.8172, Val mAP@50: 0.5903, FPS: 207.28, Epoch Time: 7.07 seconds\n",
      "Epoch 12/17, Train Loss: 28.4174, Val mAP@50: 0.6114, FPS: 210.40, Epoch Time: 7.12 seconds\n",
      "Epoch 13/17, Train Loss: 29.6343, Val mAP@50: 0.5229, FPS: 212.85, Epoch Time: 7.17 seconds\n",
      "Epoch 14/17, Train Loss: 27.5643, Val mAP@50: 0.6156, FPS: 201.91, Epoch Time: 7.20 seconds\n",
      "Epoch 15/17, Train Loss: 22.5265, Val mAP@50: 0.5945, FPS: 214.66, Epoch Time: 7.12 seconds\n",
      "Epoch 16/17, Train Loss: 20.4941, Val mAP@50: 0.6153, FPS: 219.24, Epoch Time: 7.24 seconds\n"
     ]
    },
    {
     "name": "stderr",
     "output_type": "stream",
     "text": [
      "[I 2025-01-27 11:38:22,391] Trial 72 pruned. \n"
     ]
    },
    {
     "name": "stdout",
     "output_type": "stream",
     "text": [
      "Trial pruned by Optuna at epoch 16.\n",
      "Checking Model: FasterRCNN\n",
      "Starting Trial #73\n",
      "{'batch_size': 6, 'epochs': 18, 'preweight_mode': 'fine_tuning', 'optimizer': 'SGD', 'lr': 0.008769501629821359, 'momentum': 0.9373618999384675, 'weight_decay': 4.018889627267732e-05, 'scheduler': 'ReduceLROnPlateau', 'factor': 0.2673992476442421, 'patience': 4}\n",
      "Epoch 1/18, Train Loss: 43.4743, Val mAP@50: 0.4562, FPS: 154.24, Epoch Time: 7.99 seconds\n",
      "Epoch 2/18, Train Loss: 33.4842, Val mAP@50: 0.4904, FPS: 167.53, Epoch Time: 7.85 seconds\n",
      "Epoch 3/18, Train Loss: 30.9288, Val mAP@50: 0.5649, FPS: 179.71, Epoch Time: 7.69 seconds\n",
      "Epoch 4/18, Train Loss: 31.0902, Val mAP@50: 0.5789, FPS: 179.87, Epoch Time: 7.42 seconds\n",
      "Epoch 5/18, Train Loss: 30.8523, Val mAP@50: 0.6286, FPS: 176.28, Epoch Time: 7.46 seconds\n",
      "Epoch 6/18, Train Loss: 29.8772, Val mAP@50: 0.6042, FPS: 196.96, Epoch Time: 7.43 seconds\n",
      "Epoch 7/18, Train Loss: 29.2683, Val mAP@50: 0.5719, FPS: 191.60, Epoch Time: 7.52 seconds\n",
      "Epoch 8/18, Train Loss: 29.5620, Val mAP@50: 0.6579, FPS: 199.51, Epoch Time: 7.27 seconds\n",
      "Epoch 9/18, Train Loss: 29.3478, Val mAP@50: 0.6209, FPS: 198.33, Epoch Time: 7.28 seconds\n",
      "Epoch 10/18, Train Loss: 31.5412, Val mAP@50: 0.6121, FPS: 195.49, Epoch Time: 7.32 seconds\n",
      "Epoch 11/18, Train Loss: 31.1871, Val mAP@50: 0.6131, FPS: 199.80, Epoch Time: 7.37 seconds\n",
      "Epoch 12/18, Train Loss: 29.5825, Val mAP@50: 0.6446, FPS: 203.43, Epoch Time: 7.28 seconds\n",
      "Epoch 13/18, Train Loss: 31.3772, Val mAP@50: 0.6089, FPS: 196.36, Epoch Time: 7.39 seconds\n",
      "Epoch 14/18, Train Loss: 25.5912, Val mAP@50: 0.6482, FPS: 207.91, Epoch Time: 7.35 seconds\n",
      "Epoch 15/18, Train Loss: 22.9359, Val mAP@50: 0.6273, FPS: 214.67, Epoch Time: 7.18 seconds\n",
      "Epoch 16/18, Train Loss: 20.2033, Val mAP@50: 0.6362, FPS: 211.18, Epoch Time: 7.16 seconds\n",
      "Epoch 17/18, Train Loss: 19.3221, Val mAP@50: 0.6300, FPS: 204.75, Epoch Time: 7.28 seconds\n"
     ]
    },
    {
     "name": "stderr",
     "output_type": "stream",
     "text": [
      "[I 2025-01-27 11:40:36,681] Trial 73 finished with value: 0.6579264998435974 and parameters: {'batch_size': 6, 'epochs': 18, 'preweight_mode': 'fine_tuning', 'optimizer': 'SGD', 'lr': 0.008769501629821359, 'momentum': 0.9373618999384675, 'weight_decay': 4.018889627267732e-05, 'scheduler': 'ReduceLROnPlateau', 'factor': 0.2673992476442421, 'patience': 4}. Best is trial 54 with value: 0.6753758192062378.\n"
     ]
    },
    {
     "name": "stdout",
     "output_type": "stream",
     "text": [
      "Epoch 18/18, Train Loss: 18.2202, Val mAP@50: 0.6227, FPS: 202.99, Epoch Time: 7.31 seconds\n",
      "Best Epoch: 7, Best Val mAP@50: 0.6579, Training Time: 133.55 seconds\n",
      "Model training complete.\n",
      "Checking Model: FasterRCNN\n",
      "Starting Trial #74\n",
      "{'batch_size': 6, 'epochs': 19, 'preweight_mode': 'fine_tuning', 'optimizer': 'SGD', 'lr': 0.010208189613091665, 'momentum': 0.9849364086639087, 'weight_decay': 3.5712080401219455e-05, 'scheduler': 'ReduceLROnPlateau', 'factor': 0.26074838646119874, 'patience': 2}\n",
      "Epoch 1/19, Train Loss: nan, Val mAP@50: 0.0000, FPS: 252.86, Epoch Time: 7.07 seconds\n",
      "Epoch 2/19, Train Loss: nan, Val mAP@50: 0.0000, FPS: 260.35, Epoch Time: 6.87 seconds\n",
      "Epoch 3/19, Train Loss: nan, Val mAP@50: 0.0000, FPS: 260.04, Epoch Time: 6.85 seconds\n",
      "Epoch 4/19, Train Loss: nan, Val mAP@50: 0.0000, FPS: 260.88, Epoch Time: 6.79 seconds\n"
     ]
    },
    {
     "name": "stderr",
     "output_type": "stream",
     "text": [
      "[I 2025-01-27 11:41:11,691] Trial 74 pruned. \n"
     ]
    },
    {
     "name": "stdout",
     "output_type": "stream",
     "text": [
      "Trial pruned by Optuna at epoch 4.\n",
      "Checking Model: FasterRCNN\n",
      "Starting Trial #75\n",
      "{'batch_size': 6, 'epochs': 17, 'preweight_mode': 'fine_tuning', 'optimizer': 'SGD', 'lr': 0.009044918339301709, 'momentum': 0.9375751407117467, 'weight_decay': 1.0198431489341583e-05, 'scheduler': 'ReduceLROnPlateau', 'factor': 0.2336547535143375, 'patience': 4}\n",
      "Epoch 1/17, Train Loss: 40.7022, Val mAP@50: 0.4569, FPS: 176.93, Epoch Time: 7.86 seconds\n",
      "Epoch 2/17, Train Loss: 34.1344, Val mAP@50: 0.5323, FPS: 191.27, Epoch Time: 7.71 seconds\n",
      "Epoch 3/17, Train Loss: 33.4982, Val mAP@50: 0.5094, FPS: 179.00, Epoch Time: 7.69 seconds\n",
      "Epoch 4/17, Train Loss: 32.1041, Val mAP@50: 0.5318, FPS: 184.19, Epoch Time: 7.70 seconds\n",
      "Epoch 5/17, Train Loss: 30.9879, Val mAP@50: 0.5654, FPS: 193.38, Epoch Time: 7.38 seconds\n"
     ]
    },
    {
     "name": "stderr",
     "output_type": "stream",
     "text": [
      "[I 2025-01-27 11:41:58,069] Trial 75 pruned. \n"
     ]
    },
    {
     "name": "stdout",
     "output_type": "stream",
     "text": [
      "Trial pruned by Optuna at epoch 5.\n",
      "Checking Model: FasterRCNN\n",
      "Starting Trial #76\n",
      "{'batch_size': 6, 'epochs': 19, 'preweight_mode': 'fine_tuning', 'optimizer': 'SGD', 'lr': 0.010983385948155623, 'momentum': 0.9468877012904323, 'weight_decay': 1.6128823730372885e-05, 'scheduler': 'ReduceLROnPlateau', 'factor': 0.27515938862351025, 'patience': 4}\n",
      "Epoch 1/19, Train Loss: 42.9144, Val mAP@50: 0.1267, FPS: 154.66, Epoch Time: 7.92 seconds\n",
      "Epoch 2/19, Train Loss: 36.0591, Val mAP@50: 0.5195, FPS: 167.62, Epoch Time: 7.89 seconds\n",
      "Epoch 3/19, Train Loss: 33.6985, Val mAP@50: 0.5522, FPS: 166.77, Epoch Time: 7.83 seconds\n",
      "Epoch 4/19, Train Loss: 32.1575, Val mAP@50: 0.5672, FPS: 178.14, Epoch Time: 7.78 seconds\n",
      "Epoch 5/19, Train Loss: 31.4048, Val mAP@50: 0.5597, FPS: 185.00, Epoch Time: 7.63 seconds\n"
     ]
    },
    {
     "name": "stderr",
     "output_type": "stream",
     "text": [
      "[I 2025-01-27 11:42:45,192] Trial 76 pruned. \n"
     ]
    },
    {
     "name": "stdout",
     "output_type": "stream",
     "text": [
      "Trial pruned by Optuna at epoch 5.\n",
      "Checking Model: FasterRCNN\n",
      "Starting Trial #77\n",
      "{'batch_size': 5, 'epochs': 16, 'preweight_mode': 'fine_tuning', 'optimizer': 'SGD', 'lr': 0.0069254400447654515, 'momentum': 0.9236285898457952, 'weight_decay': 2.513088339766512e-05, 'scheduler': 'ReduceLROnPlateau', 'factor': 0.1918708941600759, 'patience': 3}\n",
      "Epoch 1/16, Train Loss: 52.1622, Val mAP@50: 0.4844, FPS: 157.79, Epoch Time: 7.91 seconds\n",
      "Epoch 2/16, Train Loss: 40.2860, Val mAP@50: 0.4456, FPS: 182.15, Epoch Time: 7.55 seconds\n",
      "Epoch 3/16, Train Loss: 39.9423, Val mAP@50: 0.5246, FPS: 174.10, Epoch Time: 7.56 seconds\n",
      "Epoch 4/16, Train Loss: 37.6645, Val mAP@50: 0.5390, FPS: 172.96, Epoch Time: 7.54 seconds\n",
      "Epoch 5/16, Train Loss: 36.6265, Val mAP@50: 0.5666, FPS: 184.06, Epoch Time: 7.43 seconds\n",
      "Epoch 6/16, Train Loss: 36.3598, Val mAP@50: 0.6049, FPS: 194.52, Epoch Time: 7.32 seconds\n",
      "Epoch 7/16, Train Loss: 35.1109, Val mAP@50: 0.5696, FPS: 196.59, Epoch Time: 7.26 seconds\n",
      "Epoch 8/16, Train Loss: 34.2642, Val mAP@50: 0.5740, FPS: 198.94, Epoch Time: 7.58 seconds\n",
      "Epoch 9/16, Train Loss: 36.6114, Val mAP@50: 0.5862, FPS: 192.32, Epoch Time: 7.53 seconds\n",
      "Epoch 10/16, Train Loss: 34.2299, Val mAP@50: 0.5963, FPS: 190.53, Epoch Time: 7.53 seconds\n",
      "Epoch 11/16, Train Loss: 29.0980, Val mAP@50: 0.6416, FPS: 190.70, Epoch Time: 7.54 seconds\n",
      "Epoch 12/16, Train Loss: 26.5390, Val mAP@50: 0.5978, FPS: 192.47, Epoch Time: 7.43 seconds\n",
      "Epoch 13/16, Train Loss: 23.6487, Val mAP@50: 0.6249, FPS: 204.92, Epoch Time: 7.27 seconds\n",
      "Epoch 14/16, Train Loss: 21.3926, Val mAP@50: 0.6068, FPS: 205.42, Epoch Time: 7.22 seconds\n",
      "Epoch 15/16, Train Loss: 19.9257, Val mAP@50: 0.6200, FPS: 207.62, Epoch Time: 7.29 seconds\n"
     ]
    },
    {
     "name": "stderr",
     "output_type": "stream",
     "text": [
      "[I 2025-01-27 11:44:45,234] Trial 77 finished with value: 0.6416373252868652 and parameters: {'batch_size': 5, 'epochs': 16, 'preweight_mode': 'fine_tuning', 'optimizer': 'SGD', 'lr': 0.0069254400447654515, 'momentum': 0.9236285898457952, 'weight_decay': 2.513088339766512e-05, 'scheduler': 'ReduceLROnPlateau', 'factor': 0.1918708941600759, 'patience': 3}. Best is trial 54 with value: 0.6753758192062378.\n"
     ]
    },
    {
     "name": "stdout",
     "output_type": "stream",
     "text": [
      "Epoch 16/16, Train Loss: 17.3109, Val mAP@50: 0.6111, FPS: 206.67, Epoch Time: 7.29 seconds\n",
      "Best Epoch: 10, Best Val mAP@50: 0.6416, Training Time: 119.24 seconds\n",
      "Model training complete.\n",
      "Checking Model: FasterRCNN\n",
      "Starting Trial #78\n",
      "{'batch_size': 6, 'epochs': 18, 'preweight_mode': 'random', 'optimizer': 'SGD', 'lr': 0.007801497337571886, 'momentum': 0.9356779517120719, 'weight_decay': 2.0864285895898984e-05, 'scheduler': 'ReduceLROnPlateau', 'factor': 0.4190476936802262, 'patience': 4}\n",
      "Epoch 1/18, Train Loss: nan, Val mAP@50: 0.0000, FPS: 258.43, Epoch Time: 7.61 seconds\n",
      "Epoch 2/18, Train Loss: nan, Val mAP@50: 0.0000, FPS: 260.81, Epoch Time: 6.75 seconds\n",
      "Epoch 3/18, Train Loss: nan, Val mAP@50: 0.0000, FPS: 259.63, Epoch Time: 6.66 seconds\n",
      "Epoch 4/18, Train Loss: nan, Val mAP@50: 0.0000, FPS: 259.30, Epoch Time: 6.75 seconds\n"
     ]
    },
    {
     "name": "stderr",
     "output_type": "stream",
     "text": [
      "[I 2025-01-27 11:45:20,356] Trial 78 pruned. \n"
     ]
    },
    {
     "name": "stdout",
     "output_type": "stream",
     "text": [
      "Trial pruned by Optuna at epoch 4.\n",
      "Checking Model: FasterRCNN\n",
      "Starting Trial #79\n",
      "{'batch_size': 6, 'epochs': 17, 'preweight_mode': 'fine_tuning', 'optimizer': 'RMSprop', 'lr': 0.004326101600173971, 'weight_decay': 0.10739574461283628, 'momentum': 0.9155008075737618, 'scheduler': 'OneCycleLR', 'max_lr': 0.0009159100275062124}\n",
      "Epoch 1/17, Train Loss: 46.9789, Val mAP@50: 0.0000, FPS: 149.42, Epoch Time: 8.11 seconds\n",
      "Epoch 2/17, Train Loss: 42.8243, Val mAP@50: 0.0000, FPS: 148.30, Epoch Time: 7.97 seconds\n",
      "Epoch 3/17, Train Loss: 41.3008, Val mAP@50: 0.0000, FPS: 147.75, Epoch Time: 8.14 seconds\n",
      "Epoch 4/17, Train Loss: 41.8363, Val mAP@50: 0.0000, FPS: 149.79, Epoch Time: 8.18 seconds\n"
     ]
    },
    {
     "name": "stderr",
     "output_type": "stream",
     "text": [
      "[I 2025-01-27 11:46:01,536] Trial 79 pruned. \n"
     ]
    },
    {
     "name": "stdout",
     "output_type": "stream",
     "text": [
      "Trial pruned by Optuna at epoch 4.\n",
      "Checking Model: FasterRCNN\n",
      "Starting Trial #80\n",
      "{'batch_size': 6, 'epochs': 18, 'preweight_mode': 'fine_tuning', 'optimizer': 'SGD', 'lr': 0.009000150496805815, 'momentum': 0.9195589477094467, 'weight_decay': 3.950703298214917e-05, 'scheduler': 'StepLR', 'step_size': 3, 'gamma': 0.21359316140916842}\n",
      "Epoch 1/18, Train Loss: 42.6088, Val mAP@50: 0.5075, FPS: 178.24, Epoch Time: 7.76 seconds\n",
      "Epoch 2/18, Train Loss: 33.0313, Val mAP@50: 0.5575, FPS: 179.36, Epoch Time: 7.68 seconds\n",
      "Epoch 3/18, Train Loss: 32.9032, Val mAP@50: 0.6269, FPS: 180.53, Epoch Time: 7.35 seconds\n",
      "Epoch 4/18, Train Loss: 28.5377, Val mAP@50: 0.6146, FPS: 197.85, Epoch Time: 7.34 seconds\n",
      "Epoch 5/18, Train Loss: 27.1381, Val mAP@50: 0.6392, FPS: 191.55, Epoch Time: 7.41 seconds\n",
      "Epoch 6/18, Train Loss: 25.0258, Val mAP@50: 0.6224, FPS: 196.78, Epoch Time: 7.44 seconds\n",
      "Epoch 7/18, Train Loss: 22.8092, Val mAP@50: 0.6232, FPS: 203.46, Epoch Time: 7.34 seconds\n",
      "Epoch 8/18, Train Loss: 22.7882, Val mAP@50: 0.6234, FPS: 200.83, Epoch Time: 7.21 seconds\n",
      "Epoch 9/18, Train Loss: 22.2630, Val mAP@50: 0.6306, FPS: 198.97, Epoch Time: 7.28 seconds\n",
      "Epoch 10/18, Train Loss: 21.8100, Val mAP@50: 0.6372, FPS: 201.27, Epoch Time: 7.15 seconds\n",
      "Epoch 11/18, Train Loss: 21.7245, Val mAP@50: 0.6385, FPS: 204.67, Epoch Time: 7.22 seconds\n",
      "Epoch 12/18, Train Loss: 21.8241, Val mAP@50: 0.6280, FPS: 202.11, Epoch Time: 7.20 seconds\n",
      "Epoch 13/18, Train Loss: 21.2375, Val mAP@50: 0.6279, FPS: 195.01, Epoch Time: 7.35 seconds\n",
      "Epoch 14/18, Train Loss: 21.3733, Val mAP@50: 0.6280, FPS: 201.71, Epoch Time: 7.30 seconds\n",
      "Epoch 15/18, Train Loss: 21.2393, Val mAP@50: 0.6282, FPS: 199.40, Epoch Time: 7.40 seconds\n",
      "Epoch 16/18, Train Loss: 21.4400, Val mAP@50: 0.6280, FPS: 191.76, Epoch Time: 7.44 seconds\n",
      "Epoch 17/18, Train Loss: 21.0880, Val mAP@50: 0.6280, FPS: 195.16, Epoch Time: 7.35 seconds\n"
     ]
    },
    {
     "name": "stderr",
     "output_type": "stream",
     "text": [
      "[I 2025-01-27 11:48:14,802] Trial 80 finished with value: 0.639187216758728 and parameters: {'batch_size': 6, 'epochs': 18, 'preweight_mode': 'fine_tuning', 'optimizer': 'SGD', 'lr': 0.009000150496805815, 'momentum': 0.9195589477094467, 'weight_decay': 3.950703298214917e-05, 'scheduler': 'StepLR', 'step_size': 3, 'gamma': 0.21359316140916842}. Best is trial 54 with value: 0.6753758192062378.\n"
     ]
    },
    {
     "name": "stdout",
     "output_type": "stream",
     "text": [
      "Epoch 18/18, Train Loss: 21.0306, Val mAP@50: 0.6281, FPS: 202.68, Epoch Time: 7.30 seconds\n",
      "Best Epoch: 4, Best Val mAP@50: 0.6392, Training Time: 132.52 seconds\n",
      "Model training complete.\n",
      "Checking Model: FasterRCNN\n",
      "Starting Trial #81\n",
      "{'batch_size': 7, 'epochs': 18, 'preweight_mode': 'fine_tuning', 'optimizer': 'SGD', 'lr': 0.01883888863797854, 'momentum': 0.930996139535183, 'weight_decay': 4.485884015755448e-05, 'scheduler': 'ReduceLROnPlateau', 'factor': 0.3684317852665347, 'patience': 4}\n",
      "Epoch 1/18, Train Loss: 39.2711, Val mAP@50: 0.4735, FPS: 156.21, Epoch Time: 7.71 seconds\n",
      "Epoch 2/18, Train Loss: 32.3001, Val mAP@50: 0.5158, FPS: 159.81, Epoch Time: 7.64 seconds\n",
      "Epoch 3/18, Train Loss: 29.8299, Val mAP@50: 0.5474, FPS: 166.81, Epoch Time: 7.54 seconds\n",
      "Epoch 4/18, Train Loss: 27.6563, Val mAP@50: 0.5588, FPS: 186.63, Epoch Time: 7.46 seconds\n",
      "Epoch 5/18, Train Loss: 26.7428, Val mAP@50: 0.5067, FPS: 203.31, Epoch Time: 7.30 seconds\n"
     ]
    },
    {
     "name": "stderr",
     "output_type": "stream",
     "text": [
      "[I 2025-01-27 11:49:00,323] Trial 81 pruned. \n"
     ]
    },
    {
     "name": "stdout",
     "output_type": "stream",
     "text": [
      "Trial pruned by Optuna at epoch 5.\n",
      "Checking Model: FasterRCNN\n",
      "Starting Trial #82\n",
      "{'batch_size': 6, 'epochs': 18, 'preweight_mode': 'fine_tuning', 'optimizer': 'SGD', 'lr': 0.01485116099088247, 'momentum': 0.9239532249868866, 'weight_decay': 0.0006830526180136691, 'scheduler': 'ReduceLROnPlateau', 'factor': 0.3873099038162965, 'patience': 4}\n",
      "Epoch 1/18, Train Loss: 43.2245, Val mAP@50: 0.4904, FPS: 156.71, Epoch Time: 7.77 seconds\n",
      "Epoch 2/18, Train Loss: 34.9938, Val mAP@50: 0.5402, FPS: 164.47, Epoch Time: 7.79 seconds\n",
      "Epoch 3/18, Train Loss: 33.9926, Val mAP@50: 0.5589, FPS: 174.15, Epoch Time: 7.73 seconds\n",
      "Epoch 4/18, Train Loss: 31.5540, Val mAP@50: 0.4927, FPS: 196.01, Epoch Time: 7.52 seconds\n",
      "Epoch 5/18, Train Loss: 32.6719, Val mAP@50: 0.5823, FPS: 188.34, Epoch Time: 7.50 seconds\n",
      "Epoch 6/18, Train Loss: 31.9415, Val mAP@50: 0.6334, FPS: 182.26, Epoch Time: 7.45 seconds\n",
      "Epoch 7/18, Train Loss: 30.0495, Val mAP@50: 0.6182, FPS: 192.60, Epoch Time: 7.54 seconds\n",
      "Epoch 8/18, Train Loss: 30.6892, Val mAP@50: 0.6056, FPS: 193.38, Epoch Time: 7.46 seconds\n",
      "Epoch 9/18, Train Loss: 30.3786, Val mAP@50: 0.6136, FPS: 184.79, Epoch Time: 7.31 seconds\n",
      "Epoch 10/18, Train Loss: 30.4637, Val mAP@50: 0.5759, FPS: 194.29, Epoch Time: 7.25 seconds\n",
      "Epoch 11/18, Train Loss: 29.9333, Val mAP@50: 0.6374, FPS: 196.53, Epoch Time: 7.31 seconds\n",
      "Epoch 12/18, Train Loss: 26.9220, Val mAP@50: 0.5733, FPS: 202.08, Epoch Time: 7.23 seconds\n",
      "Epoch 13/18, Train Loss: 29.7949, Val mAP@50: 0.6220, FPS: 196.35, Epoch Time: 7.26 seconds\n",
      "Epoch 14/18, Train Loss: 29.3305, Val mAP@50: 0.6289, FPS: 201.47, Epoch Time: 7.14 seconds\n",
      "Epoch 15/18, Train Loss: 31.5932, Val mAP@50: 0.5525, FPS: 199.01, Epoch Time: 7.12 seconds\n",
      "Epoch 16/18, Train Loss: 29.6916, Val mAP@50: 0.5838, FPS: 207.36, Epoch Time: 7.16 seconds\n",
      "Epoch 17/18, Train Loss: 25.8156, Val mAP@50: 0.6266, FPS: 212.81, Epoch Time: 6.98 seconds\n"
     ]
    },
    {
     "name": "stderr",
     "output_type": "stream",
     "text": [
      "[I 2025-01-27 11:51:13,596] Trial 82 finished with value: 0.6374041438102722 and parameters: {'batch_size': 6, 'epochs': 18, 'preweight_mode': 'fine_tuning', 'optimizer': 'SGD', 'lr': 0.01485116099088247, 'momentum': 0.9239532249868866, 'weight_decay': 0.0006830526180136691, 'scheduler': 'ReduceLROnPlateau', 'factor': 0.3873099038162965, 'patience': 4}. Best is trial 54 with value: 0.6753758192062378.\n"
     ]
    },
    {
     "name": "stdout",
     "output_type": "stream",
     "text": [
      "Epoch 18/18, Train Loss: 23.3244, Val mAP@50: 0.5905, FPS: 214.32, Epoch Time: 7.01 seconds\n",
      "Best Epoch: 10, Best Val mAP@50: 0.6374, Training Time: 132.52 seconds\n",
      "Model training complete.\n",
      "Checking Model: FasterRCNN\n",
      "Starting Trial #83\n",
      "{'batch_size': 7, 'epochs': 17, 'preweight_mode': 'fine_tuning', 'optimizer': 'SGD', 'lr': 0.008583918702517741, 'momentum': 0.9334658437074094, 'weight_decay': 0.0001063035293259423, 'scheduler': 'ReduceLROnPlateau', 'factor': 0.32131745889807944, 'patience': 4}\n",
      "Epoch 1/17, Train Loss: 39.1223, Val mAP@50: 0.3635, FPS: 170.95, Epoch Time: 7.59 seconds\n",
      "Epoch 2/17, Train Loss: 29.3797, Val mAP@50: 0.5340, FPS: 160.05, Epoch Time: 7.51 seconds\n",
      "Epoch 3/17, Train Loss: 26.6606, Val mAP@50: 0.5809, FPS: 171.09, Epoch Time: 7.43 seconds\n",
      "Epoch 4/17, Train Loss: 26.8726, Val mAP@50: 0.5814, FPS: 188.11, Epoch Time: 7.32 seconds\n",
      "Epoch 5/17, Train Loss: 26.4625, Val mAP@50: 0.5006, FPS: 187.94, Epoch Time: 7.24 seconds\n"
     ]
    },
    {
     "name": "stderr",
     "output_type": "stream",
     "text": [
      "[I 2025-01-27 11:51:58,480] Trial 83 pruned. \n"
     ]
    },
    {
     "name": "stdout",
     "output_type": "stream",
     "text": [
      "Trial pruned by Optuna at epoch 5.\n",
      "Checking Model: FasterRCNN\n",
      "Starting Trial #84\n",
      "{'batch_size': 6, 'epochs': 19, 'preweight_mode': 'fine_tuning', 'optimizer': 'SGD', 'lr': 0.02647512052254536, 'momentum': 0.9421389523999764, 'weight_decay': 0.0002132159186326192, 'scheduler': 'ReduceLROnPlateau', 'factor': 0.4028394357276291, 'patience': 4}\n",
      "Epoch 1/19, Train Loss: nan, Val mAP@50: 0.0000, FPS: 255.29, Epoch Time: 6.87 seconds\n",
      "Epoch 2/19, Train Loss: nan, Val mAP@50: 0.0000, FPS: 260.20, Epoch Time: 6.76 seconds\n",
      "Epoch 3/19, Train Loss: nan, Val mAP@50: 0.0000, FPS: 261.95, Epoch Time: 6.69 seconds\n",
      "Epoch 4/19, Train Loss: nan, Val mAP@50: 0.0000, FPS: 260.09, Epoch Time: 6.67 seconds\n"
     ]
    },
    {
     "name": "stderr",
     "output_type": "stream",
     "text": [
      "[I 2025-01-27 11:52:32,717] Trial 84 pruned. \n"
     ]
    },
    {
     "name": "stdout",
     "output_type": "stream",
     "text": [
      "Trial pruned by Optuna at epoch 4.\n",
      "Checking Model: FasterRCNN\n",
      "Starting Trial #85\n",
      "{'batch_size': 7, 'epochs': 17, 'preweight_mode': 'fine_tuning', 'optimizer': 'SGD', 'lr': 0.006154441058681915, 'momentum': 0.9253976444629249, 'weight_decay': 6.310050790702669e-05, 'scheduler': 'ReduceLROnPlateau', 'factor': 0.3575624506330935, 'patience': 4}\n",
      "Epoch 1/17, Train Loss: 37.8581, Val mAP@50: 0.4782, FPS: 165.43, Epoch Time: 7.60 seconds\n",
      "Epoch 2/17, Train Loss: 28.1699, Val mAP@50: 0.5407, FPS: 192.56, Epoch Time: 7.26 seconds\n",
      "Epoch 3/17, Train Loss: 27.8713, Val mAP@50: 0.5093, FPS: 187.43, Epoch Time: 7.18 seconds\n",
      "Epoch 4/17, Train Loss: 26.8950, Val mAP@50: 0.6242, FPS: 190.52, Epoch Time: 7.19 seconds\n",
      "Epoch 5/17, Train Loss: 24.2098, Val mAP@50: 0.6027, FPS: 198.75, Epoch Time: 7.15 seconds\n",
      "Epoch 6/17, Train Loss: 25.4926, Val mAP@50: 0.6184, FPS: 191.48, Epoch Time: 7.08 seconds\n",
      "Epoch 7/17, Train Loss: 24.0354, Val mAP@50: 0.6637, FPS: 200.62, Epoch Time: 7.07 seconds\n",
      "Epoch 8/17, Train Loss: 24.1947, Val mAP@50: 0.6625, FPS: 193.54, Epoch Time: 7.06 seconds\n",
      "Epoch 9/17, Train Loss: 24.2097, Val mAP@50: 0.5700, FPS: 201.28, Epoch Time: 7.04 seconds\n",
      "Epoch 10/17, Train Loss: 23.4753, Val mAP@50: 0.6652, FPS: 203.74, Epoch Time: 7.19 seconds\n",
      "Epoch 11/17, Train Loss: 23.6781, Val mAP@50: 0.6710, FPS: 201.00, Epoch Time: 7.13 seconds\n",
      "Epoch 12/17, Train Loss: 24.4393, Val mAP@50: 0.5777, FPS: 214.89, Epoch Time: 6.99 seconds\n",
      "Epoch 13/17, Train Loss: 22.7403, Val mAP@50: 0.6464, FPS: 207.75, Epoch Time: 7.01 seconds\n",
      "Epoch 14/17, Train Loss: 24.1479, Val mAP@50: 0.5897, FPS: 204.50, Epoch Time: 7.00 seconds\n",
      "Epoch 15/17, Train Loss: 23.1755, Val mAP@50: 0.6436, FPS: 206.98, Epoch Time: 6.93 seconds\n",
      "Epoch 16/17, Train Loss: 21.7672, Val mAP@50: 0.6598, FPS: 207.02, Epoch Time: 6.90 seconds\n"
     ]
    },
    {
     "name": "stderr",
     "output_type": "stream",
     "text": [
      "[I 2025-01-27 11:54:34,152] Trial 85 finished with value: 0.6709517240524292 and parameters: {'batch_size': 7, 'epochs': 17, 'preweight_mode': 'fine_tuning', 'optimizer': 'SGD', 'lr': 0.006154441058681915, 'momentum': 0.9253976444629249, 'weight_decay': 6.310050790702669e-05, 'scheduler': 'ReduceLROnPlateau', 'factor': 0.3575624506330935, 'patience': 4}. Best is trial 54 with value: 0.6753758192062378.\n"
     ]
    },
    {
     "name": "stdout",
     "output_type": "stream",
     "text": [
      "Epoch 17/17, Train Loss: 19.9230, Val mAP@50: 0.6352, FPS: 213.31, Epoch Time: 6.91 seconds\n",
      "Best Epoch: 10, Best Val mAP@50: 0.6710, Training Time: 120.69 seconds\n",
      "Model training complete.\n",
      "Checking Model: FasterRCNN\n",
      "Starting Trial #86\n",
      "{'batch_size': 8, 'epochs': 17, 'preweight_mode': 'freezing', 'optimizer': 'SGD', 'lr': 0.006005561957894098, 'momentum': 0.9254794134162605, 'weight_decay': 5.2429026583944724e-05, 'scheduler': 'ReduceLROnPlateau', 'factor': 0.29149046812274815, 'patience': 5}\n",
      "Epoch 1/17, Train Loss: 74.9762, Val mAP@50: 0.0376, FPS: 232.14, Epoch Time: 6.22 seconds\n",
      "Epoch 2/17, Train Loss: 74.6629, Val mAP@50: 0.0125, FPS: 236.30, Epoch Time: 6.15 seconds\n",
      "Epoch 3/17, Train Loss: 69.4879, Val mAP@50: 0.0585, FPS: 234.60, Epoch Time: 6.18 seconds\n",
      "Epoch 4/17, Train Loss: 65.0937, Val mAP@50: 0.0651, FPS: 234.71, Epoch Time: 6.17 seconds\n",
      "Epoch 5/17, Train Loss: 67.4158, Val mAP@50: 0.0559, FPS: 233.37, Epoch Time: 6.21 seconds\n"
     ]
    },
    {
     "name": "stderr",
     "output_type": "stream",
     "text": [
      "[I 2025-01-27 11:55:11,963] Trial 86 pruned. \n"
     ]
    },
    {
     "name": "stdout",
     "output_type": "stream",
     "text": [
      "Trial pruned by Optuna at epoch 5.\n",
      "Checking Model: FasterRCNN\n",
      "Starting Trial #87\n",
      "{'batch_size': 5, 'epochs': 17, 'preweight_mode': 'fine_tuning', 'optimizer': 'SGD', 'lr': 0.006438911209528528, 'momentum': 0.937696881109125, 'weight_decay': 6.254690048444492e-05, 'scheduler': 'ReduceLROnPlateau', 'factor': 0.4220597588310676, 'patience': 3}\n",
      "Epoch 1/17, Train Loss: 52.3918, Val mAP@50: 0.4052, FPS: 151.29, Epoch Time: 7.62 seconds\n",
      "Epoch 2/17, Train Loss: 41.1392, Val mAP@50: 0.5489, FPS: 171.98, Epoch Time: 7.60 seconds\n",
      "Epoch 3/17, Train Loss: 40.7041, Val mAP@50: 0.4900, FPS: 193.11, Epoch Time: 7.31 seconds\n",
      "Epoch 4/17, Train Loss: 38.4657, Val mAP@50: 0.6256, FPS: 194.87, Epoch Time: 7.18 seconds\n",
      "Epoch 5/17, Train Loss: 37.4925, Val mAP@50: 0.6211, FPS: 189.40, Epoch Time: 7.26 seconds\n",
      "Epoch 6/17, Train Loss: 39.2416, Val mAP@50: 0.5690, FPS: 189.11, Epoch Time: 7.36 seconds\n",
      "Epoch 7/17, Train Loss: 35.7617, Val mAP@50: 0.6010, FPS: 187.81, Epoch Time: 7.37 seconds\n",
      "Epoch 8/17, Train Loss: 34.9210, Val mAP@50: 0.6318, FPS: 198.15, Epoch Time: 7.33 seconds\n",
      "Epoch 9/17, Train Loss: 38.3102, Val mAP@50: 0.5394, FPS: 200.45, Epoch Time: 7.09 seconds\n",
      "Epoch 10/17, Train Loss: 35.7456, Val mAP@50: 0.6288, FPS: 203.65, Epoch Time: 7.20 seconds\n",
      "Epoch 11/17, Train Loss: 38.6563, Val mAP@50: 0.6386, FPS: 196.62, Epoch Time: 7.26 seconds\n",
      "Epoch 12/17, Train Loss: 34.0376, Val mAP@50: 0.5925, FPS: 207.79, Epoch Time: 7.25 seconds\n",
      "Epoch 13/17, Train Loss: 38.8889, Val mAP@50: 0.5708, FPS: 202.26, Epoch Time: 7.21 seconds\n",
      "Epoch 14/17, Train Loss: 35.6469, Val mAP@50: 0.6171, FPS: 207.27, Epoch Time: 7.14 seconds\n",
      "Epoch 15/17, Train Loss: 37.0242, Val mAP@50: 0.6227, FPS: 204.85, Epoch Time: 7.10 seconds\n",
      "Epoch 16/17, Train Loss: 30.5251, Val mAP@50: 0.6426, FPS: 209.87, Epoch Time: 7.01 seconds\n"
     ]
    },
    {
     "name": "stderr",
     "output_type": "stream",
     "text": [
      "[I 2025-01-27 11:57:16,088] Trial 87 finished with value: 0.6426297426223755 and parameters: {'batch_size': 5, 'epochs': 17, 'preweight_mode': 'fine_tuning', 'optimizer': 'SGD', 'lr': 0.006438911209528528, 'momentum': 0.937696881109125, 'weight_decay': 6.254690048444492e-05, 'scheduler': 'ReduceLROnPlateau', 'factor': 0.4220597588310676, 'patience': 3}. Best is trial 54 with value: 0.6753758192062378.\n"
     ]
    },
    {
     "name": "stdout",
     "output_type": "stream",
     "text": [
      "Epoch 17/17, Train Loss: 27.9300, Val mAP@50: 0.6303, FPS: 210.63, Epoch Time: 7.10 seconds\n",
      "Best Epoch: 15, Best Val mAP@50: 0.6426, Training Time: 123.39 seconds\n",
      "Model training complete.\n",
      "Checking Model: FasterRCNN\n",
      "Starting Trial #88\n",
      "{'batch_size': 6, 'epochs': 16, 'preweight_mode': 'fine_tuning', 'optimizer': 'SGD', 'lr': 0.008052711769469995, 'momentum': 0.9270326089985297, 'weight_decay': 2.9780320473863555e-05, 'scheduler': 'ReduceLROnPlateau', 'factor': 0.395436349025892, 'patience': 4}\n",
      "Epoch 1/16, Train Loss: 41.7986, Val mAP@50: 0.4593, FPS: 168.24, Epoch Time: 7.68 seconds\n",
      "Epoch 2/16, Train Loss: 33.6011, Val mAP@50: 0.5299, FPS: 171.99, Epoch Time: 7.54 seconds\n",
      "Epoch 3/16, Train Loss: 32.8409, Val mAP@50: 0.4150, FPS: 195.55, Epoch Time: 7.40 seconds\n",
      "Epoch 4/16, Train Loss: 32.0523, Val mAP@50: 0.5560, FPS: 197.84, Epoch Time: 7.36 seconds\n",
      "Epoch 5/16, Train Loss: 31.2964, Val mAP@50: 0.6038, FPS: 190.66, Epoch Time: 7.35 seconds\n",
      "Epoch 6/16, Train Loss: 30.4160, Val mAP@50: 0.6242, FPS: 197.92, Epoch Time: 7.13 seconds\n",
      "Epoch 7/16, Train Loss: 30.1380, Val mAP@50: 0.6115, FPS: 197.27, Epoch Time: 7.15 seconds\n",
      "Epoch 8/16, Train Loss: 30.6115, Val mAP@50: 0.5633, FPS: 195.00, Epoch Time: 7.04 seconds\n",
      "Epoch 9/16, Train Loss: 29.2190, Val mAP@50: 0.5444, FPS: 209.72, Epoch Time: 7.01 seconds\n",
      "Epoch 10/16, Train Loss: 29.9493, Val mAP@50: 0.6276, FPS: 205.75, Epoch Time: 7.00 seconds\n",
      "Epoch 11/16, Train Loss: 28.6549, Val mAP@50: 0.5982, FPS: 207.69, Epoch Time: 7.06 seconds\n",
      "Epoch 12/16, Train Loss: 29.3448, Val mAP@50: 0.6085, FPS: 211.62, Epoch Time: 7.05 seconds\n",
      "Epoch 13/16, Train Loss: 29.9311, Val mAP@50: 0.5914, FPS: 210.89, Epoch Time: 7.06 seconds\n",
      "Epoch 14/16, Train Loss: 29.7759, Val mAP@50: 0.6205, FPS: 208.26, Epoch Time: 7.03 seconds\n",
      "Epoch 15/16, Train Loss: 29.2662, Val mAP@50: 0.5979, FPS: 210.68, Epoch Time: 7.06 seconds\n"
     ]
    },
    {
     "name": "stderr",
     "output_type": "stream",
     "text": [
      "[I 2025-01-27 11:59:11,820] Trial 88 finished with value: 0.6486868858337402 and parameters: {'batch_size': 6, 'epochs': 16, 'preweight_mode': 'fine_tuning', 'optimizer': 'SGD', 'lr': 0.008052711769469995, 'momentum': 0.9270326089985297, 'weight_decay': 2.9780320473863555e-05, 'scheduler': 'ReduceLROnPlateau', 'factor': 0.395436349025892, 'patience': 4}. Best is trial 54 with value: 0.6753758192062378.\n"
     ]
    },
    {
     "name": "stdout",
     "output_type": "stream",
     "text": [
      "Epoch 16/16, Train Loss: 27.5029, Val mAP@50: 0.6487, FPS: 214.03, Epoch Time: 7.03 seconds\n",
      "Best Epoch: 15, Best Val mAP@50: 0.6487, Training Time: 114.96 seconds\n",
      "Model training complete.\n",
      "Checking Model: FasterRCNN\n",
      "Starting Trial #89\n",
      "{'batch_size': 6, 'epochs': 16, 'preweight_mode': 'fine_tuning', 'optimizer': 'SGD', 'lr': 0.007118603859210003, 'momentum': 0.9178626653039424, 'weight_decay': 9.797554433218226e-05, 'scheduler': 'ReduceLROnPlateau', 'factor': 0.3410991894526297, 'patience': 5}\n",
      "Epoch 1/16, Train Loss: 44.9173, Val mAP@50: 0.4480, FPS: 154.28, Epoch Time: 7.74 seconds\n",
      "Epoch 2/16, Train Loss: 33.2927, Val mAP@50: 0.5230, FPS: 179.26, Epoch Time: 7.50 seconds\n",
      "Epoch 3/16, Train Loss: 31.4962, Val mAP@50: 0.5595, FPS: 197.91, Epoch Time: 7.41 seconds\n",
      "Epoch 4/16, Train Loss: 32.2619, Val mAP@50: 0.6291, FPS: 189.58, Epoch Time: 7.44 seconds\n",
      "Epoch 5/16, Train Loss: 29.4017, Val mAP@50: 0.5871, FPS: 196.34, Epoch Time: 7.36 seconds\n",
      "Epoch 6/16, Train Loss: 29.9780, Val mAP@50: 0.5295, FPS: 196.78, Epoch Time: 7.27 seconds\n",
      "Epoch 7/16, Train Loss: 29.6735, Val mAP@50: 0.5808, FPS: 187.80, Epoch Time: 7.33 seconds\n",
      "Epoch 8/16, Train Loss: 28.0720, Val mAP@50: 0.6346, FPS: 200.07, Epoch Time: 7.35 seconds\n",
      "Epoch 9/16, Train Loss: 29.0030, Val mAP@50: 0.5864, FPS: 194.71, Epoch Time: 7.32 seconds\n",
      "Epoch 10/16, Train Loss: 27.5575, Val mAP@50: 0.5850, FPS: 201.76, Epoch Time: 7.25 seconds\n",
      "Epoch 11/16, Train Loss: 28.9846, Val mAP@50: 0.6262, FPS: 203.36, Epoch Time: 7.26 seconds\n",
      "Epoch 12/16, Train Loss: 29.7175, Val mAP@50: 0.5799, FPS: 204.67, Epoch Time: 7.28 seconds\n",
      "Epoch 13/16, Train Loss: 29.5007, Val mAP@50: 0.5913, FPS: 210.04, Epoch Time: 7.20 seconds\n",
      "Epoch 14/16, Train Loss: 29.3147, Val mAP@50: 0.6302, FPS: 211.98, Epoch Time: 7.16 seconds\n",
      "Epoch 15/16, Train Loss: 25.2109, Val mAP@50: 0.6351, FPS: 210.40, Epoch Time: 7.20 seconds\n"
     ]
    },
    {
     "name": "stderr",
     "output_type": "stream",
     "text": [
      "[I 2025-01-27 12:01:09,691] Trial 89 finished with value: 0.6350789070129395 and parameters: {'batch_size': 6, 'epochs': 16, 'preweight_mode': 'fine_tuning', 'optimizer': 'SGD', 'lr': 0.007118603859210003, 'momentum': 0.9178626653039424, 'weight_decay': 9.797554433218226e-05, 'scheduler': 'ReduceLROnPlateau', 'factor': 0.3410991894526297, 'patience': 5}. Best is trial 54 with value: 0.6753758192062378.\n"
     ]
    },
    {
     "name": "stdout",
     "output_type": "stream",
     "text": [
      "Epoch 16/16, Train Loss: 21.1602, Val mAP@50: 0.6261, FPS: 212.95, Epoch Time: 7.04 seconds\n",
      "Best Epoch: 14, Best Val mAP@50: 0.6351, Training Time: 117.10 seconds\n",
      "Model training complete.\n",
      "Checking Model: FasterRCNN\n",
      "Starting Trial #90\n",
      "{'batch_size': 6, 'epochs': 20, 'preweight_mode': 'fine_tuning', 'optimizer': 'SGD', 'lr': 0.00572992770745708, 'momentum': 0.9330462610686364, 'weight_decay': 7.034301942159962e-05, 'scheduler': 'ReduceLROnPlateau', 'factor': 0.4025212859891799, 'patience': 4}\n",
      "Epoch 1/20, Train Loss: 41.6505, Val mAP@50: 0.5070, FPS: 166.23, Epoch Time: 7.73 seconds\n",
      "Epoch 2/20, Train Loss: 33.4303, Val mAP@50: 0.5193, FPS: 181.39, Epoch Time: 7.54 seconds\n",
      "Epoch 3/20, Train Loss: 31.3789, Val mAP@50: 0.4813, FPS: 188.73, Epoch Time: 7.47 seconds\n",
      "Epoch 4/20, Train Loss: 33.2865, Val mAP@50: 0.5845, FPS: 186.68, Epoch Time: 7.53 seconds\n",
      "Epoch 5/20, Train Loss: 30.0253, Val mAP@50: 0.6250, FPS: 193.68, Epoch Time: 7.57 seconds\n",
      "Epoch 6/20, Train Loss: 32.6570, Val mAP@50: 0.6015, FPS: 187.11, Epoch Time: 7.43 seconds\n",
      "Epoch 7/20, Train Loss: 29.1205, Val mAP@50: 0.6437, FPS: 196.06, Epoch Time: 7.44 seconds\n",
      "Epoch 8/20, Train Loss: 29.4234, Val mAP@50: 0.6502, FPS: 205.30, Epoch Time: 7.24 seconds\n",
      "Epoch 9/20, Train Loss: 30.3202, Val mAP@50: 0.5824, FPS: 194.31, Epoch Time: 7.35 seconds\n",
      "Epoch 10/20, Train Loss: 27.7419, Val mAP@50: 0.6410, FPS: 209.26, Epoch Time: 7.22 seconds\n",
      "Epoch 11/20, Train Loss: 28.4081, Val mAP@50: 0.6047, FPS: 206.53, Epoch Time: 7.22 seconds\n",
      "Epoch 12/20, Train Loss: 29.9565, Val mAP@50: 0.5947, FPS: 207.61, Epoch Time: 7.26 seconds\n",
      "Epoch 13/20, Train Loss: 29.4674, Val mAP@50: 0.6192, FPS: 206.62, Epoch Time: 7.26 seconds\n",
      "Epoch 14/20, Train Loss: 25.5545, Val mAP@50: 0.6510, FPS: 209.67, Epoch Time: 7.22 seconds\n",
      "Epoch 15/20, Train Loss: 21.6806, Val mAP@50: 0.6592, FPS: 210.93, Epoch Time: 7.18 seconds\n",
      "Epoch 16/20, Train Loss: 19.7432, Val mAP@50: 0.6587, FPS: 213.33, Epoch Time: 7.18 seconds\n",
      "Epoch 17/20, Train Loss: 18.9373, Val mAP@50: 0.6547, FPS: 213.34, Epoch Time: 7.05 seconds\n",
      "Epoch 18/20, Train Loss: 19.2243, Val mAP@50: 0.6307, FPS: 217.84, Epoch Time: 7.00 seconds\n",
      "Epoch 19/20, Train Loss: 18.7864, Val mAP@50: 0.6609, FPS: 217.22, Epoch Time: 6.89 seconds\n"
     ]
    },
    {
     "name": "stderr",
     "output_type": "stream",
     "text": [
      "[I 2025-01-27 12:03:36,078] Trial 90 finished with value: 0.6609429121017456 and parameters: {'batch_size': 6, 'epochs': 20, 'preweight_mode': 'fine_tuning', 'optimizer': 'SGD', 'lr': 0.00572992770745708, 'momentum': 0.9330462610686364, 'weight_decay': 7.034301942159962e-05, 'scheduler': 'ReduceLROnPlateau', 'factor': 0.4025212859891799, 'patience': 4}. Best is trial 54 with value: 0.6753758192062378.\n"
     ]
    },
    {
     "name": "stdout",
     "output_type": "stream",
     "text": [
      "Epoch 20/20, Train Loss: 20.1187, Val mAP@50: 0.6551, FPS: 222.00, Epoch Time: 6.84 seconds\n",
      "Best Epoch: 18, Best Val mAP@50: 0.6609, Training Time: 145.62 seconds\n",
      "Model training complete.\n",
      "Checking Model: FasterRCNN\n",
      "Starting Trial #91\n",
      "{'batch_size': 6, 'epochs': 17, 'preweight_mode': 'fine_tuning', 'optimizer': 'SGD', 'lr': 0.005562807003835387, 'momentum': 0.9328567236871179, 'weight_decay': 7.349985786517183e-05, 'scheduler': 'ReduceLROnPlateau', 'factor': 0.3997437126341112, 'patience': 4}\n",
      "Epoch 1/17, Train Loss: 44.0824, Val mAP@50: 0.4240, FPS: 167.89, Epoch Time: 7.65 seconds\n",
      "Epoch 2/17, Train Loss: 34.1284, Val mAP@50: 0.5636, FPS: 176.08, Epoch Time: 7.49 seconds\n",
      "Epoch 3/17, Train Loss: 31.1372, Val mAP@50: 0.5964, FPS: 190.77, Epoch Time: 7.44 seconds\n",
      "Epoch 4/17, Train Loss: 32.3932, Val mAP@50: 0.5598, FPS: 169.50, Epoch Time: 7.37 seconds\n",
      "Epoch 5/17, Train Loss: 29.9529, Val mAP@50: 0.5276, FPS: 192.18, Epoch Time: 7.32 seconds\n",
      "Epoch 6/17, Train Loss: 28.5701, Val mAP@50: 0.6387, FPS: 204.00, Epoch Time: 7.17 seconds\n",
      "Epoch 7/17, Train Loss: 28.4035, Val mAP@50: 0.6036, FPS: 209.74, Epoch Time: 7.13 seconds\n",
      "Epoch 8/17, Train Loss: 28.1278, Val mAP@50: 0.5771, FPS: 211.73, Epoch Time: 7.08 seconds\n",
      "Epoch 9/17, Train Loss: 28.7441, Val mAP@50: 0.6321, FPS: 208.98, Epoch Time: 7.01 seconds\n",
      "Epoch 10/17, Train Loss: 28.7261, Val mAP@50: 0.6083, FPS: 204.49, Epoch Time: 7.08 seconds\n",
      "Epoch 11/17, Train Loss: 28.4917, Val mAP@50: 0.6765, FPS: 203.16, Epoch Time: 7.08 seconds\n",
      "Epoch 12/17, Train Loss: 29.2627, Val mAP@50: 0.5580, FPS: 204.26, Epoch Time: 7.07 seconds\n",
      "Epoch 13/17, Train Loss: 28.4412, Val mAP@50: 0.6163, FPS: 203.81, Epoch Time: 7.19 seconds\n",
      "Epoch 14/17, Train Loss: 29.0528, Val mAP@50: 0.5594, FPS: 215.65, Epoch Time: 6.89 seconds\n",
      "Epoch 15/17, Train Loss: 27.5645, Val mAP@50: 0.6238, FPS: 213.73, Epoch Time: 7.08 seconds\n",
      "Epoch 16/17, Train Loss: 27.9756, Val mAP@50: 0.6504, FPS: 211.20, Epoch Time: 7.05 seconds\n"
     ]
    },
    {
     "name": "stderr",
     "output_type": "stream",
     "text": [
      "[I 2025-01-27 12:05:38,985] Trial 91 finished with value: 0.6765016913414001 and parameters: {'batch_size': 6, 'epochs': 17, 'preweight_mode': 'fine_tuning', 'optimizer': 'SGD', 'lr': 0.005562807003835387, 'momentum': 0.9328567236871179, 'weight_decay': 7.349985786517183e-05, 'scheduler': 'ReduceLROnPlateau', 'factor': 0.3997437126341112, 'patience': 4}. Best is trial 91 with value: 0.6765016913414001.\n"
     ]
    },
    {
     "name": "stdout",
     "output_type": "stream",
     "text": [
      "Epoch 17/17, Train Loss: 23.6355, Val mAP@50: 0.6210, FPS: 211.81, Epoch Time: 7.07 seconds\n",
      "Best Epoch: 10, Best Val mAP@50: 0.6765, Training Time: 122.16 seconds\n",
      "Model training complete.\n",
      "Checking Model: FasterRCNN\n",
      "Starting Trial #92\n",
      "{'batch_size': 6, 'epochs': 19, 'preweight_mode': 'fine_tuning', 'optimizer': 'SGD', 'lr': 0.005685674783076737, 'momentum': 0.9333486963895351, 'weight_decay': 6.69149781074175e-05, 'scheduler': 'ReduceLROnPlateau', 'factor': 0.40245863663669446, 'patience': 4}\n",
      "Epoch 1/19, Train Loss: 43.0265, Val mAP@50: 0.4763, FPS: 173.10, Epoch Time: 7.70 seconds\n",
      "Epoch 2/19, Train Loss: 33.0512, Val mAP@50: 0.4982, FPS: 175.34, Epoch Time: 7.55 seconds\n",
      "Epoch 3/19, Train Loss: 32.5431, Val mAP@50: 0.5800, FPS: 189.31, Epoch Time: 7.42 seconds\n",
      "Epoch 4/19, Train Loss: 30.4179, Val mAP@50: 0.6181, FPS: 182.39, Epoch Time: 7.39 seconds\n",
      "Epoch 5/19, Train Loss: 30.6032, Val mAP@50: 0.5948, FPS: 190.82, Epoch Time: 7.28 seconds\n",
      "Epoch 6/19, Train Loss: 29.8565, Val mAP@50: 0.6040, FPS: 203.44, Epoch Time: 7.27 seconds\n",
      "Epoch 7/19, Train Loss: 29.7704, Val mAP@50: 0.6226, FPS: 205.46, Epoch Time: 7.22 seconds\n",
      "Epoch 8/19, Train Loss: 28.7274, Val mAP@50: 0.5773, FPS: 211.64, Epoch Time: 7.17 seconds\n",
      "Epoch 9/19, Train Loss: 29.4721, Val mAP@50: 0.5836, FPS: 207.42, Epoch Time: 7.14 seconds\n",
      "Epoch 10/19, Train Loss: 29.9125, Val mAP@50: 0.6368, FPS: 204.78, Epoch Time: 7.16 seconds\n",
      "Epoch 11/19, Train Loss: 29.9113, Val mAP@50: 0.5722, FPS: 207.34, Epoch Time: 7.11 seconds\n",
      "Epoch 12/19, Train Loss: 27.5951, Val mAP@50: 0.6312, FPS: 209.10, Epoch Time: 7.09 seconds\n",
      "Epoch 13/19, Train Loss: 29.5318, Val mAP@50: 0.5859, FPS: 215.28, Epoch Time: 7.05 seconds\n",
      "Epoch 14/19, Train Loss: 28.9344, Val mAP@50: 0.6268, FPS: 211.80, Epoch Time: 7.05 seconds\n",
      "Epoch 15/19, Train Loss: 28.1146, Val mAP@50: 0.6223, FPS: 208.44, Epoch Time: 6.88 seconds\n",
      "Epoch 16/19, Train Loss: 24.6999, Val mAP@50: 0.6563, FPS: 213.70, Epoch Time: 6.98 seconds\n",
      "Epoch 17/19, Train Loss: 21.4921, Val mAP@50: 0.6329, FPS: 214.34, Epoch Time: 7.05 seconds\n",
      "Epoch 18/19, Train Loss: 18.8588, Val mAP@50: 0.6282, FPS: 216.53, Epoch Time: 7.05 seconds\n"
     ]
    },
    {
     "name": "stderr",
     "output_type": "stream",
     "text": [
      "[I 2025-01-27 12:07:56,159] Trial 92 finished with value: 0.6563452482223511 and parameters: {'batch_size': 6, 'epochs': 19, 'preweight_mode': 'fine_tuning', 'optimizer': 'SGD', 'lr': 0.005685674783076737, 'momentum': 0.9333486963895351, 'weight_decay': 6.69149781074175e-05, 'scheduler': 'ReduceLROnPlateau', 'factor': 0.40245863663669446, 'patience': 4}. Best is trial 91 with value: 0.6765016913414001.\n"
     ]
    },
    {
     "name": "stdout",
     "output_type": "stream",
     "text": [
      "Epoch 19/19, Train Loss: 18.2081, Val mAP@50: 0.6216, FPS: 216.88, Epoch Time: 6.84 seconds\n",
      "Best Epoch: 15, Best Val mAP@50: 0.6563, Training Time: 136.41 seconds\n",
      "Model training complete.\n",
      "Checking Model: FasterRCNN\n",
      "Starting Trial #93\n",
      "{'batch_size': 6, 'epochs': 20, 'preweight_mode': 'fine_tuning', 'optimizer': 'SGD', 'lr': 0.00555315085943573, 'momentum': 0.936479171763006, 'weight_decay': 0.00011608083784674406, 'scheduler': 'ReduceLROnPlateau', 'factor': 0.11069273181280995, 'patience': 4}\n",
      "Epoch 1/20, Train Loss: 43.9558, Val mAP@50: 0.3975, FPS: 183.56, Epoch Time: 7.70 seconds\n",
      "Epoch 2/20, Train Loss: 33.9916, Val mAP@50: 0.5673, FPS: 176.06, Epoch Time: 7.48 seconds\n",
      "Epoch 3/20, Train Loss: 31.5675, Val mAP@50: 0.5620, FPS: 178.13, Epoch Time: 7.51 seconds\n",
      "Epoch 4/20, Train Loss: 32.3665, Val mAP@50: 0.5927, FPS: 181.43, Epoch Time: 7.42 seconds\n",
      "Epoch 5/20, Train Loss: 30.5469, Val mAP@50: 0.6201, FPS: 179.66, Epoch Time: 7.37 seconds\n",
      "Epoch 6/20, Train Loss: 29.0160, Val mAP@50: 0.6126, FPS: 200.22, Epoch Time: 7.26 seconds\n",
      "Epoch 7/20, Train Loss: 29.3906, Val mAP@50: 0.6464, FPS: 199.18, Epoch Time: 7.29 seconds\n",
      "Epoch 8/20, Train Loss: 29.8057, Val mAP@50: 0.6195, FPS: 202.07, Epoch Time: 7.26 seconds\n",
      "Epoch 9/20, Train Loss: 29.2017, Val mAP@50: 0.6316, FPS: 206.93, Epoch Time: 7.20 seconds\n",
      "Epoch 10/20, Train Loss: 28.4247, Val mAP@50: 0.5971, FPS: 210.09, Epoch Time: 7.13 seconds\n",
      "Epoch 11/20, Train Loss: 30.2612, Val mAP@50: 0.6101, FPS: 209.73, Epoch Time: 7.15 seconds\n",
      "Epoch 12/20, Train Loss: 28.3368, Val mAP@50: 0.5992, FPS: 210.53, Epoch Time: 7.14 seconds\n",
      "Epoch 13/20, Train Loss: 23.5949, Val mAP@50: 0.6256, FPS: 213.72, Epoch Time: 7.14 seconds\n",
      "Epoch 14/20, Train Loss: 21.0383, Val mAP@50: 0.6187, FPS: 213.46, Epoch Time: 7.08 seconds\n",
      "Epoch 15/20, Train Loss: 19.5443, Val mAP@50: 0.6055, FPS: 214.19, Epoch Time: 7.11 seconds\n",
      "Epoch 16/20, Train Loss: 17.7453, Val mAP@50: 0.6034, FPS: 215.74, Epoch Time: 7.04 seconds\n",
      "Epoch 17/20, Train Loss: 16.5455, Val mAP@50: 0.6087, FPS: 214.90, Epoch Time: 7.00 seconds\n",
      "Epoch 18/20, Train Loss: 15.1266, Val mAP@50: 0.6110, FPS: 216.79, Epoch Time: 6.92 seconds\n",
      "Epoch 19/20, Train Loss: 14.8894, Val mAP@50: 0.5954, FPS: 211.85, Epoch Time: 6.98 seconds\n"
     ]
    },
    {
     "name": "stderr",
     "output_type": "stream",
     "text": [
      "[I 2025-01-27 12:10:21,095] Trial 93 finished with value: 0.6463590264320374 and parameters: {'batch_size': 6, 'epochs': 20, 'preweight_mode': 'fine_tuning', 'optimizer': 'SGD', 'lr': 0.00555315085943573, 'momentum': 0.936479171763006, 'weight_decay': 0.00011608083784674406, 'scheduler': 'ReduceLROnPlateau', 'factor': 0.11069273181280995, 'patience': 4}. Best is trial 91 with value: 0.6765016913414001.\n"
     ]
    },
    {
     "name": "stdout",
     "output_type": "stream",
     "text": [
      "Epoch 20/20, Train Loss: 14.8227, Val mAP@50: 0.6032, FPS: 212.73, Epoch Time: 7.01 seconds\n",
      "Best Epoch: 6, Best Val mAP@50: 0.6464, Training Time: 144.19 seconds\n",
      "Model training complete.\n",
      "Checking Model: FasterRCNN\n",
      "Starting Trial #94\n",
      "{'batch_size': 6, 'epochs': 20, 'preweight_mode': 'fine_tuning', 'optimizer': 'SGD', 'lr': 0.00666417948254378, 'momentum': 0.9403221023630343, 'weight_decay': 8.558990097348532e-05, 'scheduler': 'ReduceLROnPlateau', 'factor': 0.358280899117323, 'patience': 4}\n",
      "Epoch 1/20, Train Loss: 43.4527, Val mAP@50: 0.4668, FPS: 179.32, Epoch Time: 7.66 seconds\n",
      "Epoch 2/20, Train Loss: 34.1487, Val mAP@50: 0.5523, FPS: 175.63, Epoch Time: 7.56 seconds\n",
      "Epoch 3/20, Train Loss: 32.4466, Val mAP@50: 0.5545, FPS: 182.12, Epoch Time: 7.48 seconds\n",
      "Epoch 4/20, Train Loss: 29.9930, Val mAP@50: 0.5154, FPS: 193.13, Epoch Time: 7.39 seconds\n",
      "Epoch 5/20, Train Loss: 30.4465, Val mAP@50: 0.6070, FPS: 196.55, Epoch Time: 7.32 seconds\n",
      "Epoch 6/20, Train Loss: 30.1114, Val mAP@50: 0.6185, FPS: 199.37, Epoch Time: 7.29 seconds\n",
      "Epoch 7/20, Train Loss: 31.6901, Val mAP@50: 0.6381, FPS: 204.51, Epoch Time: 7.21 seconds\n",
      "Epoch 8/20, Train Loss: 28.1840, Val mAP@50: 0.6193, FPS: 202.98, Epoch Time: 7.24 seconds\n",
      "Epoch 9/20, Train Loss: 29.9380, Val mAP@50: 0.6164, FPS: 205.91, Epoch Time: 7.20 seconds\n",
      "Epoch 10/20, Train Loss: 29.8946, Val mAP@50: 0.6038, FPS: 203.08, Epoch Time: 7.29 seconds\n",
      "Epoch 11/20, Train Loss: 30.0987, Val mAP@50: 0.5743, FPS: 207.57, Epoch Time: 7.19 seconds\n",
      "Epoch 12/20, Train Loss: 29.3380, Val mAP@50: 0.6402, FPS: 204.01, Epoch Time: 7.23 seconds\n",
      "Epoch 13/20, Train Loss: 30.1123, Val mAP@50: 0.5786, FPS: 209.44, Epoch Time: 7.21 seconds\n",
      "Epoch 14/20, Train Loss: 30.0761, Val mAP@50: 0.5881, FPS: 211.53, Epoch Time: 7.17 seconds\n",
      "Epoch 15/20, Train Loss: 30.9580, Val mAP@50: 0.6091, FPS: 206.08, Epoch Time: 7.08 seconds\n",
      "Epoch 16/20, Train Loss: 30.0880, Val mAP@50: 0.6756, FPS: 206.88, Epoch Time: 7.02 seconds\n",
      "Epoch 17/20, Train Loss: 31.5639, Val mAP@50: 0.6178, FPS: 208.72, Epoch Time: 7.12 seconds\n",
      "Epoch 18/20, Train Loss: 29.0488, Val mAP@50: 0.6483, FPS: 210.66, Epoch Time: 7.16 seconds\n",
      "Epoch 19/20, Train Loss: 29.0593, Val mAP@50: 0.6130, FPS: 211.33, Epoch Time: 7.16 seconds\n"
     ]
    },
    {
     "name": "stderr",
     "output_type": "stream",
     "text": [
      "[I 2025-01-27 12:12:46,996] Trial 94 finished with value: 0.6755973696708679 and parameters: {'batch_size': 6, 'epochs': 20, 'preweight_mode': 'fine_tuning', 'optimizer': 'SGD', 'lr': 0.00666417948254378, 'momentum': 0.9403221023630343, 'weight_decay': 8.558990097348532e-05, 'scheduler': 'ReduceLROnPlateau', 'factor': 0.358280899117323, 'patience': 4}. Best is trial 91 with value: 0.6765016913414001.\n"
     ]
    },
    {
     "name": "stdout",
     "output_type": "stream",
     "text": [
      "Epoch 20/20, Train Loss: 29.7863, Val mAP@50: 0.6129, FPS: 213.78, Epoch Time: 7.13 seconds\n",
      "Best Epoch: 15, Best Val mAP@50: 0.6756, Training Time: 145.13 seconds\n",
      "Model training complete.\n",
      "Checking Model: FasterRCNN\n",
      "Starting Trial #95\n",
      "{'batch_size': 6, 'epochs': 20, 'preweight_mode': 'fine_tuning', 'optimizer': 'SGD', 'lr': 0.006158547682883761, 'momentum': 0.9414765773381945, 'weight_decay': 9.007998393948343e-05, 'scheduler': 'ReduceLROnPlateau', 'factor': 0.35152261294784715, 'patience': 4}\n",
      "Epoch 1/20, Train Loss: 42.9211, Val mAP@50: 0.4619, FPS: 162.36, Epoch Time: 7.78 seconds\n",
      "Epoch 2/20, Train Loss: 34.0246, Val mAP@50: 0.4904, FPS: 172.19, Epoch Time: 7.62 seconds\n",
      "Epoch 3/20, Train Loss: 30.8546, Val mAP@50: 0.5832, FPS: 175.25, Epoch Time: 7.50 seconds\n",
      "Epoch 4/20, Train Loss: 31.2908, Val mAP@50: 0.5619, FPS: 183.06, Epoch Time: 7.35 seconds\n",
      "Epoch 5/20, Train Loss: 30.7244, Val mAP@50: 0.5965, FPS: 191.65, Epoch Time: 7.34 seconds\n"
     ]
    },
    {
     "name": "stderr",
     "output_type": "stream",
     "text": [
      "[I 2025-01-27 12:13:32,636] Trial 95 pruned. \n"
     ]
    },
    {
     "name": "stdout",
     "output_type": "stream",
     "text": [
      "Trial pruned by Optuna at epoch 5.\n",
      "Checking Model: FasterRCNN\n",
      "Starting Trial #96\n",
      "{'batch_size': 6, 'epochs': 20, 'preweight_mode': 'fine_tuning', 'optimizer': 'AdamW', 'lr': 0.0047859212081606, 'weight_decay': 0.0011350392565222063, 'beta1': 0.9860675030339099, 'beta2': 0.9048007410075942, 'scheduler': 'ReduceLROnPlateau', 'factor': 0.3675031975510368, 'patience': 4}\n",
      "Epoch 1/20, Train Loss: 40387841.6696, Val mAP@50: 0.0000, FPS: 234.41, Epoch Time: 6.87 seconds\n",
      "Epoch 2/20, Train Loss: 15807057550132130.0000, Val mAP@50: 0.0000, FPS: 185.33, Epoch Time: 7.33 seconds\n",
      "Epoch 3/20, Train Loss: 1217586008320079298560.0000, Val mAP@50: 0.0000, FPS: 180.24, Epoch Time: 7.21 seconds\n",
      "Epoch 4/20, Train Loss: 3772892232778490981746999296.0000, Val mAP@50: 0.0000, FPS: 176.98, Epoch Time: 7.82 seconds\n"
     ]
    },
    {
     "name": "stderr",
     "output_type": "stream",
     "text": [
      "[I 2025-01-27 12:14:09,726] Trial 96 pruned. \n"
     ]
    },
    {
     "name": "stdout",
     "output_type": "stream",
     "text": [
      "Trial pruned by Optuna at epoch 4.\n",
      "Checking Model: FasterRCNN\n",
      "Starting Trial #97\n",
      "{'batch_size': 6, 'epochs': 19, 'preweight_mode': 'random', 'optimizer': 'SGD', 'lr': 0.006699518775908687, 'momentum': 0.9451266262532401, 'weight_decay': 5.584315253074052e-05, 'scheduler': 'OneCycleLR', 'max_lr': 0.00036690688307547273}\n",
      "Epoch 1/19, Train Loss: 100.1050, Val mAP@50: 0.0000, FPS: 149.13, Epoch Time: 7.99 seconds\n",
      "Epoch 2/19, Train Loss: 81.7603, Val mAP@50: 0.0000, FPS: 150.26, Epoch Time: 7.93 seconds\n",
      "Epoch 3/19, Train Loss: 73.0432, Val mAP@50: 0.0000, FPS: 149.86, Epoch Time: 7.95 seconds\n",
      "Epoch 4/19, Train Loss: 70.2571, Val mAP@50: 0.0000, FPS: 148.55, Epoch Time: 7.95 seconds\n"
     ]
    },
    {
     "name": "stderr",
     "output_type": "stream",
     "text": [
      "[I 2025-01-27 12:14:50,057] Trial 97 pruned. \n"
     ]
    },
    {
     "name": "stdout",
     "output_type": "stream",
     "text": [
      "Trial pruned by Optuna at epoch 4.\n",
      "Checking Model: FasterRCNN\n",
      "Starting Trial #98\n",
      "{'batch_size': 7, 'epochs': 20, 'preweight_mode': 'fine_tuning', 'optimizer': 'RMSprop', 'lr': 0.004687203102927104, 'weight_decay': 0.10475739525212582, 'momentum': 0.9671096733017049, 'scheduler': 'ReduceLROnPlateau', 'factor': 0.45127023710501263, 'patience': 4}\n",
      "Epoch 1/20, Train Loss: nan, Val mAP@50: 0.0000, FPS: 266.93, Epoch Time: 6.39 seconds\n",
      "Epoch 2/20, Train Loss: nan, Val mAP@50: 0.0000, FPS: 267.14, Epoch Time: 6.37 seconds\n",
      "Epoch 3/20, Train Loss: nan, Val mAP@50: 0.0000, FPS: 265.60, Epoch Time: 6.39 seconds\n",
      "Epoch 4/20, Train Loss: nan, Val mAP@50: 0.0000, FPS: 265.49, Epoch Time: 6.40 seconds\n"
     ]
    },
    {
     "name": "stderr",
     "output_type": "stream",
     "text": [
      "[I 2025-01-27 12:15:22,632] Trial 98 pruned. \n"
     ]
    },
    {
     "name": "stdout",
     "output_type": "stream",
     "text": [
      "Trial pruned by Optuna at epoch 4.\n",
      "Checking Model: FasterRCNN\n",
      "Starting Trial #99\n",
      "{'batch_size': 6, 'epochs': 20, 'preweight_mode': 'fine_tuning', 'optimizer': 'SGD', 'lr': 0.00630655926496892, 'momentum': 0.9326420189370178, 'weight_decay': 7.328539168176898e-05, 'scheduler': 'StepLR', 'step_size': 4, 'gamma': 0.060361823081164584}\n",
      "Epoch 1/20, Train Loss: 41.1739, Val mAP@50: 0.4878, FPS: 173.47, Epoch Time: 7.56 seconds\n",
      "Epoch 2/20, Train Loss: 34.1359, Val mAP@50: 0.5392, FPS: 183.02, Epoch Time: 7.45 seconds\n",
      "Epoch 3/20, Train Loss: 32.2186, Val mAP@50: 0.6088, FPS: 182.87, Epoch Time: 7.49 seconds\n",
      "Epoch 4/20, Train Loss: 29.6524, Val mAP@50: 0.5762, FPS: 193.98, Epoch Time: 7.33 seconds\n",
      "Epoch 5/20, Train Loss: 26.3966, Val mAP@50: 0.6246, FPS: 198.68, Epoch Time: 7.31 seconds\n",
      "Epoch 6/20, Train Loss: 25.6450, Val mAP@50: 0.6113, FPS: 201.29, Epoch Time: 7.27 seconds\n",
      "Epoch 7/20, Train Loss: 24.5479, Val mAP@50: 0.6003, FPS: 201.13, Epoch Time: 7.26 seconds\n",
      "Epoch 8/20, Train Loss: 24.0749, Val mAP@50: 0.5990, FPS: 200.56, Epoch Time: 7.17 seconds\n",
      "Epoch 9/20, Train Loss: 23.3327, Val mAP@50: 0.5994, FPS: 199.41, Epoch Time: 7.13 seconds\n",
      "Epoch 10/20, Train Loss: 23.5266, Val mAP@50: 0.5994, FPS: 199.89, Epoch Time: 7.06 seconds\n",
      "Epoch 11/20, Train Loss: 23.4219, Val mAP@50: 0.5995, FPS: 198.88, Epoch Time: 7.22 seconds\n",
      "Epoch 12/20, Train Loss: 23.1051, Val mAP@50: 0.5988, FPS: 199.96, Epoch Time: 7.19 seconds\n",
      "Epoch 13/20, Train Loss: 23.0253, Val mAP@50: 0.5988, FPS: 199.35, Epoch Time: 7.18 seconds\n",
      "Epoch 14/20, Train Loss: 23.3018, Val mAP@50: 0.5990, FPS: 198.67, Epoch Time: 7.24 seconds\n",
      "Epoch 15/20, Train Loss: 23.0705, Val mAP@50: 0.5988, FPS: 202.37, Epoch Time: 7.22 seconds\n",
      "Epoch 16/20, Train Loss: 22.9198, Val mAP@50: 0.5988, FPS: 205.63, Epoch Time: 7.10 seconds\n"
     ]
    },
    {
     "name": "stderr",
     "output_type": "stream",
     "text": [
      "[I 2025-01-27 12:17:26,526] Trial 99 pruned. \n"
     ]
    },
    {
     "name": "stdout",
     "output_type": "stream",
     "text": [
      "Trial pruned by Optuna at epoch 16.\n",
      "\n",
      "Best trial: #91\n",
      "  Value:  0.6765016913414001\n",
      "  Params: \n",
      "    batch_size: 6\n",
      "    epochs: 17\n",
      "    preweight_mode: fine_tuning\n",
      "    optimizer: SGD\n",
      "    lr: 0.005562807003835387\n",
      "    momentum: 0.9328567236871179\n",
      "    weight_decay: 7.349985786517183e-05\n",
      "    scheduler: ReduceLROnPlateau\n",
      "    factor: 0.3997437126341112\n",
      "    patience: 4\n"
     ]
    }
   ],
   "source": [
    "model_name = \"fasterrcnn_mobilenet_v3_large_fpn\"\n",
    "study = trainer.run_optimization(model_name, train_set, val_set, n_trials=100, study_name=model_name, save_path=os.path.join(\"data/models\", model_name))"
   ]
  },
  {
   "cell_type": "code",
   "execution_count": null,
   "metadata": {},
   "outputs": [],
   "source": []
  },
  {
   "cell_type": "markdown",
   "metadata": {},
   "source": [
    "## fasterrcnn_mobilenet_v3_large_320_fpn"
   ]
  },
  {
   "cell_type": "code",
   "execution_count": null,
   "metadata": {},
   "outputs": [],
   "source": [
    "input_size = 320\n",
    "\n",
    "transform = torchvision.transforms.Compose([\n",
    "    torchvision.transforms.Resize((input_size, input_size)),\n",
    "    torchvision.transforms.ToTensor(), # uint8 values in [0, 255] -> float tensor with values [0, 1]\n",
    "    torchvision.transforms.Normalize(mean=data_process.train_mean.tolist(), std=data_process.train_std.tolist())\n",
    "])\n",
    "\n",
    "train_set, val_set, test_set = data_process.load_data(transform=transform, input_size=input_size)"
   ]
  },
  {
   "cell_type": "code",
   "execution_count": null,
   "metadata": {},
   "outputs": [],
   "source": [
    "model_name = \"fasterrcnn_mobilenet_v3_large_320_fpn\"\n",
    "study = trainer.run_optimization(model_name, train_set, val_set, n_trials=100, study_name=model_name, save_path=os.path.join(\"data/models\", model_name))"
   ]
  },
  {
   "cell_type": "code",
   "execution_count": null,
   "metadata": {},
   "outputs": [],
   "source": []
  },
  {
   "cell_type": "markdown",
   "metadata": {},
   "source": [
    "## retinanet_resnet50_fpn"
   ]
  },
  {
   "cell_type": "code",
   "execution_count": null,
   "metadata": {},
   "outputs": [],
   "source": [
    "input_size = 448\n",
    "\n",
    "transform = torchvision.transforms.Compose([\n",
    "    torchvision.transforms.Resize((input_size, input_size)),\n",
    "    torchvision.transforms.ToTensor(), # uint8 values in [0, 255] -> float tensor with values [0, 1]\n",
    "    torchvision.transforms.Normalize(mean=data_process.train_mean.tolist(), std=data_process.train_std.tolist())\n",
    "])\n",
    "\n",
    "train_set, val_set, test_set = data_process.load_data(transform=transform, input_size=input_size)"
   ]
  },
  {
   "cell_type": "code",
   "execution_count": null,
   "metadata": {},
   "outputs": [],
   "source": [
    "model_name = \"retinanet_resnet50_fpn\"\n",
    "study_1 = trainer.run_optimization(model_name, train_set, val_set, n_trials=100, study_name=model_name, save_path=os.path.join(\"data/models\", model_name))"
   ]
  },
  {
   "cell_type": "code",
   "execution_count": null,
   "metadata": {},
   "outputs": [],
   "source": []
  },
  {
   "cell_type": "markdown",
   "metadata": {},
   "source": [
    "## retinanet_resnet50_fpn_v2"
   ]
  },
  {
   "cell_type": "code",
   "execution_count": null,
   "metadata": {},
   "outputs": [],
   "source": [
    "input_size = 448\n",
    "\n",
    "transform = torchvision.transforms.Compose([\n",
    "    torchvision.transforms.Resize((input_size, input_size)),\n",
    "    torchvision.transforms.ToTensor(), # uint8 values in [0, 255] -> float tensor with values [0, 1]\n",
    "    torchvision.transforms.Normalize(mean=data_process.train_mean.tolist(), std=data_process.train_std.tolist())\n",
    "])\n",
    "\n",
    "train_set, val_set, test_set = data_process.load_data(transform=transform, input_size=input_size)"
   ]
  },
  {
   "cell_type": "code",
   "execution_count": null,
   "metadata": {},
   "outputs": [],
   "source": [
    "model_name = \"retinanet_resnet50_fpn_v2\"\n",
    "study_1 = trainer.run_optimization(model_name, train_set, val_set, n_trials=100, study_name=model_name, save_path=os.path.join(\"data/models\", model_name))"
   ]
  },
  {
   "cell_type": "code",
   "execution_count": null,
   "metadata": {},
   "outputs": [],
   "source": []
  },
  {
   "cell_type": "markdown",
   "metadata": {},
   "source": [
    "## fcos_resnet50_fpn"
   ]
  },
  {
   "cell_type": "code",
   "execution_count": null,
   "metadata": {},
   "outputs": [],
   "source": [
    "input_size = 448\n",
    "\n",
    "transform = torchvision.transforms.Compose([\n",
    "    torchvision.transforms.Resize((input_size, input_size)),\n",
    "    torchvision.transforms.ToTensor(), # uint8 values in [0, 255] -> float tensor with values [0, 1]\n",
    "    torchvision.transforms.Normalize(mean=data_process.train_mean.tolist(), std=data_process.train_std.tolist())\n",
    "])\n",
    "\n",
    "train_set, val_set, test_set = data_process.load_data(transform=transform, input_size=input_size)"
   ]
  },
  {
   "cell_type": "code",
   "execution_count": null,
   "metadata": {},
   "outputs": [],
   "source": [
    "model_name = \"fcos_resnet50_fpn\"\n",
    "study_1 = trainer.run_optimization(model_name, train_set, val_set, n_trials=100, study_name=model_name, save_path=os.path.join(\"data/models\", model_name))"
   ]
  },
  {
   "cell_type": "code",
   "execution_count": null,
   "metadata": {},
   "outputs": [],
   "source": []
  }
 ],
 "metadata": {
  "kernelspec": {
   "display_name": "ultralytics-env",
   "language": "python",
   "name": "python3"
  },
  "language_info": {
   "codemirror_mode": {
    "name": "ipython",
    "version": 3
   },
   "file_extension": ".py",
   "mimetype": "text/x-python",
   "name": "python",
   "nbconvert_exporter": "python",
   "pygments_lexer": "ipython3",
   "version": "3.11.11"
  }
 },
 "nbformat": 4,
 "nbformat_minor": 2
}
