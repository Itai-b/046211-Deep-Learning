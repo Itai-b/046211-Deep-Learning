{
 "cells": [
  {
   "cell_type": "markdown",
   "metadata": {
    "id": "dzV9wsJ5pGhf"
   },
   "source": [
    "# <img src=\"https://img.icons8.com/bubbles/50/000000/mind-map.png\" style=\"height:50px;display:inline\"> ECE 046211 - Technion - Deep Learning\n",
    "---\n",
    "\n",
    "## HW3 - Sequential Tasks and Training Methods\n",
    "---"
   ]
  },
  {
   "cell_type": "markdown",
   "metadata": {
    "id": "bq2c8X93pGhh"
   },
   "source": [
    "### <img src=\"https://img.icons8.com/clouds/96/000000/keyboard.png\" style=\"height:50px;display:inline\"> Keyboard Shortcuts\n",
    "---\n",
    "* Run current cell: **Ctrl + Enter**\n",
    "* Run current cell and move to the next: **Shift + Enter**\n",
    "* Show lines in a code cell: **Esc + L**\n",
    "* View function documentation: **Shift + Tab** inside the parenthesis or `help(name_of_module)`\n",
    "* New cell below: **Esc + B**\n",
    "* Delete cell: **Esc + D, D** (two D's)"
   ]
  },
  {
   "cell_type": "markdown",
   "metadata": {
    "id": "vZZybn3NpGhh"
   },
   "source": [
    "### <img src=\"https://img.icons8.com/bubbles/50/000000/information.png\" style=\"height:50px;display:inline\"> Students Information\n",
    "---\n",
    "* Fill in\n",
    "\n",
    "|Name     |Campus Email| ID  |\n",
    "|---------|--------------------------------|----------|\n",
    "|Student 1| student_1@campus.technion.ac.il| 123456789|\n",
    "|Student 2| student_2@campus.technion.ac.il| 987654321|\n"
   ]
  },
  {
   "cell_type": "markdown",
   "metadata": {
    "id": "dDK5zqhdpGhi"
   },
   "source": [
    "### <img src=\"https://img.icons8.com/bubbles/50/000000/upload-to-cloud.png\" style=\"height:50px;display:inline\"> Submission Guidelines\n",
    "---\n",
    "* Maximal garde: 100.\n",
    "* Submission only in **pairs**. \n",
    "    * Please make sure you have registered your group in Moodle (there is a group creation component on the Moodle where you need to create your group and assign members).\n",
    "* **No handwritten submissions.** You can choose whether to answer in a Markdown cell in this notebook or attach a PDF with your answers.\n",
    "* <a style='color:red'> SAVE THE NOTEBOOKS WITH THE OUTPUT, CODE CELLS THAT WERE NOT RUN WILL NOT GET ANY POINTS! </a>\n",
    "* What you have to submit:\n",
    "    * If you have answered the questions in the notebook, you should submit this file only, with the name: `ece046211_hw3_id1_id2.ipynb`.\n",
    "    * If you answered the questionss in a different file you should submit a `.zip` file with the name `ece046211_hw3_id1_id2.zip` with content:\n",
    "        * `ece046211_hw3_id1_id2.ipynb` - the code tasks\n",
    "        * `ece046211_hw3_id1_id2.pdf` - answers to questions.\n",
    "    * No other file-types (`.py`, `.docx`...) will be accepted.\n",
    "* Submission on the course website (Moodle).\n",
    "* **Latex in Colab** - in some cases, Latex equations may no be rendered. To avoid this, make sure to not use *bullets* in your answers (\"* some text here with Latex equations\" -> \"some text here with Latex equations\")."
   ]
  },
  {
   "cell_type": "markdown",
   "metadata": {
    "id": "pmSj_UufpGhi"
   },
   "source": [
    "### <img src=\"https://img.icons8.com/dusk/64/000000/online.png\" style=\"height:50px;display:inline\"> Working Online and Locally\n",
    "---\n",
    "* You can choose your working environment:\n",
    "    1. `Jupyter Notebook`, **locally** with <a href=\"https://www.anaconda.com/distribution/\">Anaconda</a> or **online** on <a href=\"https://colab.research.google.com/\">Google Colab</a>\n",
    "        * Colab also supports running code on GPU, so if you don't have one, Colab is the way to go. To enable GPU on Colab, in the menu: `Runtime`$\\rightarrow$ `Change Runtime Type` $\\rightarrow$`GPU`.\n",
    "    2. Python IDE such as <a href=\"https://www.jetbrains.com/pycharm/\">PyCharm</a> or <a href=\"https://code.visualstudio.com/\">Visual Studio Code</a>.\n",
    "        * Both allow editing and running Jupyter Notebooks.\n",
    "\n",
    "* Please refer to `Setting Up the Working Environment.pdf` on the Moodle or our GitHub (https://github.com/taldatech/ee046211-deep-learning) to help you get everything installed.\n",
    "* If you need any technical assistance, please go to our Piazza forum (`hw3` folder) and describe your problem (preferably with images)."
   ]
  },
  {
   "cell_type": "markdown",
   "metadata": {
    "id": "nlp1Fp4ppGhj"
   },
   "source": [
    "### <img src=\"https://img.icons8.com/bubbles/50/000000/checklist.png\" style=\"height:50px;display:inline\"> Agenda\n",
    "---\n",
    "* [Part 1 - Theory](#-Part-1---Theory)\n",
    "    * [Q1 - Transformer Encoding](#-Question-1---Transformer-Encoding) \n",
    "    * [Q2 - Preventing Variance Explosion](#-Question-2---Preventing-Variance-Explosion)\n",
    "    * [Q3 - Recurrent Neural Networks](#-Question-3---Recurrent-Neural-Networks)\n",
    "* [Part 2 - Code Assignments - Sequence-to-Sequence with Transformers](#-Part-2---Code-Assignments)\n",
    "    * [Task 1 - Loading and Observing the Data](#-Task-1----Loading-and-Observing-the-Data)\n",
    "    * [Task 2 - Preparing the Data - Separating to Inputs and Targets](#-Task-2----Preparing-the--Data---Separating-to-Inputs-and-Targets)\n",
    "    * [Task 3 - Define Hyperparameters and Initialize the Model](#-Task-3----Define-Hyperparameters-and-Initialize-the-Model)\n",
    "    * [Task 4 - Train and Evaluate the Language Model](#-Task-4----Train-and-Evaluate-the-Language-Model)\n",
    "    * [Task 5 - Generate Sentences](#-Task-5----Generate-Sentences)\n",
    "* [Credits](#-Credits)"
   ]
  },
  {
   "cell_type": "markdown",
   "metadata": {
    "id": "XKtSiQX_pGhj"
   },
   "source": [
    "### <img src=\"https://img.icons8.com/cute-clipart/64/000000/ball-point-pen.png\" style=\"height:50px;display:inline\"> Part 1 - Theory\n",
    "---\n",
    "* You can choose whether to answser these straight in the notebook (Markdown + Latex) or use another editor (Word, LyX, Latex, Overleaf...) and submit an additional PDF file, **but no handwritten submissions**.\n",
    "* You can attach additional figures (drawings, graphs,...) in a separate PDF file, just make sure to refer to them in your answers.\n",
    "\n",
    "* $\\large\\LaTeX$ <a href=\"https://kapeli.com/cheat_sheets/LaTeX_Math_Symbols.docset/Contents/Resources/Documents/index\">Cheat-Sheet</a> (to write equations)\n",
    "    * <a href=\"http://tug.ctan.org/info/latex-refsheet/LaTeX_RefSheet.pdf\">Another Cheat-Sheet</a>"
   ]
  },
  {
   "cell_type": "markdown",
   "metadata": {},
   "source": [
    "## <img src=\"https://img.icons8.com/clouds/100/000000/question-mark.png\" style=\"height:50px;display:inline\"> Question 1 - Transformer Encoding\n",
    "---\n",
    "In the following question we will assume we are given a Transformer capable of sentences of up to $L$ tokens, where every token is represented by a $d$-dimensional vector.\n",
    "1. Explain what a Positional Encoding is, why is it needed, and how it works.\n",
    "2. One suggested encoding was to assign a number in range $[0,1]$ to each word as follows: For a sentence of length $N\\leq L$, add $$\\frac{t}{N-1}$$ to the $t$-th word. This means we add $0$ to the first word and $1$ to the final word. What issue can arise from this encoding? Note that the length of each sentence $N$ can differ between sentences.\n",
    "3. Another suggested encoding was to add $1$ to the first word, $2$ to the second and so on. Would this be a good encoding? Explain your answer.\n",
    "\n",
    "From here on out, we will use the following encoding - let $0\\leq t < N, 0\\leq k<d$, we define\n",
    "$$P_{t,k}=\\begin{bmatrix}\n",
    "\\sin (\\omega_k t)\\\\\n",
    "\\cos (\\omega_k t)\n",
    "\\end{bmatrix} $$\n",
    "where $\\omega_k=10000^{-2k/d}$.\n",
    "The encoding of word $t$ is a $d$-dimensional vector of pairs $P_{t,i}$:\n",
    "$$P_{t}=\\begin{bmatrix}\n",
    "\\sin (\\omega_1 t)\\\\\n",
    "\\cos (\\omega_1 t) \\\\\n",
    "\\vdots\\\\\n",
    "\\sin (\\omega_{d/2} t)\\\\\n",
    "\\cos (\\omega_{d/2} t) \n",
    "\\end{bmatrix} $$\n",
    "\n",
    "4. Explain why this gives a unique encoding for each word in the sentence regardless of its length $N$.\n",
    "5. Show that we can linearly transform $P_{t,k}$ via offset, meaning that for any offset $\\tau$ there is a matrix \n",
    "$M_{k}^{\\tau}\\in \\mathbb{R}^{2\\times 2}$ such that\n",
    " $$ P_{t+\\tau,k}=M_{k}^{\\tau} P_{t,k}$$\n",
    "Hint: remember that $$\\sin(\\alpha+\\beta)=\\sin(\\alpha)\\cos(\\beta)+\\cos(\\alpha)\\sin(\\beta)$$\n",
    "$$\\cos(\\alpha+\\beta)=\\cos(\\alpha)\\cos(\\beta)-\\sin(\\alpha)\\sin(\\beta)$$\n",
    "\n",
    "6. Extend this to $P_{t}$, show that for $M^{\\tau}\\in \\mathbb{R}^{d\\times d}$\n",
    "$$P_{t+\\tau}=M^{\\tau} P_{t}$$"
   ]
  },
  {
   "cell_type": "markdown",
   "metadata": {},
   "source": [
    "### Answer\n",
    "\n",
    "1. Positional Encoding is needed in Transformer architectures to maintain the positional information of the input sentence. The encoding works by adding position-dependent vectors to the word embeddings, allowing the model to understand the relative or absolute positions of words in the sequence.\n",
    "\n",
    "2. Using $\\frac{t}{N-1}$ as positional encoding has several issues:\n",
    "    * When $N=1$, we have division by zero.\n",
    "    * Different sentences will have different positional encodings for the same relative position. For example in a sentence of length 4, position 1 gets encoding $0.33$, while in a sentence of length 10, position 1 gets 0.11.\n",
    "    * This makes it harder for the model to learn potion-dependent patterns across sentences of different lengths.\n",
    "\n",
    "3. Adding sequential numbers $(1,2,3,...)$ would also not be a good encoding, because:\n",
    "    * It doesn't bound the values, which could lead to numerical instability for very long sequences.\n",
    "    * The absolute differences between positions grow linearly with sequence length.\n",
    "    * It doesn't capture any meaningful relationship between positions (like periodicity or relative distances).\n",
    "\n",
    "4. The sinusodial encoding is unique for each position t, because:\n",
    "    * Each dimension $k$ uses a different frequency $\\omega_k$.\n",
    "    * The frequencies form a geometric sequence (decreasing by factor of $10000^{2/d}$).\n",
    "    * This creates a unique pattern of sine and cosine values for each position.\n",
    "    * This encoding is independent of sequence length $N$.\n",
    "    * It captures both absolute position (through the unique pattern) and relative position (through the linear transformation property we'll prove next).\n",
    "\n",
    "5. For the linear transformation property, let's prove it: $P_{t+\\tau,k} = \\begin{bmatrix} \\sin(\\omega_k(t+\\tau) \\\\ \\cos(\\omega_k(t+\\tau)) \\end{bmatrix})$\n",
    "\n",
    "Using the addition formulas:\n",
    "\n",
    "$$\\sin(\\omega_k(t+\\tau)) = \\sin(\\omega_k t)\\cos(\\omega_k \\tau) + \\cos(\\omega_k t)\\sin(\\omega_k \\tau)$$\n",
    "$$\\cos(\\omega_k(t+\\tau)) = \\cos(\\omega_k t)\\cos(\\omega_k \\tau) - \\sin(\\omega_k t)\\sin(\\omega_k \\tau)$$\n",
    "\n",
    "Therefore:\n",
    "\n",
    "$$P_{t+\\tau,k} = \\begin{bmatrix} \\sin(\\omega_k t)\\cos(\\omega_k \\tau) + \\cos(\\omega_k t)\\sin(\\omega_k \\tau) \\\\ \\cos(\\omega_k t)\\cos(\\omega_k \\tau) - \\sin(\\omega_k t)\\sin(\\omega_k \\tau) \\end{bmatrix} = \\begin{bmatrix} \\cos(\\omega_k \\tau) & \\sin(\\omega_k \\tau) \\\\ -\\sin(\\omega_k \\tau) & \\cos(\\omega_k \\tau) \\end{bmatrix} \\cdot \\begin{bmatrix} \\sin(\\omega_k(t) \\\\ \\cos(\\omega_k(t)) \\end{bmatrix} = M_k^\\tau \\cdot P_{t,k}$$\n",
    "\n",
    "$$M_k^\\tau = \\begin{bmatrix} \\cos(\\omega_k \\tau) & \\sin(\\omega_k \\tau) \\\\ -\\sin(\\omega_k \\tau) & \\cos(\\omega_k \\tau) \\end{bmatrix}$$\n",
    "\n",
    "6. For the full vector $P_t$, we can construct $M^\\tau$ as a block diagonal matrix:\n",
    "$M^\\tau = \\begin{bmatrix} M_1^\\tau & 0 & \\cdots & 0 \\\\ 0 & M_2^\\tau & \\cdots & 0 \\\\ \\vdots & \\vdots & \\ddots & \\vdots \\\\ 0 & 0 & \\cdots & M_{d/2}^\\tau \\end{bmatrix}$\n",
    "\n",
    "This matrix will transform each pair of dimensions according to its corresponding $M_k^\\tau$, proving that $P_{t+\\tau} = M^\\tau P_t$.\n",
    "\n",
    "Each $M_k^\\tau$ is a 2×2 block on the diagonal, and 0 represents a 2×2 zero matrix.\n",
    "When we multiply $M^\\tau$ by $P_t$:\n",
    "\n",
    "The first 2×2 block $M_1^\\tau$ transforms $[\\sin(\\omega_1 t), \\cos(\\omega_1 t)]$\n",
    "The second 2×2 block $M_2^\\tau$ transforms $[\\sin(\\omega_2 t), \\cos(\\omega_2 t)]$\n",
    "And so on...\n",
    "\n",
    "The zeros ensure that each pair of coordinates is only transformed by its corresponding $M_k^\\tau$.\n",
    "Therefore, $M^\\tau P_t$ produces exactly $P_{t+\\tau}$, which means:\n",
    "$P_{t+\\tau} = M^\\tau P_t$"
   ]
  },
  {
   "cell_type": "markdown",
   "metadata": {
    "id": "RsqSFZG1pGhj"
   },
   "source": [
    "## <img src=\"https://img.icons8.com/clouds/100/000000/question-mark.png\" style=\"height:50px;display:inline\"> Question 2 - Preventing Variance Explosion\n",
    "---\n",
    "This question relates to lectures 8-9 (from slide 7):\n",
    "\n",
    "Find an initializtion scheme such that $$ \\forall l, i,: \\text{(1) } \\mathbb{E}\\left[F_l(u_l)|u_l\\right]=0, \\text{ (2) } Var(u_l[i]) = 1, $$ assuming skip connections: $u_{l+1} = u_l + F_l(u_l)$ with a single skip $F_l(u_l)=W_l\\phi(u_l)+b_l$ and the activation is ReLU: $\\phi(x) = \\text{ReLU}(x) = \\max(0,x)$. "
   ]
  },
  {
   "cell_type": "markdown",
   "metadata": {},
   "source": [
    "First, let's understand what we're looking for:\n",
    "\n",
    "* We need to initialize weights $\\mathbf{W}_l$ and biases $b_l$\n",
    "* For each layer $l$, we want zero mean: $\\mathbb{E}[F_l(u_l)|u_l]=0$\n",
    "* And the variance for each component: $Var(u_l[i])=1$\n",
    "\n",
    "\n",
    "From condition (1), for any input $u_l$:\n",
    "$$\\mathbb{E}[F_l(u_l)|u_l] = \\mathbb{E}[\\mathbf{W}_l\\phi(u_l)+b_l|u_l] = \\mathbb{E}[W_l\\cdot \\max(0,u_l)|u_l] + \\mathbb{E}[b_l|u_l] = 0$$\n",
    "\n",
    "Since we have ReLU activation:\n",
    "$\\phi(x) = \\max(0,x)$\n",
    "We need the entire residual block $F_l$ needs to have zero mean.\n",
    "\n",
    "Now, let's evaluate $Var(u_l[i])$, for condition (2), by law of total variance:\n",
    "$$Var(u_{l+1}[i]) = \\mathbb{E}[Var(u_{l+1}[i]|u_l[i])] + Var(\\mathbb{E}[u_{l+1}[i]|u_l[i]])$$\n",
    "\n",
    "From condition 1:\n",
    "$$Var(u_{l+1}[i]|u_l[i]) = Var(F_l(u_l)[i]|u_l[i])$$\n",
    "\n",
    "Since $u_l[i]$ is constant given $u_l[i]$\n",
    "$$Var(u_{l+1}[i]) = \\mathbb{E}[Var(F_l(u_l)[i]|u_l[i])] + Var(u_l[i])$$\n",
    "\n",
    "For $Var(u_{l+1}[i])=1$:\n",
    "$$1 = \\mathbb{E}[Var(F_l(u_l)[i]|u_l[i])] + 1$$\n",
    "\n",
    "Therefore,\n",
    "\n",
    "$$\\mathbb{E}[Var(F_l(u_l)[i]|u_l[i])] = 0$$\n",
    "\n",
    "This implies $Var(F_l(u_l)[i]|u_l[i])=0$ for all $u_l[i]$, which means $F_l$ must be constant (zero) given any input.\n",
    "\n",
    "This means that the solution that satisfies all these conditions is:\n",
    "* Initialize $\\mathbf{W}_l = \\mathbf{0}$ (zero matrix)\n",
    "* Set $b_l = 0$\n",
    "\n",
    "This initialization works because:\n",
    "\n",
    "With $\\mathbf{W}_l=\\mathbf{0}$ and $b_l=0$, we have $F_l(u_l)=0$ for all inputs. \n",
    "Therefore $\\mathbb{E}[F_l(u_l)|u_l]=0$ is trivially satisfied. \n",
    "\n",
    "The skip connection becomes $u_{l+1}=u_l$, preserving the variance of 1 if we start with $Var(u_0[i])=1$. "
   ]
  },
  {
   "cell_type": "markdown",
   "metadata": {
    "id": "RsqSFZG1pGhj"
   },
   "source": [
    "## <img src=\"https://img.icons8.com/clouds/100/000000/question-mark.png\" style=\"height:50px;display:inline\"> Question 3 - Recurrent Neural Networks\n",
    "---\n",
    "You are given a recurrent/feedback neural network with LReLU activations $\\phi(u) = \\max[pu,u]$, with input $x_t$ and a representation $v_t \\in \\mathbb{R}^d$ that is updated as follows:\n",
    "$$ \\forall \\tau=1,2,...t\\:: v_{\\tau}=\\phi(u_{\\tau})\\:, u_{\\tau} = Wv_{\\tau - 1} + B x_{\\tau},$$\n",
    "from initialization $v_0$, and outputs $\\hat{y}_t=Cv_t$. The network is trained with GD on a single long series $\\{x_{\\tau}, y_{\\tau}\\}_{\\tau=1}^t$ with a cost function $\\ell(y_t, \\hat{y}_t)$ over the last term in the series.\n",
    "\n",
    "1. Calculate the exact gradient $\\frac{\\partial \\ell}{\\partial W[i,j]}$ using Backpropagation through time (BPTT).\n",
    "2. Recall that calculating the gradient using the method in the previous section there are two issues for $t \\to \\infty$: (1) the required computational resources grow indefinitely, and (2) the gradients explode or vanish. For each problem: explain it, provide an example for a method to alleviate it and describe any limitations of this method."
   ]
  },
  {
   "cell_type": "markdown",
   "metadata": {},
   "source": [
    "#### Answer\n",
    "$$ \\forall \\tau=1,2,...t\\:: v_{\\tau}=\\phi(Wv_{\\tau - 1} + B x_{\\tau})\\:, u_{\\tau} = Wv_{\\tau - 1} + B x_{\\tau}, \\hat{y}_t=Cv_t, \\phi(u) = \\max[pu,u]$$"
   ]
  },
  {
   "cell_type": "markdown",
   "metadata": {},
   "source": [
    "#### Answer\n",
    "\n",
    "1.\n",
    "\n",
    "$$ \\forall \\tau=1,2,...t\\:: v_{\\tau}=\\phi(Wv_{\\tau - 1} + B x_{\\tau})\\:, u_{\\tau} = Wv_{\\tau - 1} + B x_{\\tau}, \\hat{y}_t=Cv_t, \\phi(u) = \\max[pu,u]$$\n",
    "\n",
    "The loss depends on W through all time steps up to t, so we need to use the chain rule across time:\n",
    "$$\\frac{\\partial \\ell}{\\partial W[i,j]} = \\sum_{\\tau=1}^t \\frac{\\partial \\ell}{\\partial W[i,j]|_\\tau}$$\n",
    "where $\\frac{\\partial \\ell}{\\partial W[i,j]|_\\tau}$ is the contribution from time step τ.\n",
    "\n",
    "Let's work backwards:\n",
    "\n",
    "$$\\frac{\\partial \\ell}{\\partial {v}_t} = \\frac{\\partial \\ell}{\\partial \\hat{y}_t} \\cdot \\frac{\\partial \\hat{y}_t}{\\partial {v}_t} = \\frac{\\partial \\ell}{\\partial \\hat{y}_t} \\cdot C$$\n",
    "since, $\\frac{\\partial \\hat{y}_t}{\\partial v_t} = C$\n",
    "\n",
    "$$\\frac{\\partial \\ell}{\\partial W[i,j]} = \\sum_{\\tau=1}^t \\frac{\\partial \\ell}{\\partial {v}_t} \\cdot \\frac{\\partial {v}_t}{\\partial {u}_t}\\cdot v_{\\tau-1}[j]$$\n",
    "\n",
    "$$\\frac{\\partial v_{\\tau}}{\\partial u_{\\tau}} = \\phi'(u_{\\tau}) = \\begin{cases} p & \\text{if }u_{\\tau} < 0 \\\\ 1 & \\text{if }u_{\\tau} > 0 \\end{cases}$$\n",
    "\n",
    "Finally:\n",
    "$$\\frac{\\partial \\ell}{\\partial W[i,j]} = \\sum_{\\tau=1}^t \\frac{\\partial \\ell}{\\partial \\hat{y}_\\tau} \\cdot C \\cdot \\phi'(u_{\\tau}) \\cdot v_{\\tau-1}[j]$$\n",
    "\n",
    "\n",
    "\n",
    "2.\n",
    "\n",
    "**Growing computational resources**:\n",
    "\n",
    "As sequences get longer, storing and processing each time step becomes computationally demanding. To address this, we can implement intermediate value caching during backpropagation, eliminating the need for repeated computations in the backward pass. While this approach helps with computational efficiency, it comes with a trade-off - the cached values consume significant memory, especially for longer sequences.\n",
    "\n",
    "\n",
    "\n",
    "**Exploding/vanishing gradients**:\n",
    "\n",
    "During training, weight updates can become extremely large (exploding) or extremely small (vanishing) as gradients propagate through time steps. A practical solution is gradient clipping, which constrains gradient values within a specified range. However, while this effectively prevents gradient explosion, it doesn't address the vanishing gradient problem, leaving part of the challenge unresolved."
   ]
  },
  {
   "cell_type": "markdown",
   "metadata": {
    "id": "7D-14iM7pGhm"
   },
   "source": [
    "### <img src=\"https://img.icons8.com/officel/80/000000/code.png\" style=\"height:50px;display:inline\"> Part 2 - Code Assignments\n",
    "---\n",
    "* You must write your code in this notebook and save it with the output of all of the code cells.\n",
    "* Additional text can be added in Markdown cells.\n",
    "* You can use any other IDE you like (PyCharm, VSCode...) to write/debug your code, but for the submission you must copy it to this notebook, run the code and save the notebook with the output."
   ]
  },
  {
   "cell_type": "code",
   "execution_count": 2,
   "metadata": {},
   "outputs": [
    {
     "name": "stdout",
     "output_type": "stream",
     "text": [
      "Requirement already satisfied: torchdata in /home/user_138/anaconda3/envs/deep/lib/python3.9/site-packages (0.6.1)\n",
      "Requirement already satisfied: urllib3>=1.25 in /home/user_138/anaconda3/envs/deep/lib/python3.9/site-packages (from torchdata) (2.2.3)\n",
      "Requirement already satisfied: requests in /home/user_138/anaconda3/envs/deep/lib/python3.9/site-packages (from torchdata) (2.32.3)\n",
      "Requirement already satisfied: torch==2.0.1 in /home/user_138/anaconda3/envs/deep/lib/python3.9/site-packages (from torchdata) (2.0.1)\n",
      "Requirement already satisfied: filelock in /home/user_138/anaconda3/envs/deep/lib/python3.9/site-packages (from torch==2.0.1->torchdata) (3.13.1)\n",
      "Requirement already satisfied: typing-extensions in /home/user_138/anaconda3/envs/deep/lib/python3.9/site-packages (from torch==2.0.1->torchdata) (4.12.2)\n",
      "Requirement already satisfied: sympy in /home/user_138/anaconda3/envs/deep/lib/python3.9/site-packages (from torch==2.0.1->torchdata) (1.13.3)\n",
      "Requirement already satisfied: networkx in /home/user_138/anaconda3/envs/deep/lib/python3.9/site-packages (from torch==2.0.1->torchdata) (3.2.1)\n",
      "Requirement already satisfied: jinja2 in /home/user_138/anaconda3/envs/deep/lib/python3.9/site-packages (from torch==2.0.1->torchdata) (3.1.4)\n",
      "Requirement already satisfied: charset-normalizer<4,>=2 in /home/user_138/anaconda3/envs/deep/lib/python3.9/site-packages (from requests->torchdata) (3.3.2)\n",
      "Requirement already satisfied: idna<4,>=2.5 in /home/user_138/anaconda3/envs/deep/lib/python3.9/site-packages (from requests->torchdata) (3.7)\n",
      "Requirement already satisfied: certifi>=2017.4.17 in /home/user_138/anaconda3/envs/deep/lib/python3.9/site-packages (from requests->torchdata) (2024.12.14)\n",
      "Requirement already satisfied: MarkupSafe>=2.0 in /home/user_138/anaconda3/envs/deep/lib/python3.9/site-packages (from jinja2->torch==2.0.1->torchdata) (2.1.3)\n",
      "Requirement already satisfied: mpmath<1.4,>=1.1.0 in /home/user_138/anaconda3/envs/deep/lib/python3.9/site-packages (from sympy->torch==2.0.1->torchdata) (1.3.0)\n",
      "Requirement already satisfied: portalocker in /home/user_138/anaconda3/envs/deep/lib/python3.9/site-packages (3.1.1)\n"
     ]
    }
   ],
   "source": [
    "# this part uses the Wikitext-2 dataset. To access torchtext datasets, please install `torchdata`:\n",
    "# `pip install torchdata` ir `conda install -c pytorch torchdata` in activated environment \n",
    "# or `!pip install torchdata` on colab.\n",
    "!pip install torchdata\n",
    "# notes:\n",
    "# torch=2.0.0 <-> torchtext 0.15.1\n",
    "# torch=1.13.0 <-> torchtext 0.14.0\n",
    "# torch=1.12.1 <-> torchtext 0.13.1\n",
    "# downgrading torchtext example: !pip install torchtext==0.13.1 --no-deps\n",
    "# torchtext requires the `portalocker` package to download datasets:\n",
    "!pip install portalocker"
   ]
  },
  {
   "cell_type": "code",
   "execution_count": 4,
   "metadata": {
    "slideshow": {
     "slide_type": "skip"
    }
   },
   "outputs": [
    {
     "data": {
      "text/plain": [
       "<torch._C.Generator at 0x79fc840ce210>"
      ]
     },
     "execution_count": 4,
     "metadata": {},
     "output_type": "execute_result"
    }
   ],
   "source": [
    "# imports for the practice (you can add more if you need)\n",
    "import numpy as np\n",
    "import matplotlib.pyplot as plt\n",
    "import time\n",
    "import os\n",
    "import math\n",
    "from typing import Tuple\n",
    "\n",
    "# pytorch\n",
    "import torch\n",
    "from torch import nn, Tensor\n",
    "import torch.nn.functional as F\n",
    "from torch.nn import TransformerEncoder, TransformerEncoderLayer\n",
    "from torch.utils.data import dataset\n",
    "\n",
    "# torchtext\n",
    "import torchtext\n",
    "from torchtext.datasets import WikiText2\n",
    "from torchtext.data.utils import get_tokenizer\n",
    "from torchtext.vocab import build_vocab_from_iterator\n",
    "\n",
    "seed = 211\n",
    "np.random.seed(seed)\n",
    "torch.manual_seed(seed)"
   ]
  },
  {
   "cell_type": "code",
   "execution_count": 5,
   "metadata": {},
   "outputs": [
    {
     "name": "stdout",
     "output_type": "stream",
     "text": [
      "pytorch: 2.0.1, torchtext: 0.15.2+cpu\n"
     ]
    }
   ],
   "source": [
    "print(f'pytorch: {torch.__version__}, torchtext: {torchtext.__version__}')"
   ]
  },
  {
   "cell_type": "markdown",
   "metadata": {
    "slideshow": {
     "slide_type": "slide"
    }
   },
   "source": [
    "## <img src=\"https://img.icons8.com/bubbles/50/000000/workflow.png\" style=\"height:50px;display:inline\">  Sequence-to-Sequence with Transformers\n",
    "---\n",
    "* In this exercise, you are going to build a language model using PyTroch's Transformer module.\n",
    "* We will work with the **Wikitext-2** dataset: the WikiText language modeling dataset is a collection of over 100 million tokens extracted from the set of verified Good and Featured articles on Wikipedia.\n",
    "* After training, you will be able to generate senetences!"
   ]
  },
  {
   "cell_type": "markdown",
   "metadata": {},
   "source": [
    "### <img src=\"https://img.icons8.com/color/48/000000/code.png\" style=\"height:50px;display:inline\"> Task 1  - Loading and Observing the Data\n",
    "---\n",
    "1. Run the following cells that define the functions `batchify` and `data_process` and initialize the tokenizer, vocabulary and the WikiText2 train dataset.\n",
    "2. Create the train, valid and test data using the provided `batchify` function.\n",
    "5. Print the shape of `train_data`, write in a comment the meaning of each dimension (e.g. `# [meaning of dim1, meaning of dim2]`).\n",
    "6. Print the first 20 words of one training sample from `train_data`. Use the vocabulary you built to transfer between tokens to words: `itos = vocab.vocab.get_itos()` will give a \"int to string\" list."
   ]
  },
  {
   "cell_type": "code",
   "execution_count": 6,
   "metadata": {},
   "outputs": [],
   "source": [
    "def batchify(data, bsz):\n",
    "    \"\"\"Divides the data into bsz separate sequences, removing extra elements\n",
    "    that wouldn't cleanly fit.\n",
    "\n",
    "    Args:\n",
    "        data: Tensor, shape [N]\n",
    "        bsz: int, batch size\n",
    "\n",
    "    Returns:\n",
    "        Tensor of shape [N // bsz, bsz]\n",
    "    \"\"\"\n",
    "    seq_len = data.size(0) // bsz\n",
    "    data = data[:seq_len * bsz]\n",
    "    data = data.view(bsz, seq_len).t().contiguous()\n",
    "    return data.to(device)"
   ]
  },
  {
   "cell_type": "code",
   "execution_count": 7,
   "metadata": {},
   "outputs": [],
   "source": [
    "def data_process(raw_text_iter: dataset.IterableDataset) -> Tensor:\n",
    "    \"\"\"Converts raw text into a flat Tensor.\"\"\"\n",
    "    data = [torch.tensor(vocab(tokenizer(item)), dtype=torch.long) for item in raw_text_iter]\n",
    "    return torch.cat(tuple(filter(lambda t: t.numel() > 0, data)))"
   ]
  },
  {
   "cell_type": "code",
   "execution_count": 8,
   "metadata": {},
   "outputs": [],
   "source": [
    "train_iter = WikiText2(root=\"./data\", split='train')\n",
    "tokenizer = get_tokenizer('basic_english')\n",
    "vocab = build_vocab_from_iterator(map(tokenizer, train_iter), specials=['<unk>'])\n",
    "vocab.set_default_index(vocab['<unk>'])"
   ]
  },
  {
   "cell_type": "code",
   "execution_count": 9,
   "metadata": {},
   "outputs": [],
   "source": [
    "# train_iter was \"consumed\" by the process of building the vocab,\n",
    "# so we have to create it again\n",
    "train_iter, val_iter, test_iter = WikiText2(root=\"./data\")\n",
    "train_data = data_process(train_iter)\n",
    "val_data = data_process(val_iter)\n",
    "test_data = data_process(test_iter)\n",
    "\n",
    "device = torch.device('cuda:0' if torch.cuda.is_available() else 'cpu')"
   ]
  },
  {
   "cell_type": "code",
   "execution_count": 10,
   "metadata": {},
   "outputs": [],
   "source": [
    "batch_size = 20\n",
    "eval_batch_size = 10"
   ]
  },
  {
   "cell_type": "code",
   "execution_count": 11,
   "metadata": {},
   "outputs": [
    {
     "name": "stdout",
     "output_type": "stream",
     "text": [
      "train data shape is torch.Size([102499, 20])\n",
      "First 20 words:\n",
      " = valkyria chronicles iii = senjō no valkyria 3 <unk> chronicles ( japanese 戦場のヴァルキュリア3 , lit . valkyria of the\n"
     ]
    }
   ],
   "source": [
    "\"\"\"\n",
    "Your Code Here\n",
    "\"\"\"\n",
    "train_data = batchify(train_data, batch_size)\n",
    "val_data = batchify(val_data, eval_batch_size)\n",
    "test_data = batchify(test_data, eval_batch_size)\n",
    "print(f'train data shape is {train_data.shape}')\n",
    "# [sequence_length, batch_size]\n",
    "\n",
    "itos = vocab.get_itos()\n",
    "first_sample = train_data[:20, 0] # first 20 tokens from first batch\n",
    "words = [itos[token.item()] for token in first_sample]\n",
    "print(\"First 20 words:\\n\", ' '.join(words))"
   ]
  },
  {
   "cell_type": "markdown",
   "metadata": {},
   "source": [
    "### <img src=\"https://img.icons8.com/color/48/000000/code.png\" style=\"height:50px;display:inline\"> Task 2  - Preparing the  Data - Separating to Inputs and Targets\n",
    "---\n",
    "* For a language modeling task, the model needs the following words as `Target`.\n",
    "    * For example, for the senetence \"I have a nice dog\", the model will be given \"I have a nice\" as input, and \"have a nice dog\" as the target.\n",
    "* Implement (complete) the function `get_batch(source, i, bptt)`: it generates the input and target sequence for the transformer model. It subdivides the source data into chunks of length `bptt`.\n",
    "    * For example, for `bptt=2` and at `i=0`, the output of `data, target = get_batch(train_data, i=0, bptt=2)`: `data` will be of shape (2, 20), where the batch size is 20 and `target` will be of length 40 (the target for each element is two words, but we flatten `target`).\n",
    "    * Example: for `bptt=2`, and the ABCDEFG... characters as input, our batches will be in the form of: `data=[a, b], target=[b, c]`. For `bptt=3`: `data=[a, b, c], target=[b, c, d]` and so on. This one example is a batch.\n",
    "    * Print a sample from `data` and `target`."
   ]
  },
  {
   "cell_type": "code",
   "execution_count": 12,
   "metadata": {},
   "outputs": [
    {
     "name": "stdout",
     "output_type": "stream",
     "text": [
      "Data shape: torch.Size([2, 20]), Target shape: torch.Size([40])\n",
      "\n",
      "Sample:\n",
      "Data: = valkyria\n",
      "Target: valkyria @-@\n"
     ]
    }
   ],
   "source": [
    "\"\"\"\n",
    "Your Code Here\n",
    "\"\"\"\n",
    "def get_batch(source, i, bptt):\n",
    "    \"\"\"\n",
    "    Args:\n",
    "        source: Tensor, shape [full_seq_len, batch_size]\n",
    "        i: int\n",
    "        bptt: int\n",
    "    Returns:\n",
    "        tuple (data, target), where data has shape [seq_len, batch_size] and\n",
    "        target has shape [seq_len * batch_size]\n",
    "    \"\"\"\n",
    "    seq_len = min(bptt, len(source) - 1 - i)\n",
    "    data = source[i:i + seq_len]\n",
    "    target = source[i + 1:i + 1 + seq_len].reshape(-1)\n",
    "    return data, target\n",
    "\n",
    "bptt = 2\n",
    "data, target = get_batch(train_data, i=0, bptt=bptt)\n",
    "print(f\"Data shape: {data.shape}, Target shape: {target.shape}\")\n",
    "\n",
    "print(\"\\nSample:\")\n",
    "print(\"Data:\", ' '.join([itos[idx] for idx in data[:,0]]))\n",
    "print(\"Target:\", ' '.join([itos[idx] for idx in target[:bptt]]))"
   ]
  },
  {
   "cell_type": "markdown",
   "metadata": {},
   "source": [
    "### <img src=\"https://img.icons8.com/color/48/000000/code.png\" style=\"height:50px;display:inline\"> Task 3  - Define Hyperparameters and Initialize the Model\n",
    "---\n",
    "* Define the following hyperparameters (`[a, b]` means in the range between `a` and `b`):\n",
    "    * Embedding size: choose from `[200, 250]`\n",
    "    * Number of hidden units: choose from `[200, 250]`\n",
    "    * Number of layers: choose from `[2, 4]`\n",
    "    * Number of attention heads: choose from `[2, 4]`\n",
    "    * Dropout: choose from `[0.0, 0.3]`\n",
    "    * Loss criterion: `nn.CrossEntropyLoss()`\n",
    "    * Optimizer: choose from `[SGD, Adam, RAdam]`\n",
    "    * Learning rate: choose from `[5e-3, 5.0]`\n",
    "    * Learning Scheduler: `torch.optim.lr_scheduler.StepLR(optimizer, 1.0, gamma=0.95)` or any scheduler of your choosing.\n",
    "    * Transformer LayerNormalization: `post` (`norm_first=False`) or `pre` (`norm_first=True`).\n",
    "* Intialize an instance of `TransformerModel` (given) and send it to `device`. Note that you need to give it the number of tokens to define the output of the decoder. You should use the number of tokens in the vocabulary. Print the number of tokens,  print **all** the chosen hyper-parameters and print the model (`print(model`)."
   ]
  },
  {
   "cell_type": "code",
   "execution_count": 13,
   "metadata": {},
   "outputs": [],
   "source": [
    "class PositionalEncoding(nn.Module):\n",
    "\n",
    "    def __init__(self, d_model, dropout=0.1, max_len=5000):\n",
    "        super(PositionalEncoding, self).__init__()\n",
    "        self.dropout = nn.Dropout(p=dropout)\n",
    "\n",
    "        pe = torch.zeros(max_len, d_model)\n",
    "        position = torch.arange(0, max_len, dtype=torch.float).unsqueeze(1)\n",
    "        div_term = torch.exp(torch.arange(0, d_model, 2).float() * (-math.log(10000.0) / d_model))\n",
    "        pe[:, 0::2] = torch.sin(position * div_term)\n",
    "        pe[:, 1::2] = torch.cos(position * div_term)\n",
    "        pe = pe.unsqueeze(0).transpose(0, 1)\n",
    "        self.register_buffer('pe', pe)\n",
    "\n",
    "    def forward(self, x):\n",
    "        x = x + self.pe[:x.size(0), :]\n",
    "        return self.dropout(x)\n",
    "    \n",
    "class TransformerModel(nn.Module):\n",
    "\n",
    "    def __init__(self, ntoken, ninp, nhead, nhid, nlayers, dropout=0.5, norm_first=False):\n",
    "        super(TransformerModel, self).__init__()\n",
    "        self.pos_encoder = PositionalEncoding(ninp, dropout)\n",
    "        encoder_layers = TransformerEncoderLayer(ninp, nhead, nhid, dropout, norm_first=norm_first)\n",
    "        self.transformer_encoder = TransformerEncoder(encoder_layers, nlayers)\n",
    "        self.encoder = nn.Embedding(ntoken, ninp)\n",
    "        self.ninp = ninp\n",
    "        self.decoder = nn.Linear(ninp, ntoken)\n",
    "\n",
    "        self.init_weights()\n",
    "\n",
    "    def generate_square_subsequent_mask(self, sz):\n",
    "        mask = (torch.triu(torch.ones(sz, sz)) == 1).transpose(0, 1)\n",
    "        mask = mask.float().masked_fill(mask == 0, float('-inf')).masked_fill(mask == 1, float(0.0))\n",
    "        return mask\n",
    "\n",
    "    def init_weights(self):\n",
    "        initrange = 0.1\n",
    "        self.encoder.weight.data.uniform_(-initrange, initrange)\n",
    "        self.decoder.bias.data.zero_()\n",
    "        self.decoder.weight.data.uniform_(-initrange, initrange)\n",
    "\n",
    "    def forward(self, src, src_mask):\n",
    "        src = self.encoder(src) * math.sqrt(self.ninp)\n",
    "        src = self.pos_encoder(src)\n",
    "        output = self.transformer_encoder(src, src_mask)\n",
    "        output = self.decoder(output)\n",
    "        return output"
   ]
  },
  {
   "cell_type": "code",
   "execution_count": 18,
   "metadata": {},
   "outputs": [
    {
     "name": "stdout",
     "output_type": "stream",
     "text": [
      "Vocabulary size: 28782\n",
      "\n",
      "Hyperparameters:\n",
      "Number of Epochs: 10\n",
      "Embedding size: 210\n",
      "Hidden size: 240\n",
      "Layers: 4\n",
      "Attention heads: 3\n",
      "Dropout: 0.3\n",
      "Normalization: pre\n",
      "\n",
      "Model architecture:\n",
      "TransformerModel(\n",
      "  (pos_encoder): PositionalEncoding(\n",
      "    (dropout): Dropout(p=0.3, inplace=False)\n",
      "  )\n",
      "  (transformer_encoder): TransformerEncoder(\n",
      "    (layers): ModuleList(\n",
      "      (0-3): 4 x TransformerEncoderLayer(\n",
      "        (self_attn): MultiheadAttention(\n",
      "          (out_proj): NonDynamicallyQuantizableLinear(in_features=210, out_features=210, bias=True)\n",
      "        )\n",
      "        (linear1): Linear(in_features=210, out_features=240, bias=True)\n",
      "        (dropout): Dropout(p=0.3, inplace=False)\n",
      "        (linear2): Linear(in_features=240, out_features=210, bias=True)\n",
      "        (norm1): LayerNorm((210,), eps=1e-05, elementwise_affine=True)\n",
      "        (norm2): LayerNorm((210,), eps=1e-05, elementwise_affine=True)\n",
      "        (dropout1): Dropout(p=0.3, inplace=False)\n",
      "        (dropout2): Dropout(p=0.3, inplace=False)\n",
      "      )\n",
      "    )\n",
      "  )\n",
      "  (encoder): Embedding(28782, 210)\n",
      "  (decoder): Linear(in_features=210, out_features=28782, bias=True)\n",
      ")\n"
     ]
    }
   ],
   "source": [
    "\"\"\"\n",
    "Your Code Here\n",
    "\"\"\"\n",
    "\n",
    "# Hyperparameters\n",
    "epochs = 10               # Number of epochs\n",
    "ntokens = len(vocab)      # Vocabulary size\n",
    "emsize = 210              # Embedding size\n",
    "nhid = 240                # Number of hidden units\n",
    "nlayers = 4               # Number of layers\n",
    "nhead = 3                 # Number of attention heads\n",
    "dropout = 0.3             # Dropout rate\n",
    "norm_first = True         # Transformer LayerNormalization: `post` (`norm_first=False`) or `pre` (`norm_first=True`)\n",
    "lr=0.5                    # Learning rate\n",
    "\n",
    "model = TransformerModel(ntoken=ntokens, ninp=emsize, nhead=nhead, nhid=nhid, nlayers=nlayers, dropout=dropout, norm_first=norm_first)\n",
    "model = model.to(device)\n",
    "\n",
    "# Loss and optimizer\n",
    "criterion = nn.CrossEntropyLoss()\n",
    "optimizer = torch.optim.SGD(model.parameters(), lr=lr)\n",
    "scheduler = torch.optim.lr_scheduler.StepLR(optimizer, 1.0, 0.95)\n",
    "\n",
    "print(f\"Vocabulary size: {ntokens}\")\n",
    "print(f\"\\nHyperparameters:\")\n",
    "print(f\"Number of Epochs: {epochs}\")\n",
    "print(f\"Embedding size: {emsize}\")\n",
    "print(f\"Hidden size: {nhid}\")\n",
    "print(f\"Layers: {nlayers}\")\n",
    "print(f\"Attention heads: {nhead}\")\n",
    "print(f\"Dropout: {dropout}\")\n",
    "print(f\"Normalization: {'pre' if norm_first else 'post'}\")\n",
    "print(f\"\\nModel architecture:\")\n",
    "print(model)"
   ]
  },
  {
   "cell_type": "markdown",
   "metadata": {},
   "source": [
    "### <img src=\"https://img.icons8.com/color/48/000000/code.png\" style=\"height:50px;display:inline\"> Task 4  - Train and Evaluate the Language Model\n",
    "---\n",
    "* Fill in the missing line in the training code and train the model.\n",
    "* Use `bptt=35`.\n",
    "* Use the provided function to evaluate it on the validatation set (after each epoch) and on test test (after training is done). **Print and plot** the results (loss and perplexity).\n",
    "* If you see that the performance does not improve, go back to Task 3 and re-think you hyper-parameters."
   ]
  },
  {
   "cell_type": "code",
   "execution_count": 15,
   "metadata": {},
   "outputs": [],
   "source": [
    "def evaluate(model, eval_data):\n",
    "    model.eval()  # turn on evaluation mode\n",
    "    total_loss = 0.\n",
    "    src_mask = model.generate_square_subsequent_mask(bptt).to(device)\n",
    "    with torch.no_grad():\n",
    "        for i in range(0, eval_data.size(0) - 1, bptt):\n",
    "            data, targets = get_batch(eval_data, i, bptt)\n",
    "            seq_len = data.size(0)\n",
    "            if seq_len != bptt:\n",
    "                src_mask = src_mask[:seq_len, :seq_len]\n",
    "            output = model(data, src_mask)\n",
    "            output_flat = output.view(-1, ntokens)\n",
    "            total_loss += seq_len * criterion(output_flat, targets).item()\n",
    "    return total_loss / (len(eval_data) - 1)"
   ]
  },
  {
   "cell_type": "code",
   "execution_count": 16,
   "metadata": {},
   "outputs": [],
   "source": [
    "\"\"\"\n",
    "Your Code Here\n",
    "\"\"\"\n",
    "def train(model, bptt):\n",
    "    model.train()  # turn on train mode\n",
    "    total_loss = 0.\n",
    "    log_interval = 200\n",
    "    start_time = time.time()\n",
    "    src_mask = model.generate_square_subsequent_mask(bptt).to(device)\n",
    "\n",
    "    num_batches = len(train_data) // bptt\n",
    "    for batch, i in enumerate(range(0, train_data.size(0) - 1, bptt)):\n",
    "        data, targets = get_batch(train_data, i, bptt)\n",
    "        seq_len = data.size(0)\n",
    "        if seq_len != bptt:  # only on last batch\n",
    "            src_mask = src_mask[:seq_len, :seq_len]\n",
    "        output = model(data,src_mask)\n",
    "        loss = criterion(output.view(-1, ntokens), targets)\n",
    "\n",
    "        optimizer.zero_grad()\n",
    "        loss.backward()\n",
    "        torch.nn.utils.clip_grad_norm_(model.parameters(), 0.5)\n",
    "        optimizer.step()\n",
    "\n",
    "        total_loss += loss.item()\n",
    "        if batch % log_interval == 0 and batch > 0:\n",
    "            lr = scheduler.get_last_lr()[0]\n",
    "            ms_per_batch = (time.time() - start_time) * 1000 / log_interval\n",
    "            cur_loss = total_loss / log_interval\n",
    "            ppl = math.exp(cur_loss)\n",
    "            print(f'| epoch {epoch:3d}/{epochs:3d} | {batch:5d}/{num_batches:5d} batches | '\n",
    "                  f'lr {lr:02.4f} | ms/batch {ms_per_batch:5.2f} | '\n",
    "                  f'loss {cur_loss:5.2f} | ppl {ppl:8.2f}')\n",
    "            total_loss = 0\n",
    "            start_time = time.time()"
   ]
  },
  {
   "cell_type": "code",
   "execution_count": 19,
   "metadata": {},
   "outputs": [
    {
     "name": "stdout",
     "output_type": "stream",
     "text": [
      "| epoch   1/ 10 |   200/ 2928 batches | lr 0.5000 | ms/batch  6.02 | loss  7.95 | ppl  2822.43\n",
      "| epoch   1/ 10 |   400/ 2928 batches | lr 0.5000 | ms/batch  5.94 | loss  7.17 | ppl  1296.86\n",
      "| epoch   1/ 10 |   600/ 2928 batches | lr 0.5000 | ms/batch  5.93 | loss  6.90 | ppl   996.33\n",
      "| epoch   1/ 10 |   800/ 2928 batches | lr 0.5000 | ms/batch  5.93 | loss  6.79 | ppl   893.06\n",
      "| epoch   1/ 10 |  1000/ 2928 batches | lr 0.5000 | ms/batch  5.93 | loss  6.68 | ppl   799.47\n",
      "| epoch   1/ 10 |  1200/ 2928 batches | lr 0.5000 | ms/batch  5.93 | loss  6.67 | ppl   789.79\n",
      "| epoch   1/ 10 |  1400/ 2928 batches | lr 0.5000 | ms/batch  5.95 | loss  6.58 | ppl   720.51\n",
      "| epoch   1/ 10 |  1600/ 2928 batches | lr 0.5000 | ms/batch  5.93 | loss  6.56 | ppl   707.48\n",
      "| epoch   1/ 10 |  1800/ 2928 batches | lr 0.5000 | ms/batch  5.93 | loss  6.47 | ppl   648.48\n",
      "| epoch   1/ 10 |  2000/ 2928 batches | lr 0.5000 | ms/batch  5.93 | loss  6.47 | ppl   645.47\n",
      "| epoch   1/ 10 |  2200/ 2928 batches | lr 0.5000 | ms/batch  5.92 | loss  6.35 | ppl   572.16\n",
      "| epoch   1/ 10 |  2400/ 2928 batches | lr 0.5000 | ms/batch  5.92 | loss  6.38 | ppl   592.74\n",
      "| epoch   1/ 10 |  2600/ 2928 batches | lr 0.5000 | ms/batch  5.92 | loss  6.36 | ppl   577.28\n",
      "| epoch   1/ 10 |  2800/ 2928 batches | lr 0.5000 | ms/batch  5.92 | loss  6.30 | ppl   546.11\n",
      "-----------------------------------------------------------------------------------------\n",
      "| end of epoch   1/ 10 | time: 25.43s | valid loss  6.03 | valid ppl   417.12\n",
      "-----------------------------------------------------------------------------------------\n",
      "| epoch   2/ 10 |   200/ 2928 batches | lr 0.4750 | ms/batch  5.97 | loss  6.25 | ppl   520.13\n",
      "| epoch   2/ 10 |   400/ 2928 batches | lr 0.4750 | ms/batch  5.93 | loss  6.24 | ppl   515.19\n",
      "| epoch   2/ 10 |   600/ 2928 batches | lr 0.4750 | ms/batch  5.94 | loss  6.13 | ppl   457.55\n",
      "| epoch   2/ 10 |   800/ 2928 batches | lr 0.4750 | ms/batch  5.94 | loss  6.16 | ppl   471.64\n",
      "| epoch   2/ 10 |  1000/ 2928 batches | lr 0.4750 | ms/batch  5.93 | loss  6.10 | ppl   444.11\n",
      "| epoch   2/ 10 |  1200/ 2928 batches | lr 0.4750 | ms/batch  5.94 | loss  6.14 | ppl   462.66\n",
      "| epoch   2/ 10 |  1400/ 2928 batches | lr 0.4750 | ms/batch  5.94 | loss  6.11 | ppl   451.08\n",
      "| epoch   2/ 10 |  1600/ 2928 batches | lr 0.4750 | ms/batch  5.95 | loss  6.14 | ppl   462.69\n",
      "| epoch   2/ 10 |  1800/ 2928 batches | lr 0.4750 | ms/batch  5.94 | loss  6.07 | ppl   432.88\n",
      "| epoch   2/ 10 |  2000/ 2928 batches | lr 0.4750 | ms/batch  5.95 | loss  6.09 | ppl   441.72\n",
      "| epoch   2/ 10 |  2200/ 2928 batches | lr 0.4750 | ms/batch  5.95 | loss  5.98 | ppl   394.88\n",
      "| epoch   2/ 10 |  2400/ 2928 batches | lr 0.4750 | ms/batch  5.95 | loss  6.04 | ppl   422.00\n",
      "| epoch   2/ 10 |  2600/ 2928 batches | lr 0.4750 | ms/batch  5.95 | loss  6.04 | ppl   419.08\n",
      "| epoch   2/ 10 |  2800/ 2928 batches | lr 0.4750 | ms/batch  5.95 | loss  5.99 | ppl   401.01\n",
      "-----------------------------------------------------------------------------------------\n",
      "| end of epoch   2/ 10 | time: 25.48s | valid loss  5.81 | valid ppl   335.23\n",
      "-----------------------------------------------------------------------------------------\n",
      "| epoch   3/ 10 |   200/ 2928 batches | lr 0.4512 | ms/batch  5.99 | loss  5.99 | ppl   399.23\n",
      "| epoch   3/ 10 |   400/ 2928 batches | lr 0.4512 | ms/batch  5.94 | loss  6.00 | ppl   405.17\n",
      "| epoch   3/ 10 |   600/ 2928 batches | lr 0.4512 | ms/batch  5.95 | loss  5.88 | ppl   356.09\n",
      "| epoch   3/ 10 |   800/ 2928 batches | lr 0.4512 | ms/batch  5.94 | loss  5.92 | ppl   374.03\n",
      "| epoch   3/ 10 |  1000/ 2928 batches | lr 0.4512 | ms/batch  5.94 | loss  5.87 | ppl   353.33\n",
      "| epoch   3/ 10 |  1200/ 2928 batches | lr 0.4512 | ms/batch  5.94 | loss  5.91 | ppl   370.06\n",
      "| epoch   3/ 10 |  1400/ 2928 batches | lr 0.4512 | ms/batch  5.94 | loss  5.90 | ppl   366.62\n",
      "| epoch   3/ 10 |  1600/ 2928 batches | lr 0.4512 | ms/batch  5.94 | loss  5.93 | ppl   377.28\n",
      "| epoch   3/ 10 |  1800/ 2928 batches | lr 0.4512 | ms/batch  5.94 | loss  5.87 | ppl   355.39\n",
      "| epoch   3/ 10 |  2000/ 2928 batches | lr 0.4512 | ms/batch  5.94 | loss  5.90 | ppl   364.06\n",
      "| epoch   3/ 10 |  2200/ 2928 batches | lr 0.4512 | ms/batch  5.95 | loss  5.78 | ppl   324.29\n",
      "| epoch   3/ 10 |  2400/ 2928 batches | lr 0.4512 | ms/batch  5.95 | loss  5.87 | ppl   353.62\n",
      "| epoch   3/ 10 |  2600/ 2928 batches | lr 0.4512 | ms/batch  5.95 | loss  5.86 | ppl   350.74\n",
      "| epoch   3/ 10 |  2800/ 2928 batches | lr 0.4512 | ms/batch  5.94 | loss  5.82 | ppl   335.95\n",
      "-----------------------------------------------------------------------------------------\n",
      "| end of epoch   3/ 10 | time: 25.49s | valid loss  5.70 | valid ppl   298.66\n",
      "-----------------------------------------------------------------------------------------\n",
      "| epoch   4/ 10 |   200/ 2928 batches | lr 0.4287 | ms/batch  6.00 | loss  5.83 | ppl   341.82\n",
      "| epoch   4/ 10 |   400/ 2928 batches | lr 0.4287 | ms/batch  5.95 | loss  5.86 | ppl   349.07\n",
      "| epoch   4/ 10 |   600/ 2928 batches | lr 0.4287 | ms/batch  5.95 | loss  5.72 | ppl   303.54\n",
      "| epoch   4/ 10 |   800/ 2928 batches | lr 0.4287 | ms/batch  5.95 | loss  5.78 | ppl   323.92\n",
      "| epoch   4/ 10 |  1000/ 2928 batches | lr 0.4287 | ms/batch  5.95 | loss  5.72 | ppl   303.62\n",
      "| epoch   4/ 10 |  1200/ 2928 batches | lr 0.4287 | ms/batch  5.96 | loss  5.76 | ppl   318.58\n",
      "| epoch   4/ 10 |  1400/ 2928 batches | lr 0.4287 | ms/batch  5.96 | loss  5.77 | ppl   319.44\n",
      "| epoch   4/ 10 |  1600/ 2928 batches | lr 0.4287 | ms/batch  5.95 | loss  5.80 | ppl   329.03\n",
      "| epoch   4/ 10 |  1800/ 2928 batches | lr 0.4287 | ms/batch  5.95 | loss  5.74 | ppl   310.73\n",
      "| epoch   4/ 10 |  2000/ 2928 batches | lr 0.4287 | ms/batch  5.95 | loss  5.76 | ppl   317.74\n",
      "| epoch   4/ 10 |  2200/ 2928 batches | lr 0.4287 | ms/batch  5.95 | loss  5.65 | ppl   283.60\n",
      "| epoch   4/ 10 |  2400/ 2928 batches | lr 0.4287 | ms/batch  5.95 | loss  5.74 | ppl   309.53\n",
      "| epoch   4/ 10 |  2600/ 2928 batches | lr 0.4287 | ms/batch  5.94 | loss  5.73 | ppl   309.02\n",
      "| epoch   4/ 10 |  2800/ 2928 batches | lr 0.4287 | ms/batch  5.95 | loss  5.69 | ppl   294.71\n",
      "-----------------------------------------------------------------------------------------\n",
      "| end of epoch   4/ 10 | time: 25.56s | valid loss  5.61 | valid ppl   274.05\n",
      "-----------------------------------------------------------------------------------------\n",
      "| epoch   5/ 10 |   200/ 2928 batches | lr 0.4073 | ms/batch  5.99 | loss  5.72 | ppl   303.57\n",
      "| epoch   5/ 10 |   400/ 2928 batches | lr 0.4073 | ms/batch  5.94 | loss  5.74 | ppl   311.30\n",
      "| epoch   5/ 10 |   600/ 2928 batches | lr 0.4073 | ms/batch  5.95 | loss  5.59 | ppl   269.00\n",
      "| epoch   5/ 10 |   800/ 2928 batches | lr 0.4073 | ms/batch  5.95 | loss  5.66 | ppl   287.24\n",
      "| epoch   5/ 10 |  1000/ 2928 batches | lr 0.4073 | ms/batch  5.95 | loss  5.60 | ppl   270.22\n",
      "| epoch   5/ 10 |  1200/ 2928 batches | lr 0.4073 | ms/batch  5.95 | loss  5.65 | ppl   284.28\n",
      "| epoch   5/ 10 |  1400/ 2928 batches | lr 0.4073 | ms/batch  5.95 | loss  5.66 | ppl   286.37\n",
      "| epoch   5/ 10 |  1600/ 2928 batches | lr 0.4073 | ms/batch  5.95 | loss  5.69 | ppl   295.46\n",
      "| epoch   5/ 10 |  1800/ 2928 batches | lr 0.4073 | ms/batch  5.95 | loss  5.63 | ppl   278.73\n",
      "| epoch   5/ 10 |  2000/ 2928 batches | lr 0.4073 | ms/batch  5.95 | loss  5.65 | ppl   285.41\n",
      "| epoch   5/ 10 |  2200/ 2928 batches | lr 0.4073 | ms/batch  5.95 | loss  5.54 | ppl   253.96\n",
      "| epoch   5/ 10 |  2400/ 2928 batches | lr 0.4073 | ms/batch  5.95 | loss  5.63 | ppl   279.03\n",
      "| epoch   5/ 10 |  2600/ 2928 batches | lr 0.4073 | ms/batch  5.97 | loss  5.63 | ppl   279.35\n",
      "| epoch   5/ 10 |  2800/ 2928 batches | lr 0.4073 | ms/batch  5.96 | loss  5.58 | ppl   264.61\n",
      "-----------------------------------------------------------------------------------------\n",
      "| end of epoch   5/ 10 | time: 25.63s | valid loss  5.54 | valid ppl   255.01\n",
      "-----------------------------------------------------------------------------------------\n",
      "| epoch   6/ 10 |   200/ 2928 batches | lr 0.3869 | ms/batch  5.99 | loss  5.62 | ppl   274.81\n",
      "| epoch   6/ 10 |   400/ 2928 batches | lr 0.3869 | ms/batch  5.95 | loss  5.65 | ppl   283.79\n",
      "| epoch   6/ 10 |   600/ 2928 batches | lr 0.3869 | ms/batch  5.95 | loss  5.49 | ppl   243.09\n",
      "| epoch   6/ 10 |   800/ 2928 batches | lr 0.3869 | ms/batch  5.95 | loss  5.57 | ppl   262.27\n",
      "| epoch   6/ 10 |  1000/ 2928 batches | lr 0.3869 | ms/batch  5.95 | loss  5.50 | ppl   244.30\n",
      "| epoch   6/ 10 |  1200/ 2928 batches | lr 0.3869 | ms/batch  5.95 | loss  5.56 | ppl   259.58\n",
      "| epoch   6/ 10 |  1400/ 2928 batches | lr 0.3869 | ms/batch  5.93 | loss  5.57 | ppl   261.56\n",
      "| epoch   6/ 10 |  1600/ 2928 batches | lr 0.3869 | ms/batch  5.96 | loss  5.60 | ppl   270.37\n",
      "| epoch   6/ 10 |  1800/ 2928 batches | lr 0.3869 | ms/batch  5.96 | loss  5.54 | ppl   254.00\n",
      "| epoch   6/ 10 |  2000/ 2928 batches | lr 0.3869 | ms/batch  5.93 | loss  5.56 | ppl   260.68\n",
      "| epoch   6/ 10 |  2200/ 2928 batches | lr 0.3869 | ms/batch  5.95 | loss  5.45 | ppl   232.18\n",
      "| epoch   6/ 10 |  2400/ 2928 batches | lr 0.3869 | ms/batch  5.93 | loss  5.55 | ppl   256.63\n",
      "| epoch   6/ 10 |  2600/ 2928 batches | lr 0.3869 | ms/batch  5.93 | loss  5.55 | ppl   256.32\n",
      "| epoch   6/ 10 |  2800/ 2928 batches | lr 0.3869 | ms/batch  5.93 | loss  5.49 | ppl   242.59\n",
      "-----------------------------------------------------------------------------------------\n",
      "| end of epoch   6/ 10 | time: 25.50s | valid loss  5.49 | valid ppl   242.08\n",
      "-----------------------------------------------------------------------------------------\n",
      "| epoch   7/ 10 |   200/ 2928 batches | lr 0.3675 | ms/batch  5.99 | loss  5.53 | ppl   252.99\n",
      "| epoch   7/ 10 |   400/ 2928 batches | lr 0.3675 | ms/batch  5.95 | loss  5.57 | ppl   263.28\n",
      "| epoch   7/ 10 |   600/ 2928 batches | lr 0.3675 | ms/batch  5.95 | loss  5.41 | ppl   223.57\n",
      "| epoch   7/ 10 |   800/ 2928 batches | lr 0.3675 | ms/batch  5.94 | loss  5.49 | ppl   241.72\n",
      "| epoch   7/ 10 |  1000/ 2928 batches | lr 0.3675 | ms/batch  5.95 | loss  5.42 | ppl   225.54\n",
      "| epoch   7/ 10 |  1200/ 2928 batches | lr 0.3675 | ms/batch  5.95 | loss  5.48 | ppl   239.00\n",
      "| epoch   7/ 10 |  1400/ 2928 batches | lr 0.3675 | ms/batch  5.95 | loss  5.49 | ppl   242.63\n",
      "| epoch   7/ 10 |  1600/ 2928 batches | lr 0.3675 | ms/batch  5.94 | loss  5.52 | ppl   250.47\n",
      "| epoch   7/ 10 |  1800/ 2928 batches | lr 0.3675 | ms/batch  5.94 | loss  5.46 | ppl   235.13\n",
      "| epoch   7/ 10 |  2000/ 2928 batches | lr 0.3675 | ms/batch  5.94 | loss  5.49 | ppl   242.80\n",
      "| epoch   7/ 10 |  2200/ 2928 batches | lr 0.3675 | ms/batch  5.95 | loss  5.37 | ppl   214.24\n",
      "| epoch   7/ 10 |  2400/ 2928 batches | lr 0.3675 | ms/batch  5.95 | loss  5.47 | ppl   237.61\n",
      "| epoch   7/ 10 |  2600/ 2928 batches | lr 0.3675 | ms/batch  5.94 | loss  5.47 | ppl   237.80\n",
      "| epoch   7/ 10 |  2800/ 2928 batches | lr 0.3675 | ms/batch  5.94 | loss  5.42 | ppl   225.14\n",
      "-----------------------------------------------------------------------------------------\n",
      "| end of epoch   7/ 10 | time: 25.52s | valid loss  5.44 | valid ppl   231.07\n",
      "-----------------------------------------------------------------------------------------\n",
      "| epoch   8/ 10 |   200/ 2928 batches | lr 0.3492 | ms/batch  5.98 | loss  5.47 | ppl   237.17\n",
      "| epoch   8/ 10 |   400/ 2928 batches | lr 0.3492 | ms/batch  5.93 | loss  5.51 | ppl   246.34\n",
      "| epoch   8/ 10 |   600/ 2928 batches | lr 0.3492 | ms/batch  5.93 | loss  5.34 | ppl   208.51\n",
      "| epoch   8/ 10 |   800/ 2928 batches | lr 0.3492 | ms/batch  5.93 | loss  5.42 | ppl   226.42\n",
      "| epoch   8/ 10 |  1000/ 2928 batches | lr 0.3492 | ms/batch  5.93 | loss  5.35 | ppl   210.19\n",
      "| epoch   8/ 10 |  1200/ 2928 batches | lr 0.3492 | ms/batch  5.93 | loss  5.42 | ppl   224.77\n",
      "| epoch   8/ 10 |  1400/ 2928 batches | lr 0.3492 | ms/batch  5.93 | loss  5.43 | ppl   227.97\n",
      "| epoch   8/ 10 |  1600/ 2928 batches | lr 0.3492 | ms/batch  5.93 | loss  5.46 | ppl   235.31\n",
      "| epoch   8/ 10 |  1800/ 2928 batches | lr 0.3492 | ms/batch  5.93 | loss  5.40 | ppl   220.85\n",
      "| epoch   8/ 10 |  2000/ 2928 batches | lr 0.3492 | ms/batch  5.93 | loss  5.43 | ppl   227.16\n",
      "| epoch   8/ 10 |  2200/ 2928 batches | lr 0.3492 | ms/batch  5.93 | loss  5.30 | ppl   199.91\n",
      "| epoch   8/ 10 |  2400/ 2928 batches | lr 0.3492 | ms/batch  5.93 | loss  5.41 | ppl   223.50\n",
      "| epoch   8/ 10 |  2600/ 2928 batches | lr 0.3492 | ms/batch  5.94 | loss  5.42 | ppl   224.98\n",
      "| epoch   8/ 10 |  2800/ 2928 batches | lr 0.3492 | ms/batch  5.94 | loss  5.35 | ppl   210.47\n",
      "-----------------------------------------------------------------------------------------\n",
      "| end of epoch   8/ 10 | time: 25.50s | valid loss  5.41 | valid ppl   223.47\n",
      "-----------------------------------------------------------------------------------------\n",
      "| epoch   9/ 10 |   200/ 2928 batches | lr 0.3317 | ms/batch  5.99 | loss  5.41 | ppl   223.22\n",
      "| epoch   9/ 10 |   400/ 2928 batches | lr 0.3317 | ms/batch  5.94 | loss  5.45 | ppl   231.80\n",
      "| epoch   9/ 10 |   600/ 2928 batches | lr 0.3317 | ms/batch  5.94 | loss  5.28 | ppl   195.94\n",
      "| epoch   9/ 10 |   800/ 2928 batches | lr 0.3317 | ms/batch  5.94 | loss  5.37 | ppl   213.85\n",
      "| epoch   9/ 10 |  1000/ 2928 batches | lr 0.3317 | ms/batch  5.94 | loss  5.29 | ppl   198.55\n",
      "| epoch   9/ 10 |  1200/ 2928 batches | lr 0.3317 | ms/batch  5.94 | loss  5.36 | ppl   211.95\n",
      "| epoch   9/ 10 |  1400/ 2928 batches | lr 0.3317 | ms/batch  5.94 | loss  5.37 | ppl   214.27\n",
      "| epoch   9/ 10 |  1600/ 2928 batches | lr 0.3317 | ms/batch  5.94 | loss  5.40 | ppl   222.28\n",
      "| epoch   9/ 10 |  1800/ 2928 batches | lr 0.3317 | ms/batch  5.94 | loss  5.35 | ppl   209.84\n",
      "| epoch   9/ 10 |  2000/ 2928 batches | lr 0.3317 | ms/batch  5.94 | loss  5.37 | ppl   215.48\n",
      "| epoch   9/ 10 |  2200/ 2928 batches | lr 0.3317 | ms/batch  5.97 | loss  5.24 | ppl   189.06\n",
      "| epoch   9/ 10 |  2400/ 2928 batches | lr 0.3317 | ms/batch  5.94 | loss  5.35 | ppl   211.56\n",
      "| epoch   9/ 10 |  2600/ 2928 batches | lr 0.3317 | ms/batch  5.95 | loss  5.36 | ppl   213.03\n",
      "| epoch   9/ 10 |  2800/ 2928 batches | lr 0.3317 | ms/batch  5.95 | loss  5.29 | ppl   199.28\n",
      "-----------------------------------------------------------------------------------------\n",
      "| end of epoch   9/ 10 | time: 25.51s | valid loss  5.38 | valid ppl   216.17\n",
      "-----------------------------------------------------------------------------------------\n",
      "| epoch  10/ 10 |   200/ 2928 batches | lr 0.3151 | ms/batch  6.00 | loss  5.36 | ppl   211.93\n",
      "| epoch  10/ 10 |   400/ 2928 batches | lr 0.3151 | ms/batch  5.94 | loss  5.39 | ppl   219.79\n",
      "| epoch  10/ 10 |   600/ 2928 batches | lr 0.3151 | ms/batch  5.96 | loss  5.22 | ppl   185.60\n",
      "| epoch  10/ 10 |   800/ 2928 batches | lr 0.3151 | ms/batch  5.95 | loss  5.31 | ppl   202.73\n",
      "| epoch  10/ 10 |  1000/ 2928 batches | lr 0.3151 | ms/batch  5.93 | loss  5.24 | ppl   188.66\n",
      "| epoch  10/ 10 |  1200/ 2928 batches | lr 0.3151 | ms/batch  5.94 | loss  5.31 | ppl   201.35\n",
      "| epoch  10/ 10 |  1400/ 2928 batches | lr 0.3151 | ms/batch  5.94 | loss  5.32 | ppl   204.31\n",
      "| epoch  10/ 10 |  1600/ 2928 batches | lr 0.3151 | ms/batch  5.94 | loss  5.36 | ppl   212.23\n",
      "| epoch  10/ 10 |  1800/ 2928 batches | lr 0.3151 | ms/batch  5.94 | loss  5.30 | ppl   199.49\n",
      "| epoch  10/ 10 |  2000/ 2928 batches | lr 0.3151 | ms/batch  5.94 | loss  5.32 | ppl   204.93\n",
      "| epoch  10/ 10 |  2200/ 2928 batches | lr 0.3151 | ms/batch  5.95 | loss  5.19 | ppl   179.88\n",
      "| epoch  10/ 10 |  2400/ 2928 batches | lr 0.3151 | ms/batch  5.94 | loss  5.30 | ppl   200.80\n",
      "| epoch  10/ 10 |  2600/ 2928 batches | lr 0.3151 | ms/batch  5.95 | loss  5.31 | ppl   202.35\n",
      "| epoch  10/ 10 |  2800/ 2928 batches | lr 0.3151 | ms/batch  5.95 | loss  5.25 | ppl   190.38\n",
      "-----------------------------------------------------------------------------------------\n",
      "| end of epoch  10/ 10 | time: 25.52s | valid loss  5.35 | valid ppl   210.78\n",
      "-----------------------------------------------------------------------------------------\n"
     ]
    },
    {
     "data": {
      "image/png": "[encoded data removed]",
      "text/plain": [
       "<Figure size 1500x500 with 2 Axes>"
      ]
     },
     "metadata": {},
     "output_type": "display_data"
    }
   ],
   "source": [
    "\"\"\"\n",
    "Your Code Here\n",
    "\"\"\"\n",
    "best_val_loss = float(\"inf\")\n",
    "train_losses = []\n",
    "val_losses = []\n",
    "train_ppls = []\n",
    "val_ppls = []\n",
    "best_model = None\n",
    "bptt = 35\n",
    "\n",
    "for epoch in range(1, epochs + 1):\n",
    "    epoch_start_time = time.time()\n",
    "    train(model, bptt)\n",
    "    \n",
    "    train_loss = evaluate(model, train_data)\n",
    "    train_losses.append(train_loss)\n",
    "    train_ppls.append(math.exp(train_loss))\n",
    "    \n",
    "    val_loss = evaluate(model, val_data)\n",
    "    val_losses.append(val_loss)\n",
    "    val_ppls.append(math.exp(val_loss))\n",
    "    \n",
    "    print('-' * 89)\n",
    "    print('| end of epoch {:3d}/{:3d} | time: {:5.2f}s | valid loss {:5.2f} | '\n",
    "          'valid ppl {:8.2f}'.format(epoch, epochs, (time.time() - epoch_start_time),\n",
    "                                     val_loss, math.exp(val_loss)))\n",
    "    print('-' * 89)\n",
    "\n",
    "    if val_loss < best_val_loss:\n",
    "        best_val_loss = val_loss\n",
    "        best_model = model\n",
    "\n",
    "    scheduler.step()\n",
    "    \n",
    "fig, (ax1, ax2) = plt.subplots(1, 2, figsize=(15,5))\n",
    "\n",
    "ax1.plot(train_losses, label='Training Loss')\n",
    "ax1.plot(val_losses, label='Validation Loss')\n",
    "ax1.set_xlabel('Epoch')\n",
    "ax1.set_ylabel('Loss')\n",
    "ax1.legend()\n",
    "ax1.set_title('Loss over time')\n",
    "\n",
    "ax2.plot(train_ppls, label='Training Perplexity')\n",
    "ax2.plot(val_ppls, label='Validation Perplexity')\n",
    "ax2.set_xlabel('Epoch')\n",
    "ax2.set_ylabel('Perplexity')\n",
    "ax2.legend()\n",
    "ax2.set_title('Perplexity over time')\n",
    "\n",
    "plt.show()"
   ]
  },
  {
   "cell_type": "markdown",
   "metadata": {},
   "source": [
    "### <img src=\"https://img.icons8.com/color/48/000000/code.png\" style=\"height:50px;display:inline\"> Task 5  - Generate Sentences\n",
    "---\n",
    "Use the following function to generate 3 sentences of length 20, and print them. Do they make sense? (you can compare generated sentences over epochs, to see if some logic is gained during training)."
   ]
  },
  {
   "cell_type": "code",
   "execution_count": 20,
   "metadata": {},
   "outputs": [],
   "source": [
    "def generate(model, vocab, nwords=100, temp=1.0):\n",
    "    model.eval()\n",
    "    ntokens = len(vocab)\n",
    "    itos = vocab.vocab.get_itos()\n",
    "    model_input = torch.randint(ntokens, (1, 1), dtype=torch.long).to(device)\n",
    "    words = []\n",
    "    with torch.no_grad():\n",
    "        for i in range(nwords):\n",
    "            output = model(model_input, None)\n",
    "            word_weights = output[-1].squeeze().div(temp).exp().cpu()\n",
    "            word_idx = torch.multinomial(word_weights, 1)[0]\n",
    "            word_tensor = torch.Tensor([[word_idx]]).long().to(device)\n",
    "            model_input = torch.cat([model_input, word_tensor], 0)\n",
    "            word = itos[word_idx]\n",
    "            words.append(word)\n",
    "    return words"
   ]
  },
  {
   "cell_type": "code",
   "execution_count": 23,
   "metadata": {},
   "outputs": [
    {
     "name": "stdout",
     "output_type": "stream",
     "text": [
      "and brooch . this claim the victim was later used in a large member of the games in a series\n",
      ", <unk> or <unk> or <unk> species are smash to <unk> from <unk> . prohibiting to help to the sun\n",
      "was introduced in may 2006 after taking a tournament or a short of his grupos . = = = reception\n"
     ]
    }
   ],
   "source": [
    "\"\"\"\n",
    "Your code Here\n",
    "\"\"\"\n",
    "for i in range(3):\n",
    "    sentence = generate(model, vocab, nwords=20)\n",
    "    print(' '.join(sentence))"
   ]
  },
  {
   "cell_type": "markdown",
   "metadata": {},
   "source": [
    "## <img src=\"https://img.icons8.com/dusk/64/000000/prize.png\" style=\"height:50px;display:inline\"> Credits\n",
    "---\n",
    "* Icons made by <a href=\"https://www.flaticon.com/authors/becris\" title=\"Becris\">Becris</a> from <a href=\"https://www.flaticon.com/\" title=\"Flaticon\">www.flaticon.com</a>\n",
    "* Icons from <a href=\"https://icons8.com/\">Icons8.com</a> - https://icons8.com\n",
    "* Datasets from <a href=\"https://www.kaggle.com/\">Kaggle</a> - https://www.kaggle.com/"
   ]
  }
 ],
 "metadata": {
  "kernelspec": {
   "display_name": "deep",
   "language": "python",
   "name": "python3"
  },
  "language_info": {
   "codemirror_mode": {
    "name": "ipython",
    "version": 3
   },
   "file_extension": ".py",
   "mimetype": "text/x-python",
   "name": "python",
   "nbconvert_exporter": "python",
   "pygments_lexer": "ipython3",
   "version": "3.9.21"
  }
 },
 "nbformat": 4,
 "nbformat_minor": 4
}
