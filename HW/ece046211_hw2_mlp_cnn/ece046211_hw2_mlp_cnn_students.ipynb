{
  "cells": [
    {
      "cell_type": "markdown",
      "metadata": {
        "id": "dzV9wsJ5pGhf"
      },
      "source": [
        "# <img src=\"https://img.icons8.com/bubbles/50/000000/mind-map.png\" style=\"height:50px;display:inline\"> ECE 046211 - Technion - Deep Learning\n",
        "---\n",
        "\n",
        "## HW2 - Multilayer NNs and Convolutional NNs\n",
        "---"
      ]
    },
    {
      "cell_type": "markdown",
      "metadata": {
        "id": "bq2c8X93pGhh"
      },
      "source": [
        "### <img src=\"https://img.icons8.com/clouds/96/000000/keyboard.png\" style=\"height:50px;display:inline\"> Keyboard Shortcuts\n",
        "---\n",
        "* Run current cell: **Ctrl + Enter**\n",
        "* Run current cell and move to the next: **Shift + Enter**\n",
        "* Show lines in a code cell: **Esc + L**\n",
        "* View function documentation: **Shift + Tab** inside the parenthesis or `help(name_of_module)`\n",
        "* New cell below: **Esc + B**\n",
        "* Delete cell: **Esc + D, D** (two D's)"
      ]
    },
    {
      "cell_type": "markdown",
      "metadata": {
        "id": "vZZybn3NpGhh"
      },
      "source": [
        "### <img src=\"https://img.icons8.com/bubbles/50/000000/information.png\" style=\"height:50px;display:inline\"> Students Information\n",
        "---\n",
        "* Fill in\n",
        "\n",
        "|Name     |Campus Email| ID  |\n",
        "|---------|--------------------------------|----------|\n",
        "|Student 1| student_1@campus.technion.ac.il| 123456789|\n",
        "|Student 2| student_2@campus.technion.ac.il| 987654321|\n"
      ]
    },
    {
      "cell_type": "markdown",
      "metadata": {
        "id": "dDK5zqhdpGhi"
      },
      "source": [
        "### <img src=\"https://img.icons8.com/bubbles/50/000000/upload-to-cloud.png\" style=\"height:50px;display:inline\"> Submission Guidelines\n",
        "---\n",
        "* Maximal garde: 100.\n",
        "* Submission only in **pairs**.\n",
        "    * Please make sure you have registered your group in Moodle (there is a group creation component on the Moodle where you need to create your group and assign members).\n",
        "* **No handwritten submissions.** You can choose whether to answer in a Markdown cell in this notebook or attach a PDF with your answers.\n",
        "* <a style='color:red'> SAVE THE NOTEBOOKS WITH THE OUTPUT, CODE CELLS THAT WERE NOT RUN WILL NOT GET ANY POINTS! </a>\n",
        "* What you have to submit:\n",
        "    * If you have answered the questions in the notebook, you should submit this file only, with the name: `ece046211_hw2_id1_id2.ipynb`.\n",
        "    * If you answered the questions in a different file you should submit a `.zip` file with the name `ece046211_hw2_id1_id2.zip` with content:\n",
        "        * `ece046211_hw2_id1_id2.ipynb` - the code tasks.\n",
        "        * `ece046211_hw2_id1_id2.pdf` - answers to questions.\n",
        "    * No other file-types (`.py`, `.docx`...) will be accepted.\n",
        "* Submission on the course website (Moodle).\n",
        "* **Latex in Colab** - in some cases, Latex equations may no be rendered. To avoid this, make sure to not use *bullets* in your answers (\"* some text here with Latex equations\" -> \"some text here with Latex equations\")."
      ]
    },
    {
      "cell_type": "markdown",
      "metadata": {
        "id": "pmSj_UufpGhi"
      },
      "source": [
        "### <img src=\"https://img.icons8.com/dusk/64/000000/online.png\" style=\"height:50px;display:inline\"> Working Online and Locally\n",
        "---\n",
        "* You can choose your working environment:\n",
        "    1. `Jupyter Notebook`, **locally** with <a href=\"https://www.anaconda.com/distribution/\">Anaconda</a> or **online** on <a href=\"https://colab.research.google.com/\">Google Colab</a>\n",
        "        * Colab also supports running code on GPU, so if you don't have one, Colab is the way to go. To enable GPU on Colab, in the menu: `Runtime`$\\rightarrow$ `Change Runtime Type` $\\rightarrow$`GPU`.\n",
        "    2. Python IDE such as <a href=\"https://www.jetbrains.com/pycharm/\">PyCharm</a> or <a href=\"https://code.visualstudio.com/\">Visual Studio Code</a>.\n",
        "        * Both allow editing and running Jupyter Notebooks.\n",
        "\n",
        "* Please refer to `Setting Up the Working Environment.pdf` on the Moodle or our GitHub (https://github.com/taldatech/ee046211-deep-learning) to help you get everything installed.\n",
        "* If you need any technical assistance, please go to our Piazza forum (`hw2` folder) and describe your problem (preferably with images)."
      ]
    },
    {
      "cell_type": "markdown",
      "metadata": {
        "id": "nlp1Fp4ppGhj"
      },
      "source": [
        "### <img src=\"https://img.icons8.com/bubbles/50/000000/checklist.png\" style=\"height:50px;display:inline\"> Agenda\n",
        "---\n",
        "\n",
        "* [Part 1 - Theory](#-Part-1---Theory)\n",
        "    * [Q1 - Generalization in A Teacher-Student Setup](#-Question-1--Generalization-in-A-Teacher-Student-Setup)\n",
        "    * [Q2 - \"Typical\" Generalization in Multilayer Neural Networks](#-Question-2---\"Typical\"-Generalization-in-Multilayer-Neural-Networks)\n",
        "    * [Q3 - Deep Double Descent](#-Question-3---Deep-Double-Descent)\n",
        "    * [Q4 - Initialization](#-Question-4---Initialization)\n",
        "    * [Q5 - Invariance and Equivariance](#-Question-5---Invariance-and-Equivariance)\n",
        "    * [Q6 - VGG Architecture](#-Question-6--VGG-Architecture)\n",
        "* [Part 2 - Code Assignments](#-Part-2---Code-Assignments)\n",
        "    * [Task 1 - The Importance of Activation and Initialization](#-Task-1---The-Importance-of-Activation-and-Initialization)\n",
        "    * [Task 2 - MLP-based Deep Classifer](#-Task-2---MLP-based-Deep-Classifer)\n",
        "    * [Task 3 - Design a CNN](#-Task-3---Design-a-CNN)\n",
        "* [Credits](#-Credits)"
      ]
    },
    {
      "cell_type": "markdown",
      "metadata": {
        "id": "XKtSiQX_pGhj"
      },
      "source": [
        "### <img src=\"https://img.icons8.com/cute-clipart/64/000000/ball-point-pen.png\" style=\"height:50px;display:inline\"> Part 1 - Theory\n",
        "---\n",
        "* You can choose whether to answser these straight in the notebook (Markdown + Latex) or use another editor (Word, LyX, Latex, Overleaf...) and submit an additional PDF file, **but no handwritten submissions**.\n",
        "* You can attach additional figures (drawings, graphs,...) in a separate PDF file, just make sure to refer to them in your answers.\n",
        "\n",
        "* $\\large\\LaTeX$ <a href=\"https://kapeli.com/cheat_sheets/LaTeX_Math_Symbols.docset/Contents/Resources/Documents/index\">Cheat-Sheet</a> (to write equations)\n",
        "    * <a href=\"http://tug.ctan.org/info/latex-refsheet/LaTeX_RefSheet.pdf\">Another Cheat-Sheet</a>"
      ]
    },
    {
      "cell_type": "markdown",
      "metadata": {
        "id": "RsqSFZG1pGhj"
      },
      "source": [
        "## <img src=\"https://img.icons8.com/clouds/100/000000/question-mark.png\" style=\"height:50px;display:inline\"> Question 1 -Generalization in A Teacher-Student Setup\n",
        "---\n",
        "\n",
        "Recall from lecture 4 the Bayes Risk $\\mathcal{\\overline{R}}(w)$: $$ \\mathcal{\\overline{R}}(w) \\triangleq \\mathbb{E}_{\\epsilon \\sim \\mathcal{N}(0, \\sigma_{\\epsilon}^2I), w_{true} \\sim \\mathcal{N}(0,\\frac{\\sigma_w^2}{d}I) } \\left[\\mathcal{R}\\right], $$ where, $$ \\mathcal{R}(w_{\\mu}) = ||w_{\\mu}-w_{true}||^2 = ||(H_{\\mu}^{-1}H-I)w_{true} + H_{\\mu}^{-1}X^T\\epsilon||^2 $$\n",
        "\n",
        "Prove:\n",
        "\n",
        "$$ \\overline{\\mathcal{R}}(w_{\\mu}) = \\sum_{i=1}^d \\frac{(\\sigma_w^2/d) \\mu^2 + \\sigma_{\\epsilon}^2 \\lambda_i}{(\\lambda_i + \\mu)^2} $$\n",
        "\n",
        "Hints:\n",
        "1. $\\mathbb{E} \\left[\\epsilon^TXH_{\\mu}^{-1}H_{\\mu}^{-1}X^T\\epsilon \\right] = \\sum_{i,j}^N\\mathbb{E}[\\epsilon_i \\epsilon_j] \\left(XH_{\\mu}^{-1} \\right)_i\\left(H_{\\mu}^{-1}X^T \\right)_j$\n",
        "\n",
        "2. $\\mathbb{E}[\\epsilon_i \\epsilon_j] = \\sigma_{\\epsilon}^2 \\delta_{ij}$\n",
        "\n",
        "3. $\\sum_{i=1}^N \\left(XH_{\\mu}^{-1} \\right)_i\\left(H_{\\mu}^{-1}X^T \\right)_i = Tr\\left[XH_{\\mu}^{-2}X^T \\right] $"
      ]
    },
    {
      "cell_type": "markdown",
      "metadata": {},
      "source": [
        "## Answer:\n",
        "\n",
        "$$ \\overline{\\mathcal{R}}(w_{\\mu}) = \\mathbb{E}[||(H_{\\mu}^{-1}H-I)w_{true} + H_{\\mu}^{-1}X^T\\epsilon||^2] = \\mathbb{E}[||(H_{\\mu}^{-1}H-I)w_{true}||^2  + (H_\\mu^{-1}X^T\\epsilon)^T\\cdot ((H_mu^{-1}H-I)w_{true}) + ((H_\\mu^{-1}H-I)w_{true})^T\\cdot (H_\\mu^{-1}X^T\\epsilon) + ||H_\\mu^{-1}X^{T}\\epsilon||^2]$$\n",
        "\n",
        "since $E[w_{true}]=E[\\epsilon]=0$ and $\\epsilon$ and $w_{true}$ are independent \n",
        "$$\\mathbb{E}[(H_\\mu^{-1}X^T\\epsilon)^T\\cdot ((H_mu^{-1}H-I)w_{true}) + ((H_\\mu^{-1}H-I)w_{true})^T\\cdot (H_\\mu^{-1}X^T\\epsilon)] = 0 ⇒$$\n",
        "\n",
        "$$ \\overline{\\mathcal{R}}(w_{\\mu}) =\\mathbb{E}[||(H_{\\mu}^{-1}H-I)w_{true}||^2] + \\mathbb{E}[||H_\\mu^{-1}X^{T}\\epsilon||^2]$$ \n",
        "\n",
        "**$\\mathbb{E}[||(H_{\\mu}^{-1}H-I)w_{true}||^2]$**:\n",
        "\n",
        "note that $H_\\mu^{-1}H-I=H_\\mu^{-1}(H-H_\\mu)=H_\\mu^{-1}(X^TX-X^TX-\\mu I) = -\\mu H_\\mu^{-1}$\n",
        "\n",
        "Therefore,\n",
        "\n",
        "$$\\mathbb{E}[||(H_\\mu^{-1}H-I)w_{true}||^2] = \\mathbb{E}[||-\\mu H_\\mu^{-1}w_{true}||^2]=\\mu^{2} \\mathbb{E}[||H_mu^{-1}w_{true}||^2]$$\n",
        "\n",
        "Since $w_{true} \\sim N(0, \\frac{\\sigma_{w}^{2}I}{d})$ and using trace properties:\n",
        "\n",
        "$$\\mathbb{E}[||H_\\mu^{-1}w_{true}||^2] = \\mathbb{E}[w_{true}^T(H_\\mu^{-1})^TH_\\mu^{-1}w_{true}] = \\frac{\\sigma_{w}^{2}}{d}Tr[H_\\mu^{-2}]$$\n",
        "\n",
        "Therefore,\n",
        "\n",
        "$$\\mathbb{E}[||(H_{\\mu}^{-1}H-I)w_{true}||^2] = \\mu^{2}\\frac{\\sigma_{w}^{2}}{d}Tr[H_\\mu^{-2}]$$\n",
        "\n",
        "\\\n",
        "**$\\mathbb{E}[||H_\\mu^{-1}X^{T}\\epsilon||^2]$**:\n",
        "\n",
        "$$\\mathbb{E}[||H_\\mu^{-1}X^{T}\\epsilon||^2]=\\mathbb{E}[\\epsilon^TX(H_\\mu^{-1})^TH_\\mu^{-1}X^T\\epsilon] \\underset{H_\\mu\\text{ is symmetric}}{=} \\mathbb{E}[\\epsilon^TX(H_\\mu^{-1})H_\\mu^{-1}X^T\\epsilon] \\underset{\\text{hint 1}}{=} \\sum_{i,j}^{N}\\mathbb{E}[\\epsilon_{i}\\epsilon_{j}](XH_\\mu^{-1})_{i}(H_\\mu^{-1}X^T)_{j} \\underset{hint 2}{=} \\sigma_{\\epsilon}^{2} \\sum_{i,j}^{N} \\delta_{ij}(XH_\\mu^{-1})_{i}(H_\\mu^{-1}X^T)_{j} \\underset{\\delta_{ij}=0,∀i\\neq j}{=}$$\n",
        "\n",
        "$$\\sigma_{\\epsilon}^{2} \\sum_{i}^{N} \\delta_{i}(XH_\\mu^{-1})_{i}(H_\\mu^{-1}X^T)_{i} \\underset{\\text{hint 3}}{=} \\sigma_{\\epsilon}^2 \\cdot Tr[XH_\\mu^{-2}X^T]$$\n",
        "\n",
        "We have shown that $\\mathbb{E}[||(H_{\\mu}^{-1}H-I)w_{true}||^2] = \\mu^{2}\\frac{\\sigma_{w}^{2}}{d}Tr[H_\\mu^{-2}]$ and $\\mathbb{E}[||H_\\mu^{-1}X^{T}\\epsilon||^2] = \\sigma_{\\epsilon}^2 \\cdot Tr[XH_\\mu^{-2}X^T]$\n",
        "\n",
        "We will use eigendecomposition of $X^TX$\n",
        "\n",
        "Recall that $X^TX$ is a symmetric matric, then it has an eigendecompostion $X^TX=QΛQ^T$ where $Q$ is an orthogonal matrix whose columns are eigenvectors and $Λ$ is a diagonal matric with eigenvalues $λ_{i}$ on the diagonal.\n",
        "\n",
        "Therefore,\n",
        "\n",
        "$$H_\\mu = X^TX + \\mu I = QΛQ^T + \\mu QQ^T = Q(Λ+\\mu I)Q^T$$\n",
        "\n",
        "This means that:\n",
        "\n",
        "$$H_\\mu^{-1} = Q(\\lambda + \\mu I)^{-1}Q^T$$\n",
        "\n",
        "$$H_\\mu^{-2} = Q(\\lambda + \\mu I)^{-2}Q^T$$\n",
        "\n",
        "Then for $Tr[H_\\mu^{-2}]$:\n",
        "\n",
        "$$Tr[H_\\mu^{-2}] = Tr[Q(\\lambda + \\mu I)^{-2}Q^T] \\underset{\\text{trace cyclic property}}{=} Tr[(\\lambda + \\mu I)^{-2}QQ^T] \\underset{QQ^T=I}{=} Tr[(Λ+\\mu I)^{-2})] = \\sum_{i=1}^{d} \\frac{1}{(λ_{i}+\\mu)^2}$$\n",
        "\n",
        "And for $Tr[XH_{\\mu}^{-2}X^T]$:\n",
        "\n",
        "using SVD decomposition $X = UDV^T$, where $D^TD = Λ$.\n",
        "\n",
        "$$Tr[XH_{\\mu}^{-2}X^T] = Tr[UDV^TQ(\\Lambda +\\mu I)Q^TVD^TU^T)] \\underset{\\text{trace and orthogonal matrices properties}}{=} Tr[D^TD(\\Lambda + \\mu I)^{-2}] = Tr[\\Lambda(\\Lambda + \\mu I)^{-2}] = \\sum_{i=1}^{d} = \\frac{\\lambda_{i}}{(\\lambda_{i}+\\mu )^2}$$\n",
        "\n",
        "Therefore\n",
        "\n",
        "$$\\mu^{2}\\frac{\\sigma_{w}^{2}}{d}\\cdot Tr[H_\\mu^{-2}] = \\mu^{2}\\frac{\\sigma_{w}^{2}}{d}\\sum_{i=1}^d \\frac{1}{(\\lambda_{i} + \\mu)^2}$$\n",
        "\n",
        "$$\\sigma_{\\epsilon}^2 \\cdot Tr[XH_\\mu^{-2}X^T] = \\sigma_{\\epsilon}^2 \\sum_{i=1}^d\\frac{\\lambda_{i}}{(\\lambda_{i}+\\mu)^2}$$\n",
        "\n",
        "\\\n",
        "In Summary,\n",
        "\n",
        "$$ \\overline{\\mathcal{R}}(w_{\\mu}) = \\sum_{i=1}^d \\frac{(\\sigma_w^2/d) \\mu^2 + \\sigma_{\\epsilon}^2 \\lambda_i}{(\\lambda_i + \\mu)^2} $$\n",
        "\n"
      ]
    },
    {
      "cell_type": "markdown",
      "metadata": {
        "id": "AwOVnIr8mnjR"
      },
      "source": [
        "## <img src=\"https://img.icons8.com/clouds/100/000000/question-mark.png\" style=\"height:50px;display:inline\"> Question 2 - \"Typical\" Generalization in Multilayer Neural Networks\n",
        "---\n",
        "\n",
        "\n",
        "We examine a \"student\" neural network  $f_{\\mathbf{w}}\\left(\\mathbf{x}\\right)$ with parameter vector $\\mathbf{w}\\in\\mathbb{R}^{k}$ and input $\\mathbf{x}\\in\\mathbb{R}^{d_{0}}$  used in a binary classification problem where the training set is $\\mathcal{S}=\\left\\{ \\mathbf{x}^{\\left(n\\right)}\\right\\} _{n=1}^{N}$ sampled i.i.d. from $P_{X}$, where the binary $\\left(\\pm1\\right)$ labels are generated by a \"teacher\" neural network $f_{\\mathbf{w}_{\\star}}\\left(\\mathbf{x}\\right)$ with the same architecture. To understand the \"typical\" generalization of the student, we examine the following \"Guess and Check\" algorithm to learn its weights: we randomly sample parameters vectors $\\mathbf{w}_{1},\\mathbf{w}_{2},...$ i.i.d.from $P_{W}$, in which each parameter is sampled independently from a uniform distribution over $Q=\\left\\{ -\\left(q-1\\right)/2,\\dots,-1,0,1,\\dots,\\left(q-1\\right)/2\\right\\} $ quantization levels, where $q=\\left|Q\\right|$ is an odd positive number (assume that teacher weights are also in $Q$). We do this until a stopping time $t$ in which we perfectly fit the dataset: $\\forall n:f_{\\mathbf{w}_{t}}\\left(\\mathbf{x}^{\\left(n\\right)}\\right)=f_{\\mathbf{w}_{\\star}}\\left(\\mathbf{x}^{\\left(n\\right)}\\right)$. We examine a two-layer neural network with $d_{1}$ hidden neurons\n",
        "$$\n",
        "f_{\\mathbf{w}}\\left(\\mathbf{x}\\right)=\\mathrm{sign}\\left(\\mathbf{w}_{2}^{\\top}\\left[\\mathbf{W}_{1}\\mathbf{x}\\right]_{+}\\right)\n",
        "$$\n",
        "where $\\left[\\cdot\\right]_{+}$ is the ReLU activation function, the teacher has at most $d_{1}^{\\star}<d_{1}$ non-zero neurons (i.e., the other $d_{1}-d_{1}^{\\star}$ hidden neurons in the teacher to have all the incoming and outgoing weights equal to zero). Each of the teacher's weights are also in $Q$.\n",
        "\n",
        "1. Calculate the probability $P_{\\mathbf{w}\\sim P_{W}}\\left(\\mathbf{w}=\\mathbf{w}_{\\star}\\right).$\n",
        "2. Prove that\n",
        "\\begin{equation}\n",
        "(1) \\:\\:p_{\\star}\\triangleq P_{\\mathbf{w}\\sim P_{W}}\\left(\\forall\\mathbf{x}:f_{\\mathbf{w}}\\left(\\mathbf{x}\\right)=f_{\\mathbf{w}_{\\star}}\\left(\\mathbf{x}\\right)\\right)\\geq q^{-d_{0}d_{1}^{*}-d_{1}}\\,.\n",
        "\\end{equation}\n",
        "3. Show that for any constant $T>0$, we can bound the probability of stopping time $t>T$ as\n",
        "\\begin{equation} (2) \\:\\:\n",
        "\\left\\lfloor T\\right\\rfloor \\leq\\frac{\\log P\\left(t>T\\right)}{\\log\\left(1-p_{\\star}\\right)}\\,.\n",
        "\\end{equation}\n",
        "4. Prove the generalization bound:\n",
        "   \n",
        "   **Theorem 1** *With probability* $\\left(1-\\eta\\right)\\left(1-\\delta\\right)$,\n",
        "\n",
        "   \\begin{equation}(3) \\:\\:\n",
        "   \\epsilon<\\frac{\\left(d_{0}d_{1}^{\\star}+d_{1}\\right)\\log q+\\log\\frac{1}{\\delta}+\\log\\log\\frac{1}{\\eta}}{N}\n",
        "   \\end{equation}\n",
        "\n",
        "   **Hint**: Combine the results from previous sections, using the approximations $\\left\\lfloor T\\right\\rfloor \\approx T$ and $\\log\\left(1-p_{\\star}\\right)\\approx-p_{\\star}$ (treat these approximations as exact), and the following basic generalization\n",
        "   \n",
        "   bound (which we learned in class):\n",
        "   **Theorem 2** *For any* $f\\in\\left|\\mathcal{F}\\right|$ $f\\in\\left|\\mathcal{F}\\right|$, *with probability* $1-\\delta $,\n",
        "   \\begin{equation} (4) \\:\\:\n",
        "   \\epsilon\\triangleq\\mathbb{P}_{\\mathbf{x}}\\left(f_{\\mathbf{w}}\\left(\\mathbf{x}\\right)\\neq f_{\\mathbf{w}_{\\star}}\\left(\\mathbf{x}\\right)\\right)<\\frac{\\log\\left|\\mathcal{F}\\right|+\\log\\frac{1}{\\delta}}{N}\\,.\n",
        "   \\end{equation}\n",
        "\n",
        "5. Is the bound in eq. $(3)$ better than the bound in eq. $(4)$ in which $\\mathcal{F}=\\left\\{ f_{\\mathbf{w}}:\\mathbf{w}\\in Q^{k}\\right\\} $  is the student hypothesis class (in which each parameter can have one of $q$ values)? Explain and ignore the (negligble) $\\log\\log\\frac{1}{\\eta}$ term."
      ]
    },
    {
      "cell_type": "markdown",
      "metadata": {
        "id": "ZraJXQKCnEhB"
      },
      "source": [
        "## Answers\n",
        "\n",
        "1. \\\n",
        "For each weight to match exactly, we need to randomly sample the exact same value from $q$ possible values. \\\n",
        "The first layer has $d_0d_1$ weights ($d_0$ inputs × $d_1$ hidden neurons). \\\n",
        "The second layer is $d_1$ weights. \\\n",
        "So the total number of weights is $k = d_0d_1+d_1$.\\\n",
        "Since the weights are sampled independently and uniformly from $q$ values then:\n",
        "$$P(w=w_\\star)=(\\frac{1}{q})^k$$\n",
        "\n",
        "2. \\\n",
        "we need to prove that:\n",
        "\\begin{equation}\n",
        "\\:\\:p_{\\star}\\triangleq P_{\\mathbf{w}\\sim P_{W}}\\left(\\forall\\mathbf{x}:f_{\\mathbf{w}}\\left(\\mathbf{x}\\right)=f_{\\mathbf{w}_{\\star}}\\left(\\mathbf{x}\\right)\\right)\\geq q^{-d_{0}d_{1}^{*}-d_{1}}\\,.\n",
        "\\end{equation}\n",
        "\n",
        "   $P_{w\\sim P_w}(∀x: f_w(x)=f_{w_\\star}(x))$ is the probability that we randomly sample weights $w$, the resulting network $f_w$ produces identical outputs to the teacher network $f_\\star$ for all possible inputs $x$.\n",
        "\n",
        "   Only $d_1^*$ neurons are active (non-zero), the remaining ($d_1-d_1^*$) neurons have all zero weights, so they never contribute to the output. Due to ReLU activation function, these inactive neurons always output zero.\n",
        "\n",
        "   Total matches needed: $d_0d_1^* + d_1$\n",
        "      * First layer: $d_0d_1^*$ weights (for active neurons).\n",
        "      * Second layer: $d_1$ weights (need to match all neurons to ensure same sign).\n",
        "\n",
        "  If we match all these weights then the active neurons will produce identical outputs, the inactive neurons will still output zero (due to ReLU). so the entire network will produce identical outputs for all inputs.\n",
        "\n",
        "  since the weights are sampled independently and uniformly from $q$ values then the probability is:\n",
        "  $$(1/q)^{d_0d_{1}^{*} + d_{1}}$$\n",
        "\n",
        "  there might be other weights configurations that produce the same function but this specific case of matching the necessary weights is sufficient to guarantee identical functions.\n",
        "\n",
        "  Therefore,\n",
        "  $$P_{w\\sim P_w}(∀x: f_w(x)=f_{w_\\star}(x)) ≥ (q)^{-{d_0d_{1}^{*} - d_{1}}}$$\n",
        "\n",
        "3. \\\n",
        "   The probability of not stopping by time $T$ means we failed to find a matching network $\\sim T$ times in independent trials. Each trial has a probability of $p_*$ to succeed.\n",
        "\n",
        "   $$p(t>T) \\ge (1-p_*)^{\\lfloor T \\rfloor}$$\n",
        "\n",
        "   Taking log of both sides:\n",
        "\n",
        "   $$log({P(t>T)}) \\ge \\lfloor T \\rfloor log{(1-p_\\star)}$$\n",
        "\n",
        "   since $log(1-p_\\star)$ is negative (as 0<p_\\star<1), when dividing both sides by $log(1-p_\\star)$ the inequality flips.\n",
        "\n",
        "   $$⌊T⌋ \\le \\frac{log(P(t>T))}{log(1-p_\\star)}$$\n",
        "\n",
        "4. \\\n",
        "   using the given approximations: $⌊T⌋\\approx T$ and $log(1-p_\\star)\\approx -p_\\star$\n",
        "\n",
        "   from (2):\n",
        "   $$T \\approx \\frac{log(P(t>T))}{-p_\\star}$$\n",
        "    \n",
        "   The algorithm succeeds with probability $1-\\eta$ when:\n",
        "\n",
        "   $$T<\\frac{-log(\\eta)}{p_\\star}$$\n",
        "\n",
        "   substituting $p_\\star$ from (1):\n",
        "   $$T < -log(\\eta)\\times q^{d_0d_1^{\\star} + d_1}$$\n",
        "\n",
        "   Then when using Theorem 2 with $|F|=q^T$ (since we try $T$ different networks):\n",
        "\n",
        "   $$\\epsilon < \\frac{log(q^T) + log(\\frac{1}{\\delta})}{N} = \\frac{Tlog(q) + log(\\frac{1}{\\delta})}{N}$$\n",
        "\n",
        "   Substituting the bound on T:\n",
        "\n",
        "   $$\\epsilon < \\frac{-log(\\eta)\\times q^{d_0d_1^\\star + d_1}\\times log(q) + log(\\frac{1}{\\delta})}{N}$$\n",
        "\n",
        "\n",
        "5. \\\n",
        "   For the bound in (4), $|F| = q^{k}$ where $k=d_0d_1 +d_1$ (total parameters).\n",
        "   So that bound would be:\n",
        "   $$\\epsilon < \\frac{k\\cdot log(q)+log(\\frac{1}{\\delta})}{N} = \\frac{(d_0d_1 +d_1)\\cdot log(q)+log(\\frac{1}{\\delta})}{N}$$\n",
        "\n",
        "   The bound in (3) is better because $d_1^{\\star} < d_1$, making the coefficient of $log(q)$ smaller. This makes intuitive sense because the algorithm effectively refuces the hypothesis space by only needing to match the active neurons."
      ]
    },
    {
      "cell_type": "markdown",
      "metadata": {
        "id": "ZgCLWD4Ko3VI"
      },
      "source": [
        "## <img src=\"https://img.icons8.com/clouds/100/000000/question-mark.png\" style=\"height:50px;display:inline\"> Question 3 - Deep Double Descent\n",
        "---\n",
        "\n",
        "For the following plots:\n",
        "1. Where is the critical point (the point of transition between the \"Classical Regime\" and \"Modern Regime\") of the deep double descent?\n",
        "2. What type of double descent is shown (**look closely at the graph**)? Explain. There can be more than one correct answer.\n",
        "    \n",
        "\n",
        "a. \\\n",
        "<img src='https://raw.githubusercontent.com/taldatech/ee046211-deep-learning/main/assets/double_descent_transformer.PNG' style=\"height:300px\">\n",
        "\n",
        "There is a comparison between two Transformer Models, De-En (blue) and En-Fr (green).\n",
        "\n",
        "1. The critical point of transition between \"Classical Regime\" and \"Modern Regime\" is the point that beyond it the training loss decrese monotonically.\n",
        "    * *De-En* the critical point is around 200 embedding dimensions.\n",
        "    * *En-Fr* the critical point is around 300 embedding dimensions.\n",
        "2. In the following plot, **Model-wise Double Descent** is observed. As the model size increases until the critical point cause worse results.\n",
        "\n",
        "---\n",
        "b. \\\n",
        "<img src='https://raw.githubusercontent.com/taldatech/ee046211-deep-learning/main/assets/double_descent_resnet.PNG' style=\"height:400px\">\n",
        "\n",
        "There is a comparison between three ResNet18 models with different precentage of label noise - 0% (purple), 10% (blue) and 20% (green) label noise.\n",
        "\n",
        "1.  \\\n",
        "    * *0% label noise*: the critical point is around *~9* width parameters.\n",
        "    * *10% label noise*: the critical point is around *~11* width parameters.\n",
        "    * *20% label noise*: the critical point is around *~13* width parameters.\n",
        "\n",
        "2.  In the following plot, **Model-wise Double Descent** is observed. As increasing the width parameters increases the model size.\n",
        "\n",
        "---\n",
        "c. \\\n",
        "<img src='https://raw.githubusercontent.com/taldatech/ee046211-deep-learning/main/assets/double_descent_intermediate.PNG' style=\"height:300px\">\n",
        "\n",
        "There is a comparison between three models - small model (3 width parameters, yellow), Intermediate model (12 width parameters, green) and large model (64 width parameters, purple).\n",
        "\n",
        "1.  \\\n",
        "\n",
        "    * *small model*: there is no critical point.\n",
        "    * *intermediate model*: there is no critical point.\n",
        "    * *large model*: the critical point is obtained after *~60* epochs.\n",
        "2. In the following plot, **Epoch-wise Double Descent** is observed. As training longer with more epochs reserves overfitting and cause worse results until the critical point.\n",
        "\n",
        "---"
      ]
    },
    {
      "cell_type": "markdown",
      "metadata": {
        "id": "e95JJpWdo3VJ"
      },
      "source": [
        "## <img src=\"https://img.icons8.com/clouds/100/000000/question-mark.png\" style=\"height:50px;display:inline\"> Question 4 - Initialization\n",
        "---\n",
        "Recall that in lecture 5 we were discussing how to calculate the initialization variance, and reached the conclusion that $$ \\sigma_l =\\frac{1}{\\sqrt{\\sum_j \\mathbb{E} \\left[\\varphi^2(u_{l-1}[j])\\right]}} $$\n",
        "Show that for ReLU activation ($\\varphi(z) = max(0,z)$), the optimal variance satisfies: $$ \\sigma_l = \\sqrt{\\frac{2}{d_{l-1}}}$$\n",
        "\n",
        "1. Under the assumption that the distribution of $W$ is symmetric ($\\to$ the distribution of $u$ is symmetric).\n",
        "2. Using the central limit theorem for large width.\n",
        "\n",
        "Answer each section **separately** and assume the sections are independent.\n",
        "\n",
        "All the notations are the same as in the lecture slides.\n",
        "\n",
        "## Answer:\n",
        "\n",
        "1. \\\n",
        "   Assume symmetric distribution of $W$, ($\\to$ the distribution of $u$ is symmetric).\n",
        "\n",
        "   $${\\sum_j \\mathbb{E} \\left[\\varphi^2(u_{l-1}[j])\\right]} \\underset{\\text{ReLU Activation}}{=} {\\sum_j \\mathbb{E} \\left[max(0, u_{l-1}[j])^2\\right]} \\underset{\\text{Law of total expectation}}{=}$$\n",
        "   $$\\sum_j \\mathbb{E}[\\mathbb{E}[max(0, u_{l-1}[j])^2] | u_{l-1}[j]] \\underset{(1)}{=} \\sum_j \\int_{-\\infty}^{\\infty} max(0, u)^2 \\cdot p(u) du \\underset{(2)}{=} $$\n",
        "   $$\\sum_j \\int_{0}^{\\infty} u^2 \\cdot p(u) du \\underset{(3)}{=} \\frac{1}{2} \\sum_j \\int_{-\\infty}^{\\infty} u^2 \\cdot p(u) \\underset{(4)}{=} \\frac{1}{2} \\sum_j \\mathbb{E}[u_{l-1}[j]^2] \\underset{(5)}{=}$$\n",
        "   $$ \\frac{1}{2} \\sum_j \\text{Var}(u_{l-1}[j]) \\underset{(6)}{=} \\frac{d_{l-1}}{2} $$\n",
        "\n",
        "   (1) integral repreentation - converts the inner expectation into an integral over the probability density function $p(u)$ of $u_{l-1}[j].$\\\n",
        "   (2) since $max(0, u)$ is $0$ for $u < 0$ and $u$ for $u ≥ 0$, the integral limits change. \\\n",
        "   (3) p(u) is symmetric. \\\n",
        "   (4) from the lecture $\\mathbb{E}(u_{l-1}[j]) = 0$. \\\n",
        "   (5) from the lecture $\\text{Var}(u_{l-1}[j]) = \\mathbb{E}(u_{l-1}[j])^2 = 1$. \\\n",
        "   (6) the variance of each $u_{l-1}[j]$ is 1, and there are $d_{l-1}$ such units.\n",
        "  \n",
        "   Therefore:\n",
        "   $$ \\sigma_l =\\frac{1}{\\sqrt{\\sum_j \\mathbb{E} \\left[\\varphi^2(u_{l-1}[j])\\right]}} = \\sqrt{\\frac{2}{d_{l-1}}} $$\n",
        "\n",
        "2. \\\n",
        "   We begin as before:\n",
        "   $${\\sum_j \\mathbb{E} \\left[\\varphi^2(u_{l-1}[j])\\right]} = \\cdots = \\sum_j \\mathbb{E}[\\mathbb{E}[max(0, u_{l-1}[j])^2] | u_{l-1}[j]] = \\sum_j \\int_{-\\infty}^{\\infty} max(0, u_{l-1}[j])^2 \\cdot p(u_{l-1}[j]) du_{l-1}[j] = \\sum_j \\int_{0}^{\\infty} (u_{l-1}[j])^2 \\cdot p(u_{l-1}[j]) du_{l-1}[j]$$\n",
        "   \n",
        "   Without symmetry, we cannot simplify $\\int_{0}^{\\infty} u^2 p(u) du$ to $\\frac{1}{2}\\int_{-\\infty}^{\\infty} u^2 p(u) du$. We must work with the integral as it is.\n",
        "   \n",
        "   The expected value of $u^2$ when considering only positive values of $u$($\\int_{0}^{\\infty} u^2 p(u) du$) is equal to the conditional expectation of u² given u is positive ($\\mathbb{E}[u^2 | u>0]$) multiplied by the probability that u is positive ($P(u>0)$).\n",
        "\n",
        "   Therefore:\n",
        "\n",
        "   $$\\sum_j \\int_0^{\\infty} (u_{l-1}[j])^2 p(u_{l-1}[j]) du_{l-1}[j] = \\sum_j \\mathbb{E}[(u_{l-1}[j])^2 | u_{l-1}[j]>0] \\cdot P(u_{l-1}[j]>0)$$\n",
        "  \n",
        "   Now, using the central limit theorem for large width, for a large-width neural network with ReLU activation,$u_{l-1}[j] \\sim \\mathbb{N}(0,1)$ (the input $u_{l-1}[j]$ can be approximated as a Gaussian Random Variable).\n",
        "\n",
        "   * $P(u_{l-1}[j]>0) = \\frac{1}{2}, $ since the distribution of $u_{l-1}[j]$ is Gaussian Random Varibale and the mean is 0 then exactly half of the probability mass lies above zero, and half lies below zero.  \n",
        "\n",
        "   * $\\mathbb{E}[(u_{l-1}[j])^2 | u_{l-1}[j]>0]:$ \\\n",
        "     it is given that $\\mathbb{E}[u_{l-1}[j]] = 0$ meaning that $u$ is symmetric distributed around $0$ and $\\mathbb{E}[u^2 | u>0] = \\mathbb{E}[u^2 | u<0]$.\n",
        "     $\\mathbb{E}[u^2] \\underset{\\text{law of total expansion}}{=} P(u>0)\\mathbb{E}[u^2 | u>0] + P(u<0)\\mathbb{E}[u^2 | u<0] = \\frac{1}{2}\\mathbb{E}[u^2 | u>0] + \\frac{1}{2}\\mathbb{E}[u^2 | u>0] = \\mathbb{E}[u^2 | u>0]$\n",
        "\n",
        "   $$\\sum_j \\mathbb{E}[(u_{l-1}[j])^2 | u_{l-1}[j]>0] \\cdot P(u_{l-1}[j]>0) = \\sum_j \\mathbb{E}[u_{l-1}[j]^2] \\cdot P(u_{l-1}[j]>0) = \\sum_j \\frac{1}{2} = \\frac{d_{l-1}}{2} $$\n",
        "\n",
        "   Therefore:\n",
        "   $$\\sigma_l =\\frac{1}{\\sqrt{\\sum_j \\mathbb{E} \\left[\\varphi^2(u_{l-1}[j])\\right]}} = \\sqrt{\\frac{2}{d_{l-1}}}$$\n",
        "\n",
        "\n",
        "\n",
        "---\n",
        "\n"
      ]
    },
    {
      "cell_type": "markdown",
      "metadata": {
        "id": "Keieu4ChmnjU"
      },
      "source": [
        "## <img src=\"https://img.icons8.com/clouds/100/000000/question-mark.png\" style=\"height:50px;display:inline\"> Question 5 - Invariance and Equivariance\n",
        "---\n",
        "Consider a linear regression problem with a neural network of the form $\\hat{y}=x^T w$, where $x,w\\in \\mathbb{R}^d$.\n",
        "Assume the network is trained to minimize\n",
        "$$\\mathcal{L}_0(w)=\\frac{1}{2}\\sum_{n=1}^N \\left (y^{(n)}-w^T x^{(n)}\\right )^2=\\frac{1}{2}||y-Xw||^2,$$\n",
        "where $X=[x^{(1)},\\ldots,x^{(N)}]^T$ is the sample set and $y=[y^{(1)},\\ldots,y^{(N)}]^T$ is the corresponding label vector.\n",
        "\n",
        "We define operator $G$ as some operator on the input $x$, e.g. the input is an image and $G$ spins it clockwise $90^{\\circ}$.\n",
        "$G$ is defined via an *invertible* square matrix of dimension $d$.\n",
        "We define a function $f$ as **invariant** w.r.t. $G$ if $f(Gx)=f(x)$, i.e. applying $G$ does not change the output of $f$.\n",
        "We will mark $\\mathcal{G}$ a set of operators, and consider functions that are invariant w.r.t. all operators in $\\mathcal{G}$. For example, if $\\mathcal{G}$ is a set of clockwise rotation operators, an invariant $f$ might be the sum of all pixel values.\n",
        "\n",
        "The following are a set of properties that apply to rotation matrices (operators):\n",
        "1. If $G\\in \\mathcal{G}$, $G^T\\in \\mathcal{G}$.\n",
        "2. Any $G\\in \\mathcal{G}$ is *orthogonal* ($GG^T=G^TG=I$).\n",
        "3. Applying operator $G\\in \\mathcal{G}$ on all elements of $\\mathcal{G}$ returns $\\mathcal{G}$, meaning $\\bigcup_{G'\\in \\mathcal{G}}GG'=\\mathcal{G}$.\n",
        "\n",
        "We define the following cost function\n",
        "$$\\mathcal{L}_1(w)=\\frac{1}{2}\\sum_{G\\in \\mathcal{G}} \\left ||y-XG^T w\\right ||^2$$\n",
        "\n",
        "a. Explain intuitively why this cost function encourages the predictor $w$ to be invariant.\n",
        "\n",
        "b. Show that $\\mathcal{L}_1(w)$ is invariant to rotation transformations of the form $w\\rightarrow Gw$, for all $G\\in \\mathcal{G}$.\n",
        "\n",
        "c. Prove that the optimal $w^*_1$ that minimizes $\\mathcal{L}_1(w)$ is\n",
        "$$ w^*_1=K^{-1}RX^T Y,$$\n",
        "where $K=\\sum_{G\\in\\mathcal{G}}G^T X^T XG, R=\\sum_{G\\in\\mathcal{G}}G$ and we assume $K$ is invertible.\n",
        "\n",
        "d. Show that $GR=R$ for all $G\\in\\mathcal{G}$.\n",
        "\n",
        "e. Show that $GK^{-1}G^T=K^{-1}$ for all $G\\in\\mathcal{G}$.\n",
        "\n",
        "Hint: for invertible $A,B$, $(AB)^{-1}=B^{-1}A^{-1}$\n",
        "\n",
        "f. Prove that the optimal $w^*_1$ yields a predictor $\\hat{y}(x)=x^T w^*_1$ that is invariant to $x\\rightarrow Gx$ for all $G\\in\\mathcal{G}$.\n",
        "\n",
        "Suppose that the network is now of the form $\\hat{y}=Wx$, where $x\\in \\mathbb{R}^d$, $W\\in \\mathbb{R}^{d\\times d}$, $\\hat{y}\\in \\mathbb{R}^d$.\n",
        "A function $f$ is **equivariant** to operator $G$ if $f(Gx)=G f(x)$, i.e. applying the operator on the input is the same as applying the operator on the output.\n",
        "Let $X=[x^{(1)},\\ldots,x^{(N)}]^T$ be the sample set and $Y=[y^{(1)},\\ldots,y^{(N)}]^T$ is the corresponding label matrix.\n",
        "\n",
        "g. Suggest a cost function $\\mathcal{L}_2(w)$ that encourages the predictor $\\hat{y}=Wx$ is equivariant for all $G\\in\\mathcal{G}$. Provide a short explanation."
      ]
    },
    {
      "cell_type": "markdown",
      "metadata": {
        "id": "dXl2CV-nW9pz"
      },
      "source": [
        "## Answers\n",
        "\n",
        "### a.\n",
        "\n",
        "$\\mathcal{L}_1(w)$ encourages the predictor $w$ to be invariant because it penalizes differences in predictions when the input is transformed by any operator $G$. By summing over all possible transformations $G$ in $\\mathcal{G}$, the cost function ensures that the predictor gives similar outputs regardless of how the input is transformed. If the predictor isn't invariant, it will cause high loss for some transformations, leading to a higher overall cost.\n",
        "\n",
        "### b.\n",
        "\n",
        "We need to show that $\\mathcal{L}_1(Gw) = \\mathcal{L}_1(w)$ for any $G \\in \\mathcal{G}$:\n",
        "\n",
        "$$\\mathcal{L}_1(Gw) = \\frac{1}{2}\\sum_{G'\\in \\mathcal{G}} ||y-X(G')^T Gw||^2$$\n",
        "\n",
        "Using property 3, when we apply $G$ to all elements of $\\mathcal{G}$, we get $\\mathcal{G}$ back. In other words, as $G′$ ranges over $\\mathcal{G}$, $(G′)^TG$ also ranges over all elements of $\\mathcal{G}$.\n",
        "\n",
        "Therefore:\n",
        "$$\\mathcal{L}_1(Gw) = \\frac{1}{2}\\sum_{G'\\in \\mathcal{G}} ||y-X(G')^T Gw||^2 \\underset{\\text {$G′′=(G′)^TG$  is also in $\\mathcal{G}$}}{=}$$\n",
        "$$\\frac{1}{2}\\sum_{G'\\in \\mathcal{G}} ||y-XG''^Tw||^2 \\mathcal{L}_1(w) \\underset{\\text{$G''$ ranges over all $\\mathcal{G}$}}{=} \\frac{1}{2}\\sum_{G''\\in \\mathcal{G}} ||y-XG''^Tw||^2 \\mathcal{L}_1(w) = \\mathcal{L}_1(w)$$\n",
        "\n",
        "This means that if we rotate our weight vector $w$ by any transformation $G$ in our group $\\mathcal{G}$, we get the same loss value. This is consistent with our goal of learning an invariant predictor, as we want the performance of our model to be unchanged when we apply these transformations.\n",
        "\n",
        "### c.\n",
        "\n",
        "In order to fine $w_1^{*}$ let's differentiate $\\mathcal{L}_1(w)$ with respect to $w$ and set it to zero:\n",
        "\n",
        "$$\\nabla_w \\mathcal{L}_1(w) = \\sum_{G \\in \\mathcal{G}} GX^T(XG^Tw-y)=0$$\n",
        "\n",
        "$$\\sum_{G \\in \\mathcal{G}} GX^TXG^Tw = \\sum_{G \\in \\mathcal{G}} GX^Ty$$\n",
        "\n",
        "recall that $K=\\sum_{G\\in\\mathcal{G}}G^T X^T XG, R=\\sum_{G\\in\\mathcal{G}}G$:\n",
        "\n",
        "$$Kw = RX^Ty$$\n",
        "\n",
        "Therefore:\n",
        "\n",
        "$$w_1^* = K^{-1}RX^Ty$$\n",
        "\n",
        "### d.\n",
        "\n",
        "For any $G \\in \\mathcal{G}$, using property 3:\n",
        "\n",
        "$$GR = G\\sum_{G'\\in \\mathcal{G}}G' = \\sum_{G'\\in \\mathcal{G}}GG' \\underset{\\text{property 3}}{=} \\sum_{G'\\in\\mathcal{G}}G' = R$$\n",
        "\n",
        "### e.\n",
        "\n",
        "First, let's show that $GKG^T = K$.\n",
        "$$GKG^T = G(\\sum_{G'\\in\\mathcal{G}}G'^TX^TXG')G^T = \\sum_{G'\\in\\mathcal{G}}GG'^TX^TXG'G^T \\underset{\\text{property 3}}{=} \\sum_{G'G^T\\in\\mathcal{G}}GG'^TX^TXG'G^T = K$$\n",
        "\n",
        "Now using property 2 (every $G \\in \\mathcal{G}$ is orthogonal):\n",
        "$$GK = KG$$\n",
        "\n",
        "By proving that $KG = GK$ it also means that $(KG)^{-1} = (GK)^{-1}$. \\\n",
        "Therefore using the hint:\n",
        "\n",
        "$$G^{-1}K^{-1} = K^{-1}G^{-1}$$\n",
        "\n",
        "$G$ is orthogonal, meaning:\n",
        "\n",
        "$$G^{-1}K^{-1} = K^{-1}G^{T}$$\n",
        "\n",
        "and by multiplying by $G$ from the right:\n",
        "\n",
        "$$GG^{-1}K^{-1} = GK^{-1}G^{T}$$\n",
        "\n",
        "$$K^{-1} = GK^{-1}G^{T}$$\n",
        "\n",
        "\n",
        "### f.\n",
        "\n",
        "We need to show that $\\hat{y}(Gx) = \\hat{y}(x)$ for all $G \\in \\mathcal{G}$:\n",
        "\n",
        "using the results from sections (c) and (d):\n",
        "\n",
        "$$\\hat{y}(Gx) \\underset{\\text{(c)}}{=} x^T K^{-1}GRX^T y \\underset{\\text{(d)}}{=} x^T K^{-1}RX^T y \\underset{\\text{(c)}}{=} \\hat{y}(x)$$\n",
        "\n",
        "### g.\n",
        "For equivariance, we want $W(Gx) = G(Wx)$ for all $G \\in \\mathcal{G}$.\n",
        "A suitable cost function would be:\n",
        "\n",
        "$$\\mathcal{L}_2(W)=\\frac{1}{2}\\sum_{G\\in \\mathcal{G}} ||GWx^{(n)} - WGx^{(n)}||^2$$\n",
        "\n",
        "This penalizes differences between applying $G$ to the output ($GWx$) versus predicting on transformed input ($WGx$). When minimized, it ensures $GWx = WGx$ for all $G \\in \\mathcal{G}$, making the predictor equivariant."
      ]
    },
    {
      "cell_type": "markdown",
      "metadata": {
        "id": "YKTBxbKOo3VK"
      },
      "source": [
        "## <img src=\"https://img.icons8.com/clouds/100/000000/question-mark.png\" style=\"height:50px;display:inline\"> Question 6 - VGG Architecture\n",
        "---\n",
        "\n",
        "1. The VGG-11 CNN architecture consists of 11 convolution (CONV)/fully-connected (FC) layers (every CONV layer has the same padding and stride, every MAXPOOL layer is 2×2 and has padding of 0 and stride 2). Fill in the table. You need to **consider the bias**.\n",
        "\n",
        "\n",
        "* CONV$M$-$N$: a convolutional layer of size $M \\times M \\times N$, where $M$ is the kernel size and $N$ is the number of filters. $stride=1, padding=1$.\n",
        "* POOL2: $2 \\times 2$ Max Pooling with $stride=2$\n",
        "    * In case the input of the layer is odd, you should round down. For example, if the output of the layer should be $3.5 \\times 3.5 \\times 3$, you should round to $3 \\times 3 \\times 3$ (i.e., ignore the last column of the input image when performing MaxPooling).\n",
        "* FC-N: a fully connected layer with $N$ neurons.\n",
        "\n",
        "\n",
        "|   Layer   | Output Dimension  | Number of Parameters (Weights) |\n",
        "|-----------|-------------------|--------------------------------|\n",
        "|   INPUT   |   $$224\\times224\\times3$$    |$$0$$|\n",
        "|  CONV3-64 |   $$224\\times224\\times64$$   |$$(3*3*3*64)+64=1,792$$|\n",
        "|   ReLU    |   $$224\\times224\\times64$$    |$$0$$|\n",
        "|   POOL2   |   $$112\\times112\\times64$$    |$$0$$|\n",
        "| CONV3-128 |   $$112\\times112\\times128$$    |$$(3*3*64*128)+128=73,856$$|\n",
        "|   ReLU    |   $$112\\times112\\times128$$     |$$0$$|\n",
        "|   POOL2   |   $$56\\times56\\times128$$     |$$0$$|\n",
        "| CONV3-256 |   $$56\\times56\\times256$$    |$$(3*3*128*256)+256=294,912$$|\n",
        "|   ReLU    |   $$56\\times56\\times256$$    |$$0$$|\n",
        "| CONV3-256 |   $$56\\times56\\times256$$    |$$(3*3*256*256)+256=589,824$$|\n",
        "|   ReLU    |   $$56\\times56\\times256$$    |$$0$$|\n",
        "|   POOL2   |   $$28\\times28\\times256$$    |$$0$$|\n",
        "| CONV3-512 |   $$28\\times28\\times512$$    |$$(3*3*256*512)+512=1,179,648$$|\n",
        "|   ReLU    |   $$28\\times28\\times512$$    |$$0$$|\n",
        "| CONV3-512 |   $$28\\times28\\times512$$   |$$(3*3*512*512)+512=2,359,296$$|\n",
        "|   ReLU    |   $$28\\times28\\times512$$    |$$0$$|\n",
        "|   POOL2   |   $$14\\times14\\times512$$    |$$0$$|\n",
        "| CONV3-512 |   $$14\\times14\\times512$$    |$$(3*3*512*512)+512=2,359,296$$|\n",
        "|   ReLU    |   $$14\\times14\\times512$$    |$$0$$|\n",
        "| CONV3-512 |   $$14\\times14\\times512$$   |$$(3*3*512*512)+512=2,359,296$$|\n",
        "|   ReLU    |   $$14\\times14\\times512$$    |$$0$$|\n",
        "|   POOL2   |   $$7\\times7\\times512$$    |$$0$$|\n",
        "|  FC-4096  |   $$1\\times4096$$    |$$(7*7*512*4,096)+4096=102,761,728$$|\n",
        "|  FC-4096  |   $$1\\times4096$$    |$$(4,096*4,096)+4096=16,781,312$$|\n",
        "|  FC-1000  |     $$1\\times1000$$      |   $$(4,096*1,000)+1000=4,097,000$$   |\n",
        "|  SOFTMAX  |     $$1\\times1000$$      |              $$0$$             |\n",
        "\n",
        "2. What is the total number of parameters? (use a calculator for this one)\n",
        "\n",
        "summing out the parameters from each layers we calculated in previous section:\n",
        "\n",
        "1,792 + 73,856 + 294,912 + 589,824 + 1,179,648 + 2,359,296 + 2,359,296 + 2,359,296 + 102,761,728 + 16,781,312 + 4,097,000 = 132,856,960 parameters\n",
        "\n",
        "3. What percentage of the weights are found in the fully-connected layers?\n",
        "\n",
        "Total number of weights in the fully-connected layers:\n",
        "\n",
        "* **FC-4096 (first):** $102,761,728$\n",
        "* **FC-4096 (second):** $16,781,312$\n",
        "* **FC-1000 (last):** $4,097,000$\n",
        "\n",
        "Total fully-connected layer parameters: $123,640,040$\n",
        "\n",
        "Percentage of weights in fully-connected layers:\n",
        "(123,640,040 / 132,856,960) * 100 = 93.05%"
      ]
    },
    {
      "cell_type": "markdown",
      "metadata": {
        "id": "7D-14iM7pGhm"
      },
      "source": [
        "### <img src=\"https://img.icons8.com/officel/80/000000/code.png\" style=\"height:50px;display:inline\"> Part 2 - Code Assignments\n",
        "---\n",
        "* You must write your code in this notebook and save it with the output of all of the code cells.\n",
        "* Additional text can be added in Markdown cells.\n",
        "* You can use any other IDE you like (PyCharm, VSCode...) to write/debug your code, but for the submission you must copy it to this notebook, run the code and save the notebook with the output."
      ]
    },
    {
      "cell_type": "markdown",
      "metadata": {
        "id": "ckKtukYDo3VK"
      },
      "source": [
        "#### Tips\n",
        "---\n",
        "1. Uniformly distributed tensors - `torch.Tensor(dim1, dim2, ...,dimN).uniform_(-1, 1)`\n",
        "2. Separation to **validation set** in PyTorch - <a href=\"https://gist.github.com/MattKleinsmith/5226a94bad5dd12ed0b871aed98cb123\">See example here</a>."
      ]
    },
    {
      "cell_type": "code",
      "execution_count": 1,
      "metadata": {
        "colab": {
          "base_uri": "https://localhost:8080/"
        },
        "id": "iruD-of4o3VK",
        "outputId": "5a177bfe-7404-483b-be18-5d40068b46a7",
        "scrolled": true
      },
      "outputs": [
        {
          "data": {
            "text/plain": [
              "<torch._C.Generator at 0x77291bf197b0>"
            ]
          },
          "execution_count": 1,
          "metadata": {},
          "output_type": "execute_result"
        }
      ],
      "source": [
        "# imports for the practice (you can add more if you need)\n",
        "import os\n",
        "import time\n",
        "import copy\n",
        "import random\n",
        "import numpy as np\n",
        "import pandas as pd\n",
        "import torch\n",
        "import torch.nn as nn\n",
        "from torch.utils.data import TensorDataset, DataLoader\n",
        "import torchvision\n",
        "import matplotlib.pyplot as plt\n",
        "from sklearn import preprocessing\n",
        "from sklearn.model_selection import train_test_split\n",
        "from sklearn.linear_model import LogisticRegression\n",
        "from tqdm import tqdm\n",
        "# %matplotlib ipympl\n",
        "%matplotlib inline\n",
        "\n",
        "seed = 211\n",
        "np.random.seed(seed)\n",
        "torch.manual_seed(seed)"
      ]
    },
    {
      "cell_type": "markdown",
      "metadata": {
        "id": "kOBLo2_xo3VL"
      },
      "source": [
        "### <img src=\"https://img.icons8.com/color/48/000000/code.png\" style=\"height:50px;display:inline\"> Task 1 - The Importance of Activation and Initialization\n",
        "---\n",
        "In this task, we are going to use $x \\in \\mathcal{R}^{512}$ and simple neural network that outputs $f(x) \\in \\mathcal{R}^{512}$. The network will have 100 layers with 512 units in each layer.\n",
        "\n",
        "1. We initialize the weights from a unit normal distribution. Run the following code cell and explain what happens. Add a short piece of code that locates when it happens (hint: use `torch.isnan()`). **Print** the layer number.\n"
      ]
    },
    {
      "cell_type": "code",
      "execution_count": null,
      "metadata": {
        "colab": {
          "base_uri": "https://localhost:8080/"
        },
        "id": "nl4FNuJ6o3VL",
        "outputId": "4d122466-efc5-405f-bc8d-2e41b22a5757"
      },
      "outputs": [
        {
          "name": "stdout",
          "output_type": "stream",
          "text": [
            "tensor(nan) tensor(nan)\n"
          ]
        }
      ],
      "source": [
        "x = torch.randn(512)\n",
        "for i in range(100):\n",
        "    a = torch.randn(512, 512)\n",
        "    x = a @ x\n",
        "print(x.mean(), x.std())"
      ]
    },
    {
      "cell_type": "markdown",
      "metadata": {
        "id": "LLpagZ0nuuAN"
      },
      "source": [
        "This is the case of exploding values due to repeated matrix multiplication with random matrices.\n",
        "\n",
        "When multipling by a random matrix, there is an effectively increase in the vector's magnitude (due to the matrix's eigenvalues being larger than 1). After a few iterations, this leads to numbers so large they overflow to NaN.\n"
      ]
    },
    {
      "cell_type": "code",
      "execution_count": null,
      "metadata": {
        "colab": {
          "base_uri": "https://localhost:8080/"
        },
        "id": "m5yatUg1mnje",
        "outputId": "96155e14-1007-48ca-84b0-a0ea539a037b"
      },
      "outputs": [
        {
          "name": "stdout",
          "output_type": "stream",
          "text": [
            "the layer that turned to NaN is layer #28\n"
          ]
        }
      ],
      "source": [
        "## Section 1 - locate the layer which turn to nan\n",
        "x = torch.rand(512)\n",
        "for i in range(100):\n",
        "    a = torch.randn(512, 512)\n",
        "    x = a @ x\n",
        "    if torch.isnan(x).any() and (i != 0):\n",
        "        print(f'the layer that turned to NaN is layer #{i}')\n",
        "        break"
      ]
    },
    {
      "cell_type": "markdown",
      "metadata": {
        "id": "5UMogznKItet"
      },
      "source": [
        "---\n",
        "2. We can demonstrate that at a given layer, the matrix product of inputs $x$ and weight matrix $a$ that is initialized from a standard normal distribution will, on average, have a standard deviation very close to the square root of the number of input connections. For our example, with 512 dimensions, show that for 10,000 multiplications of $a$ and $x$, the empirical standard deviation is similar to the square root of the number of input connections. Use the unbiased version: $$ \\hat{std} = \\sqrt{\\frac{\\sum_{i=1}^{10000}\\frac{1}{N}\\sum_{j=1}^N y^2}{10000}}, $$ where $y=ax$ and $N$ is the number of input connections. **Print** the mean, std and the square root of the number of input connections."
      ]
    },
    {
      "cell_type": "code",
      "execution_count": null,
      "metadata": {
        "colab": {
          "base_uri": "https://localhost:8080/"
        },
        "id": "gIVYOPFuGyxq",
        "outputId": "897caa60-c6e9-4fff-fb60-b2348959772d"
      },
      "outputs": [
        {
          "name": "stdout",
          "output_type": "stream",
          "text": [
            "Empirical Mean: -0.006348\n",
            "Empirical Std Dev: 22.659630\n",
            "Theoretical Std Dev (sqrt(n)): 22.627417\n",
            "Std Difference: 0.032213\n"
          ]
        }
      ],
      "source": [
        "## Section 2\n",
        "\n",
        "dim = 512\n",
        "num_trials = 10000\n",
        "\n",
        "x = torch.randn(num_trials, dim)  # Input vectors\n",
        "a = torch.randn(dim, dim)  # Weight matrix\n",
        "\n",
        "y = torch.mm(x, a)  # Shape will be (num_trials, dim)\n",
        "\n",
        "mean_y = torch.mean(y)\n",
        "std_y = torch.sqrt(torch.pow(y.norm(), 2) / (num_trials * dim - 1))\n",
        "theoretical_std = torch.sqrt(torch.tensor(dim).float())\n",
        "\n",
        "print(f\"Empirical Mean: {mean_y:.6f}\")\n",
        "print(f\"Empirical Std Dev: {std_y:.6f}\")\n",
        "print(f\"Theoretical Std Dev (sqrt(n)): {theoretical_std:.6f}\")\n",
        "print(f\"Std Difference: {abs(std_y - theoretical_std):.6f}\")"
      ]
    },
    {
      "cell_type": "markdown",
      "metadata": {
        "id": "U9SsHQzzI-Zv"
      },
      "source": [
        "---\n",
        "3. For the code from 1, normalize the weight initialization by the square root of the input connections. How does that change the outcome? **Print** the mean and std after the modification."
      ]
    },
    {
      "cell_type": "code",
      "execution_count": null,
      "metadata": {
        "colab": {
          "base_uri": "https://localhost:8080/"
        },
        "id": "DUVizHgxG07Q",
        "outputId": "b6a20f4c-b18f-4818-a1c9-80136d56e2e6"
      },
      "outputs": [
        {
          "name": "stdout",
          "output_type": "stream",
          "text": [
            "using random init and normalization : mean=-0.0494, std=0.8978\n"
          ]
        }
      ],
      "source": [
        "## Section 3\n",
        "x = torch.randn(512)\n",
        "for i in range(100):\n",
        "    a = torch.randn(512, 512) / theoretical_std\n",
        "    x = a @ x\n",
        "print(f'using random init and normalization : mean={x.mean():.4f}, std={x.std():.4f}')"
      ]
    },
    {
      "cell_type": "markdown",
      "metadata": {
        "id": "tCC2VHXC0NzB"
      },
      "source": [
        "After the normalization by the theoretical std the matrix values did not explode. The normalization keep the magnitude of the matrix multiplications in check, it make the variance of each output element close to the variance of each input element, maintaining a stable distribution through the multuplications."
      ]
    },
    {
      "cell_type": "markdown",
      "metadata": {
        "id": "tNMjv1efJXZ7"
      },
      "source": [
        "---\n",
        "4. Add a `tanh()` activation after each layer for the code from 1. **Print** the mean and std after the modification. Explain the result."
      ]
    },
    {
      "cell_type": "code",
      "execution_count": null,
      "metadata": {
        "colab": {
          "base_uri": "https://localhost:8080/"
        },
        "id": "QkWtcvjJG76X",
        "outputId": "354ba47d-b5b6-4062-ed66-a624bd171434"
      },
      "outputs": [
        {
          "name": "stdout",
          "output_type": "stream",
          "text": [
            "using random init and tanh : mean=-0.0300, std=0.9800\n"
          ]
        }
      ],
      "source": [
        "## Section 4\n",
        "x = torch.randn(512)\n",
        "for i in range(100):\n",
        "    a = torch.randn(512, 512)\n",
        "    x = a @ x\n",
        "    x = torch.tanh(x)\n",
        "print(f'using random init and tanh : mean={x.mean():.4f}, std={x.std():.4f}')"
      ]
    },
    {
      "cell_type": "markdown",
      "metadata": {
        "id": "4RLDuWan09Yk"
      },
      "source": [
        "Here after adding $tanh()$ activation after each layer also caused the values to not explode.\n",
        "Since $-1 < tanh(x) < 1$, it always maps the values to the range $[-1,1]$, so no mater how large the values get after the matrix multiplication, $tanh$ clips them to a fixed range, preventing them to explode."
      ]
    },
    {
      "cell_type": "markdown",
      "metadata": {
        "id": "c0v3r1uFJfoJ"
      },
      "source": [
        "---\n",
        "5. Xavier initialization sets a layer’s weights to values chosen from a random uniform distribution that’s bounded between $$\\pm \\sqrt{\\frac{6}{n_i + n_{i+1}}}$$ where $n_i$ is the number of incoming network connections, or “fan-in,” to the layer, and $ n_{i+1}$ is the number of outgoing network connections from that layer, also known as the “fan-out”. Glorot and Bengio believed that Xavier weight initialization would maintain the variance of activations and back-propagated gradients all the way up or down the layers of a network and demonstrated that networks initialized with Xavier achieved substantially quicker convergence and higher accuracy. Implement **Xavier Uniform** as `xavier_init(fan_in, fan_out)`, a function that returns a tensor initialized according to **Xavier Uniform**. Use it on the simple network from 1 with `tanh` activation. **Print** the mean and std after the modification."
      ]
    },
    {
      "cell_type": "code",
      "execution_count": null,
      "metadata": {
        "colab": {
          "base_uri": "https://localhost:8080/"
        },
        "id": "jyDcdKTMG9ha",
        "outputId": "313c0ae1-8944-457b-a13d-f439b581e54b"
      },
      "outputs": [
        {
          "name": "stdout",
          "output_type": "stream",
          "text": [
            "using xavier init and tanh : mean=0.0031, std=0.0883\n"
          ]
        }
      ],
      "source": [
        "## Section 5\n",
        "\n",
        "def xavier_init(fan_in, fan_out):\n",
        "    bound = torch.sqrt(torch.tensor(6.0) / (fan_in + fan_out))  # Ensure Tensor input\n",
        "    return torch.empty(fan_in, fan_out).uniform_(-bound, bound)\n",
        "\n",
        "x = torch.randn(512)\n",
        "for i in range(100):\n",
        "    a = xavier_init(512, 512)\n",
        "    x = a @ x\n",
        "    x = torch.tanh(x)\n",
        "print(f'using xavier init and tanh : mean={x.mean():.4f}, std={x.std():.4f}')"
      ]
    },
    {
      "cell_type": "markdown",
      "metadata": {
        "id": "VQc3soxRJqgY"
      },
      "source": [
        "---\n",
        "6. If you try to replace the `tanh` activation with `relu` activation in section 5, you will see very different results. Xavier strives to acheive activation outputs of each layer to have a mean of 0 and a standard deviation around 1, on average. When using a ReLU activation, a single layer will, on average have standard deviation that’s very close to the square root of the number of input connections, **divided by the square root of two** ($\\sqrt{\\frac{512}{2}}$ in our example). **Kaiming He et. al.** proposed an initialization scheme that’s tailored for deep neural nets that use these kinds of asymmetric, non-linear activations. Implement **Kaiming Normal** as `kaiming_init(fan_in, fan_out)`, a function that returns a tensor initialized according to **Kaiming Normal** (use `fan_in` mode). Use it on the simple network from 1 with `relu` activation. **Print** the mean and std after the modification. What happens when you use Xavier with RelU activation?"
      ]
    },
    {
      "cell_type": "code",
      "execution_count": null,
      "metadata": {
        "colab": {
          "base_uri": "https://localhost:8080/"
        },
        "id": "YKvhVc0YG_CR",
        "outputId": "6c2e6f6f-2536-4987-f26a-667c5280ea42"
      },
      "outputs": [
        {
          "name": "stdout",
          "output_type": "stream",
          "text": [
            "using xavier init and ReLU : mean=6.764714813194182e-16, std=1.072490459682056e-15\n",
            "using kaiming init and ReLU : mean=0.6240, std=0.9511\n"
          ]
        }
      ],
      "source": [
        "## Section 6\n",
        "\n",
        "x = torch.randn(512)\n",
        "for i in range(100):\n",
        "    a = xavier_init(512, 512)\n",
        "    x = a @ x\n",
        "    x = torch.relu(x)\n",
        "print(f'using xavier init and ReLU : mean={x.mean()}, std={x.std()}')\n",
        "\n",
        "def kaiming_init(fan_in, fan_out):\n",
        "    return torch.randn(fan_in, fan_out) / torch.sqrt(torch.tensor(fan_in / 2))\n",
        "\n",
        "x = torch.randn(512)\n",
        "for i in range(100):\n",
        "    a = kaiming_init(512, 512)\n",
        "    x = a @ x\n",
        "    x = torch.relu(x)\n",
        "print(f'using kaiming init and ReLU : mean={x.mean():.4f}, std={x.std():.4f}')"
      ]
    },
    {
      "cell_type": "markdown",
      "metadata": {
        "id": "YPjLws4g7gJq"
      },
      "source": [
        "When using xavier initialization and ReLU activation, the values seem to vanish.\n",
        "Xaviar initialization does not take into account the non-linearity of ReLU as it assumes that the values have a symmetric distribution around 0, however when activating ReLU after xaviar initialization - negative values are zeroed while the positive values remain untouched. Meaning that about half of the neurons aren't activating and with each layer, the values become progressively smaller.\n",
        "\n",
        "The solution is to use kaiming initialization which takes into account the ReLU properties. As we can see in the code above."
      ]
    },
    {
      "cell_type": "markdown",
      "metadata": {
        "id": "9hG6WCcJo3VR"
      },
      "source": [
        "### <img src=\"https://img.icons8.com/color/48/000000/code.png\" style=\"height:50px;display:inline\"> Task 2 - MLP-based Deep Classifer\n",
        "---\n",
        "In this task you are going to design and train your first neural network for classification.\n",
        "\n",
        "For this task, we will use the \"<a href=\"https://archive.ics.uci.edu/ml/datasets/MAGIC+Gamma+Telescope\">MAGIC Gamma Telescope Data Set\"</a>. Cherenkov gamma telescope observes high energy gamma rays, taking advantage of the radiation emitted by charged particles produced inside the electromagnetic showers initiated by the gammas, and developing in the atmosphere. This Cherenkov radiation (of visible to UV wavelengths) leaks through the atmosphere and gets recorded in the detector, allowing reconstruction of the shower parameters. The available information consists of pulses left by the incoming Cherenkov photons on the photomultiplier tubes, arranged in a plane, the camera.\n",
        "\n",
        "Depending on the energy of the primary gamma, a total of few hundreds to some 10000 Cherenkov photons get collected, in patterns (called the shower image), allowing to discriminate statistically those caused by primary gammas (**signal**) from the images of hadronic showers initiated by cosmic rays in the upper atmosphere (**background**).\n",
        "\n",
        "Our data has 10 features and 2 classes (signal and background).\n",
        "\n",
        "1. Load the MAGIC dataset sored in `magic04.data` and display the first 5 features (just run the cell).\n",
        "2. Separate the data to train, validation and test, reserve 10% of the data for validation and 20% for test.\n",
        "3. Perform pre-processing steps of your choice and convert the class label from `str` to `int` (for example, `y_train = np.array([0 if y_train[i] == 'g' else 1 for i in range(len(y_train))]).astype(np.int)`).\n",
        "4. Train a Logistic Regression model from `sklearn` as a baseline for our neural network (only for this section use both the train and validation sets for training the classifier). **Print the test accuracy**.\n",
        "5. Convert the `numpy` arrays to `torch` tensors with `TensorDataset` as done in the tutorial.\n",
        "6. Design a **MLP** to classify the data. Optimize the hyper-parameters of your model using the accuracy on the validation set, and when you are satisfied with the model train it on both the train and validation sets and evaluate it on the test set. **You need to reach at least 85% accuracy on the test set, and 87% for a full grade**.\n",
        "    * You have a free choice of architecture, optimizer, learning scheduler, initialization, regularization and activations.\n",
        "    * The loss criterion is binary cross entropy: `nn.BCEWithLogitsLoss()` (performs `sigmoid` for you) or `nn.BCELoss` (you need to apply `sigmoid` on the network output yourself).\n",
        "    * In a Markdown block, write down the chosen architectures and all the hyper-parameters.\n",
        "        * Make sure to describe any design choice that you used to improve the performance (e.g. if you used a certain regularization or layer, mention it and describe why you think it helped).\n",
        "    * **Plot** the loss curves (and any oter statistic you want) as a function of epochs/iterations. **Print** the final performance.\n",
        "    * **Print** the test accuracy.\n",
        "7. Pick **2** initializations of your choosing and change the initialization of the linear layers and re-train the model (with the same optimal hyper-parameters you found). You can pick an initialization of your choosing from : https://pytorch.org/docs/stable/nn.init.html . See example below how to use. **Print** the change in accuracy for both changes (you should end up with 3 results - original, `init 1` and `init 2`)."
      ]
    },
    {
      "cell_type": "code",
      "execution_count": null,
      "metadata": {
        "colab": {
          "base_uri": "https://localhost:8080/",
          "height": 224
        },
        "id": "HiCMCoc7o3VU",
        "outputId": "830b443d-d8b1-4ea7-82fc-9c91054851c6"
      },
      "outputs": [
        {
          "name": "stdout",
          "output_type": "stream",
          "text": [
            "Drive already mounted at /content/drive; to attempt to forcibly remount, call drive.mount(\"/content/drive\", force_remount=True).\n"
          ]
        },
        {
          "data": {
            "application/vnd.google.colaboratory.intrinsic+json": {
              "summary": "{\n  \"name\": \"data\",\n  \"rows\": 19020,\n  \"fields\": [\n    {\n      \"column\": \"fLength\",\n      \"properties\": {\n        \"dtype\": \"number\",\n        \"std\": 42.364854942802815,\n        \"min\": 4.2835,\n        \"max\": 334.177,\n        \"num_unique_values\": 18643,\n        \"samples\": [\n          29.3302,\n          61.2341,\n          40.7017\n        ],\n        \"semantic_type\": \"\",\n        \"description\": \"\"\n      }\n    },\n    {\n      \"column\": \"fWidth\",\n      \"properties\": {\n        \"dtype\": \"number\",\n        \"std\": 18.346056295681635,\n        \"min\": 0.0,\n        \"max\": 256.382,\n        \"num_unique_values\": 18200,\n        \"samples\": [\n          10.5168,\n          22.4704,\n          18.0348\n        ],\n        \"semantic_type\": \"\",\n        \"description\": \"\"\n      }\n    },\n    {\n      \"column\": \"fSize\",\n      \"properties\": {\n        \"dtype\": \"number\",\n        \"std\": 0.4725986486893089,\n        \"min\": 1.9413,\n        \"max\": 5.3233,\n        \"num_unique_values\": 7228,\n        \"samples\": [\n          2.8136,\n          2.5121,\n          3.3903\n        ],\n        \"semantic_type\": \"\",\n        \"description\": \"\"\n      }\n    },\n    {\n      \"column\": \"fConc\",\n      \"properties\": {\n        \"dtype\": \"number\",\n        \"std\": 0.18281314722123734,\n        \"min\": 0.0131,\n        \"max\": 0.893,\n        \"num_unique_values\": 6410,\n        \"samples\": [\n          0.0997,\n          0.1842,\n          0.131\n        ],\n        \"semantic_type\": \"\",\n        \"description\": \"\"\n      }\n    },\n    {\n      \"column\": \"fConc1\",\n      \"properties\": {\n        \"dtype\": \"number\",\n        \"std\": 0.11051079890195728,\n        \"min\": 0.0003,\n        \"max\": 0.6752,\n        \"num_unique_values\": 4421,\n        \"samples\": [\n          0.4651,\n          0.0325,\n          0.1752\n        ],\n        \"semantic_type\": \"\",\n        \"description\": \"\"\n      }\n    },\n    {\n      \"column\": \"fAsym\",\n      \"properties\": {\n        \"dtype\": \"number\",\n        \"std\": 59.20606198471514,\n        \"min\": -457.9161,\n        \"max\": 575.2407,\n        \"num_unique_values\": 18704,\n        \"samples\": [\n          -59.0369,\n          31.8588,\n          32.1961\n        ],\n        \"semantic_type\": \"\",\n        \"description\": \"\"\n      }\n    },\n    {\n      \"column\": \"fM3Long\",\n      \"properties\": {\n        \"dtype\": \"number\",\n        \"std\": 51.00011801388597,\n        \"min\": -331.78,\n        \"max\": 238.321,\n        \"num_unique_values\": 18693,\n        \"samples\": [\n          -12.7648,\n          18.1689,\n          18.9666\n        ],\n        \"semantic_type\": \"\",\n        \"description\": \"\"\n      }\n    },\n    {\n      \"column\": \"fM3Trans\",\n      \"properties\": {\n        \"dtype\": \"number\",\n        \"std\": 20.827438947228195,\n        \"min\": -205.8947,\n        \"max\": 179.851,\n        \"num_unique_values\": 18390,\n        \"samples\": [\n          -39.2878,\n          -9.7515,\n          -17.2016\n        ],\n        \"semantic_type\": \"\",\n        \"description\": \"\"\n      }\n    },\n    {\n      \"column\": \"fAlpha\",\n      \"properties\": {\n        \"dtype\": \"number\",\n        \"std\": 26.103620510358212,\n        \"min\": 0.0,\n        \"max\": 90.0,\n        \"num_unique_values\": 17981,\n        \"samples\": [\n          8.3289,\n          5.86,\n          1.2801\n        ],\n        \"semantic_type\": \"\",\n        \"description\": \"\"\n      }\n    },\n    {\n      \"column\": \"fDist\",\n      \"properties\": {\n        \"dtype\": \"number\",\n        \"std\": 74.73178696313774,\n        \"min\": 1.2826,\n        \"max\": 495.561,\n        \"num_unique_values\": 18437,\n        \"samples\": [\n          290.884,\n          199.29,\n          171.345\n        ],\n        \"semantic_type\": \"\",\n        \"description\": \"\"\n      }\n    },\n    {\n      \"column\": \"class\",\n      \"properties\": {\n        \"dtype\": \"category\",\n        \"num_unique_values\": 2,\n        \"samples\": [\n          \"h\",\n          \"g\"\n        ],\n        \"semantic_type\": \"\",\n        \"description\": \"\"\n      }\n    }\n  ]\n}",
              "type": "dataframe",
              "variable_name": "data"
            },
            "text/html": [
              "\n",
              "  <div id=\"df-3af1d020-37a4-46fe-9fde-fc4cdeb546f7\" class=\"colab-df-container\">\n",
              "    <div>\n",
              "<style scoped>\n",
              "    .dataframe tbody tr th:only-of-type {\n",
              "        vertical-align: middle;\n",
              "    }\n",
              "\n",
              "    .dataframe tbody tr th {\n",
              "        vertical-align: top;\n",
              "    }\n",
              "\n",
              "    .dataframe thead th {\n",
              "        text-align: right;\n",
              "    }\n",
              "</style>\n",
              "<table border=\"1\" class=\"dataframe\">\n",
              "  <thead>\n",
              "    <tr style=\"text-align: right;\">\n",
              "      <th></th>\n",
              "      <th>fLength</th>\n",
              "      <th>fWidth</th>\n",
              "      <th>fSize</th>\n",
              "      <th>fConc</th>\n",
              "      <th>fConc1</th>\n",
              "      <th>fAsym</th>\n",
              "      <th>fM3Long</th>\n",
              "      <th>fM3Trans</th>\n",
              "      <th>fAlpha</th>\n",
              "      <th>fDist</th>\n",
              "      <th>class</th>\n",
              "    </tr>\n",
              "  </thead>\n",
              "  <tbody>\n",
              "    <tr>\n",
              "      <th>0</th>\n",
              "      <td>28.7967</td>\n",
              "      <td>16.0021</td>\n",
              "      <td>2.6449</td>\n",
              "      <td>0.3918</td>\n",
              "      <td>0.1982</td>\n",
              "      <td>27.7004</td>\n",
              "      <td>22.0110</td>\n",
              "      <td>-8.2027</td>\n",
              "      <td>40.0920</td>\n",
              "      <td>81.8828</td>\n",
              "      <td>g</td>\n",
              "    </tr>\n",
              "    <tr>\n",
              "      <th>1</th>\n",
              "      <td>31.6036</td>\n",
              "      <td>11.7235</td>\n",
              "      <td>2.5185</td>\n",
              "      <td>0.5303</td>\n",
              "      <td>0.3773</td>\n",
              "      <td>26.2722</td>\n",
              "      <td>23.8238</td>\n",
              "      <td>-9.9574</td>\n",
              "      <td>6.3609</td>\n",
              "      <td>205.2610</td>\n",
              "      <td>g</td>\n",
              "    </tr>\n",
              "    <tr>\n",
              "      <th>2</th>\n",
              "      <td>162.0520</td>\n",
              "      <td>136.0310</td>\n",
              "      <td>4.0612</td>\n",
              "      <td>0.0374</td>\n",
              "      <td>0.0187</td>\n",
              "      <td>116.7410</td>\n",
              "      <td>-64.8580</td>\n",
              "      <td>-45.2160</td>\n",
              "      <td>76.9600</td>\n",
              "      <td>256.7880</td>\n",
              "      <td>g</td>\n",
              "    </tr>\n",
              "    <tr>\n",
              "      <th>3</th>\n",
              "      <td>23.8172</td>\n",
              "      <td>9.5728</td>\n",
              "      <td>2.3385</td>\n",
              "      <td>0.6147</td>\n",
              "      <td>0.3922</td>\n",
              "      <td>27.2107</td>\n",
              "      <td>-6.4633</td>\n",
              "      <td>-7.1513</td>\n",
              "      <td>10.4490</td>\n",
              "      <td>116.7370</td>\n",
              "      <td>g</td>\n",
              "    </tr>\n",
              "    <tr>\n",
              "      <th>4</th>\n",
              "      <td>75.1362</td>\n",
              "      <td>30.9205</td>\n",
              "      <td>3.1611</td>\n",
              "      <td>0.3168</td>\n",
              "      <td>0.1832</td>\n",
              "      <td>-5.5277</td>\n",
              "      <td>28.5525</td>\n",
              "      <td>21.8393</td>\n",
              "      <td>4.6480</td>\n",
              "      <td>356.4620</td>\n",
              "      <td>g</td>\n",
              "    </tr>\n",
              "  </tbody>\n",
              "</table>\n",
              "</div>\n",
              "    <div class=\"colab-df-buttons\">\n",
              "\n",
              "  <div class=\"colab-df-container\">\n",
              "    <button class=\"colab-df-convert\" onclick=\"convertToInteractive('df-3af1d020-37a4-46fe-9fde-fc4cdeb546f7')\"\n",
              "            title=\"Convert this dataframe to an interactive table.\"\n",
              "            style=\"display:none;\">\n",
              "\n",
              "  <svg xmlns=\"http://www.w3.org/2000/svg\" height=\"24px\" viewBox=\"0 -960 960 960\">\n",
              "    <path d=\"M120-120v-720h720v720H120Zm60-500h600v-160H180v160Zm220 220h160v-160H400v160Zm0 220h160v-160H400v160ZM180-400h160v-160H180v160Zm440 0h160v-160H620v160ZM180-180h160v-160H180v160Zm440 0h160v-160H620v160Z\"/>\n",
              "  </svg>\n",
              "    </button>\n",
              "\n",
              "  <style>\n",
              "    .colab-df-container {\n",
              "      display:flex;\n",
              "      gap: 12px;\n",
              "    }\n",
              "\n",
              "    .colab-df-convert {\n",
              "      background-color: #E8F0FE;\n",
              "      border: none;\n",
              "      border-radius: 50%;\n",
              "      cursor: pointer;\n",
              "      display: none;\n",
              "      fill: #1967D2;\n",
              "      height: 32px;\n",
              "      padding: 0 0 0 0;\n",
              "      width: 32px;\n",
              "    }\n",
              "\n",
              "    .colab-df-convert:hover {\n",
              "      background-color: #E2EBFA;\n",
              "      box-shadow: 0px 1px 2px rgba(60, 64, 67, 0.3), 0px 1px 3px 1px rgba(60, 64, 67, 0.15);\n",
              "      fill: #174EA6;\n",
              "    }\n",
              "\n",
              "    .colab-df-buttons div {\n",
              "      margin-bottom: 4px;\n",
              "    }\n",
              "\n",
              "    [theme=dark] .colab-df-convert {\n",
              "      background-color: #3B4455;\n",
              "      fill: #D2E3FC;\n",
              "    }\n",
              "\n",
              "    [theme=dark] .colab-df-convert:hover {\n",
              "      background-color: #434B5C;\n",
              "      box-shadow: 0px 1px 3px 1px rgba(0, 0, 0, 0.15);\n",
              "      filter: drop-shadow(0px 1px 2px rgba(0, 0, 0, 0.3));\n",
              "      fill: #FFFFFF;\n",
              "    }\n",
              "  </style>\n",
              "\n",
              "    <script>\n",
              "      const buttonEl =\n",
              "        document.querySelector('#df-3af1d020-37a4-46fe-9fde-fc4cdeb546f7 button.colab-df-convert');\n",
              "      buttonEl.style.display =\n",
              "        google.colab.kernel.accessAllowed ? 'block' : 'none';\n",
              "\n",
              "      async function convertToInteractive(key) {\n",
              "        const element = document.querySelector('#df-3af1d020-37a4-46fe-9fde-fc4cdeb546f7');\n",
              "        const dataTable =\n",
              "          await google.colab.kernel.invokeFunction('convertToInteractive',\n",
              "                                                    [key], {});\n",
              "        if (!dataTable) return;\n",
              "\n",
              "        const docLinkHtml = 'Like what you see? Visit the ' +\n",
              "          '<a target=\"_blank\" href=https://colab.research.google.com/notebooks/data_table.ipynb>data table notebook</a>'\n",
              "          + ' to learn more about interactive tables.';\n",
              "        element.innerHTML = '';\n",
              "        dataTable['output_type'] = 'display_data';\n",
              "        await google.colab.output.renderOutput(dataTable, element);\n",
              "        const docLink = document.createElement('div');\n",
              "        docLink.innerHTML = docLinkHtml;\n",
              "        element.appendChild(docLink);\n",
              "      }\n",
              "    </script>\n",
              "  </div>\n",
              "\n",
              "\n",
              "<div id=\"df-cf29ecab-882c-4750-bb05-1e62a3b57285\">\n",
              "  <button class=\"colab-df-quickchart\" onclick=\"quickchart('df-cf29ecab-882c-4750-bb05-1e62a3b57285')\"\n",
              "            title=\"Suggest charts\"\n",
              "            style=\"display:none;\">\n",
              "\n",
              "<svg xmlns=\"http://www.w3.org/2000/svg\" height=\"24px\"viewBox=\"0 0 24 24\"\n",
              "     width=\"24px\">\n",
              "    <g>\n",
              "        <path d=\"M19 3H5c-1.1 0-2 .9-2 2v14c0 1.1.9 2 2 2h14c1.1 0 2-.9 2-2V5c0-1.1-.9-2-2-2zM9 17H7v-7h2v7zm4 0h-2V7h2v10zm4 0h-2v-4h2v4z\"/>\n",
              "    </g>\n",
              "</svg>\n",
              "  </button>\n",
              "\n",
              "<style>\n",
              "  .colab-df-quickchart {\n",
              "      --bg-color: #E8F0FE;\n",
              "      --fill-color: #1967D2;\n",
              "      --hover-bg-color: #E2EBFA;\n",
              "      --hover-fill-color: #174EA6;\n",
              "      --disabled-fill-color: #AAA;\n",
              "      --disabled-bg-color: #DDD;\n",
              "  }\n",
              "\n",
              "  [theme=dark] .colab-df-quickchart {\n",
              "      --bg-color: #3B4455;\n",
              "      --fill-color: #D2E3FC;\n",
              "      --hover-bg-color: #434B5C;\n",
              "      --hover-fill-color: #FFFFFF;\n",
              "      --disabled-bg-color: #3B4455;\n",
              "      --disabled-fill-color: #666;\n",
              "  }\n",
              "\n",
              "  .colab-df-quickchart {\n",
              "    background-color: var(--bg-color);\n",
              "    border: none;\n",
              "    border-radius: 50%;\n",
              "    cursor: pointer;\n",
              "    display: none;\n",
              "    fill: var(--fill-color);\n",
              "    height: 32px;\n",
              "    padding: 0;\n",
              "    width: 32px;\n",
              "  }\n",
              "\n",
              "  .colab-df-quickchart:hover {\n",
              "    background-color: var(--hover-bg-color);\n",
              "    box-shadow: 0 1px 2px rgba(60, 64, 67, 0.3), 0 1px 3px 1px rgba(60, 64, 67, 0.15);\n",
              "    fill: var(--button-hover-fill-color);\n",
              "  }\n",
              "\n",
              "  .colab-df-quickchart-complete:disabled,\n",
              "  .colab-df-quickchart-complete:disabled:hover {\n",
              "    background-color: var(--disabled-bg-color);\n",
              "    fill: var(--disabled-fill-color);\n",
              "    box-shadow: none;\n",
              "  }\n",
              "\n",
              "  .colab-df-spinner {\n",
              "    border: 2px solid var(--fill-color);\n",
              "    border-color: transparent;\n",
              "    border-bottom-color: var(--fill-color);\n",
              "    animation:\n",
              "      spin 1s steps(1) infinite;\n",
              "  }\n",
              "\n",
              "  @keyframes spin {\n",
              "    0% {\n",
              "      border-color: transparent;\n",
              "      border-bottom-color: var(--fill-color);\n",
              "      border-left-color: var(--fill-color);\n",
              "    }\n",
              "    20% {\n",
              "      border-color: transparent;\n",
              "      border-left-color: var(--fill-color);\n",
              "      border-top-color: var(--fill-color);\n",
              "    }\n",
              "    30% {\n",
              "      border-color: transparent;\n",
              "      border-left-color: var(--fill-color);\n",
              "      border-top-color: var(--fill-color);\n",
              "      border-right-color: var(--fill-color);\n",
              "    }\n",
              "    40% {\n",
              "      border-color: transparent;\n",
              "      border-right-color: var(--fill-color);\n",
              "      border-top-color: var(--fill-color);\n",
              "    }\n",
              "    60% {\n",
              "      border-color: transparent;\n",
              "      border-right-color: var(--fill-color);\n",
              "    }\n",
              "    80% {\n",
              "      border-color: transparent;\n",
              "      border-right-color: var(--fill-color);\n",
              "      border-bottom-color: var(--fill-color);\n",
              "    }\n",
              "    90% {\n",
              "      border-color: transparent;\n",
              "      border-bottom-color: var(--fill-color);\n",
              "    }\n",
              "  }\n",
              "</style>\n",
              "\n",
              "  <script>\n",
              "    async function quickchart(key) {\n",
              "      const quickchartButtonEl =\n",
              "        document.querySelector('#' + key + ' button');\n",
              "      quickchartButtonEl.disabled = true;  // To prevent multiple clicks.\n",
              "      quickchartButtonEl.classList.add('colab-df-spinner');\n",
              "      try {\n",
              "        const charts = await google.colab.kernel.invokeFunction(\n",
              "            'suggestCharts', [key], {});\n",
              "      } catch (error) {\n",
              "        console.error('Error during call to suggestCharts:', error);\n",
              "      }\n",
              "      quickchartButtonEl.classList.remove('colab-df-spinner');\n",
              "      quickchartButtonEl.classList.add('colab-df-quickchart-complete');\n",
              "    }\n",
              "    (() => {\n",
              "      let quickchartButtonEl =\n",
              "        document.querySelector('#df-cf29ecab-882c-4750-bb05-1e62a3b57285 button');\n",
              "      quickchartButtonEl.style.display =\n",
              "        google.colab.kernel.accessAllowed ? 'block' : 'none';\n",
              "    })();\n",
              "  </script>\n",
              "</div>\n",
              "\n",
              "    </div>\n",
              "  </div>\n"
            ],
            "text/plain": [
              "    fLength    fWidth   fSize   fConc  fConc1     fAsym  fM3Long  fM3Trans  \\\n",
              "0   28.7967   16.0021  2.6449  0.3918  0.1982   27.7004  22.0110   -8.2027   \n",
              "1   31.6036   11.7235  2.5185  0.5303  0.3773   26.2722  23.8238   -9.9574   \n",
              "2  162.0520  136.0310  4.0612  0.0374  0.0187  116.7410 -64.8580  -45.2160   \n",
              "3   23.8172    9.5728  2.3385  0.6147  0.3922   27.2107  -6.4633   -7.1513   \n",
              "4   75.1362   30.9205  3.1611  0.3168  0.1832   -5.5277  28.5525   21.8393   \n",
              "\n",
              "    fAlpha     fDist class  \n",
              "0  40.0920   81.8828     g  \n",
              "1   6.3609  205.2610     g  \n",
              "2  76.9600  256.7880     g  \n",
              "3  10.4490  116.7370     g  \n",
              "4   4.6480  356.4620     g  "
            ]
          },
          "execution_count": 3,
          "metadata": {},
          "output_type": "execute_result"
        }
      ],
      "source": [
        "# loading the data\n",
        "from google.colab import drive\n",
        "drive.mount('/content/drive')\n",
        "\n",
        "col_names = ['fLength', 'fWidth', 'fSize', 'fConc', 'fConc1', 'fAsym',  'fM3Long', 'fM3Trans', 'fAlpha', 'fDist', 'class']\n",
        "feature_names = ['fLength', 'fWidth', 'fSize', 'fConc', 'fConc1', 'fAsym',  'fM3Long', 'fM3Trans', 'fAlpha', 'fDist']\n",
        "data = pd.read_csv(\"/content/drive/MyDrive/Colab Notebooks/ece046211_hw2_mlp_cnn/magic04.data\", names=col_names)\n",
        "X = data[feature_names]\n",
        "Y = data['class']\n",
        "Y = np.array([0 if Y[i] == 'g' else 1 for i in range(len(Y))]).astype(int)\n",
        "data.head()"
      ]
    },
    {
      "cell_type": "code",
      "execution_count": null,
      "metadata": {
        "colab": {
          "base_uri": "https://localhost:8080/"
        },
        "id": "M-AsQcEKo3VV",
        "outputId": "d785b323-ba11-4713-ef74-cc6c94e40a2c"
      },
      "outputs": [
        {
          "name": "stdout",
          "output_type": "stream",
          "text": [
            "train_size = 70.00% of the data\n",
            "test_size = 20.00% of the data\n",
            "val_size = 10.00% of the data\n"
          ]
        }
      ],
      "source": [
        "# separate to train, test\n",
        "\"\"\"\n",
        "Your Code Here\n",
        "\"\"\"\n",
        "X_train, X_val, y_train, y_val = train_test_split(X, Y, test_size=0.3)\n",
        "X_val, X_test, y_val, y_test = train_test_split(X_val, y_val, test_size=2/3)\n",
        "\n",
        "print(f'train_size = {(len(X_train)/len(X)*100):.2f}% of the data')\n",
        "print(f'test_size = {(len(X_test)/len(X)*100):.2f}% of the data')\n",
        "print(f'val_size = {(len(X_val)/len(X)*100):.2f}% of the data')"
      ]
    },
    {
      "cell_type": "code",
      "execution_count": null,
      "metadata": {
        "id": "Dp9UpChto3VV"
      },
      "outputs": [],
      "source": [
        "# pre-processing and converting labels to integers\n",
        "\"\"\"\n",
        "Your Code Here\n",
        "\"\"\"\n",
        "X_scaler = preprocessing.StandardScaler().fit(X_train)\n",
        "X_train_scaled = X_scaler.transform(X_train)\n",
        "X_val_scaled = X_scaler.transform(X_val)\n",
        "X_test_scaled = X_scaler.transform(X_test)"
      ]
    },
    {
      "cell_type": "code",
      "execution_count": null,
      "metadata": {
        "colab": {
          "base_uri": "https://localhost:8080/"
        },
        "id": "sjIOurEro3VW",
        "outputId": "483e25c6-bbf4-4124-cc59-6dc2003c443a"
      },
      "outputs": [
        {
          "name": "stdout",
          "output_type": "stream",
          "text": [
            "Number of mislabeled points 3163 out of 15216 total points.\n",
            "Logistic Regression Model accuracy = 0.7860147213459516\n"
          ]
        }
      ],
      "source": [
        "# training a Logistic Regression baseline - complete the code with your variables\n",
        "X_train_prep = np.concatenate((X_train_scaled, X_val_scaled), axis=0)\n",
        "y_train_np = np.concatenate((y_train, y_val), axis=0)\n",
        "\n",
        "X_test_prep = X_test_scaled\n",
        "y_test_np = y_test\n",
        "\n",
        "logstic_model = LogisticRegression(solver='lbfgs')\n",
        "y_pred = logstic_model.fit(X_train_prep, y_train_np).predict(X_train_prep)\n",
        "print(\"Number of mislabeled points %d out of %d total points.\"% ((y_train_np != y_pred).sum(), X_train_prep.shape[0]))\n",
        "print(\"Logistic Regression Model accuracy =\" , logstic_model.score(X_test_prep, y_test_np))"
      ]
    },
    {
      "cell_type": "code",
      "execution_count": null,
      "metadata": {
        "id": "icCFmz2-o3VW"
      },
      "outputs": [],
      "source": [
        "# create TensorDataset from numpy arrays\n",
        "\"\"\"\n",
        "Your Code Here\n",
        "\"\"\"\n",
        "train_tensor = TensorDataset(torch.from_numpy(X_train_scaled).float(), torch.from_numpy(y_train).float())\n",
        "val_tensor = TensorDataset(torch.from_numpy(X_val_scaled).float(), torch.from_numpy(y_val).float())\n",
        "test_tensor = TensorDataset(torch.from_numpy(X_test_scaled).float(), torch.from_numpy(y_test).float())"
      ]
    },
    {
      "cell_type": "code",
      "execution_count": null,
      "metadata": {
        "id": "dSzv3mbYo3VX"
      },
      "outputs": [],
      "source": [
        "# model, hyoer-paramerters and training\n",
        "\"\"\"\n",
        "Your Code Here - add as many blocks as you wish\n",
        "\"\"\"\n",
        "import torch.nn as nn\n",
        "class MLP(nn.Module):\n",
        "    def __init__(self, input_size=10, output_size=1, dropout_rate=0.3, method='kaiming'):\n",
        "        super(MLP, self).__init__()\n",
        "        self.hidden_layers = nn.Sequential(\n",
        "            nn.Linear(input_size, 64),\n",
        "            nn.LeakyReLU(negative_slope=0.01),\n",
        "            nn.BatchNorm1d(64),\n",
        "            nn.Dropout(dropout_rate),\n",
        "\n",
        "            nn.Linear(64, 128),\n",
        "            nn.ReLU(),\n",
        "            nn.BatchNorm1d(128),\n",
        "            nn.Dropout(dropout_rate),\n",
        "\n",
        "            nn.Linear(128, 64),\n",
        "            nn.ReLU(),\n",
        "            nn.BatchNorm1d(64),\n",
        "            nn.Dropout(dropout_rate),\n",
        "\n",
        "            nn.Linear(64, 32),\n",
        "            nn.ReLU(),\n",
        "            nn.BatchNorm1d(32),\n",
        "            nn.Dropout(dropout_rate),\n",
        "        )\n",
        "        self.output_layer = nn.Linear(32, output_size)\n",
        "\n",
        "        for m in self.modules():\n",
        "            if isinstance(m, nn.Linear):\n",
        "                if method == 'xavier':\n",
        "                    nn.init.xavier_uniform_(m.weight)\n",
        "                elif method == 'kaiming':\n",
        "                    nn.init.kaiming_normal_(m.weight, mode='fan_in', nonlinearity='relu')\n",
        "                elif method == 'orthogonal':\n",
        "                    nn.init.orthogonal_(m.weight, gain=np.sqrt(2))\n",
        "                else:\n",
        "                    raise ValueError(\"Invalid initialization method. Choose from 'xavier', 'kaiming', or 'orthogonal'.\")\n",
        "                if m.bias is not None:\n",
        "                    torch.nn.init.constant_(m.bias, 0)\n",
        "\n",
        "    def forward(self, x):\n",
        "        return self.output_layer(self.hidden_layers(x))\n",
        "\n",
        "def train_model(model, train_loader, val_loader, criterion, optimizer, scheduler, num_epochs=100):\n",
        "    device = torch.device(\"cuda\" if torch.cuda.is_available() else \"cpu\")\n",
        "    model = model.to(device)\n",
        "\n",
        "    train_losses = []\n",
        "    val_losses = []\n",
        "    train_accuracies = []\n",
        "    val_accuracies = []\n",
        "\n",
        "    best_val_acc = 0\n",
        "    best_model = None\n",
        "\n",
        "    for epoch in range(num_epochs):\n",
        "        # Training phase\n",
        "        model.train()\n",
        "        train_loss = 0\n",
        "        correct_train = 0\n",
        "        total_train = 0\n",
        "\n",
        "        for inputs, labels in train_loader:\n",
        "            inputs, labels = inputs.to(device), labels.to(device)\n",
        "\n",
        "            optimizer.zero_grad()\n",
        "            outputs = model(inputs)\n",
        "            loss = criterion(outputs.squeeze(), labels)\n",
        "\n",
        "            loss.backward()\n",
        "            optimizer.step()\n",
        "\n",
        "            train_loss += loss.item()\n",
        "            predicted = (torch.sigmoid(outputs.squeeze()) > 0.5).float()\n",
        "            correct_train += (predicted == labels).sum().item()\n",
        "            total_train += labels.size(0)\n",
        "\n",
        "        # Validation phase\n",
        "        model.eval()\n",
        "        val_loss = 0\n",
        "        correct_val = 0\n",
        "        total_val = 0\n",
        "\n",
        "        with torch.no_grad():\n",
        "            for inputs, labels in val_loader:\n",
        "                inputs, labels = inputs.to(device), labels.to(device)\n",
        "                outputs = model(inputs)\n",
        "                loss = criterion(outputs.squeeze(), labels)\n",
        "\n",
        "                val_loss += loss.item()\n",
        "                predicted = (torch.sigmoid(outputs.squeeze()) > 0.5).float()\n",
        "                correct_val += (predicted == labels).sum().item()\n",
        "                total_val += labels.size(0)\n",
        "\n",
        "        # Calculate metrics\n",
        "        epoch_train_loss = train_loss / len(train_loader)\n",
        "        epoch_val_loss = val_loss / len(val_loader)\n",
        "        epoch_train_acc = 100 * correct_train / total_train\n",
        "        epoch_val_acc = 100 * correct_val / total_val\n",
        "\n",
        "        train_losses.append(epoch_train_loss)\n",
        "        val_losses.append(epoch_val_loss)\n",
        "        train_accuracies.append(epoch_train_acc)\n",
        "        val_accuracies.append(epoch_val_acc)\n",
        "\n",
        "        # Update learning rate\n",
        "        scheduler.step(epoch_val_loss)\n",
        "\n",
        "        # Save best model\n",
        "        if epoch_val_acc > best_val_acc:\n",
        "            best_val_acc = epoch_val_acc\n",
        "            best_model = model.state_dict().copy()\n",
        "\n",
        "        if (epoch + 1) % 10 == 0:\n",
        "            print(f'Epoch [{epoch+1}/{num_epochs}], Train Loss: {epoch_train_loss:.4f}, Val Loss: {epoch_val_loss:.4f}')\n",
        "            print(f'Train Accuracy: {epoch_train_acc:.2f}%, Val Accuracy: {epoch_val_acc:.2f}%')\n",
        "\n",
        "    # Load best model\n",
        "    model.load_state_dict(best_model)\n",
        "    return model, train_losses, val_losses, train_accuracies, val_accuracies\n",
        "\n",
        "def evaluate_model(model, test_loader):\n",
        "    device = torch.device(\"cuda\" if torch.cuda.is_available() else \"cpu\")\n",
        "    model.eval()\n",
        "    correct = 0\n",
        "    total = 0\n",
        "\n",
        "    with torch.no_grad():\n",
        "        for inputs, labels in test_loader:\n",
        "            inputs, labels = inputs.to(device), labels.to(device)\n",
        "            outputs = model(inputs)\n",
        "            predicted = (torch.sigmoid(outputs.squeeze()) > 0.5).float()\n",
        "            correct += (predicted == labels).sum().item()\n",
        "            total += labels.size(0)\n",
        "\n",
        "    accuracy = 100 * correct / total\n",
        "    return accuracy"
      ]
    },
    {
      "cell_type": "markdown",
      "metadata": {
        "id": "XG8xsnrskf_O"
      },
      "source": [
        "The MNN architecture we chose:\n",
        "* 10 features input layer\n",
        "* hidden layers: $64 → 128 → 64 → 32$ neurons\n",
        "  * we used an expanding-constracting arhitecture (from $64→128$ neurons then back to $32$ neurons) to allow the model to learn complex feature interactions while preventing overfitting.\n",
        "* output layer: 1 neuron (binary classification).\n",
        "\n",
        "The key component of the network are:\n",
        "* Batch normalization after each hidden layer.\n",
        "  * this acts as a regularizer and allows higher learning rates.\n",
        "* Dropout with rate of 0.3 for regularization.\n",
        "  * provides good regularization without being too agressive.\n",
        "* ReLU activation function.\n",
        "* Kaiming initialization for the weights.\n",
        "  * as we saw in previous question this was specifically designed for ReLU activation. initialization for the weights prevents from vanishing/exploding gradients.\n",
        "\n"
      ]
    },
    {
      "cell_type": "code",
      "execution_count": null,
      "metadata": {
        "colab": {
          "base_uri": "https://localhost:8080/",
          "height": 781
        },
        "id": "K5AW0qLMi4Ad",
        "outputId": "712581a8-5ae8-4d12-e152-f0cd63c8d8ae"
      },
      "outputs": [
        {
          "name": "stdout",
          "output_type": "stream",
          "text": [
            "Epoch [10/100], Train Loss: 0.3738, Val Loss: 0.3230\n",
            "Train Accuracy: 84.28%, Val Accuracy: 86.86%\n",
            "Epoch [20/100], Train Loss: 0.3552, Val Loss: 0.3076\n",
            "Train Accuracy: 85.29%, Val Accuracy: 87.59%\n",
            "Epoch [30/100], Train Loss: 0.3443, Val Loss: 0.3057\n",
            "Train Accuracy: 85.63%, Val Accuracy: 86.96%\n",
            "Epoch [40/100], Train Loss: 0.3399, Val Loss: 0.3103\n",
            "Train Accuracy: 86.04%, Val Accuracy: 87.28%\n",
            "Epoch [50/100], Train Loss: 0.3374, Val Loss: 0.3005\n",
            "Train Accuracy: 86.30%, Val Accuracy: 87.80%\n",
            "Epoch [60/100], Train Loss: 0.3285, Val Loss: 0.3098\n",
            "Train Accuracy: 86.88%, Val Accuracy: 87.12%\n",
            "Epoch [70/100], Train Loss: 0.3251, Val Loss: 0.2977\n",
            "Train Accuracy: 86.87%, Val Accuracy: 87.54%\n",
            "Epoch [80/100], Train Loss: 0.3249, Val Loss: 0.3059\n",
            "Train Accuracy: 86.59%, Val Accuracy: 87.49%\n",
            "Epoch [90/100], Train Loss: 0.3190, Val Loss: 0.2935\n",
            "Train Accuracy: 86.80%, Val Accuracy: 87.75%\n",
            "Epoch [100/100], Train Loss: 0.3189, Val Loss: 0.3145\n",
            "Train Accuracy: 86.89%, Val Accuracy: 86.86%\n"
          ]
        },
        {
          "data": {
            "image/png": "[encoded data removed]",
            "text/plain": [
              "<Figure size 1200x400 with 2 Axes>"
            ]
          },
          "metadata": {},
          "output_type": "display_data"
        },
        {
          "name": "stdout",
          "output_type": "stream",
          "text": [
            "\n",
            "Test Accuracy: 88.07%\n"
          ]
        }
      ],
      "source": [
        "batch_size = 32\n",
        "train_loader = DataLoader(train_tensor, batch_size=batch_size, shuffle=True)\n",
        "val_loader = DataLoader(val_tensor, batch_size=batch_size)\n",
        "test_loader = DataLoader(test_tensor, batch_size=batch_size)\n",
        "\n",
        "model = MLP()\n",
        "criterion = nn.BCEWithLogitsLoss()\n",
        "optimizer = torch.optim.AdamW(model.parameters(), lr=0.001, weight_decay=0.01)\n",
        "scheduler = torch.optim.lr_scheduler.ReduceLROnPlateau(optimizer, mode='min', factor=0.5, patience=10)\n",
        "\n",
        "model, train_losses, val_losses, train_accuracies, val_accuracies = train_model(\n",
        "    model, train_loader, val_loader, criterion, optimizer, scheduler\n",
        ")\n",
        "\n",
        "plt.figure(figsize=(12, 4))\n",
        "\n",
        "plt.subplot(1, 2, 1)\n",
        "plt.plot(train_losses, label='Train Loss')\n",
        "plt.plot(val_losses, label='Validation Loss')\n",
        "plt.title('Loss vs Epochs')\n",
        "plt.xlabel('Epochs')\n",
        "plt.ylabel('Loss')\n",
        "plt.legend()\n",
        "\n",
        "plt.subplot(1, 2, 2)\n",
        "plt.plot(train_accuracies, label='Train Accuracy')\n",
        "plt.plot(val_accuracies, label='Validation Accuracy')\n",
        "plt.title('Accuracy vs Epochs')\n",
        "plt.xlabel('Epochs')\n",
        "plt.ylabel('Accuracy (%)')\n",
        "plt.legend()\n",
        "\n",
        "plt.tight_layout()\n",
        "plt.show()\n",
        "\n",
        "test_accuracy = evaluate_model(model, test_loader)\n",
        "print(f'\\nTest Accuracy: {test_accuracy:.2f}%')"
      ]
    },
    {
      "cell_type": "code",
      "execution_count": null,
      "metadata": {
        "colab": {
          "base_uri": "https://localhost:8080/",
          "height": 1000
        },
        "id": "XkIAd6Zxotuy",
        "outputId": "41957f25-79ec-4dd5-937b-49d3243e0033"
      },
      "outputs": [
        {
          "name": "stdout",
          "output_type": "stream",
          "text": [
            "Training the Model with xavier initialization\n",
            "Epoch [10/100], Train Loss: 1.0370, Val Loss: 0.8386\n",
            "Train Accuracy: 49.89%, Val Accuracy: 45.43%\n",
            "Epoch [20/100], Train Loss: 1.0549, Val Loss: 0.8326\n",
            "Train Accuracy: 49.73%, Val Accuracy: 49.89%\n",
            "Epoch [30/100], Train Loss: 1.0358, Val Loss: 0.8212\n",
            "Train Accuracy: 50.53%, Val Accuracy: 49.32%\n",
            "Epoch [40/100], Train Loss: 1.0381, Val Loss: 0.8108\n",
            "Train Accuracy: 50.78%, Val Accuracy: 48.79%\n",
            "Epoch [50/100], Train Loss: 1.0457, Val Loss: 0.8059\n",
            "Train Accuracy: 49.89%, Val Accuracy: 51.84%\n",
            "Epoch [60/100], Train Loss: 1.0238, Val Loss: 0.8072\n",
            "Train Accuracy: 50.42%, Val Accuracy: 45.74%\n",
            "Epoch [70/100], Train Loss: 1.0389, Val Loss: 0.8095\n",
            "Train Accuracy: 50.34%, Val Accuracy: 51.52%\n",
            "Epoch [80/100], Train Loss: 1.0377, Val Loss: 0.8519\n",
            "Train Accuracy: 50.41%, Val Accuracy: 47.32%\n",
            "Epoch [90/100], Train Loss: 1.0359, Val Loss: 0.8079\n",
            "Train Accuracy: 49.95%, Val Accuracy: 51.05%\n",
            "Epoch [100/100], Train Loss: 1.0520, Val Loss: 0.8488\n",
            "Train Accuracy: 49.84%, Val Accuracy: 46.48%\n",
            "\n",
            "Training the Model with orthogonal initialization\n",
            "Epoch [10/100], Train Loss: 1.0507, Val Loss: 1.0114\n",
            "Train Accuracy: 45.22%, Val Accuracy: 30.55%\n",
            "Epoch [20/100], Train Loss: 1.0644, Val Loss: 0.9937\n",
            "Train Accuracy: 44.76%, Val Accuracy: 30.60%\n",
            "Epoch [30/100], Train Loss: 1.0513, Val Loss: 1.0363\n",
            "Train Accuracy: 44.74%, Val Accuracy: 30.65%\n",
            "Epoch [40/100], Train Loss: 1.0555, Val Loss: 1.0089\n",
            "Train Accuracy: 44.77%, Val Accuracy: 30.44%\n",
            "Epoch [50/100], Train Loss: 1.0540, Val Loss: 1.0377\n",
            "Train Accuracy: 45.40%, Val Accuracy: 29.60%\n",
            "Epoch [60/100], Train Loss: 1.0698, Val Loss: 1.0117\n",
            "Train Accuracy: 44.54%, Val Accuracy: 30.49%\n",
            "Epoch [70/100], Train Loss: 1.0630, Val Loss: 0.9958\n",
            "Train Accuracy: 44.20%, Val Accuracy: 31.34%\n",
            "Epoch [80/100], Train Loss: 1.0571, Val Loss: 0.9813\n",
            "Train Accuracy: 45.07%, Val Accuracy: 30.02%\n",
            "Epoch [90/100], Train Loss: 1.0501, Val Loss: 0.9733\n",
            "Train Accuracy: 45.10%, Val Accuracy: 30.70%\n",
            "Epoch [100/100], Train Loss: 1.0439, Val Loss: 1.0685\n",
            "Train Accuracy: 45.11%, Val Accuracy: 31.81%\n",
            "\n",
            "Final Test Accuracies:\n",
            "Kaiming Normal: 88.07%\n",
            "Xavier Uniform: 47.58%\n",
            "Orthogonal: 33.18%\n"
          ]
        },
        {
          "data": {
            "image/png": "[encoded data removed]",
            "text/plain": [
              "<Figure size 1500x500 with 3 Axes>"
            ]
          },
          "metadata": {},
          "output_type": "display_data"
        }
      ],
      "source": [
        "batch_size = 32\n",
        "train_loader = DataLoader(train_tensor, batch_size=batch_size, shuffle=True)\n",
        "val_loader = DataLoader(val_tensor, batch_size=batch_size)\n",
        "test_loader = DataLoader(test_tensor, batch_size=batch_size)\n",
        "\n",
        "criterion = nn.BCEWithLogitsLoss()\n",
        "optimizer = torch.optim.AdamW(model.parameters(), lr=0.001, weight_decay=0.01)\n",
        "scheduler = torch.optim.lr_scheduler.ReduceLROnPlateau(optimizer, mode='min', factor=0.5, patience=10)\n",
        "\n",
        "print('Training the Model with xavier initialization')\n",
        "xavier_model = MLP(method='xavier')\n",
        "xavier, xavier_train_losses, xavier_val_losses, xavier_train_accuracies, xavier_val_accuracies = train_model(\n",
        "    xavier_model, train_loader, val_loader, criterion, optimizer, scheduler\n",
        ")\n",
        "xavier_acc = evaluate_model(xavier, test_loader)\n",
        "\n",
        "print('\\nTraining the Model with orthogonal initialization')\n",
        "orthogonal_model = MLP(method='orthogonal')\n",
        "orthogonal, orthogonal_train_losses, orthogonal_val_losses, orthogonal_train_accuracies, orthogonal_val_accuracies = train_model(\n",
        "    orthogonal_model, train_loader, val_loader, criterion, optimizer, scheduler\n",
        ")\n",
        "orthogonal_acc = evaluate_model(orthogonal, test_loader)\n",
        "\n",
        "\n",
        "# Print comparison results\n",
        "print(\"\\nFinal Test Accuracies:\")\n",
        "print(f\"Kaiming Normal: {test_accuracy:.2f}%\")\n",
        "print(f\"Xavier Uniform: {xavier_acc:.2f}%\")\n",
        "print(f\"Orthogonal: {orthogonal_acc:.2f}%\")\n",
        "\n",
        "# Plot comparison of learning curves\n",
        "plt.figure(figsize=(15, 5))\n",
        "\n",
        "# Plot training losses\n",
        "plt.subplot(1, 3, 1)\n",
        "plt.plot(train_losses, label='Kaiming')\n",
        "plt.plot(xavier_train_losses, label='Xavier')\n",
        "plt.plot(orthogonal_train_losses, label='Orthogonal')\n",
        "plt.title('Training Loss Comparison')\n",
        "plt.xlabel('Epochs')\n",
        "plt.ylabel('Loss')\n",
        "plt.legend()\n",
        "\n",
        "# Plot validation losses\n",
        "plt.subplot(1, 3, 2)\n",
        "plt.plot(val_losses, label='Kaiming')\n",
        "plt.plot(xavier_val_losses, label='Xavier')\n",
        "plt.plot(orthogonal_val_losses, label='Orthogonal')\n",
        "plt.title('Validation Loss Comparison')\n",
        "plt.xlabel('Epochs')\n",
        "plt.ylabel('Loss')\n",
        "plt.legend()\n",
        "\n",
        "# Plot validation accuracies\n",
        "plt.subplot(1, 3, 3)\n",
        "plt.plot(val_accuracies, label='Kaiming')\n",
        "plt.plot(xavier_val_accuracies, label='Xavier')\n",
        "plt.plot(orthogonal_val_accuracies, label='Orthogonal')\n",
        "plt.title('Validation Accuracy Comparison')\n",
        "plt.xlabel('Epochs')\n",
        "plt.ylabel('Accuracy (%)')\n",
        "plt.legend()\n",
        "\n",
        "plt.tight_layout()\n",
        "plt.show()"
      ]
    },
    {
      "cell_type": "markdown",
      "metadata": {
        "id": "sj-OsQKswnAd"
      },
      "source": [
        "We chose to retrain our model with Xavier and Orthogonal initializations.\n",
        "* Xaiver uniform initalization is designed to maintain variance across layers, how ever it does not works well with ReLU activation function (As we explained in assigment 1 section 6). We can also see it here, the test accuracy with xavier uniform initalization was significatly lower than the test accuracy of the model with kaiming normal initalization which is designed specifically for ReLU activation.\n",
        "* Orthogonal initialization helps preserve gradient magnitudes during backpropagation. It creates weights that are orghogonal to each other, which can help with feature independence. It looks like that these properties don't necessarily translate well to networks with ReLU activations, the network is even worse than making a random choise. whit might be likely due to poor gradient flow from the initialization issues."
      ]
    },
    {
      "cell_type": "markdown",
      "metadata": {
        "id": "K6I0Vvh_o3Vf"
      },
      "source": [
        "### <img src=\"https://img.icons8.com/color/48/000000/code.png\" style=\"height:50px;display:inline\"> Task 3 - Design a CNN\n",
        "---\n",
        "In this task you are going to design a deep convolutional neural network to classify 10 classes from Imagenet (tench, English springer, cassette player, chain saw, church, French horn, garbage truck, gas pump, golf ball, parachute) - **The Imagenette Dataset**.\n",
        "\n",
        "* 10 classes, 1 for each object.\n",
        "* 9469 images for training and 3925 for testing (70/30 separation).\n",
        "* We will use a downscaled version where the images are resized to $64\\times 64$ resolution.\n",
        "\n",
        "<center><img src=\"https://storage.googleapis.com/tfds-data/visualization/fig/imagenette-160px-v2-1.0.0.png\" style=\"height:300px\"></center>\n",
        "\n",
        "1. Load the the Imagenette dataset with PyTorch using `torchvision.datasets.Imagenette(\n",
        "    root='./datasets', split='train', size='160px', download=True, transform=transform_train)`, where `split` is either `'train'` or `'val'`, you can read more here: https://pytorch.org/vision/main/generated/torchvision.datasets.Imagenette.html#torchvision.datasets.Imagenette . Use the `transform` parameter to resize the images to $64 \\times 64$ (for train, validation and test) and convert the data to tensors, e.g.,\n",
        "   \n",
        "   <code>transform_test=transforms.Compose([\n",
        "    transforms.Resize((64, 64)),\n",
        "    transforms.ToTensor(),])</code>\n",
        "    \n",
        "   Display 5 images from the train set.\n",
        "\n",
        "   <a href=\"https://gist.github.com/kevinzakka/d33bf8d6c7f06a9d8c76d97a7879f5cb\">Train, Validation and Test Split for torchvision Datasets</a>"
      ]
    },
    {
      "cell_type": "code",
      "execution_count": 2,
      "metadata": {
        "colab": {
          "base_uri": "https://localhost:8080/"
        },
        "id": "l_RaIIP-NTBJ",
        "outputId": "e437b2f3-f6b7-4ab3-9e4e-da2dcdd0bf0e"
      },
      "outputs": [
        {
          "name": "stdout",
          "output_type": "stream",
          "text": [
            "Downloading https://s3.amazonaws.com/fast-ai-imageclas/imagenette2-160.tgz to ./datasets/imagenette2-160.tgz\n"
          ]
        },
        {
          "name": "stderr",
          "output_type": "stream",
          "text": [
            "100%|██████████| 99.0M/99.0M [01:07<00:00, 1.47MB/s]\n"
          ]
        },
        {
          "name": "stdout",
          "output_type": "stream",
          "text": [
            "Extracting ./datasets/imagenette2-160.tgz to ./datasets\n"
          ]
        }
      ],
      "source": [
        "transform = torchvision.transforms.Compose([\n",
        "    torchvision.transforms.Resize((64, 64)),\n",
        "    torchvision.transforms.ToTensor(), # uint8 values in [0, 255] -> float tensor with values [0, 1]\n",
        "    torchvision.transforms.Normalize(mean=[0.485, 0.456, 0.406], std=[0.229, 0.224, 0.225]) # [mu, sigma] standartization, RGB values\n",
        "])\n",
        "\n",
        "trainset = torchvision.datasets.Imagenette(\n",
        "    root='./datasets',\n",
        "    split='train',\n",
        "    size='160px',\n",
        "    download=True,\n",
        "    transform=transform\n",
        ")\n",
        "\n",
        "full_val_dataset = torchvision.datasets.Imagenette(\n",
        "    root='./datasets',\n",
        "    split='val',\n",
        "    size='160px',\n",
        "    download=False,\n",
        "    transform=transform\n",
        ")\n"
      ]
    },
    {
      "cell_type": "code",
      "execution_count": 5,
      "metadata": {
        "colab": {
          "base_uri": "https://localhost:8080/",
          "height": 259
        },
        "id": "NWkZdiwNOzGI",
        "outputId": "573088e5-1a24-4b68-dff1-f21a5232a72a"
      },
      "outputs": [
        {
          "data": {
            "image/png": "[encoded data removed]",
            "text/plain": [
              "<Figure size 1500x300 with 5 Axes>"
            ]
          },
          "metadata": {},
          "output_type": "display_data"
        }
      ],
      "source": [
        "trainloader = torch.utils.data.DataLoader(\n",
        "    trainset,\n",
        "    batch_size=5,\n",
        "    shuffle=True\n",
        ")\n",
        "\n",
        "images, labels = next(iter(trainloader))\n",
        "\n",
        "fig, axes = plt.subplots(1, 5, figsize=(15, 3))\n",
        "for i in range(5):\n",
        "    img = images[i].clamp(0,1).numpy()\n",
        "    img = img.transpose(1, 2, 0)\n",
        "    axes[i].imshow(img)\n",
        "    axes[i].axis('off')\n",
        "    axes[i].set_title(f'{trainset.classes[labels[i]][0]}')\n",
        "plt.show()"
      ]
    },
    {
      "cell_type": "markdown",
      "metadata": {
        "id": "mPQ48GKGm8Q5"
      },
      "source": [
        "---\n",
        "2. Design a Convolutional Neural Network (CNN) to classify classes from the images.\n",
        "    * You are **not allowed** to use `BatchNorm` in your architecture, but can use any other normalization (`GroupNorm`, `LayerNorm`, and etc..).\n",
        "    * Describe the chosen architecture, how many layers? What activations did you choose? What are the filter sizes? Did you use fully-connected layers (if you did, explain their sizes)?\n",
        "    * What is the input dimension? What is the output dimension?\n",
        "    * Calculate the number of parameters (weights) in the network. What is the model size in MegaBytes (MB)? (see the convolution tutorial). **Print** these numbers."
      ]
    },
    {
      "cell_type": "code",
      "execution_count": 36,
      "metadata": {
        "colab": {
          "base_uri": "https://localhost:8080/"
        },
        "id": "cx_qBgW0_ewD",
        "outputId": "376c7818-66bd-4943-bcc4-af95e1f8a31f"
      },
      "outputs": [
        {
          "name": "stdout",
          "output_type": "stream",
          "text": [
            "torch.Size([1, 512, 4, 4])\n",
            "torch.Size([1, 8192])\n",
            "Number of trainable parameters: 4,509,450\n",
            "Model size in MB: 17.20\n"
          ]
        }
      ],
      "source": [
        "class ImagenetteCNN(nn.Module):\n",
        "    def __init__(self, num_classes=10):\n",
        "        super(ImagenetteCNN, self).__init__()\n",
        "\n",
        "        self.conv_layers = nn.Sequential(\n",
        "            # Conv 1\n",
        "            nn.Conv2d(3, 64, kernel_size=3, padding=1),\n",
        "            nn.GroupNorm(8, 64),\n",
        "            nn.ReLU(inplace=True),\n",
        "            nn.MaxPool2d(2),  # 32x32\n",
        "\n",
        "            # Conv 2\n",
        "            nn.Conv2d(64, 128, kernel_size=3, padding=1),\n",
        "            nn.GroupNorm(16, 128),\n",
        "            nn.ReLU(inplace=True),\n",
        "            nn.MaxPool2d(2),  # 16x16\n",
        "\n",
        "            # Conv 3\n",
        "            nn.Conv2d(128, 256, kernel_size=3, padding=1),\n",
        "            nn.GroupNorm(32, 256),\n",
        "            nn.ReLU(inplace=True),\n",
        "            nn.Conv2d(256, 256, kernel_size=3, padding=1),\n",
        "            nn.GroupNorm(32, 256),\n",
        "            nn.ReLU(inplace=True),\n",
        "            nn.MaxPool2d(2),  # 8x8\n",
        "\n",
        "            # Conv 4\n",
        "            nn.Conv2d(256, 512, kernel_size=3, padding=1),\n",
        "            nn.GroupNorm(32, 512),\n",
        "            nn.ReLU(inplace=True),\n",
        "            nn.Conv2d(512, 512, kernel_size=3, padding=1),\n",
        "            nn.GroupNorm(32, 512),\n",
        "            nn.ReLU(inplace=True),\n",
        "            nn.MaxPool2d(2)  # 4x4\n",
        "        )\n",
        "\n",
        "        self.global_pool = nn.AdaptiveAvgPool2d(1)\n",
        "\n",
        "        self.dropout = nn.Dropout(0.5)\n",
        "\n",
        "        self.fc = nn.Linear(512, num_classes)\n",
        "\n",
        "        self._initialize_weights()\n",
        "\n",
        "    def _initialize_weights(self):\n",
        "        for m in self.modules():\n",
        "            if isinstance(m, nn.Conv2d):\n",
        "                nn.init.kaiming_normal_(m.weight, mode='fan_out', nonlinearity='relu')\n",
        "                if m.bias is not None:\n",
        "                    nn.init.constant_(m.bias, 0)\n",
        "            elif isinstance(m, nn.Linear):\n",
        "                nn.init.normal_(m.weight, 0, 0.01)\n",
        "                nn.init.constant_(m.bias, 0)\n",
        "\n",
        "    def forward(self, x):\n",
        "        x = self.conv_layers(x)\n",
        "\n",
        "        x = self.global_pool(x)\n",
        "        x = x.view(x.size(0), -1)\n",
        "        x = self.dropout(x)\n",
        "        x = self.fc(x)\n",
        "\n",
        "        return x\n",
        "\n",
        "def count_parameters(model):\n",
        "    return sum(p.numel() for p in model.parameters() if p.requires_grad)\n",
        "\n",
        "\n",
        "dummy_input = torch.zeros([1, 3, 64, 64])\n",
        "dummy_model = ImagenetteCNN()\n",
        "\n",
        "dummy_output = dummy_model.conv_layers(dummy_input)\n",
        "print(dummy_output.shape)\n",
        "dummy_output = dummy_output.view(dummy_output.size(0), -1)\n",
        "print(dummy_output.shape)\n",
        "\n",
        "num_params = count_parameters(dummy_model)\n",
        "param_size = 0\n",
        "for param in dummy_model.parameters():\n",
        "    param_size += param.nelement() * param.element_size()\n",
        "buffer_size = 0\n",
        "for buffer in dummy_model.buffers():\n",
        "    buffer_size += buffer.nelement() * buffer.element_size()\n",
        "model_size_mb = (param_size + buffer_size) / 1024 ** 2\n",
        "\n",
        "print(f\"Number of trainable parameters: {num_params:,}\")\n",
        "print(f\"Model size in MB: {model_size_mb:.2f}\")"
      ]
    },
    {
      "cell_type": "markdown",
      "metadata": {
        "id": "2MrF2xOKGVON"
      },
      "source": [
        "### CNN Architecture\n",
        "\n",
        "**Conv Block 1:** \\\n",
        "input: $3\\times 64\\times 64 →$ Conv: $64$ channels $→$ Max Pooling: $64\\times 32\\times 32$\n",
        "\n",
        "**Conv Block 2:** \\\n",
        "input: $64\\times 32\\times 32 →$ Conv: $128$ channels $→$ Max Pooling: $128\\times 16\\times 16$\n",
        "\n",
        "**Conv Block 3:** \\\n",
        "input: $128\\times 16\\times 16 →$ Conv: $256$ channels $→$ Max Pooling: $256\\times 8\\times 8$\n",
        "\n",
        "**Conv Block 4:** \\\n",
        "input: $256\\times 8\\times 8 →$ Conv: $512$ channels $→$ Max Pooling: $512\\times 4\\times 4$\n",
        "\n",
        "**Key Features in each Conv Block:**\n",
        "* $3\\times 3$ filters with padding = $1$ to preserve spatial dimensions.\n",
        "* GroupNorm for normalization (better for small batches).\n",
        "* ReLU activations for non-linearity.\n",
        "* MaxPooling ($2\\times 2$) for downsampling by a factor of $2$.\n",
        "\n",
        "This design progressively increases channels ($64 → 512$) and reduces spatial size ($64 → 4$).\n",
        "\n",
        "**Global Pooling:** \\\n",
        "$AdaptiveAvgPool2d(1)$ reduces each feature map to a $1x1$ spatial size, resulting in $512 × 1 × 1 →$ effectively reduces it to a $512$-dimensional vector.\n",
        "\n",
        "**Dropout (p=$0.5$):** \\\n",
        "Prevents overfitting by randomly deactivating 50% of neurons during training.\n",
        "\n",
        "**Fully Connected Layer:** \\\n",
        "Linear($512$, num_classes) maps the $512$ features to $10$ output classes.\n",
        "Output = $10$ values, which can be passed through softmax during training.\n",
        "\n",
        "\n",
        "#### Input Dimension: $(3\\times 64\\times 64)$\n",
        "$3$ channels for color (RGB), height=$64$, width=$64$\n",
        "\n",
        "#### Output Dimension:\n",
        "$10$ values, each corresponding to the probability for one of the 10 classes in the dataset.\n",
        "\n",
        "The network progressively increases channels (64 → 512) while reducing spatial size (64 → 4) using MaxPooling.\n",
        "\n",
        "The global average pooling reduces reliance on fully connected layers, improving generalization.\n",
        "\n",
        "ReLU activation function was used after convolutional layer to introduce non-linearity.\n",
        "\n",
        "The $conv2d$ layers were initialized using the *Kaiming Normal Initialization*, while the $FC$ layer was initialized with small random values (mean=0, std=0.01) and biases set to 0.\n",
        "\n",
        "All Convolution filters are $3\\times 3$\n",
        "\n",
        "Dropout prevents overfitting, and Kaiming Initialization ensures proper weight scaling for ReLU.\n",
        "\n",
        "\n"
      ]
    },
    {
      "cell_type": "markdown",
      "metadata": {
        "id": "mrMYJbh-nEzZ"
      },
      "source": [
        "---\n",
        "3. Train the classifier (preferably on a GPU - use Colab for this part if you don't have a GPU).\n",
        "    * **DO NOT USE ANY IMAGE AUGMENTATIONS IN THIS PART** (You can still use `Normalize` if you wish, but no cropping, flipping and etc...).\n",
        "    * You are not allowed to use pre-trained models (i.e., no transfer learning, only learning from scratch).\n",
        "    * Describe the hyper-parameters of the model (batch size, epochs, optimizer, learning rate, scheduler....). How did you tune your model? Did you use a validation set to tune the model?\n",
        "    * What is the final accuracy on the test set? **Print** it.\n",
        "        * You need to reach at least 73% accuracy in this section, and 78% for maximum points in section 5.\n",
        "    * **Plot** the loss curves (and any other statistic you calculate) as a function of epochs/iterations.\n"
      ]
    },
    {
      "cell_type": "code",
      "execution_count": 7,
      "metadata": {
        "id": "CPWi2mbS2UU-"
      },
      "outputs": [],
      "source": [
        "# time to train our model - from tutorial\n",
        "# hyper-parameters\n",
        "batch_size = 128\n",
        "learning_rate = 3e-4\n",
        "epochs = 40\n",
        "\n",
        "# Split the validation dataset into validation and test datasets (10% val, 20% test)\n",
        "val_size = len(full_val_dataset) // 3\n",
        "test_size = len(full_val_dataset) - val_size\n",
        "valset, testset = torch.utils.data.random_split(full_val_dataset, [val_size, test_size])\n",
        "\n",
        "# dataloaders - creating batches and shuffling the data\n",
        "trainloader = torch.utils.data.DataLoader(\n",
        "    trainset, batch_size=batch_size, shuffle=True, num_workers=2)\n",
        "validationloader = torch.utils.data.DataLoader(\n",
        "    valset, batch_size=batch_size, shuffle=False, num_workers=2)\n",
        "testloader = torch.utils.data.DataLoader(\n",
        "    testset, batch_size=batch_size, shuffle=False, num_workers=2)\n",
        "\n",
        "# device - cpu or gpu?\n",
        "device = torch.device(\"cuda:0\" if torch.cuda.is_available() else \"cpu\")\n",
        "\n",
        "# loss criterion\n",
        "criterion = nn.CrossEntropyLoss()  # accepts 'logits' - unnormalized scores (no need to apply `softmax` manually)\n",
        "\n",
        "# build our model and send it to the device\n",
        "model = ImagenetteCNN().to(device)\n",
        "optimizer = torch.optim.Adam(model.parameters(), lr=learning_rate) # Optimizer - Adam\n",
        "scheduler = torch.optim.lr_scheduler.CosineAnnealingLR(optimizer, T_max=40, eta_min=1e-6)"
      ]
    },
    {
      "cell_type": "markdown",
      "metadata": {
        "id": "uZSAFzVJ1TXr"
      },
      "source": [
        "#### Hyper-Parameters\n",
        "* batch-size = $128$\n",
        "    * The number of images processed in each training iteration.\n",
        "* learning-rate = $3\\cdot 10^{-4}$\n",
        "    * The step size for model weight updates during training - this value provides good covergence without being too aggressive.\n",
        "* epochs = $40$\n",
        "* optimizer = $Adam$\n",
        "* scheduler = $CosineAnnelingLR$\n",
        "    * A learning rate scheduler that gradually decreases the learning rate following a cosine curve, helping the model converge to better minimum while avoiding local optimal point.\n",
        "\n",
        "We tuned these hyper parameters using a validation set we used in batches after each epoch."
      ]
    },
    {
      "cell_type": "code",
      "execution_count": 8,
      "metadata": {
        "id": "TVnKqu6W2Uj0"
      },
      "outputs": [],
      "source": [
        "# function to calcualte accuracy of the model\n",
        "def calculate_accuracy(model, dataloader, device):\n",
        "    model.eval()\n",
        "    total_correct = 0\n",
        "    total_images = 0\n",
        "    confusion_matrix = np.zeros([10, 10], int)\n",
        "    with torch.no_grad():\n",
        "        for data in dataloader:\n",
        "            images, labels = data\n",
        "            images = images.to(device)\n",
        "            labels = labels.to(device)\n",
        "            outputs = model(images)\n",
        "            _, predicted = torch.max(outputs.data, 1)\n",
        "            total_images += labels.size(0)\n",
        "            total_correct += (predicted == labels).sum().item()\n",
        "            for i, l in enumerate(labels):\n",
        "                confusion_matrix[l.item(), predicted[i].item()] += 1\n",
        "\n",
        "    model_accuracy = total_correct / total_images * 100\n",
        "    return model_accuracy, confusion_matrix"
      ]
    },
    {
      "cell_type": "code",
      "execution_count": 9,
      "metadata": {
        "colab": {
          "base_uri": "https://localhost:8080/"
        },
        "id": "O7uxPX2OUFjn",
        "outputId": "43181639-3c45-45cd-980b-bfb687de1fbe"
      },
      "outputs": [
        {
          "name": "stderr",
          "output_type": "stream",
          "text": [
            "Epoch 1/40: 100%|██████████| 74/74 [00:03<00:00, 22.09it/s, loss=2]   \n"
          ]
        },
        {
          "name": "stdout",
          "output_type": "stream",
          "text": [
            "Epoch 1/40 | Loss: 2.1753 | Train Acc: 28.451% | Val Acc: 30.046% | Time: 7.13s\n"
          ]
        },
        {
          "name": "stderr",
          "output_type": "stream",
          "text": [
            "Epoch 2/40: 100%|██████████| 74/74 [00:03<00:00, 22.71it/s, loss=1.64]\n"
          ]
        },
        {
          "name": "stdout",
          "output_type": "stream",
          "text": [
            "Epoch 2/40 | Loss: 1.8545 | Train Acc: 47.523% | Val Acc: 46.942% | Time: 7.00s\n"
          ]
        },
        {
          "name": "stderr",
          "output_type": "stream",
          "text": [
            "Epoch 3/40: 100%|██████████| 74/74 [00:03<00:00, 22.75it/s, loss=1.36]\n"
          ]
        },
        {
          "name": "stdout",
          "output_type": "stream",
          "text": [
            "Epoch 3/40 | Loss: 1.5599 | Train Acc: 52.751% | Val Acc: 49.924% | Time: 7.00s\n"
          ]
        },
        {
          "name": "stderr",
          "output_type": "stream",
          "text": [
            "Epoch 4/40: 100%|██████████| 74/74 [00:03<00:00, 22.59it/s, loss=1.46]\n"
          ]
        },
        {
          "name": "stdout",
          "output_type": "stream",
          "text": [
            "Epoch 4/40 | Loss: 1.4023 | Train Acc: 53.501% | Val Acc: 50.459% | Time: 7.09s\n"
          ]
        },
        {
          "name": "stderr",
          "output_type": "stream",
          "text": [
            "Epoch 5/40: 100%|██████████| 74/74 [00:03<00:00, 22.67it/s, loss=1.13] \n"
          ]
        },
        {
          "name": "stdout",
          "output_type": "stream",
          "text": [
            "Epoch 5/40 | Loss: 1.2299 | Train Acc: 61.210% | Val Acc: 57.645% | Time: 7.04s\n"
          ]
        },
        {
          "name": "stderr",
          "output_type": "stream",
          "text": [
            "Epoch 6/40: 100%|██████████| 74/74 [00:03<00:00, 22.54it/s, loss=1.11] \n"
          ]
        },
        {
          "name": "stdout",
          "output_type": "stream",
          "text": [
            "Epoch 6/40 | Loss: 1.1360 | Train Acc: 64.009% | Val Acc: 61.391% | Time: 7.08s\n"
          ]
        },
        {
          "name": "stderr",
          "output_type": "stream",
          "text": [
            "Epoch 7/40: 100%|██████████| 74/74 [00:03<00:00, 22.47it/s, loss=1.14] \n"
          ]
        },
        {
          "name": "stdout",
          "output_type": "stream",
          "text": [
            "Epoch 7/40 | Loss: 1.0228 | Train Acc: 71.507% | Val Acc: 68.272% | Time: 7.05s\n"
          ]
        },
        {
          "name": "stderr",
          "output_type": "stream",
          "text": [
            "Epoch 8/40: 100%|██████████| 74/74 [00:03<00:00, 22.52it/s, loss=0.901]\n"
          ]
        },
        {
          "name": "stdout",
          "output_type": "stream",
          "text": [
            "Epoch 8/40 | Loss: 0.9894 | Train Acc: 68.392% | Val Acc: 65.138% | Time: 7.05s\n"
          ]
        },
        {
          "name": "stderr",
          "output_type": "stream",
          "text": [
            "Epoch 9/40: 100%|██████████| 74/74 [00:03<00:00, 22.30it/s, loss=0.915]\n"
          ]
        },
        {
          "name": "stdout",
          "output_type": "stream",
          "text": [
            "Epoch 9/40 | Loss: 0.9426 | Train Acc: 71.327% | Val Acc: 66.131% | Time: 7.13s\n"
          ]
        },
        {
          "name": "stderr",
          "output_type": "stream",
          "text": [
            "Epoch 10/40: 100%|██████████| 74/74 [00:03<00:00, 22.32it/s, loss=0.765]\n"
          ]
        },
        {
          "name": "stdout",
          "output_type": "stream",
          "text": [
            "Epoch 10/40 | Loss: 0.8933 | Train Acc: 73.619% | Val Acc: 68.884% | Time: 7.10s\n"
          ]
        },
        {
          "name": "stderr",
          "output_type": "stream",
          "text": [
            "Epoch 11/40: 100%|██████████| 74/74 [00:03<00:00, 22.57it/s, loss=0.826]\n"
          ]
        },
        {
          "name": "stdout",
          "output_type": "stream",
          "text": [
            "Epoch 11/40 | Loss: 0.8138 | Train Acc: 75.520% | Val Acc: 70.336% | Time: 7.04s\n"
          ]
        },
        {
          "name": "stderr",
          "output_type": "stream",
          "text": [
            "Epoch 12/40: 100%|██████████| 74/74 [00:03<00:00, 22.31it/s, loss=0.677]\n"
          ]
        },
        {
          "name": "stdout",
          "output_type": "stream",
          "text": [
            "Epoch 12/40 | Loss: 0.7894 | Train Acc: 72.626% | Val Acc: 68.425% | Time: 7.08s\n"
          ]
        },
        {
          "name": "stderr",
          "output_type": "stream",
          "text": [
            "Epoch 13/40: 100%|██████████| 74/74 [00:03<00:00, 22.27it/s, loss=0.786]\n"
          ]
        },
        {
          "name": "stdout",
          "output_type": "stream",
          "text": [
            "Epoch 13/40 | Loss: 0.7651 | Train Acc: 79.713% | Val Acc: 72.554% | Time: 7.12s\n"
          ]
        },
        {
          "name": "stderr",
          "output_type": "stream",
          "text": [
            "Epoch 14/40: 100%|██████████| 74/74 [00:03<00:00, 22.42it/s, loss=0.798]\n"
          ]
        },
        {
          "name": "stdout",
          "output_type": "stream",
          "text": [
            "Epoch 14/40 | Loss: 0.7278 | Train Acc: 79.544% | Val Acc: 72.859% | Time: 7.09s\n"
          ]
        },
        {
          "name": "stderr",
          "output_type": "stream",
          "text": [
            "Epoch 15/40: 100%|██████████| 74/74 [00:03<00:00, 22.41it/s, loss=0.641]\n"
          ]
        },
        {
          "name": "stdout",
          "output_type": "stream",
          "text": [
            "Epoch 15/40 | Loss: 0.6806 | Train Acc: 80.621% | Val Acc: 72.706% | Time: 7.12s\n"
          ]
        },
        {
          "name": "stderr",
          "output_type": "stream",
          "text": [
            "Epoch 16/40: 100%|██████████| 74/74 [00:03<00:00, 22.22it/s, loss=0.787]\n"
          ]
        },
        {
          "name": "stdout",
          "output_type": "stream",
          "text": [
            "Epoch 16/40 | Loss: 0.6457 | Train Acc: 82.437% | Val Acc: 75.000% | Time: 7.13s\n"
          ]
        },
        {
          "name": "stderr",
          "output_type": "stream",
          "text": [
            "Epoch 17/40: 100%|██████████| 74/74 [00:03<00:00, 22.39it/s, loss=0.507]\n"
          ]
        },
        {
          "name": "stdout",
          "output_type": "stream",
          "text": [
            "Epoch 17/40 | Loss: 0.6126 | Train Acc: 81.265% | Val Acc: 75.917% | Time: 7.09s\n"
          ]
        },
        {
          "name": "stderr",
          "output_type": "stream",
          "text": [
            "Epoch 18/40: 100%|██████████| 74/74 [00:03<00:00, 22.24it/s, loss=0.516]\n"
          ]
        },
        {
          "name": "stdout",
          "output_type": "stream",
          "text": [
            "Epoch 18/40 | Loss: 0.5937 | Train Acc: 83.694% | Val Acc: 75.306% | Time: 7.15s\n"
          ]
        },
        {
          "name": "stderr",
          "output_type": "stream",
          "text": [
            "Epoch 19/40: 100%|██████████| 74/74 [00:03<00:00, 22.37it/s, loss=0.633]\n"
          ]
        },
        {
          "name": "stdout",
          "output_type": "stream",
          "text": [
            "Epoch 19/40 | Loss: 0.5529 | Train Acc: 83.937% | Val Acc: 74.159% | Time: 7.11s\n"
          ]
        },
        {
          "name": "stderr",
          "output_type": "stream",
          "text": [
            "Epoch 20/40: 100%|██████████| 74/74 [00:03<00:00, 22.52it/s, loss=0.72] \n"
          ]
        },
        {
          "name": "stdout",
          "output_type": "stream",
          "text": [
            "Epoch 20/40 | Loss: 0.5208 | Train Acc: 86.123% | Val Acc: 77.752% | Time: 7.06s\n"
          ]
        },
        {
          "name": "stderr",
          "output_type": "stream",
          "text": [
            "Epoch 21/40: 100%|██████████| 74/74 [00:03<00:00, 22.31it/s, loss=0.477]\n"
          ]
        },
        {
          "name": "stdout",
          "output_type": "stream",
          "text": [
            "Epoch 21/40 | Loss: 0.4713 | Train Acc: 87.158% | Val Acc: 77.676% | Time: 7.11s\n"
          ]
        },
        {
          "name": "stderr",
          "output_type": "stream",
          "text": [
            "Epoch 22/40: 100%|██████████| 74/74 [00:03<00:00, 22.50it/s, loss=0.598]\n"
          ]
        },
        {
          "name": "stdout",
          "output_type": "stream",
          "text": [
            "Epoch 22/40 | Loss: 0.4680 | Train Acc: 87.781% | Val Acc: 79.281% | Time: 7.09s\n"
          ]
        },
        {
          "name": "stderr",
          "output_type": "stream",
          "text": [
            "Epoch 23/40: 100%|██████████| 74/74 [00:03<00:00, 22.40it/s, loss=0.493]\n"
          ]
        },
        {
          "name": "stdout",
          "output_type": "stream",
          "text": [
            "Epoch 23/40 | Loss: 0.4360 | Train Acc: 88.753% | Val Acc: 77.752% | Time: 7.11s\n"
          ]
        },
        {
          "name": "stderr",
          "output_type": "stream",
          "text": [
            "Epoch 24/40: 100%|██████████| 74/74 [00:03<00:00, 22.71it/s, loss=0.298]\n"
          ]
        },
        {
          "name": "stdout",
          "output_type": "stream",
          "text": [
            "Epoch 24/40 | Loss: 0.3994 | Train Acc: 90.252% | Val Acc: 79.205% | Time: 7.06s\n"
          ]
        },
        {
          "name": "stderr",
          "output_type": "stream",
          "text": [
            "Epoch 25/40: 100%|██████████| 74/74 [00:03<00:00, 22.18it/s, loss=0.408]\n"
          ]
        },
        {
          "name": "stdout",
          "output_type": "stream",
          "text": [
            "Epoch 25/40 | Loss: 0.4033 | Train Acc: 90.200% | Val Acc: 79.205% | Time: 7.15s\n"
          ]
        },
        {
          "name": "stderr",
          "output_type": "stream",
          "text": [
            "Epoch 26/40: 100%|██████████| 74/74 [00:03<00:00, 22.06it/s, loss=0.424]\n"
          ]
        },
        {
          "name": "stdout",
          "output_type": "stream",
          "text": [
            "Epoch 26/40 | Loss: 0.3546 | Train Acc: 89.091% | Val Acc: 76.682% | Time: 7.14s\n"
          ]
        },
        {
          "name": "stderr",
          "output_type": "stream",
          "text": [
            "Epoch 27/40: 100%|██████████| 74/74 [00:03<00:00, 22.57it/s, loss=0.308]\n"
          ]
        },
        {
          "name": "stdout",
          "output_type": "stream",
          "text": [
            "Epoch 27/40 | Loss: 0.3304 | Train Acc: 91.984% | Val Acc: 79.740% | Time: 7.07s\n"
          ]
        },
        {
          "name": "stderr",
          "output_type": "stream",
          "text": [
            "Epoch 28/40: 100%|██████████| 74/74 [00:03<00:00, 22.52it/s, loss=0.301]\n"
          ]
        },
        {
          "name": "stdout",
          "output_type": "stream",
          "text": [
            "Epoch 28/40 | Loss: 0.3042 | Train Acc: 93.378% | Val Acc: 79.587% | Time: 7.07s\n"
          ]
        },
        {
          "name": "stderr",
          "output_type": "stream",
          "text": [
            "Epoch 29/40: 100%|██████████| 74/74 [00:03<00:00, 22.31it/s, loss=0.306]\n"
          ]
        },
        {
          "name": "stdout",
          "output_type": "stream",
          "text": [
            "Epoch 29/40 | Loss: 0.2895 | Train Acc: 93.378% | Val Acc: 79.205% | Time: 7.10s\n"
          ]
        },
        {
          "name": "stderr",
          "output_type": "stream",
          "text": [
            "Epoch 30/40: 100%|██████████| 74/74 [00:03<00:00, 22.42it/s, loss=0.195]\n"
          ]
        },
        {
          "name": "stdout",
          "output_type": "stream",
          "text": [
            "Epoch 30/40 | Loss: 0.2623 | Train Acc: 93.959% | Val Acc: 79.817% | Time: 7.07s\n"
          ]
        },
        {
          "name": "stderr",
          "output_type": "stream",
          "text": [
            "Epoch 31/40: 100%|██████████| 74/74 [00:03<00:00, 22.47it/s, loss=0.196]\n"
          ]
        },
        {
          "name": "stdout",
          "output_type": "stream",
          "text": [
            "Epoch 31/40 | Loss: 0.2448 | Train Acc: 94.688% | Val Acc: 80.122% | Time: 7.09s\n"
          ]
        },
        {
          "name": "stderr",
          "output_type": "stream",
          "text": [
            "Epoch 32/40: 100%|██████████| 74/74 [00:03<00:00, 22.42it/s, loss=0.203]\n"
          ]
        },
        {
          "name": "stdout",
          "output_type": "stream",
          "text": [
            "Epoch 32/40 | Loss: 0.2235 | Train Acc: 94.751% | Val Acc: 80.581% | Time: 7.08s\n"
          ]
        },
        {
          "name": "stderr",
          "output_type": "stream",
          "text": [
            "Epoch 33/40: 100%|██████████| 74/74 [00:03<00:00, 22.33it/s, loss=0.241]\n"
          ]
        },
        {
          "name": "stdout",
          "output_type": "stream",
          "text": [
            "Epoch 33/40 | Loss: 0.2157 | Train Acc: 95.660% | Val Acc: 80.428% | Time: 7.09s\n"
          ]
        },
        {
          "name": "stderr",
          "output_type": "stream",
          "text": [
            "Epoch 34/40: 100%|██████████| 74/74 [00:03<00:00, 22.38it/s, loss=0.275] \n"
          ]
        },
        {
          "name": "stdout",
          "output_type": "stream",
          "text": [
            "Epoch 34/40 | Loss: 0.1973 | Train Acc: 95.913% | Val Acc: 79.740% | Time: 7.08s\n"
          ]
        },
        {
          "name": "stderr",
          "output_type": "stream",
          "text": [
            "Epoch 35/40: 100%|██████████| 74/74 [00:03<00:00, 22.38it/s, loss=0.186]\n"
          ]
        },
        {
          "name": "stdout",
          "output_type": "stream",
          "text": [
            "Epoch 35/40 | Loss: 0.1914 | Train Acc: 95.902% | Val Acc: 80.275% | Time: 7.14s\n"
          ]
        },
        {
          "name": "stderr",
          "output_type": "stream",
          "text": [
            "Epoch 36/40: 100%|██████████| 74/74 [00:03<00:00, 22.48it/s, loss=0.15]  \n"
          ]
        },
        {
          "name": "stdout",
          "output_type": "stream",
          "text": [
            "Epoch 36/40 | Loss: 0.1813 | Train Acc: 96.462% | Val Acc: 80.122% | Time: 7.08s\n"
          ]
        },
        {
          "name": "stderr",
          "output_type": "stream",
          "text": [
            "Epoch 37/40: 100%|██████████| 74/74 [00:03<00:00, 22.08it/s, loss=0.161]\n"
          ]
        },
        {
          "name": "stdout",
          "output_type": "stream",
          "text": [
            "Epoch 37/40 | Loss: 0.1796 | Train Acc: 96.578% | Val Acc: 80.581% | Time: 7.13s\n"
          ]
        },
        {
          "name": "stderr",
          "output_type": "stream",
          "text": [
            "Epoch 38/40: 100%|██████████| 74/74 [00:03<00:00, 22.81it/s, loss=0.146] \n"
          ]
        },
        {
          "name": "stdout",
          "output_type": "stream",
          "text": [
            "Epoch 38/40 | Loss: 0.1774 | Train Acc: 96.673% | Val Acc: 80.734% | Time: 7.04s\n"
          ]
        },
        {
          "name": "stderr",
          "output_type": "stream",
          "text": [
            "Epoch 39/40: 100%|██████████| 74/74 [00:03<00:00, 22.50it/s, loss=0.215] \n"
          ]
        },
        {
          "name": "stdout",
          "output_type": "stream",
          "text": [
            "Epoch 39/40 | Loss: 0.1721 | Train Acc: 96.842% | Val Acc: 80.734% | Time: 7.09s\n"
          ]
        },
        {
          "name": "stderr",
          "output_type": "stream",
          "text": [
            "Epoch 40/40: 100%|██████████| 74/74 [00:03<00:00, 22.38it/s, loss=0.161] \n"
          ]
        },
        {
          "name": "stdout",
          "output_type": "stream",
          "text": [
            "Epoch 40/40 | Loss: 0.1696 | Train Acc: 96.863% | Val Acc: 80.657% | Time: 7.12s\n",
            "==> Saving model, best one was from epoch 38, val_acc = 80.734%\n",
            "==> Finished Training ...\n"
          ]
        }
      ],
      "source": [
        "train_accuracies = []\n",
        "val_accuracies = []\n",
        "losses = []\n",
        "best_model = model\n",
        "best_val_accuracy = 0.0\n",
        "best_epoch = 0\n",
        "\n",
        "# training loop\n",
        "for epoch in range(1, epochs + 1):\n",
        "    model.train()  # put in training mode, turn on Dropout, BatchNorm uses batch's statistics\n",
        "    running_loss = 0.0\n",
        "    epoch_time = time.time()\n",
        "\n",
        "    # Use tqdm for batch progress within an epoch\n",
        "    with tqdm(total=len(trainloader), desc=f\"Epoch {epoch}/{epochs}\") as pbar:\n",
        "        for i, data in enumerate(trainloader):\n",
        "            inputs, labels = data\n",
        "            # send them to device\n",
        "            inputs = inputs.to(device)\n",
        "            labels = labels.to(device)\n",
        "\n",
        "            # forward + backward + optimize\n",
        "            outputs = model(inputs)  # forward pass\n",
        "            loss = criterion(outputs, labels)  # calculate the loss\n",
        "            # always the same 3 steps\n",
        "            optimizer.zero_grad()  # zero the parameter gradients\n",
        "            loss.backward()  # backpropagation\n",
        "            optimizer.step()  # update parameters\n",
        "\n",
        "            # Update statistics\n",
        "            running_loss += loss.data.item()\n",
        "\n",
        "            # Update tqdm progress bar\n",
        "            pbar.set_postfix(loss=loss.item())\n",
        "            pbar.update(1)\n",
        "\n",
        "    scheduler.step()\n",
        "    # Normalizing the loss by the total number of train batches\n",
        "    running_loss /= len(trainloader)\n",
        "    losses.append(running_loss)\n",
        "\n",
        "    # Calculate training/val set accuracy of the existing model\n",
        "    train_accuracy, _ = calculate_accuracy(model, trainloader, device)\n",
        "    train_accuracies.append(train_accuracy)\n",
        "    val_accuracy, _ = calculate_accuracy(model, validationloader, device)\n",
        "    val_accuracies.append(val_accuracy)\n",
        "\n",
        "    if (val_accuracy > best_val_accuracy):\n",
        "        best_val_accuracy = val_accuracy\n",
        "        best_model = copy.deepcopy(model.state_dict())\n",
        "        best_epoch = epoch\n",
        "\n",
        "    # Log epoch results with tqdm\n",
        "    epoch_time = time.time() - epoch_time\n",
        "    tqdm.write(f\"Epoch {epoch}/{epochs} | Loss: {running_loss:.4f} | \"\n",
        "               f\"Train Acc: {train_accuracy:.3f}% | Val Acc: {val_accuracy:.3f}% | \"\n",
        "               f\"Time: {epoch_time:.2f}s\")\n",
        "\n",
        "model.load_state_dict(best_model)\n",
        "tqdm.write(f'==> Saving model, best one was from epoch {best_epoch}, val_acc = {best_val_accuracy:.3f}%')\n",
        "state = {\n",
        "            'net': model.state_dict(),\n",
        "            'epoch': epoch,\n",
        "        }\n",
        "if not os.path.isdir('checkpoints'):\n",
        "    os.mkdir('checkpoints')\n",
        "torch.save(state, './checkpoints/imagenette_cnn_ckpt.pth')\n",
        "tqdm.write('==> Finished Training ...')"
      ]
    },
    {
      "cell_type": "code",
      "execution_count": null,
      "metadata": {
        "colab": {
          "base_uri": "https://localhost:8080/",
          "height": 1000
        },
        "id": "MvVZ8SZGULdw",
        "outputId": "a43d169b-7c53-487c-c88c-908330bb1035"
      },
      "outputs": [
        {
          "name": "stdout",
          "output_type": "stream",
          "text": [
            "Test Accuracy: 78.716%\n"
          ]
        },
        {
          "data": {
            "image/png": "[encoded data removed]",
            "text/plain": [
              "<Figure size 800x800 with 2 Axes>"
            ]
          },
          "metadata": {},
          "output_type": "display_data"
        },
        {
          "data": {
            "image/png": "[encoded data removed]",
            "text/plain": [
              "<Figure size 1600x600 with 2 Axes>"
            ]
          },
          "metadata": {},
          "output_type": "display_data"
        }
      ],
      "source": [
        "model = ImagenetteCNN().to(device)\n",
        "state = torch.load('./checkpoints/imagenette_cnn_ckpt.pth', map_location=device,weights_only=True)\n",
        "model.load_state_dict(state['net'])\n",
        "\n",
        "test_accuracy, confusion_matrix = calculate_accuracy(model, testloader, device)\n",
        "print(\"Test Accuracy: {:.3f}%\".format(test_accuracy))\n",
        "\n",
        "# --- Confusion Matrix Plot ---\n",
        "classes = ('tench', 'English springer', 'cassette player', 'chain saw',\n",
        "           'church', 'French horn', 'garbage truck', 'gas pump', 'golf ball', 'parachute')\n",
        "\n",
        "plt.figure(figsize=(8, 8))\n",
        "plt.imshow(confusion_matrix, interpolation='nearest', cmap='Blues')\n",
        "plt.colorbar()\n",
        "plt.title('Confusion Matrix')\n",
        "plt.ylabel('Actual Category')\n",
        "plt.xlabel('Predicted Category')\n",
        "plt.xticks(range(10), classes, rotation=45, ha='right')\n",
        "plt.yticks(range(10), classes)\n",
        "plt.tight_layout()\n",
        "plt.show()\n",
        "\n",
        "# --- Loss and Accuracy Curves ---\n",
        "epoch_range = list(range(1, epochs+1))\n",
        "\n",
        "fig, axes = plt.subplots(1, 2, figsize=(16, 6))\n",
        "\n",
        "# Subplot 1: Loss Curve\n",
        "axes[0].plot(epoch_range, losses, marker='o', label='Loss', color='tab:blue')\n",
        "axes[0].set_xlabel('Epochs')\n",
        "axes[0].set_ylabel('Loss')\n",
        "axes[0].set_title('Loss Curve')\n",
        "axes[0].grid(True)\n",
        "axes[0].legend()\n",
        "\n",
        "# Subplot 2: Train vs Validation Accuracy\n",
        "axes[1].plot(epoch_range, train_accuracies, marker='o', label='Train Accuracy', color='tab:green')\n",
        "axes[1].plot(epoch_range, val_accuracies, marker='s', label='Validation Accuracy', color='tab:orange')\n",
        "axes[1].set_xlabel('Epochs')\n",
        "axes[1].set_ylabel('Accuracy')\n",
        "axes[1].set_title('Train vs Validation Accuracy')\n",
        "axes[1].grid(True)\n",
        "axes[1].legend()\n",
        "\n",
        "plt.tight_layout()\n",
        "plt.show()"
      ]
    },
    {
      "cell_type": "markdown",
      "metadata": {
        "id": "92C8iG6EmScE"
      },
      "source": [
        "---\n",
        "4. For the trained classifier, what is the accuracy on the test set when each test image is added a small noise $a=(0.05, 0.01, 0.005)$: $$ \\text{image} + a \\times \\mathcal{N}(0, 1).$$ **Print** the result for each value of $a$."
      ]
    },
    {
      "cell_type": "code",
      "execution_count": 11,
      "metadata": {
        "id": "SY4s90ickh_4"
      },
      "outputs": [],
      "source": [
        "def calculate_accuracy_with_noise(model, dataloader, device, noise_std=0):\n",
        "    model.eval()\n",
        "    total_correct = 0\n",
        "    total_images = 0\n",
        "\n",
        "    with torch.no_grad():\n",
        "        for data in dataloader:\n",
        "            images, labels = data\n",
        "            images, labels = images.to(device), labels.to(device)\n",
        "\n",
        "            if noise_std > 0:\n",
        "                noise = torch.randn_like(images) * noise_std\n",
        "                images = images + noise\n",
        "\n",
        "            outputs = model(images)\n",
        "            _, predicted = torch.max(outputs.data, 1)\n",
        "            total_images += labels.size(0)\n",
        "            total_correct += (predicted == labels).sum().item()\n",
        "\n",
        "    return (total_correct / total_images) * 100"
      ]
    },
    {
      "cell_type": "code",
      "execution_count": 47,
      "metadata": {
        "colab": {
          "base_uri": "https://localhost:8080/"
        },
        "id": "hH0OY3xP7kwv",
        "outputId": "97f211dc-b237-4690-fe45-f65e4c8baead"
      },
      "outputs": [
        {
          "name": "stdout",
          "output_type": "stream",
          "text": [
            "Test accuracies with noise:\n",
            "a=0.05: 77.990%\n",
            "a=0.01: 78.793%\n",
            "a=0.005: 78.716%\n"
          ]
        }
      ],
      "source": [
        "a = [0.05, 0.01, 0.005]\n",
        "test_accuracies = np.zeros_like(a)\n",
        "\n",
        "for i, noise_level in enumerate(a):\n",
        "    noisy_images = []\n",
        "    noisy_labels = []\n",
        "    test_accuracies[i] = calculate_accuracy_with_noise(model, testloader, device, noise_level)\n",
        "\n",
        "print('Test accuracies with noise:')\n",
        "for noise_level, accuracy in zip(a, test_accuracies):\n",
        "    print(f'a={noise_level}: {accuracy:.3f}%')"
      ]
    },
    {
      "cell_type": "markdown",
      "metadata": {
        "id": "vZB6swUwmjBI"
      },
      "source": [
        "---\n",
        "5. Retrain the classifier, but this time use data augementations of your choosing. Briefly explain what augmentation you chose and how it works. Did the test accuracy improve? **Print** the result.\n",
        "    * You can use transformations available in `torchvision.transforms` as shown in the tutorial.\n",
        "    * You are welcome to use <a href=\"https://kornia.github.io/\">`kornia`</a> for the augmentations (**2 points bonus**, maximal grade is still 100).\n",
        "    * **Plot** the loss curves (and any other statistic you want) as a function of epochs/iterations.\n"
      ]
    },
    {
      "cell_type": "code",
      "execution_count": 27,
      "metadata": {
        "colab": {
          "base_uri": "https://localhost:8080/"
        },
        "id": "vHdY-_Idazat",
        "outputId": "dc71a350-284c-4c0d-bd1f-72e980e8ea0f"
      },
      "outputs": [],
      "source": [
        "from kornia import augmentation as K\n",
        "from kornia.augmentation import AugmentationSequential\n",
        "\n",
        "def train_noise_robust_model(model, trainloader, validationloader, device, epochs=40):\n",
        "    criterion = nn.CrossEntropyLoss()\n",
        "    optimizer = torch.optim.Adam(model.parameters(), lr=3e-4)\n",
        "    scheduler = torch.optim.lr_scheduler.CosineAnnealingLR(optimizer, T_max=40, eta_min=1e-6)\n",
        "\n",
        "    # Augmentations\n",
        "    aug_list = AugmentationSequential(\n",
        "        K.RandomHorizontalFlip(p=0.5),\n",
        "        K.ColorJitter(brightness=0.1, contrast=0.1, saturation=0.1, hue=0.05, p=0.5),\n",
        "        K.RandomGaussianNoise(mean=0.0, std=0.02, p=0.5), \n",
        "        K.RandomGaussianBlur(kernel_size=(3, 3), sigma=(0.1, 0.5), p=0.3),          \n",
        "        same_on_batch=False,\n",
        "    )\n",
        "\n",
        "\n",
        "    best_model_state = copy.deepcopy(model.state_dict())\n",
        "    best_val_accuracy = 0.0\n",
        "    val_accuracies_clean = []\n",
        "    val_accuracies_noisy = []\n",
        "    losses = []\n",
        "\n",
        "    for epoch in range(1, epochs + 1):\n",
        "        model.train()\n",
        "        running_loss = 0.0\n",
        "        epoch_time = time.time()\n",
        "\n",
        "        with tqdm(total=len(trainloader), desc=f\"Epoch {epoch}/{epochs}\") as pbar:\n",
        "            for i, data in enumerate(trainloader):\n",
        "                inputs, labels = data\n",
        "                inputs, labels = inputs.to(device), labels.to(device)\n",
        "\n",
        "                # Apply augmentations\n",
        "                inputs = aug_list(inputs)\n",
        "\n",
        "                optimizer.zero_grad()\n",
        "                outputs = model(inputs)\n",
        "                loss = criterion(outputs, labels)\n",
        "                loss.backward()\n",
        "                optimizer.step()\n",
        "\n",
        "                running_loss += loss.item()\n",
        "                pbar.set_postfix(loss=loss.item())\n",
        "                pbar.update(1)\n",
        "\n",
        "        scheduler.step()\n",
        "        running_loss /= len(trainloader)\n",
        "        losses.append(running_loss)\n",
        "\n",
        "        clean_accuracy = calculate_accuracy_with_noise(model, validationloader, device)\n",
        "        noisy_accuracy = calculate_accuracy_with_noise(model, validationloader, device, noise_std=0.1)\n",
        "\n",
        "        avg_accuracy = (clean_accuracy + noisy_accuracy)/2\n",
        "\n",
        "        if avg_accuracy > best_val_accuracy:\n",
        "          best_val_accuracy = avg_accuracy\n",
        "          best_model_state = copy.deepcopy(model.state_dict())\n",
        "\n",
        "        val_accuracies_clean.append(clean_accuracy)\n",
        "        val_accuracies_noisy.append(noisy_accuracy)\n",
        "\n",
        "        epoch_time = time.time() - epoch_time\n",
        "        tqdm.write(f\"Epoch {epoch}/{epochs} | Loss: {running_loss:.4f} | \"\n",
        "                  f\"Clean Val Acc: {clean_accuracy:.3f}% | \"\n",
        "                  f\"Noisy Val Acc: {noisy_accuracy:.3f}%\")\n",
        "\n",
        "    model.load_state_dict(best_model_state)\n",
        "\n",
        "    training_stats = {\n",
        "        'model': model,\n",
        "        'losses': losses,\n",
        "        'clean_accuracies': val_accuracies_clean,\n",
        "        'noisy_accuracies': val_accuracies_noisy\n",
        "    }\n",
        "\n",
        "    return training_stats"
      ]
    },
    {
      "cell_type": "code",
      "execution_count": 28,
      "metadata": {
        "colab": {
          "base_uri": "https://localhost:8080/"
        },
        "id": "euLf0A9PbgnN",
        "outputId": "0f611dc1-e14b-4638-e037-408670ee3531"
      },
      "outputs": [
        {
          "name": "stderr",
          "output_type": "stream",
          "text": [
            "Epoch 1/40:   0%|          | 0/74 [00:00<?, ?it/s]"
          ]
        },
        {
          "name": "stderr",
          "output_type": "stream",
          "text": [
            "Epoch 1/40: 100%|██████████| 74/74 [00:03<00:00, 22.44it/s, loss=2.09]\n"
          ]
        },
        {
          "name": "stdout",
          "output_type": "stream",
          "text": [
            "Epoch 1/40 | Loss: 2.1798 | Clean Val Acc: 30.352% | Noisy Val Acc: 30.122%\n"
          ]
        },
        {
          "name": "stderr",
          "output_type": "stream",
          "text": [
            "Epoch 2/40: 100%|██████████| 74/74 [00:03<00:00, 22.32it/s, loss=1.95]\n"
          ]
        },
        {
          "name": "stdout",
          "output_type": "stream",
          "text": [
            "Epoch 2/40 | Loss: 1.9276 | Clean Val Acc: 38.456% | Noisy Val Acc: 37.691%\n"
          ]
        },
        {
          "name": "stderr",
          "output_type": "stream",
          "text": [
            "Epoch 3/40: 100%|██████████| 74/74 [00:03<00:00, 22.35it/s, loss=1.59]\n"
          ]
        },
        {
          "name": "stdout",
          "output_type": "stream",
          "text": [
            "Epoch 3/40 | Loss: 1.7178 | Clean Val Acc: 45.107% | Noisy Val Acc: 44.419%\n"
          ]
        },
        {
          "name": "stderr",
          "output_type": "stream",
          "text": [
            "Epoch 4/40: 100%|██████████| 74/74 [00:03<00:00, 21.95it/s, loss=1.63]\n"
          ]
        },
        {
          "name": "stdout",
          "output_type": "stream",
          "text": [
            "Epoch 4/40 | Loss: 1.5429 | Clean Val Acc: 52.446% | Noisy Val Acc: 51.529%\n"
          ]
        },
        {
          "name": "stderr",
          "output_type": "stream",
          "text": [
            "Epoch 5/40: 100%|██████████| 74/74 [00:03<00:00, 22.40it/s, loss=1.5] \n"
          ]
        },
        {
          "name": "stdout",
          "output_type": "stream",
          "text": [
            "Epoch 5/40 | Loss: 1.4619 | Clean Val Acc: 59.557% | Noisy Val Acc: 58.410%\n"
          ]
        },
        {
          "name": "stderr",
          "output_type": "stream",
          "text": [
            "Epoch 6/40: 100%|██████████| 74/74 [00:03<00:00, 22.47it/s, loss=1.12]\n"
          ]
        },
        {
          "name": "stdout",
          "output_type": "stream",
          "text": [
            "Epoch 6/40 | Loss: 1.3276 | Clean Val Acc: 63.073% | Noisy Val Acc: 61.774%\n"
          ]
        },
        {
          "name": "stderr",
          "output_type": "stream",
          "text": [
            "Epoch 7/40: 100%|██████████| 74/74 [00:03<00:00, 22.49it/s, loss=1.14]\n"
          ]
        },
        {
          "name": "stdout",
          "output_type": "stream",
          "text": [
            "Epoch 7/40 | Loss: 1.2225 | Clean Val Acc: 62.156% | Noisy Val Acc: 61.468%\n"
          ]
        },
        {
          "name": "stderr",
          "output_type": "stream",
          "text": [
            "Epoch 8/40: 100%|██████████| 74/74 [00:03<00:00, 22.17it/s, loss=1.13] \n"
          ]
        },
        {
          "name": "stdout",
          "output_type": "stream",
          "text": [
            "Epoch 8/40 | Loss: 1.1832 | Clean Val Acc: 64.985% | Noisy Val Acc: 63.303%\n"
          ]
        },
        {
          "name": "stderr",
          "output_type": "stream",
          "text": [
            "Epoch 9/40: 100%|██████████| 74/74 [00:03<00:00, 22.07it/s, loss=1.12] \n"
          ]
        },
        {
          "name": "stdout",
          "output_type": "stream",
          "text": [
            "Epoch 9/40 | Loss: 1.1048 | Clean Val Acc: 66.972% | Noisy Val Acc: 63.456%\n"
          ]
        },
        {
          "name": "stderr",
          "output_type": "stream",
          "text": [
            "Epoch 10/40: 100%|██████████| 74/74 [00:03<00:00, 22.22it/s, loss=1.06] \n"
          ]
        },
        {
          "name": "stdout",
          "output_type": "stream",
          "text": [
            "Epoch 10/40 | Loss: 1.0808 | Clean Val Acc: 69.954% | Noisy Val Acc: 67.890%\n"
          ]
        },
        {
          "name": "stderr",
          "output_type": "stream",
          "text": [
            "Epoch 11/40: 100%|██████████| 74/74 [00:03<00:00, 22.25it/s, loss=1.41] \n"
          ]
        },
        {
          "name": "stdout",
          "output_type": "stream",
          "text": [
            "Epoch 11/40 | Loss: 1.0370 | Clean Val Acc: 68.807% | Noisy Val Acc: 66.437%\n"
          ]
        },
        {
          "name": "stderr",
          "output_type": "stream",
          "text": [
            "Epoch 12/40: 100%|██████████| 74/74 [00:03<00:00, 22.04it/s, loss=1.03] \n"
          ]
        },
        {
          "name": "stdout",
          "output_type": "stream",
          "text": [
            "Epoch 12/40 | Loss: 1.0325 | Clean Val Acc: 70.260% | Noisy Val Acc: 68.731%\n"
          ]
        },
        {
          "name": "stderr",
          "output_type": "stream",
          "text": [
            "Epoch 13/40: 100%|██████████| 74/74 [00:03<00:00, 21.93it/s, loss=0.949]\n"
          ]
        },
        {
          "name": "stdout",
          "output_type": "stream",
          "text": [
            "Epoch 13/40 | Loss: 0.9704 | Clean Val Acc: 71.177% | Noisy Val Acc: 68.119%\n"
          ]
        },
        {
          "name": "stderr",
          "output_type": "stream",
          "text": [
            "Epoch 14/40: 100%|██████████| 74/74 [00:03<00:00, 22.14it/s, loss=1.08] \n"
          ]
        },
        {
          "name": "stdout",
          "output_type": "stream",
          "text": [
            "Epoch 14/40 | Loss: 0.9593 | Clean Val Acc: 71.177% | Noisy Val Acc: 71.942%\n"
          ]
        },
        {
          "name": "stderr",
          "output_type": "stream",
          "text": [
            "Epoch 15/40: 100%|██████████| 74/74 [00:03<00:00, 22.15it/s, loss=1.2]  \n"
          ]
        },
        {
          "name": "stdout",
          "output_type": "stream",
          "text": [
            "Epoch 15/40 | Loss: 0.9479 | Clean Val Acc: 73.242% | Noisy Val Acc: 71.636%\n"
          ]
        },
        {
          "name": "stderr",
          "output_type": "stream",
          "text": [
            "Epoch 16/40: 100%|██████████| 74/74 [00:03<00:00, 22.29it/s, loss=0.817]\n"
          ]
        },
        {
          "name": "stdout",
          "output_type": "stream",
          "text": [
            "Epoch 16/40 | Loss: 0.9001 | Clean Val Acc: 72.936% | Noisy Val Acc: 71.407%\n"
          ]
        },
        {
          "name": "stderr",
          "output_type": "stream",
          "text": [
            "Epoch 17/40: 100%|██████████| 74/74 [00:03<00:00, 22.26it/s, loss=0.77] \n"
          ]
        },
        {
          "name": "stdout",
          "output_type": "stream",
          "text": [
            "Epoch 17/40 | Loss: 0.8826 | Clean Val Acc: 74.541% | Noisy Val Acc: 73.624%\n"
          ]
        },
        {
          "name": "stderr",
          "output_type": "stream",
          "text": [
            "Epoch 18/40: 100%|██████████| 74/74 [00:03<00:00, 22.24it/s, loss=0.883]\n"
          ]
        },
        {
          "name": "stdout",
          "output_type": "stream",
          "text": [
            "Epoch 18/40 | Loss: 0.8533 | Clean Val Acc: 74.312% | Noisy Val Acc: 74.465%\n"
          ]
        },
        {
          "name": "stderr",
          "output_type": "stream",
          "text": [
            "Epoch 19/40: 100%|██████████| 74/74 [00:03<00:00, 22.29it/s, loss=0.813]\n"
          ]
        },
        {
          "name": "stdout",
          "output_type": "stream",
          "text": [
            "Epoch 19/40 | Loss: 0.8328 | Clean Val Acc: 75.917% | Noisy Val Acc: 75.000%\n"
          ]
        },
        {
          "name": "stderr",
          "output_type": "stream",
          "text": [
            "Epoch 20/40: 100%|██████████| 74/74 [00:03<00:00, 21.91it/s, loss=0.829]\n"
          ]
        },
        {
          "name": "stdout",
          "output_type": "stream",
          "text": [
            "Epoch 20/40 | Loss: 0.8101 | Clean Val Acc: 75.994% | Noisy Val Acc: 74.159%\n"
          ]
        },
        {
          "name": "stderr",
          "output_type": "stream",
          "text": [
            "Epoch 21/40: 100%|██████████| 74/74 [00:03<00:00, 22.44it/s, loss=0.691]\n"
          ]
        },
        {
          "name": "stdout",
          "output_type": "stream",
          "text": [
            "Epoch 21/40 | Loss: 0.7921 | Clean Val Acc: 76.070% | Noisy Val Acc: 74.847%\n"
          ]
        },
        {
          "name": "stderr",
          "output_type": "stream",
          "text": [
            "Epoch 22/40: 100%|██████████| 74/74 [00:03<00:00, 21.91it/s, loss=0.713]\n"
          ]
        },
        {
          "name": "stdout",
          "output_type": "stream",
          "text": [
            "Epoch 22/40 | Loss: 0.7922 | Clean Val Acc: 76.529% | Noisy Val Acc: 75.688%\n"
          ]
        },
        {
          "name": "stderr",
          "output_type": "stream",
          "text": [
            "Epoch 23/40: 100%|██████████| 74/74 [00:03<00:00, 21.85it/s, loss=0.669]\n"
          ]
        },
        {
          "name": "stdout",
          "output_type": "stream",
          "text": [
            "Epoch 23/40 | Loss: 0.7266 | Clean Val Acc: 76.988% | Noisy Val Acc: 76.376%\n"
          ]
        },
        {
          "name": "stderr",
          "output_type": "stream",
          "text": [
            "Epoch 24/40: 100%|██████████| 74/74 [00:03<00:00, 22.28it/s, loss=0.771]\n"
          ]
        },
        {
          "name": "stdout",
          "output_type": "stream",
          "text": [
            "Epoch 24/40 | Loss: 0.7382 | Clean Val Acc: 75.917% | Noisy Val Acc: 72.706%\n"
          ]
        },
        {
          "name": "stderr",
          "output_type": "stream",
          "text": [
            "Epoch 25/40: 100%|██████████| 74/74 [00:03<00:00, 22.34it/s, loss=0.641]\n"
          ]
        },
        {
          "name": "stdout",
          "output_type": "stream",
          "text": [
            "Epoch 25/40 | Loss: 0.7102 | Clean Val Acc: 75.917% | Noisy Val Acc: 73.853%\n"
          ]
        },
        {
          "name": "stderr",
          "output_type": "stream",
          "text": [
            "Epoch 26/40: 100%|██████████| 74/74 [00:03<00:00, 22.29it/s, loss=0.796]\n"
          ]
        },
        {
          "name": "stdout",
          "output_type": "stream",
          "text": [
            "Epoch 26/40 | Loss: 0.6977 | Clean Val Acc: 77.523% | Noisy Val Acc: 77.370%\n"
          ]
        },
        {
          "name": "stderr",
          "output_type": "stream",
          "text": [
            "Epoch 27/40: 100%|██████████| 74/74 [00:03<00:00, 22.27it/s, loss=0.55] \n"
          ]
        },
        {
          "name": "stdout",
          "output_type": "stream",
          "text": [
            "Epoch 27/40 | Loss: 0.6762 | Clean Val Acc: 77.982% | Noisy Val Acc: 76.682%\n"
          ]
        },
        {
          "name": "stderr",
          "output_type": "stream",
          "text": [
            "Epoch 28/40: 100%|██████████| 74/74 [00:03<00:00, 21.98it/s, loss=0.739]\n"
          ]
        },
        {
          "name": "stdout",
          "output_type": "stream",
          "text": [
            "Epoch 28/40 | Loss: 0.6527 | Clean Val Acc: 78.976% | Noisy Val Acc: 77.523%\n"
          ]
        },
        {
          "name": "stderr",
          "output_type": "stream",
          "text": [
            "Epoch 29/40: 100%|██████████| 74/74 [00:03<00:00, 22.38it/s, loss=0.714]\n"
          ]
        },
        {
          "name": "stdout",
          "output_type": "stream",
          "text": [
            "Epoch 29/40 | Loss: 0.6392 | Clean Val Acc: 79.969% | Noisy Val Acc: 77.982%\n"
          ]
        },
        {
          "name": "stderr",
          "output_type": "stream",
          "text": [
            "Epoch 30/40: 100%|██████████| 74/74 [00:03<00:00, 22.11it/s, loss=0.585]\n"
          ]
        },
        {
          "name": "stdout",
          "output_type": "stream",
          "text": [
            "Epoch 30/40 | Loss: 0.6213 | Clean Val Acc: 78.976% | Noisy Val Acc: 76.758%\n"
          ]
        },
        {
          "name": "stderr",
          "output_type": "stream",
          "text": [
            "Epoch 31/40: 100%|██████████| 74/74 [00:03<00:00, 22.31it/s, loss=0.59] \n"
          ]
        },
        {
          "name": "stdout",
          "output_type": "stream",
          "text": [
            "Epoch 31/40 | Loss: 0.6090 | Clean Val Acc: 79.358% | Noisy Val Acc: 78.593%\n"
          ]
        },
        {
          "name": "stderr",
          "output_type": "stream",
          "text": [
            "Epoch 32/40: 100%|██████████| 74/74 [00:03<00:00, 22.30it/s, loss=0.528]\n"
          ]
        },
        {
          "name": "stdout",
          "output_type": "stream",
          "text": [
            "Epoch 32/40 | Loss: 0.5887 | Clean Val Acc: 79.358% | Noisy Val Acc: 78.746%\n"
          ]
        },
        {
          "name": "stderr",
          "output_type": "stream",
          "text": [
            "Epoch 33/40: 100%|██████████| 74/74 [00:03<00:00, 22.33it/s, loss=0.615]\n"
          ]
        },
        {
          "name": "stdout",
          "output_type": "stream",
          "text": [
            "Epoch 33/40 | Loss: 0.5836 | Clean Val Acc: 79.664% | Noisy Val Acc: 78.440%\n"
          ]
        },
        {
          "name": "stderr",
          "output_type": "stream",
          "text": [
            "Epoch 34/40: 100%|██████████| 74/74 [00:03<00:00, 22.31it/s, loss=0.613]\n"
          ]
        },
        {
          "name": "stdout",
          "output_type": "stream",
          "text": [
            "Epoch 34/40 | Loss: 0.5659 | Clean Val Acc: 79.358% | Noisy Val Acc: 78.287%\n"
          ]
        },
        {
          "name": "stderr",
          "output_type": "stream",
          "text": [
            "Epoch 35/40: 100%|██████████| 74/74 [00:03<00:00, 21.95it/s, loss=0.565]\n"
          ]
        },
        {
          "name": "stdout",
          "output_type": "stream",
          "text": [
            "Epoch 35/40 | Loss: 0.5663 | Clean Val Acc: 79.281% | Noisy Val Acc: 78.746%\n"
          ]
        },
        {
          "name": "stderr",
          "output_type": "stream",
          "text": [
            "Epoch 36/40: 100%|██████████| 74/74 [00:03<00:00, 22.35it/s, loss=0.444]\n"
          ]
        },
        {
          "name": "stdout",
          "output_type": "stream",
          "text": [
            "Epoch 36/40 | Loss: 0.5472 | Clean Val Acc: 80.199% | Noisy Val Acc: 79.128%\n"
          ]
        },
        {
          "name": "stderr",
          "output_type": "stream",
          "text": [
            "Epoch 37/40: 100%|██████████| 74/74 [00:03<00:00, 22.23it/s, loss=0.451]\n"
          ]
        },
        {
          "name": "stdout",
          "output_type": "stream",
          "text": [
            "Epoch 37/40 | Loss: 0.5400 | Clean Val Acc: 80.046% | Noisy Val Acc: 79.358%\n"
          ]
        },
        {
          "name": "stderr",
          "output_type": "stream",
          "text": [
            "Epoch 38/40: 100%|██████████| 74/74 [00:03<00:00, 22.29it/s, loss=0.484]\n"
          ]
        },
        {
          "name": "stdout",
          "output_type": "stream",
          "text": [
            "Epoch 38/40 | Loss: 0.5384 | Clean Val Acc: 79.969% | Noisy Val Acc: 79.434%\n"
          ]
        },
        {
          "name": "stderr",
          "output_type": "stream",
          "text": [
            "Epoch 39/40: 100%|██████████| 74/74 [00:03<00:00, 22.27it/s, loss=0.544]\n"
          ]
        },
        {
          "name": "stdout",
          "output_type": "stream",
          "text": [
            "Epoch 39/40 | Loss: 0.5242 | Clean Val Acc: 80.505% | Noisy Val Acc: 79.434%\n"
          ]
        },
        {
          "name": "stderr",
          "output_type": "stream",
          "text": [
            "Epoch 40/40: 100%|██████████| 74/74 [00:03<00:00, 22.59it/s, loss=0.582]\n"
          ]
        },
        {
          "name": "stdout",
          "output_type": "stream",
          "text": [
            "Epoch 40/40 | Loss: 0.5363 | Clean Val Acc: 80.352% | Noisy Val Acc: 79.587%\n"
          ]
        }
      ],
      "source": [
        "# Setup for training\n",
        "mode_robust = ImagenetteCNN().to(device)\n",
        "training_stats = train_noise_robust_model(mode_robust, trainloader, validationloader, device, epochs=40)\n",
        "model_robust = training_stats['model']\n",
        "\n",
        "# Save the model\n",
        "if not os.path.isdir('checkpoints'):\n",
        "    os.mkdir('checkpoints')\n",
        "torch.save({\n",
        "    'net': model_robust.state_dict()\n",
        "}, './checkpoints/imagenette_cnn_robust.pth')"
      ]
    },
    {
      "cell_type": "code",
      "execution_count": 31,
      "metadata": {},
      "outputs": [
        {
          "data": {
            "image/png": "[encoded data removed]",
            "text/plain": [
              "<Figure size 1600x600 with 2 Axes>"
            ]
          },
          "metadata": {},
          "output_type": "display_data"
        }
      ],
      "source": [
        "# --- Losses and Clean vs Noisy Val Accuracy Curves ---\n",
        "epoch_range = list(range(1, epochs+1))\n",
        "\n",
        "fig, axes = plt.subplots(1, 2, figsize=(16, 6))\n",
        "\n",
        "# Subplot 1: Loss Curve\n",
        "axes[0].plot(epoch_range, training_stats['losses'], marker='o', label='Loss', color='tab:blue')\n",
        "axes[0].set_xlabel('Epochs')\n",
        "axes[0].set_ylabel('Loss')\n",
        "axes[0].set_title('Loss Curve')\n",
        "axes[0].grid(True)\n",
        "axes[0].legend()\n",
        "\n",
        "# Subplot 2: Train vs Validation Accuracy\n",
        "axes[1].plot(epoch_range, training_stats['clean_accuracies'], marker='o', label='Validation Clean Accuracy', color='tab:green')\n",
        "axes[1].plot(epoch_range, training_stats['noisy_accuracies'], marker='s', label='Validation Noisy Accuracy', color='tab:orange')\n",
        "axes[1].set_xlabel('Epochs')\n",
        "axes[1].set_ylabel('Accuracy')\n",
        "axes[1].set_title('Clean vs Noisy Validation Accuracy')\n",
        "axes[1].grid(True)\n",
        "axes[1].legend()\n",
        "\n",
        "plt.tight_layout()\n",
        "plt.show()"
      ]
    },
    {
      "cell_type": "code",
      "execution_count": 44,
      "metadata": {
        "colab": {
          "base_uri": "https://localhost:8080/"
        },
        "id": "bkZ6c7eoiwJt",
        "outputId": "a81ca2fc-c090-45ad-a487-9d51c755eeae"
      },
      "outputs": [
        {
          "name": "stdout",
          "output_type": "stream",
          "text": [
            "\n",
            "Testing with different noise levels:\n",
            "\tNoise level 0.05: 78.26%\n",
            "\tNoise level 0.01: 78.45%\n",
            "\tNoise level 0.005: 78.53%\n",
            "\tNoise level 0.001: 78.49%\n",
            "\tNoise level 0: 78.49%\n"
          ]
        }
      ],
      "source": [
        "model_robust = ImagenetteCNN().to(device)\n",
        "state = torch.load('./checkpoints/imagenette_cnn_robust.pth', map_location=device,weights_only=True)\n",
        "model_robust.load_state_dict(state['net'])\n",
        "\n",
        "# Test with different noise levels\n",
        "noise_levels = [0.05, 0.01, 0.005, 0.001, 0]\n",
        "print(\"\\nTesting with different noise levels:\")\n",
        "for noise_level in noise_levels:\n",
        "    accuracy = calculate_accuracy_with_noise(model_robust, testloader, device, noise_level)\n",
        "    print(f\"\\tNoise level {noise_level}: {accuracy:.2f}%\")"
      ]
    },
    {
      "cell_type": "markdown",
      "metadata": {},
      "source": [
        "---\n",
        "#### Data Augmentations\n",
        "\n",
        "We want to train our model such that it will be able to handle some noise.\n",
        "too much noise during training can hurt the learning of important features.\n",
        "\n",
        "These are the augmentation we chose:\n",
        "\n",
        "1. $RandomHorizontalFlip(p=0.5)$\n",
        "    Randomly flips the image left-to-right with 50% probability.\n",
        "    This helps the model learn that objects are the same regardless of their position.\n",
        "\n",
        "\n",
        "2. $ColorJitter(brightness=0.1, contrast=0.1, saturation=0.1, hue=0.05, p=0.5)$\n",
        "    Randomly adjusts the image's brightness, contrast, saturation and hue within the specified ranges with 50% probability.\n",
        "    This helps the model habdle variations in lighting and color conditions.\n",
        "\n",
        "3. $RandomGaussianNoise(mean=0.0, std=0.02, p=0.5)$\n",
        "    Adds random noise to pixels following a Gaussian distribution (centered at 0 with std 0.02) with 50% probability.\n",
        "    This helps the model to handle noisy inputs.\n",
        "\n",
        "4. $RandomGaussianBlur(kernel_size=(3, 3), sigma=(0.1, 0.5), p=0.3)$\n",
        "    Applies Gaussian blur with a random strength (sigma) between 0.1 and 0.5 with 30% probability.\n",
        "    This helps the model to become more robust to both blur and noise.\n",
        "\n",
        "The results showed a slight improvement with noisy test (~0.3%) but decrease in clean test accuracy in the same weight, this make sence because we are essentially trading off some performance on clean images to gain robustness against noise."
      ]
    },
    {
      "cell_type": "markdown",
      "metadata": {
        "id": "4MZ2ojmqo3Vf"
      },
      "source": [
        "## <img src=\"https://img.icons8.com/dusk/64/000000/prize.png\" style=\"height:50px;display:inline\"> Credits\n",
        "---\n",
        "* Icons made by <a href=\"https://www.flaticon.com/authors/becris\" title=\"Becris\">Becris</a> from <a href=\"https://www.flaticon.com/\" title=\"Flaticon\">www.flaticon.com</a>\n",
        "* Icons from <a href=\"https://icons8.com/\">Icons8.com</a> - https://icons8.com\n",
        "* Datasets from <a href=\"https://www.kaggle.com/\">Kaggle</a> - https://www.kaggle.com/"
      ]
    }
  ],
  "metadata": {
    "accelerator": "GPU",
    "colab": {
      "gpuType": "T4",
      "provenance": []
    },
    "kernelspec": {
      "display_name": "deep",
      "language": "python",
      "name": "python3"
    },
    "language_info": {
      "codemirror_mode": {
        "name": "ipython",
        "version": 3
      },
      "file_extension": ".py",
      "mimetype": "text/x-python",
      "name": "python",
      "nbconvert_exporter": "python",
      "pygments_lexer": "ipython3",
      "version": "3.9.21"
    }
  },
  "nbformat": 4,
  "nbformat_minor": 0
}
